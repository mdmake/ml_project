{
 "cells": [
  {
   "cell_type": "markdown",
   "metadata": {},
   "source": [
    "# Определение перспективного тарифа для телеком-компании\n",
    "\n",
    "\n",
    "### Описание проекта\n",
    "\n",
    "\n",
    "Вы аналитик компании «Мегалайн» — федерального оператора сотовой связи. Клиентам предлагают два тарифных плана: «Смарт» и «Ультра». Чтобы скорректировать рекламный бюджет, коммерческий департамент хочет понять, какой тариф приносит больше денег.\n",
    "Вам предстоит сделать предварительный анализ тарифов на небольшой выборке клиентов. В вашем распоряжении данные 500 пользователей «Мегалайна»: кто они, откуда, каким тарифом пользуются, сколько звонков и сообщений каждый отправил за 2018 год. Нужно проанализировать поведение клиентов и сделать вывод — какой тариф лучше.\n",
    "\n",
    "### Описание тарифов\n",
    "\n",
    "#### Тариф «Смарт»\n",
    "\n",
    "1. Ежемесячная плата: 550 рублей\n",
    "2. Включено 500 минут разговора, 50 сообщений и 15 Гб интернет-трафика\n",
    "3. Стоимость услуг сверх тарифного пакета:\n",
    "    - минута разговора: 3 рубля\n",
    "    - сообщение: 3 рубля\n",
    "    - 1 Гб интернет-трафика: 200 рублей\n",
    "    \n",
    "### Тариф «Ультра»\n",
    "1. Ежемесячная плата: 1950 рублей\n",
    "2. Включено 3000 минут разговора, 1000 сообщений и 30 Гб интернет-трафика\n",
    "3. Стоимость услуг сверх тарифного пакета:\n",
    "    - минута разговора: 1 рубль\n",
    "    - сообщение: 1 рубль\n",
    "    - 1 Гб интернет-трафика: 150 рублей\n",
    "    \n",
    "    \n",
    "__Примечание:__\n",
    "\n",
    "`\n",
    "«Мегалайн» всегда округляет секунды до минут, а мегабайты — до гигабайт. Каждый звонок округляется отдельно: даже если он длился всего 1 секунду, будет засчитан как 1 минута.\n",
    "Для веб-трафика отдельные сессии не считаются. Вместо этого общая сумма за месяц округляется в бо́льшую сторону. Если абонент использует 1025 мегабайт в этом месяце, с него возьмут плату за 2 гигабайта. Примите, что неиспользованные за предыдущий месяц звонки, смс, интернет на следующий месяц не переносятся.\n",
    "`\n",
    "\n",
    "\n"
   ]
  },
  {
   "cell_type": "code",
   "execution_count": 1,
   "metadata": {},
   "outputs": [],
   "source": [
    "import pandas as pd\n",
    "import numpy as np\n",
    "import matplotlib.pyplot as plt\n",
    "from scipy import stats as st"
   ]
  },
  {
   "cell_type": "markdown",
   "metadata": {},
   "source": [
    "## Подготовка данных"
   ]
  },
  {
   "cell_type": "code",
   "execution_count": 2,
   "metadata": {},
   "outputs": [],
   "source": [
    "users_df = pd.read_csv('/datasets/users.csv')\n",
    "calls_df = pd.read_csv('/datasets/calls.csv')\n",
    "messages_df = pd.read_csv('/datasets/messages.csv')\n",
    "internet_df = pd.read_csv('/datasets/internet.csv')\n",
    "tariffs_df = pd.read_csv('/datasets/tariffs.csv')"
   ]
  },
  {
   "cell_type": "markdown",
   "metadata": {},
   "source": [
    "Напишем функцию для выдачи стандартной инфорамции о датасете"
   ]
  },
  {
   "cell_type": "code",
   "execution_count": 3,
   "metadata": {},
   "outputs": [],
   "source": [
    "def describe_dataset(data: pd.DataFrame):\n",
    "    print(data.info())\n",
    "    print('\\n')\n",
    "    print(data.describe())\n",
    "    print('\\n')\n",
    "\n",
    "    print('Количество дубликатов: ', data.duplicated().sum())\n",
    "    print('\\n')\n",
    "\n",
    "    data.head()"
   ]
  },
  {
   "cell_type": "markdown",
   "metadata": {},
   "source": [
    "### Таблица users (информация о пользователях):\n",
    "- user_id — уникальный идентификатор пользователя\n",
    "- first_name — имя пользователя\n",
    "- last_name — фамилия пользователя\n",
    "- age — возраст пользователя (годы)\n",
    "- reg_date — дата подключения тарифа (день, месяц, год)\n",
    "- churn_date — дата прекращения пользования тарифом (если значение пропущено, то тариф ещё действовал на момент выгрузки данных)\n",
    "- city — город проживания пользователя\n",
    "- tariff — название тарифного плана"
   ]
  },
  {
   "cell_type": "code",
   "execution_count": 4,
   "metadata": {},
   "outputs": [
    {
     "name": "stdout",
     "output_type": "stream",
     "text": [
      "<class 'pandas.core.frame.DataFrame'>\n",
      "RangeIndex: 500 entries, 0 to 499\n",
      "Data columns (total 8 columns):\n",
      " #   Column      Non-Null Count  Dtype \n",
      "---  ------      --------------  ----- \n",
      " 0   user_id     500 non-null    int64 \n",
      " 1   age         500 non-null    int64 \n",
      " 2   churn_date  38 non-null     object\n",
      " 3   city        500 non-null    object\n",
      " 4   first_name  500 non-null    object\n",
      " 5   last_name   500 non-null    object\n",
      " 6   reg_date    500 non-null    object\n",
      " 7   tariff      500 non-null    object\n",
      "dtypes: int64(2), object(6)\n",
      "memory usage: 31.4+ KB\n",
      "None\n",
      "\n",
      "\n",
      "           user_id        age\n",
      "count   500.000000  500.00000\n",
      "mean   1249.500000   46.58800\n",
      "std     144.481833   16.66763\n",
      "min    1000.000000   18.00000\n",
      "25%    1124.750000   32.00000\n",
      "50%    1249.500000   46.00000\n",
      "75%    1374.250000   62.00000\n",
      "max    1499.000000   75.00000\n",
      "\n",
      "\n",
      "Количество дубликатов:  0\n",
      "\n",
      "\n"
     ]
    }
   ],
   "source": [
    "describe_dataset(users_df)"
   ]
  },
  {
   "cell_type": "code",
   "execution_count": 5,
   "metadata": {},
   "outputs": [
    {
     "data": {
      "text/html": [
       "<div>\n",
       "<style scoped>\n",
       "    .dataframe tbody tr th:only-of-type {\n",
       "        vertical-align: middle;\n",
       "    }\n",
       "\n",
       "    .dataframe tbody tr th {\n",
       "        vertical-align: top;\n",
       "    }\n",
       "\n",
       "    .dataframe thead th {\n",
       "        text-align: right;\n",
       "    }\n",
       "</style>\n",
       "<table border=\"1\" class=\"dataframe\">\n",
       "  <thead>\n",
       "    <tr style=\"text-align: right;\">\n",
       "      <th></th>\n",
       "      <th>user_id</th>\n",
       "      <th>age</th>\n",
       "      <th>churn_date</th>\n",
       "      <th>city</th>\n",
       "      <th>first_name</th>\n",
       "      <th>last_name</th>\n",
       "      <th>reg_date</th>\n",
       "      <th>tariff</th>\n",
       "    </tr>\n",
       "  </thead>\n",
       "  <tbody>\n",
       "    <tr>\n",
       "      <th>0</th>\n",
       "      <td>1000</td>\n",
       "      <td>52</td>\n",
       "      <td>NaN</td>\n",
       "      <td>Краснодар</td>\n",
       "      <td>Рафаил</td>\n",
       "      <td>Верещагин</td>\n",
       "      <td>2018-05-25</td>\n",
       "      <td>ultra</td>\n",
       "    </tr>\n",
       "    <tr>\n",
       "      <th>1</th>\n",
       "      <td>1001</td>\n",
       "      <td>41</td>\n",
       "      <td>NaN</td>\n",
       "      <td>Москва</td>\n",
       "      <td>Иван</td>\n",
       "      <td>Ежов</td>\n",
       "      <td>2018-11-01</td>\n",
       "      <td>smart</td>\n",
       "    </tr>\n",
       "    <tr>\n",
       "      <th>2</th>\n",
       "      <td>1002</td>\n",
       "      <td>59</td>\n",
       "      <td>NaN</td>\n",
       "      <td>Стерлитамак</td>\n",
       "      <td>Евгений</td>\n",
       "      <td>Абрамович</td>\n",
       "      <td>2018-06-17</td>\n",
       "      <td>smart</td>\n",
       "    </tr>\n",
       "    <tr>\n",
       "      <th>3</th>\n",
       "      <td>1003</td>\n",
       "      <td>23</td>\n",
       "      <td>NaN</td>\n",
       "      <td>Москва</td>\n",
       "      <td>Белла</td>\n",
       "      <td>Белякова</td>\n",
       "      <td>2018-08-17</td>\n",
       "      <td>ultra</td>\n",
       "    </tr>\n",
       "    <tr>\n",
       "      <th>4</th>\n",
       "      <td>1004</td>\n",
       "      <td>68</td>\n",
       "      <td>NaN</td>\n",
       "      <td>Новокузнецк</td>\n",
       "      <td>Татьяна</td>\n",
       "      <td>Авдеенко</td>\n",
       "      <td>2018-05-14</td>\n",
       "      <td>ultra</td>\n",
       "    </tr>\n",
       "  </tbody>\n",
       "</table>\n",
       "</div>"
      ],
      "text/plain": [
       "   user_id  age churn_date         city first_name  last_name    reg_date  \\\n",
       "0     1000   52        NaN    Краснодар     Рафаил  Верещагин  2018-05-25   \n",
       "1     1001   41        NaN       Москва       Иван       Ежов  2018-11-01   \n",
       "2     1002   59        NaN  Стерлитамак    Евгений  Абрамович  2018-06-17   \n",
       "3     1003   23        NaN       Москва      Белла   Белякова  2018-08-17   \n",
       "4     1004   68        NaN  Новокузнецк    Татьяна   Авдеенко  2018-05-14   \n",
       "\n",
       "  tariff  \n",
       "0  ultra  \n",
       "1  smart  \n",
       "2  smart  \n",
       "3  ultra  \n",
       "4  ultra  "
      ]
     },
     "execution_count": 5,
     "metadata": {},
     "output_type": "execute_result"
    }
   ],
   "source": [
    "users_df.head()"
   ]
  },
  {
   "cell_type": "code",
   "execution_count": 6,
   "metadata": {},
   "outputs": [],
   "source": [
    "# Поправим формат дат\n",
    "users_df['reg_date'] = pd.to_datetime(users_df['reg_date'], format='%Y-%m-%d')"
   ]
  },
  {
   "cell_type": "code",
   "execution_count": 7,
   "metadata": {},
   "outputs": [
    {
     "data": {
      "text/plain": [
       "array(['Краснодар', 'Москва', 'Стерлитамак', 'Новокузнецк',\n",
       "       'Набережные Челны', 'Ульяновск', 'Челябинск', 'Пермь', 'Тюмень',\n",
       "       'Самара', 'Санкт-Петербург', 'Иваново', 'Чебоксары', 'Омск', 'Уфа',\n",
       "       'Томск', 'Чита', 'Мурманск', 'Петрозаводск', 'Тверь',\n",
       "       'Екатеринбург', 'Махачкала', 'Вологда', 'Череповец', 'Ярославль',\n",
       "       'Сочи', 'Хабаровск', 'Ставрополь', 'Рязань', 'Улан-Удэ', 'Тула',\n",
       "       'Саратов', 'Ростов-на-Дону', 'Казань', 'Иркутск', 'Курск',\n",
       "       'Калуга', 'Якутск', 'Астрахань', 'Химки', 'Владикавказ',\n",
       "       'Волгоград', 'Саранск', 'Ижевск', 'Новосибирск', 'Брянск',\n",
       "       'Тольятти', 'Нижний Тагил', 'Орёл', 'Белгород', 'Воронеж',\n",
       "       'Волжский', 'Курган', 'Барнаул', 'Красноярск', 'Архангельск',\n",
       "       'Липецк', 'Кемерово', 'Киров', 'Сургут', 'Пенза', 'Магнитогорск',\n",
       "       'Нижний Новгород', 'Кострома', 'Владивосток', 'Тамбов', 'Балашиха',\n",
       "       'Севастополь', 'Калининград', 'Оренбург', 'Смоленск',\n",
       "       'Нижневартовск', 'Владимир', 'Новороссийск', 'Грозный', 'Подольск'],\n",
       "      dtype=object)"
      ]
     },
     "execution_count": 7,
     "metadata": {},
     "output_type": "execute_result"
    }
   ],
   "source": [
    "# проверим что с названиями городов все хорошо\n",
    "users_df['city'].unique()"
   ]
  },
  {
   "cell_type": "code",
   "execution_count": 8,
   "metadata": {},
   "outputs": [
    {
     "data": {
      "image/png": "[encoded data removed]",
      "text/plain": [
       "<Figure size 432x288 with 1 Axes>"
      ]
     },
     "metadata": {
      "needs_background": "light"
     },
     "output_type": "display_data"
    }
   ],
   "source": [
    "users_df['age'].plot(kind='hist', bins=30)\n",
    "plt.show()"
   ]
  },
  {
   "cell_type": "markdown",
   "metadata": {},
   "source": [
    "### Таблица calls (информация о звонках):\n",
    "- id — уникальный номер звонка\n",
    "- call_date — дата звонка\n",
    "- duration — длительность звонка в минутах\n",
    "- user_id — идентификатор пользователя, сделавшего звонок"
   ]
  },
  {
   "cell_type": "code",
   "execution_count": 9,
   "metadata": {},
   "outputs": [
    {
     "name": "stdout",
     "output_type": "stream",
     "text": [
      "<class 'pandas.core.frame.DataFrame'>\n",
      "RangeIndex: 202607 entries, 0 to 202606\n",
      "Data columns (total 4 columns):\n",
      " #   Column     Non-Null Count   Dtype  \n",
      "---  ------     --------------   -----  \n",
      " 0   id         202607 non-null  object \n",
      " 1   call_date  202607 non-null  object \n",
      " 2   duration   202607 non-null  float64\n",
      " 3   user_id    202607 non-null  int64  \n",
      "dtypes: float64(1), int64(1), object(2)\n",
      "memory usage: 6.2+ MB\n",
      "None\n",
      "\n",
      "\n",
      "            duration        user_id\n",
      "count  202607.000000  202607.000000\n",
      "mean        6.755887    1253.940619\n",
      "std         5.843365     144.722751\n",
      "min         0.000000    1000.000000\n",
      "25%         1.300000    1126.000000\n",
      "50%         6.000000    1260.000000\n",
      "75%        10.700000    1379.000000\n",
      "max        38.000000    1499.000000\n",
      "\n",
      "\n",
      "Количество дубликатов:  0\n",
      "\n",
      "\n"
     ]
    }
   ],
   "source": [
    "describe_dataset(calls_df)"
   ]
  },
  {
   "cell_type": "code",
   "execution_count": 10,
   "metadata": {},
   "outputs": [
    {
     "data": {
      "text/html": [
       "<div>\n",
       "<style scoped>\n",
       "    .dataframe tbody tr th:only-of-type {\n",
       "        vertical-align: middle;\n",
       "    }\n",
       "\n",
       "    .dataframe tbody tr th {\n",
       "        vertical-align: top;\n",
       "    }\n",
       "\n",
       "    .dataframe thead th {\n",
       "        text-align: right;\n",
       "    }\n",
       "</style>\n",
       "<table border=\"1\" class=\"dataframe\">\n",
       "  <thead>\n",
       "    <tr style=\"text-align: right;\">\n",
       "      <th></th>\n",
       "      <th>id</th>\n",
       "      <th>call_date</th>\n",
       "      <th>duration</th>\n",
       "      <th>user_id</th>\n",
       "    </tr>\n",
       "  </thead>\n",
       "  <tbody>\n",
       "    <tr>\n",
       "      <th>0</th>\n",
       "      <td>1000_0</td>\n",
       "      <td>2018-07-25</td>\n",
       "      <td>0.00</td>\n",
       "      <td>1000</td>\n",
       "    </tr>\n",
       "    <tr>\n",
       "      <th>1</th>\n",
       "      <td>1000_1</td>\n",
       "      <td>2018-08-17</td>\n",
       "      <td>0.00</td>\n",
       "      <td>1000</td>\n",
       "    </tr>\n",
       "    <tr>\n",
       "      <th>2</th>\n",
       "      <td>1000_2</td>\n",
       "      <td>2018-06-11</td>\n",
       "      <td>2.85</td>\n",
       "      <td>1000</td>\n",
       "    </tr>\n",
       "    <tr>\n",
       "      <th>3</th>\n",
       "      <td>1000_3</td>\n",
       "      <td>2018-09-21</td>\n",
       "      <td>13.80</td>\n",
       "      <td>1000</td>\n",
       "    </tr>\n",
       "    <tr>\n",
       "      <th>4</th>\n",
       "      <td>1000_4</td>\n",
       "      <td>2018-12-15</td>\n",
       "      <td>5.18</td>\n",
       "      <td>1000</td>\n",
       "    </tr>\n",
       "  </tbody>\n",
       "</table>\n",
       "</div>"
      ],
      "text/plain": [
       "       id   call_date  duration  user_id\n",
       "0  1000_0  2018-07-25      0.00     1000\n",
       "1  1000_1  2018-08-17      0.00     1000\n",
       "2  1000_2  2018-06-11      2.85     1000\n",
       "3  1000_3  2018-09-21     13.80     1000\n",
       "4  1000_4  2018-12-15      5.18     1000"
      ]
     },
     "execution_count": 10,
     "metadata": {},
     "output_type": "execute_result"
    }
   ],
   "source": [
    "calls_df.head()"
   ]
  },
  {
   "cell_type": "code",
   "execution_count": 11,
   "metadata": {},
   "outputs": [],
   "source": [
    "# Поправим формат дат\n",
    "calls_df['call_date'] = pd.to_datetime(calls_df['call_date'], format='%Y-%m-%d')"
   ]
  },
  {
   "cell_type": "code",
   "execution_count": 12,
   "metadata": {},
   "outputs": [
    {
     "data": {
      "image/png": "[encoded data removed]",
      "text/plain": [
       "<Figure size 432x288 with 1 Axes>"
      ]
     },
     "metadata": {
      "needs_background": "light"
     },
     "output_type": "display_data"
    }
   ],
   "source": [
    "calls_df['duration'].plot(kind='hist', bins=30)\n",
    "plt.show()"
   ]
  },
  {
   "cell_type": "markdown",
   "metadata": {},
   "source": [
    "Округлим время звонка вверх, согласно тарифу"
   ]
  },
  {
   "cell_type": "code",
   "execution_count": 13,
   "metadata": {},
   "outputs": [],
   "source": [
    "calls_df['duration'] = np.ceil(calls_df['duration']).astype('int')"
   ]
  },
  {
   "cell_type": "markdown",
   "metadata": {},
   "source": [
    "### Таблица messages (информация о сообщениях):\n",
    "- id — уникальный номер сообщения\n",
    "- message_date — дата сообщения\n",
    "- user_id — идентификатор пользователя, отправившего сообщение"
   ]
  },
  {
   "cell_type": "code",
   "execution_count": 14,
   "metadata": {},
   "outputs": [
    {
     "name": "stdout",
     "output_type": "stream",
     "text": [
      "<class 'pandas.core.frame.DataFrame'>\n",
      "RangeIndex: 123036 entries, 0 to 123035\n",
      "Data columns (total 3 columns):\n",
      " #   Column        Non-Null Count   Dtype \n",
      "---  ------        --------------   ----- \n",
      " 0   id            123036 non-null  object\n",
      " 1   message_date  123036 non-null  object\n",
      " 2   user_id       123036 non-null  int64 \n",
      "dtypes: int64(1), object(2)\n",
      "memory usage: 2.8+ MB\n",
      "None\n",
      "\n",
      "\n",
      "             user_id\n",
      "count  123036.000000\n",
      "mean     1256.989410\n",
      "std       143.523967\n",
      "min      1000.000000\n",
      "25%      1134.000000\n",
      "50%      1271.000000\n",
      "75%      1381.000000\n",
      "max      1499.000000\n",
      "\n",
      "\n",
      "Количество дубликатов:  0\n",
      "\n",
      "\n"
     ]
    }
   ],
   "source": [
    "describe_dataset(messages_df)"
   ]
  },
  {
   "cell_type": "code",
   "execution_count": 15,
   "metadata": {},
   "outputs": [
    {
     "data": {
      "text/html": [
       "<div>\n",
       "<style scoped>\n",
       "    .dataframe tbody tr th:only-of-type {\n",
       "        vertical-align: middle;\n",
       "    }\n",
       "\n",
       "    .dataframe tbody tr th {\n",
       "        vertical-align: top;\n",
       "    }\n",
       "\n",
       "    .dataframe thead th {\n",
       "        text-align: right;\n",
       "    }\n",
       "</style>\n",
       "<table border=\"1\" class=\"dataframe\">\n",
       "  <thead>\n",
       "    <tr style=\"text-align: right;\">\n",
       "      <th></th>\n",
       "      <th>id</th>\n",
       "      <th>message_date</th>\n",
       "      <th>user_id</th>\n",
       "    </tr>\n",
       "  </thead>\n",
       "  <tbody>\n",
       "    <tr>\n",
       "      <th>0</th>\n",
       "      <td>1000_0</td>\n",
       "      <td>2018-06-27</td>\n",
       "      <td>1000</td>\n",
       "    </tr>\n",
       "    <tr>\n",
       "      <th>1</th>\n",
       "      <td>1000_1</td>\n",
       "      <td>2018-10-08</td>\n",
       "      <td>1000</td>\n",
       "    </tr>\n",
       "    <tr>\n",
       "      <th>2</th>\n",
       "      <td>1000_2</td>\n",
       "      <td>2018-08-04</td>\n",
       "      <td>1000</td>\n",
       "    </tr>\n",
       "    <tr>\n",
       "      <th>3</th>\n",
       "      <td>1000_3</td>\n",
       "      <td>2018-06-16</td>\n",
       "      <td>1000</td>\n",
       "    </tr>\n",
       "    <tr>\n",
       "      <th>4</th>\n",
       "      <td>1000_4</td>\n",
       "      <td>2018-12-05</td>\n",
       "      <td>1000</td>\n",
       "    </tr>\n",
       "  </tbody>\n",
       "</table>\n",
       "</div>"
      ],
      "text/plain": [
       "       id message_date  user_id\n",
       "0  1000_0   2018-06-27     1000\n",
       "1  1000_1   2018-10-08     1000\n",
       "2  1000_2   2018-08-04     1000\n",
       "3  1000_3   2018-06-16     1000\n",
       "4  1000_4   2018-12-05     1000"
      ]
     },
     "execution_count": 15,
     "metadata": {},
     "output_type": "execute_result"
    }
   ],
   "source": [
    "messages_df.head()"
   ]
  },
  {
   "cell_type": "code",
   "execution_count": 16,
   "metadata": {},
   "outputs": [],
   "source": [
    "# Поправим формат дат\n",
    "messages_df['message_date'] = pd.to_datetime(messages_df['message_date'], format='%Y-%m-%d')"
   ]
  },
  {
   "cell_type": "markdown",
   "metadata": {},
   "source": [
    "### Таблица internet (информация об интернет-сессиях):\n",
    "- id — уникальный номер сессии\n",
    "- mb_used — объём потраченного за сессию интернет-трафика (в мегабайтах)\n",
    "- session_date — дата интернет-сессии\n",
    "- user_id — идентификатор пользователя"
   ]
  },
  {
   "cell_type": "code",
   "execution_count": 17,
   "metadata": {},
   "outputs": [
    {
     "name": "stdout",
     "output_type": "stream",
     "text": [
      "<class 'pandas.core.frame.DataFrame'>\n",
      "RangeIndex: 149396 entries, 0 to 149395\n",
      "Data columns (total 5 columns):\n",
      " #   Column        Non-Null Count   Dtype  \n",
      "---  ------        --------------   -----  \n",
      " 0   Unnamed: 0    149396 non-null  int64  \n",
      " 1   id            149396 non-null  object \n",
      " 2   mb_used       149396 non-null  float64\n",
      " 3   session_date  149396 non-null  object \n",
      " 4   user_id       149396 non-null  int64  \n",
      "dtypes: float64(1), int64(2), object(2)\n",
      "memory usage: 5.7+ MB\n",
      "None\n",
      "\n",
      "\n",
      "          Unnamed: 0        mb_used        user_id\n",
      "count  149396.000000  149396.000000  149396.000000\n",
      "mean    74697.500000     370.192426    1252.099842\n",
      "std     43127.054745     278.300951     144.050823\n",
      "min         0.000000       0.000000    1000.000000\n",
      "25%     37348.750000     138.187500    1130.000000\n",
      "50%     74697.500000     348.015000    1251.000000\n",
      "75%    112046.250000     559.552500    1380.000000\n",
      "max    149395.000000    1724.830000    1499.000000\n",
      "\n",
      "\n",
      "Количество дубликатов:  0\n",
      "\n",
      "\n"
     ]
    }
   ],
   "source": [
    "describe_dataset(internet_df)"
   ]
  },
  {
   "cell_type": "code",
   "execution_count": 18,
   "metadata": {},
   "outputs": [
    {
     "data": {
      "text/html": [
       "<div>\n",
       "<style scoped>\n",
       "    .dataframe tbody tr th:only-of-type {\n",
       "        vertical-align: middle;\n",
       "    }\n",
       "\n",
       "    .dataframe tbody tr th {\n",
       "        vertical-align: top;\n",
       "    }\n",
       "\n",
       "    .dataframe thead th {\n",
       "        text-align: right;\n",
       "    }\n",
       "</style>\n",
       "<table border=\"1\" class=\"dataframe\">\n",
       "  <thead>\n",
       "    <tr style=\"text-align: right;\">\n",
       "      <th></th>\n",
       "      <th>Unnamed: 0</th>\n",
       "      <th>id</th>\n",
       "      <th>mb_used</th>\n",
       "      <th>session_date</th>\n",
       "      <th>user_id</th>\n",
       "    </tr>\n",
       "  </thead>\n",
       "  <tbody>\n",
       "    <tr>\n",
       "      <th>0</th>\n",
       "      <td>0</td>\n",
       "      <td>1000_0</td>\n",
       "      <td>112.95</td>\n",
       "      <td>2018-11-25</td>\n",
       "      <td>1000</td>\n",
       "    </tr>\n",
       "    <tr>\n",
       "      <th>1</th>\n",
       "      <td>1</td>\n",
       "      <td>1000_1</td>\n",
       "      <td>1052.81</td>\n",
       "      <td>2018-09-07</td>\n",
       "      <td>1000</td>\n",
       "    </tr>\n",
       "    <tr>\n",
       "      <th>2</th>\n",
       "      <td>2</td>\n",
       "      <td>1000_2</td>\n",
       "      <td>1197.26</td>\n",
       "      <td>2018-06-25</td>\n",
       "      <td>1000</td>\n",
       "    </tr>\n",
       "    <tr>\n",
       "      <th>3</th>\n",
       "      <td>3</td>\n",
       "      <td>1000_3</td>\n",
       "      <td>550.27</td>\n",
       "      <td>2018-08-22</td>\n",
       "      <td>1000</td>\n",
       "    </tr>\n",
       "    <tr>\n",
       "      <th>4</th>\n",
       "      <td>4</td>\n",
       "      <td>1000_4</td>\n",
       "      <td>302.56</td>\n",
       "      <td>2018-09-24</td>\n",
       "      <td>1000</td>\n",
       "    </tr>\n",
       "  </tbody>\n",
       "</table>\n",
       "</div>"
      ],
      "text/plain": [
       "   Unnamed: 0      id  mb_used session_date  user_id\n",
       "0           0  1000_0   112.95   2018-11-25     1000\n",
       "1           1  1000_1  1052.81   2018-09-07     1000\n",
       "2           2  1000_2  1197.26   2018-06-25     1000\n",
       "3           3  1000_3   550.27   2018-08-22     1000\n",
       "4           4  1000_4   302.56   2018-09-24     1000"
      ]
     },
     "execution_count": 18,
     "metadata": {},
     "output_type": "execute_result"
    }
   ],
   "source": [
    "internet_df.head()"
   ]
  },
  {
   "cell_type": "markdown",
   "metadata": {},
   "source": [
    "Cкорее всего, этот датасет был записан с опцией pd.to_csv('file.csv', index=True), а не False. Никто не идеален, просто удалим столбец\n"
   ]
  },
  {
   "cell_type": "code",
   "execution_count": 19,
   "metadata": {},
   "outputs": [],
   "source": [
    "internet_df.drop('Unnamed: 0', axis=1, inplace=True)"
   ]
  },
  {
   "cell_type": "code",
   "execution_count": 20,
   "metadata": {},
   "outputs": [],
   "source": [
    "# Поправим формат дат\n",
    "internet_df['session_date'] = pd.to_datetime(internet_df['session_date'], format='%Y-%m-%d')"
   ]
  },
  {
   "cell_type": "code",
   "execution_count": 21,
   "metadata": {},
   "outputs": [
    {
     "data": {
      "image/png": "[encoded data removed]",
      "text/plain": [
       "<Figure size 432x288 with 1 Axes>"
      ]
     },
     "metadata": {
      "needs_background": "light"
     },
     "output_type": "display_data"
    }
   ],
   "source": [
    "internet_df['mb_used'].plot(kind='hist', bins=50)\n",
    "plt.show()"
   ]
  },
  {
   "cell_type": "markdown",
   "metadata": {},
   "source": [
    "Выглядит неплохо, очевидных ошибок нет"
   ]
  },
  {
   "cell_type": "markdown",
   "metadata": {},
   "source": [
    "### Таблица tariffs (информация о тарифах):\n",
    "- tariff_name — название тарифа\n",
    "- rub_monthly_fee — ежемесячная абонентская плата в рублях\n",
    "- minutes_included — количество минут разговора в месяц, включённых в абонентскую плату\n",
    "- messages_included — количество сообщений в месяц, включённых в абонентскую плату\n",
    "- mb_per_month_included — объём интернет-трафика, включённого в абонентскую плату (в мегабайтах)\n",
    "- rub_per_minute — стоимость минуты разговора сверх тарифного пакета (например, если в тарифе 100 минут разговора в месяц, то со 101 минуты будет взиматься плата)\n",
    "- rub_per_message — стоимость отправки сообщения сверх тарифного пакета\n",
    "- rub_per_gb — стоимость дополнительного гигабайта интернет-трафика сверх тарифного пакета (1 гигабайт = 1024 мегабайта)"
   ]
  },
  {
   "cell_type": "code",
   "execution_count": 23,
   "metadata": {},
   "outputs": [
    {
     "name": "stdout",
     "output_type": "stream",
     "text": [
      "<class 'pandas.core.frame.DataFrame'>\n",
      "RangeIndex: 2 entries, 0 to 1\n",
      "Data columns (total 8 columns):\n",
      " #   Column                 Non-Null Count  Dtype \n",
      "---  ------                 --------------  ----- \n",
      " 0   messages_included      2 non-null      int64 \n",
      " 1   mb_per_month_included  2 non-null      int64 \n",
      " 2   minutes_included       2 non-null      int64 \n",
      " 3   rub_monthly_fee        2 non-null      int64 \n",
      " 4   rub_per_gb             2 non-null      int64 \n",
      " 5   rub_per_message        2 non-null      int64 \n",
      " 6   rub_per_minute         2 non-null      int64 \n",
      " 7   tariff_name            2 non-null      object\n",
      "dtypes: int64(7), object(1)\n",
      "memory usage: 256.0+ bytes\n",
      "None\n",
      "\n",
      "\n",
      "       messages_included  mb_per_month_included  minutes_included  \\\n",
      "count           2.000000               2.000000          2.000000   \n",
      "mean          525.000000           23040.000000       1750.000000   \n",
      "std           671.751442           10861.160159       1767.766953   \n",
      "min            50.000000           15360.000000        500.000000   \n",
      "25%           287.500000           19200.000000       1125.000000   \n",
      "50%           525.000000           23040.000000       1750.000000   \n",
      "75%           762.500000           26880.000000       2375.000000   \n",
      "max          1000.000000           30720.000000       3000.000000   \n",
      "\n",
      "       rub_monthly_fee  rub_per_gb  rub_per_message  rub_per_minute  \n",
      "count         2.000000    2.000000         2.000000        2.000000  \n",
      "mean       1250.000000  175.000000         2.000000        2.000000  \n",
      "std         989.949494   35.355339         1.414214        1.414214  \n",
      "min         550.000000  150.000000         1.000000        1.000000  \n",
      "25%         900.000000  162.500000         1.500000        1.500000  \n",
      "50%        1250.000000  175.000000         2.000000        2.000000  \n",
      "75%        1600.000000  187.500000         2.500000        2.500000  \n",
      "max        1950.000000  200.000000         3.000000        3.000000  \n",
      "\n",
      "\n",
      "Количество дубликатов:  0\n",
      "\n",
      "\n"
     ]
    }
   ],
   "source": [
    "describe_dataset(tariffs_df)"
   ]
  },
  {
   "cell_type": "code",
   "execution_count": 24,
   "metadata": {},
   "outputs": [
    {
     "data": {
      "text/html": [
       "<div>\n",
       "<style scoped>\n",
       "    .dataframe tbody tr th:only-of-type {\n",
       "        vertical-align: middle;\n",
       "    }\n",
       "\n",
       "    .dataframe tbody tr th {\n",
       "        vertical-align: top;\n",
       "    }\n",
       "\n",
       "    .dataframe thead th {\n",
       "        text-align: right;\n",
       "    }\n",
       "</style>\n",
       "<table border=\"1\" class=\"dataframe\">\n",
       "  <thead>\n",
       "    <tr style=\"text-align: right;\">\n",
       "      <th></th>\n",
       "      <th>messages_included</th>\n",
       "      <th>mb_per_month_included</th>\n",
       "      <th>minutes_included</th>\n",
       "      <th>rub_monthly_fee</th>\n",
       "      <th>rub_per_gb</th>\n",
       "      <th>rub_per_message</th>\n",
       "      <th>rub_per_minute</th>\n",
       "      <th>tariff_name</th>\n",
       "    </tr>\n",
       "  </thead>\n",
       "  <tbody>\n",
       "    <tr>\n",
       "      <th>0</th>\n",
       "      <td>50</td>\n",
       "      <td>15360</td>\n",
       "      <td>500</td>\n",
       "      <td>550</td>\n",
       "      <td>200</td>\n",
       "      <td>3</td>\n",
       "      <td>3</td>\n",
       "      <td>smart</td>\n",
       "    </tr>\n",
       "    <tr>\n",
       "      <th>1</th>\n",
       "      <td>1000</td>\n",
       "      <td>30720</td>\n",
       "      <td>3000</td>\n",
       "      <td>1950</td>\n",
       "      <td>150</td>\n",
       "      <td>1</td>\n",
       "      <td>1</td>\n",
       "      <td>ultra</td>\n",
       "    </tr>\n",
       "  </tbody>\n",
       "</table>\n",
       "</div>"
      ],
      "text/plain": [
       "   messages_included  mb_per_month_included  minutes_included  \\\n",
       "0                 50                  15360               500   \n",
       "1               1000                  30720              3000   \n",
       "\n",
       "   rub_monthly_fee  rub_per_gb  rub_per_message  rub_per_minute tariff_name  \n",
       "0              550         200                3               3       smart  \n",
       "1             1950         150                1               1       ultra  "
      ]
     },
     "execution_count": 24,
     "metadata": {},
     "output_type": "execute_result"
    }
   ],
   "source": [
    "tariffs_df.head()"
   ]
  },
  {
   "cell_type": "markdown",
   "metadata": {},
   "source": [
    "# Шаг 2. Подготовьте данные\n",
    "\n",
    "Посчитайте для каждого пользователя:\n",
    "- количество сделанных звонков и израсходованных минут разговора по месяцам;\n",
    "- количество отправленных сообщений по месяцам;\n",
    "- объем израсходованного интернет-трафика по месяцам;\n",
    "- помесячную выручку с каждого пользователя (вычтите бесплатный лимит из суммарного количества звонков, сообщений и интернет-трафика; остаток умножьте на значение из тарифного плана; прибавьте абонентскую плату, соответствующую тарифному плану)."
   ]
  },
  {
   "cell_type": "code",
   "execution_count": 25,
   "metadata": {},
   "outputs": [],
   "source": [
    "internet = internet_df.groupby(['user_id', internet_df.session_date.dt.month])\\\n",
    "                            .agg({'mb_used':'sum'})\\\n",
    "                            .reset_index()\\\n",
    "                            .rename(columns={'mb_used': 'total_mb_in_month',\n",
    "                                            'session_date': 'month'}\n",
    "                            )"
   ]
  },
  {
   "cell_type": "code",
   "execution_count": 26,
   "metadata": {},
   "outputs": [
    {
     "data": {
      "text/html": [
       "<div>\n",
       "<style scoped>\n",
       "    .dataframe tbody tr th:only-of-type {\n",
       "        vertical-align: middle;\n",
       "    }\n",
       "\n",
       "    .dataframe tbody tr th {\n",
       "        vertical-align: top;\n",
       "    }\n",
       "\n",
       "    .dataframe thead th {\n",
       "        text-align: right;\n",
       "    }\n",
       "</style>\n",
       "<table border=\"1\" class=\"dataframe\">\n",
       "  <thead>\n",
       "    <tr style=\"text-align: right;\">\n",
       "      <th></th>\n",
       "      <th>user_id</th>\n",
       "      <th>month</th>\n",
       "      <th>total_mb_in_month</th>\n",
       "    </tr>\n",
       "  </thead>\n",
       "  <tbody>\n",
       "    <tr>\n",
       "      <th>0</th>\n",
       "      <td>1000</td>\n",
       "      <td>5</td>\n",
       "      <td>2253.49</td>\n",
       "    </tr>\n",
       "    <tr>\n",
       "      <th>1</th>\n",
       "      <td>1000</td>\n",
       "      <td>6</td>\n",
       "      <td>23233.77</td>\n",
       "    </tr>\n",
       "    <tr>\n",
       "      <th>2</th>\n",
       "      <td>1000</td>\n",
       "      <td>7</td>\n",
       "      <td>14003.64</td>\n",
       "    </tr>\n",
       "    <tr>\n",
       "      <th>3</th>\n",
       "      <td>1000</td>\n",
       "      <td>8</td>\n",
       "      <td>14055.93</td>\n",
       "    </tr>\n",
       "    <tr>\n",
       "      <th>4</th>\n",
       "      <td>1000</td>\n",
       "      <td>9</td>\n",
       "      <td>14568.91</td>\n",
       "    </tr>\n",
       "  </tbody>\n",
       "</table>\n",
       "</div>"
      ],
      "text/plain": [
       "   user_id  month  total_mb_in_month\n",
       "0     1000      5            2253.49\n",
       "1     1000      6           23233.77\n",
       "2     1000      7           14003.64\n",
       "3     1000      8           14055.93\n",
       "4     1000      9           14568.91"
      ]
     },
     "execution_count": 26,
     "metadata": {},
     "output_type": "execute_result"
    }
   ],
   "source": [
    "internet.head()"
   ]
  },
  {
   "cell_type": "code",
   "execution_count": 27,
   "metadata": {},
   "outputs": [],
   "source": [
    "calls = calls_df.groupby(['user_id', calls_df.call_date.dt.month])\\\n",
    "                .agg({'duration':'sum', 'id':'count'})\\\n",
    "                .reset_index()\\\n",
    "                .rename(columns={'duration': 'total_minutes_in_month', \n",
    "                                 'id':'total_count_call_in_mounth',\n",
    "                                 'call_date': 'month'\n",
    "                                }\n",
    "                       )\n"
   ]
  },
  {
   "cell_type": "code",
   "execution_count": 28,
   "metadata": {},
   "outputs": [
    {
     "data": {
      "text/html": [
       "<div>\n",
       "<style scoped>\n",
       "    .dataframe tbody tr th:only-of-type {\n",
       "        vertical-align: middle;\n",
       "    }\n",
       "\n",
       "    .dataframe tbody tr th {\n",
       "        vertical-align: top;\n",
       "    }\n",
       "\n",
       "    .dataframe thead th {\n",
       "        text-align: right;\n",
       "    }\n",
       "</style>\n",
       "<table border=\"1\" class=\"dataframe\">\n",
       "  <thead>\n",
       "    <tr style=\"text-align: right;\">\n",
       "      <th></th>\n",
       "      <th>user_id</th>\n",
       "      <th>month</th>\n",
       "      <th>total_minutes_in_month</th>\n",
       "      <th>total_count_call_in_mounth</th>\n",
       "    </tr>\n",
       "  </thead>\n",
       "  <tbody>\n",
       "    <tr>\n",
       "      <th>0</th>\n",
       "      <td>1000</td>\n",
       "      <td>5</td>\n",
       "      <td>159</td>\n",
       "      <td>22</td>\n",
       "    </tr>\n",
       "    <tr>\n",
       "      <th>1</th>\n",
       "      <td>1000</td>\n",
       "      <td>6</td>\n",
       "      <td>172</td>\n",
       "      <td>43</td>\n",
       "    </tr>\n",
       "    <tr>\n",
       "      <th>2</th>\n",
       "      <td>1000</td>\n",
       "      <td>7</td>\n",
       "      <td>340</td>\n",
       "      <td>47</td>\n",
       "    </tr>\n",
       "    <tr>\n",
       "      <th>3</th>\n",
       "      <td>1000</td>\n",
       "      <td>8</td>\n",
       "      <td>408</td>\n",
       "      <td>52</td>\n",
       "    </tr>\n",
       "    <tr>\n",
       "      <th>4</th>\n",
       "      <td>1000</td>\n",
       "      <td>9</td>\n",
       "      <td>466</td>\n",
       "      <td>58</td>\n",
       "    </tr>\n",
       "  </tbody>\n",
       "</table>\n",
       "</div>"
      ],
      "text/plain": [
       "   user_id  month  total_minutes_in_month  total_count_call_in_mounth\n",
       "0     1000      5                     159                          22\n",
       "1     1000      6                     172                          43\n",
       "2     1000      7                     340                          47\n",
       "3     1000      8                     408                          52\n",
       "4     1000      9                     466                          58"
      ]
     },
     "execution_count": 28,
     "metadata": {},
     "output_type": "execute_result"
    }
   ],
   "source": [
    "calls.head()"
   ]
  },
  {
   "cell_type": "code",
   "execution_count": 29,
   "metadata": {},
   "outputs": [],
   "source": [
    "messages = messages_df.groupby(['user_id', messages_df.message_date.dt.month])\\\n",
    "                .agg({'id':'count'})\\\n",
    "                .reset_index()\\\n",
    "                .rename(columns={'id': 'total_messages_in_month',\n",
    "                                 'message_date':'month'\n",
    "                                })"
   ]
  },
  {
   "cell_type": "code",
   "execution_count": 30,
   "metadata": {},
   "outputs": [
    {
     "data": {
      "text/html": [
       "<div>\n",
       "<style scoped>\n",
       "    .dataframe tbody tr th:only-of-type {\n",
       "        vertical-align: middle;\n",
       "    }\n",
       "\n",
       "    .dataframe tbody tr th {\n",
       "        vertical-align: top;\n",
       "    }\n",
       "\n",
       "    .dataframe thead th {\n",
       "        text-align: right;\n",
       "    }\n",
       "</style>\n",
       "<table border=\"1\" class=\"dataframe\">\n",
       "  <thead>\n",
       "    <tr style=\"text-align: right;\">\n",
       "      <th></th>\n",
       "      <th>user_id</th>\n",
       "      <th>month</th>\n",
       "      <th>total_messages_in_month</th>\n",
       "    </tr>\n",
       "  </thead>\n",
       "  <tbody>\n",
       "    <tr>\n",
       "      <th>0</th>\n",
       "      <td>1000</td>\n",
       "      <td>5</td>\n",
       "      <td>22</td>\n",
       "    </tr>\n",
       "    <tr>\n",
       "      <th>1</th>\n",
       "      <td>1000</td>\n",
       "      <td>6</td>\n",
       "      <td>60</td>\n",
       "    </tr>\n",
       "    <tr>\n",
       "      <th>2</th>\n",
       "      <td>1000</td>\n",
       "      <td>7</td>\n",
       "      <td>75</td>\n",
       "    </tr>\n",
       "    <tr>\n",
       "      <th>3</th>\n",
       "      <td>1000</td>\n",
       "      <td>8</td>\n",
       "      <td>81</td>\n",
       "    </tr>\n",
       "    <tr>\n",
       "      <th>4</th>\n",
       "      <td>1000</td>\n",
       "      <td>9</td>\n",
       "      <td>57</td>\n",
       "    </tr>\n",
       "  </tbody>\n",
       "</table>\n",
       "</div>"
      ],
      "text/plain": [
       "   user_id  month  total_messages_in_month\n",
       "0     1000      5                       22\n",
       "1     1000      6                       60\n",
       "2     1000      7                       75\n",
       "3     1000      8                       81\n",
       "4     1000      9                       57"
      ]
     },
     "execution_count": 30,
     "metadata": {},
     "output_type": "execute_result"
    }
   ],
   "source": [
    "messages.head()"
   ]
  },
  {
   "cell_type": "markdown",
   "metadata": {},
   "source": [
    "Склеим все вместе"
   ]
  },
  {
   "cell_type": "code",
   "execution_count": 31,
   "metadata": {},
   "outputs": [
    {
     "data": {
      "text/html": [
       "<div>\n",
       "<style scoped>\n",
       "    .dataframe tbody tr th:only-of-type {\n",
       "        vertical-align: middle;\n",
       "    }\n",
       "\n",
       "    .dataframe tbody tr th {\n",
       "        vertical-align: top;\n",
       "    }\n",
       "\n",
       "    .dataframe thead th {\n",
       "        text-align: right;\n",
       "    }\n",
       "</style>\n",
       "<table border=\"1\" class=\"dataframe\">\n",
       "  <thead>\n",
       "    <tr style=\"text-align: right;\">\n",
       "      <th></th>\n",
       "      <th>user_id</th>\n",
       "      <th>month</th>\n",
       "      <th>total_minutes_in_month</th>\n",
       "      <th>total_count_call_in_mounth</th>\n",
       "      <th>total_messages_in_month</th>\n",
       "      <th>total_mb_in_month</th>\n",
       "    </tr>\n",
       "  </thead>\n",
       "  <tbody>\n",
       "    <tr>\n",
       "      <th>0</th>\n",
       "      <td>1000</td>\n",
       "      <td>5</td>\n",
       "      <td>159.0</td>\n",
       "      <td>22.0</td>\n",
       "      <td>22.0</td>\n",
       "      <td>2253.49</td>\n",
       "    </tr>\n",
       "    <tr>\n",
       "      <th>1</th>\n",
       "      <td>1000</td>\n",
       "      <td>6</td>\n",
       "      <td>172.0</td>\n",
       "      <td>43.0</td>\n",
       "      <td>60.0</td>\n",
       "      <td>23233.77</td>\n",
       "    </tr>\n",
       "    <tr>\n",
       "      <th>2</th>\n",
       "      <td>1000</td>\n",
       "      <td>7</td>\n",
       "      <td>340.0</td>\n",
       "      <td>47.0</td>\n",
       "      <td>75.0</td>\n",
       "      <td>14003.64</td>\n",
       "    </tr>\n",
       "    <tr>\n",
       "      <th>3</th>\n",
       "      <td>1000</td>\n",
       "      <td>8</td>\n",
       "      <td>408.0</td>\n",
       "      <td>52.0</td>\n",
       "      <td>81.0</td>\n",
       "      <td>14055.93</td>\n",
       "    </tr>\n",
       "    <tr>\n",
       "      <th>4</th>\n",
       "      <td>1000</td>\n",
       "      <td>9</td>\n",
       "      <td>466.0</td>\n",
       "      <td>58.0</td>\n",
       "      <td>57.0</td>\n",
       "      <td>14568.91</td>\n",
       "    </tr>\n",
       "  </tbody>\n",
       "</table>\n",
       "</div>"
      ],
      "text/plain": [
       "   user_id  month  total_minutes_in_month  total_count_call_in_mounth  \\\n",
       "0     1000      5                   159.0                        22.0   \n",
       "1     1000      6                   172.0                        43.0   \n",
       "2     1000      7                   340.0                        47.0   \n",
       "3     1000      8                   408.0                        52.0   \n",
       "4     1000      9                   466.0                        58.0   \n",
       "\n",
       "   total_messages_in_month  total_mb_in_month  \n",
       "0                     22.0            2253.49  \n",
       "1                     60.0           23233.77  \n",
       "2                     75.0           14003.64  \n",
       "3                     81.0           14055.93  \n",
       "4                     57.0           14568.91  "
      ]
     },
     "execution_count": 31,
     "metadata": {},
     "output_type": "execute_result"
    }
   ],
   "source": [
    "revenue = calls.merge(messages, on=['user_id','month'], how='outer')\n",
    "revenue = revenue.merge(internet, on=['user_id','month'], how='outer')\n",
    "revenue.head()"
   ]
  },
  {
   "cell_type": "markdown",
   "metadata": {},
   "source": [
    "Добавим информацию о тарифах"
   ]
  },
  {
   "cell_type": "code",
   "execution_count": 32,
   "metadata": {},
   "outputs": [
    {
     "data": {
      "text/html": [
       "<div>\n",
       "<style scoped>\n",
       "    .dataframe tbody tr th:only-of-type {\n",
       "        vertical-align: middle;\n",
       "    }\n",
       "\n",
       "    .dataframe tbody tr th {\n",
       "        vertical-align: top;\n",
       "    }\n",
       "\n",
       "    .dataframe thead th {\n",
       "        text-align: right;\n",
       "    }\n",
       "</style>\n",
       "<table border=\"1\" class=\"dataframe\">\n",
       "  <thead>\n",
       "    <tr style=\"text-align: right;\">\n",
       "      <th></th>\n",
       "      <th>user_id</th>\n",
       "      <th>age</th>\n",
       "      <th>churn_date</th>\n",
       "      <th>city</th>\n",
       "      <th>first_name</th>\n",
       "      <th>last_name</th>\n",
       "      <th>reg_date</th>\n",
       "      <th>tariff</th>\n",
       "      <th>messages_included</th>\n",
       "      <th>mb_per_month_included</th>\n",
       "      <th>minutes_included</th>\n",
       "      <th>rub_monthly_fee</th>\n",
       "      <th>rub_per_gb</th>\n",
       "      <th>rub_per_message</th>\n",
       "      <th>rub_per_minute</th>\n",
       "      <th>tariff_name</th>\n",
       "    </tr>\n",
       "  </thead>\n",
       "  <tbody>\n",
       "    <tr>\n",
       "      <th>0</th>\n",
       "      <td>1000</td>\n",
       "      <td>52</td>\n",
       "      <td>NaN</td>\n",
       "      <td>Краснодар</td>\n",
       "      <td>Рафаил</td>\n",
       "      <td>Верещагин</td>\n",
       "      <td>2018-05-25</td>\n",
       "      <td>ultra</td>\n",
       "      <td>1000</td>\n",
       "      <td>30720</td>\n",
       "      <td>3000</td>\n",
       "      <td>1950</td>\n",
       "      <td>150</td>\n",
       "      <td>1</td>\n",
       "      <td>1</td>\n",
       "      <td>ultra</td>\n",
       "    </tr>\n",
       "    <tr>\n",
       "      <th>1</th>\n",
       "      <td>1001</td>\n",
       "      <td>41</td>\n",
       "      <td>NaN</td>\n",
       "      <td>Москва</td>\n",
       "      <td>Иван</td>\n",
       "      <td>Ежов</td>\n",
       "      <td>2018-11-01</td>\n",
       "      <td>smart</td>\n",
       "      <td>50</td>\n",
       "      <td>15360</td>\n",
       "      <td>500</td>\n",
       "      <td>550</td>\n",
       "      <td>200</td>\n",
       "      <td>3</td>\n",
       "      <td>3</td>\n",
       "      <td>smart</td>\n",
       "    </tr>\n",
       "    <tr>\n",
       "      <th>2</th>\n",
       "      <td>1002</td>\n",
       "      <td>59</td>\n",
       "      <td>NaN</td>\n",
       "      <td>Стерлитамак</td>\n",
       "      <td>Евгений</td>\n",
       "      <td>Абрамович</td>\n",
       "      <td>2018-06-17</td>\n",
       "      <td>smart</td>\n",
       "      <td>50</td>\n",
       "      <td>15360</td>\n",
       "      <td>500</td>\n",
       "      <td>550</td>\n",
       "      <td>200</td>\n",
       "      <td>3</td>\n",
       "      <td>3</td>\n",
       "      <td>smart</td>\n",
       "    </tr>\n",
       "    <tr>\n",
       "      <th>3</th>\n",
       "      <td>1003</td>\n",
       "      <td>23</td>\n",
       "      <td>NaN</td>\n",
       "      <td>Москва</td>\n",
       "      <td>Белла</td>\n",
       "      <td>Белякова</td>\n",
       "      <td>2018-08-17</td>\n",
       "      <td>ultra</td>\n",
       "      <td>1000</td>\n",
       "      <td>30720</td>\n",
       "      <td>3000</td>\n",
       "      <td>1950</td>\n",
       "      <td>150</td>\n",
       "      <td>1</td>\n",
       "      <td>1</td>\n",
       "      <td>ultra</td>\n",
       "    </tr>\n",
       "    <tr>\n",
       "      <th>4</th>\n",
       "      <td>1004</td>\n",
       "      <td>68</td>\n",
       "      <td>NaN</td>\n",
       "      <td>Новокузнецк</td>\n",
       "      <td>Татьяна</td>\n",
       "      <td>Авдеенко</td>\n",
       "      <td>2018-05-14</td>\n",
       "      <td>ultra</td>\n",
       "      <td>1000</td>\n",
       "      <td>30720</td>\n",
       "      <td>3000</td>\n",
       "      <td>1950</td>\n",
       "      <td>150</td>\n",
       "      <td>1</td>\n",
       "      <td>1</td>\n",
       "      <td>ultra</td>\n",
       "    </tr>\n",
       "  </tbody>\n",
       "</table>\n",
       "</div>"
      ],
      "text/plain": [
       "   user_id  age churn_date         city first_name  last_name   reg_date  \\\n",
       "0     1000   52        NaN    Краснодар     Рафаил  Верещагин 2018-05-25   \n",
       "1     1001   41        NaN       Москва       Иван       Ежов 2018-11-01   \n",
       "2     1002   59        NaN  Стерлитамак    Евгений  Абрамович 2018-06-17   \n",
       "3     1003   23        NaN       Москва      Белла   Белякова 2018-08-17   \n",
       "4     1004   68        NaN  Новокузнецк    Татьяна   Авдеенко 2018-05-14   \n",
       "\n",
       "  tariff  messages_included  mb_per_month_included  minutes_included  \\\n",
       "0  ultra               1000                  30720              3000   \n",
       "1  smart                 50                  15360               500   \n",
       "2  smart                 50                  15360               500   \n",
       "3  ultra               1000                  30720              3000   \n",
       "4  ultra               1000                  30720              3000   \n",
       "\n",
       "   rub_monthly_fee  rub_per_gb  rub_per_message  rub_per_minute tariff_name  \n",
       "0             1950         150                1               1       ultra  \n",
       "1              550         200                3               3       smart  \n",
       "2              550         200                3               3       smart  \n",
       "3             1950         150                1               1       ultra  \n",
       "4             1950         150                1               1       ultra  "
      ]
     },
     "execution_count": 32,
     "metadata": {},
     "output_type": "execute_result"
    }
   ],
   "source": [
    "tariff = users_df.merge(tariffs_df, left_on='tariff', right_on='tariff_name', how='left')\n",
    "tariff.head()"
   ]
  },
  {
   "cell_type": "markdown",
   "metadata": {},
   "source": [
    "Не будем тащить в таблицу `revenue` все подряд, выберем только нужные для работы столбцы"
   ]
  },
  {
   "cell_type": "code",
   "execution_count": 33,
   "metadata": {},
   "outputs": [],
   "source": [
    "useful_tariff_columns = ['user_id','messages_included', 'mb_per_month_included',\n",
    "       'minutes_included', 'rub_monthly_fee', 'rub_per_gb', 'rub_per_message',\n",
    "       'rub_per_minute','city','tariff']"
   ]
  },
  {
   "cell_type": "code",
   "execution_count": 34,
   "metadata": {},
   "outputs": [],
   "source": [
    "revenue = revenue.merge(tariff[useful_tariff_columns], on=['user_id'], how='left')"
   ]
  },
  {
   "cell_type": "code",
   "execution_count": 35,
   "metadata": {},
   "outputs": [
    {
     "data": {
      "text/html": [
       "<div>\n",
       "<style scoped>\n",
       "    .dataframe tbody tr th:only-of-type {\n",
       "        vertical-align: middle;\n",
       "    }\n",
       "\n",
       "    .dataframe tbody tr th {\n",
       "        vertical-align: top;\n",
       "    }\n",
       "\n",
       "    .dataframe thead th {\n",
       "        text-align: right;\n",
       "    }\n",
       "</style>\n",
       "<table border=\"1\" class=\"dataframe\">\n",
       "  <thead>\n",
       "    <tr style=\"text-align: right;\">\n",
       "      <th></th>\n",
       "      <th>user_id</th>\n",
       "      <th>month</th>\n",
       "      <th>total_minutes_in_month</th>\n",
       "      <th>total_count_call_in_mounth</th>\n",
       "      <th>total_messages_in_month</th>\n",
       "      <th>total_mb_in_month</th>\n",
       "      <th>messages_included</th>\n",
       "      <th>mb_per_month_included</th>\n",
       "      <th>minutes_included</th>\n",
       "      <th>rub_monthly_fee</th>\n",
       "      <th>rub_per_gb</th>\n",
       "      <th>rub_per_message</th>\n",
       "      <th>rub_per_minute</th>\n",
       "      <th>city</th>\n",
       "      <th>tariff</th>\n",
       "    </tr>\n",
       "  </thead>\n",
       "  <tbody>\n",
       "    <tr>\n",
       "      <th>0</th>\n",
       "      <td>1000</td>\n",
       "      <td>5</td>\n",
       "      <td>159.0</td>\n",
       "      <td>22.0</td>\n",
       "      <td>22.0</td>\n",
       "      <td>2253.49</td>\n",
       "      <td>1000</td>\n",
       "      <td>30720</td>\n",
       "      <td>3000</td>\n",
       "      <td>1950</td>\n",
       "      <td>150</td>\n",
       "      <td>1</td>\n",
       "      <td>1</td>\n",
       "      <td>Краснодар</td>\n",
       "      <td>ultra</td>\n",
       "    </tr>\n",
       "    <tr>\n",
       "      <th>1</th>\n",
       "      <td>1000</td>\n",
       "      <td>6</td>\n",
       "      <td>172.0</td>\n",
       "      <td>43.0</td>\n",
       "      <td>60.0</td>\n",
       "      <td>23233.77</td>\n",
       "      <td>1000</td>\n",
       "      <td>30720</td>\n",
       "      <td>3000</td>\n",
       "      <td>1950</td>\n",
       "      <td>150</td>\n",
       "      <td>1</td>\n",
       "      <td>1</td>\n",
       "      <td>Краснодар</td>\n",
       "      <td>ultra</td>\n",
       "    </tr>\n",
       "    <tr>\n",
       "      <th>2</th>\n",
       "      <td>1000</td>\n",
       "      <td>7</td>\n",
       "      <td>340.0</td>\n",
       "      <td>47.0</td>\n",
       "      <td>75.0</td>\n",
       "      <td>14003.64</td>\n",
       "      <td>1000</td>\n",
       "      <td>30720</td>\n",
       "      <td>3000</td>\n",
       "      <td>1950</td>\n",
       "      <td>150</td>\n",
       "      <td>1</td>\n",
       "      <td>1</td>\n",
       "      <td>Краснодар</td>\n",
       "      <td>ultra</td>\n",
       "    </tr>\n",
       "    <tr>\n",
       "      <th>3</th>\n",
       "      <td>1000</td>\n",
       "      <td>8</td>\n",
       "      <td>408.0</td>\n",
       "      <td>52.0</td>\n",
       "      <td>81.0</td>\n",
       "      <td>14055.93</td>\n",
       "      <td>1000</td>\n",
       "      <td>30720</td>\n",
       "      <td>3000</td>\n",
       "      <td>1950</td>\n",
       "      <td>150</td>\n",
       "      <td>1</td>\n",
       "      <td>1</td>\n",
       "      <td>Краснодар</td>\n",
       "      <td>ultra</td>\n",
       "    </tr>\n",
       "    <tr>\n",
       "      <th>4</th>\n",
       "      <td>1000</td>\n",
       "      <td>9</td>\n",
       "      <td>466.0</td>\n",
       "      <td>58.0</td>\n",
       "      <td>57.0</td>\n",
       "      <td>14568.91</td>\n",
       "      <td>1000</td>\n",
       "      <td>30720</td>\n",
       "      <td>3000</td>\n",
       "      <td>1950</td>\n",
       "      <td>150</td>\n",
       "      <td>1</td>\n",
       "      <td>1</td>\n",
       "      <td>Краснодар</td>\n",
       "      <td>ultra</td>\n",
       "    </tr>\n",
       "    <tr>\n",
       "      <th>5</th>\n",
       "      <td>1000</td>\n",
       "      <td>10</td>\n",
       "      <td>350.0</td>\n",
       "      <td>57.0</td>\n",
       "      <td>73.0</td>\n",
       "      <td>14702.49</td>\n",
       "      <td>1000</td>\n",
       "      <td>30720</td>\n",
       "      <td>3000</td>\n",
       "      <td>1950</td>\n",
       "      <td>150</td>\n",
       "      <td>1</td>\n",
       "      <td>1</td>\n",
       "      <td>Краснодар</td>\n",
       "      <td>ultra</td>\n",
       "    </tr>\n",
       "    <tr>\n",
       "      <th>6</th>\n",
       "      <td>1000</td>\n",
       "      <td>11</td>\n",
       "      <td>338.0</td>\n",
       "      <td>43.0</td>\n",
       "      <td>58.0</td>\n",
       "      <td>14756.47</td>\n",
       "      <td>1000</td>\n",
       "      <td>30720</td>\n",
       "      <td>3000</td>\n",
       "      <td>1950</td>\n",
       "      <td>150</td>\n",
       "      <td>1</td>\n",
       "      <td>1</td>\n",
       "      <td>Краснодар</td>\n",
       "      <td>ultra</td>\n",
       "    </tr>\n",
       "    <tr>\n",
       "      <th>7</th>\n",
       "      <td>1000</td>\n",
       "      <td>12</td>\n",
       "      <td>333.0</td>\n",
       "      <td>46.0</td>\n",
       "      <td>70.0</td>\n",
       "      <td>9817.61</td>\n",
       "      <td>1000</td>\n",
       "      <td>30720</td>\n",
       "      <td>3000</td>\n",
       "      <td>1950</td>\n",
       "      <td>150</td>\n",
       "      <td>1</td>\n",
       "      <td>1</td>\n",
       "      <td>Краснодар</td>\n",
       "      <td>ultra</td>\n",
       "    </tr>\n",
       "    <tr>\n",
       "      <th>8</th>\n",
       "      <td>1001</td>\n",
       "      <td>11</td>\n",
       "      <td>430.0</td>\n",
       "      <td>59.0</td>\n",
       "      <td>NaN</td>\n",
       "      <td>18429.34</td>\n",
       "      <td>50</td>\n",
       "      <td>15360</td>\n",
       "      <td>500</td>\n",
       "      <td>550</td>\n",
       "      <td>200</td>\n",
       "      <td>3</td>\n",
       "      <td>3</td>\n",
       "      <td>Москва</td>\n",
       "      <td>smart</td>\n",
       "    </tr>\n",
       "    <tr>\n",
       "      <th>9</th>\n",
       "      <td>1001</td>\n",
       "      <td>12</td>\n",
       "      <td>414.0</td>\n",
       "      <td>63.0</td>\n",
       "      <td>NaN</td>\n",
       "      <td>14036.66</td>\n",
       "      <td>50</td>\n",
       "      <td>15360</td>\n",
       "      <td>500</td>\n",
       "      <td>550</td>\n",
       "      <td>200</td>\n",
       "      <td>3</td>\n",
       "      <td>3</td>\n",
       "      <td>Москва</td>\n",
       "      <td>smart</td>\n",
       "    </tr>\n",
       "    <tr>\n",
       "      <th>10</th>\n",
       "      <td>1002</td>\n",
       "      <td>6</td>\n",
       "      <td>117.0</td>\n",
       "      <td>15.0</td>\n",
       "      <td>4.0</td>\n",
       "      <td>10856.82</td>\n",
       "      <td>50</td>\n",
       "      <td>15360</td>\n",
       "      <td>500</td>\n",
       "      <td>550</td>\n",
       "      <td>200</td>\n",
       "      <td>3</td>\n",
       "      <td>3</td>\n",
       "      <td>Стерлитамак</td>\n",
       "      <td>smart</td>\n",
       "    </tr>\n",
       "    <tr>\n",
       "      <th>11</th>\n",
       "      <td>1002</td>\n",
       "      <td>7</td>\n",
       "      <td>214.0</td>\n",
       "      <td>26.0</td>\n",
       "      <td>11.0</td>\n",
       "      <td>17580.10</td>\n",
       "      <td>50</td>\n",
       "      <td>15360</td>\n",
       "      <td>500</td>\n",
       "      <td>550</td>\n",
       "      <td>200</td>\n",
       "      <td>3</td>\n",
       "      <td>3</td>\n",
       "      <td>Стерлитамак</td>\n",
       "      <td>smart</td>\n",
       "    </tr>\n",
       "    <tr>\n",
       "      <th>12</th>\n",
       "      <td>1002</td>\n",
       "      <td>8</td>\n",
       "      <td>289.0</td>\n",
       "      <td>42.0</td>\n",
       "      <td>13.0</td>\n",
       "      <td>20319.26</td>\n",
       "      <td>50</td>\n",
       "      <td>15360</td>\n",
       "      <td>500</td>\n",
       "      <td>550</td>\n",
       "      <td>200</td>\n",
       "      <td>3</td>\n",
       "      <td>3</td>\n",
       "      <td>Стерлитамак</td>\n",
       "      <td>smart</td>\n",
       "    </tr>\n",
       "    <tr>\n",
       "      <th>13</th>\n",
       "      <td>1002</td>\n",
       "      <td>9</td>\n",
       "      <td>206.0</td>\n",
       "      <td>36.0</td>\n",
       "      <td>4.0</td>\n",
       "      <td>16691.08</td>\n",
       "      <td>50</td>\n",
       "      <td>15360</td>\n",
       "      <td>500</td>\n",
       "      <td>550</td>\n",
       "      <td>200</td>\n",
       "      <td>3</td>\n",
       "      <td>3</td>\n",
       "      <td>Стерлитамак</td>\n",
       "      <td>smart</td>\n",
       "    </tr>\n",
       "    <tr>\n",
       "      <th>14</th>\n",
       "      <td>1002</td>\n",
       "      <td>10</td>\n",
       "      <td>212.0</td>\n",
       "      <td>33.0</td>\n",
       "      <td>10.0</td>\n",
       "      <td>13888.25</td>\n",
       "      <td>50</td>\n",
       "      <td>15360</td>\n",
       "      <td>500</td>\n",
       "      <td>550</td>\n",
       "      <td>200</td>\n",
       "      <td>3</td>\n",
       "      <td>3</td>\n",
       "      <td>Стерлитамак</td>\n",
       "      <td>smart</td>\n",
       "    </tr>\n",
       "    <tr>\n",
       "      <th>15</th>\n",
       "      <td>1002</td>\n",
       "      <td>11</td>\n",
       "      <td>243.0</td>\n",
       "      <td>32.0</td>\n",
       "      <td>16.0</td>\n",
       "      <td>18587.28</td>\n",
       "      <td>50</td>\n",
       "      <td>15360</td>\n",
       "      <td>500</td>\n",
       "      <td>550</td>\n",
       "      <td>200</td>\n",
       "      <td>3</td>\n",
       "      <td>3</td>\n",
       "      <td>Стерлитамак</td>\n",
       "      <td>smart</td>\n",
       "    </tr>\n",
       "    <tr>\n",
       "      <th>16</th>\n",
       "      <td>1002</td>\n",
       "      <td>12</td>\n",
       "      <td>236.0</td>\n",
       "      <td>33.0</td>\n",
       "      <td>12.0</td>\n",
       "      <td>18113.73</td>\n",
       "      <td>50</td>\n",
       "      <td>15360</td>\n",
       "      <td>500</td>\n",
       "      <td>550</td>\n",
       "      <td>200</td>\n",
       "      <td>3</td>\n",
       "      <td>3</td>\n",
       "      <td>Стерлитамак</td>\n",
       "      <td>smart</td>\n",
       "    </tr>\n",
       "    <tr>\n",
       "      <th>17</th>\n",
       "      <td>1003</td>\n",
       "      <td>8</td>\n",
       "      <td>380.0</td>\n",
       "      <td>55.0</td>\n",
       "      <td>37.0</td>\n",
       "      <td>8565.21</td>\n",
       "      <td>1000</td>\n",
       "      <td>30720</td>\n",
       "      <td>3000</td>\n",
       "      <td>1950</td>\n",
       "      <td>150</td>\n",
       "      <td>1</td>\n",
       "      <td>1</td>\n",
       "      <td>Москва</td>\n",
       "      <td>ultra</td>\n",
       "    </tr>\n",
       "    <tr>\n",
       "      <th>18</th>\n",
       "      <td>1003</td>\n",
       "      <td>9</td>\n",
       "      <td>961.0</td>\n",
       "      <td>134.0</td>\n",
       "      <td>91.0</td>\n",
       "      <td>12468.87</td>\n",
       "      <td>1000</td>\n",
       "      <td>30720</td>\n",
       "      <td>3000</td>\n",
       "      <td>1950</td>\n",
       "      <td>150</td>\n",
       "      <td>1</td>\n",
       "      <td>1</td>\n",
       "      <td>Москва</td>\n",
       "      <td>ultra</td>\n",
       "    </tr>\n",
       "    <tr>\n",
       "      <th>19</th>\n",
       "      <td>1003</td>\n",
       "      <td>10</td>\n",
       "      <td>855.0</td>\n",
       "      <td>108.0</td>\n",
       "      <td>83.0</td>\n",
       "      <td>14768.14</td>\n",
       "      <td>1000</td>\n",
       "      <td>30720</td>\n",
       "      <td>3000</td>\n",
       "      <td>1950</td>\n",
       "      <td>150</td>\n",
       "      <td>1</td>\n",
       "      <td>1</td>\n",
       "      <td>Москва</td>\n",
       "      <td>ultra</td>\n",
       "    </tr>\n",
       "  </tbody>\n",
       "</table>\n",
       "</div>"
      ],
      "text/plain": [
       "    user_id  month  total_minutes_in_month  total_count_call_in_mounth  \\\n",
       "0      1000      5                   159.0                        22.0   \n",
       "1      1000      6                   172.0                        43.0   \n",
       "2      1000      7                   340.0                        47.0   \n",
       "3      1000      8                   408.0                        52.0   \n",
       "4      1000      9                   466.0                        58.0   \n",
       "5      1000     10                   350.0                        57.0   \n",
       "6      1000     11                   338.0                        43.0   \n",
       "7      1000     12                   333.0                        46.0   \n",
       "8      1001     11                   430.0                        59.0   \n",
       "9      1001     12                   414.0                        63.0   \n",
       "10     1002      6                   117.0                        15.0   \n",
       "11     1002      7                   214.0                        26.0   \n",
       "12     1002      8                   289.0                        42.0   \n",
       "13     1002      9                   206.0                        36.0   \n",
       "14     1002     10                   212.0                        33.0   \n",
       "15     1002     11                   243.0                        32.0   \n",
       "16     1002     12                   236.0                        33.0   \n",
       "17     1003      8                   380.0                        55.0   \n",
       "18     1003      9                   961.0                       134.0   \n",
       "19     1003     10                   855.0                       108.0   \n",
       "\n",
       "    total_messages_in_month  total_mb_in_month  messages_included  \\\n",
       "0                      22.0            2253.49               1000   \n",
       "1                      60.0           23233.77               1000   \n",
       "2                      75.0           14003.64               1000   \n",
       "3                      81.0           14055.93               1000   \n",
       "4                      57.0           14568.91               1000   \n",
       "5                      73.0           14702.49               1000   \n",
       "6                      58.0           14756.47               1000   \n",
       "7                      70.0            9817.61               1000   \n",
       "8                       NaN           18429.34                 50   \n",
       "9                       NaN           14036.66                 50   \n",
       "10                      4.0           10856.82                 50   \n",
       "11                     11.0           17580.10                 50   \n",
       "12                     13.0           20319.26                 50   \n",
       "13                      4.0           16691.08                 50   \n",
       "14                     10.0           13888.25                 50   \n",
       "15                     16.0           18587.28                 50   \n",
       "16                     12.0           18113.73                 50   \n",
       "17                     37.0            8565.21               1000   \n",
       "18                     91.0           12468.87               1000   \n",
       "19                     83.0           14768.14               1000   \n",
       "\n",
       "    mb_per_month_included  minutes_included  rub_monthly_fee  rub_per_gb  \\\n",
       "0                   30720              3000             1950         150   \n",
       "1                   30720              3000             1950         150   \n",
       "2                   30720              3000             1950         150   \n",
       "3                   30720              3000             1950         150   \n",
       "4                   30720              3000             1950         150   \n",
       "5                   30720              3000             1950         150   \n",
       "6                   30720              3000             1950         150   \n",
       "7                   30720              3000             1950         150   \n",
       "8                   15360               500              550         200   \n",
       "9                   15360               500              550         200   \n",
       "10                  15360               500              550         200   \n",
       "11                  15360               500              550         200   \n",
       "12                  15360               500              550         200   \n",
       "13                  15360               500              550         200   \n",
       "14                  15360               500              550         200   \n",
       "15                  15360               500              550         200   \n",
       "16                  15360               500              550         200   \n",
       "17                  30720              3000             1950         150   \n",
       "18                  30720              3000             1950         150   \n",
       "19                  30720              3000             1950         150   \n",
       "\n",
       "    rub_per_message  rub_per_minute         city tariff  \n",
       "0                 1               1    Краснодар  ultra  \n",
       "1                 1               1    Краснодар  ultra  \n",
       "2                 1               1    Краснодар  ultra  \n",
       "3                 1               1    Краснодар  ultra  \n",
       "4                 1               1    Краснодар  ultra  \n",
       "5                 1               1    Краснодар  ultra  \n",
       "6                 1               1    Краснодар  ultra  \n",
       "7                 1               1    Краснодар  ultra  \n",
       "8                 3               3       Москва  smart  \n",
       "9                 3               3       Москва  smart  \n",
       "10                3               3  Стерлитамак  smart  \n",
       "11                3               3  Стерлитамак  smart  \n",
       "12                3               3  Стерлитамак  smart  \n",
       "13                3               3  Стерлитамак  smart  \n",
       "14                3               3  Стерлитамак  smart  \n",
       "15                3               3  Стерлитамак  smart  \n",
       "16                3               3  Стерлитамак  smart  \n",
       "17                1               1       Москва  ultra  \n",
       "18                1               1       Москва  ultra  \n",
       "19                1               1       Москва  ultra  "
      ]
     },
     "execution_count": 35,
     "metadata": {},
     "output_type": "execute_result"
    }
   ],
   "source": [
    "revenue.head(20)"
   ]
  },
  {
   "cell_type": "code",
   "execution_count": 36,
   "metadata": {},
   "outputs": [
    {
     "name": "stdout",
     "output_type": "stream",
     "text": [
      "<class 'pandas.core.frame.DataFrame'>\n",
      "Int64Index: 3214 entries, 0 to 3213\n",
      "Data columns (total 15 columns):\n",
      " #   Column                      Non-Null Count  Dtype  \n",
      "---  ------                      --------------  -----  \n",
      " 0   user_id                     3214 non-null   int64  \n",
      " 1   month                       3214 non-null   int64  \n",
      " 2   total_minutes_in_month      3174 non-null   float64\n",
      " 3   total_count_call_in_mounth  3174 non-null   float64\n",
      " 4   total_messages_in_month     2717 non-null   float64\n",
      " 5   total_mb_in_month           3203 non-null   float64\n",
      " 6   messages_included           3214 non-null   int64  \n",
      " 7   mb_per_month_included       3214 non-null   int64  \n",
      " 8   minutes_included            3214 non-null   int64  \n",
      " 9   rub_monthly_fee             3214 non-null   int64  \n",
      " 10  rub_per_gb                  3214 non-null   int64  \n",
      " 11  rub_per_message             3214 non-null   int64  \n",
      " 12  rub_per_minute              3214 non-null   int64  \n",
      " 13  city                        3214 non-null   object \n",
      " 14  tariff                      3214 non-null   object \n",
      "dtypes: float64(4), int64(9), object(2)\n",
      "memory usage: 401.8+ KB\n"
     ]
    }
   ],
   "source": [
    "revenue.info()"
   ]
  },
  {
   "cell_type": "markdown",
   "metadata": {},
   "source": [
    "У нас есть пользователи, которые не пользуются некоторыми из услуг. Заполним для них пропуски нулями"
   ]
  },
  {
   "cell_type": "code",
   "execution_count": 37,
   "metadata": {},
   "outputs": [],
   "source": [
    "revenue['total_minutes_in_month'] = revenue['total_minutes_in_month'].fillna(0)\n",
    "revenue['total_count_call_in_mounth'] = revenue['total_count_call_in_mounth'].fillna(0)\n",
    "revenue['total_messages_in_month'] = revenue['total_messages_in_month'].fillna(0)\n",
    "revenue['total_mb_in_month'] = revenue['total_mb_in_month'].fillna(0)"
   ]
  },
  {
   "cell_type": "code",
   "execution_count": 38,
   "metadata": {},
   "outputs": [
    {
     "name": "stdout",
     "output_type": "stream",
     "text": [
      "<class 'pandas.core.frame.DataFrame'>\n",
      "Int64Index: 3214 entries, 0 to 3213\n",
      "Data columns (total 15 columns):\n",
      " #   Column                      Non-Null Count  Dtype  \n",
      "---  ------                      --------------  -----  \n",
      " 0   user_id                     3214 non-null   int64  \n",
      " 1   month                       3214 non-null   int64  \n",
      " 2   total_minutes_in_month      3214 non-null   float64\n",
      " 3   total_count_call_in_mounth  3214 non-null   float64\n",
      " 4   total_messages_in_month     3214 non-null   float64\n",
      " 5   total_mb_in_month           3214 non-null   float64\n",
      " 6   messages_included           3214 non-null   int64  \n",
      " 7   mb_per_month_included       3214 non-null   int64  \n",
      " 8   minutes_included            3214 non-null   int64  \n",
      " 9   rub_monthly_fee             3214 non-null   int64  \n",
      " 10  rub_per_gb                  3214 non-null   int64  \n",
      " 11  rub_per_message             3214 non-null   int64  \n",
      " 12  rub_per_minute              3214 non-null   int64  \n",
      " 13  city                        3214 non-null   object \n",
      " 14  tariff                      3214 non-null   object \n",
      "dtypes: float64(4), int64(9), object(2)\n",
      "memory usage: 401.8+ KB\n"
     ]
    }
   ],
   "source": [
    "revenue.info()"
   ]
  },
  {
   "cell_type": "markdown",
   "metadata": {},
   "source": [
    "Все хорошо, подсчитаем прибыль"
   ]
  },
  {
   "cell_type": "code",
   "execution_count": 39,
   "metadata": {},
   "outputs": [],
   "source": [
    "def calculate_revenue(row):\n",
    "    message_revenue = (row['total_messages_in_month'] - row['messages_included']) * row['rub_per_message']\n",
    "    call_revenue = (row['total_minutes_in_month'] - row['minutes_included']) * row['rub_per_minute']\n",
    "    trafffic_revenue = np.ceil((row['total_mb_in_month'] - row['mb_per_month_included']) / 1024) * row['rub_per_gb']\n",
    "    \n",
    "    excess_revenue = 0\n",
    "    for item in [message_revenue, call_revenue, trafffic_revenue]:\n",
    "        if item > 0:\n",
    "            excess_revenue += item\n",
    "    return excess_revenue"
   ]
  },
  {
   "cell_type": "code",
   "execution_count": 40,
   "metadata": {},
   "outputs": [],
   "source": [
    "revenue['excess_revenue'] = revenue.apply(calculate_revenue, axis=1)"
   ]
  },
  {
   "cell_type": "code",
   "execution_count": 41,
   "metadata": {},
   "outputs": [],
   "source": [
    "revenue['total_revenue'] = revenue['excess_revenue'] + revenue['rub_monthly_fee']"
   ]
  },
  {
   "cell_type": "code",
   "execution_count": 42,
   "metadata": {},
   "outputs": [
    {
     "data": {
      "text/html": [
       "<div>\n",
       "<style scoped>\n",
       "    .dataframe tbody tr th:only-of-type {\n",
       "        vertical-align: middle;\n",
       "    }\n",
       "\n",
       "    .dataframe tbody tr th {\n",
       "        vertical-align: top;\n",
       "    }\n",
       "\n",
       "    .dataframe thead th {\n",
       "        text-align: right;\n",
       "    }\n",
       "</style>\n",
       "<table border=\"1\" class=\"dataframe\">\n",
       "  <thead>\n",
       "    <tr style=\"text-align: right;\">\n",
       "      <th></th>\n",
       "      <th>user_id</th>\n",
       "      <th>month</th>\n",
       "      <th>total_minutes_in_month</th>\n",
       "      <th>total_count_call_in_mounth</th>\n",
       "      <th>total_messages_in_month</th>\n",
       "      <th>total_mb_in_month</th>\n",
       "      <th>messages_included</th>\n",
       "      <th>mb_per_month_included</th>\n",
       "      <th>minutes_included</th>\n",
       "      <th>rub_monthly_fee</th>\n",
       "      <th>rub_per_gb</th>\n",
       "      <th>rub_per_message</th>\n",
       "      <th>rub_per_minute</th>\n",
       "      <th>city</th>\n",
       "      <th>tariff</th>\n",
       "      <th>excess_revenue</th>\n",
       "      <th>total_revenue</th>\n",
       "    </tr>\n",
       "  </thead>\n",
       "  <tbody>\n",
       "    <tr>\n",
       "      <th>0</th>\n",
       "      <td>1000</td>\n",
       "      <td>5</td>\n",
       "      <td>159.0</td>\n",
       "      <td>22.0</td>\n",
       "      <td>22.0</td>\n",
       "      <td>2253.49</td>\n",
       "      <td>1000</td>\n",
       "      <td>30720</td>\n",
       "      <td>3000</td>\n",
       "      <td>1950</td>\n",
       "      <td>150</td>\n",
       "      <td>1</td>\n",
       "      <td>1</td>\n",
       "      <td>Краснодар</td>\n",
       "      <td>ultra</td>\n",
       "      <td>0.0</td>\n",
       "      <td>1950.0</td>\n",
       "    </tr>\n",
       "    <tr>\n",
       "      <th>1</th>\n",
       "      <td>1000</td>\n",
       "      <td>6</td>\n",
       "      <td>172.0</td>\n",
       "      <td>43.0</td>\n",
       "      <td>60.0</td>\n",
       "      <td>23233.77</td>\n",
       "      <td>1000</td>\n",
       "      <td>30720</td>\n",
       "      <td>3000</td>\n",
       "      <td>1950</td>\n",
       "      <td>150</td>\n",
       "      <td>1</td>\n",
       "      <td>1</td>\n",
       "      <td>Краснодар</td>\n",
       "      <td>ultra</td>\n",
       "      <td>0.0</td>\n",
       "      <td>1950.0</td>\n",
       "    </tr>\n",
       "    <tr>\n",
       "      <th>2</th>\n",
       "      <td>1000</td>\n",
       "      <td>7</td>\n",
       "      <td>340.0</td>\n",
       "      <td>47.0</td>\n",
       "      <td>75.0</td>\n",
       "      <td>14003.64</td>\n",
       "      <td>1000</td>\n",
       "      <td>30720</td>\n",
       "      <td>3000</td>\n",
       "      <td>1950</td>\n",
       "      <td>150</td>\n",
       "      <td>1</td>\n",
       "      <td>1</td>\n",
       "      <td>Краснодар</td>\n",
       "      <td>ultra</td>\n",
       "      <td>0.0</td>\n",
       "      <td>1950.0</td>\n",
       "    </tr>\n",
       "    <tr>\n",
       "      <th>3</th>\n",
       "      <td>1000</td>\n",
       "      <td>8</td>\n",
       "      <td>408.0</td>\n",
       "      <td>52.0</td>\n",
       "      <td>81.0</td>\n",
       "      <td>14055.93</td>\n",
       "      <td>1000</td>\n",
       "      <td>30720</td>\n",
       "      <td>3000</td>\n",
       "      <td>1950</td>\n",
       "      <td>150</td>\n",
       "      <td>1</td>\n",
       "      <td>1</td>\n",
       "      <td>Краснодар</td>\n",
       "      <td>ultra</td>\n",
       "      <td>0.0</td>\n",
       "      <td>1950.0</td>\n",
       "    </tr>\n",
       "    <tr>\n",
       "      <th>4</th>\n",
       "      <td>1000</td>\n",
       "      <td>9</td>\n",
       "      <td>466.0</td>\n",
       "      <td>58.0</td>\n",
       "      <td>57.0</td>\n",
       "      <td>14568.91</td>\n",
       "      <td>1000</td>\n",
       "      <td>30720</td>\n",
       "      <td>3000</td>\n",
       "      <td>1950</td>\n",
       "      <td>150</td>\n",
       "      <td>1</td>\n",
       "      <td>1</td>\n",
       "      <td>Краснодар</td>\n",
       "      <td>ultra</td>\n",
       "      <td>0.0</td>\n",
       "      <td>1950.0</td>\n",
       "    </tr>\n",
       "    <tr>\n",
       "      <th>5</th>\n",
       "      <td>1000</td>\n",
       "      <td>10</td>\n",
       "      <td>350.0</td>\n",
       "      <td>57.0</td>\n",
       "      <td>73.0</td>\n",
       "      <td>14702.49</td>\n",
       "      <td>1000</td>\n",
       "      <td>30720</td>\n",
       "      <td>3000</td>\n",
       "      <td>1950</td>\n",
       "      <td>150</td>\n",
       "      <td>1</td>\n",
       "      <td>1</td>\n",
       "      <td>Краснодар</td>\n",
       "      <td>ultra</td>\n",
       "      <td>0.0</td>\n",
       "      <td>1950.0</td>\n",
       "    </tr>\n",
       "    <tr>\n",
       "      <th>6</th>\n",
       "      <td>1000</td>\n",
       "      <td>11</td>\n",
       "      <td>338.0</td>\n",
       "      <td>43.0</td>\n",
       "      <td>58.0</td>\n",
       "      <td>14756.47</td>\n",
       "      <td>1000</td>\n",
       "      <td>30720</td>\n",
       "      <td>3000</td>\n",
       "      <td>1950</td>\n",
       "      <td>150</td>\n",
       "      <td>1</td>\n",
       "      <td>1</td>\n",
       "      <td>Краснодар</td>\n",
       "      <td>ultra</td>\n",
       "      <td>0.0</td>\n",
       "      <td>1950.0</td>\n",
       "    </tr>\n",
       "    <tr>\n",
       "      <th>7</th>\n",
       "      <td>1000</td>\n",
       "      <td>12</td>\n",
       "      <td>333.0</td>\n",
       "      <td>46.0</td>\n",
       "      <td>70.0</td>\n",
       "      <td>9817.61</td>\n",
       "      <td>1000</td>\n",
       "      <td>30720</td>\n",
       "      <td>3000</td>\n",
       "      <td>1950</td>\n",
       "      <td>150</td>\n",
       "      <td>1</td>\n",
       "      <td>1</td>\n",
       "      <td>Краснодар</td>\n",
       "      <td>ultra</td>\n",
       "      <td>0.0</td>\n",
       "      <td>1950.0</td>\n",
       "    </tr>\n",
       "    <tr>\n",
       "      <th>8</th>\n",
       "      <td>1001</td>\n",
       "      <td>11</td>\n",
       "      <td>430.0</td>\n",
       "      <td>59.0</td>\n",
       "      <td>0.0</td>\n",
       "      <td>18429.34</td>\n",
       "      <td>50</td>\n",
       "      <td>15360</td>\n",
       "      <td>500</td>\n",
       "      <td>550</td>\n",
       "      <td>200</td>\n",
       "      <td>3</td>\n",
       "      <td>3</td>\n",
       "      <td>Москва</td>\n",
       "      <td>smart</td>\n",
       "      <td>600.0</td>\n",
       "      <td>1150.0</td>\n",
       "    </tr>\n",
       "    <tr>\n",
       "      <th>9</th>\n",
       "      <td>1001</td>\n",
       "      <td>12</td>\n",
       "      <td>414.0</td>\n",
       "      <td>63.0</td>\n",
       "      <td>0.0</td>\n",
       "      <td>14036.66</td>\n",
       "      <td>50</td>\n",
       "      <td>15360</td>\n",
       "      <td>500</td>\n",
       "      <td>550</td>\n",
       "      <td>200</td>\n",
       "      <td>3</td>\n",
       "      <td>3</td>\n",
       "      <td>Москва</td>\n",
       "      <td>smart</td>\n",
       "      <td>0.0</td>\n",
       "      <td>550.0</td>\n",
       "    </tr>\n",
       "    <tr>\n",
       "      <th>10</th>\n",
       "      <td>1002</td>\n",
       "      <td>6</td>\n",
       "      <td>117.0</td>\n",
       "      <td>15.0</td>\n",
       "      <td>4.0</td>\n",
       "      <td>10856.82</td>\n",
       "      <td>50</td>\n",
       "      <td>15360</td>\n",
       "      <td>500</td>\n",
       "      <td>550</td>\n",
       "      <td>200</td>\n",
       "      <td>3</td>\n",
       "      <td>3</td>\n",
       "      <td>Стерлитамак</td>\n",
       "      <td>smart</td>\n",
       "      <td>0.0</td>\n",
       "      <td>550.0</td>\n",
       "    </tr>\n",
       "    <tr>\n",
       "      <th>11</th>\n",
       "      <td>1002</td>\n",
       "      <td>7</td>\n",
       "      <td>214.0</td>\n",
       "      <td>26.0</td>\n",
       "      <td>11.0</td>\n",
       "      <td>17580.10</td>\n",
       "      <td>50</td>\n",
       "      <td>15360</td>\n",
       "      <td>500</td>\n",
       "      <td>550</td>\n",
       "      <td>200</td>\n",
       "      <td>3</td>\n",
       "      <td>3</td>\n",
       "      <td>Стерлитамак</td>\n",
       "      <td>smart</td>\n",
       "      <td>600.0</td>\n",
       "      <td>1150.0</td>\n",
       "    </tr>\n",
       "    <tr>\n",
       "      <th>12</th>\n",
       "      <td>1002</td>\n",
       "      <td>8</td>\n",
       "      <td>289.0</td>\n",
       "      <td>42.0</td>\n",
       "      <td>13.0</td>\n",
       "      <td>20319.26</td>\n",
       "      <td>50</td>\n",
       "      <td>15360</td>\n",
       "      <td>500</td>\n",
       "      <td>550</td>\n",
       "      <td>200</td>\n",
       "      <td>3</td>\n",
       "      <td>3</td>\n",
       "      <td>Стерлитамак</td>\n",
       "      <td>smart</td>\n",
       "      <td>1000.0</td>\n",
       "      <td>1550.0</td>\n",
       "    </tr>\n",
       "    <tr>\n",
       "      <th>13</th>\n",
       "      <td>1002</td>\n",
       "      <td>9</td>\n",
       "      <td>206.0</td>\n",
       "      <td>36.0</td>\n",
       "      <td>4.0</td>\n",
       "      <td>16691.08</td>\n",
       "      <td>50</td>\n",
       "      <td>15360</td>\n",
       "      <td>500</td>\n",
       "      <td>550</td>\n",
       "      <td>200</td>\n",
       "      <td>3</td>\n",
       "      <td>3</td>\n",
       "      <td>Стерлитамак</td>\n",
       "      <td>smart</td>\n",
       "      <td>400.0</td>\n",
       "      <td>950.0</td>\n",
       "    </tr>\n",
       "    <tr>\n",
       "      <th>14</th>\n",
       "      <td>1002</td>\n",
       "      <td>10</td>\n",
       "      <td>212.0</td>\n",
       "      <td>33.0</td>\n",
       "      <td>10.0</td>\n",
       "      <td>13888.25</td>\n",
       "      <td>50</td>\n",
       "      <td>15360</td>\n",
       "      <td>500</td>\n",
       "      <td>550</td>\n",
       "      <td>200</td>\n",
       "      <td>3</td>\n",
       "      <td>3</td>\n",
       "      <td>Стерлитамак</td>\n",
       "      <td>smart</td>\n",
       "      <td>0.0</td>\n",
       "      <td>550.0</td>\n",
       "    </tr>\n",
       "    <tr>\n",
       "      <th>15</th>\n",
       "      <td>1002</td>\n",
       "      <td>11</td>\n",
       "      <td>243.0</td>\n",
       "      <td>32.0</td>\n",
       "      <td>16.0</td>\n",
       "      <td>18587.28</td>\n",
       "      <td>50</td>\n",
       "      <td>15360</td>\n",
       "      <td>500</td>\n",
       "      <td>550</td>\n",
       "      <td>200</td>\n",
       "      <td>3</td>\n",
       "      <td>3</td>\n",
       "      <td>Стерлитамак</td>\n",
       "      <td>smart</td>\n",
       "      <td>800.0</td>\n",
       "      <td>1350.0</td>\n",
       "    </tr>\n",
       "    <tr>\n",
       "      <th>16</th>\n",
       "      <td>1002</td>\n",
       "      <td>12</td>\n",
       "      <td>236.0</td>\n",
       "      <td>33.0</td>\n",
       "      <td>12.0</td>\n",
       "      <td>18113.73</td>\n",
       "      <td>50</td>\n",
       "      <td>15360</td>\n",
       "      <td>500</td>\n",
       "      <td>550</td>\n",
       "      <td>200</td>\n",
       "      <td>3</td>\n",
       "      <td>3</td>\n",
       "      <td>Стерлитамак</td>\n",
       "      <td>smart</td>\n",
       "      <td>600.0</td>\n",
       "      <td>1150.0</td>\n",
       "    </tr>\n",
       "    <tr>\n",
       "      <th>17</th>\n",
       "      <td>1003</td>\n",
       "      <td>8</td>\n",
       "      <td>380.0</td>\n",
       "      <td>55.0</td>\n",
       "      <td>37.0</td>\n",
       "      <td>8565.21</td>\n",
       "      <td>1000</td>\n",
       "      <td>30720</td>\n",
       "      <td>3000</td>\n",
       "      <td>1950</td>\n",
       "      <td>150</td>\n",
       "      <td>1</td>\n",
       "      <td>1</td>\n",
       "      <td>Москва</td>\n",
       "      <td>ultra</td>\n",
       "      <td>0.0</td>\n",
       "      <td>1950.0</td>\n",
       "    </tr>\n",
       "    <tr>\n",
       "      <th>18</th>\n",
       "      <td>1003</td>\n",
       "      <td>9</td>\n",
       "      <td>961.0</td>\n",
       "      <td>134.0</td>\n",
       "      <td>91.0</td>\n",
       "      <td>12468.87</td>\n",
       "      <td>1000</td>\n",
       "      <td>30720</td>\n",
       "      <td>3000</td>\n",
       "      <td>1950</td>\n",
       "      <td>150</td>\n",
       "      <td>1</td>\n",
       "      <td>1</td>\n",
       "      <td>Москва</td>\n",
       "      <td>ultra</td>\n",
       "      <td>0.0</td>\n",
       "      <td>1950.0</td>\n",
       "    </tr>\n",
       "    <tr>\n",
       "      <th>19</th>\n",
       "      <td>1003</td>\n",
       "      <td>10</td>\n",
       "      <td>855.0</td>\n",
       "      <td>108.0</td>\n",
       "      <td>83.0</td>\n",
       "      <td>14768.14</td>\n",
       "      <td>1000</td>\n",
       "      <td>30720</td>\n",
       "      <td>3000</td>\n",
       "      <td>1950</td>\n",
       "      <td>150</td>\n",
       "      <td>1</td>\n",
       "      <td>1</td>\n",
       "      <td>Москва</td>\n",
       "      <td>ultra</td>\n",
       "      <td>0.0</td>\n",
       "      <td>1950.0</td>\n",
       "    </tr>\n",
       "  </tbody>\n",
       "</table>\n",
       "</div>"
      ],
      "text/plain": [
       "    user_id  month  total_minutes_in_month  total_count_call_in_mounth  \\\n",
       "0      1000      5                   159.0                        22.0   \n",
       "1      1000      6                   172.0                        43.0   \n",
       "2      1000      7                   340.0                        47.0   \n",
       "3      1000      8                   408.0                        52.0   \n",
       "4      1000      9                   466.0                        58.0   \n",
       "5      1000     10                   350.0                        57.0   \n",
       "6      1000     11                   338.0                        43.0   \n",
       "7      1000     12                   333.0                        46.0   \n",
       "8      1001     11                   430.0                        59.0   \n",
       "9      1001     12                   414.0                        63.0   \n",
       "10     1002      6                   117.0                        15.0   \n",
       "11     1002      7                   214.0                        26.0   \n",
       "12     1002      8                   289.0                        42.0   \n",
       "13     1002      9                   206.0                        36.0   \n",
       "14     1002     10                   212.0                        33.0   \n",
       "15     1002     11                   243.0                        32.0   \n",
       "16     1002     12                   236.0                        33.0   \n",
       "17     1003      8                   380.0                        55.0   \n",
       "18     1003      9                   961.0                       134.0   \n",
       "19     1003     10                   855.0                       108.0   \n",
       "\n",
       "    total_messages_in_month  total_mb_in_month  messages_included  \\\n",
       "0                      22.0            2253.49               1000   \n",
       "1                      60.0           23233.77               1000   \n",
       "2                      75.0           14003.64               1000   \n",
       "3                      81.0           14055.93               1000   \n",
       "4                      57.0           14568.91               1000   \n",
       "5                      73.0           14702.49               1000   \n",
       "6                      58.0           14756.47               1000   \n",
       "7                      70.0            9817.61               1000   \n",
       "8                       0.0           18429.34                 50   \n",
       "9                       0.0           14036.66                 50   \n",
       "10                      4.0           10856.82                 50   \n",
       "11                     11.0           17580.10                 50   \n",
       "12                     13.0           20319.26                 50   \n",
       "13                      4.0           16691.08                 50   \n",
       "14                     10.0           13888.25                 50   \n",
       "15                     16.0           18587.28                 50   \n",
       "16                     12.0           18113.73                 50   \n",
       "17                     37.0            8565.21               1000   \n",
       "18                     91.0           12468.87               1000   \n",
       "19                     83.0           14768.14               1000   \n",
       "\n",
       "    mb_per_month_included  minutes_included  rub_monthly_fee  rub_per_gb  \\\n",
       "0                   30720              3000             1950         150   \n",
       "1                   30720              3000             1950         150   \n",
       "2                   30720              3000             1950         150   \n",
       "3                   30720              3000             1950         150   \n",
       "4                   30720              3000             1950         150   \n",
       "5                   30720              3000             1950         150   \n",
       "6                   30720              3000             1950         150   \n",
       "7                   30720              3000             1950         150   \n",
       "8                   15360               500              550         200   \n",
       "9                   15360               500              550         200   \n",
       "10                  15360               500              550         200   \n",
       "11                  15360               500              550         200   \n",
       "12                  15360               500              550         200   \n",
       "13                  15360               500              550         200   \n",
       "14                  15360               500              550         200   \n",
       "15                  15360               500              550         200   \n",
       "16                  15360               500              550         200   \n",
       "17                  30720              3000             1950         150   \n",
       "18                  30720              3000             1950         150   \n",
       "19                  30720              3000             1950         150   \n",
       "\n",
       "    rub_per_message  rub_per_minute         city tariff  excess_revenue  \\\n",
       "0                 1               1    Краснодар  ultra             0.0   \n",
       "1                 1               1    Краснодар  ultra             0.0   \n",
       "2                 1               1    Краснодар  ultra             0.0   \n",
       "3                 1               1    Краснодар  ultra             0.0   \n",
       "4                 1               1    Краснодар  ultra             0.0   \n",
       "5                 1               1    Краснодар  ultra             0.0   \n",
       "6                 1               1    Краснодар  ultra             0.0   \n",
       "7                 1               1    Краснодар  ultra             0.0   \n",
       "8                 3               3       Москва  smart           600.0   \n",
       "9                 3               3       Москва  smart             0.0   \n",
       "10                3               3  Стерлитамак  smart             0.0   \n",
       "11                3               3  Стерлитамак  smart           600.0   \n",
       "12                3               3  Стерлитамак  smart          1000.0   \n",
       "13                3               3  Стерлитамак  smart           400.0   \n",
       "14                3               3  Стерлитамак  smart             0.0   \n",
       "15                3               3  Стерлитамак  smart           800.0   \n",
       "16                3               3  Стерлитамак  smart           600.0   \n",
       "17                1               1       Москва  ultra             0.0   \n",
       "18                1               1       Москва  ultra             0.0   \n",
       "19                1               1       Москва  ultra             0.0   \n",
       "\n",
       "    total_revenue  \n",
       "0          1950.0  \n",
       "1          1950.0  \n",
       "2          1950.0  \n",
       "3          1950.0  \n",
       "4          1950.0  \n",
       "5          1950.0  \n",
       "6          1950.0  \n",
       "7          1950.0  \n",
       "8          1150.0  \n",
       "9           550.0  \n",
       "10          550.0  \n",
       "11         1150.0  \n",
       "12         1550.0  \n",
       "13          950.0  \n",
       "14          550.0  \n",
       "15         1350.0  \n",
       "16         1150.0  \n",
       "17         1950.0  \n",
       "18         1950.0  \n",
       "19         1950.0  "
      ]
     },
     "execution_count": 42,
     "metadata": {},
     "output_type": "execute_result"
    }
   ],
   "source": [
    "revenue.head(20)"
   ]
  },
  {
   "cell_type": "markdown",
   "metadata": {},
   "source": [
    "У нас есть таблица с месячной выручкой по клиентам. Ура"
   ]
  },
  {
   "cell_type": "markdown",
   "metadata": {},
   "source": [
    "## Проанализируем данные\n",
    "\n",
    "\n",
    "Опишите поведение клиентов оператора, исходя из выборки. \n",
    "-  Сколько минут разговора, сколько сообщений и какой объём интернет-трафика требуется пользователям каждого тарифа в месяц? \n",
    "- Посчитайте среднее количество, дисперсию и стандартное отклонение. \n",
    "- Постройте гистограммы. \n",
    "- Опишите распределения."
   ]
  },
  {
   "cell_type": "markdown",
   "metadata": {},
   "source": [
    "### Сколько минут разговора требуется пользователям каждого тарифа в месяц?"
   ]
  },
  {
   "cell_type": "code",
   "execution_count": 43,
   "metadata": {},
   "outputs": [],
   "source": [
    "df_calls_smart = revenue[revenue['tariff'] == 'smart']['total_minutes_in_month']\n",
    "df_calls_ultra = revenue[revenue['tariff'] == 'ultra']['total_minutes_in_month']"
   ]
  },
  {
   "cell_type": "code",
   "execution_count": 44,
   "metadata": {},
   "outputs": [
    {
     "data": {
      "text/plain": [
       "count    2229.000000\n",
       "mean      417.934948\n",
       "std       190.313730\n",
       "min         0.000000\n",
       "25%       282.000000\n",
       "50%       422.000000\n",
       "75%       545.000000\n",
       "max      1435.000000\n",
       "Name: total_minutes_in_month, dtype: float64"
      ]
     },
     "execution_count": 44,
     "metadata": {},
     "output_type": "execute_result"
    }
   ],
   "source": [
    "df_calls_smart.describe()"
   ]
  },
  {
   "cell_type": "code",
   "execution_count": 45,
   "metadata": {},
   "outputs": [
    {
     "data": {
      "text/plain": [
       "count     985.000000\n",
       "mean      526.623350\n",
       "std       317.606098\n",
       "min         0.000000\n",
       "25%       284.000000\n",
       "50%       518.000000\n",
       "75%       752.000000\n",
       "max      1673.000000\n",
       "Name: total_minutes_in_month, dtype: float64"
      ]
     },
     "execution_count": 45,
     "metadata": {},
     "output_type": "execute_result"
    }
   ],
   "source": [
    "df_calls_ultra.describe()"
   ]
  },
  {
   "cell_type": "code",
   "execution_count": 46,
   "metadata": {},
   "outputs": [
    {
     "data": {
      "image/png": "[encoded data removed]",
      "text/plain": [
       "<Figure size 432x288 with 1 Axes>"
      ]
     },
     "metadata": {
      "needs_background": "light"
     },
     "output_type": "display_data"
    }
   ],
   "source": [
    "df_calls_smart.hist(bins=50)\n",
    "plt.title(\"Тариф 'smart': Количество использованных минут в месяц\")\n",
    "plt.show()"
   ]
  },
  {
   "cell_type": "code",
   "execution_count": 47,
   "metadata": {},
   "outputs": [
    {
     "data": {
      "image/png": "[encoded data removed]",
      "text/plain": [
       "<Figure size 432x288 with 1 Axes>"
      ]
     },
     "metadata": {
      "needs_background": "light"
     },
     "output_type": "display_data"
    }
   ],
   "source": [
    "df_calls_ultra.hist(bins=50)\n",
    "plt.title(\"Тариф 'ultra': Количество использованных минут в месяц\")\n",
    "plt.show()"
   ]
  },
  {
   "cell_type": "code",
   "execution_count": 48,
   "metadata": {},
   "outputs": [
    {
     "data": {
      "text/html": [
       "<div>\n",
       "<style scoped>\n",
       "    .dataframe tbody tr th:only-of-type {\n",
       "        vertical-align: middle;\n",
       "    }\n",
       "\n",
       "    .dataframe tbody tr th {\n",
       "        vertical-align: top;\n",
       "    }\n",
       "\n",
       "    .dataframe thead th {\n",
       "        text-align: right;\n",
       "    }\n",
       "</style>\n",
       "<table border=\"1\" class=\"dataframe\">\n",
       "  <thead>\n",
       "    <tr style=\"text-align: right;\">\n",
       "      <th></th>\n",
       "      <th>tariff_name</th>\n",
       "      <th>minutes_included</th>\n",
       "    </tr>\n",
       "  </thead>\n",
       "  <tbody>\n",
       "    <tr>\n",
       "      <th>0</th>\n",
       "      <td>smart</td>\n",
       "      <td>500</td>\n",
       "    </tr>\n",
       "    <tr>\n",
       "      <th>1</th>\n",
       "      <td>ultra</td>\n",
       "      <td>3000</td>\n",
       "    </tr>\n",
       "  </tbody>\n",
       "</table>\n",
       "</div>"
      ],
      "text/plain": [
       "  tariff_name  minutes_included\n",
       "0       smart               500\n",
       "1       ultra              3000"
      ]
     },
     "execution_count": 48,
     "metadata": {},
     "output_type": "execute_result"
    }
   ],
   "source": [
    "tariffs_df[['tariff_name', 'minutes_included']]"
   ]
  },
  {
   "cell_type": "markdown",
   "metadata": {},
   "source": [
    "Можем увидеть, что для тарифа `ultra` почти все пользователи укладываются в тариф. Для тарифа `smart` за  ограничения выходят около половины пользователей."
   ]
  },
  {
   "cell_type": "markdown",
   "metadata": {},
   "source": [
    "### Сколько трафика требуется пользователям каждого тарифа в месяц?"
   ]
  },
  {
   "cell_type": "code",
   "execution_count": 49,
   "metadata": {},
   "outputs": [],
   "source": [
    "df_traffic_smart = revenue[revenue['tariff'] == 'smart']['total_mb_in_month']\n",
    "df_traffic_ultra = revenue[revenue['tariff'] == 'ultra']['total_mb_in_month']"
   ]
  },
  {
   "cell_type": "code",
   "execution_count": 50,
   "metadata": {},
   "outputs": [
    {
     "data": {
      "text/plain": [
       "count     2229.000000\n",
       "mean     16208.386990\n",
       "std       5870.476681\n",
       "min          0.000000\n",
       "25%      12643.010000\n",
       "50%      16506.840000\n",
       "75%      20042.930000\n",
       "max      38552.450000\n",
       "Name: total_mb_in_month, dtype: float64"
      ]
     },
     "execution_count": 50,
     "metadata": {},
     "output_type": "execute_result"
    }
   ],
   "source": [
    "df_traffic_smart.describe()"
   ]
  },
  {
   "cell_type": "code",
   "execution_count": 51,
   "metadata": {},
   "outputs": [
    {
     "data": {
      "text/plain": [
       "count      985.000000\n",
       "mean     19468.805208\n",
       "std      10087.170752\n",
       "min          0.000000\n",
       "25%      11770.260000\n",
       "50%      19308.010000\n",
       "75%      26837.690000\n",
       "max      49745.690000\n",
       "Name: total_mb_in_month, dtype: float64"
      ]
     },
     "execution_count": 51,
     "metadata": {},
     "output_type": "execute_result"
    }
   ],
   "source": [
    "df_traffic_ultra.describe()"
   ]
  },
  {
   "cell_type": "code",
   "execution_count": 52,
   "metadata": {},
   "outputs": [
    {
     "data": {
      "image/png": "[encoded data removed]",
      "text/plain": [
       "<Figure size 432x288 with 1 Axes>"
      ]
     },
     "metadata": {
      "needs_background": "light"
     },
     "output_type": "display_data"
    }
   ],
   "source": [
    "df_traffic_smart.hist(bins=50)\n",
    "plt.title(\"Тариф 'smart': Количество использованного траффика в месяц\")\n",
    "plt.show()"
   ]
  },
  {
   "cell_type": "code",
   "execution_count": 53,
   "metadata": {},
   "outputs": [
    {
     "data": {
      "image/png": "[encoded data removed]",
      "text/plain": [
       "<Figure size 432x288 with 1 Axes>"
      ]
     },
     "metadata": {
      "needs_background": "light"
     },
     "output_type": "display_data"
    }
   ],
   "source": [
    "df_traffic_ultra.hist(bins=50)\n",
    "plt.title(\"Тариф 'ultra': Количество использованного траффика в месяц\")\n",
    "plt.show()"
   ]
  },
  {
   "cell_type": "code",
   "execution_count": 54,
   "metadata": {},
   "outputs": [
    {
     "data": {
      "text/html": [
       "<div>\n",
       "<style scoped>\n",
       "    .dataframe tbody tr th:only-of-type {\n",
       "        vertical-align: middle;\n",
       "    }\n",
       "\n",
       "    .dataframe tbody tr th {\n",
       "        vertical-align: top;\n",
       "    }\n",
       "\n",
       "    .dataframe thead th {\n",
       "        text-align: right;\n",
       "    }\n",
       "</style>\n",
       "<table border=\"1\" class=\"dataframe\">\n",
       "  <thead>\n",
       "    <tr style=\"text-align: right;\">\n",
       "      <th></th>\n",
       "      <th>tariff_name</th>\n",
       "      <th>mb_per_month_included</th>\n",
       "    </tr>\n",
       "  </thead>\n",
       "  <tbody>\n",
       "    <tr>\n",
       "      <th>0</th>\n",
       "      <td>smart</td>\n",
       "      <td>15360</td>\n",
       "    </tr>\n",
       "    <tr>\n",
       "      <th>1</th>\n",
       "      <td>ultra</td>\n",
       "      <td>30720</td>\n",
       "    </tr>\n",
       "  </tbody>\n",
       "</table>\n",
       "</div>"
      ],
      "text/plain": [
       "  tariff_name  mb_per_month_included\n",
       "0       smart                  15360\n",
       "1       ultra                  30720"
      ]
     },
     "execution_count": 54,
     "metadata": {},
     "output_type": "execute_result"
    }
   ],
   "source": [
    "tariffs_df[['tariff_name', 'mb_per_month_included']]"
   ]
  },
  {
   "cell_type": "markdown",
   "metadata": {},
   "source": [
    "Можем увидеть, что для тарифа `ultra` 3/4 пользователей, укладывается в тариф. Для тарифа `smart` за  ограничения выходят опять же чуть больше половины пользователей."
   ]
  },
  {
   "cell_type": "markdown",
   "metadata": {},
   "source": [
    "### Сколько sms требуется пользователям каждого тарифа в месяц?"
   ]
  },
  {
   "cell_type": "code",
   "execution_count": 55,
   "metadata": {},
   "outputs": [],
   "source": [
    "df_message_smart = revenue[revenue['tariff'] == 'smart']['total_messages_in_month']\n",
    "df_message_ultra = revenue[revenue['tariff'] == 'ultra']['total_messages_in_month']"
   ]
  },
  {
   "cell_type": "code",
   "execution_count": 56,
   "metadata": {},
   "outputs": [
    {
     "data": {
      "text/plain": [
       "count    2229.000000\n",
       "mean       33.384029\n",
       "std        28.227876\n",
       "min         0.000000\n",
       "25%        10.000000\n",
       "50%        28.000000\n",
       "75%        51.000000\n",
       "max       143.000000\n",
       "Name: total_messages_in_month, dtype: float64"
      ]
     },
     "execution_count": 56,
     "metadata": {},
     "output_type": "execute_result"
    }
   ],
   "source": [
    "df_message_smart.describe()"
   ]
  },
  {
   "cell_type": "code",
   "execution_count": 57,
   "metadata": {},
   "outputs": [
    {
     "data": {
      "text/plain": [
       "count    985.000000\n",
       "mean      49.363452\n",
       "std       47.804457\n",
       "min        0.000000\n",
       "25%        6.000000\n",
       "50%       38.000000\n",
       "75%       79.000000\n",
       "max      224.000000\n",
       "Name: total_messages_in_month, dtype: float64"
      ]
     },
     "execution_count": 57,
     "metadata": {},
     "output_type": "execute_result"
    }
   ],
   "source": [
    "df_message_ultra.describe()"
   ]
  },
  {
   "cell_type": "code",
   "execution_count": 58,
   "metadata": {},
   "outputs": [
    {
     "data": {
      "image/png": "[encoded data removed]",
      "text/plain": [
       "<Figure size 432x288 with 1 Axes>"
      ]
     },
     "metadata": {
      "needs_background": "light"
     },
     "output_type": "display_data"
    }
   ],
   "source": [
    "df_message_smart.hist(bins=50)\n",
    "plt.title(\"Тариф 'smart': Количество использованных sms в месяц\")\n",
    "plt.show()"
   ]
  },
  {
   "cell_type": "code",
   "execution_count": 59,
   "metadata": {},
   "outputs": [
    {
     "data": {
      "image/png": "[encoded data removed]",
      "text/plain": [
       "<Figure size 432x288 with 1 Axes>"
      ]
     },
     "metadata": {
      "needs_background": "light"
     },
     "output_type": "display_data"
    }
   ],
   "source": [
    "df_message_ultra.hist(bins=50)\n",
    "plt.title(\"Тариф 'ultra': Количество использованных sms в месяц\")\n",
    "plt.show()"
   ]
  },
  {
   "cell_type": "code",
   "execution_count": 60,
   "metadata": {},
   "outputs": [
    {
     "data": {
      "text/html": [
       "<div>\n",
       "<style scoped>\n",
       "    .dataframe tbody tr th:only-of-type {\n",
       "        vertical-align: middle;\n",
       "    }\n",
       "\n",
       "    .dataframe tbody tr th {\n",
       "        vertical-align: top;\n",
       "    }\n",
       "\n",
       "    .dataframe thead th {\n",
       "        text-align: right;\n",
       "    }\n",
       "</style>\n",
       "<table border=\"1\" class=\"dataframe\">\n",
       "  <thead>\n",
       "    <tr style=\"text-align: right;\">\n",
       "      <th></th>\n",
       "      <th>tariff_name</th>\n",
       "      <th>messages_included</th>\n",
       "    </tr>\n",
       "  </thead>\n",
       "  <tbody>\n",
       "    <tr>\n",
       "      <th>0</th>\n",
       "      <td>smart</td>\n",
       "      <td>50</td>\n",
       "    </tr>\n",
       "    <tr>\n",
       "      <th>1</th>\n",
       "      <td>ultra</td>\n",
       "      <td>1000</td>\n",
       "    </tr>\n",
       "  </tbody>\n",
       "</table>\n",
       "</div>"
      ],
      "text/plain": [
       "  tariff_name  messages_included\n",
       "0       smart                 50\n",
       "1       ultra               1000"
      ]
     },
     "execution_count": 60,
     "metadata": {},
     "output_type": "execute_result"
    }
   ],
   "source": [
    "tariffs_df[['tariff_name', 'messages_included']]"
   ]
  },
  {
   "cell_type": "markdown",
   "metadata": {},
   "source": [
    "Можем увидеть, что для тарифа `smart` большинство пользователей, укладывается в тариф. Для тарифа `ultra` за  ограничения не выходит никто. Вообще и та и та категории очень похожи по характеру использования сообщений. "
   ]
  },
  {
   "cell_type": "markdown",
   "metadata": {},
   "source": [
    "### Вывод\n",
    "\n",
    "Можно сказать что 3/4 пользователей тарифа `ultra` укладывается в тариф. Пользователи тарифа `smart` выходят за ограничения постоянно. Распределения по параметрам `Количество использованного траффика в месяц` и `Количество использованных минут в месяц`  носят нормальный хараетер.\n",
    "\n",
    "Параметр `Количество использованных sms в месяц` имеет специфическое рапределение, что по-видимому связанно с тем, что необходимость в sms постепенно исчезает"
   ]
  },
  {
   "cell_type": "code",
   "execution_count": 61,
   "metadata": {},
   "outputs": [
    {
     "data": {
      "text/html": [
       "<div>\n",
       "<style scoped>\n",
       "    .dataframe tbody tr th:only-of-type {\n",
       "        vertical-align: middle;\n",
       "    }\n",
       "\n",
       "    .dataframe tbody tr th {\n",
       "        vertical-align: top;\n",
       "    }\n",
       "\n",
       "    .dataframe thead tr th {\n",
       "        text-align: left;\n",
       "    }\n",
       "\n",
       "    .dataframe thead tr:last-of-type th {\n",
       "        text-align: right;\n",
       "    }\n",
       "</style>\n",
       "<table border=\"1\" class=\"dataframe\">\n",
       "  <thead>\n",
       "    <tr>\n",
       "      <th></th>\n",
       "      <th colspan=\"3\" halign=\"left\">mean</th>\n",
       "      <th colspan=\"3\" halign=\"left\">std</th>\n",
       "      <th colspan=\"3\" halign=\"left\">var</th>\n",
       "    </tr>\n",
       "    <tr>\n",
       "      <th></th>\n",
       "      <th>total_messages_in_month</th>\n",
       "      <th>total_messages_in_month</th>\n",
       "      <th>total_minutes_in_month</th>\n",
       "      <th>total_messages_in_month</th>\n",
       "      <th>total_messages_in_month</th>\n",
       "      <th>total_minutes_in_month</th>\n",
       "      <th>total_messages_in_month</th>\n",
       "      <th>total_messages_in_month</th>\n",
       "      <th>total_minutes_in_month</th>\n",
       "    </tr>\n",
       "    <tr>\n",
       "      <th>tariff</th>\n",
       "      <th></th>\n",
       "      <th></th>\n",
       "      <th></th>\n",
       "      <th></th>\n",
       "      <th></th>\n",
       "      <th></th>\n",
       "      <th></th>\n",
       "      <th></th>\n",
       "      <th></th>\n",
       "    </tr>\n",
       "  </thead>\n",
       "  <tbody>\n",
       "    <tr>\n",
       "      <th>smart</th>\n",
       "      <td>33.384029</td>\n",
       "      <td>33.384029</td>\n",
       "      <td>417.934948</td>\n",
       "      <td>28.227876</td>\n",
       "      <td>28.227876</td>\n",
       "      <td>190.313730</td>\n",
       "      <td>796.812958</td>\n",
       "      <td>796.812958</td>\n",
       "      <td>36219.315784</td>\n",
       "    </tr>\n",
       "    <tr>\n",
       "      <th>ultra</th>\n",
       "      <td>49.363452</td>\n",
       "      <td>49.363452</td>\n",
       "      <td>526.623350</td>\n",
       "      <td>47.804457</td>\n",
       "      <td>47.804457</td>\n",
       "      <td>317.606098</td>\n",
       "      <td>2285.266143</td>\n",
       "      <td>2285.266143</td>\n",
       "      <td>100873.633397</td>\n",
       "    </tr>\n",
       "  </tbody>\n",
       "</table>\n",
       "</div>"
      ],
      "text/plain": [
       "                          mean                                                 \\\n",
       "       total_messages_in_month total_messages_in_month total_minutes_in_month   \n",
       "tariff                                                                          \n",
       "smart                33.384029               33.384029             417.934948   \n",
       "ultra                49.363452               49.363452             526.623350   \n",
       "\n",
       "                           std                                                 \\\n",
       "       total_messages_in_month total_messages_in_month total_minutes_in_month   \n",
       "tariff                                                                          \n",
       "smart                28.227876               28.227876             190.313730   \n",
       "ultra                47.804457               47.804457             317.606098   \n",
       "\n",
       "                           var                                                 \n",
       "       total_messages_in_month total_messages_in_month total_minutes_in_month  \n",
       "tariff                                                                         \n",
       "smart               796.812958              796.812958           36219.315784  \n",
       "ultra              2285.266143             2285.266143          100873.633397  "
      ]
     },
     "execution_count": 61,
     "metadata": {},
     "output_type": "execute_result"
    }
   ],
   "source": [
    "# код ревьюера\n",
    "revenue.pivot_table(index = 'tariff', values = ['total_minutes_in_month', 'total_messages_in_month', 'total_messages_in_month'],\n",
    "                aggfunc = ['mean', 'std', 'var'])"
   ]
  },
  {
   "cell_type": "markdown",
   "metadata": {},
   "source": [
    "## Проверка гипотез\n",
    "\n",
    "- средняя выручка пользователей тарифов «Ультра» и «Смарт» различаются;\n",
    "- средняя выручка пользователей из Москвы отличается от выручки пользователей из других регионов.\n",
    "\n",
    "Пороговое значение alpha задайте самостоятельно.\n",
    "Поясните:\n",
    "- как вы формулировали нулевую и альтернативную гипотезы;\n",
    "- какой критерий использовали для проверки гипотез и почему."
   ]
  },
  {
   "cell_type": "markdown",
   "metadata": {},
   "source": [
    "Посмотрим на объем выборок, с которыми мы будем работать"
   ]
  },
  {
   "cell_type": "code",
   "execution_count": 62,
   "metadata": {},
   "outputs": [
    {
     "data": {
      "text/plain": [
       "smart    2229\n",
       "ultra     985\n",
       "Name: tariff, dtype: int64"
      ]
     },
     "execution_count": 62,
     "metadata": {},
     "output_type": "execute_result"
    }
   ],
   "source": [
    "revenue['tariff'].value_counts()"
   ]
  },
  {
   "cell_type": "markdown",
   "metadata": {},
   "source": [
    "И там и там количество значений больше 50, следовательно выборочное среднее распределено нормально.\n",
    "Используем t-критерий Стьюдента."
   ]
  },
  {
   "cell_type": "markdown",
   "metadata": {},
   "source": [
    "### Гипотеза о равенстве выручки на тарифах «Ультра» и «Смарт»\n",
    "\n",
    "\n",
    "У нас есть метод st.ttest_ind, который проверяет гипотезу о равенстве среднего двух генеральных совокупностей по взятым из них выборкам - будем строить гипотезы соответственно.\n",
    "\n",
    "Сформулируем гипотезы:\n",
    "\n",
    "- H0: выручка пользователей тарифов «Ультра» и «Смарт» не различается\n",
    "- H1: выручка пользователей тарифов «Ультра» и «Смарт» различается\n",
    "\n",
    "Выберем p-value = 0.05"
   ]
  },
  {
   "cell_type": "code",
   "execution_count": 63,
   "metadata": {},
   "outputs": [],
   "source": [
    "quantile_0005 = revenue['total_revenue'].quantile(0.005)\n",
    "quantile_0995 = revenue['total_revenue'].quantile(0.995)"
   ]
  },
  {
   "cell_type": "markdown",
   "metadata": {},
   "source": [
    "Удалим то, что лежит за 99%"
   ]
  },
  {
   "cell_type": "code",
   "execution_count": 64,
   "metadata": {},
   "outputs": [],
   "source": [
    "mask = (revenue.total_revenue > quantile_0005)&(revenue.total_revenue < quantile_0995)"
   ]
  },
  {
   "cell_type": "code",
   "execution_count": 65,
   "metadata": {},
   "outputs": [],
   "source": [
    "revenue_ultra = revenue[mask & (revenue.tariff =='ultra')]['total_revenue']\n",
    "revenue_smart = revenue[mask & (revenue.tariff =='smart')]['total_revenue']"
   ]
  },
  {
   "cell_type": "code",
   "execution_count": 66,
   "metadata": {},
   "outputs": [
    {
     "name": "stdout",
     "output_type": "stream",
     "text": [
      "p-значение:  1.3290107037532163e-99\n"
     ]
    }
   ],
   "source": [
    "results = st.ttest_ind(revenue_ultra, revenue_smart)\n",
    "print('p-значение: ', results.pvalue)"
   ]
  },
  {
   "cell_type": "markdown",
   "metadata": {},
   "source": [
    "Отвергаем нулевую гипотезу.\n",
    "\n",
    "Видим, что выручка по тарифам статистически различается"
   ]
  },
  {
   "cell_type": "markdown",
   "metadata": {},
   "source": [
    "### Гипотеза о равенстве выручки в Москве и в регионах\n",
    "\n",
    "Сформулируем гипотезы:\n",
    "\n",
    "- H0: средняя выручка пользователей из Москвы не отличается от выручки пользователей из других регионов.\n",
    "- H1: средняя выручка пользователей из Москвы отличается от выручки пользователей из других регионов.\n",
    "\n",
    "Выберем p-value = 0.05"
   ]
  },
  {
   "cell_type": "code",
   "execution_count": 67,
   "metadata": {},
   "outputs": [],
   "source": [
    "revenue_moscow = revenue[mask & (revenue.city =='Москва')]['total_revenue']\n",
    "revenue_russia = revenue[mask & (revenue.city !='Москва')]['total_revenue']"
   ]
  },
  {
   "cell_type": "code",
   "execution_count": 68,
   "metadata": {},
   "outputs": [
    {
     "name": "stdout",
     "output_type": "stream",
     "text": [
      "p-значение:  0.22001861114582444\n"
     ]
    }
   ],
   "source": [
    "results = st.ttest_ind(revenue_moscow, revenue_russia)\n",
    "print('p-значение: ', results.pvalue)"
   ]
  },
  {
   "cell_type": "markdown",
   "metadata": {},
   "source": [
    "Не получилось отвергнуть нулевую гипотезу. \n",
    "\n",
    "Между выручкой в Москве и в регионах нет статистически достоверных различий."
   ]
  },
  {
   "cell_type": "markdown",
   "metadata": {},
   "source": [
    "## Общий вывод\n",
    "\n",
    "Поведение пользователей на обоих тарифах различается по объему использованного трафика и использованных минут разговора, и что самое главное - по объему выручки от этих тарифов. \n",
    "\n",
    "Пользователи тарифа `Ультра` по большей части не превышают ограничений тарифа, в то время как пользователям тарифа `Смарт` не хватает и трафика и минут разговора, им приходится докупать и то и другое. \n",
    "\n",
    "Сообщения практически одинаково используются пользователями обоих тарифов. \n",
    "\n",
    "Между выручкой в Москве и в регионах нет существенных различий.\n",
    "\n",
    "\n",
    "### Рекомендации:\n",
    "\n",
    "Очевидны проблемы  с сегментацией - пользователей тарифа `Смарт` необходимо разделить на две категории - они массово не помещаются в текущие ограничения.\n",
    "\n",
    "Округление трафика по гигабайту выглядит дико с учетом среднего количества трафика - пользователям тарифа `Смарт` придется существенно доплачивать из-за округления вверх, что может привести к их недовольству.\n",
    "\n",
    "Количество sms необходимо уменьшить у тарифа `Ультра` - наблюдается большой разрыв между реальным потреблением и количеством sms в пакете."
   ]
  }
 ],
 "metadata": {
  "ExecuteTimeLog": [
   {
    "duration": 5,
    "start_time": "2022-05-03T12:36:58.713Z"
   },
   {
    "duration": 59,
    "start_time": "2022-05-03T12:38:20.155Z"
   },
   {
    "duration": 504,
    "start_time": "2022-05-03T12:38:32.155Z"
   },
   {
    "duration": 157,
    "start_time": "2022-05-03T12:38:34.817Z"
   },
   {
    "duration": 59,
    "start_time": "2022-05-03T12:38:37.921Z"
   },
   {
    "duration": 13,
    "start_time": "2022-05-03T12:39:18.094Z"
   },
   {
    "duration": 19,
    "start_time": "2022-05-03T12:39:28.149Z"
   },
   {
    "duration": 6,
    "start_time": "2022-05-03T12:39:37.406Z"
   },
   {
    "duration": 22,
    "start_time": "2022-05-03T12:39:43.977Z"
   },
   {
    "duration": 8,
    "start_time": "2022-05-03T12:40:43.960Z"
   },
   {
    "duration": 139,
    "start_time": "2022-05-03T12:41:01.372Z"
   },
   {
    "duration": 184,
    "start_time": "2022-05-03T12:41:04.297Z"
   },
   {
    "duration": 9,
    "start_time": "2022-05-03T12:41:10.084Z"
   },
   {
    "duration": 28,
    "start_time": "2022-05-03T12:41:15.682Z"
   },
   {
    "duration": 49,
    "start_time": "2022-05-03T12:41:26.912Z"
   },
   {
    "duration": 36,
    "start_time": "2022-05-03T12:41:33.706Z"
   },
   {
    "duration": 110,
    "start_time": "2022-05-03T12:41:43.024Z"
   },
   {
    "duration": 10,
    "start_time": "2022-05-03T12:43:47.359Z"
   },
   {
    "duration": 3,
    "start_time": "2022-05-03T12:43:51.381Z"
   },
   {
    "duration": 8,
    "start_time": "2022-05-03T12:43:59.645Z"
   },
   {
    "duration": 14,
    "start_time": "2022-05-03T12:44:05.436Z"
   },
   {
    "duration": 5,
    "start_time": "2022-05-03T12:44:11.160Z"
   },
   {
    "duration": 8,
    "start_time": "2022-05-03T12:44:52.682Z"
   },
   {
    "duration": 7,
    "start_time": "2022-05-03T12:44:57.343Z"
   },
   {
    "duration": 4,
    "start_time": "2022-05-03T12:49:14.386Z"
   },
   {
    "duration": 366,
    "start_time": "2022-05-03T12:49:15.235Z"
   },
   {
    "duration": 104,
    "start_time": "2022-05-03T12:49:19.395Z"
   },
   {
    "duration": 8,
    "start_time": "2022-05-03T12:49:25.108Z"
   },
   {
    "duration": 26,
    "start_time": "2022-05-03T12:49:35.932Z"
   },
   {
    "duration": 39,
    "start_time": "2022-05-03T12:49:46.424Z"
   },
   {
    "duration": 76,
    "start_time": "2022-05-03T12:49:52.288Z"
   },
   {
    "duration": 5,
    "start_time": "2022-05-03T12:50:06.447Z"
   },
   {
    "duration": 122,
    "start_time": "2022-05-03T12:50:16.759Z"
   },
   {
    "duration": 189,
    "start_time": "2022-05-03T12:50:19.158Z"
   },
   {
    "duration": 174,
    "start_time": "2022-05-03T12:50:21.394Z"
   },
   {
    "duration": 17,
    "start_time": "2022-05-03T12:50:26.734Z"
   },
   {
    "duration": 7,
    "start_time": "2022-05-03T12:50:42.398Z"
   },
   {
    "duration": 41,
    "start_time": "2022-05-03T12:51:13.676Z"
   },
   {
    "duration": 28,
    "start_time": "2022-05-03T12:51:19.172Z"
   },
   {
    "duration": 8,
    "start_time": "2022-05-03T13:01:54.145Z"
   },
   {
    "duration": 25,
    "start_time": "2022-05-03T13:02:01.819Z"
   },
   {
    "duration": 31,
    "start_time": "2022-05-03T13:02:28.968Z"
   },
   {
    "duration": 54,
    "start_time": "2022-05-03T13:02:52.624Z"
   },
   {
    "duration": 112,
    "start_time": "2022-05-03T13:03:44.076Z"
   },
   {
    "duration": 26,
    "start_time": "2022-05-03T13:03:47.399Z"
   },
   {
    "duration": 10,
    "start_time": "2022-05-03T13:03:53.955Z"
   },
   {
    "duration": 17,
    "start_time": "2022-05-03T13:04:06.442Z"
   },
   {
    "duration": 467,
    "start_time": "2022-05-03T13:06:01.923Z"
   },
   {
    "duration": 26,
    "start_time": "2022-05-03T13:07:36.023Z"
   },
   {
    "duration": 7,
    "start_time": "2022-05-03T13:07:38.754Z"
   },
   {
    "duration": 2,
    "start_time": "2022-05-03T13:08:59.706Z"
   },
   {
    "duration": 491,
    "start_time": "2022-05-03T13:09:47.018Z"
   },
   {
    "duration": 583,
    "start_time": "2022-05-03T13:09:47.511Z"
   },
   {
    "duration": 27,
    "start_time": "2022-05-03T13:09:48.096Z"
   },
   {
    "duration": 18,
    "start_time": "2022-05-03T13:09:48.126Z"
   },
   {
    "duration": 11,
    "start_time": "2022-05-03T13:09:48.148Z"
   },
   {
    "duration": 24,
    "start_time": "2022-05-03T13:09:48.160Z"
   },
   {
    "duration": 20,
    "start_time": "2022-05-03T13:09:48.186Z"
   },
   {
    "duration": 26,
    "start_time": "2022-05-03T13:09:48.208Z"
   },
   {
    "duration": 32,
    "start_time": "2022-05-03T13:09:48.236Z"
   },
   {
    "duration": 33,
    "start_time": "2022-05-03T13:09:48.272Z"
   },
   {
    "duration": 36,
    "start_time": "2022-05-03T13:09:48.322Z"
   },
   {
    "duration": 143,
    "start_time": "2022-05-03T13:09:48.359Z"
   },
   {
    "duration": 6,
    "start_time": "2022-05-03T13:09:48.504Z"
   },
   {
    "duration": 10,
    "start_time": "2022-05-03T13:09:48.524Z"
   },
   {
    "duration": 11,
    "start_time": "2022-05-03T13:09:48.536Z"
   },
   {
    "duration": 28,
    "start_time": "2022-05-03T13:09:48.549Z"
   },
   {
    "duration": 28,
    "start_time": "2022-05-03T13:09:48.578Z"
   },
   {
    "duration": 69,
    "start_time": "2022-05-03T13:09:48.608Z"
   },
   {
    "duration": 9,
    "start_time": "2022-05-03T13:09:48.679Z"
   },
   {
    "duration": 12,
    "start_time": "2022-05-03T13:09:48.689Z"
   },
   {
    "duration": 68,
    "start_time": "2022-05-03T13:09:48.703Z"
   },
   {
    "duration": 28,
    "start_time": "2022-05-03T13:09:48.773Z"
   },
   {
    "duration": 23,
    "start_time": "2022-05-03T13:09:48.803Z"
   },
   {
    "duration": 27,
    "start_time": "2022-05-03T13:09:48.832Z"
   },
   {
    "duration": 37,
    "start_time": "2022-05-03T13:09:48.862Z"
   },
   {
    "duration": 86,
    "start_time": "2022-05-03T13:09:48.902Z"
   },
   {
    "duration": 239,
    "start_time": "2022-05-03T13:09:48.990Z"
   },
   {
    "duration": 17,
    "start_time": "2022-05-03T13:09:49.240Z"
   },
   {
    "duration": 33,
    "start_time": "2022-05-03T13:09:49.262Z"
   },
   {
    "duration": 3,
    "start_time": "2022-05-03T13:12:08.967Z"
   },
   {
    "duration": 5,
    "start_time": "2022-05-03T13:12:13.634Z"
   },
   {
    "duration": 124,
    "start_time": "2022-05-03T13:13:24.861Z"
   },
   {
    "duration": 214,
    "start_time": "2022-05-03T13:14:08.258Z"
   },
   {
    "duration": 77,
    "start_time": "2022-05-03T13:14:55.632Z"
   },
   {
    "duration": 87,
    "start_time": "2022-05-03T13:15:02.386Z"
   },
   {
    "duration": 196,
    "start_time": "2022-05-03T13:17:56.957Z"
   },
   {
    "duration": 59,
    "start_time": "2022-05-03T13:19:40.235Z"
   },
   {
    "duration": 61,
    "start_time": "2022-05-03T13:20:02.220Z"
   },
   {
    "duration": 38,
    "start_time": "2022-05-03T13:20:14.763Z"
   },
   {
    "duration": 55,
    "start_time": "2022-05-03T13:20:27.436Z"
   },
   {
    "duration": 64,
    "start_time": "2022-05-03T13:20:35.150Z"
   },
   {
    "duration": 12,
    "start_time": "2022-05-03T13:20:51.884Z"
   },
   {
    "duration": 20,
    "start_time": "2022-05-03T13:21:07.043Z"
   },
   {
    "duration": 3,
    "start_time": "2022-05-03T14:24:16.911Z"
   },
   {
    "duration": 7,
    "start_time": "2022-05-03T14:25:33.505Z"
   },
   {
    "duration": 76,
    "start_time": "2022-05-03T14:27:12.878Z"
   },
   {
    "duration": 3225,
    "start_time": "2022-05-03T14:27:32.926Z"
   },
   {
    "duration": 8,
    "start_time": "2022-05-03T14:27:53.795Z"
   },
   {
    "duration": 74,
    "start_time": "2022-05-03T14:27:57.190Z"
   },
   {
    "duration": 5,
    "start_time": "2022-05-03T14:30:38.525Z"
   },
   {
    "duration": 20,
    "start_time": "2022-05-03T14:30:46.387Z"
   },
   {
    "duration": 38,
    "start_time": "2022-05-03T14:31:49.317Z"
   },
   {
    "duration": 21,
    "start_time": "2022-05-03T14:33:56.977Z"
   },
   {
    "duration": 94,
    "start_time": "2022-05-03T14:35:00.959Z"
   },
   {
    "duration": 76,
    "start_time": "2022-05-03T14:37:36.387Z"
   },
   {
    "duration": 83,
    "start_time": "2022-05-03T14:38:39.914Z"
   },
   {
    "duration": 3388,
    "start_time": "2022-05-03T14:39:40.930Z"
   },
   {
    "duration": 14565,
    "start_time": "2022-05-03T14:40:06.907Z"
   },
   {
    "duration": 9,
    "start_time": "2022-05-03T14:40:29.513Z"
   },
   {
    "duration": 5571,
    "start_time": "2022-05-03T14:40:31.287Z"
   },
   {
    "duration": 97,
    "start_time": "2022-05-03T14:41:00.692Z"
   },
   {
    "duration": 29,
    "start_time": "2022-05-03T14:41:23.790Z"
   },
   {
    "duration": 5,
    "start_time": "2022-05-03T14:41:34.477Z"
   },
   {
    "duration": 81,
    "start_time": "2022-05-03T14:41:48.744Z"
   },
   {
    "duration": 5,
    "start_time": "2022-05-03T14:41:55.332Z"
   },
   {
    "duration": 29,
    "start_time": "2022-05-03T14:42:13.559Z"
   },
   {
    "duration": 208,
    "start_time": "2022-05-03T14:48:16.163Z"
   },
   {
    "duration": 271,
    "start_time": "2022-05-03T14:48:25.484Z"
   },
   {
    "duration": 9,
    "start_time": "2022-05-03T14:48:29.949Z"
   },
   {
    "duration": 11,
    "start_time": "2022-05-03T14:48:34.049Z"
   },
   {
    "duration": 3108,
    "start_time": "2022-05-03T14:48:35.552Z"
   },
   {
    "duration": 24,
    "start_time": "2022-05-03T14:49:11.137Z"
   },
   {
    "duration": 23,
    "start_time": "2022-05-03T14:49:22.510Z"
   },
   {
    "duration": 192,
    "start_time": "2022-05-03T14:56:51.706Z"
   },
   {
    "duration": 80,
    "start_time": "2022-05-03T14:57:06.958Z"
   },
   {
    "duration": 28,
    "start_time": "2022-05-03T14:57:11.369Z"
   },
   {
    "duration": 197,
    "start_time": "2022-05-03T14:57:13.884Z"
   },
   {
    "duration": 10,
    "start_time": "2022-05-03T14:57:21.008Z"
   },
   {
    "duration": 13,
    "start_time": "2022-05-03T14:57:23.794Z"
   },
   {
    "duration": 75,
    "start_time": "2022-05-03T14:57:27.890Z"
   },
   {
    "duration": 21,
    "start_time": "2022-05-03T14:57:30.132Z"
   },
   {
    "duration": 4,
    "start_time": "2022-05-03T14:58:04.571Z"
   },
   {
    "duration": 6,
    "start_time": "2022-05-03T14:58:09.081Z"
   },
   {
    "duration": 16,
    "start_time": "2022-05-03T14:58:10.874Z"
   },
   {
    "duration": 5,
    "start_time": "2022-05-03T14:58:24.540Z"
   },
   {
    "duration": 23,
    "start_time": "2022-05-03T14:58:29.432Z"
   },
   {
    "duration": 3,
    "start_time": "2022-05-03T14:58:53.546Z"
   },
   {
    "duration": 5,
    "start_time": "2022-05-03T14:59:01.206Z"
   },
   {
    "duration": 15,
    "start_time": "2022-05-03T14:59:02.904Z"
   },
   {
    "duration": 7,
    "start_time": "2022-05-03T14:59:05.777Z"
   },
   {
    "duration": 29,
    "start_time": "2022-05-03T14:59:07.605Z"
   },
   {
    "duration": 8,
    "start_time": "2022-05-03T14:59:21.864Z"
   },
   {
    "duration": 31,
    "start_time": "2022-05-03T14:59:23.989Z"
   },
   {
    "duration": 84,
    "start_time": "2022-05-03T14:59:44.448Z"
   },
   {
    "duration": 29,
    "start_time": "2022-05-03T14:59:47.038Z"
   },
   {
    "duration": 80,
    "start_time": "2022-05-03T14:59:59.421Z"
   },
   {
    "duration": 29,
    "start_time": "2022-05-03T15:00:03.726Z"
   },
   {
    "duration": 21,
    "start_time": "2022-05-03T15:00:51.457Z"
   },
   {
    "duration": 8,
    "start_time": "2022-05-03T15:01:02.303Z"
   },
   {
    "duration": 13,
    "start_time": "2022-05-03T15:01:03.776Z"
   },
   {
    "duration": 87,
    "start_time": "2022-05-03T15:01:07.794Z"
   },
   {
    "duration": 25,
    "start_time": "2022-05-03T15:01:11.241Z"
   },
   {
    "duration": 153,
    "start_time": "2022-05-03T15:01:33.265Z"
   },
   {
    "duration": 22,
    "start_time": "2022-05-03T15:01:42.517Z"
   },
   {
    "duration": 11,
    "start_time": "2022-05-03T15:02:44.921Z"
   },
   {
    "duration": 3236,
    "start_time": "2022-05-03T15:03:13.264Z"
   },
   {
    "duration": 31,
    "start_time": "2022-05-03T15:03:43.077Z"
   },
   {
    "duration": 84,
    "start_time": "2022-05-03T15:03:57.339Z"
   },
   {
    "duration": 26,
    "start_time": "2022-05-03T15:04:16.667Z"
   },
   {
    "duration": 13,
    "start_time": "2022-05-03T15:05:21.268Z"
   },
   {
    "duration": 20,
    "start_time": "2022-05-03T15:05:24.760Z"
   },
   {
    "duration": 9,
    "start_time": "2022-05-03T15:06:16.260Z"
   },
   {
    "duration": 18,
    "start_time": "2022-05-03T15:06:23.257Z"
   },
   {
    "duration": 185,
    "start_time": "2022-05-03T15:07:09.323Z"
   },
   {
    "duration": 6,
    "start_time": "2022-05-03T15:07:44.172Z"
   },
   {
    "duration": 86,
    "start_time": "2022-05-03T15:08:30.327Z"
   },
   {
    "duration": 209,
    "start_time": "2022-05-03T15:09:00.282Z"
   },
   {
    "duration": 90,
    "start_time": "2022-05-03T15:09:14.445Z"
   },
   {
    "duration": 82,
    "start_time": "2022-05-03T15:09:36.991Z"
   },
   {
    "duration": 8,
    "start_time": "2022-05-03T15:10:15.373Z"
   },
   {
    "duration": 21,
    "start_time": "2022-05-03T15:10:26.676Z"
   },
   {
    "duration": 18,
    "start_time": "2022-05-03T15:11:52.826Z"
   },
   {
    "duration": 22,
    "start_time": "2022-05-03T15:28:54.016Z"
   },
   {
    "duration": 3194,
    "start_time": "2022-05-03T15:32:13.206Z"
   },
   {
    "duration": 8,
    "start_time": "2022-05-03T15:33:14.150Z"
   },
   {
    "duration": 8,
    "start_time": "2022-05-03T15:33:19.456Z"
   },
   {
    "duration": 22,
    "start_time": "2022-05-03T15:33:24.797Z"
   },
   {
    "duration": 3,
    "start_time": "2022-05-03T15:34:18.406Z"
   },
   {
    "duration": 15,
    "start_time": "2022-05-03T15:51:11.734Z"
   },
   {
    "duration": 10,
    "start_time": "2022-05-03T15:51:44.101Z"
   },
   {
    "duration": 20,
    "start_time": "2022-05-03T15:52:27.440Z"
   },
   {
    "duration": 23,
    "start_time": "2022-05-03T15:52:35.095Z"
   },
   {
    "duration": 6,
    "start_time": "2022-05-03T15:52:35.120Z"
   },
   {
    "duration": 112,
    "start_time": "2022-05-03T15:52:35.150Z"
   },
   {
    "duration": 142,
    "start_time": "2022-05-03T15:52:35.264Z"
   },
   {
    "duration": 127,
    "start_time": "2022-05-03T15:52:35.408Z"
   },
   {
    "duration": 8,
    "start_time": "2022-05-03T15:52:35.538Z"
   },
   {
    "duration": 28,
    "start_time": "2022-05-03T15:52:35.548Z"
   },
   {
    "duration": 6,
    "start_time": "2022-05-03T15:52:35.578Z"
   },
   {
    "duration": 10,
    "start_time": "2022-05-03T15:52:35.586Z"
   },
   {
    "duration": 0,
    "start_time": "2022-05-03T15:52:35.598Z"
   },
   {
    "duration": 6,
    "start_time": "2022-05-03T15:52:52.287Z"
   },
   {
    "duration": 622,
    "start_time": "2022-05-03T15:53:21.921Z"
   },
   {
    "duration": 155,
    "start_time": "2022-05-03T15:53:33.801Z"
   },
   {
    "duration": 2,
    "start_time": "2022-05-03T15:53:52.983Z"
   },
   {
    "duration": 461,
    "start_time": "2022-05-03T15:54:00.746Z"
   },
   {
    "duration": 135,
    "start_time": "2022-05-03T15:54:04.983Z"
   },
   {
    "duration": 367,
    "start_time": "2022-05-03T15:56:20.891Z"
   },
   {
    "duration": 338,
    "start_time": "2022-05-03T15:56:50.742Z"
   },
   {
    "duration": 308,
    "start_time": "2022-05-03T16:01:10.477Z"
   },
   {
    "duration": 250,
    "start_time": "2022-05-03T16:01:23.355Z"
   },
   {
    "duration": 708,
    "start_time": "2022-05-03T16:03:45.882Z"
   },
   {
    "duration": 4,
    "start_time": "2022-05-03T16:07:39.656Z"
   },
   {
    "duration": 102,
    "start_time": "2022-05-03T16:08:40.274Z"
   },
   {
    "duration": 987,
    "start_time": "2022-05-03T16:08:55.948Z"
   },
   {
    "duration": 886,
    "start_time": "2022-05-03T16:12:21.242Z"
   },
   {
    "duration": 766,
    "start_time": "2022-05-03T16:13:01.063Z"
   },
   {
    "duration": 750,
    "start_time": "2022-05-03T16:13:17.721Z"
   },
   {
    "duration": 716,
    "start_time": "2022-05-03T16:13:59.029Z"
   },
   {
    "duration": 0,
    "start_time": "2022-05-03T16:14:19.711Z"
   },
   {
    "duration": 6,
    "start_time": "2022-05-03T16:14:21.415Z"
   },
   {
    "duration": 216,
    "start_time": "2022-05-03T16:14:36.224Z"
   },
   {
    "duration": 876,
    "start_time": "2022-05-03T16:15:10.522Z"
   },
   {
    "duration": 5,
    "start_time": "2022-05-03T16:15:25.235Z"
   },
   {
    "duration": 4,
    "start_time": "2022-05-03T16:15:31.716Z"
   },
   {
    "duration": 4,
    "start_time": "2022-05-03T16:15:47.441Z"
   },
   {
    "duration": 853,
    "start_time": "2022-05-03T16:16:18.072Z"
   },
   {
    "duration": 1028,
    "start_time": "2022-05-03T16:16:25.665Z"
   },
   {
    "duration": 889,
    "start_time": "2022-05-03T16:16:33.256Z"
   },
   {
    "duration": 1059,
    "start_time": "2022-05-03T16:17:00.612Z"
   },
   {
    "duration": 1265,
    "start_time": "2022-05-03T16:17:17.419Z"
   },
   {
    "duration": 1006,
    "start_time": "2022-05-03T16:18:03.898Z"
   },
   {
    "duration": 1196,
    "start_time": "2022-05-03T16:18:13.558Z"
   },
   {
    "duration": 1301,
    "start_time": "2022-05-03T16:18:31.157Z"
   },
   {
    "duration": 844,
    "start_time": "2022-05-03T16:19:30.261Z"
   },
   {
    "duration": 801,
    "start_time": "2022-05-03T16:19:46.321Z"
   },
   {
    "duration": 1349,
    "start_time": "2022-05-03T16:19:50.143Z"
   },
   {
    "duration": 815,
    "start_time": "2022-05-03T16:20:12.842Z"
   },
   {
    "duration": 198,
    "start_time": "2022-05-03T16:21:24.077Z"
   },
   {
    "duration": 1390,
    "start_time": "2022-05-03T16:21:26.981Z"
   },
   {
    "duration": 1598,
    "start_time": "2022-05-03T16:21:41.512Z"
   },
   {
    "duration": 1465,
    "start_time": "2022-05-03T16:21:55.727Z"
   },
   {
    "duration": 1309,
    "start_time": "2022-05-03T16:21:59.631Z"
   },
   {
    "duration": 211,
    "start_time": "2022-05-03T16:22:26.137Z"
   },
   {
    "duration": 39,
    "start_time": "2022-05-03T16:22:40.660Z"
   },
   {
    "duration": 37,
    "start_time": "2022-05-03T16:22:47.984Z"
   },
   {
    "duration": 41,
    "start_time": "2022-05-03T16:23:02.336Z"
   },
   {
    "duration": 24,
    "start_time": "2022-05-03T16:51:23.271Z"
   },
   {
    "duration": 13,
    "start_time": "2022-05-03T16:51:38.066Z"
   },
   {
    "duration": 8,
    "start_time": "2022-05-03T16:53:12.479Z"
   },
   {
    "duration": 31,
    "start_time": "2022-05-03T16:53:15.740Z"
   },
   {
    "duration": 16,
    "start_time": "2022-05-03T16:53:29.756Z"
   },
   {
    "duration": 3055,
    "start_time": "2022-05-03T16:54:12.550Z"
   },
   {
    "duration": 3442,
    "start_time": "2022-05-03T16:54:33.196Z"
   },
   {
    "duration": 39,
    "start_time": "2022-05-03T16:54:47.351Z"
   },
   {
    "duration": 28,
    "start_time": "2022-05-03T16:54:57.423Z"
   },
   {
    "duration": 8,
    "start_time": "2022-05-03T16:55:19.014Z"
   },
   {
    "duration": 40,
    "start_time": "2022-05-03T16:55:39.484Z"
   },
   {
    "duration": 41,
    "start_time": "2022-05-03T16:55:45.772Z"
   },
   {
    "duration": 3,
    "start_time": "2022-05-03T16:57:30.181Z"
   },
   {
    "duration": 1250,
    "start_time": "2022-05-03T16:58:37.564Z"
   },
   {
    "duration": 995,
    "start_time": "2022-05-03T16:59:36.024Z"
   },
   {
    "duration": 832,
    "start_time": "2022-05-03T16:59:45.660Z"
   },
   {
    "duration": 1192,
    "start_time": "2022-05-03T17:01:41.503Z"
   },
   {
    "duration": 1591,
    "start_time": "2022-05-03T17:01:59.499Z"
   },
   {
    "duration": 1599,
    "start_time": "2022-05-03T17:02:10.944Z"
   },
   {
    "duration": 1581,
    "start_time": "2022-05-03T17:02:19.798Z"
   },
   {
    "duration": 1462,
    "start_time": "2022-05-03T17:02:33.514Z"
   },
   {
    "duration": 1211,
    "start_time": "2022-05-03T17:02:49.877Z"
   },
   {
    "duration": 229,
    "start_time": "2022-05-03T17:05:21.767Z"
   },
   {
    "duration": 4,
    "start_time": "2022-05-03T17:05:25.851Z"
   },
   {
    "duration": 1581,
    "start_time": "2022-05-03T17:06:03.422Z"
   },
   {
    "duration": 1582,
    "start_time": "2022-05-03T17:06:15.734Z"
   },
   {
    "duration": 9,
    "start_time": "2022-05-03T17:07:57.360Z"
   },
   {
    "duration": 39,
    "start_time": "2022-05-03T17:08:00.217Z"
   },
   {
    "duration": 39,
    "start_time": "2022-05-03T17:08:03.236Z"
   },
   {
    "duration": 186,
    "start_time": "2022-05-03T17:09:58.166Z"
   },
   {
    "duration": 4,
    "start_time": "2022-05-03T17:10:01.477Z"
   },
   {
    "duration": 4021,
    "start_time": "2022-05-03T17:10:06.189Z"
   },
   {
    "duration": 4,
    "start_time": "2022-05-03T17:10:30.975Z"
   },
   {
    "duration": 1496,
    "start_time": "2022-05-03T17:10:33.549Z"
   },
   {
    "duration": 1512,
    "start_time": "2022-05-03T17:10:38.704Z"
   },
   {
    "duration": 3,
    "start_time": "2022-05-03T17:18:35.676Z"
   },
   {
    "duration": 4,
    "start_time": "2022-05-03T17:19:56.614Z"
   },
   {
    "duration": 3058,
    "start_time": "2022-05-03T17:21:40.490Z"
   },
   {
    "duration": 5044,
    "start_time": "2022-05-03T17:21:58.793Z"
   },
   {
    "duration": 8,
    "start_time": "2022-05-03T17:22:09.109Z"
   },
   {
    "duration": 40,
    "start_time": "2022-05-03T17:22:25.812Z"
   },
   {
    "duration": 41,
    "start_time": "2022-05-03T17:22:28.004Z"
   },
   {
    "duration": 1529,
    "start_time": "2022-05-03T17:22:56.838Z"
   },
   {
    "duration": 1298,
    "start_time": "2022-05-03T17:23:02.288Z"
   },
   {
    "duration": 208,
    "start_time": "2022-05-03T17:24:20.939Z"
   },
   {
    "duration": 5,
    "start_time": "2022-05-03T17:24:28.874Z"
   },
   {
    "duration": 13,
    "start_time": "2022-05-03T17:25:13.996Z"
   },
   {
    "duration": 3477,
    "start_time": "2022-05-03T17:25:47.790Z"
   },
   {
    "duration": 187,
    "start_time": "2022-05-03T17:25:59.446Z"
   },
   {
    "duration": 5,
    "start_time": "2022-05-03T17:26:01.813Z"
   },
   {
    "duration": 2133,
    "start_time": "2022-05-03T17:26:22.797Z"
   },
   {
    "duration": 1966,
    "start_time": "2022-05-03T17:27:53.084Z"
   },
   {
    "duration": 22,
    "start_time": "2022-05-03T17:29:20.531Z"
   },
   {
    "duration": 35,
    "start_time": "2022-05-03T17:29:29.047Z"
   },
   {
    "duration": 14,
    "start_time": "2022-05-03T17:29:45.009Z"
   },
   {
    "duration": 10,
    "start_time": "2022-05-03T17:30:01.962Z"
   },
   {
    "duration": 9,
    "start_time": "2022-05-03T17:30:05.283Z"
   },
   {
    "duration": 25,
    "start_time": "2022-05-03T17:30:08.580Z"
   },
   {
    "duration": 11,
    "start_time": "2022-05-03T17:30:18.433Z"
   },
   {
    "duration": 10,
    "start_time": "2022-05-03T17:30:27.255Z"
   },
   {
    "duration": 409,
    "start_time": "2022-05-03T17:30:35.371Z"
   },
   {
    "duration": 143,
    "start_time": "2022-05-03T17:31:14.793Z"
   },
   {
    "duration": 198,
    "start_time": "2022-05-03T17:32:19.923Z"
   },
   {
    "duration": 150,
    "start_time": "2022-05-03T17:32:27.823Z"
   },
   {
    "duration": 139,
    "start_time": "2022-05-03T17:32:37.040Z"
   },
   {
    "duration": 140,
    "start_time": "2022-05-03T17:32:42.069Z"
   },
   {
    "duration": 131,
    "start_time": "2022-05-03T17:33:26.816Z"
   },
   {
    "duration": 338,
    "start_time": "2022-05-03T17:34:17.675Z"
   },
   {
    "duration": 4,
    "start_time": "2022-05-03T17:37:26.793Z"
   },
   {
    "duration": 1400,
    "start_time": "2022-05-03T17:37:32.012Z"
   },
   {
    "duration": 3,
    "start_time": "2022-05-03T17:37:44.259Z"
   },
   {
    "duration": 447,
    "start_time": "2022-05-03T17:37:44.265Z"
   },
   {
    "duration": 11,
    "start_time": "2022-05-03T17:37:44.714Z"
   },
   {
    "duration": 16,
    "start_time": "2022-05-03T17:37:44.727Z"
   },
   {
    "duration": 3,
    "start_time": "2022-05-03T17:37:44.746Z"
   },
   {
    "duration": 15,
    "start_time": "2022-05-03T17:37:44.752Z"
   },
   {
    "duration": 7,
    "start_time": "2022-05-03T17:37:44.769Z"
   },
   {
    "duration": 10,
    "start_time": "2022-05-03T17:37:44.778Z"
   },
   {
    "duration": 27,
    "start_time": "2022-05-03T17:37:44.822Z"
   },
   {
    "duration": 31,
    "start_time": "2022-05-03T17:37:44.851Z"
   },
   {
    "duration": 46,
    "start_time": "2022-05-03T17:37:44.884Z"
   },
   {
    "duration": 102,
    "start_time": "2022-05-03T17:37:44.931Z"
   },
   {
    "duration": 4,
    "start_time": "2022-05-03T17:37:45.035Z"
   },
   {
    "duration": 8,
    "start_time": "2022-05-03T17:37:45.041Z"
   },
   {
    "duration": 7,
    "start_time": "2022-05-03T17:37:45.051Z"
   },
   {
    "duration": 19,
    "start_time": "2022-05-03T17:37:45.060Z"
   },
   {
    "duration": 45,
    "start_time": "2022-05-03T17:37:45.080Z"
   },
   {
    "duration": 38,
    "start_time": "2022-05-03T17:37:45.127Z"
   },
   {
    "duration": 8,
    "start_time": "2022-05-03T17:37:45.167Z"
   },
   {
    "duration": 8,
    "start_time": "2022-05-03T17:37:45.177Z"
   },
   {
    "duration": 44,
    "start_time": "2022-05-03T17:37:45.187Z"
   },
   {
    "duration": 16,
    "start_time": "2022-05-03T17:37:45.232Z"
   },
   {
    "duration": 5,
    "start_time": "2022-05-03T17:37:45.249Z"
   },
   {
    "duration": 16,
    "start_time": "2022-05-03T17:37:45.255Z"
   },
   {
    "duration": 53,
    "start_time": "2022-05-03T17:37:45.273Z"
   },
   {
    "duration": 40,
    "start_time": "2022-05-03T17:37:45.328Z"
   },
   {
    "duration": 8,
    "start_time": "2022-05-03T17:37:45.370Z"
   },
   {
    "duration": 12,
    "start_time": "2022-05-03T17:37:45.379Z"
   },
   {
    "duration": 4,
    "start_time": "2022-05-03T17:37:45.395Z"
   },
   {
    "duration": 44,
    "start_time": "2022-05-03T17:37:45.423Z"
   },
   {
    "duration": 12,
    "start_time": "2022-05-03T17:37:45.469Z"
   },
   {
    "duration": 14,
    "start_time": "2022-05-03T17:37:45.483Z"
   },
   {
    "duration": 38,
    "start_time": "2022-05-03T17:37:45.523Z"
   },
   {
    "duration": 37,
    "start_time": "2022-05-03T17:37:45.563Z"
   },
   {
    "duration": 39,
    "start_time": "2022-05-03T17:37:45.601Z"
   },
   {
    "duration": 5,
    "start_time": "2022-05-03T17:37:45.642Z"
   },
   {
    "duration": 97,
    "start_time": "2022-05-03T17:37:45.649Z"
   },
   {
    "duration": 98,
    "start_time": "2022-05-03T17:37:45.748Z"
   },
   {
    "duration": 84,
    "start_time": "2022-05-03T17:37:45.848Z"
   },
   {
    "duration": 8,
    "start_time": "2022-05-03T17:37:45.934Z"
   },
   {
    "duration": 24,
    "start_time": "2022-05-03T17:37:45.944Z"
   },
   {
    "duration": 1181,
    "start_time": "2022-05-03T17:38:00.917Z"
   },
   {
    "duration": 444,
    "start_time": "2022-05-03T17:38:02.101Z"
   },
   {
    "duration": 13,
    "start_time": "2022-05-03T17:38:02.547Z"
   },
   {
    "duration": 14,
    "start_time": "2022-05-03T17:38:02.562Z"
   },
   {
    "duration": 5,
    "start_time": "2022-05-03T17:38:02.578Z"
   },
   {
    "duration": 16,
    "start_time": "2022-05-03T17:38:02.585Z"
   },
   {
    "duration": 7,
    "start_time": "2022-05-03T17:38:02.603Z"
   },
   {
    "duration": 14,
    "start_time": "2022-05-03T17:38:02.612Z"
   },
   {
    "duration": 25,
    "start_time": "2022-05-03T17:38:02.627Z"
   },
   {
    "duration": 30,
    "start_time": "2022-05-03T17:38:02.654Z"
   },
   {
    "duration": 57,
    "start_time": "2022-05-03T17:38:02.686Z"
   },
   {
    "duration": 120,
    "start_time": "2022-05-03T17:38:02.745Z"
   },
   {
    "duration": 6,
    "start_time": "2022-05-03T17:38:02.867Z"
   },
   {
    "duration": 8,
    "start_time": "2022-05-03T17:38:02.878Z"
   },
   {
    "duration": 8,
    "start_time": "2022-05-03T17:38:02.888Z"
   },
   {
    "duration": 43,
    "start_time": "2022-05-03T17:38:02.897Z"
   },
   {
    "duration": 20,
    "start_time": "2022-05-03T17:38:02.941Z"
   },
   {
    "duration": 65,
    "start_time": "2022-05-03T17:38:02.963Z"
   },
   {
    "duration": 9,
    "start_time": "2022-05-03T17:38:03.030Z"
   },
   {
    "duration": 25,
    "start_time": "2022-05-03T17:38:03.041Z"
   },
   {
    "duration": 33,
    "start_time": "2022-05-03T17:38:03.068Z"
   },
   {
    "duration": 22,
    "start_time": "2022-05-03T17:38:03.102Z"
   },
   {
    "duration": 9,
    "start_time": "2022-05-03T17:38:03.125Z"
   },
   {
    "duration": 16,
    "start_time": "2022-05-03T17:38:03.136Z"
   },
   {
    "duration": 32,
    "start_time": "2022-05-03T17:38:03.154Z"
   },
   {
    "duration": 63,
    "start_time": "2022-05-03T17:38:03.188Z"
   },
   {
    "duration": 7,
    "start_time": "2022-05-03T17:38:03.253Z"
   },
   {
    "duration": 16,
    "start_time": "2022-05-03T17:38:03.262Z"
   },
   {
    "duration": 11,
    "start_time": "2022-05-03T17:38:03.279Z"
   },
   {
    "duration": 52,
    "start_time": "2022-05-03T17:38:03.292Z"
   },
   {
    "duration": 12,
    "start_time": "2022-05-03T17:38:03.346Z"
   },
   {
    "duration": 13,
    "start_time": "2022-05-03T17:38:03.360Z"
   },
   {
    "duration": 60,
    "start_time": "2022-05-03T17:38:03.374Z"
   },
   {
    "duration": 38,
    "start_time": "2022-05-03T17:38:03.436Z"
   },
   {
    "duration": 21,
    "start_time": "2022-05-03T17:38:03.476Z"
   },
   {
    "duration": 27,
    "start_time": "2022-05-03T17:38:03.499Z"
   },
   {
    "duration": 98,
    "start_time": "2022-05-03T17:38:03.528Z"
   },
   {
    "duration": 98,
    "start_time": "2022-05-03T17:38:03.628Z"
   },
   {
    "duration": 81,
    "start_time": "2022-05-03T17:38:03.727Z"
   },
   {
    "duration": 20,
    "start_time": "2022-05-03T17:38:03.809Z"
   },
   {
    "duration": 37,
    "start_time": "2022-05-03T17:38:03.833Z"
   },
   {
    "duration": 8,
    "start_time": "2022-05-03T17:38:03.872Z"
   },
   {
    "duration": 5,
    "start_time": "2022-05-03T17:38:03.882Z"
   },
   {
    "duration": 39,
    "start_time": "2022-05-03T17:38:03.889Z"
   },
   {
    "duration": 42,
    "start_time": "2022-05-03T17:38:03.929Z"
   },
   {
    "duration": 57,
    "start_time": "2022-05-03T17:38:03.973Z"
   },
   {
    "duration": 1308,
    "start_time": "2022-05-03T17:38:04.032Z"
   },
   {
    "duration": 1424,
    "start_time": "2022-05-03T17:38:05.341Z"
   },
   {
    "duration": 8,
    "start_time": "2022-05-03T17:38:06.767Z"
   },
   {
    "duration": 56,
    "start_time": "2022-05-03T17:38:06.776Z"
   },
   {
    "duration": 39,
    "start_time": "2022-05-03T17:38:06.834Z"
   },
   {
    "duration": 1383,
    "start_time": "2022-05-03T17:38:06.874Z"
   },
   {
    "duration": 1345,
    "start_time": "2022-05-03T17:38:08.259Z"
   },
   {
    "duration": 137,
    "start_time": "2022-05-03T17:38:09.606Z"
   },
   {
    "duration": 99,
    "start_time": "2022-05-03T17:38:09.745Z"
   },
   {
    "duration": 0,
    "start_time": "2022-05-03T17:38:09.846Z"
   },
   {
    "duration": 0,
    "start_time": "2022-05-03T17:38:09.847Z"
   },
   {
    "duration": 0,
    "start_time": "2022-05-03T17:38:09.848Z"
   },
   {
    "duration": 0,
    "start_time": "2022-05-03T17:38:09.849Z"
   },
   {
    "duration": 0,
    "start_time": "2022-05-03T17:38:09.850Z"
   },
   {
    "duration": 183,
    "start_time": "2022-05-03T17:38:39.955Z"
   },
   {
    "duration": 1457,
    "start_time": "2022-05-03T17:39:06.028Z"
   },
   {
    "duration": 1385,
    "start_time": "2022-05-03T17:39:13.370Z"
   },
   {
    "duration": 14,
    "start_time": "2022-05-03T17:39:51.580Z"
   },
   {
    "duration": 7,
    "start_time": "2022-05-03T17:41:31.689Z"
   },
   {
    "duration": 7,
    "start_time": "2022-05-03T17:41:40.299Z"
   },
   {
    "duration": 39,
    "start_time": "2022-05-03T17:41:47.810Z"
   },
   {
    "duration": 40,
    "start_time": "2022-05-03T17:42:04.147Z"
   },
   {
    "duration": 1466,
    "start_time": "2022-05-03T17:42:13.166Z"
   },
   {
    "duration": 1428,
    "start_time": "2022-05-03T17:42:22.023Z"
   },
   {
    "duration": 228,
    "start_time": "2022-05-03T17:42:54.286Z"
   },
   {
    "duration": 11,
    "start_time": "2022-05-03T17:50:49.158Z"
   },
   {
    "duration": 22,
    "start_time": "2022-05-03T17:51:08.155Z"
   },
   {
    "duration": 8,
    "start_time": "2022-05-03T17:51:42.069Z"
   },
   {
    "duration": 16,
    "start_time": "2022-05-03T17:51:55.358Z"
   },
   {
    "duration": 12,
    "start_time": "2022-05-03T17:52:06.442Z"
   },
   {
    "duration": 3675,
    "start_time": "2022-05-03T17:52:20.029Z"
   },
   {
    "duration": 9,
    "start_time": "2022-05-03T17:52:29.397Z"
   },
   {
    "duration": 6,
    "start_time": "2022-05-03T17:52:42.792Z"
   },
   {
    "duration": 9,
    "start_time": "2022-05-03T17:52:48.385Z"
   },
   {
    "duration": 142,
    "start_time": "2022-05-03T17:53:04.844Z"
   },
   {
    "duration": 131,
    "start_time": "2022-05-03T17:53:20.393Z"
   },
   {
    "duration": 159,
    "start_time": "2022-05-03T17:53:35.175Z"
   },
   {
    "duration": 3131,
    "start_time": "2022-05-03T17:54:14.620Z"
   },
   {
    "duration": 0,
    "start_time": "2022-05-03T17:54:17.753Z"
   },
   {
    "duration": 8,
    "start_time": "2022-05-03T17:54:20.666Z"
   },
   {
    "duration": 7,
    "start_time": "2022-05-03T17:54:22.455Z"
   },
   {
    "duration": 11,
    "start_time": "2022-05-03T17:54:38.415Z"
   },
   {
    "duration": 3093,
    "start_time": "2022-05-03T17:54:44.913Z"
   },
   {
    "duration": 8,
    "start_time": "2022-05-03T17:54:50.147Z"
   },
   {
    "duration": 172,
    "start_time": "2022-05-03T17:55:06.640Z"
   },
   {
    "duration": 171,
    "start_time": "2022-05-03T17:55:15.177Z"
   },
   {
    "duration": 181,
    "start_time": "2022-05-03T17:56:47.914Z"
   },
   {
    "duration": 15,
    "start_time": "2022-05-03T17:57:09.101Z"
   },
   {
    "duration": 8,
    "start_time": "2022-05-03T17:57:24.096Z"
   },
   {
    "duration": 285,
    "start_time": "2022-05-03T17:57:34.269Z"
   },
   {
    "duration": 163,
    "start_time": "2022-05-03T17:57:53.294Z"
   },
   {
    "duration": 5,
    "start_time": "2022-05-03T17:58:25.257Z"
   },
   {
    "duration": 3132,
    "start_time": "2022-05-03T17:58:39.505Z"
   },
   {
    "duration": 13,
    "start_time": "2022-05-03T17:58:47.559Z"
   },
   {
    "duration": 8,
    "start_time": "2022-05-03T17:58:58.903Z"
   },
   {
    "duration": 7,
    "start_time": "2022-05-03T17:59:16.032Z"
   },
   {
    "duration": 11,
    "start_time": "2022-05-03T18:02:18.851Z"
   },
   {
    "duration": 5,
    "start_time": "2022-05-03T18:02:20.736Z"
   },
   {
    "duration": 14,
    "start_time": "2022-05-03T18:03:32.404Z"
   },
   {
    "duration": 9,
    "start_time": "2022-05-03T18:03:34.244Z"
   },
   {
    "duration": 8,
    "start_time": "2022-05-03T18:03:35.587Z"
   },
   {
    "duration": 183,
    "start_time": "2022-05-03T18:03:38.136Z"
   },
   {
    "duration": 150,
    "start_time": "2022-05-03T18:03:40.666Z"
   },
   {
    "duration": 8,
    "start_time": "2022-05-03T18:03:43.247Z"
   },
   {
    "duration": 15,
    "start_time": "2022-05-03T18:04:26.020Z"
   },
   {
    "duration": 8,
    "start_time": "2022-05-03T18:04:27.560Z"
   },
   {
    "duration": 8,
    "start_time": "2022-05-03T18:04:29.108Z"
   },
   {
    "duration": 175,
    "start_time": "2022-05-03T18:04:30.996Z"
   },
   {
    "duration": 150,
    "start_time": "2022-05-03T18:04:33.618Z"
   },
   {
    "duration": 8,
    "start_time": "2022-05-03T18:04:46.884Z"
   },
   {
    "duration": 179,
    "start_time": "2022-05-03T18:12:06.846Z"
   },
   {
    "duration": 230,
    "start_time": "2022-05-03T18:12:44.561Z"
   },
   {
    "duration": 410,
    "start_time": "2022-05-03T18:14:14.807Z"
   },
   {
    "duration": 223,
    "start_time": "2022-05-03T18:14:20.863Z"
   },
   {
    "duration": 269,
    "start_time": "2022-05-03T18:14:26.825Z"
   },
   {
    "duration": 339,
    "start_time": "2022-05-03T18:14:46.400Z"
   },
   {
    "duration": 302,
    "start_time": "2022-05-03T18:14:51.661Z"
   },
   {
    "duration": 318,
    "start_time": "2022-05-03T18:14:59.520Z"
   },
   {
    "duration": 454,
    "start_time": "2022-05-03T18:19:09.771Z"
   },
   {
    "duration": 319,
    "start_time": "2022-05-03T18:19:41.894Z"
   },
   {
    "duration": 331,
    "start_time": "2022-05-03T18:20:10.800Z"
   },
   {
    "duration": 326,
    "start_time": "2022-05-03T18:20:25.203Z"
   },
   {
    "duration": 5,
    "start_time": "2022-05-03T18:20:38.205Z"
   },
   {
    "duration": 5,
    "start_time": "2022-05-03T18:20:38.212Z"
   },
   {
    "duration": 15,
    "start_time": "2022-05-03T18:20:38.218Z"
   },
   {
    "duration": 8,
    "start_time": "2022-05-03T18:20:38.235Z"
   },
   {
    "duration": 7,
    "start_time": "2022-05-03T18:20:38.245Z"
   },
   {
    "duration": 364,
    "start_time": "2022-05-03T18:20:38.253Z"
   },
   {
    "duration": 548,
    "start_time": "2022-05-03T18:20:38.622Z"
   },
   {
    "duration": 7,
    "start_time": "2022-05-03T18:20:39.171Z"
   },
   {
    "duration": 13,
    "start_time": "2022-05-03T18:20:39.180Z"
   },
   {
    "duration": 7,
    "start_time": "2022-05-03T18:20:39.196Z"
   },
   {
    "duration": 24,
    "start_time": "2022-05-03T18:20:39.205Z"
   },
   {
    "duration": 362,
    "start_time": "2022-05-03T18:20:39.231Z"
   },
   {
    "duration": 327,
    "start_time": "2022-05-03T18:20:39.595Z"
   },
   {
    "duration": 7,
    "start_time": "2022-05-03T18:20:39.924Z"
   },
   {
    "duration": 15,
    "start_time": "2022-05-03T18:20:39.933Z"
   },
   {
    "duration": 8,
    "start_time": "2022-05-03T18:20:39.950Z"
   },
   {
    "duration": 7,
    "start_time": "2022-05-03T18:20:39.960Z"
   },
   {
    "duration": 349,
    "start_time": "2022-05-03T18:20:39.969Z"
   },
   {
    "duration": 320,
    "start_time": "2022-05-03T18:20:40.322Z"
   },
   {
    "duration": 7,
    "start_time": "2022-05-03T18:20:40.644Z"
   },
   {
    "duration": 16,
    "start_time": "2022-05-03T18:20:40.653Z"
   },
   {
    "duration": 6,
    "start_time": "2022-05-03T18:20:40.670Z"
   },
   {
    "duration": 7,
    "start_time": "2022-05-03T18:20:40.678Z"
   },
   {
    "duration": 36,
    "start_time": "2022-05-03T18:20:40.687Z"
   },
   {
    "duration": 13,
    "start_time": "2022-05-03T18:20:40.727Z"
   },
   {
    "duration": 5,
    "start_time": "2022-05-03T18:20:40.741Z"
   },
   {
    "duration": 197,
    "start_time": "2022-05-03T18:25:53.896Z"
   },
   {
    "duration": 191,
    "start_time": "2022-05-03T18:25:58.416Z"
   },
   {
    "duration": 642,
    "start_time": "2022-05-03T18:30:53.710Z"
   },
   {
    "duration": 24,
    "start_time": "2022-05-03T18:31:25.839Z"
   },
   {
    "duration": 218,
    "start_time": "2022-05-03T18:32:14.025Z"
   },
   {
    "duration": 11,
    "start_time": "2022-05-03T18:32:21.379Z"
   },
   {
    "duration": 9,
    "start_time": "2022-05-03T18:32:59.727Z"
   },
   {
    "duration": 4,
    "start_time": "2022-05-03T18:33:02.596Z"
   },
   {
    "duration": 22,
    "start_time": "2022-05-03T18:33:04.787Z"
   },
   {
    "duration": 11,
    "start_time": "2022-05-03T18:33:32.262Z"
   },
   {
    "duration": 11,
    "start_time": "2022-05-03T18:33:35.519Z"
   },
   {
    "duration": 11,
    "start_time": "2022-05-03T18:33:55.435Z"
   },
   {
    "duration": 3,
    "start_time": "2022-05-03T18:34:20.862Z"
   },
   {
    "duration": 5,
    "start_time": "2022-05-03T18:34:25.082Z"
   },
   {
    "duration": 4,
    "start_time": "2022-05-03T18:35:46.952Z"
   },
   {
    "duration": 5,
    "start_time": "2022-05-03T18:38:05.295Z"
   },
   {
    "duration": 6,
    "start_time": "2022-05-03T18:42:54.975Z"
   },
   {
    "duration": 8,
    "start_time": "2022-05-03T18:45:31.955Z"
   },
   {
    "duration": 1176,
    "start_time": "2022-05-03T18:45:52.290Z"
   },
   {
    "duration": 410,
    "start_time": "2022-05-03T18:45:53.468Z"
   },
   {
    "duration": 14,
    "start_time": "2022-05-03T18:45:53.879Z"
   },
   {
    "duration": 13,
    "start_time": "2022-05-03T18:45:53.895Z"
   },
   {
    "duration": 12,
    "start_time": "2022-05-03T18:45:53.910Z"
   },
   {
    "duration": 17,
    "start_time": "2022-05-03T18:45:53.924Z"
   },
   {
    "duration": 9,
    "start_time": "2022-05-03T18:45:53.943Z"
   },
   {
    "duration": 11,
    "start_time": "2022-05-03T18:45:53.953Z"
   },
   {
    "duration": 15,
    "start_time": "2022-05-03T18:45:53.966Z"
   },
   {
    "duration": 55,
    "start_time": "2022-05-03T18:45:53.983Z"
   },
   {
    "duration": 52,
    "start_time": "2022-05-03T18:45:54.040Z"
   },
   {
    "duration": 45,
    "start_time": "2022-05-03T18:45:54.095Z"
   },
   {
    "duration": 114,
    "start_time": "2022-05-03T18:45:54.142Z"
   },
   {
    "duration": 5,
    "start_time": "2022-05-03T18:45:54.260Z"
   },
   {
    "duration": 7,
    "start_time": "2022-05-03T18:45:54.267Z"
   },
   {
    "duration": 8,
    "start_time": "2022-05-03T18:45:54.276Z"
   },
   {
    "duration": 40,
    "start_time": "2022-05-03T18:45:54.286Z"
   },
   {
    "duration": 19,
    "start_time": "2022-05-03T18:45:54.328Z"
   },
   {
    "duration": 41,
    "start_time": "2022-05-03T18:45:54.349Z"
   },
   {
    "duration": 8,
    "start_time": "2022-05-03T18:45:54.392Z"
   },
   {
    "duration": 8,
    "start_time": "2022-05-03T18:45:54.422Z"
   },
   {
    "duration": 30,
    "start_time": "2022-05-03T18:45:54.432Z"
   },
   {
    "duration": 16,
    "start_time": "2022-05-03T18:45:54.464Z"
   },
   {
    "duration": 7,
    "start_time": "2022-05-03T18:45:54.482Z"
   },
   {
    "duration": 37,
    "start_time": "2022-05-03T18:45:54.491Z"
   },
   {
    "duration": 28,
    "start_time": "2022-05-03T18:45:54.531Z"
   },
   {
    "duration": 41,
    "start_time": "2022-05-03T18:45:54.561Z"
   },
   {
    "duration": 24,
    "start_time": "2022-05-03T18:45:54.603Z"
   },
   {
    "duration": 11,
    "start_time": "2022-05-03T18:45:54.629Z"
   },
   {
    "duration": 3,
    "start_time": "2022-05-03T18:45:54.641Z"
   },
   {
    "duration": 45,
    "start_time": "2022-05-03T18:45:54.646Z"
   },
   {
    "duration": 36,
    "start_time": "2022-05-03T18:45:54.692Z"
   },
   {
    "duration": 12,
    "start_time": "2022-05-03T18:45:54.730Z"
   },
   {
    "duration": 38,
    "start_time": "2022-05-03T18:45:54.744Z"
   },
   {
    "duration": 60,
    "start_time": "2022-05-03T18:45:54.784Z"
   },
   {
    "duration": 21,
    "start_time": "2022-05-03T18:45:54.847Z"
   },
   {
    "duration": 7,
    "start_time": "2022-05-03T18:45:54.869Z"
   },
   {
    "duration": 98,
    "start_time": "2022-05-03T18:45:54.877Z"
   },
   {
    "duration": 97,
    "start_time": "2022-05-03T18:45:54.977Z"
   },
   {
    "duration": 100,
    "start_time": "2022-05-03T18:45:55.075Z"
   },
   {
    "duration": 9,
    "start_time": "2022-05-03T18:45:55.181Z"
   },
   {
    "duration": 43,
    "start_time": "2022-05-03T18:45:55.191Z"
   },
   {
    "duration": 6,
    "start_time": "2022-05-03T18:45:55.237Z"
   },
   {
    "duration": 16,
    "start_time": "2022-05-03T18:45:55.245Z"
   },
   {
    "duration": 16,
    "start_time": "2022-05-03T18:45:55.263Z"
   },
   {
    "duration": 7,
    "start_time": "2022-05-03T18:45:55.281Z"
   },
   {
    "duration": 10,
    "start_time": "2022-05-03T18:45:55.290Z"
   },
   {
    "duration": 399,
    "start_time": "2022-05-03T18:45:55.302Z"
   },
   {
    "duration": 377,
    "start_time": "2022-05-03T18:45:55.703Z"
   },
   {
    "duration": 8,
    "start_time": "2022-05-03T18:45:56.082Z"
   },
   {
    "duration": 31,
    "start_time": "2022-05-03T18:45:56.092Z"
   },
   {
    "duration": 8,
    "start_time": "2022-05-03T18:45:56.124Z"
   },
   {
    "duration": 9,
    "start_time": "2022-05-03T18:45:56.134Z"
   },
   {
    "duration": 385,
    "start_time": "2022-05-03T18:45:56.145Z"
   },
   {
    "duration": 346,
    "start_time": "2022-05-03T18:45:56.532Z"
   },
   {
    "duration": 8,
    "start_time": "2022-05-03T18:45:56.880Z"
   },
   {
    "duration": 18,
    "start_time": "2022-05-03T18:45:56.890Z"
   },
   {
    "duration": 8,
    "start_time": "2022-05-03T18:45:56.909Z"
   },
   {
    "duration": 12,
    "start_time": "2022-05-03T18:45:56.923Z"
   },
   {
    "duration": 423,
    "start_time": "2022-05-03T18:45:56.937Z"
   },
   {
    "duration": 431,
    "start_time": "2022-05-03T18:45:57.362Z"
   },
   {
    "duration": 9,
    "start_time": "2022-05-03T18:45:57.795Z"
   },
   {
    "duration": 18,
    "start_time": "2022-05-03T18:45:57.806Z"
   },
   {
    "duration": 12,
    "start_time": "2022-05-03T18:45:57.826Z"
   },
   {
    "duration": 10,
    "start_time": "2022-05-03T18:45:57.840Z"
   },
   {
    "duration": 5,
    "start_time": "2022-05-03T18:45:57.852Z"
   },
   {
    "duration": 111,
    "start_time": "2022-05-03T18:45:57.859Z"
   },
   {
    "duration": 0,
    "start_time": "2022-05-03T18:45:57.972Z"
   },
   {
    "duration": 10,
    "start_time": "2022-05-03T18:47:38.142Z"
   },
   {
    "duration": 14,
    "start_time": "2022-05-03T18:47:45.971Z"
   },
   {
    "duration": 12,
    "start_time": "2022-05-03T18:48:03.607Z"
   },
   {
    "duration": 5,
    "start_time": "2022-05-03T18:48:10.155Z"
   },
   {
    "duration": 5,
    "start_time": "2022-05-03T18:48:24.686Z"
   },
   {
    "duration": 3,
    "start_time": "2022-05-03T18:52:32.847Z"
   },
   {
    "duration": 210,
    "start_time": "2022-05-03T19:15:35.097Z"
   },
   {
    "duration": 1186,
    "start_time": "2022-05-03T19:15:39.479Z"
   },
   {
    "duration": 447,
    "start_time": "2022-05-03T19:15:40.667Z"
   },
   {
    "duration": 15,
    "start_time": "2022-05-03T19:15:41.116Z"
   },
   {
    "duration": 11,
    "start_time": "2022-05-03T19:15:41.133Z"
   },
   {
    "duration": 6,
    "start_time": "2022-05-03T19:15:41.147Z"
   },
   {
    "duration": 17,
    "start_time": "2022-05-03T19:15:41.155Z"
   },
   {
    "duration": 8,
    "start_time": "2022-05-03T19:15:41.174Z"
   },
   {
    "duration": 6,
    "start_time": "2022-05-03T19:15:41.184Z"
   },
   {
    "duration": 39,
    "start_time": "2022-05-03T19:15:41.191Z"
   },
   {
    "duration": 28,
    "start_time": "2022-05-03T19:15:41.232Z"
   },
   {
    "duration": 61,
    "start_time": "2022-05-03T19:15:41.262Z"
   },
   {
    "duration": 30,
    "start_time": "2022-05-03T19:15:41.325Z"
   },
   {
    "duration": 126,
    "start_time": "2022-05-03T19:15:41.357Z"
   },
   {
    "duration": 6,
    "start_time": "2022-05-03T19:15:41.489Z"
   },
   {
    "duration": 27,
    "start_time": "2022-05-03T19:15:41.497Z"
   },
   {
    "duration": 8,
    "start_time": "2022-05-03T19:15:41.526Z"
   },
   {
    "duration": 21,
    "start_time": "2022-05-03T19:15:41.536Z"
   },
   {
    "duration": 22,
    "start_time": "2022-05-03T19:15:41.558Z"
   },
   {
    "duration": 74,
    "start_time": "2022-05-03T19:15:41.582Z"
   },
   {
    "duration": 9,
    "start_time": "2022-05-03T19:15:41.657Z"
   },
   {
    "duration": 9,
    "start_time": "2022-05-03T19:15:41.668Z"
   },
   {
    "duration": 50,
    "start_time": "2022-05-03T19:15:41.679Z"
   },
   {
    "duration": 17,
    "start_time": "2022-05-03T19:15:41.731Z"
   },
   {
    "duration": 9,
    "start_time": "2022-05-03T19:15:41.750Z"
   },
   {
    "duration": 17,
    "start_time": "2022-05-03T19:15:41.761Z"
   },
   {
    "duration": 50,
    "start_time": "2022-05-03T19:15:41.780Z"
   },
   {
    "duration": 44,
    "start_time": "2022-05-03T19:15:41.831Z"
   },
   {
    "duration": 8,
    "start_time": "2022-05-03T19:15:41.877Z"
   },
   {
    "duration": 13,
    "start_time": "2022-05-03T19:15:41.886Z"
   },
   {
    "duration": 24,
    "start_time": "2022-05-03T19:15:41.901Z"
   },
   {
    "duration": 47,
    "start_time": "2022-05-03T19:15:41.926Z"
   },
   {
    "duration": 12,
    "start_time": "2022-05-03T19:15:41.974Z"
   },
   {
    "duration": 13,
    "start_time": "2022-05-03T19:15:41.988Z"
   },
   {
    "duration": 57,
    "start_time": "2022-05-03T19:15:42.002Z"
   },
   {
    "duration": 36,
    "start_time": "2022-05-03T19:15:42.060Z"
   },
   {
    "duration": 42,
    "start_time": "2022-05-03T19:15:42.097Z"
   },
   {
    "duration": 6,
    "start_time": "2022-05-03T19:15:42.140Z"
   },
   {
    "duration": 93,
    "start_time": "2022-05-03T19:15:42.147Z"
   },
   {
    "duration": 89,
    "start_time": "2022-05-03T19:15:42.241Z"
   },
   {
    "duration": 81,
    "start_time": "2022-05-03T19:15:42.331Z"
   },
   {
    "duration": 8,
    "start_time": "2022-05-03T19:15:42.425Z"
   },
   {
    "duration": 29,
    "start_time": "2022-05-03T19:15:42.434Z"
   },
   {
    "duration": 5,
    "start_time": "2022-05-03T19:15:42.464Z"
   },
   {
    "duration": 4,
    "start_time": "2022-05-03T19:15:42.471Z"
   },
   {
    "duration": 17,
    "start_time": "2022-05-03T19:15:42.477Z"
   },
   {
    "duration": 30,
    "start_time": "2022-05-03T19:15:42.496Z"
   },
   {
    "duration": 7,
    "start_time": "2022-05-03T19:15:42.528Z"
   },
   {
    "duration": 377,
    "start_time": "2022-05-03T19:15:42.537Z"
   },
   {
    "duration": 349,
    "start_time": "2022-05-03T19:15:42.916Z"
   },
   {
    "duration": 9,
    "start_time": "2022-05-03T19:15:43.267Z"
   },
   {
    "duration": 17,
    "start_time": "2022-05-03T19:15:43.277Z"
   },
   {
    "duration": 28,
    "start_time": "2022-05-03T19:15:43.296Z"
   },
   {
    "duration": 8,
    "start_time": "2022-05-03T19:15:43.326Z"
   },
   {
    "duration": 367,
    "start_time": "2022-05-03T19:15:43.336Z"
   },
   {
    "duration": 348,
    "start_time": "2022-05-03T19:15:43.704Z"
   },
   {
    "duration": 7,
    "start_time": "2022-05-03T19:15:44.054Z"
   },
   {
    "duration": 15,
    "start_time": "2022-05-03T19:15:44.062Z"
   },
   {
    "duration": 8,
    "start_time": "2022-05-03T19:15:44.078Z"
   },
   {
    "duration": 34,
    "start_time": "2022-05-03T19:15:44.089Z"
   },
   {
    "duration": 435,
    "start_time": "2022-05-03T19:15:44.125Z"
   },
   {
    "duration": 341,
    "start_time": "2022-05-03T19:15:44.562Z"
   },
   {
    "duration": 7,
    "start_time": "2022-05-03T19:15:44.905Z"
   },
   {
    "duration": 4,
    "start_time": "2022-05-03T19:15:44.923Z"
   },
   {
    "duration": 14,
    "start_time": "2022-05-03T19:15:44.928Z"
   },
   {
    "duration": 10,
    "start_time": "2022-05-03T19:15:44.943Z"
   },
   {
    "duration": 3,
    "start_time": "2022-05-03T19:15:44.955Z"
   },
   {
    "duration": 12,
    "start_time": "2022-05-03T19:15:44.960Z"
   },
   {
    "duration": 200,
    "start_time": "2022-05-03T19:15:44.973Z"
   },
   {
    "duration": 0,
    "start_time": "2022-05-03T19:15:45.175Z"
   },
   {
    "duration": 0,
    "start_time": "2022-05-03T19:15:45.176Z"
   },
   {
    "duration": 10,
    "start_time": "2022-05-03T19:15:55.429Z"
   },
   {
    "duration": 5,
    "start_time": "2022-05-03T19:15:56.876Z"
   },
   {
    "duration": 1191,
    "start_time": "2022-05-06T14:51:52.810Z"
   },
   {
    "duration": 377,
    "start_time": "2022-05-06T14:51:54.004Z"
   },
   {
    "duration": 15,
    "start_time": "2022-05-06T14:51:54.383Z"
   },
   {
    "duration": 12,
    "start_time": "2022-05-06T14:51:54.401Z"
   },
   {
    "duration": 9,
    "start_time": "2022-05-06T14:51:54.415Z"
   },
   {
    "duration": 29,
    "start_time": "2022-05-06T14:51:54.426Z"
   },
   {
    "duration": 8,
    "start_time": "2022-05-06T14:51:54.458Z"
   },
   {
    "duration": 5,
    "start_time": "2022-05-06T14:51:54.468Z"
   },
   {
    "duration": 12,
    "start_time": "2022-05-06T14:51:54.475Z"
   },
   {
    "duration": 29,
    "start_time": "2022-05-06T14:51:54.490Z"
   },
   {
    "duration": 57,
    "start_time": "2022-05-06T14:51:54.521Z"
   },
   {
    "duration": 31,
    "start_time": "2022-05-06T14:51:54.580Z"
   },
   {
    "duration": 119,
    "start_time": "2022-05-06T14:51:54.613Z"
   },
   {
    "duration": 5,
    "start_time": "2022-05-06T14:51:54.734Z"
   },
   {
    "duration": 20,
    "start_time": "2022-05-06T14:51:54.741Z"
   },
   {
    "duration": 11,
    "start_time": "2022-05-06T14:51:54.763Z"
   },
   {
    "duration": 24,
    "start_time": "2022-05-06T14:51:54.776Z"
   },
   {
    "duration": 20,
    "start_time": "2022-05-06T14:51:54.802Z"
   },
   {
    "duration": 71,
    "start_time": "2022-05-06T14:51:54.824Z"
   },
   {
    "duration": 9,
    "start_time": "2022-05-06T14:51:54.896Z"
   },
   {
    "duration": 19,
    "start_time": "2022-05-06T14:51:54.906Z"
   },
   {
    "duration": 41,
    "start_time": "2022-05-06T14:51:54.926Z"
   },
   {
    "duration": 17,
    "start_time": "2022-05-06T14:51:54.969Z"
   },
   {
    "duration": 19,
    "start_time": "2022-05-06T14:51:54.988Z"
   },
   {
    "duration": 18,
    "start_time": "2022-05-06T14:51:55.008Z"
   },
   {
    "duration": 46,
    "start_time": "2022-05-06T14:51:55.028Z"
   },
   {
    "duration": 44,
    "start_time": "2022-05-06T14:51:55.075Z"
   },
   {
    "duration": 9,
    "start_time": "2022-05-06T14:51:55.123Z"
   },
   {
    "duration": 28,
    "start_time": "2022-05-06T14:51:55.133Z"
   },
   {
    "duration": 3,
    "start_time": "2022-05-06T14:51:55.163Z"
   },
   {
    "duration": 46,
    "start_time": "2022-05-06T14:51:55.167Z"
   },
   {
    "duration": 13,
    "start_time": "2022-05-06T14:51:55.215Z"
   },
   {
    "duration": 30,
    "start_time": "2022-05-06T14:51:55.230Z"
   },
   {
    "duration": 41,
    "start_time": "2022-05-06T14:51:55.262Z"
   },
   {
    "duration": 53,
    "start_time": "2022-05-06T14:51:55.304Z"
   },
   {
    "duration": 21,
    "start_time": "2022-05-06T14:51:55.359Z"
   },
   {
    "duration": 8,
    "start_time": "2022-05-06T14:51:55.381Z"
   },
   {
    "duration": 106,
    "start_time": "2022-05-06T14:51:55.390Z"
   },
   {
    "duration": 101,
    "start_time": "2022-05-06T14:51:55.497Z"
   },
   {
    "duration": 96,
    "start_time": "2022-05-06T14:51:55.599Z"
   },
   {
    "duration": 8,
    "start_time": "2022-05-06T14:51:55.697Z"
   },
   {
    "duration": 26,
    "start_time": "2022-05-06T14:51:55.706Z"
   },
   {
    "duration": 21,
    "start_time": "2022-05-06T14:51:55.734Z"
   },
   {
    "duration": 4,
    "start_time": "2022-05-06T14:51:55.757Z"
   },
   {
    "duration": 16,
    "start_time": "2022-05-06T14:51:55.763Z"
   },
   {
    "duration": 8,
    "start_time": "2022-05-06T14:51:55.781Z"
   },
   {
    "duration": 8,
    "start_time": "2022-05-06T14:51:55.790Z"
   },
   {
    "duration": 393,
    "start_time": "2022-05-06T14:51:55.800Z"
   },
   {
    "duration": 344,
    "start_time": "2022-05-06T14:51:56.194Z"
   },
   {
    "duration": 14,
    "start_time": "2022-05-06T14:51:56.540Z"
   },
   {
    "duration": 14,
    "start_time": "2022-05-06T14:51:56.556Z"
   },
   {
    "duration": 7,
    "start_time": "2022-05-06T14:51:56.571Z"
   },
   {
    "duration": 9,
    "start_time": "2022-05-06T14:51:56.580Z"
   },
   {
    "duration": 488,
    "start_time": "2022-05-06T14:51:56.590Z"
   },
   {
    "duration": 342,
    "start_time": "2022-05-06T14:51:57.081Z"
   },
   {
    "duration": 9,
    "start_time": "2022-05-06T14:51:57.425Z"
   },
   {
    "duration": 30,
    "start_time": "2022-05-06T14:51:57.436Z"
   },
   {
    "duration": 11,
    "start_time": "2022-05-06T14:51:57.468Z"
   },
   {
    "duration": 12,
    "start_time": "2022-05-06T14:51:57.481Z"
   },
   {
    "duration": 437,
    "start_time": "2022-05-06T14:51:57.495Z"
   },
   {
    "duration": 340,
    "start_time": "2022-05-06T14:51:57.935Z"
   },
   {
    "duration": 8,
    "start_time": "2022-05-06T14:51:58.277Z"
   },
   {
    "duration": 11,
    "start_time": "2022-05-06T14:51:58.287Z"
   },
   {
    "duration": 13,
    "start_time": "2022-05-06T14:51:58.299Z"
   },
   {
    "duration": 10,
    "start_time": "2022-05-06T14:51:58.313Z"
   },
   {
    "duration": 3,
    "start_time": "2022-05-06T14:51:58.325Z"
   },
   {
    "duration": 11,
    "start_time": "2022-05-06T14:51:58.355Z"
   },
   {
    "duration": 11,
    "start_time": "2022-05-06T14:51:58.368Z"
   },
   {
    "duration": 5,
    "start_time": "2022-05-06T14:51:58.380Z"
   },
   {
    "duration": 12,
    "start_time": "2022-05-06T14:55:48.014Z"
   },
   {
    "duration": 11,
    "start_time": "2022-05-06T14:56:00.993Z"
   },
   {
    "duration": 5,
    "start_time": "2022-05-06T14:58:25.125Z"
   },
   {
    "duration": 6,
    "start_time": "2022-05-06T14:58:37.322Z"
   },
   {
    "duration": 72,
    "start_time": "2022-05-06T15:23:31.046Z"
   },
   {
    "duration": 10,
    "start_time": "2022-05-06T15:24:09.572Z"
   },
   {
    "duration": 1668,
    "start_time": "2022-05-06T15:24:14.084Z"
   },
   {
    "duration": 497,
    "start_time": "2022-05-06T15:24:18.263Z"
   },
   {
    "duration": 23,
    "start_time": "2022-05-06T15:24:21.787Z"
   },
   {
    "duration": 18,
    "start_time": "2022-05-06T15:24:24.296Z"
   },
   {
    "duration": 7,
    "start_time": "2022-05-06T15:24:28.543Z"
   },
   {
    "duration": 21,
    "start_time": "2022-05-06T15:24:30.591Z"
   },
   {
    "duration": 9,
    "start_time": "2022-05-06T15:24:39.234Z"
   },
   {
    "duration": 7,
    "start_time": "2022-05-06T15:24:42.230Z"
   },
   {
    "duration": 11,
    "start_time": "2022-05-06T15:24:53.476Z"
   },
   {
    "duration": 33,
    "start_time": "2022-05-06T15:25:04.890Z"
   },
   {
    "duration": 45,
    "start_time": "2022-05-06T15:25:11.347Z"
   },
   {
    "duration": 37,
    "start_time": "2022-05-06T15:25:13.885Z"
   },
   {
    "duration": 274,
    "start_time": "2022-05-06T15:25:43.745Z"
   },
   {
    "duration": 276,
    "start_time": "2022-05-06T15:25:54.213Z"
   },
   {
    "duration": 307,
    "start_time": "2022-05-06T15:26:02.733Z"
   },
   {
    "duration": 137,
    "start_time": "2022-05-06T15:26:38.993Z"
   },
   {
    "duration": 8,
    "start_time": "2022-05-06T15:27:00.034Z"
   },
   {
    "duration": 12,
    "start_time": "2022-05-06T15:27:03.369Z"
   },
   {
    "duration": 11,
    "start_time": "2022-05-06T15:27:11.894Z"
   },
   {
    "duration": 26,
    "start_time": "2022-05-06T15:27:14.953Z"
   },
   {
    "duration": 30,
    "start_time": "2022-05-06T15:27:17.146Z"
   },
   {
    "duration": 59,
    "start_time": "2022-05-06T15:27:18.519Z"
   },
   {
    "duration": 13,
    "start_time": "2022-05-06T15:27:21.158Z"
   },
   {
    "duration": 10,
    "start_time": "2022-05-06T15:27:28.851Z"
   },
   {
    "duration": 37,
    "start_time": "2022-05-06T15:27:34.699Z"
   },
   {
    "duration": 25,
    "start_time": "2022-05-06T15:27:35.999Z"
   },
   {
    "duration": 263,
    "start_time": "2022-05-06T15:28:07.355Z"
   },
   {
    "duration": 316,
    "start_time": "2022-05-06T15:28:34.550Z"
   },
   {
    "duration": 294,
    "start_time": "2022-05-06T15:28:44.270Z"
   },
   {
    "duration": 97,
    "start_time": "2022-05-06T15:29:18.962Z"
   },
   {
    "duration": 23,
    "start_time": "2022-05-06T15:29:29.030Z"
   },
   {
    "duration": 4,
    "start_time": "2022-05-06T15:29:48.614Z"
   },
   {
    "duration": 34,
    "start_time": "2022-05-06T15:29:51.091Z"
   },
   {
    "duration": 42,
    "start_time": "2022-05-06T15:29:53.966Z"
   },
   {
    "duration": 68,
    "start_time": "2022-05-06T15:29:56.248Z"
   },
   {
    "duration": 16,
    "start_time": "2022-05-06T15:30:02.955Z"
   },
   {
    "duration": 100,
    "start_time": "2022-05-06T15:31:50.229Z"
   },
   {
    "duration": 4,
    "start_time": "2022-05-06T15:32:30.422Z"
   },
   {
    "duration": 100,
    "start_time": "2022-05-06T15:33:55.144Z"
   },
   {
    "duration": 174,
    "start_time": "2022-05-06T15:38:07.456Z"
   },
   {
    "duration": 33,
    "start_time": "2022-05-06T15:38:11.763Z"
   },
   {
    "duration": 14,
    "start_time": "2022-05-06T15:39:31.787Z"
   },
   {
    "duration": 14,
    "start_time": "2022-05-06T15:39:34.056Z"
   },
   {
    "duration": 13,
    "start_time": "2022-05-06T15:39:37.488Z"
   },
   {
    "duration": 23,
    "start_time": "2022-05-06T15:39:56.838Z"
   },
   {
    "duration": 28,
    "start_time": "2022-05-06T15:41:01.734Z"
   },
   {
    "duration": 60,
    "start_time": "2022-05-06T15:41:14.529Z"
   },
   {
    "duration": 52,
    "start_time": "2022-05-06T15:45:13.935Z"
   },
   {
    "duration": 54,
    "start_time": "2022-05-06T15:45:20.898Z"
   },
   {
    "duration": 57,
    "start_time": "2022-05-06T15:46:05.644Z"
   },
   {
    "duration": 10,
    "start_time": "2022-05-06T15:46:56.624Z"
   },
   {
    "duration": 17,
    "start_time": "2022-05-06T15:46:59.426Z"
   },
   {
    "duration": 70,
    "start_time": "2022-05-06T15:47:55.218Z"
   },
   {
    "duration": 10,
    "start_time": "2022-05-06T15:48:13.291Z"
   },
   {
    "duration": 69,
    "start_time": "2022-05-06T15:48:15.579Z"
   },
   {
    "duration": 15,
    "start_time": "2022-05-06T15:48:16.884Z"
   },
   {
    "duration": 71,
    "start_time": "2022-05-06T15:48:48.224Z"
   },
   {
    "duration": 70,
    "start_time": "2022-05-06T15:48:52.250Z"
   },
   {
    "duration": 101,
    "start_time": "2022-05-06T15:49:05.342Z"
   },
   {
    "duration": 73,
    "start_time": "2022-05-06T15:49:08.556Z"
   },
   {
    "duration": 18,
    "start_time": "2022-05-06T15:49:10.845Z"
   },
   {
    "duration": 62,
    "start_time": "2022-05-06T15:49:35.770Z"
   },
   {
    "duration": 23,
    "start_time": "2022-05-06T15:49:56.496Z"
   },
   {
    "duration": 42,
    "start_time": "2022-05-06T15:50:37.959Z"
   },
   {
    "duration": 15,
    "start_time": "2022-05-06T15:50:41.486Z"
   },
   {
    "duration": 15,
    "start_time": "2022-05-06T15:51:44.185Z"
   },
   {
    "duration": 62,
    "start_time": "2022-05-06T15:53:29.907Z"
   },
   {
    "duration": 15,
    "start_time": "2022-05-06T15:53:34.741Z"
   },
   {
    "duration": 10,
    "start_time": "2022-05-06T15:53:44.521Z"
   },
   {
    "duration": 70,
    "start_time": "2022-05-06T15:54:00.683Z"
   },
   {
    "duration": 10,
    "start_time": "2022-05-06T15:54:02.160Z"
   },
   {
    "duration": 84,
    "start_time": "2022-05-06T15:54:21.157Z"
   },
   {
    "duration": 15,
    "start_time": "2022-05-06T15:54:22.146Z"
   },
   {
    "duration": 71,
    "start_time": "2022-05-06T15:54:32.896Z"
   },
   {
    "duration": 45,
    "start_time": "2022-05-06T15:54:35.066Z"
   },
   {
    "duration": 16,
    "start_time": "2022-05-06T15:54:36.493Z"
   },
   {
    "duration": 105,
    "start_time": "2022-05-06T15:54:51.195Z"
   },
   {
    "duration": 14,
    "start_time": "2022-05-06T15:54:53.898Z"
   },
   {
    "duration": 42,
    "start_time": "2022-05-06T15:55:20.054Z"
   },
   {
    "duration": 10,
    "start_time": "2022-05-06T15:55:28.718Z"
   },
   {
    "duration": 43,
    "start_time": "2022-05-06T16:02:39.157Z"
   },
   {
    "duration": 11,
    "start_time": "2022-05-06T16:02:40.883Z"
   },
   {
    "duration": 71,
    "start_time": "2022-05-06T16:03:03.707Z"
   },
   {
    "duration": 10,
    "start_time": "2022-05-06T16:03:05.183Z"
   },
   {
    "duration": 43,
    "start_time": "2022-05-06T16:03:29.755Z"
   },
   {
    "duration": 10,
    "start_time": "2022-05-06T16:03:31.497Z"
   },
   {
    "duration": 15,
    "start_time": "2022-05-06T16:03:54.211Z"
   },
   {
    "duration": 13,
    "start_time": "2022-05-06T16:04:15.626Z"
   },
   {
    "duration": 95,
    "start_time": "2022-05-06T16:04:37.411Z"
   },
   {
    "duration": 42,
    "start_time": "2022-05-06T16:04:47.548Z"
   },
   {
    "duration": 10,
    "start_time": "2022-05-06T16:04:49.763Z"
   },
   {
    "duration": 102,
    "start_time": "2022-05-06T16:06:28.548Z"
   },
   {
    "duration": 54,
    "start_time": "2022-05-06T16:06:32.157Z"
   },
   {
    "duration": 10,
    "start_time": "2022-05-06T16:06:34.621Z"
   },
   {
    "duration": 59,
    "start_time": "2022-05-06T16:06:37.768Z"
   },
   {
    "duration": 11,
    "start_time": "2022-05-06T16:06:39.716Z"
   },
   {
    "duration": 10,
    "start_time": "2022-05-06T16:08:00.947Z"
   },
   {
    "duration": 9,
    "start_time": "2022-05-06T16:08:03.554Z"
   },
   {
    "duration": 9,
    "start_time": "2022-05-06T16:08:08.444Z"
   },
   {
    "duration": 5,
    "start_time": "2022-05-06T16:08:13.706Z"
   },
   {
    "duration": 46,
    "start_time": "2022-05-06T16:08:40.646Z"
   },
   {
    "duration": 12,
    "start_time": "2022-05-06T16:08:43.234Z"
   },
   {
    "duration": 79,
    "start_time": "2022-05-06T16:08:59.953Z"
   },
   {
    "duration": 69,
    "start_time": "2022-05-06T16:09:32.798Z"
   },
   {
    "duration": 6,
    "start_time": "2022-05-06T16:09:43.486Z"
   },
   {
    "duration": 80,
    "start_time": "2022-05-06T16:09:55.010Z"
   },
   {
    "duration": 12,
    "start_time": "2022-05-06T16:10:01.144Z"
   },
   {
    "duration": 42,
    "start_time": "2022-05-06T16:10:11.435Z"
   },
   {
    "duration": 44,
    "start_time": "2022-05-06T16:10:28.397Z"
   },
   {
    "duration": 37,
    "start_time": "2022-05-06T16:10:30.486Z"
   },
   {
    "duration": 9,
    "start_time": "2022-05-06T16:10:33.845Z"
   },
   {
    "duration": 14,
    "start_time": "2022-05-06T16:10:40.389Z"
   },
   {
    "duration": 15,
    "start_time": "2022-05-06T16:10:53.328Z"
   },
   {
    "duration": 23,
    "start_time": "2022-05-06T16:11:24.556Z"
   },
   {
    "duration": 41,
    "start_time": "2022-05-06T16:12:03.716Z"
   },
   {
    "duration": 12,
    "start_time": "2022-05-06T16:12:04.879Z"
   },
   {
    "duration": 70,
    "start_time": "2022-05-06T16:12:06.852Z"
   },
   {
    "duration": 11,
    "start_time": "2022-05-06T16:12:07.985Z"
   },
   {
    "duration": 43,
    "start_time": "2022-05-06T16:12:09.940Z"
   },
   {
    "duration": 10,
    "start_time": "2022-05-06T16:12:11.386Z"
   },
   {
    "duration": 21,
    "start_time": "2022-05-06T16:12:14.365Z"
   },
   {
    "duration": 11,
    "start_time": "2022-05-06T16:12:21.221Z"
   },
   {
    "duration": 18,
    "start_time": "2022-05-06T16:12:25.149Z"
   },
   {
    "duration": 17,
    "start_time": "2022-05-06T16:12:27.523Z"
   },
   {
    "duration": 30,
    "start_time": "2022-05-06T16:12:36.739Z"
   },
   {
    "duration": 32,
    "start_time": "2022-05-06T16:12:57.148Z"
   },
   {
    "duration": 21,
    "start_time": "2022-05-06T16:13:49.641Z"
   },
   {
    "duration": 19,
    "start_time": "2022-05-06T16:13:59.783Z"
   },
   {
    "duration": 19,
    "start_time": "2022-05-06T16:14:08.535Z"
   },
   {
    "duration": 50,
    "start_time": "2022-05-06T16:15:29.143Z"
   },
   {
    "duration": 45,
    "start_time": "2022-05-06T16:15:32.275Z"
   },
   {
    "duration": 10,
    "start_time": "2022-05-06T16:15:33.751Z"
   },
   {
    "duration": 46,
    "start_time": "2022-05-06T16:15:49.829Z"
   },
   {
    "duration": 10,
    "start_time": "2022-05-06T16:15:52.911Z"
   },
   {
    "duration": 73,
    "start_time": "2022-05-06T16:16:07.284Z"
   },
   {
    "duration": 10,
    "start_time": "2022-05-06T16:16:09.141Z"
   },
   {
    "duration": 71,
    "start_time": "2022-05-06T16:16:15.786Z"
   },
   {
    "duration": 47,
    "start_time": "2022-05-06T16:16:23.426Z"
   },
   {
    "duration": 10,
    "start_time": "2022-05-06T16:16:24.784Z"
   },
   {
    "duration": 75,
    "start_time": "2022-05-06T16:16:26.236Z"
   },
   {
    "duration": 11,
    "start_time": "2022-05-06T16:16:28.497Z"
   },
   {
    "duration": 45,
    "start_time": "2022-05-06T16:16:36.086Z"
   },
   {
    "duration": 10,
    "start_time": "2022-05-06T16:16:37.519Z"
   },
   {
    "duration": 20,
    "start_time": "2022-05-06T16:16:46.471Z"
   },
   {
    "duration": 28,
    "start_time": "2022-05-06T16:17:11.180Z"
   },
   {
    "duration": 101,
    "start_time": "2022-05-06T16:18:14.814Z"
   },
   {
    "duration": 131,
    "start_time": "2022-05-06T16:19:26.907Z"
   },
   {
    "duration": 3,
    "start_time": "2022-05-06T16:19:53.154Z"
   },
   {
    "duration": 24,
    "start_time": "2022-05-06T16:19:58.795Z"
   },
   {
    "duration": 20,
    "start_time": "2022-05-06T16:21:43.921Z"
   },
   {
    "duration": 18,
    "start_time": "2022-05-06T16:21:57.867Z"
   },
   {
    "duration": 12,
    "start_time": "2022-05-06T16:22:23.041Z"
   },
   {
    "duration": 103,
    "start_time": "2022-05-06T16:22:33.361Z"
   },
   {
    "duration": 9,
    "start_time": "2022-05-06T16:22:36.242Z"
   },
   {
    "duration": 30,
    "start_time": "2022-05-06T16:22:40.501Z"
   },
   {
    "duration": 6,
    "start_time": "2022-05-06T16:23:16.139Z"
   },
   {
    "duration": 21,
    "start_time": "2022-05-06T16:23:54.205Z"
   },
   {
    "duration": 24,
    "start_time": "2022-05-06T16:30:15.686Z"
   },
   {
    "duration": 99,
    "start_time": "2022-05-06T16:30:46.073Z"
   },
   {
    "duration": 4,
    "start_time": "2022-05-06T16:31:21.602Z"
   },
   {
    "duration": 30,
    "start_time": "2022-05-06T16:31:43.432Z"
   },
   {
    "duration": 3,
    "start_time": "2022-05-06T16:31:49.897Z"
   },
   {
    "duration": 11,
    "start_time": "2022-05-06T16:32:19.186Z"
   },
   {
    "duration": 18,
    "start_time": "2022-05-06T16:32:29.961Z"
   },
   {
    "duration": 27,
    "start_time": "2022-05-06T16:32:41.712Z"
   },
   {
    "duration": 20,
    "start_time": "2022-05-06T16:33:34.555Z"
   },
   {
    "duration": 10,
    "start_time": "2022-05-06T16:33:55.498Z"
   },
   {
    "duration": 35,
    "start_time": "2022-05-06T16:35:06.455Z"
   },
   {
    "duration": 16,
    "start_time": "2022-05-06T16:36:09.699Z"
   },
   {
    "duration": 103,
    "start_time": "2022-05-06T16:37:27.964Z"
   },
   {
    "duration": 8,
    "start_time": "2022-05-06T16:38:38.116Z"
   },
   {
    "duration": 17,
    "start_time": "2022-05-06T16:38:46.582Z"
   },
   {
    "duration": 109,
    "start_time": "2022-05-06T16:39:12.285Z"
   },
   {
    "duration": 5,
    "start_time": "2022-05-06T16:47:09.851Z"
   },
   {
    "duration": 1633,
    "start_time": "2022-05-06T16:48:31.081Z"
   },
   {
    "duration": 6,
    "start_time": "2022-05-06T16:49:08.215Z"
   },
   {
    "duration": 186,
    "start_time": "2022-05-06T16:49:10.179Z"
   },
   {
    "duration": 32,
    "start_time": "2022-05-06T16:50:03.119Z"
   },
   {
    "duration": 9,
    "start_time": "2022-05-06T16:50:11.416Z"
   },
   {
    "duration": 32,
    "start_time": "2022-05-06T16:50:13.004Z"
   },
   {
    "duration": 14,
    "start_time": "2022-05-06T16:50:53.327Z"
   },
   {
    "duration": 21,
    "start_time": "2022-05-06T16:51:00.949Z"
   },
   {
    "duration": 5,
    "start_time": "2022-05-06T16:55:15.193Z"
   },
   {
    "duration": 32,
    "start_time": "2022-05-06T16:55:37.861Z"
   },
   {
    "duration": 94,
    "start_time": "2022-05-06T16:56:10.513Z"
   },
   {
    "duration": 1782,
    "start_time": "2022-05-06T16:57:21.942Z"
   },
   {
    "duration": 4,
    "start_time": "2022-05-06T16:57:52.851Z"
   },
   {
    "duration": 1317,
    "start_time": "2022-05-06T19:37:10.938Z"
   },
   {
    "duration": 432,
    "start_time": "2022-05-06T19:37:12.257Z"
   },
   {
    "duration": 13,
    "start_time": "2022-05-06T19:37:12.691Z"
   },
   {
    "duration": 11,
    "start_time": "2022-05-06T19:37:12.706Z"
   },
   {
    "duration": 7,
    "start_time": "2022-05-06T19:37:12.719Z"
   },
   {
    "duration": 18,
    "start_time": "2022-05-06T19:37:12.728Z"
   },
   {
    "duration": 21,
    "start_time": "2022-05-06T19:37:12.747Z"
   },
   {
    "duration": 22,
    "start_time": "2022-05-06T19:37:12.770Z"
   },
   {
    "duration": 9,
    "start_time": "2022-05-06T19:37:12.794Z"
   },
   {
    "duration": 26,
    "start_time": "2022-05-06T19:37:12.804Z"
   },
   {
    "duration": 31,
    "start_time": "2022-05-06T19:37:12.832Z"
   },
   {
    "duration": 34,
    "start_time": "2022-05-06T19:37:12.878Z"
   },
   {
    "duration": 213,
    "start_time": "2022-05-06T19:37:12.913Z"
   },
   {
    "duration": 115,
    "start_time": "2022-05-06T19:37:13.129Z"
   },
   {
    "duration": 5,
    "start_time": "2022-05-06T19:37:13.246Z"
   },
   {
    "duration": 9,
    "start_time": "2022-05-06T19:37:13.253Z"
   },
   {
    "duration": 24,
    "start_time": "2022-05-06T19:37:13.263Z"
   },
   {
    "duration": 22,
    "start_time": "2022-05-06T19:37:13.289Z"
   },
   {
    "duration": 19,
    "start_time": "2022-05-06T19:37:13.312Z"
   },
   {
    "duration": 66,
    "start_time": "2022-05-06T19:37:13.332Z"
   },
   {
    "duration": 9,
    "start_time": "2022-05-06T19:37:13.400Z"
   },
   {
    "duration": 10,
    "start_time": "2022-05-06T19:37:13.411Z"
   },
   {
    "duration": 26,
    "start_time": "2022-05-06T19:37:13.422Z"
   },
   {
    "duration": 42,
    "start_time": "2022-05-06T19:37:13.450Z"
   },
   {
    "duration": 208,
    "start_time": "2022-05-06T19:37:13.494Z"
   },
   {
    "duration": 2,
    "start_time": "2022-05-06T19:37:13.704Z"
   },
   {
    "duration": 19,
    "start_time": "2022-05-06T19:37:13.708Z"
   },
   {
    "duration": 21,
    "start_time": "2022-05-06T19:37:13.728Z"
   },
   {
    "duration": 63,
    "start_time": "2022-05-06T19:37:13.751Z"
   },
   {
    "duration": 12,
    "start_time": "2022-05-06T19:37:13.816Z"
   },
   {
    "duration": 13,
    "start_time": "2022-05-06T19:37:13.829Z"
   },
   {
    "duration": 50,
    "start_time": "2022-05-06T19:37:13.844Z"
   },
   {
    "duration": 7,
    "start_time": "2022-05-06T19:37:13.896Z"
   },
   {
    "duration": 45,
    "start_time": "2022-05-06T19:37:13.905Z"
   },
   {
    "duration": 7,
    "start_time": "2022-05-06T19:37:13.952Z"
   },
   {
    "duration": 32,
    "start_time": "2022-05-06T19:37:13.977Z"
   },
   {
    "duration": 6,
    "start_time": "2022-05-06T19:37:14.011Z"
   },
   {
    "duration": 22,
    "start_time": "2022-05-06T19:37:14.018Z"
   },
   {
    "duration": 37,
    "start_time": "2022-05-06T19:37:14.041Z"
   },
   {
    "duration": 4,
    "start_time": "2022-05-06T19:37:14.081Z"
   },
   {
    "duration": 8,
    "start_time": "2022-05-06T19:37:14.090Z"
   },
   {
    "duration": 19,
    "start_time": "2022-05-06T19:37:14.100Z"
   },
   {
    "duration": 13,
    "start_time": "2022-05-06T19:37:14.121Z"
   },
   {
    "duration": 43,
    "start_time": "2022-05-06T19:37:14.135Z"
   },
   {
    "duration": 23,
    "start_time": "2022-05-06T19:37:14.181Z"
   },
   {
    "duration": 5,
    "start_time": "2022-05-06T19:37:14.206Z"
   },
   {
    "duration": 122,
    "start_time": "2022-05-06T19:37:14.212Z"
   },
   {
    "duration": 5,
    "start_time": "2022-05-06T19:37:14.336Z"
   },
   {
    "duration": 27,
    "start_time": "2022-05-06T19:37:14.343Z"
   },
   {
    "duration": 27,
    "start_time": "2022-05-06T19:37:14.371Z"
   },
   {
    "duration": 6,
    "start_time": "2022-05-06T19:37:14.400Z"
   },
   {
    "duration": 103,
    "start_time": "2022-05-06T19:37:14.407Z"
   },
   {
    "duration": 0,
    "start_time": "2022-05-06T19:37:14.512Z"
   },
   {
    "duration": 0,
    "start_time": "2022-05-06T19:37:14.513Z"
   },
   {
    "duration": 0,
    "start_time": "2022-05-06T19:37:14.514Z"
   },
   {
    "duration": 0,
    "start_time": "2022-05-06T19:37:14.515Z"
   },
   {
    "duration": 0,
    "start_time": "2022-05-06T19:37:14.516Z"
   },
   {
    "duration": 0,
    "start_time": "2022-05-06T19:37:14.518Z"
   },
   {
    "duration": 0,
    "start_time": "2022-05-06T19:37:14.519Z"
   },
   {
    "duration": 0,
    "start_time": "2022-05-06T19:37:14.520Z"
   },
   {
    "duration": 0,
    "start_time": "2022-05-06T19:37:14.521Z"
   },
   {
    "duration": 0,
    "start_time": "2022-05-06T19:37:14.522Z"
   },
   {
    "duration": 0,
    "start_time": "2022-05-06T19:37:14.523Z"
   },
   {
    "duration": 0,
    "start_time": "2022-05-06T19:37:14.524Z"
   },
   {
    "duration": 0,
    "start_time": "2022-05-06T19:37:14.525Z"
   },
   {
    "duration": 0,
    "start_time": "2022-05-06T19:37:14.526Z"
   },
   {
    "duration": 0,
    "start_time": "2022-05-06T19:37:14.527Z"
   },
   {
    "duration": 0,
    "start_time": "2022-05-06T19:37:14.528Z"
   },
   {
    "duration": 0,
    "start_time": "2022-05-06T19:37:14.529Z"
   },
   {
    "duration": 0,
    "start_time": "2022-05-06T19:37:14.530Z"
   },
   {
    "duration": 0,
    "start_time": "2022-05-06T19:37:14.531Z"
   },
   {
    "duration": 0,
    "start_time": "2022-05-06T19:37:14.533Z"
   },
   {
    "duration": 0,
    "start_time": "2022-05-06T19:37:14.534Z"
   },
   {
    "duration": 0,
    "start_time": "2022-05-06T19:37:14.535Z"
   },
   {
    "duration": 0,
    "start_time": "2022-05-06T19:37:14.536Z"
   },
   {
    "duration": 0,
    "start_time": "2022-05-06T19:37:14.537Z"
   },
   {
    "duration": 6,
    "start_time": "2022-05-06T19:41:39.846Z"
   },
   {
    "duration": 1586,
    "start_time": "2022-05-06T19:41:42.041Z"
   },
   {
    "duration": 8,
    "start_time": "2022-05-06T19:41:46.762Z"
   },
   {
    "duration": 9,
    "start_time": "2022-05-06T19:41:50.062Z"
   },
   {
    "duration": 9,
    "start_time": "2022-05-06T19:42:23.415Z"
   },
   {
    "duration": 188,
    "start_time": "2022-05-06T19:42:29.625Z"
   },
   {
    "duration": 170,
    "start_time": "2022-05-06T19:43:03.918Z"
   },
   {
    "duration": 293,
    "start_time": "2022-05-06T19:43:13.987Z"
   },
   {
    "duration": 271,
    "start_time": "2022-05-06T19:43:19.674Z"
   },
   {
    "duration": 8,
    "start_time": "2022-05-06T19:43:34.834Z"
   },
   {
    "duration": 182,
    "start_time": "2022-05-06T19:43:49.686Z"
   },
   {
    "duration": 7,
    "start_time": "2022-05-06T19:51:02.997Z"
   },
   {
    "duration": 9,
    "start_time": "2022-05-06T19:51:05.089Z"
   },
   {
    "duration": 8,
    "start_time": "2022-05-06T19:51:06.686Z"
   },
   {
    "duration": 185,
    "start_time": "2022-05-06T19:51:10.523Z"
   },
   {
    "duration": 164,
    "start_time": "2022-05-06T19:51:13.000Z"
   },
   {
    "duration": 8,
    "start_time": "2022-05-06T19:51:18.885Z"
   },
   {
    "duration": 7,
    "start_time": "2022-05-06T19:52:24.286Z"
   },
   {
    "duration": 9,
    "start_time": "2022-05-06T19:52:26.651Z"
   },
   {
    "duration": 8,
    "start_time": "2022-05-06T19:52:38.185Z"
   },
   {
    "duration": 178,
    "start_time": "2022-05-06T19:52:42.071Z"
   },
   {
    "duration": 156,
    "start_time": "2022-05-06T19:52:45.139Z"
   },
   {
    "duration": 7,
    "start_time": "2022-05-06T19:52:50.548Z"
   },
   {
    "duration": 9,
    "start_time": "2022-05-06T19:56:37.145Z"
   },
   {
    "duration": 8,
    "start_time": "2022-05-06T19:57:21.382Z"
   },
   {
    "duration": 22,
    "start_time": "2022-05-06T19:58:04.997Z"
   },
   {
    "duration": 8,
    "start_time": "2022-05-06T20:01:07.050Z"
   },
   {
    "duration": 6,
    "start_time": "2022-05-06T20:01:39.095Z"
   },
   {
    "duration": 7,
    "start_time": "2022-05-06T20:01:50.716Z"
   },
   {
    "duration": 166,
    "start_time": "2022-05-06T20:02:01.521Z"
   },
   {
    "duration": 8,
    "start_time": "2022-05-06T20:02:33.387Z"
   },
   {
    "duration": 5,
    "start_time": "2022-05-06T20:02:34.963Z"
   },
   {
    "duration": 15,
    "start_time": "2022-05-06T20:03:38.378Z"
   },
   {
    "duration": 3,
    "start_time": "2022-05-06T20:04:17.430Z"
   },
   {
    "duration": 1102,
    "start_time": "2022-05-06T20:04:32.091Z"
   },
   {
    "duration": 395,
    "start_time": "2022-05-06T20:04:33.195Z"
   },
   {
    "duration": 14,
    "start_time": "2022-05-06T20:04:33.592Z"
   },
   {
    "duration": 11,
    "start_time": "2022-05-06T20:04:33.608Z"
   },
   {
    "duration": 8,
    "start_time": "2022-05-06T20:04:33.622Z"
   },
   {
    "duration": 19,
    "start_time": "2022-05-06T20:04:33.632Z"
   },
   {
    "duration": 20,
    "start_time": "2022-05-06T20:04:33.653Z"
   },
   {
    "duration": 5,
    "start_time": "2022-05-06T20:04:33.682Z"
   },
   {
    "duration": 12,
    "start_time": "2022-05-06T20:04:33.689Z"
   },
   {
    "duration": 27,
    "start_time": "2022-05-06T20:04:33.703Z"
   },
   {
    "duration": 27,
    "start_time": "2022-05-06T20:04:33.732Z"
   },
   {
    "duration": 31,
    "start_time": "2022-05-06T20:04:33.773Z"
   },
   {
    "duration": 202,
    "start_time": "2022-05-06T20:04:33.806Z"
   },
   {
    "duration": 109,
    "start_time": "2022-05-06T20:04:34.011Z"
   },
   {
    "duration": 5,
    "start_time": "2022-05-06T20:04:34.122Z"
   },
   {
    "duration": 11,
    "start_time": "2022-05-06T20:04:34.128Z"
   },
   {
    "duration": 10,
    "start_time": "2022-05-06T20:04:34.140Z"
   },
   {
    "duration": 45,
    "start_time": "2022-05-06T20:04:34.152Z"
   },
   {
    "duration": 18,
    "start_time": "2022-05-06T20:04:34.199Z"
   },
   {
    "duration": 58,
    "start_time": "2022-05-06T20:04:34.218Z"
   },
   {
    "duration": 13,
    "start_time": "2022-05-06T20:04:34.278Z"
   },
   {
    "duration": 10,
    "start_time": "2022-05-06T20:04:34.292Z"
   },
   {
    "duration": 30,
    "start_time": "2022-05-06T20:04:34.304Z"
   },
   {
    "duration": 18,
    "start_time": "2022-05-06T20:04:34.336Z"
   },
   {
    "duration": 200,
    "start_time": "2022-05-06T20:04:34.373Z"
   },
   {
    "duration": 3,
    "start_time": "2022-05-06T20:04:34.575Z"
   },
   {
    "duration": 35,
    "start_time": "2022-05-06T20:04:34.579Z"
   },
   {
    "duration": 23,
    "start_time": "2022-05-06T20:04:34.615Z"
   },
   {
    "duration": 61,
    "start_time": "2022-05-06T20:04:34.640Z"
   },
   {
    "duration": 8,
    "start_time": "2022-05-06T20:04:34.703Z"
   },
   {
    "duration": 12,
    "start_time": "2022-05-06T20:04:34.712Z"
   },
   {
    "duration": 34,
    "start_time": "2022-05-06T20:04:34.726Z"
   },
   {
    "duration": 25,
    "start_time": "2022-05-06T20:04:34.761Z"
   },
   {
    "duration": 46,
    "start_time": "2022-05-06T20:04:34.788Z"
   },
   {
    "duration": 7,
    "start_time": "2022-05-06T20:04:34.836Z"
   },
   {
    "duration": 48,
    "start_time": "2022-05-06T20:04:34.845Z"
   },
   {
    "duration": 7,
    "start_time": "2022-05-06T20:04:34.895Z"
   },
   {
    "duration": 21,
    "start_time": "2022-05-06T20:04:34.904Z"
   },
   {
    "duration": 16,
    "start_time": "2022-05-06T20:04:34.927Z"
   },
   {
    "duration": 4,
    "start_time": "2022-05-06T20:04:34.945Z"
   },
   {
    "duration": 14,
    "start_time": "2022-05-06T20:04:34.976Z"
   },
   {
    "duration": 25,
    "start_time": "2022-05-06T20:04:34.992Z"
   },
   {
    "duration": 15,
    "start_time": "2022-05-06T20:04:35.019Z"
   },
   {
    "duration": 5,
    "start_time": "2022-05-06T20:04:35.036Z"
   },
   {
    "duration": 46,
    "start_time": "2022-05-06T20:04:35.043Z"
   },
   {
    "duration": 4,
    "start_time": "2022-05-06T20:04:35.091Z"
   },
   {
    "duration": 115,
    "start_time": "2022-05-06T20:04:35.097Z"
   },
   {
    "duration": 6,
    "start_time": "2022-05-06T20:04:35.213Z"
   },
   {
    "duration": 25,
    "start_time": "2022-05-06T20:04:35.221Z"
   },
   {
    "duration": 10,
    "start_time": "2022-05-06T20:04:35.248Z"
   },
   {
    "duration": 18,
    "start_time": "2022-05-06T20:04:35.259Z"
   },
   {
    "duration": 20,
    "start_time": "2022-05-06T20:04:35.281Z"
   },
   {
    "duration": 11,
    "start_time": "2022-05-06T20:04:35.303Z"
   },
   {
    "duration": 7,
    "start_time": "2022-05-06T20:04:35.315Z"
   },
   {
    "duration": 207,
    "start_time": "2022-05-06T20:04:35.324Z"
   },
   {
    "duration": 203,
    "start_time": "2022-05-06T20:04:35.534Z"
   },
   {
    "duration": 7,
    "start_time": "2022-05-06T20:04:35.739Z"
   },
   {
    "duration": 14,
    "start_time": "2022-05-06T20:04:35.747Z"
   },
   {
    "duration": 23,
    "start_time": "2022-05-06T20:04:35.763Z"
   },
   {
    "duration": 11,
    "start_time": "2022-05-06T20:04:35.788Z"
   },
   {
    "duration": 209,
    "start_time": "2022-05-06T20:04:35.800Z"
   },
   {
    "duration": 193,
    "start_time": "2022-05-06T20:04:36.010Z"
   },
   {
    "duration": 7,
    "start_time": "2022-05-06T20:04:36.205Z"
   },
   {
    "duration": 8,
    "start_time": "2022-05-06T20:04:36.214Z"
   },
   {
    "duration": 10,
    "start_time": "2022-05-06T20:04:36.223Z"
   },
   {
    "duration": 8,
    "start_time": "2022-05-06T20:04:36.235Z"
   },
   {
    "duration": 291,
    "start_time": "2022-05-06T20:04:36.244Z"
   },
   {
    "duration": 170,
    "start_time": "2022-05-06T20:04:36.537Z"
   },
   {
    "duration": 8,
    "start_time": "2022-05-06T20:04:36.708Z"
   },
   {
    "duration": 9,
    "start_time": "2022-05-06T20:04:36.718Z"
   },
   {
    "duration": 12,
    "start_time": "2022-05-06T20:04:36.729Z"
   },
   {
    "duration": 6,
    "start_time": "2022-05-06T20:04:36.743Z"
   },
   {
    "duration": 117,
    "start_time": "2022-05-06T20:04:36.751Z"
   },
   {
    "duration": 0,
    "start_time": "2022-05-06T20:04:36.874Z"
   },
   {
    "duration": 0,
    "start_time": "2022-05-06T20:04:36.878Z"
   },
   {
    "duration": 0,
    "start_time": "2022-05-06T20:04:36.879Z"
   },
   {
    "duration": 6,
    "start_time": "2022-05-06T20:04:54.535Z"
   },
   {
    "duration": 4,
    "start_time": "2022-05-06T20:05:01.528Z"
   },
   {
    "duration": 4,
    "start_time": "2022-05-06T20:05:13.218Z"
   },
   {
    "duration": 9,
    "start_time": "2022-05-06T20:05:49.940Z"
   },
   {
    "duration": 22,
    "start_time": "2022-05-06T20:06:11.610Z"
   },
   {
    "duration": 8,
    "start_time": "2022-05-06T20:06:35.469Z"
   },
   {
    "duration": 4,
    "start_time": "2022-05-06T20:06:48.063Z"
   },
   {
    "duration": 1151,
    "start_time": "2022-05-06T20:10:24.284Z"
   },
   {
    "duration": 419,
    "start_time": "2022-05-06T20:10:25.437Z"
   },
   {
    "duration": 14,
    "start_time": "2022-05-06T20:10:25.858Z"
   },
   {
    "duration": 20,
    "start_time": "2022-05-06T20:10:25.874Z"
   },
   {
    "duration": 6,
    "start_time": "2022-05-06T20:10:25.896Z"
   },
   {
    "duration": 18,
    "start_time": "2022-05-06T20:10:25.904Z"
   },
   {
    "duration": 6,
    "start_time": "2022-05-06T20:10:25.924Z"
   },
   {
    "duration": 7,
    "start_time": "2022-05-06T20:10:25.932Z"
   },
   {
    "duration": 11,
    "start_time": "2022-05-06T20:10:25.941Z"
   },
   {
    "duration": 33,
    "start_time": "2022-05-06T20:10:25.974Z"
   },
   {
    "duration": 34,
    "start_time": "2022-05-06T20:10:26.009Z"
   },
   {
    "duration": 51,
    "start_time": "2022-05-06T20:10:26.045Z"
   },
   {
    "duration": 223,
    "start_time": "2022-05-06T20:10:26.098Z"
   },
   {
    "duration": 120,
    "start_time": "2022-05-06T20:10:26.325Z"
   },
   {
    "duration": 5,
    "start_time": "2022-05-06T20:10:26.447Z"
   },
   {
    "duration": 11,
    "start_time": "2022-05-06T20:10:26.453Z"
   },
   {
    "duration": 8,
    "start_time": "2022-05-06T20:10:26.473Z"
   },
   {
    "duration": 23,
    "start_time": "2022-05-06T20:10:26.485Z"
   },
   {
    "duration": 21,
    "start_time": "2022-05-06T20:10:26.510Z"
   },
   {
    "duration": 71,
    "start_time": "2022-05-06T20:10:26.533Z"
   },
   {
    "duration": 9,
    "start_time": "2022-05-06T20:10:26.606Z"
   },
   {
    "duration": 8,
    "start_time": "2022-05-06T20:10:26.617Z"
   },
   {
    "duration": 27,
    "start_time": "2022-05-06T20:10:26.627Z"
   },
   {
    "duration": 37,
    "start_time": "2022-05-06T20:10:26.655Z"
   },
   {
    "duration": 207,
    "start_time": "2022-05-06T20:10:26.693Z"
   },
   {
    "duration": 3,
    "start_time": "2022-05-06T20:10:26.901Z"
   },
   {
    "duration": 20,
    "start_time": "2022-05-06T20:10:26.906Z"
   },
   {
    "duration": 50,
    "start_time": "2022-05-06T20:10:26.928Z"
   },
   {
    "duration": 45,
    "start_time": "2022-05-06T20:10:26.980Z"
   },
   {
    "duration": 8,
    "start_time": "2022-05-06T20:10:27.026Z"
   },
   {
    "duration": 12,
    "start_time": "2022-05-06T20:10:27.036Z"
   },
   {
    "duration": 56,
    "start_time": "2022-05-06T20:10:27.050Z"
   },
   {
    "duration": 7,
    "start_time": "2022-05-06T20:10:27.108Z"
   },
   {
    "duration": 64,
    "start_time": "2022-05-06T20:10:27.117Z"
   },
   {
    "duration": 8,
    "start_time": "2022-05-06T20:10:27.184Z"
   },
   {
    "duration": 29,
    "start_time": "2022-05-06T20:10:27.193Z"
   },
   {
    "duration": 7,
    "start_time": "2022-05-06T20:10:27.223Z"
   },
   {
    "duration": 23,
    "start_time": "2022-05-06T20:10:27.231Z"
   },
   {
    "duration": 39,
    "start_time": "2022-05-06T20:10:27.256Z"
   },
   {
    "duration": 3,
    "start_time": "2022-05-06T20:10:27.298Z"
   },
   {
    "duration": 8,
    "start_time": "2022-05-06T20:10:27.305Z"
   },
   {
    "duration": 18,
    "start_time": "2022-05-06T20:10:27.315Z"
   },
   {
    "duration": 13,
    "start_time": "2022-05-06T20:10:27.335Z"
   },
   {
    "duration": 13,
    "start_time": "2022-05-06T20:10:27.376Z"
   },
   {
    "duration": 19,
    "start_time": "2022-05-06T20:10:27.391Z"
   },
   {
    "duration": 5,
    "start_time": "2022-05-06T20:10:27.411Z"
   },
   {
    "duration": 120,
    "start_time": "2022-05-06T20:10:27.417Z"
   },
   {
    "duration": 6,
    "start_time": "2022-05-06T20:10:27.538Z"
   },
   {
    "duration": 29,
    "start_time": "2022-05-06T20:10:27.545Z"
   },
   {
    "duration": 17,
    "start_time": "2022-05-06T20:10:27.576Z"
   },
   {
    "duration": 5,
    "start_time": "2022-05-06T20:10:27.595Z"
   },
   {
    "duration": 9,
    "start_time": "2022-05-06T20:10:27.602Z"
   },
   {
    "duration": 8,
    "start_time": "2022-05-06T20:10:27.612Z"
   },
   {
    "duration": 11,
    "start_time": "2022-05-06T20:10:27.621Z"
   },
   {
    "duration": 209,
    "start_time": "2022-05-06T20:10:27.633Z"
   },
   {
    "duration": 190,
    "start_time": "2022-05-06T20:10:27.844Z"
   },
   {
    "duration": 7,
    "start_time": "2022-05-06T20:10:28.036Z"
   },
   {
    "duration": 10,
    "start_time": "2022-05-06T20:10:28.045Z"
   },
   {
    "duration": 29,
    "start_time": "2022-05-06T20:10:28.057Z"
   },
   {
    "duration": 9,
    "start_time": "2022-05-06T20:10:28.088Z"
   },
   {
    "duration": 199,
    "start_time": "2022-05-06T20:10:28.099Z"
   },
   {
    "duration": 185,
    "start_time": "2022-05-06T20:10:28.300Z"
   },
   {
    "duration": 8,
    "start_time": "2022-05-06T20:10:28.486Z"
   },
   {
    "duration": 8,
    "start_time": "2022-05-06T20:10:28.496Z"
   },
   {
    "duration": 9,
    "start_time": "2022-05-06T20:10:28.506Z"
   },
   {
    "duration": 7,
    "start_time": "2022-05-06T20:10:28.516Z"
   },
   {
    "duration": 390,
    "start_time": "2022-05-06T20:10:28.525Z"
   },
   {
    "duration": 212,
    "start_time": "2022-05-06T20:10:28.917Z"
   },
   {
    "duration": 8,
    "start_time": "2022-05-06T20:10:29.131Z"
   },
   {
    "duration": 6,
    "start_time": "2022-05-06T20:10:29.141Z"
   },
   {
    "duration": 36,
    "start_time": "2022-05-06T20:10:29.148Z"
   },
   {
    "duration": 5,
    "start_time": "2022-05-06T20:10:29.187Z"
   },
   {
    "duration": 8,
    "start_time": "2022-05-06T20:10:29.194Z"
   },
   {
    "duration": 5,
    "start_time": "2022-05-06T20:10:29.204Z"
   },
   {
    "duration": 102,
    "start_time": "2022-05-06T20:12:59.196Z"
   },
   {
    "duration": 108,
    "start_time": "2022-05-06T20:20:56.650Z"
   },
   {
    "duration": 12,
    "start_time": "2022-05-06T20:24:12.823Z"
   },
   {
    "duration": 11,
    "start_time": "2022-05-06T20:24:18.691Z"
   },
   {
    "duration": 19,
    "start_time": "2022-05-06T20:24:39.641Z"
   },
   {
    "duration": 18,
    "start_time": "2022-05-06T20:24:51.587Z"
   },
   {
    "duration": 21,
    "start_time": "2022-05-06T20:25:00.408Z"
   },
   {
    "duration": 23,
    "start_time": "2022-05-06T20:25:18.733Z"
   },
   {
    "duration": 91,
    "start_time": "2022-05-06T20:26:47.763Z"
   },
   {
    "duration": 25,
    "start_time": "2022-05-06T20:26:57.681Z"
   },
   {
    "duration": 25,
    "start_time": "2022-05-06T20:27:31.691Z"
   },
   {
    "duration": 28,
    "start_time": "2022-05-06T20:27:45.206Z"
   },
   {
    "duration": 27,
    "start_time": "2022-05-06T20:28:23.688Z"
   },
   {
    "duration": 29,
    "start_time": "2022-05-06T20:28:32.918Z"
   },
   {
    "duration": 3,
    "start_time": "2022-05-06T20:28:59.830Z"
   },
   {
    "duration": 4,
    "start_time": "2022-05-06T20:29:08.609Z"
   },
   {
    "duration": 22,
    "start_time": "2022-05-06T20:29:31.765Z"
   },
   {
    "duration": 134,
    "start_time": "2022-05-06T20:30:46.129Z"
   },
   {
    "duration": 8,
    "start_time": "2022-05-06T20:30:50.308Z"
   },
   {
    "duration": 155,
    "start_time": "2022-05-06T20:30:58.601Z"
   },
   {
    "duration": 103,
    "start_time": "2022-05-06T20:31:05.283Z"
   },
   {
    "duration": 155,
    "start_time": "2022-05-06T20:31:07.679Z"
   },
   {
    "duration": 131,
    "start_time": "2022-05-06T20:31:55.606Z"
   },
   {
    "duration": 59,
    "start_time": "2022-05-06T20:33:24.171Z"
   },
   {
    "duration": 14,
    "start_time": "2022-05-06T20:33:36.268Z"
   },
   {
    "duration": 236,
    "start_time": "2022-05-06T20:34:06.751Z"
   },
   {
    "duration": 72,
    "start_time": "2022-05-06T20:34:39.255Z"
   },
   {
    "duration": 8,
    "start_time": "2022-05-06T20:35:36.470Z"
   },
   {
    "duration": 32,
    "start_time": "2022-05-06T20:35:38.439Z"
   },
   {
    "duration": 1102,
    "start_time": "2022-05-06T20:36:08.525Z"
   },
   {
    "duration": 393,
    "start_time": "2022-05-06T20:36:09.629Z"
   },
   {
    "duration": 4,
    "start_time": "2022-05-06T20:36:10.024Z"
   },
   {
    "duration": 34,
    "start_time": "2022-05-06T20:36:10.029Z"
   },
   {
    "duration": 12,
    "start_time": "2022-05-06T20:36:10.065Z"
   },
   {
    "duration": 7,
    "start_time": "2022-05-06T20:36:10.079Z"
   },
   {
    "duration": 7,
    "start_time": "2022-05-06T20:36:10.088Z"
   },
   {
    "duration": 160,
    "start_time": "2022-05-06T20:36:10.096Z"
   },
   {
    "duration": 171,
    "start_time": "2022-05-06T20:36:10.258Z"
   },
   {
    "duration": 9,
    "start_time": "2022-05-06T20:36:10.431Z"
   },
   {
    "duration": 40,
    "start_time": "2022-05-06T20:36:10.442Z"
   },
   {
    "duration": 168,
    "start_time": "2022-05-06T20:36:10.484Z"
   },
   {
    "duration": 5,
    "start_time": "2022-05-06T20:36:10.654Z"
   },
   {
    "duration": 75,
    "start_time": "2022-05-06T20:36:10.672Z"
   },
   {
    "duration": 8,
    "start_time": "2022-05-06T20:36:10.748Z"
   },
   {
    "duration": 18,
    "start_time": "2022-05-06T20:36:10.774Z"
   },
   {
    "duration": 131,
    "start_time": "2022-05-06T20:36:10.794Z"
   },
   {
    "duration": 9,
    "start_time": "2022-05-06T20:36:10.927Z"
   },
   {
    "duration": 13,
    "start_time": "2022-05-06T20:36:10.938Z"
   },
   {
    "duration": 41,
    "start_time": "2022-05-06T20:36:10.953Z"
   },
   {
    "duration": 188,
    "start_time": "2022-05-06T20:36:10.996Z"
   },
   {
    "duration": 2,
    "start_time": "2022-05-06T20:36:11.186Z"
   },
   {
    "duration": 31,
    "start_time": "2022-05-06T20:36:11.190Z"
   },
   {
    "duration": 8,
    "start_time": "2022-05-06T20:36:11.222Z"
   },
   {
    "duration": 52,
    "start_time": "2022-05-06T20:36:11.231Z"
   },
   {
    "duration": 7,
    "start_time": "2022-05-06T20:36:11.285Z"
   },
   {
    "duration": 51,
    "start_time": "2022-05-06T20:36:11.294Z"
   },
   {
    "duration": 7,
    "start_time": "2022-05-06T20:36:11.346Z"
   },
   {
    "duration": 46,
    "start_time": "2022-05-06T20:36:11.354Z"
   },
   {
    "duration": 14,
    "start_time": "2022-05-06T20:36:11.402Z"
   },
   {
    "duration": 21,
    "start_time": "2022-05-06T20:36:11.417Z"
   },
   {
    "duration": 15,
    "start_time": "2022-05-06T20:36:11.440Z"
   },
   {
    "duration": 4,
    "start_time": "2022-05-06T20:36:11.472Z"
   },
   {
    "duration": 12,
    "start_time": "2022-05-06T20:36:11.477Z"
   },
   {
    "duration": 20,
    "start_time": "2022-05-06T20:36:11.491Z"
   },
   {
    "duration": 16,
    "start_time": "2022-05-06T20:36:11.513Z"
   },
   {
    "duration": 5,
    "start_time": "2022-05-06T20:36:11.531Z"
   },
   {
    "duration": 37,
    "start_time": "2022-05-06T20:36:11.537Z"
   },
   {
    "duration": 4,
    "start_time": "2022-05-06T20:36:11.576Z"
   },
   {
    "duration": 115,
    "start_time": "2022-05-06T20:36:11.582Z"
   },
   {
    "duration": 5,
    "start_time": "2022-05-06T20:36:11.701Z"
   },
   {
    "duration": 28,
    "start_time": "2022-05-06T20:36:11.708Z"
   },
   {
    "duration": 9,
    "start_time": "2022-05-06T20:36:11.738Z"
   },
   {
    "duration": 7,
    "start_time": "2022-05-06T20:36:11.748Z"
   },
   {
    "duration": 23,
    "start_time": "2022-05-06T20:36:11.756Z"
   },
   {
    "duration": 8,
    "start_time": "2022-05-06T20:36:11.781Z"
   },
   {
    "duration": 191,
    "start_time": "2022-05-06T20:36:11.791Z"
   },
   {
    "duration": 179,
    "start_time": "2022-05-06T20:36:11.984Z"
   },
   {
    "duration": 13,
    "start_time": "2022-05-06T20:36:12.164Z"
   },
   {
    "duration": 8,
    "start_time": "2022-05-06T20:36:12.179Z"
   },
   {
    "duration": 9,
    "start_time": "2022-05-06T20:36:12.188Z"
   },
   {
    "duration": 6,
    "start_time": "2022-05-06T20:36:12.199Z"
   },
   {
    "duration": 197,
    "start_time": "2022-05-06T20:36:12.207Z"
   },
   {
    "duration": 253,
    "start_time": "2022-05-06T20:36:12.406Z"
   },
   {
    "duration": 14,
    "start_time": "2022-05-06T20:36:12.660Z"
   },
   {
    "duration": 6,
    "start_time": "2022-05-06T20:36:12.675Z"
   },
   {
    "duration": 9,
    "start_time": "2022-05-06T20:36:12.683Z"
   },
   {
    "duration": 11,
    "start_time": "2022-05-06T20:36:12.694Z"
   },
   {
    "duration": 189,
    "start_time": "2022-05-06T20:36:12.707Z"
   },
   {
    "duration": 154,
    "start_time": "2022-05-06T20:36:12.897Z"
   },
   {
    "duration": 7,
    "start_time": "2022-05-06T20:36:13.053Z"
   },
   {
    "duration": 4,
    "start_time": "2022-05-06T20:36:13.072Z"
   },
   {
    "duration": 12,
    "start_time": "2022-05-06T20:36:13.078Z"
   },
   {
    "duration": 9,
    "start_time": "2022-05-06T20:36:13.092Z"
   },
   {
    "duration": 10,
    "start_time": "2022-05-06T20:36:13.102Z"
   },
   {
    "duration": 4,
    "start_time": "2022-05-06T20:36:13.113Z"
   },
   {
    "duration": 1118,
    "start_time": "2022-05-06T20:38:01.022Z"
   },
   {
    "duration": 405,
    "start_time": "2022-05-06T20:38:02.142Z"
   },
   {
    "duration": 4,
    "start_time": "2022-05-06T20:38:02.549Z"
   },
   {
    "duration": 45,
    "start_time": "2022-05-06T20:38:02.554Z"
   },
   {
    "duration": 24,
    "start_time": "2022-05-06T20:38:02.601Z"
   },
   {
    "duration": 9,
    "start_time": "2022-05-06T20:38:02.627Z"
   },
   {
    "duration": 13,
    "start_time": "2022-05-06T20:38:02.638Z"
   },
   {
    "duration": 155,
    "start_time": "2022-05-06T20:38:02.653Z"
   },
   {
    "duration": 157,
    "start_time": "2022-05-06T20:38:02.810Z"
   },
   {
    "duration": 9,
    "start_time": "2022-05-06T20:38:02.973Z"
   },
   {
    "duration": 31,
    "start_time": "2022-05-06T20:38:02.983Z"
   },
   {
    "duration": 175,
    "start_time": "2022-05-06T20:38:03.016Z"
   },
   {
    "duration": 6,
    "start_time": "2022-05-06T20:38:03.193Z"
   },
   {
    "duration": 85,
    "start_time": "2022-05-06T20:38:03.203Z"
   },
   {
    "duration": 8,
    "start_time": "2022-05-06T20:38:03.290Z"
   },
   {
    "duration": 29,
    "start_time": "2022-05-06T20:38:03.300Z"
   },
   {
    "duration": 126,
    "start_time": "2022-05-06T20:38:03.330Z"
   },
   {
    "duration": 18,
    "start_time": "2022-05-06T20:38:03.458Z"
   },
   {
    "duration": 14,
    "start_time": "2022-05-06T20:38:03.478Z"
   },
   {
    "duration": 37,
    "start_time": "2022-05-06T20:38:03.494Z"
   },
   {
    "duration": 182,
    "start_time": "2022-05-06T20:38:03.533Z"
   },
   {
    "duration": 3,
    "start_time": "2022-05-06T20:38:03.717Z"
   },
   {
    "duration": 31,
    "start_time": "2022-05-06T20:38:03.721Z"
   },
   {
    "duration": 23,
    "start_time": "2022-05-06T20:38:03.753Z"
   },
   {
    "duration": 40,
    "start_time": "2022-05-06T20:38:03.777Z"
   },
   {
    "duration": 7,
    "start_time": "2022-05-06T20:38:03.819Z"
   },
   {
    "duration": 64,
    "start_time": "2022-05-06T20:38:03.827Z"
   },
   {
    "duration": 7,
    "start_time": "2022-05-06T20:38:03.893Z"
   },
   {
    "duration": 40,
    "start_time": "2022-05-06T20:38:03.901Z"
   },
   {
    "duration": 7,
    "start_time": "2022-05-06T20:38:03.942Z"
   },
   {
    "duration": 38,
    "start_time": "2022-05-06T20:38:03.950Z"
   },
   {
    "duration": 18,
    "start_time": "2022-05-06T20:38:03.989Z"
   },
   {
    "duration": 13,
    "start_time": "2022-05-06T20:38:04.008Z"
   },
   {
    "duration": 25,
    "start_time": "2022-05-06T20:38:04.023Z"
   },
   {
    "duration": 33,
    "start_time": "2022-05-06T20:38:04.050Z"
   },
   {
    "duration": 15,
    "start_time": "2022-05-06T20:38:04.084Z"
   },
   {
    "duration": 25,
    "start_time": "2022-05-06T20:38:04.101Z"
   },
   {
    "duration": 41,
    "start_time": "2022-05-06T20:38:04.127Z"
   },
   {
    "duration": 26,
    "start_time": "2022-05-06T20:38:04.169Z"
   },
   {
    "duration": 143,
    "start_time": "2022-05-06T20:38:04.197Z"
   },
   {
    "duration": 5,
    "start_time": "2022-05-06T20:38:04.344Z"
   },
   {
    "duration": 60,
    "start_time": "2022-05-06T20:38:04.351Z"
   },
   {
    "duration": 32,
    "start_time": "2022-05-06T20:38:04.412Z"
   },
   {
    "duration": 47,
    "start_time": "2022-05-06T20:38:04.446Z"
   },
   {
    "duration": 39,
    "start_time": "2022-05-06T20:38:04.495Z"
   },
   {
    "duration": 23,
    "start_time": "2022-05-06T20:38:04.535Z"
   },
   {
    "duration": 206,
    "start_time": "2022-05-06T20:38:04.559Z"
   },
   {
    "duration": 180,
    "start_time": "2022-05-06T20:38:04.766Z"
   },
   {
    "duration": 8,
    "start_time": "2022-05-06T20:38:04.947Z"
   },
   {
    "duration": 19,
    "start_time": "2022-05-06T20:38:04.956Z"
   },
   {
    "duration": 8,
    "start_time": "2022-05-06T20:38:04.977Z"
   },
   {
    "duration": 8,
    "start_time": "2022-05-06T20:38:04.986Z"
   },
   {
    "duration": 228,
    "start_time": "2022-05-06T20:38:04.995Z"
   },
   {
    "duration": 275,
    "start_time": "2022-05-06T20:38:05.225Z"
   },
   {
    "duration": 7,
    "start_time": "2022-05-06T20:38:05.502Z"
   },
   {
    "duration": 10,
    "start_time": "2022-05-06T20:38:05.511Z"
   },
   {
    "duration": 10,
    "start_time": "2022-05-06T20:38:05.523Z"
   },
   {
    "duration": 7,
    "start_time": "2022-05-06T20:38:05.535Z"
   },
   {
    "duration": 197,
    "start_time": "2022-05-06T20:38:05.543Z"
   },
   {
    "duration": 183,
    "start_time": "2022-05-06T20:38:05.742Z"
   },
   {
    "duration": 8,
    "start_time": "2022-05-06T20:38:05.926Z"
   },
   {
    "duration": 10,
    "start_time": "2022-05-06T20:38:05.936Z"
   },
   {
    "duration": 17,
    "start_time": "2022-05-06T20:38:05.947Z"
   },
   {
    "duration": 8,
    "start_time": "2022-05-06T20:38:05.966Z"
   },
   {
    "duration": 6,
    "start_time": "2022-05-06T20:38:05.976Z"
   },
   {
    "duration": 12,
    "start_time": "2022-05-06T20:38:05.984Z"
   },
   {
    "duration": 107,
    "start_time": "2022-05-06T20:47:38.891Z"
   },
   {
    "duration": 118,
    "start_time": "2022-05-06T20:47:46.504Z"
   },
   {
    "duration": 4,
    "start_time": "2022-05-06T20:48:14.231Z"
   },
   {
    "duration": 90,
    "start_time": "2022-05-06T20:48:24.890Z"
   },
   {
    "duration": 121,
    "start_time": "2022-05-06T20:48:47.312Z"
   },
   {
    "duration": 196,
    "start_time": "2022-05-06T20:48:59.498Z"
   },
   {
    "duration": 174,
    "start_time": "2022-05-06T20:49:16.701Z"
   },
   {
    "duration": 173,
    "start_time": "2022-05-06T20:49:22.984Z"
   },
   {
    "duration": 4,
    "start_time": "2022-05-06T21:51:41.585Z"
   },
   {
    "duration": 172,
    "start_time": "2022-05-06T21:55:35.614Z"
   },
   {
    "duration": 6,
    "start_time": "2022-05-06T21:58:04.806Z"
   },
   {
    "duration": 170,
    "start_time": "2022-05-06T21:58:30.263Z"
   },
   {
    "duration": 5,
    "start_time": "2022-05-06T21:59:16.619Z"
   },
   {
    "duration": 6,
    "start_time": "2022-05-06T22:00:42.297Z"
   },
   {
    "duration": 4,
    "start_time": "2022-05-06T22:00:51.243Z"
   },
   {
    "duration": 4,
    "start_time": "2022-05-06T22:06:02.013Z"
   },
   {
    "duration": 10,
    "start_time": "2022-05-06T22:06:06.668Z"
   },
   {
    "duration": 4,
    "start_time": "2022-05-06T22:06:24.975Z"
   },
   {
    "duration": 266,
    "start_time": "2022-05-06T22:07:42.105Z"
   },
   {
    "duration": 6,
    "start_time": "2022-05-06T22:08:46.805Z"
   },
   {
    "duration": 4,
    "start_time": "2022-05-06T22:08:49.116Z"
   },
   {
    "duration": 8,
    "start_time": "2022-05-06T22:09:02.834Z"
   },
   {
    "duration": 8,
    "start_time": "2022-05-06T22:09:17.487Z"
   },
   {
    "duration": 4,
    "start_time": "2022-05-06T22:09:18.871Z"
   },
   {
    "duration": 1163,
    "start_time": "2022-05-06T22:09:51.368Z"
   },
   {
    "duration": 383,
    "start_time": "2022-05-06T22:09:52.532Z"
   },
   {
    "duration": 4,
    "start_time": "2022-05-06T22:09:52.917Z"
   },
   {
    "duration": 24,
    "start_time": "2022-05-06T22:09:52.923Z"
   },
   {
    "duration": 12,
    "start_time": "2022-05-06T22:09:52.950Z"
   },
   {
    "duration": 5,
    "start_time": "2022-05-06T22:09:52.972Z"
   },
   {
    "duration": 12,
    "start_time": "2022-05-06T22:09:52.979Z"
   },
   {
    "duration": 162,
    "start_time": "2022-05-06T22:09:52.993Z"
   },
   {
    "duration": 174,
    "start_time": "2022-05-06T22:09:53.157Z"
   },
   {
    "duration": 8,
    "start_time": "2022-05-06T22:09:53.333Z"
   },
   {
    "duration": 45,
    "start_time": "2022-05-06T22:09:53.343Z"
   },
   {
    "duration": 165,
    "start_time": "2022-05-06T22:09:53.390Z"
   },
   {
    "duration": 4,
    "start_time": "2022-05-06T22:09:53.557Z"
   },
   {
    "duration": 76,
    "start_time": "2022-05-06T22:09:53.573Z"
   },
   {
    "duration": 7,
    "start_time": "2022-05-06T22:09:53.651Z"
   },
   {
    "duration": 26,
    "start_time": "2022-05-06T22:09:53.659Z"
   },
   {
    "duration": 124,
    "start_time": "2022-05-06T22:09:53.687Z"
   },
   {
    "duration": 8,
    "start_time": "2022-05-06T22:09:53.813Z"
   },
   {
    "duration": 12,
    "start_time": "2022-05-06T22:09:53.823Z"
   },
   {
    "duration": 44,
    "start_time": "2022-05-06T22:09:53.836Z"
   },
   {
    "duration": 187,
    "start_time": "2022-05-06T22:09:53.881Z"
   },
   {
    "duration": 2,
    "start_time": "2022-05-06T22:09:54.072Z"
   },
   {
    "duration": 35,
    "start_time": "2022-05-06T22:09:54.076Z"
   },
   {
    "duration": 7,
    "start_time": "2022-05-06T22:09:54.113Z"
   },
   {
    "duration": 33,
    "start_time": "2022-05-06T22:09:54.121Z"
   },
   {
    "duration": 22,
    "start_time": "2022-05-06T22:09:54.156Z"
   },
   {
    "duration": 50,
    "start_time": "2022-05-06T22:09:54.179Z"
   },
   {
    "duration": 6,
    "start_time": "2022-05-06T22:09:54.231Z"
   },
   {
    "duration": 44,
    "start_time": "2022-05-06T22:09:54.239Z"
   },
   {
    "duration": 6,
    "start_time": "2022-05-06T22:09:54.285Z"
   },
   {
    "duration": 21,
    "start_time": "2022-05-06T22:09:54.293Z"
   },
   {
    "duration": 14,
    "start_time": "2022-05-06T22:09:54.316Z"
   },
   {
    "duration": 5,
    "start_time": "2022-05-06T22:09:54.332Z"
   },
   {
    "duration": 11,
    "start_time": "2022-05-06T22:09:54.338Z"
   },
   {
    "duration": 37,
    "start_time": "2022-05-06T22:09:54.350Z"
   },
   {
    "duration": 12,
    "start_time": "2022-05-06T22:09:54.389Z"
   },
   {
    "duration": 5,
    "start_time": "2022-05-06T22:09:54.402Z"
   },
   {
    "duration": 14,
    "start_time": "2022-05-06T22:09:54.409Z"
   },
   {
    "duration": 4,
    "start_time": "2022-05-06T22:09:54.425Z"
   },
   {
    "duration": 127,
    "start_time": "2022-05-06T22:09:54.430Z"
   },
   {
    "duration": 12,
    "start_time": "2022-05-06T22:09:54.561Z"
   },
   {
    "duration": 22,
    "start_time": "2022-05-06T22:09:54.575Z"
   },
   {
    "duration": 13,
    "start_time": "2022-05-06T22:09:54.598Z"
   },
   {
    "duration": 9,
    "start_time": "2022-05-06T22:09:54.613Z"
   },
   {
    "duration": 7,
    "start_time": "2022-05-06T22:09:54.624Z"
   },
   {
    "duration": 7,
    "start_time": "2022-05-06T22:09:54.633Z"
   },
   {
    "duration": 195,
    "start_time": "2022-05-06T22:09:54.642Z"
   },
   {
    "duration": 173,
    "start_time": "2022-05-06T22:09:54.838Z"
   },
   {
    "duration": 8,
    "start_time": "2022-05-06T22:09:55.013Z"
   },
   {
    "duration": 9,
    "start_time": "2022-05-06T22:09:55.022Z"
   },
   {
    "duration": 11,
    "start_time": "2022-05-06T22:09:55.033Z"
   },
   {
    "duration": 8,
    "start_time": "2022-05-06T22:09:55.045Z"
   },
   {
    "duration": 196,
    "start_time": "2022-05-06T22:09:55.073Z"
   },
   {
    "duration": 269,
    "start_time": "2022-05-06T22:09:55.272Z"
   },
   {
    "duration": 7,
    "start_time": "2022-05-06T22:09:55.543Z"
   },
   {
    "duration": 22,
    "start_time": "2022-05-06T22:09:55.552Z"
   },
   {
    "duration": 13,
    "start_time": "2022-05-06T22:09:55.576Z"
   },
   {
    "duration": 8,
    "start_time": "2022-05-06T22:09:55.590Z"
   },
   {
    "duration": 193,
    "start_time": "2022-05-06T22:09:55.600Z"
   },
   {
    "duration": 161,
    "start_time": "2022-05-06T22:09:55.795Z"
   },
   {
    "duration": 8,
    "start_time": "2022-05-06T22:09:55.957Z"
   },
   {
    "duration": 5,
    "start_time": "2022-05-06T22:09:55.973Z"
   },
   {
    "duration": 5,
    "start_time": "2022-05-06T22:09:55.980Z"
   },
   {
    "duration": 9,
    "start_time": "2022-05-06T22:09:55.986Z"
   },
   {
    "duration": 6,
    "start_time": "2022-05-06T22:09:55.996Z"
   },
   {
    "duration": 17,
    "start_time": "2022-05-06T22:09:56.004Z"
   },
   {
    "duration": 6,
    "start_time": "2022-05-06T22:09:56.023Z"
   },
   {
    "duration": 1180,
    "start_time": "2022-05-06T22:11:31.257Z"
   },
   {
    "duration": 374,
    "start_time": "2022-05-06T22:11:32.439Z"
   },
   {
    "duration": 4,
    "start_time": "2022-05-06T22:11:32.814Z"
   },
   {
    "duration": 27,
    "start_time": "2022-05-06T22:11:32.820Z"
   },
   {
    "duration": 12,
    "start_time": "2022-05-06T22:11:32.849Z"
   },
   {
    "duration": 5,
    "start_time": "2022-05-06T22:11:32.862Z"
   },
   {
    "duration": 4,
    "start_time": "2022-05-06T22:11:32.874Z"
   },
   {
    "duration": 149,
    "start_time": "2022-05-06T22:11:32.879Z"
   },
   {
    "duration": 162,
    "start_time": "2022-05-06T22:11:33.030Z"
   },
   {
    "duration": 8,
    "start_time": "2022-05-06T22:11:33.195Z"
   },
   {
    "duration": 34,
    "start_time": "2022-05-06T22:11:33.204Z"
   },
   {
    "duration": 179,
    "start_time": "2022-05-06T22:11:33.239Z"
   },
   {
    "duration": 5,
    "start_time": "2022-05-06T22:11:33.419Z"
   },
   {
    "duration": 92,
    "start_time": "2022-05-06T22:11:33.426Z"
   },
   {
    "duration": 8,
    "start_time": "2022-05-06T22:11:33.520Z"
   },
   {
    "duration": 25,
    "start_time": "2022-05-06T22:11:33.529Z"
   },
   {
    "duration": 130,
    "start_time": "2022-05-06T22:11:33.555Z"
   },
   {
    "duration": 8,
    "start_time": "2022-05-06T22:11:33.687Z"
   },
   {
    "duration": 12,
    "start_time": "2022-05-06T22:11:33.696Z"
   },
   {
    "duration": 29,
    "start_time": "2022-05-06T22:11:33.709Z"
   },
   {
    "duration": 196,
    "start_time": "2022-05-06T22:11:33.740Z"
   },
   {
    "duration": 2,
    "start_time": "2022-05-06T22:11:33.938Z"
   },
   {
    "duration": 43,
    "start_time": "2022-05-06T22:11:33.942Z"
   },
   {
    "duration": 8,
    "start_time": "2022-05-06T22:11:33.987Z"
   },
   {
    "duration": 33,
    "start_time": "2022-05-06T22:11:33.996Z"
   },
   {
    "duration": 7,
    "start_time": "2022-05-06T22:11:34.030Z"
   },
   {
    "duration": 67,
    "start_time": "2022-05-06T22:11:34.039Z"
   },
   {
    "duration": 7,
    "start_time": "2022-05-06T22:11:34.110Z"
   },
   {
    "duration": 31,
    "start_time": "2022-05-06T22:11:34.119Z"
   },
   {
    "duration": 22,
    "start_time": "2022-05-06T22:11:34.152Z"
   },
   {
    "duration": 20,
    "start_time": "2022-05-06T22:11:34.176Z"
   },
   {
    "duration": 16,
    "start_time": "2022-05-06T22:11:34.198Z"
   },
   {
    "duration": 4,
    "start_time": "2022-05-06T22:11:34.216Z"
   },
   {
    "duration": 10,
    "start_time": "2022-05-06T22:11:34.221Z"
   },
   {
    "duration": 44,
    "start_time": "2022-05-06T22:11:34.232Z"
   },
   {
    "duration": 14,
    "start_time": "2022-05-06T22:11:34.278Z"
   },
   {
    "duration": 7,
    "start_time": "2022-05-06T22:11:34.294Z"
   },
   {
    "duration": 20,
    "start_time": "2022-05-06T22:11:34.303Z"
   },
   {
    "duration": 4,
    "start_time": "2022-05-06T22:11:34.325Z"
   },
   {
    "duration": 122,
    "start_time": "2022-05-06T22:11:34.331Z"
   },
   {
    "duration": 5,
    "start_time": "2022-05-06T22:11:34.455Z"
   },
   {
    "duration": 28,
    "start_time": "2022-05-06T22:11:34.462Z"
   },
   {
    "duration": 5,
    "start_time": "2022-05-06T22:11:34.492Z"
   },
   {
    "duration": 9,
    "start_time": "2022-05-06T22:11:34.499Z"
   },
   {
    "duration": 13,
    "start_time": "2022-05-06T22:11:34.510Z"
   },
   {
    "duration": 14,
    "start_time": "2022-05-06T22:11:34.525Z"
   },
   {
    "duration": 191,
    "start_time": "2022-05-06T22:11:34.541Z"
   },
   {
    "duration": 181,
    "start_time": "2022-05-06T22:11:34.734Z"
   },
   {
    "duration": 8,
    "start_time": "2022-05-06T22:11:34.917Z"
   },
   {
    "duration": 17,
    "start_time": "2022-05-06T22:11:34.926Z"
   },
   {
    "duration": 12,
    "start_time": "2022-05-06T22:11:34.945Z"
   },
   {
    "duration": 19,
    "start_time": "2022-05-06T22:11:34.959Z"
   },
   {
    "duration": 196,
    "start_time": "2022-05-06T22:11:34.979Z"
   },
   {
    "duration": 178,
    "start_time": "2022-05-06T22:11:35.176Z"
   },
   {
    "duration": 8,
    "start_time": "2022-05-06T22:11:35.356Z"
   },
   {
    "duration": 6,
    "start_time": "2022-05-06T22:11:35.374Z"
   },
   {
    "duration": 13,
    "start_time": "2022-05-06T22:11:35.382Z"
   },
   {
    "duration": 9,
    "start_time": "2022-05-06T22:11:35.396Z"
   },
   {
    "duration": 289,
    "start_time": "2022-05-06T22:11:35.406Z"
   },
   {
    "duration": 167,
    "start_time": "2022-05-06T22:11:35.697Z"
   },
   {
    "duration": 9,
    "start_time": "2022-05-06T22:11:35.865Z"
   },
   {
    "duration": 8,
    "start_time": "2022-05-06T22:11:35.875Z"
   },
   {
    "duration": 14,
    "start_time": "2022-05-06T22:11:35.884Z"
   },
   {
    "duration": 12,
    "start_time": "2022-05-06T22:11:35.900Z"
   },
   {
    "duration": 9,
    "start_time": "2022-05-06T22:11:35.914Z"
   },
   {
    "duration": 7,
    "start_time": "2022-05-06T22:11:35.924Z"
   },
   {
    "duration": 9,
    "start_time": "2022-05-06T22:11:35.933Z"
   },
   {
    "duration": 4,
    "start_time": "2022-05-06T22:13:33.753Z"
   },
   {
    "duration": 88,
    "start_time": "2022-05-06T22:13:49.494Z"
   },
   {
    "duration": 4,
    "start_time": "2022-05-06T22:13:53.746Z"
   },
   {
    "duration": 6,
    "start_time": "2022-05-06T22:15:57.773Z"
   },
   {
    "duration": 101,
    "start_time": "2022-05-06T22:17:10.147Z"
   },
   {
    "duration": 1177,
    "start_time": "2022-05-06T22:17:42.451Z"
   },
   {
    "duration": 396,
    "start_time": "2022-05-06T22:17:43.631Z"
   },
   {
    "duration": 3,
    "start_time": "2022-05-06T22:17:44.029Z"
   },
   {
    "duration": 26,
    "start_time": "2022-05-06T22:17:44.034Z"
   },
   {
    "duration": 13,
    "start_time": "2022-05-06T22:17:44.062Z"
   },
   {
    "duration": 3,
    "start_time": "2022-05-06T22:17:44.077Z"
   },
   {
    "duration": 11,
    "start_time": "2022-05-06T22:17:44.082Z"
   },
   {
    "duration": 163,
    "start_time": "2022-05-06T22:17:44.095Z"
   },
   {
    "duration": 178,
    "start_time": "2022-05-06T22:17:44.260Z"
   },
   {
    "duration": 9,
    "start_time": "2022-05-06T22:17:44.440Z"
   },
   {
    "duration": 47,
    "start_time": "2022-05-06T22:17:44.450Z"
   },
   {
    "duration": 181,
    "start_time": "2022-05-06T22:17:44.498Z"
   },
   {
    "duration": 5,
    "start_time": "2022-05-06T22:17:44.680Z"
   },
   {
    "duration": 72,
    "start_time": "2022-05-06T22:17:44.688Z"
   },
   {
    "duration": 16,
    "start_time": "2022-05-06T22:17:44.762Z"
   },
   {
    "duration": 22,
    "start_time": "2022-05-06T22:17:44.779Z"
   },
   {
    "duration": 127,
    "start_time": "2022-05-06T22:17:44.803Z"
   },
   {
    "duration": 8,
    "start_time": "2022-05-06T22:17:44.932Z"
   },
   {
    "duration": 10,
    "start_time": "2022-05-06T22:17:44.941Z"
   },
   {
    "duration": 45,
    "start_time": "2022-05-06T22:17:44.952Z"
   },
   {
    "duration": 193,
    "start_time": "2022-05-06T22:17:45.000Z"
   },
   {
    "duration": 2,
    "start_time": "2022-05-06T22:17:45.195Z"
   },
   {
    "duration": 32,
    "start_time": "2022-05-06T22:17:45.199Z"
   },
   {
    "duration": 8,
    "start_time": "2022-05-06T22:17:45.233Z"
   },
   {
    "duration": 52,
    "start_time": "2022-05-06T22:17:45.242Z"
   },
   {
    "duration": 8,
    "start_time": "2022-05-06T22:17:45.295Z"
   },
   {
    "duration": 47,
    "start_time": "2022-05-06T22:17:45.305Z"
   },
   {
    "duration": 19,
    "start_time": "2022-05-06T22:17:45.354Z"
   },
   {
    "duration": 29,
    "start_time": "2022-05-06T22:17:45.375Z"
   },
   {
    "duration": 7,
    "start_time": "2022-05-06T22:17:45.406Z"
   },
   {
    "duration": 22,
    "start_time": "2022-05-06T22:17:45.414Z"
   },
   {
    "duration": 36,
    "start_time": "2022-05-06T22:17:45.438Z"
   },
   {
    "duration": 3,
    "start_time": "2022-05-06T22:17:45.475Z"
   },
   {
    "duration": 11,
    "start_time": "2022-05-06T22:17:45.479Z"
   },
   {
    "duration": 17,
    "start_time": "2022-05-06T22:17:45.492Z"
   },
   {
    "duration": 17,
    "start_time": "2022-05-06T22:17:45.510Z"
   },
   {
    "duration": 5,
    "start_time": "2022-05-06T22:17:45.529Z"
   },
   {
    "duration": 43,
    "start_time": "2022-05-06T22:17:45.536Z"
   },
   {
    "duration": 4,
    "start_time": "2022-05-06T22:17:45.581Z"
   },
   {
    "duration": 106,
    "start_time": "2022-05-06T22:17:45.586Z"
   },
   {
    "duration": 6,
    "start_time": "2022-05-06T22:17:45.696Z"
   },
   {
    "duration": 23,
    "start_time": "2022-05-06T22:17:45.704Z"
   },
   {
    "duration": 8,
    "start_time": "2022-05-06T22:17:45.729Z"
   },
   {
    "duration": 8,
    "start_time": "2022-05-06T22:17:45.738Z"
   },
   {
    "duration": 30,
    "start_time": "2022-05-06T22:17:45.748Z"
   },
   {
    "duration": 193,
    "start_time": "2022-05-06T22:17:45.780Z"
   },
   {
    "duration": 172,
    "start_time": "2022-05-06T22:17:45.975Z"
   },
   {
    "duration": 7,
    "start_time": "2022-05-06T22:17:46.148Z"
   },
   {
    "duration": 22,
    "start_time": "2022-05-06T22:17:46.157Z"
   },
   {
    "duration": 9,
    "start_time": "2022-05-06T22:17:46.181Z"
   },
   {
    "duration": 7,
    "start_time": "2022-05-06T22:17:46.192Z"
   },
   {
    "duration": 198,
    "start_time": "2022-05-06T22:17:46.201Z"
   },
   {
    "duration": 258,
    "start_time": "2022-05-06T22:17:46.400Z"
   },
   {
    "duration": 7,
    "start_time": "2022-05-06T22:17:46.659Z"
   },
   {
    "duration": 6,
    "start_time": "2022-05-06T22:17:46.673Z"
   },
   {
    "duration": 9,
    "start_time": "2022-05-06T22:17:46.680Z"
   },
   {
    "duration": 7,
    "start_time": "2022-05-06T22:17:46.690Z"
   },
   {
    "duration": 201,
    "start_time": "2022-05-06T22:17:46.699Z"
   },
   {
    "duration": 164,
    "start_time": "2022-05-06T22:17:46.902Z"
   },
   {
    "duration": 11,
    "start_time": "2022-05-06T22:17:47.069Z"
   },
   {
    "duration": 8,
    "start_time": "2022-05-06T22:17:47.081Z"
   },
   {
    "duration": 6,
    "start_time": "2022-05-06T22:17:47.091Z"
   },
   {
    "duration": 5,
    "start_time": "2022-05-06T22:17:47.098Z"
   },
   {
    "duration": 8,
    "start_time": "2022-05-06T22:17:47.105Z"
   },
   {
    "duration": 100,
    "start_time": "2022-05-06T22:17:47.115Z"
   },
   {
    "duration": 0,
    "start_time": "2022-05-06T22:17:47.217Z"
   },
   {
    "duration": 0,
    "start_time": "2022-05-06T22:17:47.218Z"
   },
   {
    "duration": 0,
    "start_time": "2022-05-06T22:17:47.220Z"
   },
   {
    "duration": 0,
    "start_time": "2022-05-06T22:17:47.221Z"
   },
   {
    "duration": 98,
    "start_time": "2022-05-06T22:20:55.094Z"
   },
   {
    "duration": 1083,
    "start_time": "2022-05-06T22:24:27.148Z"
   },
   {
    "duration": 374,
    "start_time": "2022-05-06T22:24:28.233Z"
   },
   {
    "duration": 3,
    "start_time": "2022-05-06T22:24:28.609Z"
   },
   {
    "duration": 25,
    "start_time": "2022-05-06T22:24:28.613Z"
   },
   {
    "duration": 11,
    "start_time": "2022-05-06T22:24:28.641Z"
   },
   {
    "duration": 4,
    "start_time": "2022-05-06T22:24:28.653Z"
   },
   {
    "duration": 17,
    "start_time": "2022-05-06T22:24:28.658Z"
   },
   {
    "duration": 149,
    "start_time": "2022-05-06T22:24:28.676Z"
   },
   {
    "duration": 166,
    "start_time": "2022-05-06T22:24:28.827Z"
   },
   {
    "duration": 8,
    "start_time": "2022-05-06T22:24:28.994Z"
   },
   {
    "duration": 31,
    "start_time": "2022-05-06T22:24:29.004Z"
   },
   {
    "duration": 177,
    "start_time": "2022-05-06T22:24:29.037Z"
   },
   {
    "duration": 5,
    "start_time": "2022-05-06T22:24:29.215Z"
   },
   {
    "duration": 78,
    "start_time": "2022-05-06T22:24:29.223Z"
   },
   {
    "duration": 7,
    "start_time": "2022-05-06T22:24:29.303Z"
   },
   {
    "duration": 21,
    "start_time": "2022-05-06T22:24:29.311Z"
   },
   {
    "duration": 120,
    "start_time": "2022-05-06T22:24:29.334Z"
   },
   {
    "duration": 8,
    "start_time": "2022-05-06T22:24:29.456Z"
   },
   {
    "duration": 8,
    "start_time": "2022-05-06T22:24:29.474Z"
   },
   {
    "duration": 28,
    "start_time": "2022-05-06T22:24:29.484Z"
   },
   {
    "duration": 188,
    "start_time": "2022-05-06T22:24:29.513Z"
   },
   {
    "duration": 3,
    "start_time": "2022-05-06T22:24:29.703Z"
   },
   {
    "duration": 30,
    "start_time": "2022-05-06T22:24:29.708Z"
   },
   {
    "duration": 7,
    "start_time": "2022-05-06T22:24:29.740Z"
   },
   {
    "duration": 31,
    "start_time": "2022-05-06T22:24:29.774Z"
   },
   {
    "duration": 8,
    "start_time": "2022-05-06T22:24:29.806Z"
   },
   {
    "duration": 63,
    "start_time": "2022-05-06T22:24:29.816Z"
   },
   {
    "duration": 7,
    "start_time": "2022-05-06T22:24:29.881Z"
   },
   {
    "duration": 28,
    "start_time": "2022-05-06T22:24:29.890Z"
   },
   {
    "duration": 7,
    "start_time": "2022-05-06T22:24:29.920Z"
   },
   {
    "duration": 45,
    "start_time": "2022-05-06T22:24:29.929Z"
   },
   {
    "duration": 16,
    "start_time": "2022-05-06T22:24:29.976Z"
   },
   {
    "duration": 6,
    "start_time": "2022-05-06T22:24:29.994Z"
   },
   {
    "duration": 21,
    "start_time": "2022-05-06T22:24:30.002Z"
   },
   {
    "duration": 21,
    "start_time": "2022-05-06T22:24:30.025Z"
   },
   {
    "duration": 28,
    "start_time": "2022-05-06T22:24:30.047Z"
   },
   {
    "duration": 5,
    "start_time": "2022-05-06T22:24:30.077Z"
   },
   {
    "duration": 34,
    "start_time": "2022-05-06T22:24:30.084Z"
   },
   {
    "duration": 10,
    "start_time": "2022-05-06T22:24:30.120Z"
   },
   {
    "duration": 115,
    "start_time": "2022-05-06T22:24:30.132Z"
   },
   {
    "duration": 6,
    "start_time": "2022-05-06T22:24:30.251Z"
   },
   {
    "duration": 27,
    "start_time": "2022-05-06T22:24:30.258Z"
   },
   {
    "duration": 13,
    "start_time": "2022-05-06T22:24:30.287Z"
   },
   {
    "duration": 12,
    "start_time": "2022-05-06T22:24:30.301Z"
   },
   {
    "duration": 14,
    "start_time": "2022-05-06T22:24:30.315Z"
   },
   {
    "duration": 185,
    "start_time": "2022-05-06T22:24:30.331Z"
   },
   {
    "duration": 182,
    "start_time": "2022-05-06T22:24:30.518Z"
   },
   {
    "duration": 8,
    "start_time": "2022-05-06T22:24:30.702Z"
   },
   {
    "duration": 12,
    "start_time": "2022-05-06T22:24:30.712Z"
   },
   {
    "duration": 10,
    "start_time": "2022-05-06T22:24:30.725Z"
   },
   {
    "duration": 17,
    "start_time": "2022-05-06T22:24:30.737Z"
   },
   {
    "duration": 194,
    "start_time": "2022-05-06T22:24:30.756Z"
   },
   {
    "duration": 279,
    "start_time": "2022-05-06T22:24:30.952Z"
   },
   {
    "duration": 9,
    "start_time": "2022-05-06T22:24:31.233Z"
   },
   {
    "duration": 12,
    "start_time": "2022-05-06T22:24:31.243Z"
   },
   {
    "duration": 22,
    "start_time": "2022-05-06T22:24:31.256Z"
   },
   {
    "duration": 8,
    "start_time": "2022-05-06T22:24:31.280Z"
   },
   {
    "duration": 189,
    "start_time": "2022-05-06T22:24:31.290Z"
   },
   {
    "duration": 158,
    "start_time": "2022-05-06T22:24:31.481Z"
   },
   {
    "duration": 8,
    "start_time": "2022-05-06T22:24:31.641Z"
   },
   {
    "duration": 15,
    "start_time": "2022-05-06T22:24:31.650Z"
   },
   {
    "duration": 14,
    "start_time": "2022-05-06T22:24:31.666Z"
   },
   {
    "duration": 8,
    "start_time": "2022-05-06T22:24:31.682Z"
   },
   {
    "duration": 14,
    "start_time": "2022-05-06T22:24:31.692Z"
   },
   {
    "duration": 121,
    "start_time": "2022-05-06T22:24:31.708Z"
   },
   {
    "duration": 0,
    "start_time": "2022-05-06T22:24:31.831Z"
   },
   {
    "duration": 0,
    "start_time": "2022-05-06T22:24:31.833Z"
   },
   {
    "duration": 0,
    "start_time": "2022-05-06T22:24:31.834Z"
   },
   {
    "duration": 0,
    "start_time": "2022-05-06T22:24:31.835Z"
   },
   {
    "duration": 1157,
    "start_time": "2022-05-06T22:26:38.272Z"
   },
   {
    "duration": 397,
    "start_time": "2022-05-06T22:26:39.432Z"
   },
   {
    "duration": 4,
    "start_time": "2022-05-06T22:26:39.831Z"
   },
   {
    "duration": 27,
    "start_time": "2022-05-06T22:26:39.837Z"
   },
   {
    "duration": 16,
    "start_time": "2022-05-06T22:26:39.867Z"
   },
   {
    "duration": 4,
    "start_time": "2022-05-06T22:26:39.885Z"
   },
   {
    "duration": 11,
    "start_time": "2022-05-06T22:26:39.890Z"
   },
   {
    "duration": 168,
    "start_time": "2022-05-06T22:26:39.903Z"
   },
   {
    "duration": 163,
    "start_time": "2022-05-06T22:26:40.073Z"
   },
   {
    "duration": 8,
    "start_time": "2022-05-06T22:26:40.238Z"
   },
   {
    "duration": 40,
    "start_time": "2022-05-06T22:26:40.247Z"
   },
   {
    "duration": 162,
    "start_time": "2022-05-06T22:26:40.289Z"
   },
   {
    "duration": 5,
    "start_time": "2022-05-06T22:26:40.453Z"
   },
   {
    "duration": 67,
    "start_time": "2022-05-06T22:26:40.472Z"
   },
   {
    "duration": 8,
    "start_time": "2022-05-06T22:26:40.540Z"
   },
   {
    "duration": 36,
    "start_time": "2022-05-06T22:26:40.549Z"
   },
   {
    "duration": 120,
    "start_time": "2022-05-06T22:26:40.586Z"
   },
   {
    "duration": 9,
    "start_time": "2022-05-06T22:26:40.707Z"
   },
   {
    "duration": 9,
    "start_time": "2022-05-06T22:26:40.718Z"
   },
   {
    "duration": 44,
    "start_time": "2022-05-06T22:26:40.729Z"
   },
   {
    "duration": 177,
    "start_time": "2022-05-06T22:26:40.775Z"
   },
   {
    "duration": 2,
    "start_time": "2022-05-06T22:26:40.954Z"
   },
   {
    "duration": 42,
    "start_time": "2022-05-06T22:26:40.957Z"
   },
   {
    "duration": 8,
    "start_time": "2022-05-06T22:26:41.001Z"
   },
   {
    "duration": 34,
    "start_time": "2022-05-06T22:26:41.011Z"
   },
   {
    "duration": 29,
    "start_time": "2022-05-06T22:26:41.047Z"
   },
   {
    "duration": 52,
    "start_time": "2022-05-06T22:26:41.078Z"
   },
   {
    "duration": 8,
    "start_time": "2022-05-06T22:26:41.132Z"
   },
   {
    "duration": 47,
    "start_time": "2022-05-06T22:26:41.142Z"
   },
   {
    "duration": 7,
    "start_time": "2022-05-06T22:26:41.191Z"
   },
   {
    "duration": 23,
    "start_time": "2022-05-06T22:26:41.200Z"
   },
   {
    "duration": 15,
    "start_time": "2022-05-06T22:26:41.225Z"
   },
   {
    "duration": 6,
    "start_time": "2022-05-06T22:26:41.241Z"
   },
   {
    "duration": 29,
    "start_time": "2022-05-06T22:26:41.249Z"
   },
   {
    "duration": 19,
    "start_time": "2022-05-06T22:26:41.279Z"
   },
   {
    "duration": 14,
    "start_time": "2022-05-06T22:26:41.300Z"
   },
   {
    "duration": 5,
    "start_time": "2022-05-06T22:26:41.316Z"
   },
   {
    "duration": 13,
    "start_time": "2022-05-06T22:26:41.322Z"
   },
   {
    "duration": 3,
    "start_time": "2022-05-06T22:26:41.337Z"
   },
   {
    "duration": 123,
    "start_time": "2022-05-06T22:26:41.341Z"
   },
   {
    "duration": 7,
    "start_time": "2022-05-06T22:26:41.469Z"
   },
   {
    "duration": 22,
    "start_time": "2022-05-06T22:26:41.477Z"
   },
   {
    "duration": 8,
    "start_time": "2022-05-06T22:26:41.500Z"
   },
   {
    "duration": 8,
    "start_time": "2022-05-06T22:26:41.510Z"
   },
   {
    "duration": 8,
    "start_time": "2022-05-06T22:26:41.520Z"
   },
   {
    "duration": 203,
    "start_time": "2022-05-06T22:26:41.529Z"
   },
   {
    "duration": 174,
    "start_time": "2022-05-06T22:26:41.734Z"
   },
   {
    "duration": 7,
    "start_time": "2022-05-06T22:26:41.909Z"
   },
   {
    "duration": 12,
    "start_time": "2022-05-06T22:26:41.918Z"
   },
   {
    "duration": 9,
    "start_time": "2022-05-06T22:26:41.931Z"
   },
   {
    "duration": 7,
    "start_time": "2022-05-06T22:26:41.942Z"
   },
   {
    "duration": 195,
    "start_time": "2022-05-06T22:26:41.951Z"
   },
   {
    "duration": 256,
    "start_time": "2022-05-06T22:26:42.148Z"
   },
   {
    "duration": 7,
    "start_time": "2022-05-06T22:26:42.405Z"
   },
   {
    "duration": 8,
    "start_time": "2022-05-06T22:26:42.413Z"
   },
   {
    "duration": 11,
    "start_time": "2022-05-06T22:26:42.423Z"
   },
   {
    "duration": 7,
    "start_time": "2022-05-06T22:26:42.436Z"
   },
   {
    "duration": 184,
    "start_time": "2022-05-06T22:26:42.445Z"
   },
   {
    "duration": 164,
    "start_time": "2022-05-06T22:26:42.631Z"
   },
   {
    "duration": 8,
    "start_time": "2022-05-06T22:26:42.797Z"
   },
   {
    "duration": 11,
    "start_time": "2022-05-06T22:26:42.806Z"
   },
   {
    "duration": 12,
    "start_time": "2022-05-06T22:26:42.819Z"
   },
   {
    "duration": 8,
    "start_time": "2022-05-06T22:26:42.833Z"
   },
   {
    "duration": 7,
    "start_time": "2022-05-06T22:26:42.842Z"
   },
   {
    "duration": 4,
    "start_time": "2022-05-06T22:26:42.851Z"
   },
   {
    "duration": 18,
    "start_time": "2022-05-06T22:26:42.857Z"
   },
   {
    "duration": 4,
    "start_time": "2022-05-06T22:26:42.877Z"
   },
   {
    "duration": 1165,
    "start_time": "2022-05-06T22:27:16.960Z"
   },
   {
    "duration": 392,
    "start_time": "2022-05-06T22:27:18.127Z"
   },
   {
    "duration": 4,
    "start_time": "2022-05-06T22:27:18.520Z"
   },
   {
    "duration": 27,
    "start_time": "2022-05-06T22:27:18.525Z"
   },
   {
    "duration": 22,
    "start_time": "2022-05-06T22:27:18.554Z"
   },
   {
    "duration": 8,
    "start_time": "2022-05-06T22:27:18.578Z"
   },
   {
    "duration": 7,
    "start_time": "2022-05-06T22:27:18.588Z"
   },
   {
    "duration": 156,
    "start_time": "2022-05-06T22:27:18.596Z"
   },
   {
    "duration": 164,
    "start_time": "2022-05-06T22:27:18.754Z"
   },
   {
    "duration": 9,
    "start_time": "2022-05-06T22:27:18.920Z"
   },
   {
    "duration": 44,
    "start_time": "2022-05-06T22:27:18.931Z"
   },
   {
    "duration": 174,
    "start_time": "2022-05-06T22:27:18.976Z"
   },
   {
    "duration": 5,
    "start_time": "2022-05-06T22:27:19.151Z"
   },
   {
    "duration": 83,
    "start_time": "2022-05-06T22:27:19.159Z"
   },
   {
    "duration": 7,
    "start_time": "2022-05-06T22:27:19.244Z"
   },
   {
    "duration": 34,
    "start_time": "2022-05-06T22:27:19.252Z"
   },
   {
    "duration": 121,
    "start_time": "2022-05-06T22:27:19.287Z"
   },
   {
    "duration": 9,
    "start_time": "2022-05-06T22:27:19.410Z"
   },
   {
    "duration": 9,
    "start_time": "2022-05-06T22:27:19.420Z"
   },
   {
    "duration": 46,
    "start_time": "2022-05-06T22:27:19.431Z"
   },
   {
    "duration": 195,
    "start_time": "2022-05-06T22:27:19.478Z"
   },
   {
    "duration": 2,
    "start_time": "2022-05-06T22:27:19.675Z"
   },
   {
    "duration": 32,
    "start_time": "2022-05-06T22:27:19.678Z"
   },
   {
    "duration": 8,
    "start_time": "2022-05-06T22:27:19.711Z"
   },
   {
    "duration": 34,
    "start_time": "2022-05-06T22:27:19.720Z"
   },
   {
    "duration": 8,
    "start_time": "2022-05-06T22:27:19.773Z"
   },
   {
    "duration": 48,
    "start_time": "2022-05-06T22:27:19.783Z"
   },
   {
    "duration": 7,
    "start_time": "2022-05-06T22:27:19.832Z"
   },
   {
    "duration": 48,
    "start_time": "2022-05-06T22:27:19.841Z"
   },
   {
    "duration": 7,
    "start_time": "2022-05-06T22:27:19.890Z"
   },
   {
    "duration": 19,
    "start_time": "2022-05-06T22:27:19.899Z"
   },
   {
    "duration": 14,
    "start_time": "2022-05-06T22:27:19.920Z"
   },
   {
    "duration": 2,
    "start_time": "2022-05-06T22:27:19.936Z"
   },
   {
    "duration": 34,
    "start_time": "2022-05-06T22:27:19.940Z"
   },
   {
    "duration": 18,
    "start_time": "2022-05-06T22:27:19.976Z"
   },
   {
    "duration": 20,
    "start_time": "2022-05-06T22:27:19.995Z"
   },
   {
    "duration": 7,
    "start_time": "2022-05-06T22:27:20.017Z"
   },
   {
    "duration": 13,
    "start_time": "2022-05-06T22:27:20.025Z"
   },
   {
    "duration": 3,
    "start_time": "2022-05-06T22:27:20.040Z"
   },
   {
    "duration": 129,
    "start_time": "2022-05-06T22:27:20.045Z"
   },
   {
    "duration": 6,
    "start_time": "2022-05-06T22:27:20.177Z"
   },
   {
    "duration": 21,
    "start_time": "2022-05-06T22:27:20.185Z"
   },
   {
    "duration": 8,
    "start_time": "2022-05-06T22:27:20.207Z"
   },
   {
    "duration": 8,
    "start_time": "2022-05-06T22:27:20.216Z"
   },
   {
    "duration": 7,
    "start_time": "2022-05-06T22:27:20.226Z"
   },
   {
    "duration": 221,
    "start_time": "2022-05-06T22:27:20.235Z"
   },
   {
    "duration": 183,
    "start_time": "2022-05-06T22:27:20.458Z"
   },
   {
    "duration": 8,
    "start_time": "2022-05-06T22:27:20.643Z"
   },
   {
    "duration": 21,
    "start_time": "2022-05-06T22:27:20.652Z"
   },
   {
    "duration": 8,
    "start_time": "2022-05-06T22:27:20.675Z"
   },
   {
    "duration": 10,
    "start_time": "2022-05-06T22:27:20.684Z"
   },
   {
    "duration": 198,
    "start_time": "2022-05-06T22:27:20.696Z"
   },
   {
    "duration": 264,
    "start_time": "2022-05-06T22:27:20.895Z"
   },
   {
    "duration": 16,
    "start_time": "2022-05-06T22:27:21.161Z"
   },
   {
    "duration": 8,
    "start_time": "2022-05-06T22:27:21.178Z"
   },
   {
    "duration": 16,
    "start_time": "2022-05-06T22:27:21.187Z"
   },
   {
    "duration": 7,
    "start_time": "2022-05-06T22:27:21.205Z"
   },
   {
    "duration": 190,
    "start_time": "2022-05-06T22:27:21.213Z"
   },
   {
    "duration": 160,
    "start_time": "2022-05-06T22:27:21.405Z"
   },
   {
    "duration": 10,
    "start_time": "2022-05-06T22:27:21.567Z"
   },
   {
    "duration": 16,
    "start_time": "2022-05-06T22:27:21.579Z"
   },
   {
    "duration": 7,
    "start_time": "2022-05-06T22:27:21.597Z"
   },
   {
    "duration": 4,
    "start_time": "2022-05-06T22:27:21.606Z"
   },
   {
    "duration": 8,
    "start_time": "2022-05-06T22:27:21.611Z"
   },
   {
    "duration": 5,
    "start_time": "2022-05-06T22:27:21.620Z"
   },
   {
    "duration": 10,
    "start_time": "2022-05-06T22:27:21.627Z"
   },
   {
    "duration": 7,
    "start_time": "2022-05-06T22:27:21.638Z"
   },
   {
    "duration": 5,
    "start_time": "2022-05-08T15:49:16.246Z"
   },
   {
    "duration": 520,
    "start_time": "2022-05-08T15:49:16.253Z"
   },
   {
    "duration": 4,
    "start_time": "2022-05-08T15:49:16.776Z"
   },
   {
    "duration": 32,
    "start_time": "2022-05-08T15:49:16.782Z"
   },
   {
    "duration": 16,
    "start_time": "2022-05-08T15:49:16.817Z"
   },
   {
    "duration": 7,
    "start_time": "2022-05-08T15:49:16.835Z"
   },
   {
    "duration": 22,
    "start_time": "2022-05-08T15:49:16.844Z"
   },
   {
    "duration": 249,
    "start_time": "2022-05-08T15:49:16.892Z"
   },
   {
    "duration": 228,
    "start_time": "2022-05-08T15:49:17.144Z"
   },
   {
    "duration": 11,
    "start_time": "2022-05-08T15:49:17.374Z"
   },
   {
    "duration": 74,
    "start_time": "2022-05-08T15:49:17.394Z"
   },
   {
    "duration": 415,
    "start_time": "2022-05-08T15:49:17.471Z"
   },
   {
    "duration": 8,
    "start_time": "2022-05-08T15:49:17.889Z"
   },
   {
    "duration": 137,
    "start_time": "2022-05-08T15:49:17.899Z"
   },
   {
    "duration": 11,
    "start_time": "2022-05-08T15:49:18.048Z"
   },
   {
    "duration": 52,
    "start_time": "2022-05-08T15:49:18.062Z"
   },
   {
    "duration": 169,
    "start_time": "2022-05-08T15:49:18.117Z"
   },
   {
    "duration": 12,
    "start_time": "2022-05-08T15:49:18.292Z"
   },
   {
    "duration": 11,
    "start_time": "2022-05-08T15:49:18.307Z"
   },
   {
    "duration": 37,
    "start_time": "2022-05-08T15:49:18.321Z"
   },
   {
    "duration": 324,
    "start_time": "2022-05-08T15:49:18.360Z"
   },
   {
    "duration": 8,
    "start_time": "2022-05-08T15:49:18.686Z"
   },
   {
    "duration": 69,
    "start_time": "2022-05-08T15:49:18.697Z"
   },
   {
    "duration": 36,
    "start_time": "2022-05-08T15:49:18.768Z"
   },
   {
    "duration": 51,
    "start_time": "2022-05-08T15:49:18.807Z"
   },
   {
    "duration": 34,
    "start_time": "2022-05-08T15:49:18.860Z"
   },
   {
    "duration": 65,
    "start_time": "2022-05-08T15:49:18.897Z"
   },
   {
    "duration": 28,
    "start_time": "2022-05-08T15:49:18.965Z"
   },
   {
    "duration": 40,
    "start_time": "2022-05-08T15:49:18.995Z"
   },
   {
    "duration": 10,
    "start_time": "2022-05-08T15:49:19.037Z"
   },
   {
    "duration": 69,
    "start_time": "2022-05-08T15:49:19.049Z"
   },
   {
    "duration": 29,
    "start_time": "2022-05-08T15:49:19.120Z"
   },
   {
    "duration": 7,
    "start_time": "2022-05-08T15:49:19.151Z"
   },
   {
    "duration": 38,
    "start_time": "2022-05-08T15:49:19.160Z"
   },
   {
    "duration": 41,
    "start_time": "2022-05-08T15:49:19.201Z"
   },
   {
    "duration": 17,
    "start_time": "2022-05-08T15:49:19.244Z"
   },
   {
    "duration": 37,
    "start_time": "2022-05-08T15:49:19.263Z"
   },
   {
    "duration": 24,
    "start_time": "2022-05-08T15:49:19.303Z"
   },
   {
    "duration": 7,
    "start_time": "2022-05-08T15:49:19.330Z"
   },
   {
    "duration": 228,
    "start_time": "2022-05-08T15:49:19.339Z"
   },
   {
    "duration": 5,
    "start_time": "2022-05-08T15:49:19.569Z"
   },
   {
    "duration": 61,
    "start_time": "2022-05-08T15:49:19.576Z"
   },
   {
    "duration": 8,
    "start_time": "2022-05-08T15:49:19.640Z"
   },
   {
    "duration": 12,
    "start_time": "2022-05-08T15:49:19.650Z"
   },
   {
    "duration": 10,
    "start_time": "2022-05-08T15:49:19.692Z"
   },
   {
    "duration": 301,
    "start_time": "2022-05-08T15:49:19.705Z"
   },
   {
    "duration": 289,
    "start_time": "2022-05-08T15:49:20.008Z"
   },
   {
    "duration": 14,
    "start_time": "2022-05-08T15:49:20.299Z"
   },
   {
    "duration": 9,
    "start_time": "2022-05-08T15:49:20.316Z"
   },
   {
    "duration": 15,
    "start_time": "2022-05-08T15:49:20.328Z"
   },
   {
    "duration": 58,
    "start_time": "2022-05-08T15:49:20.345Z"
   },
   {
    "duration": 310,
    "start_time": "2022-05-08T15:49:20.405Z"
   },
   {
    "duration": 287,
    "start_time": "2022-05-08T15:49:20.717Z"
   },
   {
    "duration": 10,
    "start_time": "2022-05-08T15:49:21.006Z"
   },
   {
    "duration": 16,
    "start_time": "2022-05-08T15:49:21.019Z"
   },
   {
    "duration": 19,
    "start_time": "2022-05-08T15:49:21.037Z"
   },
   {
    "duration": 40,
    "start_time": "2022-05-08T15:49:21.059Z"
   },
   {
    "duration": 464,
    "start_time": "2022-05-08T15:49:21.103Z"
   },
   {
    "duration": 304,
    "start_time": "2022-05-08T15:49:21.569Z"
   },
   {
    "duration": 22,
    "start_time": "2022-05-08T15:49:21.876Z"
   },
   {
    "duration": 10,
    "start_time": "2022-05-08T15:49:21.900Z"
   },
   {
    "duration": 10,
    "start_time": "2022-05-08T15:49:21.912Z"
   },
   {
    "duration": 6,
    "start_time": "2022-05-08T15:49:21.924Z"
   },
   {
    "duration": 11,
    "start_time": "2022-05-08T15:49:21.932Z"
   },
   {
    "duration": 9,
    "start_time": "2022-05-08T15:49:21.945Z"
   },
   {
    "duration": 42,
    "start_time": "2022-05-08T15:49:21.956Z"
   },
   {
    "duration": 7,
    "start_time": "2022-05-08T15:49:22.001Z"
   },
   {
    "duration": 26,
    "start_time": "2022-05-08T15:54:15.451Z"
   },
   {
    "duration": 43,
    "start_time": "2022-05-08T15:57:05.555Z"
   },
   {
    "duration": 1075,
    "start_time": "2022-05-08T15:57:35.680Z"
   },
   {
    "duration": 51,
    "start_time": "2022-05-08T15:57:50.743Z"
   },
   {
    "duration": 832,
    "start_time": "2022-05-08T15:58:04.334Z"
   },
   {
    "duration": 60,
    "start_time": "2022-05-08T15:58:11.293Z"
   },
   {
    "duration": 1190,
    "start_time": "2022-05-08T23:58:08.492Z"
   },
   {
    "duration": 361,
    "start_time": "2022-05-08T23:58:09.684Z"
   },
   {
    "duration": 3,
    "start_time": "2022-05-08T23:58:10.047Z"
   },
   {
    "duration": 25,
    "start_time": "2022-05-08T23:58:10.051Z"
   },
   {
    "duration": 11,
    "start_time": "2022-05-08T23:58:10.078Z"
   },
   {
    "duration": 3,
    "start_time": "2022-05-08T23:58:10.091Z"
   },
   {
    "duration": 7,
    "start_time": "2022-05-08T23:58:10.096Z"
   },
   {
    "duration": 153,
    "start_time": "2022-05-08T23:58:10.104Z"
   },
   {
    "duration": 146,
    "start_time": "2022-05-08T23:58:10.259Z"
   },
   {
    "duration": 7,
    "start_time": "2022-05-08T23:58:10.407Z"
   },
   {
    "duration": 36,
    "start_time": "2022-05-08T23:58:10.416Z"
   },
   {
    "duration": 150,
    "start_time": "2022-05-08T23:58:10.454Z"
   },
   {
    "duration": 4,
    "start_time": "2022-05-08T23:58:10.606Z"
   },
   {
    "duration": 76,
    "start_time": "2022-05-08T23:58:10.613Z"
   },
   {
    "duration": 7,
    "start_time": "2022-05-08T23:58:10.690Z"
   },
   {
    "duration": 19,
    "start_time": "2022-05-08T23:58:10.698Z"
   },
   {
    "duration": 112,
    "start_time": "2022-05-08T23:58:10.719Z"
   },
   {
    "duration": 17,
    "start_time": "2022-05-08T23:58:10.832Z"
   },
   {
    "duration": 8,
    "start_time": "2022-05-08T23:58:10.851Z"
   },
   {
    "duration": 25,
    "start_time": "2022-05-08T23:58:10.860Z"
   },
   {
    "duration": 183,
    "start_time": "2022-05-08T23:58:10.886Z"
   },
   {
    "duration": 3,
    "start_time": "2022-05-08T23:58:11.071Z"
   },
   {
    "duration": 29,
    "start_time": "2022-05-08T23:58:11.075Z"
   },
   {
    "duration": 8,
    "start_time": "2022-05-08T23:58:11.106Z"
   },
   {
    "duration": 58,
    "start_time": "2022-05-08T23:58:11.116Z"
   },
   {
    "duration": 7,
    "start_time": "2022-05-08T23:58:11.176Z"
   },
   {
    "duration": 44,
    "start_time": "2022-05-08T23:58:11.185Z"
   },
   {
    "duration": 7,
    "start_time": "2022-05-08T23:58:11.247Z"
   },
   {
    "duration": 28,
    "start_time": "2022-05-08T23:58:11.256Z"
   },
   {
    "duration": 7,
    "start_time": "2022-05-08T23:58:11.286Z"
   },
   {
    "duration": 19,
    "start_time": "2022-05-08T23:58:11.295Z"
   },
   {
    "duration": 41,
    "start_time": "2022-05-08T23:58:11.316Z"
   },
   {
    "duration": 3,
    "start_time": "2022-05-08T23:58:11.359Z"
   },
   {
    "duration": 8,
    "start_time": "2022-05-08T23:58:11.364Z"
   },
   {
    "duration": 17,
    "start_time": "2022-05-08T23:58:11.374Z"
   },
   {
    "duration": 17,
    "start_time": "2022-05-08T23:58:11.393Z"
   },
   {
    "duration": 37,
    "start_time": "2022-05-08T23:58:11.411Z"
   },
   {
    "duration": 12,
    "start_time": "2022-05-08T23:58:11.450Z"
   },
   {
    "duration": 4,
    "start_time": "2022-05-08T23:58:11.463Z"
   },
   {
    "duration": 102,
    "start_time": "2022-05-08T23:58:11.469Z"
   },
   {
    "duration": 5,
    "start_time": "2022-05-08T23:58:11.575Z"
   },
   {
    "duration": 18,
    "start_time": "2022-05-08T23:58:11.582Z"
   },
   {
    "duration": 6,
    "start_time": "2022-05-08T23:58:11.602Z"
   },
   {
    "duration": 7,
    "start_time": "2022-05-08T23:58:11.610Z"
   },
   {
    "duration": 32,
    "start_time": "2022-05-08T23:58:11.618Z"
   },
   {
    "duration": 169,
    "start_time": "2022-05-08T23:58:11.651Z"
   },
   {
    "duration": 156,
    "start_time": "2022-05-08T23:58:11.822Z"
   },
   {
    "duration": 7,
    "start_time": "2022-05-08T23:58:11.980Z"
   },
   {
    "duration": 5,
    "start_time": "2022-05-08T23:58:11.989Z"
   },
   {
    "duration": 8,
    "start_time": "2022-05-08T23:58:11.996Z"
   },
   {
    "duration": 7,
    "start_time": "2022-05-08T23:58:12.006Z"
   },
   {
    "duration": 174,
    "start_time": "2022-05-08T23:58:12.047Z"
   },
   {
    "duration": 236,
    "start_time": "2022-05-08T23:58:12.222Z"
   },
   {
    "duration": 6,
    "start_time": "2022-05-08T23:58:12.460Z"
   },
   {
    "duration": 6,
    "start_time": "2022-05-08T23:58:12.468Z"
   },
   {
    "duration": 6,
    "start_time": "2022-05-08T23:58:12.476Z"
   },
   {
    "duration": 7,
    "start_time": "2022-05-08T23:58:12.483Z"
   },
   {
    "duration": 190,
    "start_time": "2022-05-08T23:58:12.491Z"
   },
   {
    "duration": 143,
    "start_time": "2022-05-08T23:58:12.683Z"
   },
   {
    "duration": 7,
    "start_time": "2022-05-08T23:58:12.828Z"
   },
   {
    "duration": 31,
    "start_time": "2022-05-08T23:58:12.848Z"
   },
   {
    "duration": 4,
    "start_time": "2022-05-08T23:58:12.881Z"
   },
   {
    "duration": 6,
    "start_time": "2022-05-08T23:58:12.887Z"
   },
   {
    "duration": 5,
    "start_time": "2022-05-08T23:58:12.894Z"
   },
   {
    "duration": 7,
    "start_time": "2022-05-08T23:58:12.900Z"
   },
   {
    "duration": 4,
    "start_time": "2022-05-08T23:58:12.908Z"
   },
   {
    "duration": 6,
    "start_time": "2022-05-08T23:58:12.913Z"
   },
   {
    "duration": 4,
    "start_time": "2022-05-08T23:58:12.948Z"
   }
  ],
  "kernelspec": {
   "display_name": "Python 3 (ipykernel)",
   "language": "python",
   "name": "python3"
  },
  "language_info": {
   "codemirror_mode": {
    "name": "ipython",
    "version": 3
   },
   "file_extension": ".py",
   "mimetype": "text/x-python",
   "name": "python",
   "nbconvert_exporter": "python",
   "pygments_lexer": "ipython3",
   "version": "3.10.4"
  },
  "toc": {
   "base_numbering": 1,
   "nav_menu": {},
   "number_sections": false,
   "sideBar": true,
   "skip_h1_title": false,
   "title_cell": "Table of Contents",
   "title_sidebar": "Contents",
   "toc_cell": false,
   "toc_position": {},
   "toc_section_display": true,
   "toc_window_display": true
  }
 },
 "nbformat": 4,
 "nbformat_minor": 2
}
