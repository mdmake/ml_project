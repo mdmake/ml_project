{
 "cells": [
  {
   "cell_type": "markdown",
   "source": [
    "# Яндекс.Музыка"
   ],
   "metadata": {
    "collapsed": false,
    "pycharm": {
     "name": "#%% md\n"
    }
   }
  },
  {
   "cell_type": "markdown",
   "source": [
    "Сравнение Москвы и Петербурга окружено мифами. Например:\n",
    " * Москва — мегаполис, подчинённый жёсткому ритму рабочей недели;\n",
    " * Петербург — культурная столица, со своими вкусами.\n",
    "\n",
    "На данных Яндекс.Музыки вы сравните поведение пользователей двух столиц.\n",
    "\n",
    "**Цель исследования** — проверьте три гипотезы:\n",
    "1. Активность пользователей зависит от дня недели. Причём в Москве и Петербурге это проявляется по-разному.\n",
    "2. В понедельник утром в Москве преобладают одни жанры, а в Петербурге — другие. Так же и вечером пятницы преобладают разные жанры — в зависимости от города. \n",
    "3. Москва и Петербург предпочитают разные жанры музыки. В Москве чаще слушают поп-музыку, в Петербурге — русский рэп.\n",
    "\n",
    "**Ход исследования**\n",
    "\n",
    "Данные о поведении пользователей вы получите из файла `yandex_music_project.csv`. О качестве данных ничего не известно. Поэтому перед проверкой гипотез понадобится обзор данных. \n",
    "\n",
    "Вы проверите данные на ошибки и оцените их влияние на исследование. Затем, на этапе предобработки вы поищете возможность исправить самые критичные ошибки данных.\n",
    " \n",
    "Таким образом, исследование пройдёт в три этапа:\n",
    " 1. Обзор данных.\n",
    " 2. Предобработка данных.\n",
    " 3. Проверка гипотез.\n",
    "\n"
   ],
   "metadata": {
    "collapsed": false,
    "pycharm": {
     "name": "#%% md\n"
    }
   }
  },
  {
   "cell_type": "markdown",
   "source": [
    "## Обзор данных\n",
    "\n",
    "Составьте первое представление о данных Яндекс.Музыки.\n",
    "\n",
    "\n"
   ],
   "metadata": {
    "collapsed": false,
    "pycharm": {
     "name": "#%% md\n"
    }
   }
  },
  {
   "cell_type": "markdown",
   "source": [
    "Основной инструмент аналитика — `pandas`. Импортируйте эту библиотеку."
   ],
   "metadata": {
    "collapsed": false,
    "pycharm": {
     "name": "#%% md\n"
    }
   }
  },
  {
   "cell_type": "code",
   "execution_count": null,
   "outputs": [],
   "source": [
    "import pandas as pd"
   ],
   "metadata": {
    "collapsed": false,
    "pycharm": {
     "name": "#%%\n"
    }
   }
  },
  {
   "cell_type": "markdown",
   "source": [
    "Прочитайте файл `yandex_music_project.csv` из папки `/datasets` и сохраните его в переменной `df`:"
   ],
   "metadata": {
    "collapsed": false,
    "pycharm": {
     "name": "#%% md\n"
    }
   }
  },
  {
   "cell_type": "code",
   "execution_count": null,
   "outputs": [],
   "source": [
    "df = pd.read_csv('/datasets/yandex_music_project.csv')"
   ],
   "metadata": {
    "collapsed": false,
    "pycharm": {
     "name": "#%%\n"
    }
   }
  },
  {
   "cell_type": "markdown",
   "source": [
    "Выведите на экран первые десять строк таблицы:"
   ],
   "metadata": {
    "collapsed": false,
    "pycharm": {
     "name": "#%% md\n"
    }
   }
  },
  {
   "cell_type": "code",
   "execution_count": null,
   "outputs": [],
   "source": [
    "df.head(10)"
   ],
   "metadata": {
    "collapsed": false,
    "pycharm": {
     "name": "#%%\n"
    }
   }
  },
  {
   "cell_type": "markdown",
   "source": [
    "Одной командой получить общую информацию о таблице:"
   ],
   "metadata": {
    "collapsed": false,
    "pycharm": {
     "name": "#%% md\n"
    }
   }
  },
  {
   "cell_type": "code",
   "execution_count": null,
   "outputs": [],
   "source": [
    "df.info()"
   ],
   "metadata": {
    "collapsed": false,
    "pycharm": {
     "name": "#%%\n"
    }
   }
  },
  {
   "cell_type": "markdown",
   "source": [
    "Итак, в таблице семь столбцов. Тип данных во всех столбцах — `object`.\n",
    "\n",
    "Согласно документации к данным:\n",
    "* `userID` — идентификатор пользователя;\n",
    "* `Track` — название трека;  \n",
    "* `artist` — имя исполнителя;\n",
    "* `genre` — название жанра;\n",
    "* `City` — город пользователя;\n",
    "* `time` — время начала прослушивания;\n",
    "* `Day` — день недели.\n",
    "\n",
    "В названиях колонок видны три нарушения стиля:\n",
    "1. Строчные буквы сочетаются с прописными.\n",
    "2. Встречаются пробелы.\n",
    "3. camelCase вместо snake_case в поле userID\n",
    "\n",
    "\n",
    "Количество значений в столбцах различается. Значит, в данных есть пропущенные значения.\n"
   ],
   "metadata": {
    "collapsed": false,
    "pycharm": {
     "name": "#%% md\n"
    }
   }
  },
  {
   "cell_type": "markdown",
   "source": [
    "**Выводы**\n",
    "\n",
    "В каждой строке таблицы — данные о прослушанном треке. Часть колонок описывает саму композицию: название, исполнителя и жанр. Остальные данные рассказывают о пользователе: из какого он города, когда он слушал музыку. \n",
    "\n",
    "Предварительно можно утверждать, что, данных достаточно для проверки гипотез. Но встречаются пропуски в данных, а в названиях колонок — расхождения с хорошим стилем.\n",
    "\n",
    "Чтобы двигаться дальше, нужно устранить проблемы в данных."
   ],
   "metadata": {
    "collapsed": false,
    "pycharm": {
     "name": "#%% md\n"
    }
   }
  },
  {
   "cell_type": "markdown",
   "source": [
    "## Предобработка данных\n",
    "Исправьте стиль в заголовках столбцов, исключите пропуски. Затем проверьте данные на дубликаты."
   ],
   "metadata": {
    "collapsed": false,
    "pycharm": {
     "name": "#%% md\n"
    }
   }
  },
  {
   "cell_type": "markdown",
   "source": [
    "### Стиль заголовков\n",
    "Выведите на экран названия столбцов:"
   ],
   "metadata": {
    "collapsed": false,
    "pycharm": {
     "name": "#%% md\n"
    }
   }
  },
  {
   "cell_type": "code",
   "execution_count": null,
   "outputs": [],
   "source": [
    "df.columns"
   ],
   "metadata": {
    "collapsed": false,
    "pycharm": {
     "name": "#%%\n"
    }
   }
  },
  {
   "cell_type": "markdown",
   "source": [
    "Приведите названия в соответствие с хорошим стилем:\n",
    "* несколько слов в названии запишите в «змеином_регистре»,\n",
    "* все символы сделайте строчными,\n",
    "* устраните пробелы.\n",
    "\n",
    "Для этого переименуйте колонки так:\n",
    "* `'  userID'` → `'user_id'`;\n",
    "* `'Track'` → `'track'`;\n",
    "* `'  City  '` → `'city'`;\n",
    "* `'Day'` → `'day'`."
   ],
   "metadata": {
    "collapsed": false,
    "pycharm": {
     "name": "#%% md\n"
    }
   }
  },
  {
   "cell_type": "code",
   "execution_count": null,
   "outputs": [],
   "source": [
    "# переименование столбцов\n",
    "df.rename(columns={'  userID':'user_id', 'Track':'track', '  City  ':'city', 'Day':'day'},  inplace=True)"
   ],
   "metadata": {
    "collapsed": false,
    "pycharm": {
     "name": "#%%\n"
    }
   }
  },
  {
   "cell_type": "markdown",
   "source": [
    "Проверьте результат. Для этого ещё раз выведите на экран названия столбцов:"
   ],
   "metadata": {
    "collapsed": false,
    "pycharm": {
     "name": "#%% md\n"
    }
   }
  },
  {
   "cell_type": "code",
   "execution_count": null,
   "outputs": [],
   "source": [
    "# проверка результатов - перечень названий столбцов\n",
    "df.columns"
   ],
   "metadata": {
    "collapsed": false,
    "pycharm": {
     "name": "#%%\n"
    }
   }
  },
  {
   "cell_type": "markdown",
   "source": [
    "### Пропуски значений\n",
    "Сначала посчитайте, сколько в таблице пропущенных значений. Для этого достаточно двух методов `pandas`:"
   ],
   "metadata": {
    "collapsed": false,
    "pycharm": {
     "name": "#%% md\n"
    }
   }
  },
  {
   "cell_type": "code",
   "execution_count": null,
   "outputs": [],
   "source": [
    "# подсчёт пропусков\n",
    "print(df.isna().sum())"
   ],
   "metadata": {
    "collapsed": false,
    "pycharm": {
     "name": "#%%\n"
    }
   }
  },
  {
   "cell_type": "markdown",
   "source": [
    "Не все пропущенные значения влияют на исследование. Так в `track` и `artist` пропуски не важны для вашей работы. Достаточно заменить их явными обозначениями.\n",
    "\n",
    "Но пропуски в `genre` могут помешать сравнению музыкальных вкусов в Москве и Санкт-Петербурге. На практике было бы правильно установить причину пропусков и восстановить данные. Такой возможности нет в учебном проекте. Придётся:\n",
    "* заполнить и эти пропуски явными обозначениями,\n",
    "* оценить, насколько они повредят расчётам. "
   ],
   "metadata": {
    "collapsed": false,
    "pycharm": {
     "name": "#%% md\n"
    }
   }
  },
  {
   "cell_type": "markdown",
   "source": [
    "Замените пропущенные значения в столбцах `track`, `artist` и `genre` на строку `'unknown'`. Для этого создайте список `columns_to_replace`, переберите его элементы циклом `for` и для каждого столбца выполните замену пропущенных значений:"
   ],
   "metadata": {
    "collapsed": false,
    "pycharm": {
     "name": "#%% md\n"
    }
   }
  },
  {
   "cell_type": "code",
   "execution_count": null,
   "outputs": [],
   "source": [
    "columns_to_replace = ['track', 'artist', 'genre']\n",
    "for column in columns_to_replace:\n",
    "    df[column] = df[column].fillna('unknown')\n",
    "\n",
    "\n",
    "# или так:\n",
    "# df.fillna({'track': 'unknown', 'artist': 'unknown', 'genre':'unknown'}, inplace=True)"
   ],
   "metadata": {
    "collapsed": false,
    "pycharm": {
     "name": "#%%\n"
    }
   }
  },
  {
   "cell_type": "markdown",
   "source": [
    "Убедитесь, что в таблице не осталось пропусков. Для этого ещё раз посчитайте пропущенные значения."
   ],
   "metadata": {
    "collapsed": false,
    "pycharm": {
     "name": "#%% md\n"
    }
   }
  },
  {
   "cell_type": "code",
   "execution_count": null,
   "outputs": [],
   "source": [
    "# подсчёт пропусков\n",
    "df.isna().sum()"
   ],
   "metadata": {
    "collapsed": false,
    "pycharm": {
     "name": "#%%\n"
    }
   }
  },
  {
   "cell_type": "markdown",
   "source": [
    "### Дубликаты\n",
    "Посчитайте явные дубликаты в таблице одной командой:"
   ],
   "metadata": {
    "collapsed": false,
    "pycharm": {
     "name": "#%% md\n"
    }
   }
  },
  {
   "cell_type": "code",
   "execution_count": null,
   "outputs": [],
   "source": [
    "# подсчёт явных дубликатов\n",
    "print(df.duplicated().sum()) "
   ],
   "metadata": {
    "collapsed": false,
    "pycharm": {
     "name": "#%%\n"
    }
   }
  },
  {
   "cell_type": "markdown",
   "source": [
    "Вызовите специальный метод `pandas`, чтобы удалить явные дубликаты:"
   ],
   "metadata": {
    "collapsed": false,
    "pycharm": {
     "name": "#%% md\n"
    }
   }
  },
  {
   "cell_type": "code",
   "execution_count": null,
   "outputs": [],
   "source": [
    "# удаление явных дубликатов (с удалением старых индексов и формированием новых)\n",
    "df = df.drop_duplicates().reset_index(drop=True)"
   ],
   "metadata": {
    "collapsed": false,
    "pycharm": {
     "name": "#%%\n"
    }
   }
  },
  {
   "cell_type": "markdown",
   "source": [
    "Ещё раз посчитайте явные дубликаты в таблице — убедитесь, что полностью от них избавились:"
   ],
   "metadata": {
    "collapsed": false,
    "pycharm": {
     "name": "#%% md\n"
    }
   }
  },
  {
   "cell_type": "code",
   "execution_count": null,
   "outputs": [],
   "source": [
    "# проверка на отсутствие дубликатов\n",
    "print(df.duplicated().sum()) "
   ],
   "metadata": {
    "collapsed": false,
    "pycharm": {
     "name": "#%%\n"
    }
   }
  },
  {
   "cell_type": "markdown",
   "source": [
    "Теперь избавьтесь от неявных дубликатов в колонке `genre`. Например, название одного и того же жанра может быть записано немного по-разному. Такие ошибки тоже повлияют на результат исследования."
   ],
   "metadata": {
    "collapsed": false,
    "pycharm": {
     "name": "#%% md\n"
    }
   }
  },
  {
   "cell_type": "markdown",
   "source": [
    "Выведите на экран список уникальных названий жанров, отсортированный в алфавитном порядке. Для этого:\n",
    "* извлеките нужный столбец датафрейма, \n",
    "* примените к нему метод сортировки,\n",
    "* для отсортированного столбца вызовите метод, который вернёт уникальные значения из столбца."
   ],
   "metadata": {
    "collapsed": false,
    "pycharm": {
     "name": "#%% md\n"
    }
   }
  },
  {
   "cell_type": "code",
   "execution_count": null,
   "outputs": [],
   "source": [
    "# Просмотр уникальных названий жанров\n",
    "df['genre'].sort_values().unique()"
   ],
   "metadata": {
    "collapsed": false,
    "pycharm": {
     "name": "#%%\n"
    }
   }
  },
  {
   "cell_type": "markdown",
   "source": [
    "Просмотрите список и найдите неявные дубликаты названия `hiphop`. Это могут быть названия с ошибками или альтернативные названия того же жанра.\n",
    "\n",
    "Вы увидите следующие неявные дубликаты:\n",
    "* *hip*,\n",
    "* *hop*,\n",
    "* *hip-hop*.\n",
    "\n",
    "Чтобы очистить от них таблицу, напишите функцию `replace_wrong_genres()` с двумя параметрами: \n",
    "* `wrong_genres` — список дубликатов,\n",
    "* `correct_genre` — строка с правильным значением.\n",
    "\n",
    "Функция должна исправить колонку `genre` в таблице `df`: заменить каждое значение из списка `wrong_genres` на значение из `correct_genre`."
   ],
   "metadata": {
    "collapsed": false,
    "pycharm": {
     "name": "#%% md\n"
    }
   }
  },
  {
   "cell_type": "code",
   "execution_count": null,
   "outputs": [],
   "source": [
    "# Функция для замены неявных дубликатов\n",
    "def replace_wrong_genres(wrong_genres, correct_genre):\n",
    "    for wrong_genre in wrong_genres:\n",
    "        df['genre'] = df['genre'].replace(wrong_genre, correct_genre)"
   ],
   "metadata": {
    "collapsed": false,
    "pycharm": {
     "name": "#%%\n"
    }
   }
  },
  {
   "cell_type": "markdown",
   "source": [
    "Вызовите `replace_wrong_genres()` и передайте ей такие аргументы, чтобы она устранила неявные дубликаты: вместо `hip`, `hop` и `hip-hop` в таблице должно быть значение `hiphop`:"
   ],
   "metadata": {
    "collapsed": false,
    "pycharm": {
     "name": "#%% md\n"
    }
   }
  },
  {
   "cell_type": "code",
   "execution_count": null,
   "outputs": [],
   "source": [
    "# Устранение неявных дубликатов\n",
    "replace_wrong_genres(['hip', 'hop', 'hip-hop'], 'hiphop')\n",
    "\n",
    "# или так:\n",
    "#df['genre'].replace(['hip', 'hop', 'hip-hop'], 'hiphop', inplace=True)"
   ],
   "metadata": {
    "collapsed": false,
    "pycharm": {
     "name": "#%%\n"
    }
   }
  },
  {
   "cell_type": "markdown",
   "source": [
    "Проверьте, что заменили неправильные названия:\n",
    "\n",
    "*   hip\n",
    "*   hop\n",
    "*   hip-hop\n",
    "\n",
    "Выведите отсортированный список уникальных значений столбца `genre`:"
   ],
   "metadata": {
    "collapsed": false,
    "pycharm": {
     "name": "#%% md\n"
    }
   }
  },
  {
   "cell_type": "code",
   "execution_count": null,
   "outputs": [],
   "source": [
    "# Проверка на неявные дубликаты\n",
    "df['genre'].sort_values().unique()"
   ],
   "metadata": {
    "collapsed": false,
    "pycharm": {
     "name": "#%%\n"
    }
   }
  },
  {
   "cell_type": "markdown",
   "source": [
    "**Выводы**\n",
    "\n",
    "Предобработка обнаружила три проблемы в данных:\n",
    "\n",
    "- нарушения в стиле заголовков,\n",
    "- пропущенные значения,\n",
    "- дубликаты — явные и неявные.\n",
    "\n",
    "Вы исправили заголовки, чтобы упростить работу с таблицей. Без дубликатов исследование станет более точным.\n",
    "\n",
    "Пропущенные значения вы заменили на `'unknown'`. Ещё предстоит увидеть, не повредят ли исследованию пропуски в колонке `genre`.\n",
    "\n",
    "Теперь можно перейти к проверке гипотез. "
   ],
   "metadata": {
    "collapsed": false,
    "pycharm": {
     "name": "#%% md\n"
    }
   }
  },
  {
   "cell_type": "markdown",
   "source": [
    "## Проверка гипотез"
   ],
   "metadata": {
    "collapsed": false,
    "pycharm": {
     "name": "#%% md\n"
    }
   }
  },
  {
   "cell_type": "markdown",
   "source": [
    "### Сравнение поведения пользователей двух столиц"
   ],
   "metadata": {
    "collapsed": false,
    "pycharm": {
     "name": "#%% md\n"
    }
   }
  },
  {
   "cell_type": "markdown",
   "source": [
    "Первая гипотеза утверждает, что пользователи по-разному слушают музыку в Москве и Санкт-Петербурге. Проверьте это предположение по данным о трёх днях недели — понедельнике, среде и пятнице. Для этого:\n",
    "\n",
    "* Разделите пользователей Москвы и Санкт-Петербурга\n",
    "* Сравните, сколько треков послушала каждая группа пользователей в понедельник, среду и пятницу.\n"
   ],
   "metadata": {
    "collapsed": false,
    "pycharm": {
     "name": "#%% md\n"
    }
   }
  },
  {
   "cell_type": "markdown",
   "source": [
    "Для тренировки сначала выполните каждый из расчётов по отдельности. \n",
    "\n",
    "Оцените активность пользователей в каждом городе. Сгруппируйте данные по городу и посчитайте прослушивания в каждой группе.\n",
    "\n"
   ],
   "metadata": {
    "collapsed": false,
    "pycharm": {
     "name": "#%% md\n"
    }
   }
  },
  {
   "cell_type": "code",
   "execution_count": null,
   "outputs": [],
   "source": [
    "# Подсчёт прослушиваний в каждом городе\n",
    "df.groupby('city')['user_id'].count()"
   ],
   "metadata": {
    "collapsed": false,
    "pycharm": {
     "name": "#%%\n"
    }
   }
  },
  {
   "cell_type": "markdown",
   "source": [
    "В Москве прослушиваний больше, чем в Петербурге. Из этого не следует, что московские пользователи чаще слушают музыку. Просто самих пользователей в Москве больше.\n",
    "\n",
    "Теперь сгруппируйте данные по дню недели и подсчитайте прослушивания в понедельник, среду и пятницу. Учтите, что в данных есть информация только о прослушиваниях только за эти дни.\n"
   ],
   "metadata": {
    "collapsed": false,
    "pycharm": {
     "name": "#%% md\n"
    }
   }
  },
  {
   "cell_type": "code",
   "execution_count": null,
   "outputs": [],
   "source": [
    "# Подсчёт прослушиваний в каждый из трёх дней\n",
    "df.groupby('day')['user_id'].count()"
   ],
   "metadata": {
    "collapsed": false,
    "pycharm": {
     "name": "#%%\n"
    }
   }
  },
  {
   "cell_type": "markdown",
   "source": [
    "В среднем пользователи из двух городов менее активны по средам. Но картина может измениться, если рассмотреть каждый город в отдельности."
   ],
   "metadata": {
    "collapsed": false,
    "pycharm": {
     "name": "#%% md\n"
    }
   }
  },
  {
   "cell_type": "markdown",
   "source": [
    "Вы видели, как работает группировка по городу и по дням недели. Теперь напишите функцию, которая объединит два эти расчёта.\n",
    "\n",
    "Создайте функцию `number_tracks()`, которая посчитает прослушивания для заданного дня и города. Ей понадобятся два параметра:\n",
    "* день недели,\n",
    "* название города.\n",
    "\n",
    "В функции сохраните в переменную строки исходной таблицы, у которых значение:\n",
    "  * в колонке `day` равно параметру `day`,\n",
    "  * в колонке `city` равно параметру `city`.\n",
    "\n",
    "Для этого примените последовательную фильтрацию с логической индексацией.\n",
    "\n",
    "Затем посчитайте значения в столбце `user_id` получившейся таблицы. Результат сохраните в новую переменную. Верните эту переменную из функции."
   ],
   "metadata": {
    "collapsed": false,
    "pycharm": {
     "name": "#%% md\n"
    }
   }
  },
  {
   "cell_type": "code",
   "execution_count": null,
   "outputs": [],
   "source": [
    "def number_tracks(day, city):\n",
    "    track_list = df[(df['day'] == day) & (df['city'] == city)]\n",
    "    track_list_count = track_list['user_id'].count()\n",
    "    return track_list_count"
   ],
   "metadata": {
    "collapsed": false,
    "pycharm": {
     "name": "#%%\n"
    }
   }
  },
  {
   "cell_type": "markdown",
   "source": [
    "Вызовите `number_tracks()` шесть раз, меняя значение параметров — так, чтобы получить данные для каждого города в каждый из трёх дней."
   ],
   "metadata": {
    "collapsed": false,
    "pycharm": {
     "name": "#%% md\n"
    }
   }
  },
  {
   "cell_type": "code",
   "execution_count": null,
   "outputs": [],
   "source": [
    "# количество прослушиваний в Москве по понедельникам\n",
    "number_tracks('Monday', 'Moscow')"
   ],
   "metadata": {
    "collapsed": false,
    "pycharm": {
     "name": "#%%\n"
    }
   }
  },
  {
   "cell_type": "code",
   "execution_count": null,
   "outputs": [],
   "source": [
    "# количество прослушиваний в Санкт-Петербурге по понедельникам\n",
    "number_tracks('Monday', 'Saint-Petersburg')"
   ],
   "metadata": {
    "collapsed": false,
    "pycharm": {
     "name": "#%%\n"
    }
   }
  },
  {
   "cell_type": "code",
   "execution_count": null,
   "outputs": [],
   "source": [
    "# количество прослушиваний в Москве по средам\n",
    "number_tracks('Wednesday', 'Moscow')"
   ],
   "metadata": {
    "collapsed": false,
    "pycharm": {
     "name": "#%%\n"
    }
   }
  },
  {
   "cell_type": "code",
   "execution_count": null,
   "outputs": [],
   "source": [
    "# количество прослушиваний в Санкт-Петербурге по средам\n",
    "number_tracks('Wednesday', 'Saint-Petersburg')"
   ],
   "metadata": {
    "collapsed": false,
    "pycharm": {
     "name": "#%%\n"
    }
   }
  },
  {
   "cell_type": "code",
   "execution_count": null,
   "outputs": [],
   "source": [
    "# количество прослушиваний в Москве по пятницам\n",
    "number_tracks('Friday', 'Moscow')"
   ],
   "metadata": {
    "collapsed": false,
    "pycharm": {
     "name": "#%%\n"
    }
   }
  },
  {
   "cell_type": "code",
   "execution_count": null,
   "outputs": [],
   "source": [
    "# количество прослушиваний в Санкт-Петербурге по пятницам\n",
    "number_tracks('Friday', 'Saint-Petersburg')"
   ],
   "metadata": {
    "collapsed": false,
    "pycharm": {
     "name": "#%%\n"
    }
   }
  },
  {
   "cell_type": "code",
   "execution_count": null,
   "outputs": [],
   "source": [
    "# или так:\n",
    "data = df.groupby(['city', 'day'])['user_id'].count()\n",
    "data"
   ],
   "metadata": {
    "collapsed": false,
    "pycharm": {
     "name": "#%%\n"
    }
   }
  },
  {
   "cell_type": "markdown",
   "source": [
    "Создайте c помощью конструктора `pd.DataFrame` таблицу, где\n",
    "* названия колонок — `['city', 'monday', 'wednesday', 'friday']`;\n",
    "* данные — результаты, которые вы получили с помощью `number_tracks`."
   ],
   "metadata": {
    "collapsed": false,
    "pycharm": {
     "name": "#%% md\n"
    }
   }
  },
  {
   "cell_type": "code",
   "execution_count": null,
   "outputs": [],
   "source": [
    "# Таблица с результатами\n",
    "\n",
    "columns = ['city', 'friday', 'monday', 'wednesday']\n",
    "df_2 = pd.DataFrame(\n",
    "    data=[\n",
    "        [\n",
    "            'Moscow', \n",
    "            number_tracks('Monday', 'Moscow'),\n",
    "            number_tracks('Wednesday', 'Moscow'),\n",
    "            number_tracks('Friday', 'Moscow')\n",
    "        ], \n",
    "        [\n",
    "            'Saint-Petersburg', \n",
    "            number_tracks('Monday', 'Saint-Petersburg'),\n",
    "            number_tracks('Wednesday', 'Saint-Petersburg'),\n",
    "            number_tracks('Friday', 'Saint-Petersburg')\n",
    "        ],\n",
    "    ],\n",
    "    columns=columns)"
   ],
   "metadata": {
    "collapsed": false,
    "pycharm": {
     "name": "#%%\n"
    }
   }
  },
  {
   "cell_type": "code",
   "execution_count": null,
   "outputs": [],
   "source": [
    "df_2.head()"
   ],
   "metadata": {
    "collapsed": false,
    "pycharm": {
     "name": "#%%\n"
    }
   }
  },
  {
   "cell_type": "markdown",
   "source": [
    "<div class=\"alert alert-success\">\n",
    "<b>✔️ Комментарий ревьюера:</b> \n",
    "<br>Датафрейм построен верно, но не забывай его выводить)\n",
    "</div>"
   ],
   "metadata": {
    "collapsed": false,
    "pycharm": {
     "name": "#%% md\n"
    }
   }
  },
  {
   "cell_type": "markdown",
   "source": [
    "**Выводы**\n",
    "\n",
    "Данные показывают разницу поведения пользователей:\n",
    "\n",
    "- В Москве пик прослушиваний приходится на понедельник и пятницу, а в среду заметен спад.\n",
    "- В Петербурге, наоборот, больше слушают музыку по средам. Активность в понедельник и пятницу здесь почти в равной мере уступает среде.\n",
    "\n",
    "Значит, данные говорят в пользу первой гипотезы."
   ],
   "metadata": {
    "collapsed": false,
    "pycharm": {
     "name": "#%% md\n"
    }
   }
  },
  {
   "cell_type": "markdown",
   "source": [
    "### Музыка в начале и в конце недели"
   ],
   "metadata": {
    "collapsed": false,
    "pycharm": {
     "name": "#%% md\n"
    }
   }
  },
  {
   "cell_type": "markdown",
   "source": [
    "Согласно второй гипотезе, утром в понедельник в Москве преобладают одни жанры, а в Петербурге — другие. Так же и вечером пятницы преобладают разные жанры — в зависимости от города."
   ],
   "metadata": {
    "collapsed": false,
    "pycharm": {
     "name": "#%% md\n"
    }
   }
  },
  {
   "cell_type": "markdown",
   "source": [
    "Сохраните таблицы с данными в две переменные:\n",
    "* по Москве — в `moscow_general`;\n",
    "* по Санкт-Петербургу — в `spb_general`."
   ],
   "metadata": {
    "collapsed": false,
    "pycharm": {
     "name": "#%% md\n"
    }
   }
  },
  {
   "cell_type": "code",
   "execution_count": null,
   "outputs": [],
   "source": [
    "# получение таблицы moscow_general из тех строк таблицы df, \n",
    "# для которых значение в столбце 'city' равно 'Moscow'\n",
    "moscow_general = df[df['city']=='Moscow']"
   ],
   "metadata": {
    "collapsed": false,
    "pycharm": {
     "name": "#%%\n"
    }
   }
  },
  {
   "cell_type": "code",
   "execution_count": null,
   "outputs": [],
   "source": [
    "# получение таблицы spb_general из тех строк таблицы df,\n",
    "# для которых значение в столбце 'city' равно 'Saint-Petersburg'\n",
    "spb_general = df[df['city']=='Saint-Petersburg']"
   ],
   "metadata": {
    "collapsed": false,
    "pycharm": {
     "name": "#%%\n"
    }
   }
  },
  {
   "cell_type": "markdown",
   "source": [
    "Создайте функцию `genre_weekday()` с четырьмя параметрами:\n",
    "* таблица (датафрейм) с данными,\n",
    "* день недели,\n",
    "* начальная временная метка в формате 'hh:mm', \n",
    "* последняя временная метка в формате 'hh:mm'.\n",
    "\n",
    "Функция должна вернуть информацию о топ-10 жанров тех треков, которые прослушивали в указанный день, в промежутке между двумя отметками времени."
   ],
   "metadata": {
    "collapsed": false,
    "pycharm": {
     "name": "#%% md\n"
    }
   }
  },
  {
   "cell_type": "code",
   "execution_count": null,
   "outputs": [],
   "source": [
    "def genre_weekday(table, day, time1, time2):\n",
    "    genre_df = table[\n",
    "        (table['time'] >=time1) & \n",
    "        (table['time'] <=time2) &\n",
    "        (table.day == day)\n",
    "    ]\n",
    "    genre_df_count = genre_df.groupby('genre').count()['user_id']\n",
    "    genre_df_sorted = genre_df_count.sort_values( ascending=False)\n",
    "    return genre_df_sorted[:10]"
   ],
   "metadata": {
    "collapsed": false,
    "pycharm": {
     "name": "#%%\n"
    }
   }
  },
  {
   "cell_type": "markdown",
   "source": [
    "Cравните результаты функции `genre_weekday()` для Москвы и Санкт-Петербурга в понедельник утром (с 7:00 до 11:00) и в пятницу вечером (с 17:00 до 23:00):"
   ],
   "metadata": {
    "collapsed": false,
    "pycharm": {
     "name": "#%% md\n"
    }
   }
  },
  {
   "cell_type": "code",
   "execution_count": null,
   "outputs": [],
   "source": [
    "# вызов функции для утра понедельника в Москве (вместо df — таблица moscow_general)\n",
    "# объекты, хранящие время, являются строками и сравниваются как строки\n",
    "# пример вызова: genre_weekday(moscow_general, 'Monday', '07:00', '11:00')\n",
    "genre_weekday(moscow_general, 'Monday', '07:00', '11:00')"
   ],
   "metadata": {
    "collapsed": false,
    "pycharm": {
     "name": "#%%\n"
    }
   }
  },
  {
   "cell_type": "code",
   "execution_count": null,
   "outputs": [],
   "source": [
    "# вызов функции для утра понедельника в Петербурге (вместо df — таблица spb_general)\n",
    "genre_weekday(spb_general, 'Monday', '07:00', '11:00')"
   ],
   "metadata": {
    "collapsed": false,
    "pycharm": {
     "name": "#%%\n"
    }
   }
  },
  {
   "cell_type": "code",
   "execution_count": null,
   "outputs": [],
   "source": [
    "# вызов функции для вечера пятницы в Москве\n",
    "genre_weekday(moscow_general, 'Friday', '17:00', '23:00')"
   ],
   "metadata": {
    "collapsed": false,
    "pycharm": {
     "name": "#%%\n"
    }
   }
  },
  {
   "cell_type": "code",
   "execution_count": null,
   "outputs": [],
   "source": [
    "# вызов функции для вечера пятницы в Петербурге\n",
    "genre_weekday(spb_general, 'Friday', '17:00:00', '23:00')"
   ],
   "metadata": {
    "collapsed": false,
    "pycharm": {
     "name": "#%%\n"
    }
   }
  },
  {
   "cell_type": "markdown",
   "source": [
    "**Выводы**\n",
    "\n",
    "Если сравнить топ-10 жанров в понедельник утром, можно сделать такие выводы:\n",
    "\n",
    "1. В Москве и Петербурге слушают похожую музыку. Единственное отличие — в московский рейтинг вошёл жанр “world”, а в петербургский — джаз и классика.\n",
    "\n",
    "2. В Москве пропущенных значений оказалось так много, что значение `'unknown'` заняло десятое место среди самых популярных жанров. Значит, пропущенные значения занимают существенную долю в данных и угрожают достоверности исследования.\n",
    "\n",
    "Вечер пятницы не меняет эту картину. Некоторые жанры поднимаются немного выше, другие спускаются, но в целом топ-10 остаётся тем же самым.\n",
    "\n",
    "Таким образом, вторая гипотеза подтвердилась лишь частично:\n",
    "* Пользователи слушают похожую музыку в начале недели и в конце.\n",
    "* Разница между Москвой и Петербургом не слишком выражена. В Москве чаще слушают русскую популярную музыку, в Петербурге — джаз.\n",
    "\n",
    "Однако пропуски в данных ставят под сомнение этот результат. В Москве их так много, что рейтинг топ-10 мог бы выглядеть иначе, если бы не утерянные  данные о жанрах."
   ],
   "metadata": {
    "collapsed": false,
    "pycharm": {
     "name": "#%% md\n"
    }
   }
  },
  {
   "cell_type": "markdown",
   "source": [
    "### Жанровые предпочтения в Москве и Петербурге\n",
    "\n",
    "Гипотеза: Петербург — столица рэпа, музыку этого жанра там слушают чаще, чем в Москве.  А Москва — город контрастов, в котором, тем не менее, преобладает поп-музыка."
   ],
   "metadata": {
    "collapsed": false,
    "pycharm": {
     "name": "#%% md\n"
    }
   }
  },
  {
   "cell_type": "markdown",
   "source": [
    "Сгруппируйте таблицу `moscow_general` по жанру и посчитайте прослушивания треков каждого жанра методом `count()`. Затем отсортируйте результат в порядке убывания и сохраните его в таблице `moscow_genres`."
   ],
   "metadata": {
    "collapsed": false,
    "pycharm": {
     "name": "#%% md\n"
    }
   }
  },
  {
   "cell_type": "code",
   "execution_count": null,
   "outputs": [],
   "source": [
    "# одной строкой: группировка таблицы moscow_general по столбцу 'genre', \n",
    "# подсчёт числа значений 'genre' в этой группировке методом count(), \n",
    "# сортировка получившегося Series в порядке убывания и сохранение в moscow_genres\n",
    "moscow_genres = moscow_general.groupby('genre')['user_id'].count().sort_values(ascending=False)\n"
   ],
   "metadata": {
    "collapsed": false,
    "pycharm": {
     "name": "#%%\n"
    }
   }
  },
  {
   "cell_type": "markdown",
   "source": [
    "Выведите на экран первые десять строк `moscow_genres`:"
   ],
   "metadata": {
    "collapsed": false,
    "pycharm": {
     "name": "#%% md\n"
    }
   }
  },
  {
   "cell_type": "code",
   "execution_count": null,
   "outputs": [],
   "source": [
    "# просмотр первых 10 строк moscow_genres\n",
    "moscow_genres.head(10)"
   ],
   "metadata": {
    "collapsed": false,
    "pycharm": {
     "name": "#%%\n"
    }
   }
  },
  {
   "cell_type": "markdown",
   "source": [
    "Теперь повторите то же и для Петербурга.\n",
    "\n",
    "Сгруппируйте таблицу `spb_general` по жанру. Посчитайте прослушивания треков каждого жанра. Результат отсортируйте в порядке убывания и сохраните в таблице `spb_genres`:\n"
   ],
   "metadata": {
    "collapsed": false,
    "pycharm": {
     "name": "#%% md\n"
    }
   }
  },
  {
   "cell_type": "code",
   "execution_count": null,
   "outputs": [],
   "source": [
    "# одной строкой: группировка таблицы spb_general по столбцу 'genre', \n",
    "# подсчёт числа значений 'genre' в этой группировке методом count(), \n",
    "# сортировка получившегося Series в порядке убывания и сохранение в spb_genres\n",
    "spb_genres = spb_general.groupby('genre')['user_id'].count().sort_values(ascending=False)"
   ],
   "metadata": {
    "collapsed": false,
    "pycharm": {
     "name": "#%%\n"
    }
   }
  },
  {
   "cell_type": "markdown",
   "source": [
    "Выведите на экран первые десять строк `spb_genres`:"
   ],
   "metadata": {
    "collapsed": false,
    "pycharm": {
     "name": "#%% md\n"
    }
   }
  },
  {
   "cell_type": "code",
   "execution_count": null,
   "outputs": [],
   "source": [
    "# просмотр первых 10 строк spb_genres\n",
    "spb_genres.head(10)"
   ],
   "metadata": {
    "collapsed": false,
    "pycharm": {
     "name": "#%%\n"
    }
   }
  },
  {
   "cell_type": "markdown",
   "source": [
    "**Выводы**"
   ],
   "metadata": {
    "collapsed": false,
    "pycharm": {
     "name": "#%% md\n"
    }
   }
  },
  {
   "cell_type": "markdown",
   "source": [
    "Гипотеза частично подтвердилась:\n",
    "* Поп-музыка — самый популярный жанр в Москве, как и предполагала гипотеза. Более того, в топ-10 жанров встречается близкий жанр — русская популярная музыка.\n",
    "* Вопреки ожиданиям, рэп одинаково популярен в Москве и Петербурге. \n"
   ],
   "metadata": {
    "collapsed": false,
    "pycharm": {
     "name": "#%% md\n"
    }
   }
  },
  {
   "cell_type": "markdown",
   "source": [
    "## Итоги исследования"
   ],
   "metadata": {
    "collapsed": false,
    "pycharm": {
     "name": "#%% md\n"
    }
   }
  },
  {
   "cell_type": "markdown",
   "source": [
    "Вы проверили три гипотезы и установили:\n",
    "\n",
    "1. День недели по-разному влияет на активность пользователей в Москве и Петербурге. \n",
    "\n",
    "Первая гипотеза полностью подтвердилась.\n",
    "\n",
    "2. Музыкальные предпочтения не сильно меняются в течение недели — будь то Москва или Петербург. Небольшие различия заметны в начале недели, по понедельникам:\n",
    "* в Москве слушают музыку жанра “world”,\n",
    "* в Петербурге — джаз и классику.\n",
    "\n",
    "Таким образом, вторая гипотеза подтвердилась лишь отчасти. Этот результат мог оказаться иным, если бы не пропуски в данных.\n",
    "\n",
    "3. Во вкусах пользователей Москвы и Петербурга больше общего чем различий. Вопреки ожиданиям, предпочтения жанров в Петербурге напоминают московские.\n",
    "\n",
    "Третья гипотеза не подтвердилась. Если различия в предпочтениях и существуют, на основной массе пользователей они незаметны.\n",
    "\n",
    "**На практике исследования содержат проверки статистических гипотез.**\n",
    "Из данных одного сервиса не всегда можно сделать вывод о всех жителях города.\n",
    "Проверки статистических гипотез покажут, насколько они достоверны, исходя из имеющихся данных. \n",
    "С методами проверок гипотез вы ещё познакомитесь в следующих темах."
   ],
   "metadata": {
    "collapsed": false,
    "pycharm": {
     "name": "#%% md\n"
    }
   }
  }
 ],
 "metadata": {
  "ExecuteTimeLog": [
   {
    "duration": 445,
    "start_time": "2022-02-10T15:58:29.771Z"
   },
   {
    "duration": 722,
    "start_time": "2022-02-10T15:58:35.105Z"
   },
   {
    "duration": 179,
    "start_time": "2022-02-10T15:59:20.417Z"
   },
   {
    "duration": 29,
    "start_time": "2022-02-10T16:00:46.142Z"
   },
   {
    "duration": 34,
    "start_time": "2022-02-10T16:01:01.141Z"
   },
   {
    "duration": 6,
    "start_time": "2022-02-10T16:02:05.541Z"
   },
   {
    "duration": 438,
    "start_time": "2022-02-10T16:02:10.139Z"
   },
   {
    "duration": 5,
    "start_time": "2022-02-10T16:02:12.520Z"
   },
   {
    "duration": 5,
    "start_time": "2022-02-10T16:04:16.703Z"
   },
   {
    "duration": 5,
    "start_time": "2022-02-10T16:04:23.149Z"
   },
   {
    "duration": 5,
    "start_time": "2022-02-10T16:04:29.026Z"
   },
   {
    "duration": 122,
    "start_time": "2022-02-10T16:04:43.519Z"
   },
   {
    "duration": 38,
    "start_time": "2022-02-10T16:04:53.128Z"
   },
   {
    "duration": 5,
    "start_time": "2022-02-10T16:08:46.752Z"
   },
   {
    "duration": 311,
    "start_time": "2022-02-10T16:09:06.949Z"
   },
   {
    "duration": 16,
    "start_time": "2022-02-10T16:09:22.634Z"
   },
   {
    "duration": 6,
    "start_time": "2022-02-10T16:09:23.698Z"
   },
   {
    "duration": 392,
    "start_time": "2022-02-10T16:10:21.160Z"
   },
   {
    "duration": 30,
    "start_time": "2022-02-10T16:10:25.528Z"
   },
   {
    "duration": 389,
    "start_time": "2022-02-10T16:16:59.726Z"
   },
   {
    "duration": 387,
    "start_time": "2022-02-10T16:17:11.959Z"
   },
   {
    "duration": 38,
    "start_time": "2022-02-10T16:18:19.980Z"
   },
   {
    "duration": 31,
    "start_time": "2022-02-10T16:19:14.636Z"
   },
   {
    "duration": 25,
    "start_time": "2022-02-10T16:19:26.328Z"
   },
   {
    "duration": 129,
    "start_time": "2022-02-10T16:22:27.161Z"
   },
   {
    "duration": 33,
    "start_time": "2022-02-10T16:22:32.345Z"
   },
   {
    "duration": 29,
    "start_time": "2022-02-10T16:22:37.161Z"
   },
   {
    "duration": 19,
    "start_time": "2022-02-10T16:22:46.760Z"
   },
   {
    "duration": 29,
    "start_time": "2022-02-10T16:22:48.820Z"
   },
   {
    "duration": 85,
    "start_time": "2022-02-10T16:24:03.168Z"
   },
   {
    "duration": 94,
    "start_time": "2022-02-10T16:26:18.800Z"
   },
   {
    "duration": 74,
    "start_time": "2022-02-10T16:26:28.082Z"
   },
   {
    "duration": 370,
    "start_time": "2022-02-10T16:27:53.578Z"
   },
   {
    "duration": 57,
    "start_time": "2022-02-10T16:28:42.363Z"
   },
   {
    "duration": 62,
    "start_time": "2022-02-10T16:29:23.243Z"
   },
   {
    "duration": 13,
    "start_time": "2022-02-10T16:34:29.953Z"
   },
   {
    "duration": 9,
    "start_time": "2022-02-10T16:35:02.231Z"
   },
   {
    "duration": 60,
    "start_time": "2022-02-10T16:39:50.684Z"
   },
   {
    "duration": 7987,
    "start_time": "2022-02-10T16:46:07.650Z"
   },
   {
    "duration": 883,
    "start_time": "2022-02-10T16:46:51.670Z"
   },
   {
    "duration": 111,
    "start_time": "2022-02-10T16:47:10.812Z"
   },
   {
    "duration": 48,
    "start_time": "2022-02-10T16:47:14.525Z"
   },
   {
    "duration": 40,
    "start_time": "2022-02-10T16:48:08.598Z"
   },
   {
    "duration": 14,
    "start_time": "2022-02-10T16:48:34.829Z"
   },
   {
    "duration": 30,
    "start_time": "2022-02-10T16:49:49.425Z"
   },
   {
    "duration": 44,
    "start_time": "2022-02-10T16:50:01.306Z"
   },
   {
    "duration": 48,
    "start_time": "2022-02-10T16:51:15.540Z"
   },
   {
    "duration": 22,
    "start_time": "2022-02-10T16:51:27.384Z"
   },
   {
    "duration": 20,
    "start_time": "2022-02-10T16:52:25.517Z"
   },
   {
    "duration": 22,
    "start_time": "2022-02-10T16:52:31.354Z"
   },
   {
    "duration": 20,
    "start_time": "2022-02-10T16:52:35.071Z"
   },
   {
    "duration": 20,
    "start_time": "2022-02-10T16:52:37.995Z"
   },
   {
    "duration": 21,
    "start_time": "2022-02-10T16:52:41.626Z"
   },
   {
    "duration": 22,
    "start_time": "2022-02-10T16:52:49.655Z"
   },
   {
    "duration": 361,
    "start_time": "2022-02-10T16:57:29.527Z"
   },
   {
    "duration": 13,
    "start_time": "2022-02-10T16:58:05.492Z"
   },
   {
    "duration": 12,
    "start_time": "2022-02-10T16:59:15.278Z"
   },
   {
    "duration": -632,
    "start_time": "2022-02-10T17:01:48.125Z"
   },
   {
    "duration": 9746,
    "start_time": "2022-02-10T17:01:52.423Z"
   },
   {
    "duration": 15,
    "start_time": "2022-02-10T17:02:22.077Z"
   },
   {
    "duration": 29,
    "start_time": "2022-02-10T17:03:49.145Z"
   },
   {
    "duration": 15,
    "start_time": "2022-02-10T17:10:37.761Z"
   },
   {
    "duration": 13,
    "start_time": "2022-02-10T17:10:42.695Z"
   },
   {
    "duration": 17,
    "start_time": "2022-02-10T17:14:38.832Z"
   },
   {
    "duration": 5,
    "start_time": "2022-02-10T17:15:50.757Z"
   },
   {
    "duration": 4,
    "start_time": "2022-02-10T17:15:53.634Z"
   },
   {
    "duration": 18,
    "start_time": "2022-02-10T17:15:59.906Z"
   },
   {
    "duration": 14,
    "start_time": "2022-02-10T17:16:15.879Z"
   },
   {
    "duration": 30,
    "start_time": "2022-02-10T17:16:56.969Z"
   },
   {
    "duration": 14,
    "start_time": "2022-02-10T17:17:06.095Z"
   },
   {
    "duration": 34,
    "start_time": "2022-02-10T17:17:10.434Z"
   },
   {
    "duration": 29,
    "start_time": "2022-02-10T17:17:22.970Z"
   },
   {
    "duration": 16,
    "start_time": "2022-02-10T17:17:26.264Z"
   },
   {
    "duration": 27,
    "start_time": "2022-02-10T17:17:29.059Z"
   },
   {
    "duration": 28,
    "start_time": "2022-02-10T17:17:37.564Z"
   },
   {
    "duration": 15,
    "start_time": "2022-02-10T17:17:50.940Z"
   },
   {
    "duration": 15,
    "start_time": "2022-02-10T17:17:57.200Z"
   },
   {
    "duration": 31,
    "start_time": "2022-02-10T17:18:01.448Z"
   },
   {
    "duration": 35,
    "start_time": "2022-02-10T17:18:18.313Z"
   },
   {
    "duration": 17,
    "start_time": "2022-02-10T17:18:35.261Z"
   },
   {
    "duration": 33,
    "start_time": "2022-02-10T17:18:42.295Z"
   },
   {
    "duration": 373,
    "start_time": "2022-02-10T17:19:46.951Z"
   },
   {
    "duration": 32,
    "start_time": "2022-02-10T17:19:58.327Z"
   },
   {
    "duration": 33,
    "start_time": "2022-02-10T17:20:23.614Z"
   },
   {
    "duration": 51,
    "start_time": "2022-02-10T17:20:38.818Z"
   },
   {
    "duration": 18,
    "start_time": "2022-02-10T17:20:47.366Z"
   },
   {
    "duration": 5,
    "start_time": "2022-02-10T17:21:01.605Z"
   },
   {
    "duration": 5,
    "start_time": "2022-02-10T17:21:04.627Z"
   },
   {
    "duration": 6,
    "start_time": "2022-02-10T17:21:07.705Z"
   },
   {
    "duration": 5,
    "start_time": "2022-02-10T17:21:18.781Z"
   },
   {
    "duration": 5,
    "start_time": "2022-02-10T17:21:21.507Z"
   },
   {
    "duration": 5,
    "start_time": "2022-02-10T17:21:25.369Z"
   },
   {
    "duration": 4,
    "start_time": "2022-02-10T17:21:28.877Z"
   },
   {
    "duration": 7,
    "start_time": "2022-02-10T17:22:52.887Z"
   },
   {
    "duration": 5710,
    "start_time": "2022-02-10T17:25:34.210Z"
   },
   {
    "duration": 5,
    "start_time": "2022-02-10T17:25:48.955Z"
   },
   {
    "duration": 367,
    "start_time": "2022-02-10T17:25:55.709Z"
   },
   {
    "duration": 12754,
    "start_time": "2022-02-10T17:28:46.035Z"
   },
   {
    "duration": 9511,
    "start_time": "2022-02-10T17:29:39.741Z"
   },
   {
    "duration": 4750,
    "start_time": "2022-02-10T17:34:15.246Z"
   },
   {
    "duration": 9358,
    "start_time": "2022-02-10T17:34:46.442Z"
   },
   {
    "duration": 235,
    "start_time": "2022-02-10T17:35:59.160Z"
   },
   {
    "duration": 218,
    "start_time": "2022-02-10T17:36:12.614Z"
   },
   {
    "duration": 7,
    "start_time": "2022-02-10T17:37:19.822Z"
   },
   {
    "duration": 393,
    "start_time": "2022-02-10T17:38:02.321Z"
   },
   {
    "duration": 394,
    "start_time": "2022-02-10T17:38:39.335Z"
   },
   {
    "duration": 382,
    "start_time": "2022-02-10T17:38:47.059Z"
   },
   {
    "duration": 6,
    "start_time": "2022-02-10T17:39:08.007Z"
   },
   {
    "duration": 377,
    "start_time": "2022-02-10T17:39:16.510Z"
   },
   {
    "duration": 356,
    "start_time": "2022-02-10T17:39:28.637Z"
   },
   {
    "duration": 5,
    "start_time": "2022-02-10T17:39:36.245Z"
   },
   {
    "duration": 6,
    "start_time": "2022-02-10T17:39:38.840Z"
   },
   {
    "duration": 364,
    "start_time": "2022-02-10T17:42:26.985Z"
   },
   {
    "duration": 4,
    "start_time": "2022-02-10T17:43:00.217Z"
   },
   {
    "duration": 207,
    "start_time": "2022-02-10T17:48:35.748Z"
   },
   {
    "duration": 8,
    "start_time": "2022-02-10T17:48:43.970Z"
   },
   {
    "duration": 13,
    "start_time": "2022-02-10T17:50:45.732Z"
   },
   {
    "duration": 366,
    "start_time": "2022-02-10T17:53:26.655Z"
   },
   {
    "duration": 166,
    "start_time": "2022-02-10T17:53:32.547Z"
   },
   {
    "duration": 101,
    "start_time": "2022-02-10T17:53:56.387Z"
   },
   {
    "duration": 89,
    "start_time": "2022-02-10T17:54:11.807Z"
   },
   {
    "duration": 28,
    "start_time": "2022-02-10T17:55:01.070Z"
   },
   {
    "duration": 33,
    "start_time": "2022-02-10T17:55:48.946Z"
   },
   {
    "duration": 26,
    "start_time": "2022-02-10T17:56:23.485Z"
   },
   {
    "duration": 10,
    "start_time": "2022-02-10T17:56:49.826Z"
   },
   {
    "duration": 21,
    "start_time": "2022-02-10T17:57:46.313Z"
   },
   {
    "duration": 18,
    "start_time": "2022-02-10T17:57:51.725Z"
   },
   {
    "duration": 369,
    "start_time": "2022-02-10T18:06:44.756Z"
   },
   {
    "duration": 31,
    "start_time": "2022-02-10T18:07:00.521Z"
   },
   {
    "duration": 536,
    "start_time": "2022-02-10T18:07:31.421Z"
   },
   {
    "duration": 383,
    "start_time": "2022-02-10T18:07:49.477Z"
   },
   {
    "duration": 375,
    "start_time": "2022-02-10T18:07:53.194Z"
   },
   {
    "duration": 31,
    "start_time": "2022-02-10T18:08:13.991Z"
   },
   {
    "duration": 397,
    "start_time": "2022-02-10T18:08:34.388Z"
   },
   {
    "duration": 410,
    "start_time": "2022-02-10T18:08:54.530Z"
   },
   {
    "duration": 385,
    "start_time": "2022-02-10T18:08:58.278Z"
   },
   {
    "duration": 31,
    "start_time": "2022-02-10T18:09:29.576Z"
   },
   {
    "duration": 24,
    "start_time": "2022-02-10T18:09:59.012Z"
   },
   {
    "duration": 24,
    "start_time": "2022-02-10T18:10:15.275Z"
   },
   {
    "duration": 121,
    "start_time": "2022-02-10T18:11:31.373Z"
   },
   {
    "duration": 118,
    "start_time": "2022-02-10T18:12:02.525Z"
   },
   {
    "duration": 106,
    "start_time": "2022-02-10T18:12:23.086Z"
   },
   {
    "duration": 26,
    "start_time": "2022-02-10T18:12:30.354Z"
   },
   {
    "duration": 117,
    "start_time": "2022-02-10T18:13:17.606Z"
   },
   {
    "duration": 25,
    "start_time": "2022-02-10T18:13:28.163Z"
   },
   {
    "duration": 112,
    "start_time": "2022-02-10T18:13:57.205Z"
   },
   {
    "duration": 6,
    "start_time": "2022-02-10T18:16:16.354Z"
   },
   {
    "duration": 112,
    "start_time": "2022-02-10T18:17:01.213Z"
   },
   {
    "duration": 112,
    "start_time": "2022-02-10T18:17:24.910Z"
   },
   {
    "duration": 464,
    "start_time": "2022-02-10T18:17:46.917Z"
   },
   {
    "duration": 117,
    "start_time": "2022-02-10T18:17:51.656Z"
   },
   {
    "duration": 6,
    "start_time": "2022-02-10T18:18:17.385Z"
   },
   {
    "duration": 185,
    "start_time": "2022-02-10T18:18:21.035Z"
   },
   {
    "duration": 6,
    "start_time": "2022-02-10T18:18:31.000Z"
   },
   {
    "duration": 112,
    "start_time": "2022-02-10T18:18:38.835Z"
   },
   {
    "duration": 103,
    "start_time": "2022-02-10T18:18:51.370Z"
   },
   {
    "duration": 1134,
    "start_time": "2022-02-10T18:19:00.271Z"
   },
   {
    "duration": 30,
    "start_time": "2022-02-10T18:19:40.698Z"
   },
   {
    "duration": 6,
    "start_time": "2022-02-10T18:20:50.076Z"
   },
   {
    "duration": 112,
    "start_time": "2022-02-10T18:20:57.398Z"
   },
   {
    "duration": 38,
    "start_time": "2022-02-10T18:25:26.861Z"
   },
   {
    "duration": 22,
    "start_time": "2022-02-10T18:25:42.080Z"
   },
   {
    "duration": 134,
    "start_time": "2022-02-10T18:31:35.305Z"
   },
   {
    "duration": 80,
    "start_time": "2022-02-10T18:33:23.323Z"
   },
   {
    "duration": 6,
    "start_time": "2022-02-10T18:34:02.481Z"
   },
   {
    "duration": 79,
    "start_time": "2022-02-10T18:34:08.093Z"
   },
   {
    "duration": 732,
    "start_time": "2022-02-10T18:34:10.910Z"
   },
   {
    "duration": 5,
    "start_time": "2022-02-10T18:34:28.467Z"
   },
   {
    "duration": 74,
    "start_time": "2022-02-10T18:34:36.617Z"
   },
   {
    "duration": 41,
    "start_time": "2022-02-10T18:34:39.005Z"
   },
   {
    "duration": 8,
    "start_time": "2022-02-10T18:35:53.383Z"
   },
   {
    "duration": 78,
    "start_time": "2022-02-10T18:36:30.797Z"
   },
   {
    "duration": 52,
    "start_time": "2022-02-10T18:36:32.897Z"
   },
   {
    "duration": 16,
    "start_time": "2022-02-10T18:40:04.728Z"
   },
   {
    "duration": 14,
    "start_time": "2022-02-10T18:40:15.465Z"
   },
   {
    "duration": 14,
    "start_time": "2022-02-10T18:40:36.363Z"
   },
   {
    "duration": 15,
    "start_time": "2022-02-10T18:40:54.180Z"
   },
   {
    "duration": 15,
    "start_time": "2022-02-10T18:41:21.726Z"
   },
   {
    "duration": 16,
    "start_time": "2022-02-10T18:52:47.579Z"
   },
   {
    "duration": 15,
    "start_time": "2022-02-10T18:52:54.906Z"
   },
   {
    "duration": 6,
    "start_time": "2022-02-10T18:55:23.473Z"
   },
   {
    "duration": 6,
    "start_time": "2022-02-10T18:55:32.353Z"
   },
   {
    "duration": 74,
    "start_time": "2022-02-10T18:55:37.617Z"
   },
   {
    "duration": 42,
    "start_time": "2022-02-10T18:55:47.166Z"
   },
   {
    "duration": 75,
    "start_time": "2022-02-10T18:55:49.767Z"
   },
   {
    "duration": 40,
    "start_time": "2022-02-10T18:55:52.767Z"
   },
   {
    "duration": 751,
    "start_time": "2022-02-10T18:56:39.279Z"
   },
   {
    "duration": 185,
    "start_time": "2022-02-10T18:56:40.033Z"
   },
   {
    "duration": 38,
    "start_time": "2022-02-10T18:56:40.221Z"
   },
   {
    "duration": 35,
    "start_time": "2022-02-10T18:56:40.262Z"
   },
   {
    "duration": 6,
    "start_time": "2022-02-10T18:56:40.300Z"
   },
   {
    "duration": 17,
    "start_time": "2022-02-10T18:56:40.310Z"
   },
   {
    "duration": 32,
    "start_time": "2022-02-10T18:56:40.330Z"
   },
   {
    "duration": 30,
    "start_time": "2022-02-10T18:56:40.364Z"
   },
   {
    "duration": 19,
    "start_time": "2022-02-10T18:56:40.396Z"
   },
   {
    "duration": 67,
    "start_time": "2022-02-10T18:56:40.417Z"
   },
   {
    "duration": 89,
    "start_time": "2022-02-10T18:56:40.486Z"
   },
   {
    "duration": 110,
    "start_time": "2022-02-10T18:56:40.577Z"
   },
   {
    "duration": 83,
    "start_time": "2022-02-10T18:56:40.689Z"
   },
   {
    "duration": 57,
    "start_time": "2022-02-10T18:56:40.775Z"
   },
   {
    "duration": 29,
    "start_time": "2022-02-10T18:56:40.834Z"
   },
   {
    "duration": 6,
    "start_time": "2022-02-10T18:56:40.865Z"
   },
   {
    "duration": 58,
    "start_time": "2022-02-10T18:56:40.873Z"
   },
   {
    "duration": 14,
    "start_time": "2022-02-10T18:56:40.961Z"
   },
   {
    "duration": 32,
    "start_time": "2022-02-10T18:56:40.977Z"
   },
   {
    "duration": 74,
    "start_time": "2022-02-10T18:56:41.012Z"
   },
   {
    "duration": 22,
    "start_time": "2022-02-10T18:56:41.088Z"
   },
   {
    "duration": 3,
    "start_time": "2022-02-10T18:56:41.112Z"
   },
   {
    "duration": 5,
    "start_time": "2022-02-10T18:56:41.117Z"
   },
   {
    "duration": 38,
    "start_time": "2022-02-10T18:56:41.124Z"
   },
   {
    "duration": 4,
    "start_time": "2022-02-10T18:56:41.165Z"
   },
   {
    "duration": 9,
    "start_time": "2022-02-10T18:56:41.171Z"
   },
   {
    "duration": 5,
    "start_time": "2022-02-10T18:56:41.182Z"
   },
   {
    "duration": 14,
    "start_time": "2022-02-10T18:56:41.189Z"
   },
   {
    "duration": 58,
    "start_time": "2022-02-10T18:56:41.206Z"
   },
   {
    "duration": 15,
    "start_time": "2022-02-10T18:56:41.266Z"
   },
   {
    "duration": 7,
    "start_time": "2022-02-10T18:56:41.284Z"
   },
   {
    "duration": 106,
    "start_time": "2022-02-10T18:56:41.294Z"
   },
   {
    "duration": 86,
    "start_time": "2022-02-10T18:56:41.403Z"
   },
   {
    "duration": 40,
    "start_time": "2022-02-10T18:56:41.492Z"
   },
   {
    "duration": 78,
    "start_time": "2022-02-10T18:56:41.560Z"
   },
   {
    "duration": 55,
    "start_time": "2022-02-10T18:56:41.641Z"
   },
   {
    "duration": 15,
    "start_time": "2022-02-10T18:56:41.699Z"
   },
   {
    "duration": 3,
    "start_time": "2022-02-10T18:56:41.716Z"
   },
   {
    "duration": 42,
    "start_time": "2022-02-10T18:56:41.722Z"
   },
   {
    "duration": 3,
    "start_time": "2022-02-10T18:56:41.766Z"
   },
   {
    "duration": 13,
    "start_time": "2022-02-10T18:58:37.845Z"
   },
   {
    "duration": 6,
    "start_time": "2022-02-10T18:58:54.139Z"
   },
   {
    "duration": 9,
    "start_time": "2022-02-10T18:59:21.106Z"
   },
   {
    "duration": 7,
    "start_time": "2022-02-10T18:59:28.901Z"
   },
   {
    "duration": 691,
    "start_time": "2022-02-11T08:46:39.455Z"
   },
   {
    "duration": 176,
    "start_time": "2022-02-11T08:46:42.361Z"
   },
   {
    "duration": 26,
    "start_time": "2022-02-11T08:46:50.670Z"
   },
   {
    "duration": 12,
    "start_time": "2022-02-11T08:46:54.839Z"
   },
   {
    "duration": 31,
    "start_time": "2022-02-11T08:46:58.455Z"
   },
   {
    "duration": 314,
    "start_time": "2022-02-11T08:47:06.341Z"
   },
   {
    "duration": 5,
    "start_time": "2022-02-11T08:47:09.235Z"
   },
   {
    "duration": 14,
    "start_time": "2022-02-11T08:47:26.151Z"
   },
   {
    "duration": 5,
    "start_time": "2022-02-11T08:47:30.713Z"
   },
   {
    "duration": 31,
    "start_time": "2022-02-11T08:47:35.275Z"
   },
   {
    "duration": 560,
    "start_time": "2022-02-11T19:08:03.781Z"
   },
   {
    "duration": 118,
    "start_time": "2022-02-11T19:08:06.775Z"
   },
   {
    "duration": 15,
    "start_time": "2022-02-11T19:08:11.201Z"
   },
   {
    "duration": 27,
    "start_time": "2022-02-11T19:08:15.096Z"
   },
   {
    "duration": 3,
    "start_time": "2022-02-11T19:08:30.458Z"
   },
   {
    "duration": 10,
    "start_time": "2022-02-11T19:08:49.519Z"
   },
   {
    "duration": 3,
    "start_time": "2022-02-11T19:08:57.687Z"
   },
   {
    "duration": 21,
    "start_time": "2022-02-11T19:09:00.986Z"
   },
   {
    "duration": 18,
    "start_time": "2022-02-11T19:10:59.530Z"
   },
   {
    "duration": 20,
    "start_time": "2022-02-11T19:11:07.778Z"
   },
   {
    "duration": 53,
    "start_time": "2022-02-11T19:11:19.004Z"
   },
   {
    "duration": 63,
    "start_time": "2022-02-11T19:11:24.053Z"
   },
   {
    "duration": 47,
    "start_time": "2022-02-11T19:13:25.678Z"
   },
   {
    "duration": 36,
    "start_time": "2022-02-11T19:13:32.001Z"
   },
   {
    "duration": 111,
    "start_time": "2022-02-11T19:16:21.017Z"
   },
   {
    "duration": 3,
    "start_time": "2022-02-11T19:16:30.998Z"
   },
   {
    "duration": 10,
    "start_time": "2022-02-11T19:17:21.186Z"
   },
   {
    "duration": 38,
    "start_time": "2022-02-11T19:17:27.731Z"
   },
   {
    "duration": 11,
    "start_time": "2022-02-11T19:17:49.203Z"
   },
   {
    "duration": 28,
    "start_time": "2022-02-11T19:19:40.795Z"
   },
   {
    "duration": 14,
    "start_time": "2022-02-11T19:22:49.850Z"
   },
   {
    "duration": 383,
    "start_time": "2022-02-11T19:23:13.723Z"
   },
   {
    "duration": 14,
    "start_time": "2022-02-11T19:23:18.491Z"
   },
   {
    "duration": 14,
    "start_time": "2022-02-11T19:23:55.824Z"
   },
   {
    "duration": 14,
    "start_time": "2022-02-11T19:24:28.213Z"
   },
   {
    "duration": 12,
    "start_time": "2022-02-11T19:24:30.342Z"
   },
   {
    "duration": 3,
    "start_time": "2022-02-11T19:25:29.162Z"
   },
   {
    "duration": 16,
    "start_time": "2022-02-11T19:25:34.781Z"
   },
   {
    "duration": 5,
    "start_time": "2022-02-11T19:26:00.896Z"
   },
   {
    "duration": 149,
    "start_time": "2022-02-11T19:28:52.601Z"
   },
   {
    "duration": 106,
    "start_time": "2022-02-11T19:29:09.562Z"
   },
   {
    "duration": 55,
    "start_time": "2022-02-11T19:29:34.502Z"
   },
   {
    "duration": 9,
    "start_time": "2022-02-11T19:30:07.504Z"
   },
   {
    "duration": 9,
    "start_time": "2022-02-11T19:30:09.208Z"
   },
   {
    "duration": 3,
    "start_time": "2022-02-11T19:30:51.041Z"
   },
   {
    "duration": 3,
    "start_time": "2022-02-11T19:33:25.292Z"
   },
   {
    "duration": 625,
    "start_time": "2022-02-11T19:33:51.748Z"
   },
   {
    "duration": 3,
    "start_time": "2022-02-11T19:34:18.307Z"
   },
   {
    "duration": 633,
    "start_time": "2022-02-11T19:34:22.820Z"
   },
   {
    "duration": 4,
    "start_time": "2022-02-11T19:34:28.937Z"
   },
   {
    "duration": 632,
    "start_time": "2022-02-11T19:34:32.130Z"
   },
   {
    "duration": 3,
    "start_time": "2022-02-11T19:35:07.866Z"
   },
   {
    "duration": 19,
    "start_time": "2022-02-11T19:35:10.604Z"
   },
   {
    "duration": 14,
    "start_time": "2022-02-11T19:35:30.259Z"
   },
   {
    "duration": 21,
    "start_time": "2022-02-11T19:37:11.856Z"
   },
   {
    "duration": 15,
    "start_time": "2022-02-11T19:38:18.727Z"
   },
   {
    "duration": 19,
    "start_time": "2022-02-11T19:38:26.022Z"
   },
   {
    "duration": 20,
    "start_time": "2022-02-11T19:39:05.937Z"
   },
   {
    "duration": 13,
    "start_time": "2022-02-11T19:39:10.163Z"
   },
   {
    "duration": 8,
    "start_time": "2022-02-11T19:39:24.101Z"
   },
   {
    "duration": 4,
    "start_time": "2022-02-11T19:39:25.702Z"
   },
   {
    "duration": 7,
    "start_time": "2022-02-11T19:39:29.352Z"
   },
   {
    "duration": 4,
    "start_time": "2022-02-11T19:39:31.277Z"
   },
   {
    "duration": 4,
    "start_time": "2022-02-11T19:39:48.188Z"
   },
   {
    "duration": 4,
    "start_time": "2022-02-11T19:39:51.910Z"
   },
   {
    "duration": 4,
    "start_time": "2022-02-11T19:40:04.888Z"
   },
   {
    "duration": 3,
    "start_time": "2022-02-11T19:41:26.044Z"
   },
   {
    "duration": 4,
    "start_time": "2022-02-11T19:41:44.128Z"
   },
   {
    "duration": 3,
    "start_time": "2022-02-11T19:42:05.662Z"
   },
   {
    "duration": 354,
    "start_time": "2022-02-11T19:42:39.388Z"
   },
   {
    "duration": 8,
    "start_time": "2022-02-11T19:42:55.444Z"
   },
   {
    "duration": 8,
    "start_time": "2022-02-11T19:43:44.609Z"
   },
   {
    "duration": 5,
    "start_time": "2022-02-11T19:43:47.170Z"
   },
   {
    "duration": 6,
    "start_time": "2022-02-11T19:44:02.376Z"
   },
   {
    "duration": 4,
    "start_time": "2022-02-11T19:44:04.483Z"
   },
   {
    "duration": 562,
    "start_time": "2022-02-11T19:44:34.295Z"
   },
   {
    "duration": 117,
    "start_time": "2022-02-11T19:44:34.859Z"
   },
   {
    "duration": 16,
    "start_time": "2022-02-11T19:44:34.978Z"
   },
   {
    "duration": 22,
    "start_time": "2022-02-11T19:44:34.995Z"
   },
   {
    "duration": 3,
    "start_time": "2022-02-11T19:44:35.018Z"
   },
   {
    "duration": 12,
    "start_time": "2022-02-11T19:44:35.023Z"
   },
   {
    "duration": 5,
    "start_time": "2022-02-11T19:44:35.036Z"
   },
   {
    "duration": 40,
    "start_time": "2022-02-11T19:44:35.043Z"
   },
   {
    "duration": 14,
    "start_time": "2022-02-11T19:44:35.085Z"
   },
   {
    "duration": 20,
    "start_time": "2022-02-11T19:44:35.100Z"
   },
   {
    "duration": 68,
    "start_time": "2022-02-11T19:44:35.121Z"
   },
   {
    "duration": 59,
    "start_time": "2022-02-11T19:44:35.190Z"
   },
   {
    "duration": 62,
    "start_time": "2022-02-11T19:44:35.250Z"
   },
   {
    "duration": 37,
    "start_time": "2022-02-11T19:44:35.313Z"
   },
   {
    "duration": 3,
    "start_time": "2022-02-11T19:44:35.352Z"
   },
   {
    "duration": 22,
    "start_time": "2022-02-11T19:44:35.356Z"
   },
   {
    "duration": 36,
    "start_time": "2022-02-11T19:44:35.380Z"
   },
   {
    "duration": 9,
    "start_time": "2022-02-11T19:44:35.418Z"
   },
   {
    "duration": 48,
    "start_time": "2022-02-11T19:44:35.428Z"
   },
   {
    "duration": 3,
    "start_time": "2022-02-11T19:44:35.478Z"
   },
   {
    "duration": 19,
    "start_time": "2022-02-11T19:44:35.483Z"
   },
   {
    "duration": 13,
    "start_time": "2022-02-11T19:44:35.503Z"
   },
   {
    "duration": 13,
    "start_time": "2022-02-11T19:44:35.519Z"
   },
   {
    "duration": 42,
    "start_time": "2022-02-11T19:44:35.534Z"
   },
   {
    "duration": 16,
    "start_time": "2022-02-11T19:44:35.577Z"
   },
   {
    "duration": 13,
    "start_time": "2022-02-11T19:44:35.595Z"
   },
   {
    "duration": 14,
    "start_time": "2022-02-11T19:44:35.610Z"
   },
   {
    "duration": 88,
    "start_time": "2022-02-11T19:44:35.626Z"
   },
   {
    "duration": 9,
    "start_time": "2022-02-11T19:44:35.716Z"
   },
   {
    "duration": 8,
    "start_time": "2022-02-11T19:44:35.726Z"
   },
   {
    "duration": 4,
    "start_time": "2022-02-11T19:44:35.735Z"
   },
   {
    "duration": 39,
    "start_time": "2022-02-11T19:44:35.740Z"
   },
   {
    "duration": 13,
    "start_time": "2022-02-11T19:44:35.781Z"
   },
   {
    "duration": 18,
    "start_time": "2022-02-11T19:44:35.796Z"
   },
   {
    "duration": 13,
    "start_time": "2022-02-11T19:44:35.815Z"
   },
   {
    "duration": 8,
    "start_time": "2022-02-11T19:44:35.830Z"
   },
   {
    "duration": 34,
    "start_time": "2022-02-11T19:44:35.839Z"
   },
   {
    "duration": 6,
    "start_time": "2022-02-11T19:44:35.875Z"
   },
   {
    "duration": 5,
    "start_time": "2022-02-11T19:44:35.882Z"
   },
   {
    "duration": 776,
    "start_time": "2022-02-17T19:10:38.806Z"
   },
   {
    "duration": 190,
    "start_time": "2022-02-17T19:10:39.585Z"
   },
   {
    "duration": 28,
    "start_time": "2022-02-17T19:10:39.778Z"
   },
   {
    "duration": 59,
    "start_time": "2022-02-17T19:10:39.809Z"
   },
   {
    "duration": 5,
    "start_time": "2022-02-17T19:10:39.871Z"
   },
   {
    "duration": 17,
    "start_time": "2022-02-17T19:10:39.879Z"
   },
   {
    "duration": 14,
    "start_time": "2022-02-17T19:10:39.899Z"
   },
   {
    "duration": 58,
    "start_time": "2022-02-17T19:10:39.919Z"
   },
   {
    "duration": 26,
    "start_time": "2022-02-17T19:10:39.981Z"
   },
   {
    "duration": 55,
    "start_time": "2022-02-17T19:10:40.010Z"
   },
   {
    "duration": 113,
    "start_time": "2022-02-17T19:10:40.068Z"
   },
   {
    "duration": 114,
    "start_time": "2022-02-17T19:10:40.184Z"
   },
   {
    "duration": 90,
    "start_time": "2022-02-17T19:10:40.301Z"
   },
   {
    "duration": 69,
    "start_time": "2022-02-17T19:10:40.394Z"
   },
   {
    "duration": 4,
    "start_time": "2022-02-17T19:10:40.465Z"
   },
   {
    "duration": 16,
    "start_time": "2022-02-17T19:10:40.473Z"
   },
   {
    "duration": 77,
    "start_time": "2022-02-17T19:10:40.491Z"
   },
   {
    "duration": 15,
    "start_time": "2022-02-17T19:10:40.570Z"
   },
   {
    "duration": 43,
    "start_time": "2022-02-17T19:10:40.587Z"
   },
   {
    "duration": 5,
    "start_time": "2022-02-17T19:10:40.661Z"
   },
   {
    "duration": 23,
    "start_time": "2022-02-17T19:10:40.669Z"
   },
   {
    "duration": 16,
    "start_time": "2022-02-17T19:10:40.695Z"
   },
   {
    "duration": 53,
    "start_time": "2022-02-17T19:10:40.715Z"
   },
   {
    "duration": 18,
    "start_time": "2022-02-17T19:10:40.771Z"
   },
   {
    "duration": 19,
    "start_time": "2022-02-17T19:10:40.792Z"
   },
   {
    "duration": 49,
    "start_time": "2022-02-17T19:10:40.813Z"
   },
   {
    "duration": 20,
    "start_time": "2022-02-17T19:10:40.864Z"
   },
   {
    "duration": 109,
    "start_time": "2022-02-17T19:10:40.886Z"
   },
   {
    "duration": 13,
    "start_time": "2022-02-17T19:10:40.998Z"
   },
   {
    "duration": 11,
    "start_time": "2022-02-17T19:10:41.014Z"
   },
   {
    "duration": 5,
    "start_time": "2022-02-17T19:10:41.028Z"
   },
   {
    "duration": 51,
    "start_time": "2022-02-17T19:10:41.035Z"
   },
   {
    "duration": 20,
    "start_time": "2022-02-17T19:10:41.088Z"
   },
   {
    "duration": 64,
    "start_time": "2022-02-17T19:10:41.110Z"
   },
   {
    "duration": 19,
    "start_time": "2022-02-17T19:10:41.176Z"
   },
   {
    "duration": 13,
    "start_time": "2022-02-17T19:10:41.198Z"
   },
   {
    "duration": 6,
    "start_time": "2022-02-17T19:10:41.213Z"
   },
   {
    "duration": 42,
    "start_time": "2022-02-17T19:10:41.221Z"
   },
   {
    "duration": 11,
    "start_time": "2022-02-17T19:10:41.266Z"
   },
   {
    "duration": 13,
    "start_time": "2022-02-17T19:13:35.179Z"
   },
   {
    "duration": 361,
    "start_time": "2022-02-17T20:18:32.809Z"
   },
   {
    "duration": 600,
    "start_time": "2022-02-17T20:19:00.163Z"
   },
   {
    "duration": 135,
    "start_time": "2022-02-17T20:19:00.764Z"
   },
   {
    "duration": 16,
    "start_time": "2022-02-17T20:19:00.901Z"
   },
   {
    "duration": 27,
    "start_time": "2022-02-17T20:19:00.919Z"
   },
   {
    "duration": 3,
    "start_time": "2022-02-17T20:19:00.948Z"
   },
   {
    "duration": 11,
    "start_time": "2022-02-17T20:19:00.952Z"
   },
   {
    "duration": 8,
    "start_time": "2022-02-17T20:19:00.964Z"
   },
   {
    "duration": 22,
    "start_time": "2022-02-17T20:19:00.974Z"
   },
   {
    "duration": 44,
    "start_time": "2022-02-17T20:19:00.998Z"
   },
   {
    "duration": 21,
    "start_time": "2022-02-17T20:19:01.044Z"
   },
   {
    "duration": 69,
    "start_time": "2022-02-17T20:19:01.068Z"
   },
   {
    "duration": 68,
    "start_time": "2022-02-17T20:19:01.139Z"
   },
   {
    "duration": 73,
    "start_time": "2022-02-17T20:19:01.209Z"
   },
   {
    "duration": 83,
    "start_time": "2022-02-17T20:19:01.284Z"
   },
   {
    "duration": 3,
    "start_time": "2022-02-17T20:19:01.370Z"
   },
   {
    "duration": 13,
    "start_time": "2022-02-17T20:19:01.375Z"
   },
   {
    "duration": 58,
    "start_time": "2022-02-17T20:19:01.389Z"
   },
   {
    "duration": 11,
    "start_time": "2022-02-17T20:19:01.449Z"
   },
   {
    "duration": 11,
    "start_time": "2022-02-17T20:19:04.174Z"
   },
   {
    "duration": 3,
    "start_time": "2022-02-17T20:19:25.021Z"
   },
   {
    "duration": 163,
    "start_time": "2022-02-17T20:20:28.768Z"
   },
   {
    "duration": 19,
    "start_time": "2022-02-17T20:21:10.055Z"
   },
   {
    "duration": 4,
    "start_time": "2022-02-17T20:21:18.410Z"
   },
   {
    "duration": 314,
    "start_time": "2022-02-17T20:24:40.979Z"
   },
   {
    "duration": 3,
    "start_time": "2022-02-17T20:25:07.932Z"
   },
   {
    "duration": 194,
    "start_time": "2022-02-17T20:25:07.938Z"
   },
   {
    "duration": 15,
    "start_time": "2022-02-17T20:25:08.134Z"
   },
   {
    "duration": 43,
    "start_time": "2022-02-17T20:25:08.151Z"
   },
   {
    "duration": 5,
    "start_time": "2022-02-17T20:25:08.196Z"
   },
   {
    "duration": 34,
    "start_time": "2022-02-17T20:25:08.204Z"
   },
   {
    "duration": 3,
    "start_time": "2022-02-17T20:25:08.240Z"
   },
   {
    "duration": 26,
    "start_time": "2022-02-17T20:25:08.245Z"
   },
   {
    "duration": 17,
    "start_time": "2022-02-17T20:25:08.275Z"
   },
   {
    "duration": 41,
    "start_time": "2022-02-17T20:25:08.294Z"
   },
   {
    "duration": 49,
    "start_time": "2022-02-17T20:25:08.337Z"
   },
   {
    "duration": 70,
    "start_time": "2022-02-17T20:25:08.387Z"
   },
   {
    "duration": 45,
    "start_time": "2022-02-17T20:25:08.459Z"
   },
   {
    "duration": 50,
    "start_time": "2022-02-17T20:25:08.506Z"
   },
   {
    "duration": 3,
    "start_time": "2022-02-17T20:25:08.558Z"
   },
   {
    "duration": 10,
    "start_time": "2022-02-17T20:25:08.563Z"
   },
   {
    "duration": 59,
    "start_time": "2022-02-17T20:25:08.575Z"
   },
   {
    "duration": 10,
    "start_time": "2022-02-17T20:25:08.635Z"
   },
   {
    "duration": 9,
    "start_time": "2022-02-17T20:25:08.647Z"
   },
   {
    "duration": 3,
    "start_time": "2022-02-17T20:25:08.657Z"
   },
   {
    "duration": 17,
    "start_time": "2022-02-17T20:25:08.662Z"
   },
   {
    "duration": 12,
    "start_time": "2022-02-17T20:25:08.681Z"
   },
   {
    "duration": 43,
    "start_time": "2022-02-17T20:25:08.694Z"
   },
   {
    "duration": 12,
    "start_time": "2022-02-17T20:25:08.740Z"
   },
   {
    "duration": 14,
    "start_time": "2022-02-17T20:25:08.753Z"
   },
   {
    "duration": 12,
    "start_time": "2022-02-17T20:25:08.768Z"
   },
   {
    "duration": 14,
    "start_time": "2022-02-17T20:25:08.782Z"
   },
   {
    "duration": 82,
    "start_time": "2022-02-17T20:25:08.798Z"
   },
   {
    "duration": 7,
    "start_time": "2022-02-17T20:25:12.391Z"
   },
   {
    "duration": 658,
    "start_time": "2022-02-17T20:26:43.148Z"
   },
   {
    "duration": 203,
    "start_time": "2022-02-17T20:26:43.809Z"
   },
   {
    "duration": 24,
    "start_time": "2022-02-17T20:26:44.015Z"
   },
   {
    "duration": 22,
    "start_time": "2022-02-17T20:26:44.041Z"
   },
   {
    "duration": 3,
    "start_time": "2022-02-17T20:26:44.065Z"
   },
   {
    "duration": 9,
    "start_time": "2022-02-17T20:26:44.070Z"
   },
   {
    "duration": 5,
    "start_time": "2022-02-17T20:26:44.081Z"
   },
   {
    "duration": 46,
    "start_time": "2022-02-17T20:26:44.088Z"
   },
   {
    "duration": 16,
    "start_time": "2022-02-17T20:26:44.136Z"
   },
   {
    "duration": 19,
    "start_time": "2022-02-17T20:26:44.153Z"
   },
   {
    "duration": 72,
    "start_time": "2022-02-17T20:26:44.174Z"
   },
   {
    "duration": 62,
    "start_time": "2022-02-17T20:26:44.248Z"
   },
   {
    "duration": 60,
    "start_time": "2022-02-17T20:26:44.312Z"
   },
   {
    "duration": 39,
    "start_time": "2022-02-17T20:26:44.374Z"
   },
   {
    "duration": 3,
    "start_time": "2022-02-17T20:26:44.414Z"
   },
   {
    "duration": 9,
    "start_time": "2022-02-17T20:26:44.431Z"
   },
   {
    "duration": 41,
    "start_time": "2022-02-17T20:26:44.441Z"
   },
   {
    "duration": 14,
    "start_time": "2022-02-17T20:26:44.484Z"
   },
   {
    "duration": 10,
    "start_time": "2022-02-17T20:26:44.500Z"
   },
   {
    "duration": 3,
    "start_time": "2022-02-17T20:26:44.532Z"
   },
   {
    "duration": 18,
    "start_time": "2022-02-17T20:26:44.537Z"
   },
   {
    "duration": 12,
    "start_time": "2022-02-17T20:26:44.557Z"
   },
   {
    "duration": 13,
    "start_time": "2022-02-17T20:26:44.572Z"
   },
   {
    "duration": 18,
    "start_time": "2022-02-17T20:26:44.587Z"
   },
   {
    "duration": 46,
    "start_time": "2022-02-17T20:26:44.606Z"
   },
   {
    "duration": 18,
    "start_time": "2022-02-17T20:26:44.653Z"
   },
   {
    "duration": 14,
    "start_time": "2022-02-17T20:26:44.673Z"
   },
   {
    "duration": 82,
    "start_time": "2022-02-17T20:26:44.689Z"
   },
   {
    "duration": 6,
    "start_time": "2022-02-17T20:26:44.773Z"
   },
   {
    "duration": 11,
    "start_time": "2022-02-17T20:26:44.781Z"
   },
   {
    "duration": 9,
    "start_time": "2022-02-17T20:26:44.793Z"
   },
   {
    "duration": 28,
    "start_time": "2022-02-17T20:26:44.804Z"
   },
   {
    "duration": 20,
    "start_time": "2022-02-17T20:26:44.833Z"
   },
   {
    "duration": 17,
    "start_time": "2022-02-17T20:26:44.855Z"
   },
   {
    "duration": 19,
    "start_time": "2022-02-17T20:26:44.873Z"
   },
   {
    "duration": 41,
    "start_time": "2022-02-17T20:26:44.893Z"
   },
   {
    "duration": 8,
    "start_time": "2022-02-17T20:26:44.935Z"
   },
   {
    "duration": 4,
    "start_time": "2022-02-17T20:26:44.945Z"
   },
   {
    "duration": 7,
    "start_time": "2022-02-17T20:26:44.951Z"
   },
   {
    "duration": 7,
    "start_time": "2022-02-17T20:26:44.960Z"
   }
  ],
  "colab": {
   "collapsed_sections": [
    "E0vqbgi9ay0H",
    "VUC88oWjTJw2"
   ],
   "name": "yandex_music_project_2021.2.ipynb",
   "provenance": []
  },
  "kernelspec": {
   "display_name": "Python 3 (ipykernel)",
   "language": "python",
   "name": "python3"
  },
  "language_info": {
   "codemirror_mode": {
    "name": "ipython",
    "version": 3
   },
   "file_extension": ".py",
   "mimetype": "text/x-python",
   "name": "python",
   "nbconvert_exporter": "python",
   "pygments_lexer": "ipython3",
   "version": "3.10.4"
  },
  "toc": {
   "base_numbering": 1,
   "nav_menu": {},
   "number_sections": true,
   "sideBar": true,
   "skip_h1_title": true,
   "title_cell": "Table of Contents",
   "title_sidebar": "Contents",
   "toc_cell": false,
   "toc_position": {},
   "toc_section_display": true,
   "toc_window_display": true
  }
 },
 "nbformat": 4,
 "nbformat_minor": 1
}