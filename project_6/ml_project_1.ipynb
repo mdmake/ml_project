{
 "cells": [
  {
   "cell_type": "markdown",
   "metadata": {
    "pycharm": {
     "name": "#%% md\n"
    }
   },
   "source": [
    "# Рекомендация тарифов"
   ]
  },
  {
   "cell_type": "markdown",
   "metadata": {
    "pycharm": {
     "name": "#%% md\n"
    }
   },
   "source": [
    "В вашем распоряжении данные о поведении клиентов, которые уже перешли на эти тарифы (из проекта курса «Статистический анализ данных»). Нужно построить модель для задачи классификации, которая выберет подходящий тариф. Предобработка данных не понадобится — вы её уже сделали.\n",
    "\n",
    "Постройте модель с максимально большим значением *accuracy*. Чтобы сдать проект успешно, нужно довести долю правильных ответов по крайней мере до 0.75. Проверьте *accuracy* на тестовой выборке самостоятельно."
   ]
  },
  {
   "cell_type": "code",
   "execution_count": 1,
   "metadata": {
    "pycharm": {
     "name": "#%%\n"
    }
   },
   "outputs": [],
   "source": [
    "import pandas as pd\n",
    "import numpy as np\n",
    "from sklearn.ensemble import RandomForestClassifier\n",
    "from sklearn.linear_model import LogisticRegression\n",
    "from sklearn.model_selection import train_test_split\n",
    "from sklearn.tree import DecisionTreeClassifier\n",
    "import matplotlib.pyplot as plt\n",
    "from matplotlib.pyplot import figure\n",
    "from sklearn.model_selection import cross_val_score\n",
    "from sklearn.model_selection import RandomizedSearchCV\n",
    "import seaborn as sns\n",
    "from sklearn.dummy import DummyClassifier "
   ]
  },
  {
   "cell_type": "markdown",
   "metadata": {
    "pycharm": {
     "name": "#%% md\n"
    }
   },
   "source": [
    "## Откройте и изучите файл\n",
    "\n",
    "Описание данных\n",
    "\n",
    "Каждый объект в наборе данных — это информация о поведении одного пользователя за месяц. Известно:\n",
    "- сalls — количество звонков,\n",
    "- minutes — суммарная длительность звонков в минутах,\n",
    "- messages — количество sms-сообщений,\n",
    "- mb_used — израсходованный интернет-трафик в Мб,\n",
    "- is_ultra — каким тарифом пользовался в течение месяца («Ультра» — 1, «Смарт» — 0)."
   ]
  },
  {
   "cell_type": "markdown",
   "metadata": {
    "pycharm": {
     "name": "#%% md\n"
    }
   },
   "source": [
    "Посмотрим на данные:"
   ]
  },
  {
   "cell_type": "code",
   "execution_count": 2,
   "metadata": {
    "pycharm": {
     "name": "#%%\n"
    }
   },
   "outputs": [],
   "source": [
    "df = pd.read_csv('/datasets/users_behavior.csv')"
   ]
  },
  {
   "cell_type": "code",
   "execution_count": 3,
   "metadata": {
    "pycharm": {
     "name": "#%%\n"
    }
   },
   "outputs": [
    {
     "data": {
      "text/html": [
       "<div>\n",
       "<style scoped>\n",
       "    .dataframe tbody tr th:only-of-type {\n",
       "        vertical-align: middle;\n",
       "    }\n",
       "\n",
       "    .dataframe tbody tr th {\n",
       "        vertical-align: top;\n",
       "    }\n",
       "\n",
       "    .dataframe thead th {\n",
       "        text-align: right;\n",
       "    }\n",
       "</style>\n",
       "<table border=\"1\" class=\"dataframe\">\n",
       "  <thead>\n",
       "    <tr style=\"text-align: right;\">\n",
       "      <th></th>\n",
       "      <th>calls</th>\n",
       "      <th>minutes</th>\n",
       "      <th>messages</th>\n",
       "      <th>mb_used</th>\n",
       "      <th>is_ultra</th>\n",
       "    </tr>\n",
       "  </thead>\n",
       "  <tbody>\n",
       "    <tr>\n",
       "      <th>0</th>\n",
       "      <td>40.0</td>\n",
       "      <td>311.90</td>\n",
       "      <td>83.0</td>\n",
       "      <td>19915.42</td>\n",
       "      <td>0</td>\n",
       "    </tr>\n",
       "    <tr>\n",
       "      <th>1</th>\n",
       "      <td>85.0</td>\n",
       "      <td>516.75</td>\n",
       "      <td>56.0</td>\n",
       "      <td>22696.96</td>\n",
       "      <td>0</td>\n",
       "    </tr>\n",
       "    <tr>\n",
       "      <th>2</th>\n",
       "      <td>77.0</td>\n",
       "      <td>467.66</td>\n",
       "      <td>86.0</td>\n",
       "      <td>21060.45</td>\n",
       "      <td>0</td>\n",
       "    </tr>\n",
       "    <tr>\n",
       "      <th>3</th>\n",
       "      <td>106.0</td>\n",
       "      <td>745.53</td>\n",
       "      <td>81.0</td>\n",
       "      <td>8437.39</td>\n",
       "      <td>1</td>\n",
       "    </tr>\n",
       "    <tr>\n",
       "      <th>4</th>\n",
       "      <td>66.0</td>\n",
       "      <td>418.74</td>\n",
       "      <td>1.0</td>\n",
       "      <td>14502.75</td>\n",
       "      <td>0</td>\n",
       "    </tr>\n",
       "  </tbody>\n",
       "</table>\n",
       "</div>"
      ],
      "text/plain": [
       "   calls  minutes  messages   mb_used  is_ultra\n",
       "0   40.0   311.90      83.0  19915.42         0\n",
       "1   85.0   516.75      56.0  22696.96         0\n",
       "2   77.0   467.66      86.0  21060.45         0\n",
       "3  106.0   745.53      81.0   8437.39         1\n",
       "4   66.0   418.74       1.0  14502.75         0"
      ]
     },
     "execution_count": 3,
     "metadata": {},
     "output_type": "execute_result"
    }
   ],
   "source": [
    "df.head()"
   ]
  },
  {
   "cell_type": "code",
   "execution_count": 4,
   "metadata": {
    "pycharm": {
     "name": "#%%\n"
    }
   },
   "outputs": [
    {
     "name": "stdout",
     "output_type": "stream",
     "text": [
      "<class 'pandas.core.frame.DataFrame'>\n",
      "RangeIndex: 3214 entries, 0 to 3213\n",
      "Data columns (total 5 columns):\n",
      " #   Column    Non-Null Count  Dtype  \n",
      "---  ------    --------------  -----  \n",
      " 0   calls     3214 non-null   float64\n",
      " 1   minutes   3214 non-null   float64\n",
      " 2   messages  3214 non-null   float64\n",
      " 3   mb_used   3214 non-null   float64\n",
      " 4   is_ultra  3214 non-null   int64  \n",
      "dtypes: float64(4), int64(1)\n",
      "memory usage: 125.7 KB\n"
     ]
    }
   ],
   "source": [
    "df.info()"
   ]
  },
  {
   "cell_type": "markdown",
   "metadata": {
    "pycharm": {
     "name": "#%% md\n"
    }
   },
   "source": [
    "Пропусков нет, посмотрим на корреляции признаков в данных"
   ]
  },
  {
   "cell_type": "code",
   "execution_count": 5,
   "metadata": {
    "pycharm": {
     "name": "#%%\n"
    }
   },
   "outputs": [
    {
     "data": {
      "image/png": "[encoded data removed]",
      "text/plain": [
       "<Figure size 720x432 with 2 Axes>"
      ]
     },
     "metadata": {
      "needs_background": "light"
     },
     "output_type": "display_data"
    }
   ],
   "source": [
    "corr = df.corr()\n",
    "cmap = sns.diverging_palette(230, 20, as_cmap=True)\n",
    "mask = np.triu(np.ones_like(corr, dtype=bool))\n",
    "\n",
    "\n",
    "fig, ax = plt.subplots(figsize=(10,6))\n",
    "sns.heatmap(corr, center=0, cmap=\"coolwarm\", square=True,\n",
    "linewidth=0.3, cbar_kws={\"shrink\": .8}, annot=True, mask=mask)\n",
    "ax.set_title(\"Корреляции признаков\")\n",
    "plt.show()"
   ]
  },
  {
   "cell_type": "markdown",
   "metadata": {
    "pycharm": {
     "name": "#%% md\n"
    }
   },
   "source": [
    "У признаков `call` и `minutes` высокая степень корреляции.\n",
    "Если эти признаки зависимы, это может ухудшить качество модели.\n",
    "\n",
    "С другой стороны из корреляции не следует зависимость. Поробуем при обучении модели обучить ее на полных данных,\n",
    "на данных без столбца `call` и на данных без столбца `minutes` и сравнить результаты."
   ]
  },
  {
   "cell_type": "markdown",
   "metadata": {
    "pycharm": {
     "name": "#%% md\n"
    }
   },
   "source": [
    "Проверим датасет на сбалансированность"
   ]
  },
  {
   "cell_type": "code",
   "execution_count": 6,
   "metadata": {
    "pycharm": {
     "name": "#%%\n"
    }
   },
   "outputs": [
    {
     "data": {
      "text/plain": [
       "0    0.693528\n",
       "1    0.306472\n",
       "Name: is_ultra, dtype: float64"
      ]
     },
     "execution_count": 6,
     "metadata": {},
     "output_type": "execute_result"
    }
   ],
   "source": [
    "df['is_ultra'].value_counts(normalize=True)"
   ]
  },
  {
   "cell_type": "markdown",
   "metadata": {
    "pycharm": {
     "name": "#%% md\n"
    }
   },
   "source": [
    "Если все время рекомендовать тариф Smart - мы будем правы в 69% случаев. \n",
    "\n",
    "Действительно, это сразу решает бонусное задание)"
   ]
  },
  {
   "cell_type": "markdown",
   "metadata": {
    "pycharm": {
     "name": "#%% md\n"
    }
   },
   "source": [
    "## Разбейте данные на выборки"
   ]
  },
  {
   "cell_type": "markdown",
   "metadata": {
    "pycharm": {
     "name": "#%% md\n"
    }
   },
   "source": [
    "Спрятанной тестовой выборки у нас нет. Разобьем данные на обучающую и валидационные выборки в соотношении 4:1.\n",
    "\n",
    "Специально выделять тестовую я не буду, за меня это сделают методы `RandomizedSearchCV` и `cross_val_score`"
   ]
  },
  {
   "cell_type": "code",
   "execution_count": 7,
   "metadata": {
    "pycharm": {
     "name": "#%%\n"
    }
   },
   "outputs": [],
   "source": [
    "features = df.drop(['is_ultra'], axis=1)\n",
    "target = df['is_ultra']\n",
    "\n",
    "features_train, features_valid, target_train, target_valid = train_test_split(\n",
    "    features, target, test_size=0.2, random_state=12345, shuffle=True, stratify=target)"
   ]
  },
  {
   "cell_type": "markdown",
   "metadata": {
    "pycharm": {
     "name": "#%% md\n"
    }
   },
   "source": [
    "Проверим корректость разбиения"
   ]
  },
  {
   "cell_type": "code",
   "execution_count": 8,
   "metadata": {
    "pycharm": {
     "name": "#%%\n"
    }
   },
   "outputs": [
    {
     "name": "stdout",
     "output_type": "stream",
     "text": [
      "3214 3214\n",
      "3214 3214\n",
      "4 4 4\n"
     ]
    }
   ],
   "source": [
    "print(features.shape[0], features_train.shape[0]+features_valid.shape[0])\n",
    "print(target.shape[0], features_train.shape[0]+target_valid.shape[0])\n",
    "\n",
    "print(features.shape[1], features_train.shape[1], features_valid.shape[1])"
   ]
  },
  {
   "cell_type": "markdown",
   "metadata": {
    "pycharm": {
     "name": "#%% md\n"
    }
   },
   "source": [
    "Все коректно, ничего не \"зажевало\")"
   ]
  },
  {
   "cell_type": "markdown",
   "metadata": {
    "pycharm": {
     "name": "#%% md\n"
    }
   },
   "source": [
    "Для проверки того, что корреляция `call` и `minutes` не ухудшает качество модели я добавлю наборы данных без них"
   ]
  },
  {
   "cell_type": "code",
   "execution_count": 9,
   "metadata": {
    "pycharm": {
     "name": "#%%\n"
    }
   },
   "outputs": [],
   "source": [
    "features_train_without_calls = features_train.drop('calls', axis=1)\n",
    "features_valid_without_calls = features_valid.drop('calls', axis=1)\n",
    "\n",
    "features_train_without_minutes = features_train.drop('minutes', axis=1)\n",
    "features_valid_without_minutes = features_valid.drop('minutes', axis=1)"
   ]
  },
  {
   "cell_type": "code",
   "execution_count": 10,
   "metadata": {
    "pycharm": {
     "name": "#%%\n"
    }
   },
   "outputs": [],
   "source": [
    "train_data = {\n",
    "    'data': features_train,\n",
    "    'data_without_calls': features_train_without_calls,\n",
    "    'data_without_minutes': features_train_without_minutes,\n",
    "}\n",
    "\n",
    "valid_data = {\n",
    "    'data': features_valid,\n",
    "    'data_without_calls': features_valid_without_calls,\n",
    "    'data_without_minutes': features_valid_without_minutes,\n",
    "}\n"
   ]
  },
  {
   "cell_type": "markdown",
   "metadata": {
    "pycharm": {
     "name": "#%% md\n"
    }
   },
   "source": [
    "## Исследуйте модели"
   ]
  },
  {
   "cell_type": "markdown",
   "metadata": {
    "pycharm": {
     "name": "#%% md\n"
    }
   },
   "source": [
    "Для исследования выберем классификаторы `RandomForestClassifier`, `LogisticRegression`, `DecisionTreeClassifier`"
   ]
  },
  {
   "cell_type": "markdown",
   "metadata": {
    "pycharm": {
     "name": "#%% md\n"
    }
   },
   "source": [
    "### RandomForestClassifier"
   ]
  },
  {
   "cell_type": "markdown",
   "metadata": {
    "pycharm": {
     "name": "#%% md\n"
    }
   },
   "source": [
    "Чтобы на перебирать все важные параметры модели в цикле, в поисках лучших сочетаний, будем исользовать `RandomizedSearchCV` - этот метод подбирает оптимальные с точки зрения качества модели гиперпараметры, и проводит кросс-валидацию результатов. "
   ]
  },
  {
   "cell_type": "markdown",
   "metadata": {
    "pycharm": {
     "name": "#%% md\n"
    }
   },
   "source": [
    "В качестве основных параметров для RandomForestClassifier возьмем:\n",
    "    \n",
    "- n_estimators — число «деревьев» в «случайном лесу».\n",
    "- max_features — число признаков для выбора расщепления.\n",
    "- max_depth — максимальная глубина деревьев.\n",
    "- min_samples_leaf — минимальное число объектов в листьях.\n",
    "- bootstrap — использование "
   ]
  },
  {
   "cell_type": "code",
   "execution_count": 11,
   "metadata": {
    "pycharm": {
     "name": "#%%\n"
    },
    "scrolled": true
   },
   "outputs": [],
   "source": [
    "def findRandomForestClassifierParams(features, target):\n",
    "    \"\"\"\n",
    "    Функция выбирает наилучщий набор гиперпараметров для случайного леса для заданного датасета.\n",
    "    Подбор гиперпараметров осуществляется с помошью RandomizedSearchCV.\n",
    "\n",
    "    :param features: набор признаков\n",
    "    :param target: целевая переменная\n",
    "    :return: наилучший набор гиперпараметров модели\n",
    "    \"\"\"\n",
    "\n",
    "    model = RandomForestClassifier(random_state=12345)\n",
    "\n",
    "    n_estimators = [int(x) for x in np.linspace(start = 1, stop = 300, num = 20)]\n",
    "    max_features = ['log2', 'sqrt', None]\n",
    "    max_depth = [int(x) for x in np.linspace(start = 1, stop = 100, num = 25)]\n",
    "    # min_samples_split = [int(x) for x in np.linspace(start = 2, stop = 50, num = 20)]\n",
    "    min_samples_leaf = [int(x) for x in np.linspace(start = 2, stop = 50, num = 20)]\n",
    "    bootstrap = [True, False]\n",
    "\n",
    "    param_dist = {'n_estimators': n_estimators, # The number of trees in the forest.\n",
    "                   'max_features': max_features,  #The number of features to consider when looking for the best split:\n",
    "                   'max_depth': max_depth, # The maximum depth of the tree.\n",
    "                   #'min_samples_split': min_samples_split,\n",
    "                   'min_samples_leaf': min_samples_leaf,\n",
    "                   'bootstrap': bootstrap}\n",
    "\n",
    "\n",
    "    rs = RandomizedSearchCV(model,\n",
    "                            param_dist,\n",
    "                            n_iter = 100,\n",
    "                            cv = 4,\n",
    "                            # verbose = 1,\n",
    "                            n_jobs=-1,\n",
    "                            random_state=12345)\n",
    "    rs.fit(features, target)\n",
    "    return rs.best_params_\n",
    "\n",
    "\n",
    "def getRandomForestClassifierScore(params, features, target):\n",
    "    \"\"\"\n",
    "    Возвращает величину accuracy и обученную модель RandomForestClassifier\n",
    "    при заданных гиперпараметрах\n",
    "\n",
    "    :param params: гиперпараметры\n",
    "    :param features: набор признаков\n",
    "    :param target: целевая переменная\n",
    "    :return: accuracy\n",
    "    \"\"\"\n",
    "    model = RandomForestClassifier(random_state=12345, **params)\n",
    "    model.fit(features, target)\n",
    "    score = model.score(features, target)\n",
    "    return score, model"
   ]
  },
  {
   "cell_type": "markdown",
   "metadata": {
    "pycharm": {
     "name": "#%% md\n"
    }
   },
   "source": [
    "Рассмотрим три варианта данных - целые, и с убранными столбцами"
   ]
  },
  {
   "cell_type": "code",
   "execution_count": 12,
   "metadata": {
    "pycharm": {
     "name": "#%%\n"
    }
   },
   "outputs": [
    {
     "name": "stdout",
     "output_type": "stream",
     "text": [
      "data 0.8712563204978607\n",
      "{'n_estimators': 189, 'min_samples_leaf': 2, 'max_features': 'sqrt', 'max_depth': 9, 'bootstrap': True} \n",
      "\n",
      "data_without_calls 0.8428626993387787\n",
      "{'n_estimators': 268, 'min_samples_leaf': 14, 'max_features': 'sqrt', 'max_depth': 29, 'bootstrap': False} \n",
      "\n",
      "data_without_minutes 0.8661999222092571\n",
      "{'n_estimators': 300, 'min_samples_leaf': 2, 'max_features': 'log2', 'max_depth': 9, 'bootstrap': True} \n",
      "\n",
      "CPU times: user 9min 45s, sys: 2.39 s, total: 9min 48s\n",
      "Wall time: 9min 49s\n"
     ]
    }
   ],
   "source": [
    "%%time\n",
    "\n",
    "random_forest_result = dict()\n",
    "for name, data in train_data.items():\n",
    "    best_params = findRandomForestClassifierParams(data, target_train)\n",
    "    score, model = getRandomForestClassifierScore(best_params, data, target_train)\n",
    "    \n",
    "    random_forest_result[name] = (model, score)\n",
    "    \n",
    "    print(name, score)\n",
    "    print(best_params, '\\n')     "
   ]
  },
  {
   "cell_type": "markdown",
   "metadata": {
    "pycharm": {
     "name": "#%% md\n"
    }
   },
   "source": [
    "Вывод: наличие и отсутствие столбцов `call` и `minutes`  кардинально на качество модели не влияет. Вместе с тем, оптимальные наборы гиперпараметров получились весьма различными"
   ]
  },
  {
   "cell_type": "markdown",
   "metadata": {
    "pycharm": {
     "name": "#%% md\n"
    }
   },
   "source": [
    "### DecisionTreeClassifier"
   ]
  },
  {
   "cell_type": "markdown",
   "metadata": {
    "pycharm": {
     "name": "#%% md\n"
    }
   },
   "source": [
    "В качестве основных параметров для DecisionTreeClassifier возьмем:\n",
    "    \n",
    "- max_features — число признаков для выбора расщепления.\n",
    "- max_depth — максимальная глубина дерева.\n",
    "- min_samples_leaf — минимальное число объектов в листьях."
   ]
  },
  {
   "cell_type": "code",
   "execution_count": 13,
   "metadata": {
    "pycharm": {
     "name": "#%%\n"
    }
   },
   "outputs": [],
   "source": [
    "def findDecisionTreeClassifierParams(features, target):\n",
    "    \"\"\"\n",
    "    Функция выбирает наилучщий набор гиперпараметров для решающего дерева для заданного датасета.\n",
    "    Подбор гиперпараметров осуществляется с помошью RandomizedSearchCV.\n",
    "\n",
    "    :param features: набор признаков\n",
    "    :param target: целевая переменная\n",
    "    :return: наилучший набор гиперпараметров модели\n",
    "    \"\"\"\n",
    "\n",
    "    model = DecisionTreeClassifier(random_state=12345)\n",
    "\n",
    "    max_depth = [int(x) for x in np.linspace(start = 2, stop = 100, num = 25)]\n",
    "    #min_samples_split = [int(x) for x in np.linspace(start = 2, stop = 50, num = 20)]\n",
    "    min_samples_leaf = [int(x) for x in np.linspace(start = 2, stop = 300, num = 20)]\n",
    "    max_features = [\"auto\", \"sqrt\", \"log2\", None]\n",
    "\n",
    "    param_dist = {#'criterion': criterion, \n",
    "                  # 'splitter': splitter,  \n",
    "                   'max_depth': max_depth, \n",
    "                   #'min_samples_split': min_samples_split,\n",
    "                   'min_samples_leaf': min_samples_leaf,\n",
    "                   'max_features': max_features\n",
    "                 }\n",
    "\n",
    "\n",
    "    rs = RandomizedSearchCV(model,\n",
    "                            param_dist,\n",
    "                            n_iter = 100,\n",
    "                            cv = 4,\n",
    "                            # verbose = 1,\n",
    "                            n_jobs=-1,\n",
    "                            random_state=12345)\n",
    "    rs.fit(features, target)\n",
    "    return rs.best_params_\n",
    "\n",
    "\n",
    "def getDecisionTreeClassifierScore(params, features, target):\n",
    "    \"\"\"\n",
    "    Возвращает величину accuracy и обученную модель DecisionTreeClassifier\n",
    "    при заданных гиперпараметрах\n",
    "\n",
    "    :param params: гиперпараметры\n",
    "    :param features: набор признаков\n",
    "    :param target: целевая переменная\n",
    "    :return: accuracy\n",
    "    \"\"\"\n",
    "\n",
    "    model = DecisionTreeClassifier(random_state=12345, **params)\n",
    "    model.fit(features, target)\n",
    "    score = model.score(features, target)\n",
    "    return score, model"
   ]
  },
  {
   "cell_type": "code",
   "execution_count": 14,
   "metadata": {
    "pycharm": {
     "name": "#%%\n"
    }
   },
   "outputs": [
    {
     "name": "stdout",
     "output_type": "stream",
     "text": [
      "data 0.8059120964605212\n",
      "{'min_samples_leaf': 17, 'max_features': 'sqrt', 'max_depth': 6} \n",
      "\n",
      "data_without_calls 0.8210812913263321\n",
      "{'min_samples_leaf': 17, 'max_features': 'auto', 'max_depth': 91} \n",
      "\n",
      "data_without_minutes 0.8082458187475691\n",
      "{'min_samples_leaf': 49, 'max_features': None, 'max_depth': 63} \n",
      "\n",
      "CPU times: user 6.57 s, sys: 16 ms, total: 6.59 s\n",
      "Wall time: 6.6 s\n"
     ]
    }
   ],
   "source": [
    "%%time\n",
    "\n",
    "decision_tree_result = dict()\n",
    "for name, data in train_data.items():\n",
    "    best_params = findDecisionTreeClassifierParams(data, target_train)\n",
    "    score, model = getDecisionTreeClassifierScore(best_params, data, target_train)\n",
    "    \n",
    "    decision_tree_result[name] = (model, score)\n",
    "    \n",
    "    print(name, score)\n",
    "    print(best_params, '\\n') "
   ]
  },
  {
   "cell_type": "markdown",
   "metadata": {
    "pycharm": {
     "name": "#%% md\n"
    }
   },
   "source": [
    "Вывод: Результат похож на результат с использованием случайного леса -- наличие и отсутствие столбцов `call` и `minutes`  кардинально на качество модели не влияет. Оптимальные наборы гиперпараметров опять получились весьма различными"
   ]
  },
  {
   "cell_type": "markdown",
   "metadata": {
    "pycharm": {
     "name": "#%%\n"
    }
   },
   "source": [
    "### LogisticRegression"
   ]
  },
  {
   "cell_type": "markdown",
   "metadata": {
    "pycharm": {
     "name": "#%% md\n"
    }
   },
   "source": [
    "У логистической регрессии такого обилия  гиперпараметров нет, используем cross_val_score для кросс-валидации"
   ]
  },
  {
   "cell_type": "code",
   "execution_count": 15,
   "metadata": {
    "pycharm": {
     "name": "#%%\n"
    }
   },
   "outputs": [
    {
     "name": "stdout",
     "output_type": "stream",
     "text": [
      "data 0.7339458486553005 \n",
      "\n",
      "data_without_calls 0.7374596057227851 \n",
      "\n",
      "data_without_minutes 0.7355143820584003 \n",
      "\n"
     ]
    }
   ],
   "source": [
    "logistic_regression_result = dict()\n",
    "for name, data in train_data.items():\n",
    "    model = LogisticRegression(random_state=12345)\n",
    "    score = cross_val_score(model, data, target_train, cv=4, scoring = 'accuracy').mean()\n",
    "    model.fit(data, target_train)\n",
    "    \n",
    "    logistic_regression_result[name] = (model, score)\n",
    "    \n",
    "    print(name, score, '\\n') "
   ]
  },
  {
   "cell_type": "markdown",
   "metadata": {
    "pycharm": {
     "name": "#%% md\n"
    }
   },
   "source": [
    "Выыод: у логистической регрессии результат хуже чем у случайного леса,  наличие и отсутствие столбцов call и `minutes` опять же кардинально на качество модели не влияет. "
   ]
  },
  {
   "cell_type": "markdown",
   "metadata": {
    "pycharm": {
     "name": "#%% md\n"
    }
   },
   "source": [
    "### Вывод\n",
    "\n",
    "Посмотрим на сводную таблицу"
   ]
  },
  {
   "cell_type": "code",
   "execution_count": 16,
   "metadata": {
    "pycharm": {
     "name": "#%%\n"
    }
   },
   "outputs": [
    {
     "data": {
      "text/html": [
       "<div>\n",
       "<style scoped>\n",
       "    .dataframe tbody tr th:only-of-type {\n",
       "        vertical-align: middle;\n",
       "    }\n",
       "\n",
       "    .dataframe tbody tr th {\n",
       "        vertical-align: top;\n",
       "    }\n",
       "\n",
       "    .dataframe thead th {\n",
       "        text-align: right;\n",
       "    }\n",
       "</style>\n",
       "<table border=\"1\" class=\"dataframe\">\n",
       "  <thead>\n",
       "    <tr style=\"text-align: right;\">\n",
       "      <th></th>\n",
       "      <th>data</th>\n",
       "      <th>data_without_calls</th>\n",
       "      <th>data_without_minutes</th>\n",
       "    </tr>\n",
       "  </thead>\n",
       "  <tbody>\n",
       "    <tr>\n",
       "      <th>random_forest</th>\n",
       "      <td>0.871256</td>\n",
       "      <td>0.842863</td>\n",
       "      <td>0.866200</td>\n",
       "    </tr>\n",
       "    <tr>\n",
       "      <th>decision_tree</th>\n",
       "      <td>0.805912</td>\n",
       "      <td>0.821081</td>\n",
       "      <td>0.808246</td>\n",
       "    </tr>\n",
       "    <tr>\n",
       "      <th>logistic_regression</th>\n",
       "      <td>0.733946</td>\n",
       "      <td>0.737460</td>\n",
       "      <td>0.735514</td>\n",
       "    </tr>\n",
       "  </tbody>\n",
       "</table>\n",
       "</div>"
      ],
      "text/plain": [
       "                         data  data_without_calls  data_without_minutes\n",
       "random_forest        0.871256            0.842863              0.866200\n",
       "decision_tree        0.805912            0.821081              0.808246\n",
       "logistic_regression  0.733946            0.737460              0.735514"
      ]
     },
     "execution_count": 16,
     "metadata": {},
     "output_type": "execute_result"
    }
   ],
   "source": [
    "test_data_result = pd.DataFrame([\n",
    "    {k:v[1] for k,v in random_forest_result.items()}, \n",
    "    {k:v[1] for k,v in decision_tree_result.items()},\n",
    "    {k:v[1] for k,v in logistic_regression_result.items()}, \n",
    "    ],\n",
    "    index = ['random_forest','decision_tree', 'logistic_regression', ])\n",
    "\n",
    "test_data_result"
   ]
  },
  {
   "cell_type": "markdown",
   "metadata": {
    "pycharm": {
     "name": "#%% md\n"
    }
   },
   "source": [
    "Наилучший результат на тестовых данных у случайного леса с полной информацией и о звонках и о их продолжительности. Удаление одного из признаков `call` и `minutes` существенно не влияет на качество модели - и даже незначительно ухущает. Можно сделать вывод что эти признаки независимы."
   ]
  },
  {
   "cell_type": "code",
   "execution_count": 17,
   "metadata": {
    "pycharm": {
     "name": "#%%\n"
    }
   },
   "outputs": [
    {
     "data": {
      "text/plain": [
       "RandomForestClassifier(max_depth=9, max_features='sqrt', min_samples_leaf=2,\n",
       "                       n_estimators=189, random_state=12345)"
      ]
     },
     "execution_count": 17,
     "metadata": {},
     "output_type": "execute_result"
    }
   ],
   "source": [
    "best_model = random_forest_result['data'][0]\n",
    "best_model"
   ]
  },
  {
   "cell_type": "markdown",
   "metadata": {
    "pycharm": {
     "name": "#%% md\n"
    }
   },
   "source": [
    "## Исследование влияния количества деревьев на качество моделей"
   ]
  },
  {
   "cell_type": "code",
   "execution_count": 18,
   "metadata": {
    "pycharm": {
     "name": "#%%\n"
    }
   },
   "outputs": [],
   "source": [
    "def getModelsForMaxDepthInvestigation(classifier,  X, y, max_depth):\n",
    "    \n",
    "    \"\"\"\n",
    "    Возвращает список обученных на признаках `X` и таргете `y` моделей\n",
    "    с глубиной дерева от 1 до max_depth\n",
    "\n",
    "    :param classifier: классификатор - DecisionTreeClassifier или RandomForestClassifier\n",
    "    :param X: набор признаков\n",
    "    :param y: целевая переменная\n",
    "    :return: список обученных моделей\n",
    "    \"\"\"\n",
    "\n",
    "    result = []\n",
    "    for depth in range(1, max_depth):\n",
    "        model = classifier(random_state=12345, max_depth=depth)\n",
    "        model.fit(X, y)\n",
    "        result.append(model)\n",
    "    return result"
   ]
  },
  {
   "cell_type": "code",
   "execution_count": 19,
   "metadata": {
    "pycharm": {
     "name": "#%%\n"
    }
   },
   "outputs": [
    {
     "name": "stdout",
     "output_type": "stream",
     "text": [
      "CPU times: user 24 s, sys: 296 ms, total: 24.3 s\n",
      "Wall time: 24.5 s\n"
     ]
    }
   ],
   "source": [
    "%%time\n",
    "\n",
    "DT_models = getModelsForMaxDepthInvestigation(DecisionTreeClassifier, features_train, target_train, 50)\n",
    "RF_models = getModelsForMaxDepthInvestigation(RandomForestClassifier, features_train, target_train, 50)\n",
    "\n",
    "DT_train_score = [model.score(features_train, target_train) for model in DT_models]\n",
    "DT_valid_score = [model.score(features_valid, target_valid) for model in DT_models]\n",
    "\n",
    "RF_train_score = [model.score(features_train, target_train) for model in RF_models]\n",
    "RF_valid_score = [model.score(features_valid, target_valid) for model in RF_models]"
   ]
  },
  {
   "cell_type": "code",
   "execution_count": 20,
   "metadata": {
    "pycharm": {
     "name": "#%%\n"
    }
   },
   "outputs": [
    {
     "data": {
      "image/png": "[encoded data removed]",
      "text/plain": [
       "<Figure size 1200x480 with 1 Axes>"
      ]
     },
     "metadata": {
      "needs_background": "light"
     },
     "output_type": "display_data"
    }
   ],
   "source": [
    "figure(figsize=(15, 6), dpi=80)\n",
    "plt.plot(DT_train_score, color='b')\n",
    "plt.plot(DT_valid_score, color='r')\n",
    "plt.plot(RF_train_score, c='g')\n",
    "plt.plot(RF_valid_score, c='y')\n",
    "plt.legend([\n",
    "    'Качество DT на тестовой выборке', \n",
    "    'Качество DT на валидационной выборке',\n",
    "    'Качество RF на тестовой выборке', \n",
    "    'Качество RF на валидационной выборке',\n",
    "])\n",
    "plt.xticks(np.arange(0, 50, step=5)) \n",
    "plt.ylabel('accuracy')\n",
    "plt.xlabel('Максимальная глубина дерева')\n",
    "plt.title('Зависимость точности от глубины дерева')\n",
    "plt.grid()\n",
    "plt.show()"
   ]
  },
  {
   "cell_type": "markdown",
   "metadata": {
    "pycharm": {
     "name": "#%% md\n"
    }
   },
   "source": [
    "У DT точность на валидационной выборке растет до глубины 8-10, дальше точность растет только на тренировочной выборке, на валидационной резко падает - происходит переобучение.\n",
    "\n",
    "У RF точность достигает максимума в интервале глубины 8-20, дальше точность на валидационной несколько снижается - по всей видимости несмотря на стойкость RF к переобучению, качество модели тоже снижается.\n",
    "\n",
    "После того как качество DT и RF на тестовой выборке достигает единицы, дальнейшее разбиение решающих деревьев на узлы прекращается и модель перестает менятся - как, соответственно и результат на валидационных данных)\n",
    "\n",
    "Точность RF выше чем DT - что логично)"
   ]
  },
  {
   "cell_type": "markdown",
   "metadata": {
    "pycharm": {
     "name": "#%% md\n"
    }
   },
   "source": [
    "<div class=\"alert alert-success\">\n",
    "<font size=\"5\"><b>Комментарий ревьюераV2</b></font>\n",
    "\n",
    "Успех:\n",
    "\n",
    "Огонь! Буду твою работу показывать другим студентам, чтобы знали как надо)\n",
    "    \n",
    "    \n",
    "У RF тоже припадает, но разница есть, он скорее застывает, а DT падает и падает. Отличная иллюстрация того как RF устойчив к переобучению, а DT сильно переобучается.  Вот такую идею я и мел в виду.      \n",
    "</div>"
   ]
  },
  {
   "cell_type": "markdown",
   "metadata": {
    "pycharm": {
     "name": "#%% md\n"
    }
   },
   "source": [
    "## Проверьте модель на тестовой выборке"
   ]
  },
  {
   "cell_type": "markdown",
   "metadata": {
    "pycharm": {
     "name": "#%% md\n"
    }
   },
   "source": [
    "Проверим лучшую модель на валидационных данных"
   ]
  },
  {
   "cell_type": "code",
   "execution_count": 21,
   "metadata": {
    "pycharm": {
     "name": "#%%\n"
    }
   },
   "outputs": [
    {
     "data": {
      "text/plain": [
       "0.8164852255054432"
      ]
     },
     "execution_count": 21,
     "metadata": {},
     "output_type": "execute_result"
    }
   ],
   "source": [
    "score = best_model.score(features_valid, target_valid)\n",
    "score"
   ]
  },
  {
   "cell_type": "markdown",
   "metadata": {
    "pycharm": {
     "name": "#%% md\n"
    }
   },
   "source": [
    "Наилучший результат получаем при использовании случайного леса как на тренировочных данных так и на тестовых."
   ]
  },
  {
   "cell_type": "markdown",
   "metadata": {
    "pycharm": {
     "name": "#%% md\n"
    }
   },
   "source": [
    "## (бонус) Проверьте модели на адекватность"
   ]
  },
  {
   "cell_type": "markdown",
   "metadata": {
    "pycharm": {
     "name": "#%% md\n"
    }
   },
   "source": [
    "Построим простой классификатор, который выдаёт на каждом объекте константное предсказание – самый часто встречающийся класс."
   ]
  },
  {
   "cell_type": "code",
   "execution_count": 22,
   "metadata": {
    "pycharm": {
     "name": "#%%\n"
    }
   },
   "outputs": [
    {
     "data": {
      "text/plain": [
       "DummyClassifier(strategy='most_frequent')"
      ]
     },
     "execution_count": 22,
     "metadata": {},
     "output_type": "execute_result"
    }
   ],
   "source": [
    "simple_model = DummyClassifier(strategy=\"most_frequent\") \n",
    "simple_model.fit(features_train, target_train) "
   ]
  },
  {
   "cell_type": "code",
   "execution_count": 23,
   "metadata": {
    "pycharm": {
     "name": "#%%\n"
    }
   },
   "outputs": [
    {
     "data": {
      "text/plain": [
       "0.6936236391912908"
      ]
     },
     "execution_count": 23,
     "metadata": {},
     "output_type": "execute_result"
    }
   ],
   "source": [
    "score = simple_model.score(features_valid, target_valid)\n",
    "score"
   ]
  },
  {
   "cell_type": "markdown",
   "metadata": {
    "pycharm": {
     "name": "#%% md\n"
    }
   },
   "source": [
    "### Вывод: \n",
    "На рассматриваемом датасете dummy-классификатор предсказывает результат хуже чем случайный лес или решающе дерево, но почти так же хорошо как логистическая регрессия"
   ]
  },
  {
   "cell_type": "markdown",
   "metadata": {
    "pycharm": {
     "name": "#%% md\n"
    }
   },
   "source": [
    "# Вывод\n",
    "\n",
    "В работе решалась задача построения класификатора, позволяющего рекомендовать тариф польщователю в соответствии с его поведением. \n",
    "\n",
    "В ходе работы было проведено исследование и выбран наилучший классификатор из списка:`RandomForestClassifier`, `LogisticRegression`, `DecisionTreeClassifier`  для поставленной задачи.\n",
    "\n",
    "Данные были разбиты на обучающую и тестовую выборки, подбор оптимальных параметров моделей происходил при помощи рандомного поиска с использованием кросс-валидации.\n",
    "\n",
    "В качества наилучшей модели по результатам на обучающей выборке данных была выбран `RandomForestClassifier`."
   ]
  },
  {
   "cell_type": "markdown",
   "metadata": {
    "pycharm": {
     "name": "#%% md\n"
    }
   },
   "source": [
    "## Чек-лист готовности проекта"
   ]
  },
  {
   "cell_type": "markdown",
   "metadata": {
    "pycharm": {
     "name": "#%% md\n"
    }
   },
   "source": [
    "Поставьте 'x' в выполненных пунктах. Далее нажмите Shift+Enter."
   ]
  },
  {
   "cell_type": "markdown",
   "metadata": {
    "pycharm": {
     "name": "#%% md\n"
    }
   },
   "source": [
    "- [x] Jupyter Notebook открыт\n",
    "- [x] Весь код исполняется без ошибок\n",
    "- [x] Ячейки с кодом расположены в порядке исполнения\n",
    "- [x] Выполнено задание 1: данные загружены и изучены\n",
    "- [x] Выполнено задание 2: данные разбиты на три выборки\n",
    "- [x] Выполнено задание 3: проведено исследование моделей\n",
    "    - [x] Рассмотрено больше одной модели\n",
    "    - [x] Рассмотрено хотя бы 3 значения гипепараметров для какой-нибудь модели\n",
    "    - [x] Написаны выводы по результатам исследования\n",
    "- [x] Выполнено задание 3: Проведено тестирование\n",
    "- [x] Удалось достичь accuracy не меньше 0.75\n"
   ]
  },
  {
   "cell_type": "code",
   "execution_count": null,
   "metadata": {
    "pycharm": {
     "name": "#%%\n"
    }
   },
   "outputs": [],
   "source": []
  }
 ],
 "metadata": {
  "ExecuteTimeLog": [
   {
    "duration": 78,
    "start_time": "2022-05-11T14:52:11.818Z"
   },
   {
    "duration": 3297,
    "start_time": "2022-05-11T14:52:25.391Z"
   },
   {
    "duration": 23,
    "start_time": "2022-05-11T14:52:32.617Z"
   },
   {
    "duration": 20,
    "start_time": "2022-05-11T14:52:42.065Z"
   },
   {
    "duration": 17,
    "start_time": "2022-05-11T14:52:49.788Z"
   },
   {
    "duration": 9,
    "start_time": "2022-05-11T14:53:42.131Z"
   },
   {
    "duration": 8,
    "start_time": "2022-05-11T15:20:38.696Z"
   },
   {
    "duration": 31,
    "start_time": "2022-05-11T15:21:14.151Z"
   },
   {
    "duration": 45,
    "start_time": "2022-05-11T15:21:17.716Z"
   },
   {
    "duration": 90,
    "start_time": "2022-05-11T15:21:20.820Z"
   },
   {
    "duration": 138,
    "start_time": "2022-05-11T15:21:24.499Z"
   },
   {
    "duration": 117,
    "start_time": "2022-05-11T15:21:27.442Z"
   },
   {
    "duration": 426,
    "start_time": "2022-05-11T15:22:13.458Z"
   },
   {
    "duration": 127,
    "start_time": "2022-05-11T15:23:44.813Z"
   },
   {
    "duration": 632,
    "start_time": "2022-05-11T15:24:00.615Z"
   },
   {
    "duration": 1779,
    "start_time": "2022-05-11T15:24:07.356Z"
   },
   {
    "duration": 9655,
    "start_time": "2022-05-11T15:24:13.942Z"
   },
   {
    "duration": 4,
    "start_time": "2022-05-11T15:32:04.239Z"
   },
   {
    "duration": 28939,
    "start_time": "2022-05-11T15:36:09.074Z"
   },
   {
    "duration": 78,
    "start_time": "2022-05-11T15:40:02.218Z"
   },
   {
    "duration": 28646,
    "start_time": "2022-05-11T15:40:37.695Z"
   },
   {
    "duration": 29348,
    "start_time": "2022-05-11T15:41:19.109Z"
   },
   {
    "duration": 165,
    "start_time": "2022-05-11T15:42:42.305Z"
   },
   {
    "duration": 207,
    "start_time": "2022-05-11T15:42:54.068Z"
   },
   {
    "duration": 172,
    "start_time": "2022-05-11T15:43:24.410Z"
   },
   {
    "duration": 1368,
    "start_time": "2022-05-11T15:45:04.894Z"
   },
   {
    "duration": 207,
    "start_time": "2022-05-11T15:45:21.972Z"
   },
   {
    "duration": 1695,
    "start_time": "2022-05-11T15:45:53.162Z"
   },
   {
    "duration": 1335,
    "start_time": "2022-05-11T15:46:19.654Z"
   },
   {
    "duration": 1397,
    "start_time": "2022-05-11T15:46:37.513Z"
   },
   {
    "duration": 1206,
    "start_time": "2022-05-11T16:28:29.949Z"
   },
   {
    "duration": 1321,
    "start_time": "2022-05-11T16:45:15.532Z"
   },
   {
    "duration": 1275,
    "start_time": "2022-05-11T16:47:22.355Z"
   },
   {
    "duration": 28732,
    "start_time": "2022-05-11T16:48:58.008Z"
   },
   {
    "duration": 174,
    "start_time": "2022-05-11T16:49:34.669Z"
   },
   {
    "duration": 80,
    "start_time": "2022-05-11T16:50:56.722Z"
   },
   {
    "duration": 38249,
    "start_time": "2022-05-11T16:52:20.925Z"
   },
   {
    "duration": 1120,
    "start_time": "2022-05-11T16:55:45.549Z"
   },
   {
    "duration": 8,
    "start_time": "2022-05-11T16:56:13.923Z"
   },
   {
    "duration": 45,
    "start_time": "2022-05-11T16:57:33.004Z"
   },
   {
    "duration": 9987,
    "start_time": "2022-05-11T16:58:20.541Z"
   },
   {
    "duration": 37918,
    "start_time": "2022-05-11T16:59:20.540Z"
   },
   {
    "duration": 193,
    "start_time": "2022-05-11T17:00:02.726Z"
   },
   {
    "duration": 186,
    "start_time": "2022-05-11T17:00:27.791Z"
   },
   {
    "duration": 40259,
    "start_time": "2022-05-11T17:01:03.528Z"
   },
   {
    "duration": 209,
    "start_time": "2022-05-11T17:01:47.389Z"
   },
   {
    "duration": 49627,
    "start_time": "2022-05-11T17:02:12.405Z"
   },
   {
    "duration": 193,
    "start_time": "2022-05-11T17:03:25.014Z"
   },
   {
    "duration": 8,
    "start_time": "2022-05-11T17:03:50.294Z"
   },
   {
    "duration": 10240,
    "start_time": "2022-05-11T17:03:54.596Z"
   },
   {
    "duration": 49258,
    "start_time": "2022-05-11T17:04:04.840Z"
   },
   {
    "duration": 196,
    "start_time": "2022-05-11T17:05:00.995Z"
   },
   {
    "duration": 4,
    "start_time": "2022-05-11T17:05:19.945Z"
   },
   {
    "duration": 4,
    "start_time": "2022-05-11T17:08:07.376Z"
   },
   {
    "duration": 1430,
    "start_time": "2022-05-11T17:09:53.295Z"
   },
   {
    "duration": 1045,
    "start_time": "2022-05-11T17:10:07.280Z"
   },
   {
    "duration": 1790,
    "start_time": "2022-05-11T17:10:17.733Z"
   },
   {
    "duration": 1913,
    "start_time": "2022-05-26T04:43:54.355Z"
   },
   {
    "duration": 136,
    "start_time": "2022-05-26T04:43:56.270Z"
   },
   {
    "duration": 0,
    "start_time": "2022-05-26T04:43:56.409Z"
   },
   {
    "duration": 0,
    "start_time": "2022-05-26T04:43:56.411Z"
   },
   {
    "duration": 0,
    "start_time": "2022-05-26T04:43:56.412Z"
   },
   {
    "duration": 0,
    "start_time": "2022-05-26T04:43:56.413Z"
   },
   {
    "duration": 0,
    "start_time": "2022-05-26T04:43:56.414Z"
   },
   {
    "duration": 0,
    "start_time": "2022-05-26T04:43:56.415Z"
   },
   {
    "duration": 0,
    "start_time": "2022-05-26T04:43:56.416Z"
   },
   {
    "duration": 0,
    "start_time": "2022-05-26T04:43:56.417Z"
   },
   {
    "duration": 0,
    "start_time": "2022-05-26T04:43:56.419Z"
   },
   {
    "duration": 0,
    "start_time": "2022-05-26T04:43:56.420Z"
   },
   {
    "duration": 0,
    "start_time": "2022-05-26T04:43:56.421Z"
   },
   {
    "duration": 0,
    "start_time": "2022-05-26T04:43:56.422Z"
   },
   {
    "duration": 0,
    "start_time": "2022-05-26T04:43:56.423Z"
   },
   {
    "duration": 0,
    "start_time": "2022-05-26T04:43:56.455Z"
   },
   {
    "duration": 0,
    "start_time": "2022-05-26T04:43:56.456Z"
   },
   {
    "duration": 0,
    "start_time": "2022-05-26T04:43:56.456Z"
   },
   {
    "duration": 0,
    "start_time": "2022-05-26T04:43:56.457Z"
   },
   {
    "duration": 0,
    "start_time": "2022-05-26T04:43:56.458Z"
   },
   {
    "duration": 0,
    "start_time": "2022-05-26T04:43:56.459Z"
   },
   {
    "duration": 127,
    "start_time": "2022-05-26T04:44:19.641Z"
   },
   {
    "duration": 36,
    "start_time": "2022-05-26T04:44:53.154Z"
   },
   {
    "duration": 4,
    "start_time": "2022-05-26T04:44:56.741Z"
   },
   {
    "duration": 54,
    "start_time": "2022-05-26T04:44:56.748Z"
   },
   {
    "duration": 14,
    "start_time": "2022-05-26T04:44:56.804Z"
   },
   {
    "duration": 12,
    "start_time": "2022-05-26T04:44:56.821Z"
   },
   {
    "duration": 432,
    "start_time": "2022-05-26T04:44:56.835Z"
   },
   {
    "duration": 7,
    "start_time": "2022-05-26T04:44:57.269Z"
   },
   {
    "duration": 8,
    "start_time": "2022-05-26T04:44:57.278Z"
   },
   {
    "duration": 8,
    "start_time": "2022-05-26T04:44:57.287Z"
   },
   {
    "duration": 7,
    "start_time": "2022-05-26T04:44:57.296Z"
   },
   {
    "duration": 2026227,
    "start_time": "2022-05-26T04:44:57.306Z"
   },
   {
    "duration": 6,
    "start_time": "2022-05-26T05:18:43.534Z"
   },
   {
    "duration": 8492,
    "start_time": "2022-05-26T05:18:43.541Z"
   },
   {
    "duration": 1839,
    "start_time": "2022-05-26T05:18:52.036Z"
   },
   {
    "duration": 11,
    "start_time": "2022-05-26T05:18:53.880Z"
   },
   {
    "duration": 312,
    "start_time": "2022-05-26T05:18:53.892Z"
   },
   {
    "duration": 12,
    "start_time": "2022-05-26T05:18:54.206Z"
   },
   {
    "duration": 21,
    "start_time": "2022-05-26T05:18:54.220Z"
   },
   {
    "duration": 34,
    "start_time": "2022-05-26T05:18:54.243Z"
   },
   {
    "duration": 39,
    "start_time": "2022-05-26T05:18:54.279Z"
   },
   {
    "duration": 42,
    "start_time": "2022-05-26T05:18:54.320Z"
   },
   {
    "duration": 28,
    "start_time": "2022-05-26T05:18:54.364Z"
   },
   {
    "duration": 10,
    "start_time": "2022-05-26T05:34:03.180Z"
   },
   {
    "duration": 1461,
    "start_time": "2022-05-26T22:26:21.702Z"
   },
   {
    "duration": 125,
    "start_time": "2022-05-26T22:26:23.165Z"
   },
   {
    "duration": 12,
    "start_time": "2022-05-26T22:26:23.292Z"
   },
   {
    "duration": 11,
    "start_time": "2022-05-26T22:26:23.306Z"
   },
   {
    "duration": 402,
    "start_time": "2022-05-26T22:26:23.319Z"
   },
   {
    "duration": 9,
    "start_time": "2022-05-26T22:26:23.723Z"
   },
   {
    "duration": 29,
    "start_time": "2022-05-26T22:26:23.734Z"
   },
   {
    "duration": 5,
    "start_time": "2022-05-26T22:26:23.765Z"
   },
   {
    "duration": 7,
    "start_time": "2022-05-26T22:26:23.772Z"
   },
   {
    "duration": 6,
    "start_time": "2022-05-26T22:26:23.782Z"
   },
   {
    "duration": 10,
    "start_time": "2022-05-26T22:26:23.789Z"
   },
   {
    "duration": 41049,
    "start_time": "2022-05-26T22:26:23.801Z"
   },
   {
    "duration": 15,
    "start_time": "2022-05-26T22:27:04.852Z"
   },
   {
    "duration": 1321,
    "start_time": "2022-05-26T22:27:13.564Z"
   },
   {
    "duration": 30,
    "start_time": "2022-05-26T22:27:14.887Z"
   },
   {
    "duration": 13,
    "start_time": "2022-05-26T22:27:14.919Z"
   },
   {
    "duration": 12,
    "start_time": "2022-05-26T22:27:14.934Z"
   },
   {
    "duration": 371,
    "start_time": "2022-05-26T22:27:14.948Z"
   },
   {
    "duration": 8,
    "start_time": "2022-05-26T22:27:15.321Z"
   },
   {
    "duration": 12,
    "start_time": "2022-05-26T22:27:15.331Z"
   },
   {
    "duration": 18,
    "start_time": "2022-05-26T22:27:15.345Z"
   },
   {
    "duration": 13,
    "start_time": "2022-05-26T22:27:15.365Z"
   },
   {
    "duration": 11,
    "start_time": "2022-05-26T22:27:15.380Z"
   },
   {
    "duration": 17,
    "start_time": "2022-05-26T22:27:15.393Z"
   },
   {
    "duration": 589657,
    "start_time": "2022-05-26T22:27:15.412Z"
   },
   {
    "duration": 6,
    "start_time": "2022-05-26T22:37:05.071Z"
   },
   {
    "duration": 6609,
    "start_time": "2022-05-26T22:37:05.079Z"
   },
   {
    "duration": 959,
    "start_time": "2022-05-26T22:37:11.690Z"
   },
   {
    "duration": 12,
    "start_time": "2022-05-26T22:37:12.664Z"
   },
   {
    "duration": 16,
    "start_time": "2022-05-26T22:37:12.679Z"
   },
   {
    "duration": 6,
    "start_time": "2022-05-26T22:37:12.696Z"
   },
   {
    "duration": 24468,
    "start_time": "2022-05-26T22:37:12.703Z"
   },
   {
    "duration": 269,
    "start_time": "2022-05-26T22:37:37.172Z"
   },
   {
    "duration": 57,
    "start_time": "2022-05-26T22:37:37.443Z"
   },
   {
    "duration": 5,
    "start_time": "2022-05-26T22:37:37.502Z"
   },
   {
    "duration": 8,
    "start_time": "2022-05-26T22:37:37.508Z"
   }
  ],
  "kernelspec": {
   "display_name": "Python 3 (ipykernel)",
   "language": "python",
   "name": "python3"
  },
  "language_info": {
   "codemirror_mode": {
    "name": "ipython",
    "version": 3
   },
   "file_extension": ".py",
   "mimetype": "text/x-python",
   "name": "python",
   "nbconvert_exporter": "python",
   "pygments_lexer": "ipython3",
   "version": "3.10.4"
  },
  "toc": {
   "base_numbering": 1,
   "nav_menu": {},
   "number_sections": true,
   "sideBar": true,
   "skip_h1_title": true,
   "title_cell": "Table of Contents",
   "title_sidebar": "Contents",
   "toc_cell": false,
   "toc_position": {},
   "toc_section_display": true,
   "toc_window_display": false
  }
 },
 "nbformat": 4,
 "nbformat_minor": 2
}
