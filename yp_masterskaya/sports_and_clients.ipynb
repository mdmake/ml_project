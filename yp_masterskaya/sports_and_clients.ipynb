{
 "cells": [
  {
   "cell_type": "code",
   "execution_count": 1,
   "id": "f08ea289",
   "metadata": {
    "pycharm": {
     "name": "#%%\n"
    }
   },
   "outputs": [
    {
     "data": {
      "text/html": [
       "<style>.container { width:100% !important; }</style>"
      ],
      "text/plain": [
       "<IPython.core.display.HTML object>"
      ]
     },
     "metadata": {},
     "output_type": "display_data"
    }
   ],
   "source": [
    "from IPython.display import display, HTML\n",
    "\n",
    "display(HTML(\"<style>.container { width:100% !important; }</style>\"))"
   ]
  },
  {
   "cell_type": "code",
   "execution_count": 2,
   "id": "9e47f413-b381-4212-a3d0-911038f5c1ee",
   "metadata": {
    "pycharm": {
     "name": "#%%\n"
    }
   },
   "outputs": [],
   "source": [
    "import pandas as pd\n",
    "import numpy as np\n",
    "import matplotlib.pyplot as plt\n",
    "import seaborn as sns\n",
    "\n",
    "from sklearn.model_selection import train_test_split\n",
    "from catboost import CatBoostClassifier\n",
    "\n",
    "from sklearn.model_selection import GridSearchCV\n",
    "\n",
    "from sklearn.metrics import accuracy_score\n",
    "from sklearn.metrics import precision_score\n",
    "from sklearn.metrics import recall_score\n",
    "from sklearn.metrics import f1_score\n",
    "from sklearn.metrics import roc_auc_score\n",
    "from sklearn.metrics import make_scorer\n",
    "from sklearn.metrics import plot_roc_curve\n",
    "\n",
    "from sklearn.linear_model import LogisticRegression\n",
    "\n",
    "from sklearn.metrics import confusion_matrix\n",
    "\n",
    "from sklearn.pipeline import Pipeline, FeatureUnion, make_pipeline\n",
    "from sklearn.preprocessing import OneHotEncoder\n",
    "from sklearn.base import BaseEstimator, TransformerMixin"
   ]
  },
  {
   "cell_type": "markdown",
   "id": "7979671c-c3a8-413d-95fb-5aefd5fcf655",
   "metadata": {
    "pycharm": {
     "name": "#%% md\n"
    }
   },
   "source": [
    "## Описание данных\n",
    "\n",
    "### Таблица `clients`\n",
    "- `Дата добавления` - норм\n",
    "- `Тип карты` - один у всех, \n",
    "- `Номер карты` - норм,\n",
    "- `Моб.телефон` - норм, \n",
    "- `Фамилия` - +`Имя`+`Отчество` есть незначительное количество дубликатов, \n",
    "- `Имя`, \n",
    "- `Отчество`, \n",
    "- `Пол` - часть народе без пола, \n",
    "- `Дата рождения` - есть артефакты,\n",
    "- `По рекомендации`  - один у всех, \n",
    "- `Всего бонусов` + , \n",
    "- `Активные бонусы` + ,\n",
    "- `Неактивные бонусы` + , \n",
    "- `Получено бонусов` + , \n",
    "- `Использовано бонусов` + ,\n",
    "- `Дата последней покупки` + , \n",
    "- `Покупок` + , \n",
    "- `Средний чек (руб)` + ,\n",
    "- `Сумма покупок (руб)` + , \n",
    "- `Инстаграм`  - один у всех, \n",
    "- `ВКонтакте`  - один у всех, \n",
    "- `Одноклассники`  - один у всех,\n",
    "- `Адрес`  - один у всех, \n",
    "- `Создан кассиром` - норм, \n",
    "- `Создан в магазине` - норм, \n",
    "- `Магазин`  - у части нет, \n",
    "- `Адрес.1`  - норм, у части  нет,\n",
    "- `Согласие на СМС`  - норм, \n",
    "- `Согласие на рекламу` - по большей части норм, не до конца понятно что значит `Да*`\n",
    "\n",
    "\n",
    "### Таблица `purchases`\n",
    "\n",
    "- `Дата операции` - по ошибке, \n",
    "- `Тип операции` - нет пустых, подтипы\n",
    "    - `Покупка` - все стандартно, начисляются бонусы, позиции в чеке все разные, \n",
    "    - `Подарок на день рождения близких`,\n",
    "    - `Подарок на день рождения`, \n",
    "    - `Автоматическое сгорание`,\n",
    "    - `Корректировка`, \n",
    "    - `Возврат`, \n",
    "    - `Подарок`\n",
    "- `Моб.телефон`,\n",
    "- `Списано бонусов`, \n",
    "- `Начислено бонусов`, \n",
    "- `№ чека`, \n",
    "- `Сумма покупки`,\n",
    "- `Сумма скидки`, \n",
    "- `Оплата в рублях`, \n",
    "- `Оплата бонусами`, \n",
    "- `Тип карты`,\n",
    "- `Номер карты`, \n",
    "- `Кассир`, \n",
    "- `Магазин`, \n",
    "- `Комментарий` - если поле `Тип операции` == `Возврат`, то комменнтарий тоже `Возврат`, в противном случаее `nan`\n",
    "- `Товар`,\n",
    "- `Количество`, \n",
    "- `Категория товара`, \n",
    "- `Дополнительная информация`"
   ]
  },
  {
   "cell_type": "markdown",
   "id": "00bc127d-31e7-4338-9765-25e56c89b75e",
   "metadata": {
    "pycharm": {
     "name": "#%% md\n"
    }
   },
   "source": [
    "## Константы"
   ]
  },
  {
   "cell_type": "code",
   "execution_count": 3,
   "id": "309ae091-5e2a-47d1-abd0-c1c5b62b5590",
   "metadata": {
    "pycharm": {
     "name": "#%%\n"
    }
   },
   "outputs": [],
   "source": [
    "# Дата выгрузки\n",
    "EXTRACT_DATE = pd.to_datetime('2022-10-22')\n",
    "\n",
    "# количество дней, после которых мы считаем, что клиент ушел\n",
    "LEAVE = 400\n",
    "\n",
    "\n",
    "RANDOM_STATE = 42"
   ]
  },
  {
   "cell_type": "markdown",
   "id": "f87f9743-c00b-4c12-a490-4dc8c0b7b1d4",
   "metadata": {
    "pycharm": {
     "name": "#%% md\n"
    }
   },
   "source": [
    "## EDA"
   ]
  },
  {
   "cell_type": "code",
   "execution_count": 4,
   "id": "8c555fd1-1209-44e5-a544-d143bf3319b0",
   "metadata": {
    "pycharm": {
     "name": "#%%\n"
    }
   },
   "outputs": [],
   "source": [
    "client = pd.read_csv('data/clients.csv')"
   ]
  },
  {
   "cell_type": "code",
   "execution_count": 5,
   "id": "7825cd1e-05b0-4061-8a6a-5c2aa66181b0",
   "metadata": {
    "pycharm": {
     "name": "#%%\n"
    }
   },
   "outputs": [
    {
     "name": "stdout",
     "output_type": "stream",
     "text": [
      "<class 'pandas.core.frame.DataFrame'>\n",
      "RangeIndex: 21004 entries, 0 to 21003\n",
      "Data columns (total 30 columns):\n",
      " #   Column                  Non-Null Count  Dtype  \n",
      "---  ------                  --------------  -----  \n",
      " 0   Unnamed: 0              21004 non-null  int64  \n",
      " 1   Дата добавления         21004 non-null  object \n",
      " 2   Тип карты               21004 non-null  object \n",
      " 3   Номер карты             21004 non-null  object \n",
      " 4   Моб.телефон             21004 non-null  object \n",
      " 5   Фамилия                 21004 non-null  object \n",
      " 6   Имя                     21004 non-null  object \n",
      " 7   Отчество                21004 non-null  object \n",
      " 8   Пол                     20039 non-null  object \n",
      " 9   Дата рождения           20836 non-null  object \n",
      " 10  По рекомендации         0 non-null      float64\n",
      " 11  Всего бонусов           21004 non-null  float64\n",
      " 12  Активные бонусы         21004 non-null  float64\n",
      " 13  Неактивные бонусы       21004 non-null  int64  \n",
      " 14  Получено бонусов        21004 non-null  int64  \n",
      " 15  Использовано бонусов    21004 non-null  float64\n",
      " 16  Дата последней покупки  20716 non-null  object \n",
      " 17  Покупок                 21004 non-null  int64  \n",
      " 18  Средний чек (руб)       21004 non-null  float64\n",
      " 19  Сумма покупок (руб)     21004 non-null  float64\n",
      " 20  Инстаграм               0 non-null      float64\n",
      " 21  ВКонтакте               0 non-null      float64\n",
      " 22  Одноклассники           0 non-null      float64\n",
      " 23  Адрес                   0 non-null      float64\n",
      " 24  Создан кассиром         21004 non-null  object \n",
      " 25  Создан в магазине       17507 non-null  object \n",
      " 26  Магазин                 21003 non-null  object \n",
      " 27  Адрес.1                 20878 non-null  float64\n",
      " 28  Согласие на СМС         21004 non-null  object \n",
      " 29  Согласие на рекламу     21004 non-null  object \n",
      "dtypes: float64(11), int64(4), object(15)\n",
      "memory usage: 4.8+ MB\n"
     ]
    }
   ],
   "source": [
    "client.info()"
   ]
  },
  {
   "cell_type": "markdown",
   "id": "a85e11ef",
   "metadata": {},
   "source": [
    "#### Поправим очевидные опечатки"
   ]
  },
  {
   "cell_type": "code",
   "execution_count": 6,
   "id": "7640f132",
   "metadata": {},
   "outputs": [
    {
     "name": "stdout",
     "output_type": "stream",
     "text": [
      "7198-04-10 00:00:00\n",
      "2989-11-08 00:00:00\n",
      "4199-01-08 00:00:00\n"
     ]
    }
   ],
   "source": [
    "print(client.loc[1045, 'Дата рождения'])\n",
    "print(client.loc[2367, 'Дата рождения'])\n",
    "print(client.loc[10084, 'Дата рождения'])"
   ]
  },
  {
   "cell_type": "code",
   "execution_count": 7,
   "id": "faf01a9a-5957-4c45-9f24-f6972e01574e",
   "metadata": {
    "pycharm": {
     "name": "#%%\n"
    }
   },
   "outputs": [],
   "source": [
    "client.loc[1045, 'Дата рождения'] = '1987-04-10 00:00:00'\n",
    "client.loc[2367, 'Дата рождения'] = '1989-11-08 00:00:00'\n",
    "client.loc[10084, 'Дата рождения'] = '1994-01-08 00:00:00'\n",
    "client['Дата добавления'] = pd.to_datetime(client['Дата добавления'])\n",
    "client['Дата рождения'] = pd.to_datetime(client['Дата рождения'])\n",
    "client['Дата последней покупки'] = pd.to_datetime(client['Дата последней покупки'])"
   ]
  },
  {
   "cell_type": "markdown",
   "id": "f7a2defc",
   "metadata": {},
   "source": [
    "Оставим себе только тех кто  что-то покупал"
   ]
  },
  {
   "cell_type": "code",
   "execution_count": 8,
   "id": "c12d54b5-81b4-4220-b6e7-5651f8953649",
   "metadata": {
    "pycharm": {
     "name": "#%%\n"
    }
   },
   "outputs": [
    {
     "data": {
      "text/html": [
       "<div>\n",
       "<style scoped>\n",
       "    .dataframe tbody tr th:only-of-type {\n",
       "        vertical-align: middle;\n",
       "    }\n",
       "\n",
       "    .dataframe tbody tr th {\n",
       "        vertical-align: top;\n",
       "    }\n",
       "\n",
       "    .dataframe thead th {\n",
       "        text-align: right;\n",
       "    }\n",
       "</style>\n",
       "<table border=\"1\" class=\"dataframe\">\n",
       "  <thead>\n",
       "    <tr style=\"text-align: right;\">\n",
       "      <th></th>\n",
       "      <th>Дата добавления</th>\n",
       "      <th>Моб.телефон</th>\n",
       "      <th>Пол</th>\n",
       "      <th>Дата рождения</th>\n",
       "      <th>Всего бонусов</th>\n",
       "      <th>Получено бонусов</th>\n",
       "      <th>Использовано бонусов</th>\n",
       "      <th>Дата последней покупки</th>\n",
       "      <th>Покупок</th>\n",
       "      <th>Средний чек (руб)</th>\n",
       "      <th>Сумма покупок (руб)</th>\n",
       "      <th>Согласие на СМС</th>\n",
       "      <th>Согласие на рекламу</th>\n",
       "    </tr>\n",
       "  </thead>\n",
       "  <tbody>\n",
       "    <tr>\n",
       "      <th>1</th>\n",
       "      <td>2022-10-22</td>\n",
       "      <td>babb008e0127d702f62789baf388dbd6</td>\n",
       "      <td>М</td>\n",
       "      <td>1986-09-16</td>\n",
       "      <td>541.0</td>\n",
       "      <td>541</td>\n",
       "      <td>0.0</td>\n",
       "      <td>2022-10-22</td>\n",
       "      <td>1</td>\n",
       "      <td>3370.0</td>\n",
       "      <td>3370.0</td>\n",
       "      <td>Да</td>\n",
       "      <td>Да</td>\n",
       "    </tr>\n",
       "    <tr>\n",
       "      <th>2</th>\n",
       "      <td>2022-10-22</td>\n",
       "      <td>f8b8aec2bee7469bbc46943fb484c303</td>\n",
       "      <td>М</td>\n",
       "      <td>1995-03-01</td>\n",
       "      <td>71.0</td>\n",
       "      <td>71</td>\n",
       "      <td>0.0</td>\n",
       "      <td>2022-10-22</td>\n",
       "      <td>1</td>\n",
       "      <td>2886.0</td>\n",
       "      <td>2886.0</td>\n",
       "      <td>Да</td>\n",
       "      <td>Да</td>\n",
       "    </tr>\n",
       "    <tr>\n",
       "      <th>3</th>\n",
       "      <td>2022-10-22</td>\n",
       "      <td>8da4709238ea00c4bf84418353041eb2</td>\n",
       "      <td>Ж</td>\n",
       "      <td>1980-06-12</td>\n",
       "      <td>56.0</td>\n",
       "      <td>56</td>\n",
       "      <td>0.0</td>\n",
       "      <td>2022-10-22</td>\n",
       "      <td>2</td>\n",
       "      <td>899.0</td>\n",
       "      <td>1798.0</td>\n",
       "      <td>Да</td>\n",
       "      <td>Да</td>\n",
       "    </tr>\n",
       "    <tr>\n",
       "      <th>5</th>\n",
       "      <td>2022-10-22</td>\n",
       "      <td>f832221776781b7db05c65d3f6610d5f</td>\n",
       "      <td>None</td>\n",
       "      <td>1998-04-06</td>\n",
       "      <td>27.0</td>\n",
       "      <td>27</td>\n",
       "      <td>0.0</td>\n",
       "      <td>2022-10-22</td>\n",
       "      <td>1</td>\n",
       "      <td>899.0</td>\n",
       "      <td>899.0</td>\n",
       "      <td>Да</td>\n",
       "      <td>Да</td>\n",
       "    </tr>\n",
       "    <tr>\n",
       "      <th>6</th>\n",
       "      <td>2022-10-22</td>\n",
       "      <td>a6ed0896839ab6359512509e058a662a</td>\n",
       "      <td>М</td>\n",
       "      <td>1989-02-01</td>\n",
       "      <td>0.0</td>\n",
       "      <td>0</td>\n",
       "      <td>0.0</td>\n",
       "      <td>2022-10-22</td>\n",
       "      <td>1</td>\n",
       "      <td>269.0</td>\n",
       "      <td>269.0</td>\n",
       "      <td>Да</td>\n",
       "      <td>Да</td>\n",
       "    </tr>\n",
       "  </tbody>\n",
       "</table>\n",
       "</div>"
      ],
      "text/plain": [
       "  Дата добавления                       Моб.телефон   Пол Дата рождения  \\\n",
       "1      2022-10-22  babb008e0127d702f62789baf388dbd6     М    1986-09-16   \n",
       "2      2022-10-22  f8b8aec2bee7469bbc46943fb484c303     М    1995-03-01   \n",
       "3      2022-10-22  8da4709238ea00c4bf84418353041eb2     Ж    1980-06-12   \n",
       "5      2022-10-22  f832221776781b7db05c65d3f6610d5f  None    1998-04-06   \n",
       "6      2022-10-22  a6ed0896839ab6359512509e058a662a     М    1989-02-01   \n",
       "\n",
       "   Всего бонусов  Получено бонусов  Использовано бонусов  \\\n",
       "1          541.0               541                   0.0   \n",
       "2           71.0                71                   0.0   \n",
       "3           56.0                56                   0.0   \n",
       "5           27.0                27                   0.0   \n",
       "6            0.0                 0                   0.0   \n",
       "\n",
       "  Дата последней покупки  Покупок  Средний чек (руб)  Сумма покупок (руб)  \\\n",
       "1             2022-10-22        1             3370.0               3370.0   \n",
       "2             2022-10-22        1             2886.0               2886.0   \n",
       "3             2022-10-22        2              899.0               1798.0   \n",
       "5             2022-10-22        1              899.0                899.0   \n",
       "6             2022-10-22        1              269.0                269.0   \n",
       "\n",
       "  Согласие на СМС Согласие на рекламу  \n",
       "1              Да                  Да  \n",
       "2              Да                  Да  \n",
       "3              Да                  Да  \n",
       "5              Да                  Да  \n",
       "6              Да                  Да  "
      ]
     },
     "execution_count": 8,
     "metadata": {},
     "output_type": "execute_result"
    }
   ],
   "source": [
    "df_client = client[client['Покупок'] > 0][['Дата добавления',\n",
    "                                           'Моб.телефон', 'Пол', 'Дата рождения',\n",
    "                                           'Всего бонусов', 'Получено бонусов', 'Использовано бонусов',\n",
    "                                           'Дата последней покупки', 'Покупок', 'Средний чек (руб)',\n",
    "                                           'Сумма покупок (руб)',\n",
    "                                           'Согласие на СМС', 'Согласие на рекламу']].copy()\n",
    "\n",
    "df_client['Пол'] = df_client['Пол'].fillna('None')\n",
    "df_client.head()"
   ]
  },
  {
   "cell_type": "code",
   "execution_count": 9,
   "id": "098a9538-656a-41d7-ae1a-1bb16379a474",
   "metadata": {
    "pycharm": {
     "name": "#%%\n"
    }
   },
   "outputs": [],
   "source": [
    "df_client['Дней с последней покупки'] = (EXTRACT_DATE - df_client['Дата последней покупки']).dt.days.astype(int)"
   ]
  },
  {
   "cell_type": "code",
   "execution_count": 10,
   "id": "3b078d41-a621-4007-8210-934c67e8d1fd",
   "metadata": {
    "pycharm": {
     "name": "#%%\n"
    }
   },
   "outputs": [],
   "source": [
    "df_client['Возраст'] = (EXTRACT_DATE.year - df_client['Дата рождения'].dt.year).fillna(35).astype(int)"
   ]
  },
  {
   "cell_type": "markdown",
   "id": "54800bb3",
   "metadata": {},
   "source": [
    "#### Загрузим данные о покупках"
   ]
  },
  {
   "cell_type": "code",
   "execution_count": 11,
   "id": "07ac2abc-4325-42fb-b025-22c359b6f0a9",
   "metadata": {
    "pycharm": {
     "name": "#%%\n"
    }
   },
   "outputs": [
    {
     "name": "stderr",
     "output_type": "stream",
     "text": [
      "/var/folders/wb/jdb8bx8n6dqf_wpb7c0kp4j40000gn/T/ipykernel_6275/3478648184.py:1: DtypeWarning: Columns (19) have mixed types. Specify dtype option on import or set low_memory=False.\n",
      "  purchases = pd.read_csv('data/purchases.csv')\n"
     ]
    }
   ],
   "source": [
    "purchases = pd.read_csv('data/purchases.csv')"
   ]
  },
  {
   "cell_type": "code",
   "execution_count": 12,
   "id": "54808be8-dd25-405a-a127-36f7a5997312",
   "metadata": {
    "pycharm": {
     "name": "#%%\n"
    }
   },
   "outputs": [],
   "source": [
    "def data_analysys(dataframe):\n",
    "    #dataframe = pd.read_csv(filename)\n",
    "\n",
    "    #print(f'Dataframe name: {filename}')\n",
    "    display(dataframe.head())\n",
    "    display(dataframe.info())\n",
    "    display(dataframe.describe(include='all'))\n",
    "\n",
    "    for column in dataframe.columns:\n",
    "        unique_counts = dataframe[column].unique()\n",
    "        unique_values = dataframe[column].value_counts(dropna=False).to_dict()\n",
    "\n",
    "        if len(unique_counts) <= 10:\n",
    "            print(f'`{column}` has values {unique_values}')\n",
    "        elif len(unique_counts) == dataframe[column].shape[0]:\n",
    "            print(f'`{column}` has unique values')\n",
    "        else:\n",
    "            print(f'`{column}` has non-unique values, count of uniue: {len(unique_values)}')\n"
   ]
  },
  {
   "cell_type": "code",
   "execution_count": 13,
   "id": "dbabca49-62c4-4c8b-88b9-152fdb0c3527",
   "metadata": {
    "pycharm": {
     "name": "#%%\n"
    }
   },
   "outputs": [
    {
     "data": {
      "text/html": [
       "<div>\n",
       "<style scoped>\n",
       "    .dataframe tbody tr th:only-of-type {\n",
       "        vertical-align: middle;\n",
       "    }\n",
       "\n",
       "    .dataframe tbody tr th {\n",
       "        vertical-align: top;\n",
       "    }\n",
       "\n",
       "    .dataframe thead th {\n",
       "        text-align: right;\n",
       "    }\n",
       "</style>\n",
       "<table border=\"1\" class=\"dataframe\">\n",
       "  <thead>\n",
       "    <tr style=\"text-align: right;\">\n",
       "      <th></th>\n",
       "      <th>Unnamed: 0</th>\n",
       "      <th>Дата операции</th>\n",
       "      <th>Тип операции</th>\n",
       "      <th>Моб.телефон</th>\n",
       "      <th>Списано бонусов</th>\n",
       "      <th>Начислено бонусов</th>\n",
       "      <th>№ чека</th>\n",
       "      <th>Сумма покупки</th>\n",
       "      <th>Сумма скидки</th>\n",
       "      <th>Оплата в рублях</th>\n",
       "      <th>Оплата бонусами</th>\n",
       "      <th>Тип карты</th>\n",
       "      <th>Номер карты</th>\n",
       "      <th>Кассир</th>\n",
       "      <th>Магазин</th>\n",
       "      <th>Комментарий</th>\n",
       "      <th>Товар</th>\n",
       "      <th>Количество</th>\n",
       "      <th>Категория товара</th>\n",
       "      <th>Дополнительная информация</th>\n",
       "    </tr>\n",
       "  </thead>\n",
       "  <tbody>\n",
       "    <tr>\n",
       "      <th>0</th>\n",
       "      <td>0</td>\n",
       "      <td>2022-10-23</td>\n",
       "      <td>Покупка</td>\n",
       "      <td>e41ae15e64ed6f2d2b37caf2023903b0</td>\n",
       "      <td>0.0</td>\n",
       "      <td>0.0</td>\n",
       "      <td>60560.0</td>\n",
       "      <td>6.0</td>\n",
       "      <td>0.0</td>\n",
       "      <td>6.0</td>\n",
       "      <td>0.0</td>\n",
       "      <td>Стандартная</td>\n",
       "      <td>c1a0b6a21175d40691f046a448ed33a7</td>\n",
       "      <td>Касса1</td>\n",
       "      <td>1.0</td>\n",
       "      <td>NaN</td>\n",
       "      <td>NaN</td>\n",
       "      <td>1.0</td>\n",
       "      <td>NaN</td>\n",
       "      <td>NaN</td>\n",
       "    </tr>\n",
       "    <tr>\n",
       "      <th>1</th>\n",
       "      <td>1</td>\n",
       "      <td>2022-10-23</td>\n",
       "      <td>Покупка</td>\n",
       "      <td>e41ae15e64ed6f2d2b37caf2023903b0</td>\n",
       "      <td>499.0</td>\n",
       "      <td>45.0</td>\n",
       "      <td>60560.0</td>\n",
       "      <td>4999.0</td>\n",
       "      <td>0.0</td>\n",
       "      <td>4500.0</td>\n",
       "      <td>499.0</td>\n",
       "      <td>Стандартная</td>\n",
       "      <td>c1a0b6a21175d40691f046a448ed33a7</td>\n",
       "      <td>Касса1</td>\n",
       "      <td>1.0</td>\n",
       "      <td>NaN</td>\n",
       "      <td>NaN</td>\n",
       "      <td>1.0</td>\n",
       "      <td>Начисление 1 списание 10</td>\n",
       "      <td>Начисление бонусов: 45 (Основные настройки, ка...</td>\n",
       "    </tr>\n",
       "    <tr>\n",
       "      <th>2</th>\n",
       "      <td>2</td>\n",
       "      <td>2022-10-23</td>\n",
       "      <td>Покупка</td>\n",
       "      <td>3281acace8e8d42572c5a0e3ab67a938</td>\n",
       "      <td>406.1</td>\n",
       "      <td>108.0</td>\n",
       "      <td>60559.0</td>\n",
       "      <td>3999.0</td>\n",
       "      <td>0.0</td>\n",
       "      <td>3592.9</td>\n",
       "      <td>406.1</td>\n",
       "      <td>Стандартная</td>\n",
       "      <td>f2f76029fc6490531b997348bce55922</td>\n",
       "      <td>Касса3</td>\n",
       "      <td>2.0</td>\n",
       "      <td>NaN</td>\n",
       "      <td>NaN</td>\n",
       "      <td>1.0</td>\n",
       "      <td>Начисление 3 списание 20</td>\n",
       "      <td>Начисление бонусов: 108 (Основные настройки, к...</td>\n",
       "    </tr>\n",
       "    <tr>\n",
       "      <th>3</th>\n",
       "      <td>3</td>\n",
       "      <td>2022-10-23</td>\n",
       "      <td>Покупка</td>\n",
       "      <td>3281acace8e8d42572c5a0e3ab67a938</td>\n",
       "      <td>429.9</td>\n",
       "      <td>39.0</td>\n",
       "      <td>60559.0</td>\n",
       "      <td>4299.0</td>\n",
       "      <td>0.0</td>\n",
       "      <td>3869.1</td>\n",
       "      <td>429.9</td>\n",
       "      <td>Стандартная</td>\n",
       "      <td>f2f76029fc6490531b997348bce55922</td>\n",
       "      <td>Касса3</td>\n",
       "      <td>2.0</td>\n",
       "      <td>NaN</td>\n",
       "      <td>NaN</td>\n",
       "      <td>1.0</td>\n",
       "      <td>Начисление 1 списание 10</td>\n",
       "      <td>Начисление бонусов: 39 (Основные настройки, ка...</td>\n",
       "    </tr>\n",
       "    <tr>\n",
       "      <th>4</th>\n",
       "      <td>4</td>\n",
       "      <td>2022-10-23</td>\n",
       "      <td>Покупка</td>\n",
       "      <td>5b8b71de66e260723cf2d59984850c3e</td>\n",
       "      <td>0.0</td>\n",
       "      <td>4.0</td>\n",
       "      <td>60558.0</td>\n",
       "      <td>150.0</td>\n",
       "      <td>22.5</td>\n",
       "      <td>127.5</td>\n",
       "      <td>0.0</td>\n",
       "      <td>Стандартная</td>\n",
       "      <td>c74b3c64ae4ec50ad0f75c817fc32837</td>\n",
       "      <td>Касса1</td>\n",
       "      <td>1.0</td>\n",
       "      <td>NaN</td>\n",
       "      <td>NaN</td>\n",
       "      <td>1.0</td>\n",
       "      <td>Начисление 3 списание 20</td>\n",
       "      <td>Скидка: 22,5 (Внешняя скидка);Начисление бонус...</td>\n",
       "    </tr>\n",
       "  </tbody>\n",
       "</table>\n",
       "</div>"
      ],
      "text/plain": [
       "   Unnamed: 0 Дата операции Тип операции                       Моб.телефон  \\\n",
       "0           0    2022-10-23      Покупка  e41ae15e64ed6f2d2b37caf2023903b0   \n",
       "1           1    2022-10-23      Покупка  e41ae15e64ed6f2d2b37caf2023903b0   \n",
       "2           2    2022-10-23      Покупка  3281acace8e8d42572c5a0e3ab67a938   \n",
       "3           3    2022-10-23      Покупка  3281acace8e8d42572c5a0e3ab67a938   \n",
       "4           4    2022-10-23      Покупка  5b8b71de66e260723cf2d59984850c3e   \n",
       "\n",
       "   Списано бонусов  Начислено бонусов   № чека  Сумма покупки  Сумма скидки  \\\n",
       "0              0.0                0.0  60560.0            6.0           0.0   \n",
       "1            499.0               45.0  60560.0         4999.0           0.0   \n",
       "2            406.1              108.0  60559.0         3999.0           0.0   \n",
       "3            429.9               39.0  60559.0         4299.0           0.0   \n",
       "4              0.0                4.0  60558.0          150.0          22.5   \n",
       "\n",
       "   Оплата в рублях  Оплата бонусами    Тип карты  \\\n",
       "0              6.0              0.0  Стандартная   \n",
       "1           4500.0            499.0  Стандартная   \n",
       "2           3592.9            406.1  Стандартная   \n",
       "3           3869.1            429.9  Стандартная   \n",
       "4            127.5              0.0  Стандартная   \n",
       "\n",
       "                        Номер карты  Кассир  Магазин Комментарий  Товар  \\\n",
       "0  c1a0b6a21175d40691f046a448ed33a7  Касса1      1.0         NaN    NaN   \n",
       "1  c1a0b6a21175d40691f046a448ed33a7  Касса1      1.0         NaN    NaN   \n",
       "2  f2f76029fc6490531b997348bce55922  Касса3      2.0         NaN    NaN   \n",
       "3  f2f76029fc6490531b997348bce55922  Касса3      2.0         NaN    NaN   \n",
       "4  c74b3c64ae4ec50ad0f75c817fc32837  Касса1      1.0         NaN    NaN   \n",
       "\n",
       "   Количество          Категория товара  \\\n",
       "0         1.0                       NaN   \n",
       "1         1.0  Начисление 1 списание 10   \n",
       "2         1.0  Начисление 3 списание 20   \n",
       "3         1.0  Начисление 1 списание 10   \n",
       "4         1.0  Начисление 3 списание 20   \n",
       "\n",
       "                           Дополнительная информация  \n",
       "0                                                NaN  \n",
       "1  Начисление бонусов: 45 (Основные настройки, ка...  \n",
       "2  Начисление бонусов: 108 (Основные настройки, к...  \n",
       "3  Начисление бонусов: 39 (Основные настройки, ка...  \n",
       "4  Скидка: 22,5 (Внешняя скидка);Начисление бонус...  "
      ]
     },
     "metadata": {},
     "output_type": "display_data"
    },
    {
     "name": "stdout",
     "output_type": "stream",
     "text": [
      "<class 'pandas.core.frame.DataFrame'>\n",
      "RangeIndex: 260922 entries, 0 to 260921\n",
      "Data columns (total 20 columns):\n",
      " #   Column                     Non-Null Count   Dtype  \n",
      "---  ------                     --------------   -----  \n",
      " 0   Unnamed: 0                 260922 non-null  int64  \n",
      " 1   Дата операции              260922 non-null  object \n",
      " 2   Тип операции               260922 non-null  object \n",
      " 3   Моб.телефон                260922 non-null  object \n",
      " 4   Списано бонусов            260205 non-null  float64\n",
      " 5   Начислено бонусов          259639 non-null  float64\n",
      " 6   № чека                     111247 non-null  float64\n",
      " 7   Сумма покупки              111247 non-null  float64\n",
      " 8   Сумма скидки               111247 non-null  float64\n",
      " 9   Оплата в рублях            111247 non-null  float64\n",
      " 10  Оплата бонусами            260922 non-null  float64\n",
      " 11  Тип карты                  109827 non-null  object \n",
      " 12  Номер карты                260922 non-null  object \n",
      " 13  Кассир                     111210 non-null  object \n",
      " 14  Магазин                    100004 non-null  float64\n",
      " 15  Комментарий                1420 non-null    object \n",
      " 16  Товар                      0 non-null       float64\n",
      " 17  Количество                 111247 non-null  float64\n",
      " 18  Категория товара           106171 non-null  object \n",
      " 19  Дополнительная информация  49627 non-null   object \n",
      "dtypes: float64(10), int64(1), object(9)\n",
      "memory usage: 39.8+ MB\n"
     ]
    },
    {
     "data": {
      "text/plain": [
       "None"
      ]
     },
     "metadata": {},
     "output_type": "display_data"
    },
    {
     "data": {
      "text/html": [
       "<div>\n",
       "<style scoped>\n",
       "    .dataframe tbody tr th:only-of-type {\n",
       "        vertical-align: middle;\n",
       "    }\n",
       "\n",
       "    .dataframe tbody tr th {\n",
       "        vertical-align: top;\n",
       "    }\n",
       "\n",
       "    .dataframe thead th {\n",
       "        text-align: right;\n",
       "    }\n",
       "</style>\n",
       "<table border=\"1\" class=\"dataframe\">\n",
       "  <thead>\n",
       "    <tr style=\"text-align: right;\">\n",
       "      <th></th>\n",
       "      <th>Unnamed: 0</th>\n",
       "      <th>Дата операции</th>\n",
       "      <th>Тип операции</th>\n",
       "      <th>Моб.телефон</th>\n",
       "      <th>Списано бонусов</th>\n",
       "      <th>Начислено бонусов</th>\n",
       "      <th>№ чека</th>\n",
       "      <th>Сумма покупки</th>\n",
       "      <th>Сумма скидки</th>\n",
       "      <th>Оплата в рублях</th>\n",
       "      <th>Оплата бонусами</th>\n",
       "      <th>Тип карты</th>\n",
       "      <th>Номер карты</th>\n",
       "      <th>Кассир</th>\n",
       "      <th>Магазин</th>\n",
       "      <th>Комментарий</th>\n",
       "      <th>Товар</th>\n",
       "      <th>Количество</th>\n",
       "      <th>Категория товара</th>\n",
       "      <th>Дополнительная информация</th>\n",
       "    </tr>\n",
       "  </thead>\n",
       "  <tbody>\n",
       "    <tr>\n",
       "      <th>count</th>\n",
       "      <td>260922.000000</td>\n",
       "      <td>260922</td>\n",
       "      <td>260922</td>\n",
       "      <td>260922</td>\n",
       "      <td>260205.000000</td>\n",
       "      <td>259639.000000</td>\n",
       "      <td>111247.000000</td>\n",
       "      <td>111247.000000</td>\n",
       "      <td>111247.000000</td>\n",
       "      <td>111247.000000</td>\n",
       "      <td>260922.000000</td>\n",
       "      <td>109827</td>\n",
       "      <td>260922</td>\n",
       "      <td>111210</td>\n",
       "      <td>100004.000000</td>\n",
       "      <td>1420</td>\n",
       "      <td>0.0</td>\n",
       "      <td>111247.0</td>\n",
       "      <td>106171</td>\n",
       "      <td>49627</td>\n",
       "    </tr>\n",
       "    <tr>\n",
       "      <th>unique</th>\n",
       "      <td>NaN</td>\n",
       "      <td>934</td>\n",
       "      <td>7</td>\n",
       "      <td>20903</td>\n",
       "      <td>NaN</td>\n",
       "      <td>NaN</td>\n",
       "      <td>NaN</td>\n",
       "      <td>NaN</td>\n",
       "      <td>NaN</td>\n",
       "      <td>NaN</td>\n",
       "      <td>NaN</td>\n",
       "      <td>1</td>\n",
       "      <td>20903</td>\n",
       "      <td>3</td>\n",
       "      <td>NaN</td>\n",
       "      <td>1</td>\n",
       "      <td>NaN</td>\n",
       "      <td>NaN</td>\n",
       "      <td>4</td>\n",
       "      <td>21661</td>\n",
       "    </tr>\n",
       "    <tr>\n",
       "      <th>top</th>\n",
       "      <td>NaN</td>\n",
       "      <td>2022-01-16</td>\n",
       "      <td>Покупка</td>\n",
       "      <td>840e9c1385d8ba15cf74c89b11537405</td>\n",
       "      <td>NaN</td>\n",
       "      <td>NaN</td>\n",
       "      <td>NaN</td>\n",
       "      <td>NaN</td>\n",
       "      <td>NaN</td>\n",
       "      <td>NaN</td>\n",
       "      <td>NaN</td>\n",
       "      <td>Стандартная</td>\n",
       "      <td>fa21f6201f1158f5c36fedcb97fd9d28</td>\n",
       "      <td>Касса1</td>\n",
       "      <td>NaN</td>\n",
       "      <td>Возврат</td>\n",
       "      <td>NaN</td>\n",
       "      <td>NaN</td>\n",
       "      <td>Начисление 3 списание 20</td>\n",
       "      <td>Начисление бонусов: 3 (Основные настройки);</td>\n",
       "    </tr>\n",
       "    <tr>\n",
       "      <th>freq</th>\n",
       "      <td>NaN</td>\n",
       "      <td>1122</td>\n",
       "      <td>109827</td>\n",
       "      <td>451</td>\n",
       "      <td>NaN</td>\n",
       "      <td>NaN</td>\n",
       "      <td>NaN</td>\n",
       "      <td>NaN</td>\n",
       "      <td>NaN</td>\n",
       "      <td>NaN</td>\n",
       "      <td>NaN</td>\n",
       "      <td>109827</td>\n",
       "      <td>451</td>\n",
       "      <td>61081</td>\n",
       "      <td>NaN</td>\n",
       "      <td>1420</td>\n",
       "      <td>NaN</td>\n",
       "      <td>NaN</td>\n",
       "      <td>68559</td>\n",
       "      <td>746</td>\n",
       "    </tr>\n",
       "    <tr>\n",
       "      <th>mean</th>\n",
       "      <td>130460.500000</td>\n",
       "      <td>NaN</td>\n",
       "      <td>NaN</td>\n",
       "      <td>NaN</td>\n",
       "      <td>136.682393</td>\n",
       "      <td>152.458923</td>\n",
       "      <td>29700.972889</td>\n",
       "      <td>1351.815442</td>\n",
       "      <td>24.415468</td>\n",
       "      <td>1295.449842</td>\n",
       "      <td>13.621102</td>\n",
       "      <td>NaN</td>\n",
       "      <td>NaN</td>\n",
       "      <td>NaN</td>\n",
       "      <td>1.333577</td>\n",
       "      <td>NaN</td>\n",
       "      <td>NaN</td>\n",
       "      <td>1.0</td>\n",
       "      <td>NaN</td>\n",
       "      <td>NaN</td>\n",
       "    </tr>\n",
       "    <tr>\n",
       "      <th>std</th>\n",
       "      <td>75321.837806</td>\n",
       "      <td>NaN</td>\n",
       "      <td>NaN</td>\n",
       "      <td>NaN</td>\n",
       "      <td>214.442089</td>\n",
       "      <td>220.828703</td>\n",
       "      <td>17248.971301</td>\n",
       "      <td>3278.701726</td>\n",
       "      <td>194.988409</td>\n",
       "      <td>3187.996253</td>\n",
       "      <td>66.167461</td>\n",
       "      <td>NaN</td>\n",
       "      <td>NaN</td>\n",
       "      <td>NaN</td>\n",
       "      <td>0.471493</td>\n",
       "      <td>NaN</td>\n",
       "      <td>NaN</td>\n",
       "      <td>0.0</td>\n",
       "      <td>NaN</td>\n",
       "      <td>NaN</td>\n",
       "    </tr>\n",
       "    <tr>\n",
       "      <th>min</th>\n",
       "      <td>0.000000</td>\n",
       "      <td>NaN</td>\n",
       "      <td>NaN</td>\n",
       "      <td>NaN</td>\n",
       "      <td>0.000000</td>\n",
       "      <td>0.000000</td>\n",
       "      <td>1.000000</td>\n",
       "      <td>-54312.000000</td>\n",
       "      <td>-5598.000000</td>\n",
       "      <td>-54312.000000</td>\n",
       "      <td>-1048.000000</td>\n",
       "      <td>NaN</td>\n",
       "      <td>NaN</td>\n",
       "      <td>NaN</td>\n",
       "      <td>1.000000</td>\n",
       "      <td>NaN</td>\n",
       "      <td>NaN</td>\n",
       "      <td>1.0</td>\n",
       "      <td>NaN</td>\n",
       "      <td>NaN</td>\n",
       "    </tr>\n",
       "    <tr>\n",
       "      <th>25%</th>\n",
       "      <td>65230.250000</td>\n",
       "      <td>NaN</td>\n",
       "      <td>NaN</td>\n",
       "      <td>NaN</td>\n",
       "      <td>0.000000</td>\n",
       "      <td>0.000000</td>\n",
       "      <td>14422.000000</td>\n",
       "      <td>155.000000</td>\n",
       "      <td>0.000000</td>\n",
       "      <td>150.000000</td>\n",
       "      <td>0.000000</td>\n",
       "      <td>NaN</td>\n",
       "      <td>NaN</td>\n",
       "      <td>NaN</td>\n",
       "      <td>1.000000</td>\n",
       "      <td>NaN</td>\n",
       "      <td>NaN</td>\n",
       "      <td>1.0</td>\n",
       "      <td>NaN</td>\n",
       "      <td>NaN</td>\n",
       "    </tr>\n",
       "    <tr>\n",
       "      <th>50%</th>\n",
       "      <td>130460.500000</td>\n",
       "      <td>NaN</td>\n",
       "      <td>NaN</td>\n",
       "      <td>NaN</td>\n",
       "      <td>0.000000</td>\n",
       "      <td>12.000000</td>\n",
       "      <td>29953.000000</td>\n",
       "      <td>475.000000</td>\n",
       "      <td>0.000000</td>\n",
       "      <td>438.010000</td>\n",
       "      <td>0.000000</td>\n",
       "      <td>NaN</td>\n",
       "      <td>NaN</td>\n",
       "      <td>NaN</td>\n",
       "      <td>1.000000</td>\n",
       "      <td>NaN</td>\n",
       "      <td>NaN</td>\n",
       "      <td>1.0</td>\n",
       "      <td>NaN</td>\n",
       "      <td>NaN</td>\n",
       "    </tr>\n",
       "    <tr>\n",
       "      <th>75%</th>\n",
       "      <td>195690.750000</td>\n",
       "      <td>NaN</td>\n",
       "      <td>NaN</td>\n",
       "      <td>NaN</td>\n",
       "      <td>348.760000</td>\n",
       "      <td>500.000000</td>\n",
       "      <td>43775.000000</td>\n",
       "      <td>1300.000000</td>\n",
       "      <td>0.000000</td>\n",
       "      <td>1255.000000</td>\n",
       "      <td>0.000000</td>\n",
       "      <td>NaN</td>\n",
       "      <td>NaN</td>\n",
       "      <td>NaN</td>\n",
       "      <td>2.000000</td>\n",
       "      <td>NaN</td>\n",
       "      <td>NaN</td>\n",
       "      <td>1.0</td>\n",
       "      <td>NaN</td>\n",
       "      <td>NaN</td>\n",
       "    </tr>\n",
       "    <tr>\n",
       "      <th>max</th>\n",
       "      <td>260921.000000</td>\n",
       "      <td>NaN</td>\n",
       "      <td>NaN</td>\n",
       "      <td>NaN</td>\n",
       "      <td>2599.100000</td>\n",
       "      <td>3945.000000</td>\n",
       "      <td>60560.000000</td>\n",
       "      <td>131500.000000</td>\n",
       "      <td>11500.000000</td>\n",
       "      <td>131500.000000</td>\n",
       "      <td>2599.100000</td>\n",
       "      <td>NaN</td>\n",
       "      <td>NaN</td>\n",
       "      <td>NaN</td>\n",
       "      <td>2.000000</td>\n",
       "      <td>NaN</td>\n",
       "      <td>NaN</td>\n",
       "      <td>1.0</td>\n",
       "      <td>NaN</td>\n",
       "      <td>NaN</td>\n",
       "    </tr>\n",
       "  </tbody>\n",
       "</table>\n",
       "</div>"
      ],
      "text/plain": [
       "           Unnamed: 0 Дата операции Тип операции  \\\n",
       "count   260922.000000        260922       260922   \n",
       "unique            NaN           934            7   \n",
       "top               NaN    2022-01-16      Покупка   \n",
       "freq              NaN          1122       109827   \n",
       "mean    130460.500000           NaN          NaN   \n",
       "std      75321.837806           NaN          NaN   \n",
       "min          0.000000           NaN          NaN   \n",
       "25%      65230.250000           NaN          NaN   \n",
       "50%     130460.500000           NaN          NaN   \n",
       "75%     195690.750000           NaN          NaN   \n",
       "max     260921.000000           NaN          NaN   \n",
       "\n",
       "                             Моб.телефон  Списано бонусов  Начислено бонусов  \\\n",
       "count                             260922    260205.000000      259639.000000   \n",
       "unique                             20903              NaN                NaN   \n",
       "top     840e9c1385d8ba15cf74c89b11537405              NaN                NaN   \n",
       "freq                                 451              NaN                NaN   \n",
       "mean                                 NaN       136.682393         152.458923   \n",
       "std                                  NaN       214.442089         220.828703   \n",
       "min                                  NaN         0.000000           0.000000   \n",
       "25%                                  NaN         0.000000           0.000000   \n",
       "50%                                  NaN         0.000000          12.000000   \n",
       "75%                                  NaN       348.760000         500.000000   \n",
       "max                                  NaN      2599.100000        3945.000000   \n",
       "\n",
       "               № чека  Сумма покупки   Сумма скидки  Оплата в рублях  \\\n",
       "count   111247.000000  111247.000000  111247.000000    111247.000000   \n",
       "unique            NaN            NaN            NaN              NaN   \n",
       "top               NaN            NaN            NaN              NaN   \n",
       "freq              NaN            NaN            NaN              NaN   \n",
       "mean     29700.972889    1351.815442      24.415468      1295.449842   \n",
       "std      17248.971301    3278.701726     194.988409      3187.996253   \n",
       "min          1.000000  -54312.000000   -5598.000000    -54312.000000   \n",
       "25%      14422.000000     155.000000       0.000000       150.000000   \n",
       "50%      29953.000000     475.000000       0.000000       438.010000   \n",
       "75%      43775.000000    1300.000000       0.000000      1255.000000   \n",
       "max      60560.000000  131500.000000   11500.000000    131500.000000   \n",
       "\n",
       "        Оплата бонусами    Тип карты                       Номер карты  \\\n",
       "count     260922.000000       109827                            260922   \n",
       "unique              NaN            1                             20903   \n",
       "top                 NaN  Стандартная  fa21f6201f1158f5c36fedcb97fd9d28   \n",
       "freq                NaN       109827                               451   \n",
       "mean          13.621102          NaN                               NaN   \n",
       "std           66.167461          NaN                               NaN   \n",
       "min        -1048.000000          NaN                               NaN   \n",
       "25%            0.000000          NaN                               NaN   \n",
       "50%            0.000000          NaN                               NaN   \n",
       "75%            0.000000          NaN                               NaN   \n",
       "max         2599.100000          NaN                               NaN   \n",
       "\n",
       "        Кассир        Магазин Комментарий  Товар  Количество  \\\n",
       "count   111210  100004.000000        1420    0.0    111247.0   \n",
       "unique       3            NaN           1    NaN         NaN   \n",
       "top     Касса1            NaN     Возврат    NaN         NaN   \n",
       "freq     61081            NaN        1420    NaN         NaN   \n",
       "mean       NaN       1.333577         NaN    NaN         1.0   \n",
       "std        NaN       0.471493         NaN    NaN         0.0   \n",
       "min        NaN       1.000000         NaN    NaN         1.0   \n",
       "25%        NaN       1.000000         NaN    NaN         1.0   \n",
       "50%        NaN       1.000000         NaN    NaN         1.0   \n",
       "75%        NaN       2.000000         NaN    NaN         1.0   \n",
       "max        NaN       2.000000         NaN    NaN         1.0   \n",
       "\n",
       "                Категория товара                    Дополнительная информация  \n",
       "count                     106171                                        49627  \n",
       "unique                         4                                        21661  \n",
       "top     Начисление 3 списание 20  Начисление бонусов: 3 (Основные настройки);  \n",
       "freq                       68559                                          746  \n",
       "mean                         NaN                                          NaN  \n",
       "std                          NaN                                          NaN  \n",
       "min                          NaN                                          NaN  \n",
       "25%                          NaN                                          NaN  \n",
       "50%                          NaN                                          NaN  \n",
       "75%                          NaN                                          NaN  \n",
       "max                          NaN                                          NaN  "
      ]
     },
     "metadata": {},
     "output_type": "display_data"
    },
    {
     "name": "stdout",
     "output_type": "stream",
     "text": [
      "`Unnamed: 0` has unique values\n",
      "`Дата операции` has non-unique values, count of uniue: 934\n",
      "`Тип операции` has values {'Покупка': 109827, 'Автоматическое сгорание': 78339, 'Подарок на день рождения близких': 38493, 'Подарок на день рождения': 28863, 'Подарок': 3148, 'Возврат': 1420, 'Корректировка': 832}\n",
      "`Моб.телефон` has non-unique values, count of uniue: 20903\n",
      "`Списано бонусов` has non-unique values, count of uniue: 10237\n",
      "`Начислено бонусов` has non-unique values, count of uniue: 1021\n",
      "`№ чека` has non-unique values, count of uniue: 60497\n",
      "`Сумма покупки` has non-unique values, count of uniue: 3872\n",
      "`Сумма скидки` has non-unique values, count of uniue: 6510\n",
      "`Оплата в рублях` has non-unique values, count of uniue: 27592\n",
      "`Оплата бонусами` has non-unique values, count of uniue: 10596\n",
      "`Тип карты` has values {nan: 151095, 'Стандартная': 109827}\n",
      "`Номер карты` has non-unique values, count of uniue: 20903\n",
      "`Кассир` has values {nan: 149712, 'Касса1': 61081, 'Касса3': 44361, 'Касса2': 5768}\n",
      "`Магазин` has values {nan: 160918, 1.0: 66645, 2.0: 33359}\n",
      "`Комментарий` has values {nan: 259502, 'Возврат': 1420}\n",
      "`Товар` has values {nan: 260922}\n",
      "`Количество` has values {nan: 149675, 1.0: 111247}\n",
      "`Категория товара` has values {nan: 154751, 'Начисление 3 списание 20': 68559, 'Начисление 5 списание 20': 24093, 'Начисление 0 списание 0': 7390, 'Начисление 1 списание 10': 6129}\n",
      "`Дополнительная информация` has non-unique values, count of uniue: 21662\n"
     ]
    }
   ],
   "source": [
    "data_analysys(purchases)"
   ]
  },
  {
   "cell_type": "markdown",
   "id": "100918b8",
   "metadata": {},
   "source": [
    "Приведем даты к формату даты"
   ]
  },
  {
   "cell_type": "code",
   "execution_count": 14,
   "id": "66b23ddd-ed8d-4e5f-a8e4-e144d81c23f1",
   "metadata": {
    "pycharm": {
     "name": "#%%\n"
    }
   },
   "outputs": [],
   "source": [
    "purchases['Дата операции'] = pd.to_datetime(purchases['Дата операции'])"
   ]
  },
  {
   "cell_type": "code",
   "execution_count": 15,
   "id": "307894c3-f65b-4744-8d9c-176d77544285",
   "metadata": {
    "pycharm": {
     "name": "#%%\n"
    }
   },
   "outputs": [],
   "source": [
    "purchases = purchases.sort_values(['Дата операции', ], ascending=True)"
   ]
  },
  {
   "cell_type": "code",
   "execution_count": 16,
   "id": "2111cbb7-ddb3-4923-b115-e1e9887970e0",
   "metadata": {
    "pycharm": {
     "name": "#%%\n"
    }
   },
   "outputs": [],
   "source": [
    "purchases[['Списано бонусов', 'Начислено бонусов', 'Сумма покупки',\n",
    "           'Сумма скидки', 'Оплата в рублях', 'Оплата бонусами', 'Кассир', 'Магазин']] = purchases[\n",
    "    ['Списано бонусов', 'Начислено бонусов', 'Сумма покупки',\n",
    "     'Сумма скидки', 'Оплата в рублях', 'Оплата бонусами', 'Кассир', 'Магазин']].fillna(0)"
   ]
  },
  {
   "cell_type": "code",
   "execution_count": 17,
   "id": "44109165-0f24-45f0-b0e9-6a60ad360c59",
   "metadata": {
    "pycharm": {
     "name": "#%%\n"
    }
   },
   "outputs": [],
   "source": [
    "def display_descrete_variables(data: pd.DataFrame, variables: list, length=4):\n",
    "    count = len(variables)\n",
    "\n",
    "    row = min(length, count)\n",
    "    col = (count // length) + (1 if (count % length) else 0)\n",
    "\n",
    "    fig, axes = plt.subplots(col, row, figsize=(length * 7, row * 6))\n",
    "\n",
    "    if count > 1:\n",
    "\n",
    "        for i, variable in enumerate(variables):\n",
    "            r = i // length\n",
    "            c = i % length\n",
    "            # print(r,c)\n",
    "            try:\n",
    "                chart = sns.countplot(data=data, x=variable, ax=axes[r][c]).set_title(variable)\n",
    "                axes[r][c].set_xticklabels(axes[r][c].get_xticklabels(), rotation=45)\n",
    "            except:\n",
    "                chart = sns.countplot(data=data, x=variable, ax=axes[c])\n",
    "                axes[c].set_xticklabels(axes[c].get_xticklabels(), rotation=45)\n",
    "\n",
    "    else:\n",
    "        sns.countplot(data=data, x=variables[0], ax=axes).set_title(variables[0])\n",
    "    plt.show()"
   ]
  },
  {
   "cell_type": "code",
   "execution_count": 18,
   "id": "c8fc9743-46a3-48cd-b1c0-1c76af6609b3",
   "metadata": {
    "pycharm": {
     "name": "#%%\n"
    }
   },
   "outputs": [],
   "source": [
    "def getdiff(item):\n",
    "    if type(item) == list and len(item) > 0:\n",
    "        return list(pd.Series(item).diff().dt.days[1:])\n",
    "    else:\n",
    "        return []"
   ]
  },
  {
   "cell_type": "code",
   "execution_count": 19,
   "id": "54843952-4d0a-4c39-8810-31faa7d2f62c",
   "metadata": {
    "pycharm": {
     "name": "#%%\n"
    }
   },
   "outputs": [],
   "source": [
    "def getdata(data, phone, recalculate, target):\n",
    "    result = {}\n",
    "\n",
    "    result['Моб.телефон'] = phone\n",
    "    result['target'] = target\n",
    "\n",
    "    chunk = data[data['Моб.телефон'] == phone]\n",
    "\n",
    "    if recalculate:\n",
    "        last_purchases_data = chunk[chunk['Тип операции'] == 'Покупка']['Дата операции'].max()\n",
    "        chunk = chunk[chunk['Дата операции'] < last_purchases_data]\n",
    "\n",
    "    # ======================= ПОКУПКИ =====================\n",
    "    df_1 = chunk[chunk['Тип операции'] == 'Покупка'].groupby('№ чека').agg({\n",
    "        'Моб.телефон': max,\n",
    "        'Дата операции': max,\n",
    "        'Списано бонусов': sum,\n",
    "        'Начислено бонусов': sum,\n",
    "        'Оплата в рублях': sum,\n",
    "        'Оплата бонусами': sum,\n",
    "        'Сумма покупки': [sum, 'count'],\n",
    "        'Сумма скидки': sum,\n",
    "        'Тип карты': max,\n",
    "        'Кассир': max,\n",
    "        'Магазин': max,\n",
    "    })\n",
    "\n",
    "    df_1.columns = [\n",
    "        'Моб.телефон',\n",
    "        'Дата операции',\n",
    "        'Списано бонусов',\n",
    "        'Начислено бонусов',\n",
    "        'Оплата в рублях',\n",
    "        'Оплата бонусами',\n",
    "        'Сумма покупки',\n",
    "        'Количество позиций в чеке',\n",
    "        'Сумма скидки',\n",
    "        'Тип карты',\n",
    "        'Кассир',\n",
    "        'Магазин', ]\n",
    "\n",
    "    df_1['count_of_purchases'] = 1\n",
    "    #display(df_purchases_grouped)\n",
    "    #return\n",
    "\n",
    "    df_1_ = df_1.groupby(['Моб.телефон']).agg({\n",
    "        'Дата операции': [lambda x: list(x), 'count'],\n",
    "        'Списано бонусов': sum,\n",
    "        'Начислено бонусов': sum,\n",
    "        'Оплата в рублях': sum,\n",
    "        'Оплата бонусами': sum,\n",
    "        'Сумма покупки': [lambda x: list(x), sum],\n",
    "        'Сумма скидки': sum,\n",
    "        #'Тип карты': max,\n",
    "        'Количество позиций в чеке': [lambda x: list(x), sum],\n",
    "        'count_of_purchases': sum,\n",
    "        'Магазин': [lambda x: list(x), lambda x: set(x)],  # cписок магазинов\n",
    "\n",
    "    })\n",
    "\n",
    "    df_1_.columns = [\n",
    "        'Даты покупок',\n",
    "        'Количество покупок',\n",
    "        'Потрачено бонусов',\n",
    "        'Начислено бонусов за покупки',\n",
    "        'Оплата в рублях',\n",
    "        'Оплата бонусами',\n",
    "        'История покупок',\n",
    "        'Сумма покупок',\n",
    "        'Сумма скидок',\n",
    "        #'Тип карты',\n",
    "        'История позиций в чеке',\n",
    "        'Количество позиций в чеках',\n",
    "        'count_of_purchases',\n",
    "        'Список магазинов по покупкам',\n",
    "        'Множество магазинов',\n",
    "    ]\n",
    "\n",
    "    #display(df_1_)\n",
    "    try:\n",
    "\n",
    "        r = df_1_.loc[phone]\n",
    "    except:\n",
    "        #print(phone)\n",
    "        return None\n",
    "\n",
    "    result['Средний чек'] = r['Сумма покупок'] / r['Количество покупок']\n",
    "    result['Сумма покупок'] = r['Сумма покупок']\n",
    "    result['Количество покупок'] = r['Количество покупок']\n",
    "    result['Потрачено бонусов'] = r['Оплата бонусами']\n",
    "    result['Начислено бонусов за покупки'] = r['Начислено бонусов за покупки']\n",
    "    result['Количество покупок'] = r['Количество покупок']\n",
    "    result['Количество позиций в чеках'] = r['Количество позиций в чеках']\n",
    "    result['Магазин 1'] = 1 in r['Множество магазинов']\n",
    "    result['Магазин 2'] = 2 in r['Множество магазинов']\n",
    "    result['Интернет'] = 0 in r['Множество магазинов']\n",
    "\n",
    "    # ======================= Возвраты =====================\n",
    "\n",
    "    df_2 = chunk[chunk['Тип операции'] == 'Возврат'][[\n",
    "        'Моб.телефон',\n",
    "        'Дата операции',\n",
    "        'Списано бонусов',\n",
    "        'Начислено бонусов',\n",
    "        'Оплата в рублях',\n",
    "        'Оплата бонусами',\n",
    "        'Сумма покупки',\n",
    "        'Сумма скидки',\n",
    "        'Тип карты',\n",
    "        'Кассир',\n",
    "        'Магазин', ]]\n",
    "\n",
    "    df_2['count_of_return'] = 1\n",
    "    df_2.head()\n",
    "\n",
    "    df_2_ = df_2.groupby(['Моб.телефон']).agg({\n",
    "        'Дата операции': [lambda x: list(x), 'count'],\n",
    "        'Сумма покупки': [lambda x: list(x), sum],\n",
    "        'count_of_return': sum,\n",
    "        'Магазин': [lambda x: list(x), lambda x: set(x)],  # cписок магазинов\n",
    "\n",
    "    })\n",
    "\n",
    "    df_2_.columns = ['Даты возврата',\n",
    "                     'Количество возвратов',\n",
    "                     'История возвратов',\n",
    "                     'Сумма возвратов',\n",
    "                     'count_of_return',\n",
    "                     'Список магазинов по возвратов',\n",
    "                     'Множество магазинов по возвратам']\n",
    "\n",
    "    try:\n",
    "        r = df_2_.loc[phone]\n",
    "\n",
    "        result['Количество возвратов'] = r['Количество возвратов']\n",
    "        result['Сумма возвратов'] = r['Сумма возвратов'] * -1\n",
    "    except KeyError:\n",
    "        result['Количество возвратов'] = 0\n",
    "        result['Сумма возвратов'] = 0\n",
    "\n",
    "    # ==== Начисления =========\n",
    "\n",
    "    df_3 = chunk[(chunk['Тип операции'].isin([\n",
    "        'Корректировка',\n",
    "        'Подарок на день рождения близких',\n",
    "        'Подарок на день рождения',\n",
    "        'Подарок',\n",
    "    ]))].copy()  #& (purchases['Оплата бонусами']<0)]#['Оплата бонусами'].value_counts()#.describe()\n",
    "\n",
    "    #df_bonuses.head()\n",
    "\n",
    "    df_3_ = df_3.groupby(['Моб.телефон']).agg({\n",
    "        'Дата операции': [lambda x: list(x), 'count'],\n",
    "        'Начислено бонусов': [lambda x: list(x), 'count', sum],\n",
    "        'Тип операции': [lambda x: list(x), lambda x: set(x)]\n",
    "    })\n",
    "\n",
    "    df_3_.columns = [\n",
    "        'Даты начисления бон',\n",
    "        'Количество начислений бон',\n",
    "        'История начисления бон',\n",
    "        'count',\n",
    "        'Всего начислено бон',\n",
    "        'Причина начисления',\n",
    "        'Список причин']\n",
    "\n",
    "    try:\n",
    "        r = df_3_.loc[phone]\n",
    "\n",
    "        result['Количество начислений бон'] = r['Количество начислений бон']\n",
    "        result['Всего начислено бон'] = r['Всего начислено бон']\n",
    "    except KeyError:\n",
    "        result['Количество начислений бон'] = 0\n",
    "        result['Всего начислено бон'] = 0\n",
    "\n",
    "    # ==== Списания =========\n",
    "\n",
    "    df_4 = chunk[(chunk['Тип операции'].isin([\n",
    "        'Автоматическое сгорание',\n",
    "    ]))].copy()\n",
    "\n",
    "    df_4_ = df_4.groupby(['Моб.телефон']).agg({\n",
    "        'Дата операции': [lambda x: list(x), 'count'],\n",
    "        'Списано бонусов': [lambda x: list(x), 'count', sum],\n",
    "    })\n",
    "\n",
    "    df_4_.columns = ['Даты списания бон', 'Количество списаний бон', 'История списаний бон', 'count',\n",
    "                     'Всего списано бонусов']\n",
    "\n",
    "    try:\n",
    "        r = df_4_.loc[phone]\n",
    "\n",
    "        result['Количество списаний бон'] = r['Количество списаний бон']\n",
    "        result['Всего списано бонусов'] = r['Всего списано бонусов']\n",
    "    except KeyError:\n",
    "        result['Количество списаний бон'] = 0\n",
    "        result['Всего списано бонусов'] = 0\n",
    "\n",
    "    return result\n",
    "\n",
    "# getdata(purchases, 'e4f3256ee4ca7c04371688f53f098715', 0)\n",
    "#getdata(purchases, '471d5a3e2da3fe1f2a4a451f34e7af56', 1, 0)"
   ]
  },
  {
   "cell_type": "code",
   "execution_count": 20,
   "id": "79bb86ab-ad18-403f-8d70-85d7dd639381",
   "metadata": {
    "pycharm": {
     "name": "#%%\n"
    }
   },
   "outputs": [],
   "source": [
    "#purchases[purchases['Моб.телефон'] == '471d5a3e2da3fe1f2a4a451f34e7af56']"
   ]
  },
  {
   "cell_type": "code",
   "execution_count": 21,
   "id": "2f440780-78a8-4c6c-a156-5dcc28af6ec5",
   "metadata": {
    "pycharm": {
     "name": "#%%\n"
    }
   },
   "outputs": [],
   "source": [
    "#client[client['Моб.телефон'] == '471d5a3e2da3fe1f2a4a451f34e7af56'].loc[550]"
   ]
  },
  {
   "cell_type": "code",
   "execution_count": 22,
   "id": "099a0391-17f3-4b87-93ec-3f6a70888052",
   "metadata": {
    "pycharm": {
     "name": "#%%\n"
    }
   },
   "outputs": [],
   "source": [
    "valuable_feature = ['Пол',\n",
    "                    'Средний чек',\n",
    "                    # 'Сумма покупок (руб)',\n",
    "                    'Согласие на СМС',\n",
    "                    'Согласие на рекламу',\n",
    "                    'Возраст',\n",
    "                    'Количество покупок',\n",
    "                    'Потрачено бонусов',\n",
    "                    'Начислено бонусов за покупки',\n",
    "                    'Сумма покупок',\n",
    "                    'Сумма скидок',\n",
    "                    'Количество позиций в чеках',\n",
    "                    'Множество магазинов',\n",
    "                    'Количество возвратов',\n",
    "                    'Сумма возвратов',\n",
    "                    'Количество начислений бон',\n",
    "                    'Всего начислено бон',\n",
    "                    'Количество списаний бон',\n",
    "                    'Всего списано бонусов'\n",
    "                    ]"
   ]
  },
  {
   "cell_type": "markdown",
   "id": "b74665cc-707e-4f23-8ff2-97bb3665578b",
   "metadata": {
    "pycharm": {
     "name": "#%% md\n"
    }
   },
   "source": [
    "# Собираем таргет"
   ]
  },
  {
   "cell_type": "markdown",
   "id": "02dd300f-f472-4da7-b8bf-9907facb4b7b",
   "metadata": {
    "pycharm": {
     "name": "#%% md\n"
    }
   },
   "source": [
    "#### Пользователи с одной покупкой, которых не было больше порогового значения"
   ]
  },
  {
   "cell_type": "code",
   "execution_count": 23,
   "id": "c6893c38-b984-4888-ab73-0641ec0f18cd",
   "metadata": {
    "pycharm": {
     "name": "#%%\n"
    }
   },
   "outputs": [
    {
     "data": {
      "text/plain": [
       "(4992,)"
      ]
     },
     "execution_count": 23,
     "metadata": {},
     "output_type": "execute_result"
    }
   ],
   "source": [
    "leaving_with_1 = df_client[(df_client['Покупок'] == 1) & (df_client['Дней с последней покупки'] > LEAVE)]['Моб.телефон']\n",
    "leaving_with_1.shape"
   ]
  },
  {
   "cell_type": "markdown",
   "id": "983cc918-2d2a-4e11-9c00-cd646639ad9a",
   "metadata": {
    "pycharm": {
     "name": "#%% md\n"
    }
   },
   "source": [
    "#### Пользователи с несколькими покупками, которых не было больше порогового значения"
   ]
  },
  {
   "cell_type": "code",
   "execution_count": 24,
   "id": "2ad21628-82f0-414c-8ed9-d8428cb5a667",
   "metadata": {
    "pycharm": {
     "name": "#%%\n"
    }
   },
   "outputs": [
    {
     "data": {
      "text/plain": [
       "(2444,)"
      ]
     },
     "execution_count": 24,
     "metadata": {},
     "output_type": "execute_result"
    }
   ],
   "source": [
    "leaving_with_several = df_client[(df_client['Покупок'] > 1) & (df_client['Дней с последней покупки'] > LEAVE)][\n",
    "    'Моб.телефон']\n",
    "leaving_with_several.shape"
   ]
  },
  {
   "cell_type": "markdown",
   "id": "34d23dcc-b0f3-4143-9cf9-4a944503bca6",
   "metadata": {
    "pycharm": {
     "name": "#%% md\n"
    }
   },
   "source": [
    "#### Пользователи с несколькими покупками, которые не ушли"
   ]
  },
  {
   "cell_type": "code",
   "execution_count": 25,
   "id": "124d08b1-54cc-40e9-b6cb-026a9065411e",
   "metadata": {
    "pycharm": {
     "name": "#%%\n"
    }
   },
   "outputs": [
    {
     "data": {
      "text/plain": [
       "(8931,)"
      ]
     },
     "execution_count": 25,
     "metadata": {},
     "output_type": "execute_result"
    }
   ],
   "source": [
    "not_leaving = df_client[(df_client['Покупок'] > 1) & (df_client['Дней с последней покупки'] <= LEAVE)]['Моб.телефон']\n",
    "not_leaving.shape"
   ]
  },
  {
   "cell_type": "markdown",
   "source": [
    "### Собираем датасет\n",
    "\n",
    "Во первых добавим всех кто ушел после первой покупеи и присвоим им тагет `1`\n",
    "\n",
    "Потом всех кто ушел после нескольких покупок и так же присвоим им тагет `1`\n",
    "\n",
    "Потом сформируем данные у оставшихся клиентов следующим образом - откинем последнюю покупку и  всю информацию, полученную после момента последней покупки включительно и присвоим им таргет `0`\n",
    "\n",
    "Таким образом мы можем попытаться решить зпдачу прогнощирования того совершит ли клиент следующую покупку или нет"
   ],
   "metadata": {
    "collapsed": false,
    "pycharm": {
     "name": "#%% md\n"
    }
   }
  },
  {
   "cell_type": "code",
   "execution_count": null,
   "outputs": [],
   "source": [
    "%%time\n",
    "\n",
    "rezult = []\n",
    "\n",
    "exeption_phone = set()\n",
    "\n",
    "for item in leaving_with_1:\n",
    "    r = getdata(purchases, item, 0, 1)\n",
    "    if r:\n",
    "        rezult.append(r)\n",
    "    else:\n",
    "        exeption_phone.add(item)\n",
    "\n",
    "for item in leaving_with_several:\n",
    "    r = getdata(purchases, item, 0, 1)\n",
    "    if r:\n",
    "        rezult.append(r)\n",
    "    else:\n",
    "        exeption_phone.add(item)\n",
    "\n",
    "for item in not_leaving:\n",
    "    r = getdata(purchases, item, 1, 0)\n",
    "    if r:\n",
    "        rezult.append(r)\n",
    "    else:\n",
    "        exeption_phone.add(item)\n",
    "\n"
   ],
   "metadata": {
    "collapsed": false,
    "pycharm": {
     "name": "#%%\n"
    }
   }
  },
  {
   "cell_type": "code",
   "execution_count": null,
   "outputs": [],
   "source": [
    "result_df = pd.DataFrame(rezult)\n",
    "result_df.head()"
   ],
   "metadata": {
    "collapsed": false,
    "pycharm": {
     "name": "#%%\n"
    }
   }
  },
  {
   "cell_type": "code",
   "execution_count": null,
   "outputs": [],
   "source": [
    "df_info = df_client[['Моб.телефон', 'Пол', 'Согласие на СМС', 'Согласие на рекламу', 'Возраст', ]]"
   ],
   "metadata": {
    "collapsed": false,
    "pycharm": {
     "name": "#%%\n"
    }
   }
  },
  {
   "cell_type": "code",
   "execution_count": null,
   "outputs": [],
   "source": [
    "df_data = result_df.merge(df_info, how='left', on='Моб.телефон')\n",
    "df_data.head()"
   ],
   "metadata": {
    "collapsed": false,
    "pycharm": {
     "name": "#%%\n"
    }
   }
  },
  {
   "cell_type": "code",
   "execution_count": null,
   "outputs": [],
   "source": [
    "df_data.info()"
   ],
   "metadata": {
    "collapsed": false,
    "pycharm": {
     "name": "#%%\n"
    }
   }
  },
  {
   "cell_type": "markdown",
   "source": [
    "Заполним пропуски"
   ],
   "metadata": {
    "collapsed": false,
    "pycharm": {
     "name": "#%% md\n"
    }
   }
  },
  {
   "cell_type": "code",
   "execution_count": null,
   "outputs": [],
   "source": [
    "df_data['Пол'] = df_data['Пол'].fillna('None') # нет информации\n",
    "df_data['Согласие на СМС'] = df_data['Согласие на СМС'].fillna('Нет') # по умолчанию предпологаем худшее\n",
    "df_data['Согласие на рекламу'] = df_data['Согласие на рекламу'].fillna('Нет')  # по умолчанию предпологаем худшее\n",
    "df_data['Возраст'] = df_data['Возраст'].fillna(df_data['Возраст'].mean())  # заполним средним"
   ],
   "metadata": {
    "collapsed": false,
    "pycharm": {
     "name": "#%%\n"
    }
   }
  },
  {
   "cell_type": "code",
   "execution_count": null,
   "outputs": [],
   "source": [
    "df_data.info()"
   ],
   "metadata": {
    "collapsed": false,
    "pycharm": {
     "name": "#%%\n"
    }
   }
  },
  {
   "cell_type": "code",
   "execution_count": null,
   "outputs": [],
   "source": [
    "categorical_feature = [\n",
    "    'Магазин 1',\n",
    "    'Магазин 2',\n",
    "    'Интернет',\n",
    "    'Пол',\n",
    "    #'Согласие на СМС', \n",
    "    #'Согласие на рекламу',  \n",
    "]\n",
    "\n",
    "numerical_feature = [\n",
    "    'Средний чек',\n",
    "    'Сумма покупок',\n",
    "    'Количество покупок',\n",
    "    'Потрачено бонусов',\n",
    "    'Начислено бонусов за покупки',\n",
    "    'Количество позиций в чеках',\n",
    "    'Количество возвратов',\n",
    "    'Сумма возвратов',\n",
    "    'Количество начислений бон',\n",
    "    'Всего начислено бон',\n",
    "    'Количество списаний бон',\n",
    "    'Всего списано бонусов',\n",
    "    'Возраст',\n",
    "]"
   ],
   "metadata": {
    "collapsed": false,
    "pycharm": {
     "name": "#%%\n"
    }
   }
  },
  {
   "cell_type": "code",
   "execution_count": null,
   "outputs": [],
   "source": [
    "df_data_ = df_data[numerical_feature + categorical_feature + ['target', ]]\n",
    "df_data_.head()"
   ],
   "metadata": {
    "collapsed": false,
    "pycharm": {
     "name": "#%%\n"
    }
   }
  },
  {
   "cell_type": "markdown",
   "source": [
    "### Вспомогательные функции"
   ],
   "metadata": {
    "collapsed": false,
    "pycharm": {
     "name": "#%% md\n"
    }
   }
  },
  {
   "cell_type": "code",
   "execution_count": null,
   "outputs": [],
   "source": [
    "def plot_feature_importance(importance, names):\n",
    "    #Create arrays from feature importance and feature names\n",
    "    feature_importance = np.array(importance)\n",
    "    feature_names = np.array(names)\n",
    "\n",
    "    #Create a DataFrame using a Dictionary\n",
    "    data = {'feature_names': feature_names, 'feature_importance': feature_importance}\n",
    "    fi_df = pd.DataFrame(data)\n",
    "\n",
    "    #Sort the DataFrame in order decreasing feature importance\n",
    "    fi_df.sort_values(by=['feature_importance'], ascending=False, inplace=True)\n",
    "\n",
    "    #Define size of bar plot\n",
    "    plt.figure(figsize=(10, 8))\n",
    "    #Plot Searborn bar chart\n",
    "    sns.barplot(x=fi_df['feature_importance'], y=fi_df['feature_names'])\n",
    "    #Add chart labels\n",
    "    plt.title('FEATURE IMPORTANCE')\n",
    "    plt.xlabel('FEATURE IMPORTANCE')\n",
    "    plt.ylabel('FEATURE NAMES')"
   ],
   "metadata": {
    "collapsed": false,
    "pycharm": {
     "name": "#%%\n"
    }
   }
  },
  {
   "cell_type": "code",
   "execution_count": null,
   "outputs": [],
   "source": [
    "def drawConfusionMatrix(predict_value, actual_value):\n",
    "    f1_scor = f1_score(predict_value, actual_value)\n",
    "    acc_scor = accuracy_score(predict_value, actual_value)\n",
    "    pr_scor = precision_score(predict_value, actual_value)\n",
    "    rec_scor = recall_score(predict_value, actual_value)\n",
    "\n",
    "    print(f'f1 score: {f1_scor}')\n",
    "    print(f'accuracy score: {acc_scor}')\n",
    "    print(f'precision score: {pr_scor}')\n",
    "    print(f'recall score: {rec_scor}')\n",
    "\n",
    "    plt.figure(figsize=(7, 7))\n",
    "\n",
    "    ax = sns.heatmap(confusion_matrix(actual_value, predict_value) / actual_value.shape[0] * 100.0,\n",
    "                     annot=True, cmap='Blues')\n",
    "    ax = ax.set(xlabel='Predicted Values', ylabel='Actual Values', title='Confusion Matrix',\n",
    "                #xticklabels=(['True', 'False']),\n",
    "                #yticklabels=(['True', 'False'])\n",
    "                )\n",
    "\n",
    "    plt.show()"
   ],
   "metadata": {
    "collapsed": false,
    "pycharm": {
     "name": "#%%\n"
    }
   }
  },
  {
   "cell_type": "code",
   "execution_count": null,
   "outputs": [],
   "source": [
    "class Columns(BaseEstimator, TransformerMixin):\n",
    "    def __init__(self, names=None):\n",
    "        self.names = names\n",
    "\n",
    "    def fit(self, X, y=None, **fit_params):\n",
    "        return self\n",
    "\n",
    "    def transform(self, X):\n",
    "        return X[self.names]\n",
    "\n",
    "    #def get_feature_names(self):\n",
    "    #    return df.columns.tolist()\n",
    "\n",
    "\n",
    "class Normalize(BaseEstimator, TransformerMixin):\n",
    "    def __init__(self, func=None, func_param={}):\n",
    "        self.func = func\n",
    "        self.func_param = func_param\n",
    "\n",
    "    def transform(self, X):\n",
    "        if self.func != None:\n",
    "            return self.func(X, **self.func_param)\n",
    "        else:\n",
    "            return X\n",
    "\n",
    "    def fit(self, X, y=None, **fit_params):\n",
    "        return self\n",
    "\n",
    "    #def get_feature_names(self):\n",
    "    #    return df.columns.tolist()"
   ],
   "metadata": {
    "collapsed": false,
    "pycharm": {
     "name": "#%%\n"
    }
   }
  },
  {
   "cell_type": "markdown",
   "source": [
    "## Разбиваем данные"
   ],
   "metadata": {
    "collapsed": false,
    "pycharm": {
     "name": "#%% md\n"
    }
   }
  },
  {
   "cell_type": "code",
   "execution_count": null,
   "outputs": [],
   "source": [],
   "metadata": {
    "collapsed": false,
    "pycharm": {
     "name": "#%%\n"
    }
   }
  },
  {
   "cell_type": "code",
   "execution_count": null,
   "outputs": [],
   "source": [
    "features = df_data_.drop('target', axis=1)\n",
    "target = df_data_['target']"
   ],
   "metadata": {
    "collapsed": false,
    "pycharm": {
     "name": "#%%\n"
    }
   }
  },
  {
   "cell_type": "code",
   "execution_count": null,
   "outputs": [],
   "source": [
    "X_train, X_test, y_train, y_test = train_test_split(features, target, test_size=0.25, random_state=RANDOM_STATE,\n",
    "                                                    stratify=target)\n",
    "\n",
    "print(f'train shape: X: {X_train.shape} y: {y_train.shape}')\n",
    "print(f'test shape: X: {X_test.shape} y: {y_test.shape}')"
   ],
   "metadata": {
    "collapsed": false,
    "pycharm": {
     "name": "#%%\n"
    }
   }
  },
  {
   "cell_type": "markdown",
   "source": [
    "### LogisticRegression"
   ],
   "metadata": {
    "collapsed": false,
    "pycharm": {
     "name": "#%% md\n"
    }
   }
  },
  {
   "cell_type": "code",
   "execution_count": null,
   "outputs": [],
   "source": [
    "cat_cols = categorical_feature\n",
    "num_cols = numerical_feature\n",
    "\n",
    "lr_pipe = Pipeline([\n",
    "    (\"features\", FeatureUnion([\n",
    "        ('numeric', make_pipeline(Columns(names=num_cols), Normalize())),\n",
    "        ('categorical', make_pipeline(Columns(names=cat_cols), OneHotEncoder(sparse=False, drop='first')))\n",
    "    ])),\n",
    "    ('model', LogisticRegression(random_state=RANDOM_STATE))\n",
    "])"
   ],
   "metadata": {
    "collapsed": false,
    "pycharm": {
     "name": "#%%\n"
    }
   }
  },
  {
   "cell_type": "code",
   "execution_count": null,
   "outputs": [],
   "source": [
    "ROCAUC = make_scorer(roc_auc_score, greater_is_better=True, needs_threshold=True)"
   ],
   "metadata": {
    "collapsed": false,
    "pycharm": {
     "name": "#%%\n"
    }
   }
  },
  {
   "cell_type": "code",
   "execution_count": null,
   "outputs": [],
   "source": [
    "%%time\n",
    "parametrs = {'model__penalty': ['l1', 'l2', ],\n",
    "             'model__solver': ['liblinear'],\n",
    "             'model__class_weight': ['balanced', ],\n",
    "             'model__C': np.logspace(-4, 10, 20),\n",
    "             }\n",
    "\n",
    "grid_search = GridSearchCV(estimator=lr_pipe,\n",
    "                           param_grid=parametrs,\n",
    "                           scoring=ROCAUC,\n",
    "                           n_jobs=-1,\n",
    "                           cv=5,\n",
    "                           verbose=1)\n",
    "\n",
    "grid_search.fit(X_train, y_train)"
   ],
   "metadata": {
    "collapsed": false,
    "pycharm": {
     "name": "#%%\n"
    }
   }
  },
  {
   "cell_type": "code",
   "execution_count": null,
   "outputs": [],
   "source": [
    "print(f'best result of LogisticRegression on train data {grid_search.best_score_}\\nwith parameters:')\n",
    "\n",
    "for k, v in grid_search.best_params_.items():\n",
    "    print(k, v)"
   ],
   "metadata": {
    "collapsed": false,
    "pycharm": {
     "name": "#%%\n"
    }
   }
  },
  {
   "cell_type": "code",
   "execution_count": null,
   "outputs": [],
   "source": [
    "best_model_lr = grid_search.best_estimator_\n",
    "best_model_lr.fit(X_train, y_train)"
   ],
   "metadata": {
    "collapsed": false,
    "pycharm": {
     "name": "#%%\n"
    }
   }
  },
  {
   "cell_type": "code",
   "execution_count": null,
   "outputs": [],
   "source": [
    "prediction = best_model_lr.predict_proba(X_test)[:, 1]\n",
    "auc = roc_auc_score(y_test, prediction)\n",
    "print(f\"final ROC AUC on test data: {auc}\")"
   ],
   "metadata": {
    "collapsed": false,
    "pycharm": {
     "name": "#%%\n"
    }
   }
  },
  {
   "cell_type": "code",
   "execution_count": null,
   "outputs": [],
   "source": [
    "drawConfusionMatrix(best_model_lr.predict(X_test), y_test)"
   ],
   "metadata": {
    "collapsed": false,
    "pycharm": {
     "name": "#%%\n"
    }
   }
  },
  {
   "cell_type": "code",
   "execution_count": null,
   "outputs": [],
   "source": [
    "fig, ax = plt.subplots(figsize=(10, 10))\n",
    "plot_roc_curve(best_model_lr, X_test, y_test, ax=ax)\n",
    "plt.grid()\n",
    "plt.show()"
   ],
   "metadata": {
    "collapsed": false,
    "pycharm": {
     "name": "#%%\n"
    }
   }
  },
  {
   "cell_type": "code",
   "execution_count": null,
   "outputs": [],
   "source": [
    "fnew_feature_names = numerical_feature + list(\n",
    "    dict(best_model_lr['features'].transformer_list)['categorical'].named_steps['onehotencoder'].get_feature_names_out()\n",
    ")"
   ],
   "metadata": {
    "collapsed": false,
    "pycharm": {
     "name": "#%%\n"
    }
   }
  },
  {
   "cell_type": "code",
   "execution_count": null,
   "outputs": [],
   "source": [
    "plot_feature_importance(\n",
    "    list(best_model_lr['model'].coef_[0]),\n",
    "    fnew_feature_names,\n",
    ")"
   ],
   "metadata": {
    "collapsed": false,
    "pycharm": {
     "name": "#%%\n"
    }
   }
  },
  {
   "cell_type": "markdown",
   "source": [
    "### CatBoost"
   ],
   "metadata": {
    "collapsed": false,
    "pycharm": {
     "name": "#%% md\n"
    }
   }
  },
  {
   "cell_type": "code",
   "execution_count": null,
   "outputs": [],
   "source": [
    "cbc_model = CatBoostClassifier(\n",
    "    loss_function='Logloss',\n",
    "    custom_loss='AUC:hints=skip_train~false',\n",
    "    verbose=False,\n",
    "    iterations=500,\n",
    "    cat_features=categorical_feature,\n",
    "    random_state=RANDOM_STATE,\n",
    "    auto_class_weights='Balanced',\n",
    "    # early_stopping_rounds\n",
    ")"
   ],
   "metadata": {
    "collapsed": false,
    "pycharm": {
     "name": "#%%\n"
    }
   }
  },
  {
   "cell_type": "code",
   "execution_count": null,
   "outputs": [],
   "source": [
    "grid = {\n",
    "    'learning_rate': [0.1, 0.15, 0.2, 0.25, 0.3],\n",
    "    'depth': [2, 3, 4, 5],\n",
    "    'l2_leaf_reg': [1, 3, 5],\n",
    "    'grow_policy': ['SymmetricTree', 'Depthwise', 'Lossguide'],\n",
    "}"
   ],
   "metadata": {
    "collapsed": false,
    "pycharm": {
     "name": "#%%\n"
    }
   }
  },
  {
   "cell_type": "code",
   "execution_count": null,
   "outputs": [],
   "source": [
    "%%time\n",
    "randomized_search_result = cbc_model.randomized_search(\n",
    "    grid,\n",
    "    X_train,\n",
    "    y_train,\n",
    "    cv=5,\n",
    "    plot=True,\n",
    "    refit=True,\n",
    "    stratified=True,\n",
    "    verbose=False,\n",
    ")"
   ],
   "metadata": {
    "collapsed": false,
    "pycharm": {
     "name": "#%%\n"
    }
   }
  },
  {
   "cell_type": "code",
   "execution_count": null,
   "outputs": [],
   "source": [
    "print(f'best result of CatBoostClassifier on train data with parameters:')\n",
    "\n",
    "for k, v in cbc_model.get_params().items():\n",
    "    print(k, v)"
   ],
   "metadata": {
    "collapsed": false,
    "pycharm": {
     "name": "#%%\n"
    }
   }
  },
  {
   "cell_type": "code",
   "execution_count": null,
   "outputs": [],
   "source": [
    "cbc_model.fit(X_train, y_train)\n",
    "\n",
    "prediction = cbc_model.predict_proba(X_test)[:, 1]\n",
    "auc = roc_auc_score(y_test, prediction)\n",
    "print(f\"final ROC AUC on test data: {auc}\")"
   ],
   "metadata": {
    "collapsed": false,
    "pycharm": {
     "name": "#%%\n"
    }
   }
  },
  {
   "cell_type": "code",
   "execution_count": null,
   "outputs": [],
   "source": [
    "drawConfusionMatrix(cbc_model.predict(X_test), y_test)"
   ],
   "metadata": {
    "collapsed": false,
    "pycharm": {
     "name": "#%%\n"
    }
   }
  },
  {
   "cell_type": "code",
   "execution_count": null,
   "outputs": [],
   "source": [
    "fig, ax = plt.subplots(figsize=(10, 10))\n",
    "plot_roc_curve(cbc_model, X_test, y_test, ax=ax)\n",
    "plt.grid()\n",
    "plt.show()"
   ],
   "metadata": {
    "collapsed": false,
    "pycharm": {
     "name": "#%%\n"
    }
   }
  },
  {
   "cell_type": "code",
   "execution_count": null,
   "outputs": [],
   "source": [
    "plot_feature_importance(\n",
    "    cbc_model.get_feature_importance(),\n",
    "    X_test.columns,\n",
    ")"
   ],
   "metadata": {
    "collapsed": false,
    "pycharm": {
     "name": "#%%\n"
    }
   }
  },
  {
   "cell_type": "markdown",
   "source": [
    "## Выводы\n",
    "\n",
    "\n",
    "Была решена задача предсказания того, соверщит ли клиент следующую покупку или нет. В качестве метрики была выбрана AUC, как наиболее удобная для дальнейшего развития задачи - и выставления порогов бинаризации\n",
    "\n",
    "При принятии решений о возможном уходе клиента важно обратить внимание на взаимодействие клиента с бонусами.\n",
    "\n",
    "Получена точность предсказания `0.89` при использовании `CatBoost`"
   ],
   "metadata": {
    "collapsed": false,
    "pycharm": {
     "name": "#%% md\n"
    }
   }
  }
 ],
 "metadata": {
  "kernelspec": {
   "display_name": "Python 3 (ipykernel)",
   "language": "python",
   "name": "python3"
  },
  "language_info": {
   "codemirror_mode": {
    "name": "ipython",
    "version": 3
   },
   "file_extension": ".py",
   "mimetype": "text/x-python",
   "name": "python",
   "nbconvert_exporter": "python",
   "pygments_lexer": "ipython3",
   "version": "3.10.4"
  }
 },
 "nbformat": 4,
 "nbformat_minor": 5
}