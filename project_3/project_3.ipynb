{
 "cells": [
  {
   "cell_type": "markdown",
   "metadata": {
    "toc": true
   },
   "source": [
    "<h1>Содержание<span class=\"tocSkip\"></span></h1>\n",
    "<div class=\"toc\"><ul class=\"toc-item\"><li><span><a href=\"#Изучение-данных-из-файла\" data-toc-modified-id=\"Изучение-данных-из-файла-1\"><span class=\"toc-item-num\">1&nbsp;&nbsp;</span>Изучение данных из файла</a></span><ul class=\"toc-item\"><li><span><a href=\"#Вывод\" data-toc-modified-id=\"Вывод-1.1\"><span class=\"toc-item-num\">1.1&nbsp;&nbsp;</span>Вывод</a></span></li></ul></li><li><span><a href=\"#Предобработка-данных\" data-toc-modified-id=\"Предобработка-данных-2\"><span class=\"toc-item-num\">2&nbsp;&nbsp;</span>Предобработка данных</a></span><ul class=\"toc-item\"><li><span><a href=\"#То,-что-мы-не-трогаем\" data-toc-modified-id=\"То,-что-мы-не-трогаем-2.1\"><span class=\"toc-item-num\">2.1&nbsp;&nbsp;</span>То, что мы не трогаем</a></span></li><li><span><a href=\"#Количество-фотографий,-дата-публикации-и-другое\" data-toc-modified-id=\"Количество-фотографий,-дата-публикации-и-другое-2.2\"><span class=\"toc-item-num\">2.2&nbsp;&nbsp;</span>Количество фотографий, дата публикации и другое</a></span></li><li><span><a href=\"#Апартаменты\" data-toc-modified-id=\"Апартаменты-2.3\"><span class=\"toc-item-num\">2.3&nbsp;&nbsp;</span>Апартаменты</a></span></li><li><span><a href=\"#Балконы\" data-toc-modified-id=\"Балконы-2.4\"><span class=\"toc-item-num\">2.4&nbsp;&nbsp;</span>Балконы</a></span></li><li><span><a href=\"#Названия-населенного-пункта\" data-toc-modified-id=\"Названия-населенного-пункта-2.5\"><span class=\"toc-item-num\">2.5&nbsp;&nbsp;</span>Названия населенного пункта</a></span></li><li><span><a href=\"#Парки-и-пруды\" data-toc-modified-id=\"Парки-и-пруды-2.6\"><span class=\"toc-item-num\">2.6&nbsp;&nbsp;</span>Парки и пруды</a></span></li></ul></li><li><span><a href=\"#Расчёты-и-добавление-результатов-в-таблицу\" data-toc-modified-id=\"Расчёты-и-добавление-результатов-в-таблицу-3\"><span class=\"toc-item-num\">3&nbsp;&nbsp;</span>Расчёты и добавление результатов в таблицу</a></span></li><li><span><a href=\"#Исследовательский-анализ-данных\" data-toc-modified-id=\"Исследовательский-анализ-данных-4\"><span class=\"toc-item-num\">4&nbsp;&nbsp;</span>Исследовательский анализ данных</a></span><ul class=\"toc-item\"><li><ul class=\"toc-item\"><li><span><a href=\"#Площадь\" data-toc-modified-id=\"Площадь-4.0.1\"><span class=\"toc-item-num\">4.0.1&nbsp;&nbsp;</span>Площадь</a></span></li><li><span><a href=\"#Цена\" data-toc-modified-id=\"Цена-4.0.2\"><span class=\"toc-item-num\">4.0.2&nbsp;&nbsp;</span>Цена</a></span></li><li><span><a href=\"#Число-комнат\" data-toc-modified-id=\"Число-комнат-4.0.3\"><span class=\"toc-item-num\">4.0.3&nbsp;&nbsp;</span>Число комнат</a></span></li><li><span><a href=\"#Высота-потолков\" data-toc-modified-id=\"Высота-потолков-4.0.4\"><span class=\"toc-item-num\">4.0.4&nbsp;&nbsp;</span>Высота потолков</a></span></li><li><span><a href=\"#Выводы\" data-toc-modified-id=\"Выводы-4.0.5\"><span class=\"toc-item-num\">4.0.5&nbsp;&nbsp;</span>Выводы</a></span></li><li><span><a href=\"#Время-продажи\" data-toc-modified-id=\"Время-продажи-4.0.6\"><span class=\"toc-item-num\">4.0.6&nbsp;&nbsp;</span>Время продажи</a></span></li><li><span><a href=\"#Выводы\" data-toc-modified-id=\"Выводы-4.0.7\"><span class=\"toc-item-num\">4.0.7&nbsp;&nbsp;</span>Выводы</a></span><ul class=\"toc-item\"><li><span><a href=\"#1\" data-toc-modified-id=\"1-4.0.7.1\"><span class=\"toc-item-num\">4.0.7.1&nbsp;&nbsp;</span>1</a></span></li><li><span><a href=\"#Вывод\" data-toc-modified-id=\"Вывод-4.0.7.2\"><span class=\"toc-item-num\">4.0.7.2&nbsp;&nbsp;</span>Вывод</a></span></li><li><span><a href=\"#2\" data-toc-modified-id=\"2-4.0.7.3\"><span class=\"toc-item-num\">4.0.7.3&nbsp;&nbsp;</span>2</a></span></li><li><span><a href=\"#Вывод\" data-toc-modified-id=\"Вывод-4.0.7.4\"><span class=\"toc-item-num\">4.0.7.4&nbsp;&nbsp;</span>Вывод</a></span></li><li><span><a href=\"#3\" data-toc-modified-id=\"3-4.0.7.5\"><span class=\"toc-item-num\">4.0.7.5&nbsp;&nbsp;</span>3</a></span></li><li><span><a href=\"#Вывод\" data-toc-modified-id=\"Вывод-4.0.7.6\"><span class=\"toc-item-num\">4.0.7.6&nbsp;&nbsp;</span>Вывод</a></span></li><li><span><a href=\"#4\" data-toc-modified-id=\"4-4.0.7.7\"><span class=\"toc-item-num\">4.0.7.7&nbsp;&nbsp;</span>4</a></span></li><li><span><a href=\"#Вывод:\" data-toc-modified-id=\"Вывод:-4.0.7.8\"><span class=\"toc-item-num\">4.0.7.8&nbsp;&nbsp;</span>Вывод:</a></span></li></ul></li></ul></li></ul></li><li><span><a href=\"#Общий-вывод\" data-toc-modified-id=\"Общий-вывод-5\"><span class=\"toc-item-num\">5&nbsp;&nbsp;</span>Общий вывод</a></span></li><li><span><a href=\"#Чек-лист-готовности-проекта\" data-toc-modified-id=\"Чек-лист-готовности-проекта-6\"><span class=\"toc-item-num\">6&nbsp;&nbsp;</span>Чек-лист готовности проекта</a></span></li></ul></div>"
   ]
  },
  {
   "cell_type": "markdown",
   "metadata": {},
   "source": [
    "# Исследование объявлений о продаже квартир\n",
    "\n",
    "В вашем распоряжении данные сервиса Яндекc Недвижимость — архив объявлений о продаже квартир в Санкт-Петербурге и соседних населённых пунктах за несколько лет. Нужно научиться определять рыночную стоимость объектов недвижимости. Ваша задача — установить параметры. Это позволит построить автоматизированную систему: она отследит аномалии и мошенническую деятельность. \n",
    "\n",
    "По каждой квартире на продажу доступны два вида данных. Первые вписаны пользователем, вторые получены автоматически на основе картографических данных. Например, расстояние до центра, аэропорта, ближайшего парка и водоёма. "
   ]
  },
  {
   "cell_type": "markdown",
   "metadata": {},
   "source": [
    "## Изучение данных из файла"
   ]
  },
  {
   "cell_type": "code",
   "execution_count": 1,
   "metadata": {},
   "outputs": [],
   "source": [
    "import matplotlib.pyplot as plt\n",
    "import pandas as pd\n",
    "import seaborn as sns"
   ]
  },
  {
   "cell_type": "code",
   "execution_count": 2,
   "metadata": {},
   "outputs": [],
   "source": [
    "df = pd.read_csv('/datasets/real_estate_data.csv', sep='\\t')"
   ]
  },
  {
   "cell_type": "code",
   "execution_count": 3,
   "metadata": {},
   "outputs": [
    {
     "data": {
      "text/html": [
       "<div>\n",
       "<style scoped>\n",
       "    .dataframe tbody tr th:only-of-type {\n",
       "        vertical-align: middle;\n",
       "    }\n",
       "\n",
       "    .dataframe tbody tr th {\n",
       "        vertical-align: top;\n",
       "    }\n",
       "\n",
       "    .dataframe thead th {\n",
       "        text-align: right;\n",
       "    }\n",
       "</style>\n",
       "<table border=\"1\" class=\"dataframe\">\n",
       "  <thead>\n",
       "    <tr style=\"text-align: right;\">\n",
       "      <th></th>\n",
       "      <th>total_images</th>\n",
       "      <th>last_price</th>\n",
       "      <th>total_area</th>\n",
       "      <th>first_day_exposition</th>\n",
       "      <th>rooms</th>\n",
       "      <th>ceiling_height</th>\n",
       "      <th>floors_total</th>\n",
       "      <th>living_area</th>\n",
       "      <th>floor</th>\n",
       "      <th>is_apartment</th>\n",
       "      <th>...</th>\n",
       "      <th>kitchen_area</th>\n",
       "      <th>balcony</th>\n",
       "      <th>locality_name</th>\n",
       "      <th>airports_nearest</th>\n",
       "      <th>cityCenters_nearest</th>\n",
       "      <th>parks_around3000</th>\n",
       "      <th>parks_nearest</th>\n",
       "      <th>ponds_around3000</th>\n",
       "      <th>ponds_nearest</th>\n",
       "      <th>days_exposition</th>\n",
       "    </tr>\n",
       "  </thead>\n",
       "  <tbody>\n",
       "    <tr>\n",
       "      <th>630</th>\n",
       "      <td>20</td>\n",
       "      <td>3700000.0</td>\n",
       "      <td>59.6</td>\n",
       "      <td>2018-07-19T00:00:00</td>\n",
       "      <td>3</td>\n",
       "      <td>2.5</td>\n",
       "      <td>9.0</td>\n",
       "      <td>38.0</td>\n",
       "      <td>7</td>\n",
       "      <td>NaN</td>\n",
       "      <td>...</td>\n",
       "      <td>8.00</td>\n",
       "      <td>2.0</td>\n",
       "      <td>Сертолово</td>\n",
       "      <td>NaN</td>\n",
       "      <td>NaN</td>\n",
       "      <td>NaN</td>\n",
       "      <td>NaN</td>\n",
       "      <td>NaN</td>\n",
       "      <td>NaN</td>\n",
       "      <td>NaN</td>\n",
       "    </tr>\n",
       "    <tr>\n",
       "      <th>13559</th>\n",
       "      <td>6</td>\n",
       "      <td>3890000.0</td>\n",
       "      <td>43.2</td>\n",
       "      <td>2016-02-19T00:00:00</td>\n",
       "      <td>2</td>\n",
       "      <td>NaN</td>\n",
       "      <td>5.0</td>\n",
       "      <td>27.8</td>\n",
       "      <td>5</td>\n",
       "      <td>False</td>\n",
       "      <td>...</td>\n",
       "      <td>5.50</td>\n",
       "      <td>0.0</td>\n",
       "      <td>Санкт-Петербург</td>\n",
       "      <td>11164.0</td>\n",
       "      <td>10797.0</td>\n",
       "      <td>1.0</td>\n",
       "      <td>497.0</td>\n",
       "      <td>0.0</td>\n",
       "      <td>NaN</td>\n",
       "      <td>279.0</td>\n",
       "    </tr>\n",
       "    <tr>\n",
       "      <th>18657</th>\n",
       "      <td>4</td>\n",
       "      <td>5700000.0</td>\n",
       "      <td>53.0</td>\n",
       "      <td>2016-04-08T00:00:00</td>\n",
       "      <td>1</td>\n",
       "      <td>NaN</td>\n",
       "      <td>7.0</td>\n",
       "      <td>18.3</td>\n",
       "      <td>2</td>\n",
       "      <td>NaN</td>\n",
       "      <td>...</td>\n",
       "      <td>16.42</td>\n",
       "      <td>0.0</td>\n",
       "      <td>Санкт-Петербург</td>\n",
       "      <td>53520.0</td>\n",
       "      <td>18013.0</td>\n",
       "      <td>0.0</td>\n",
       "      <td>NaN</td>\n",
       "      <td>2.0</td>\n",
       "      <td>287.0</td>\n",
       "      <td>113.0</td>\n",
       "    </tr>\n",
       "    <tr>\n",
       "      <th>9132</th>\n",
       "      <td>12</td>\n",
       "      <td>2900000.0</td>\n",
       "      <td>45.0</td>\n",
       "      <td>2017-04-10T00:00:00</td>\n",
       "      <td>2</td>\n",
       "      <td>2.5</td>\n",
       "      <td>5.0</td>\n",
       "      <td>29.7</td>\n",
       "      <td>3</td>\n",
       "      <td>NaN</td>\n",
       "      <td>...</td>\n",
       "      <td>6.10</td>\n",
       "      <td>1.0</td>\n",
       "      <td>Ломоносов</td>\n",
       "      <td>48252.0</td>\n",
       "      <td>51677.0</td>\n",
       "      <td>0.0</td>\n",
       "      <td>NaN</td>\n",
       "      <td>0.0</td>\n",
       "      <td>NaN</td>\n",
       "      <td>137.0</td>\n",
       "    </tr>\n",
       "    <tr>\n",
       "      <th>9942</th>\n",
       "      <td>10</td>\n",
       "      <td>5070000.0</td>\n",
       "      <td>42.0</td>\n",
       "      <td>2017-12-14T00:00:00</td>\n",
       "      <td>1</td>\n",
       "      <td>2.8</td>\n",
       "      <td>22.0</td>\n",
       "      <td>18.0</td>\n",
       "      <td>7</td>\n",
       "      <td>NaN</td>\n",
       "      <td>...</td>\n",
       "      <td>11.00</td>\n",
       "      <td>2.0</td>\n",
       "      <td>Санкт-Петербург</td>\n",
       "      <td>52212.0</td>\n",
       "      <td>16802.0</td>\n",
       "      <td>0.0</td>\n",
       "      <td>NaN</td>\n",
       "      <td>1.0</td>\n",
       "      <td>733.0</td>\n",
       "      <td>117.0</td>\n",
       "    </tr>\n",
       "    <tr>\n",
       "      <th>7414</th>\n",
       "      <td>14</td>\n",
       "      <td>2700000.0</td>\n",
       "      <td>63.5</td>\n",
       "      <td>2017-07-07T00:00:00</td>\n",
       "      <td>3</td>\n",
       "      <td>NaN</td>\n",
       "      <td>5.0</td>\n",
       "      <td>NaN</td>\n",
       "      <td>4</td>\n",
       "      <td>NaN</td>\n",
       "      <td>...</td>\n",
       "      <td>NaN</td>\n",
       "      <td>NaN</td>\n",
       "      <td>Светогорск</td>\n",
       "      <td>NaN</td>\n",
       "      <td>NaN</td>\n",
       "      <td>NaN</td>\n",
       "      <td>NaN</td>\n",
       "      <td>NaN</td>\n",
       "      <td>NaN</td>\n",
       "      <td>198.0</td>\n",
       "    </tr>\n",
       "    <tr>\n",
       "      <th>1672</th>\n",
       "      <td>10</td>\n",
       "      <td>14000000.0</td>\n",
       "      <td>107.1</td>\n",
       "      <td>2017-04-16T00:00:00</td>\n",
       "      <td>4</td>\n",
       "      <td>NaN</td>\n",
       "      <td>16.0</td>\n",
       "      <td>58.8</td>\n",
       "      <td>15</td>\n",
       "      <td>NaN</td>\n",
       "      <td>...</td>\n",
       "      <td>13.50</td>\n",
       "      <td>5.0</td>\n",
       "      <td>Санкт-Петербург</td>\n",
       "      <td>38178.0</td>\n",
       "      <td>11763.0</td>\n",
       "      <td>0.0</td>\n",
       "      <td>NaN</td>\n",
       "      <td>1.0</td>\n",
       "      <td>844.0</td>\n",
       "      <td>103.0</td>\n",
       "    </tr>\n",
       "    <tr>\n",
       "      <th>14580</th>\n",
       "      <td>20</td>\n",
       "      <td>3600000.0</td>\n",
       "      <td>60.1</td>\n",
       "      <td>2018-03-20T00:00:00</td>\n",
       "      <td>3</td>\n",
       "      <td>2.6</td>\n",
       "      <td>5.0</td>\n",
       "      <td>42.7</td>\n",
       "      <td>4</td>\n",
       "      <td>NaN</td>\n",
       "      <td>...</td>\n",
       "      <td>6.10</td>\n",
       "      <td>NaN</td>\n",
       "      <td>деревня Фёдоровское</td>\n",
       "      <td>NaN</td>\n",
       "      <td>NaN</td>\n",
       "      <td>NaN</td>\n",
       "      <td>NaN</td>\n",
       "      <td>NaN</td>\n",
       "      <td>NaN</td>\n",
       "      <td>6.0</td>\n",
       "    </tr>\n",
       "    <tr>\n",
       "      <th>10349</th>\n",
       "      <td>11</td>\n",
       "      <td>2950000.0</td>\n",
       "      <td>34.0</td>\n",
       "      <td>2017-07-15T00:00:00</td>\n",
       "      <td>1</td>\n",
       "      <td>2.5</td>\n",
       "      <td>9.0</td>\n",
       "      <td>18.0</td>\n",
       "      <td>5</td>\n",
       "      <td>False</td>\n",
       "      <td>...</td>\n",
       "      <td>6.20</td>\n",
       "      <td>2.0</td>\n",
       "      <td>Санкт-Петербург</td>\n",
       "      <td>16166.0</td>\n",
       "      <td>16074.0</td>\n",
       "      <td>0.0</td>\n",
       "      <td>NaN</td>\n",
       "      <td>2.0</td>\n",
       "      <td>861.0</td>\n",
       "      <td>32.0</td>\n",
       "    </tr>\n",
       "    <tr>\n",
       "      <th>18156</th>\n",
       "      <td>9</td>\n",
       "      <td>4900000.0</td>\n",
       "      <td>44.5</td>\n",
       "      <td>2017-06-20T00:00:00</td>\n",
       "      <td>2</td>\n",
       "      <td>NaN</td>\n",
       "      <td>9.0</td>\n",
       "      <td>27.0</td>\n",
       "      <td>6</td>\n",
       "      <td>NaN</td>\n",
       "      <td>...</td>\n",
       "      <td>6.00</td>\n",
       "      <td>NaN</td>\n",
       "      <td>Санкт-Петербург</td>\n",
       "      <td>12675.0</td>\n",
       "      <td>15267.0</td>\n",
       "      <td>0.0</td>\n",
       "      <td>NaN</td>\n",
       "      <td>1.0</td>\n",
       "      <td>683.0</td>\n",
       "      <td>176.0</td>\n",
       "    </tr>\n",
       "  </tbody>\n",
       "</table>\n",
       "<p>10 rows × 22 columns</p>\n",
       "</div>"
      ],
      "text/plain": [
       "       total_images  last_price  total_area first_day_exposition  rooms  \\\n",
       "630              20   3700000.0        59.6  2018-07-19T00:00:00      3   \n",
       "13559             6   3890000.0        43.2  2016-02-19T00:00:00      2   \n",
       "18657             4   5700000.0        53.0  2016-04-08T00:00:00      1   \n",
       "9132             12   2900000.0        45.0  2017-04-10T00:00:00      2   \n",
       "9942             10   5070000.0        42.0  2017-12-14T00:00:00      1   \n",
       "7414             14   2700000.0        63.5  2017-07-07T00:00:00      3   \n",
       "1672             10  14000000.0       107.1  2017-04-16T00:00:00      4   \n",
       "14580            20   3600000.0        60.1  2018-03-20T00:00:00      3   \n",
       "10349            11   2950000.0        34.0  2017-07-15T00:00:00      1   \n",
       "18156             9   4900000.0        44.5  2017-06-20T00:00:00      2   \n",
       "\n",
       "       ceiling_height  floors_total  living_area  floor is_apartment  ...  \\\n",
       "630               2.5           9.0         38.0      7          NaN  ...   \n",
       "13559             NaN           5.0         27.8      5        False  ...   \n",
       "18657             NaN           7.0         18.3      2          NaN  ...   \n",
       "9132              2.5           5.0         29.7      3          NaN  ...   \n",
       "9942              2.8          22.0         18.0      7          NaN  ...   \n",
       "7414              NaN           5.0          NaN      4          NaN  ...   \n",
       "1672              NaN          16.0         58.8     15          NaN  ...   \n",
       "14580             2.6           5.0         42.7      4          NaN  ...   \n",
       "10349             2.5           9.0         18.0      5        False  ...   \n",
       "18156             NaN           9.0         27.0      6          NaN  ...   \n",
       "\n",
       "       kitchen_area  balcony        locality_name  airports_nearest  \\\n",
       "630            8.00      2.0            Сертолово               NaN   \n",
       "13559          5.50      0.0      Санкт-Петербург           11164.0   \n",
       "18657         16.42      0.0      Санкт-Петербург           53520.0   \n",
       "9132           6.10      1.0            Ломоносов           48252.0   \n",
       "9942          11.00      2.0      Санкт-Петербург           52212.0   \n",
       "7414            NaN      NaN           Светогорск               NaN   \n",
       "1672          13.50      5.0      Санкт-Петербург           38178.0   \n",
       "14580          6.10      NaN  деревня Фёдоровское               NaN   \n",
       "10349          6.20      2.0      Санкт-Петербург           16166.0   \n",
       "18156          6.00      NaN      Санкт-Петербург           12675.0   \n",
       "\n",
       "      cityCenters_nearest  parks_around3000  parks_nearest  ponds_around3000  \\\n",
       "630                   NaN               NaN            NaN               NaN   \n",
       "13559             10797.0               1.0          497.0               0.0   \n",
       "18657             18013.0               0.0            NaN               2.0   \n",
       "9132              51677.0               0.0            NaN               0.0   \n",
       "9942              16802.0               0.0            NaN               1.0   \n",
       "7414                  NaN               NaN            NaN               NaN   \n",
       "1672              11763.0               0.0            NaN               1.0   \n",
       "14580                 NaN               NaN            NaN               NaN   \n",
       "10349             16074.0               0.0            NaN               2.0   \n",
       "18156             15267.0               0.0            NaN               1.0   \n",
       "\n",
       "       ponds_nearest  days_exposition  \n",
       "630              NaN              NaN  \n",
       "13559            NaN            279.0  \n",
       "18657          287.0            113.0  \n",
       "9132             NaN            137.0  \n",
       "9942           733.0            117.0  \n",
       "7414             NaN            198.0  \n",
       "1672           844.0            103.0  \n",
       "14580            NaN              6.0  \n",
       "10349          861.0             32.0  \n",
       "18156          683.0            176.0  \n",
       "\n",
       "[10 rows x 22 columns]"
      ]
     },
     "execution_count": 3,
     "metadata": {},
     "output_type": "execute_result"
    }
   ],
   "source": [
    "# можно и df.head(), но я узнал про функцию sample))\n",
    "df.sample(10)"
   ]
  },
  {
   "cell_type": "code",
   "execution_count": 4,
   "metadata": {},
   "outputs": [
    {
     "name": "stdout",
     "output_type": "stream",
     "text": [
      "<class 'pandas.core.frame.DataFrame'>\n",
      "RangeIndex: 23699 entries, 0 to 23698\n",
      "Data columns (total 22 columns):\n",
      " #   Column                Non-Null Count  Dtype  \n",
      "---  ------                --------------  -----  \n",
      " 0   total_images          23699 non-null  int64  \n",
      " 1   last_price            23699 non-null  float64\n",
      " 2   total_area            23699 non-null  float64\n",
      " 3   first_day_exposition  23699 non-null  object \n",
      " 4   rooms                 23699 non-null  int64  \n",
      " 5   ceiling_height        14504 non-null  float64\n",
      " 6   floors_total          23613 non-null  float64\n",
      " 7   living_area           21796 non-null  float64\n",
      " 8   floor                 23699 non-null  int64  \n",
      " 9   is_apartment          2775 non-null   object \n",
      " 10  studio                23699 non-null  bool   \n",
      " 11  open_plan             23699 non-null  bool   \n",
      " 12  kitchen_area          21421 non-null  float64\n",
      " 13  balcony               12180 non-null  float64\n",
      " 14  locality_name         23650 non-null  object \n",
      " 15  airports_nearest      18157 non-null  float64\n",
      " 16  cityCenters_nearest   18180 non-null  float64\n",
      " 17  parks_around3000      18181 non-null  float64\n",
      " 18  parks_nearest         8079 non-null   float64\n",
      " 19  ponds_around3000      18181 non-null  float64\n",
      " 20  ponds_nearest         9110 non-null   float64\n",
      " 21  days_exposition       20518 non-null  float64\n",
      "dtypes: bool(2), float64(14), int64(3), object(3)\n",
      "memory usage: 3.7+ MB\n"
     ]
    }
   ],
   "source": [
    "df.info()"
   ]
  },
  {
   "cell_type": "markdown",
   "metadata": {},
   "source": [
    "Посмотрим, в каких столбцах нам не хватает данных:"
   ]
  },
  {
   "cell_type": "code",
   "execution_count": 5,
   "metadata": {},
   "outputs": [
    {
     "data": {
      "text/plain": [
       "total_images                0\n",
       "last_price                  0\n",
       "total_area                  0\n",
       "first_day_exposition        0\n",
       "rooms                       0\n",
       "ceiling_height           9195\n",
       "floors_total               86\n",
       "living_area              1903\n",
       "floor                       0\n",
       "is_apartment            20924\n",
       "studio                      0\n",
       "open_plan                   0\n",
       "kitchen_area             2278\n",
       "balcony                 11519\n",
       "locality_name              49\n",
       "airports_nearest         5542\n",
       "cityCenters_nearest      5519\n",
       "parks_around3000         5518\n",
       "parks_nearest           15620\n",
       "ponds_around3000         5518\n",
       "ponds_nearest           14589\n",
       "days_exposition          3181\n",
       "dtype: int64"
      ]
     },
     "execution_count": 5,
     "metadata": {},
     "output_type": "execute_result"
    }
   ],
   "source": [
    "df.isna().sum()"
   ]
  },
  {
   "cell_type": "code",
   "execution_count": 6,
   "metadata": {},
   "outputs": [
    {
     "data": {
      "text/html": [
       "<div>\n",
       "<style scoped>\n",
       "    .dataframe tbody tr th:only-of-type {\n",
       "        vertical-align: middle;\n",
       "    }\n",
       "\n",
       "    .dataframe tbody tr th {\n",
       "        vertical-align: top;\n",
       "    }\n",
       "\n",
       "    .dataframe thead th {\n",
       "        text-align: right;\n",
       "    }\n",
       "</style>\n",
       "<table border=\"1\" class=\"dataframe\">\n",
       "  <thead>\n",
       "    <tr style=\"text-align: right;\">\n",
       "      <th></th>\n",
       "      <th>total_images</th>\n",
       "      <th>last_price</th>\n",
       "      <th>total_area</th>\n",
       "      <th>rooms</th>\n",
       "      <th>ceiling_height</th>\n",
       "      <th>floors_total</th>\n",
       "      <th>living_area</th>\n",
       "      <th>floor</th>\n",
       "      <th>kitchen_area</th>\n",
       "      <th>balcony</th>\n",
       "      <th>airports_nearest</th>\n",
       "      <th>cityCenters_nearest</th>\n",
       "      <th>parks_around3000</th>\n",
       "      <th>parks_nearest</th>\n",
       "      <th>ponds_around3000</th>\n",
       "      <th>ponds_nearest</th>\n",
       "      <th>days_exposition</th>\n",
       "    </tr>\n",
       "  </thead>\n",
       "  <tbody>\n",
       "    <tr>\n",
       "      <th>count</th>\n",
       "      <td>23699.000000</td>\n",
       "      <td>2.369900e+04</td>\n",
       "      <td>23699.000000</td>\n",
       "      <td>23699.000000</td>\n",
       "      <td>14504.000000</td>\n",
       "      <td>23613.000000</td>\n",
       "      <td>21796.000000</td>\n",
       "      <td>23699.000000</td>\n",
       "      <td>21421.000000</td>\n",
       "      <td>12180.000000</td>\n",
       "      <td>18157.000000</td>\n",
       "      <td>18180.000000</td>\n",
       "      <td>18181.000000</td>\n",
       "      <td>8079.000000</td>\n",
       "      <td>18181.000000</td>\n",
       "      <td>9110.000000</td>\n",
       "      <td>20518.000000</td>\n",
       "    </tr>\n",
       "    <tr>\n",
       "      <th>mean</th>\n",
       "      <td>9.858475</td>\n",
       "      <td>6.541549e+06</td>\n",
       "      <td>60.348651</td>\n",
       "      <td>2.070636</td>\n",
       "      <td>2.771499</td>\n",
       "      <td>10.673824</td>\n",
       "      <td>34.457852</td>\n",
       "      <td>5.892358</td>\n",
       "      <td>10.569807</td>\n",
       "      <td>1.150082</td>\n",
       "      <td>28793.672193</td>\n",
       "      <td>14191.277833</td>\n",
       "      <td>0.611408</td>\n",
       "      <td>490.804555</td>\n",
       "      <td>0.770255</td>\n",
       "      <td>517.980900</td>\n",
       "      <td>180.888634</td>\n",
       "    </tr>\n",
       "    <tr>\n",
       "      <th>std</th>\n",
       "      <td>5.682529</td>\n",
       "      <td>1.088701e+07</td>\n",
       "      <td>35.654083</td>\n",
       "      <td>1.078405</td>\n",
       "      <td>1.261056</td>\n",
       "      <td>6.597173</td>\n",
       "      <td>22.030445</td>\n",
       "      <td>4.885249</td>\n",
       "      <td>5.905438</td>\n",
       "      <td>1.071300</td>\n",
       "      <td>12630.880622</td>\n",
       "      <td>8608.386210</td>\n",
       "      <td>0.802074</td>\n",
       "      <td>342.317995</td>\n",
       "      <td>0.938346</td>\n",
       "      <td>277.720643</td>\n",
       "      <td>219.727988</td>\n",
       "    </tr>\n",
       "    <tr>\n",
       "      <th>min</th>\n",
       "      <td>0.000000</td>\n",
       "      <td>1.219000e+04</td>\n",
       "      <td>12.000000</td>\n",
       "      <td>0.000000</td>\n",
       "      <td>1.000000</td>\n",
       "      <td>1.000000</td>\n",
       "      <td>2.000000</td>\n",
       "      <td>1.000000</td>\n",
       "      <td>1.300000</td>\n",
       "      <td>0.000000</td>\n",
       "      <td>0.000000</td>\n",
       "      <td>181.000000</td>\n",
       "      <td>0.000000</td>\n",
       "      <td>1.000000</td>\n",
       "      <td>0.000000</td>\n",
       "      <td>13.000000</td>\n",
       "      <td>1.000000</td>\n",
       "    </tr>\n",
       "    <tr>\n",
       "      <th>25%</th>\n",
       "      <td>6.000000</td>\n",
       "      <td>3.400000e+06</td>\n",
       "      <td>40.000000</td>\n",
       "      <td>1.000000</td>\n",
       "      <td>2.520000</td>\n",
       "      <td>5.000000</td>\n",
       "      <td>18.600000</td>\n",
       "      <td>2.000000</td>\n",
       "      <td>7.000000</td>\n",
       "      <td>0.000000</td>\n",
       "      <td>18585.000000</td>\n",
       "      <td>9238.000000</td>\n",
       "      <td>0.000000</td>\n",
       "      <td>288.000000</td>\n",
       "      <td>0.000000</td>\n",
       "      <td>294.000000</td>\n",
       "      <td>45.000000</td>\n",
       "    </tr>\n",
       "    <tr>\n",
       "      <th>50%</th>\n",
       "      <td>9.000000</td>\n",
       "      <td>4.650000e+06</td>\n",
       "      <td>52.000000</td>\n",
       "      <td>2.000000</td>\n",
       "      <td>2.650000</td>\n",
       "      <td>9.000000</td>\n",
       "      <td>30.000000</td>\n",
       "      <td>4.000000</td>\n",
       "      <td>9.100000</td>\n",
       "      <td>1.000000</td>\n",
       "      <td>26726.000000</td>\n",
       "      <td>13098.500000</td>\n",
       "      <td>0.000000</td>\n",
       "      <td>455.000000</td>\n",
       "      <td>1.000000</td>\n",
       "      <td>502.000000</td>\n",
       "      <td>95.000000</td>\n",
       "    </tr>\n",
       "    <tr>\n",
       "      <th>75%</th>\n",
       "      <td>14.000000</td>\n",
       "      <td>6.800000e+06</td>\n",
       "      <td>69.900000</td>\n",
       "      <td>3.000000</td>\n",
       "      <td>2.800000</td>\n",
       "      <td>16.000000</td>\n",
       "      <td>42.300000</td>\n",
       "      <td>8.000000</td>\n",
       "      <td>12.000000</td>\n",
       "      <td>2.000000</td>\n",
       "      <td>37273.000000</td>\n",
       "      <td>16293.000000</td>\n",
       "      <td>1.000000</td>\n",
       "      <td>612.000000</td>\n",
       "      <td>1.000000</td>\n",
       "      <td>729.000000</td>\n",
       "      <td>232.000000</td>\n",
       "    </tr>\n",
       "    <tr>\n",
       "      <th>max</th>\n",
       "      <td>50.000000</td>\n",
       "      <td>7.630000e+08</td>\n",
       "      <td>900.000000</td>\n",
       "      <td>19.000000</td>\n",
       "      <td>100.000000</td>\n",
       "      <td>60.000000</td>\n",
       "      <td>409.700000</td>\n",
       "      <td>33.000000</td>\n",
       "      <td>112.000000</td>\n",
       "      <td>5.000000</td>\n",
       "      <td>84869.000000</td>\n",
       "      <td>65968.000000</td>\n",
       "      <td>3.000000</td>\n",
       "      <td>3190.000000</td>\n",
       "      <td>3.000000</td>\n",
       "      <td>1344.000000</td>\n",
       "      <td>1580.000000</td>\n",
       "    </tr>\n",
       "  </tbody>\n",
       "</table>\n",
       "</div>"
      ],
      "text/plain": [
       "       total_images    last_price    total_area         rooms  ceiling_height  \\\n",
       "count  23699.000000  2.369900e+04  23699.000000  23699.000000    14504.000000   \n",
       "mean       9.858475  6.541549e+06     60.348651      2.070636        2.771499   \n",
       "std        5.682529  1.088701e+07     35.654083      1.078405        1.261056   \n",
       "min        0.000000  1.219000e+04     12.000000      0.000000        1.000000   \n",
       "25%        6.000000  3.400000e+06     40.000000      1.000000        2.520000   \n",
       "50%        9.000000  4.650000e+06     52.000000      2.000000        2.650000   \n",
       "75%       14.000000  6.800000e+06     69.900000      3.000000        2.800000   \n",
       "max       50.000000  7.630000e+08    900.000000     19.000000      100.000000   \n",
       "\n",
       "       floors_total   living_area         floor  kitchen_area       balcony  \\\n",
       "count  23613.000000  21796.000000  23699.000000  21421.000000  12180.000000   \n",
       "mean      10.673824     34.457852      5.892358     10.569807      1.150082   \n",
       "std        6.597173     22.030445      4.885249      5.905438      1.071300   \n",
       "min        1.000000      2.000000      1.000000      1.300000      0.000000   \n",
       "25%        5.000000     18.600000      2.000000      7.000000      0.000000   \n",
       "50%        9.000000     30.000000      4.000000      9.100000      1.000000   \n",
       "75%       16.000000     42.300000      8.000000     12.000000      2.000000   \n",
       "max       60.000000    409.700000     33.000000    112.000000      5.000000   \n",
       "\n",
       "       airports_nearest  cityCenters_nearest  parks_around3000  parks_nearest  \\\n",
       "count      18157.000000         18180.000000      18181.000000    8079.000000   \n",
       "mean       28793.672193         14191.277833          0.611408     490.804555   \n",
       "std        12630.880622          8608.386210          0.802074     342.317995   \n",
       "min            0.000000           181.000000          0.000000       1.000000   \n",
       "25%        18585.000000          9238.000000          0.000000     288.000000   \n",
       "50%        26726.000000         13098.500000          0.000000     455.000000   \n",
       "75%        37273.000000         16293.000000          1.000000     612.000000   \n",
       "max        84869.000000         65968.000000          3.000000    3190.000000   \n",
       "\n",
       "       ponds_around3000  ponds_nearest  days_exposition  \n",
       "count      18181.000000    9110.000000     20518.000000  \n",
       "mean           0.770255     517.980900       180.888634  \n",
       "std            0.938346     277.720643       219.727988  \n",
       "min            0.000000      13.000000         1.000000  \n",
       "25%            0.000000     294.000000        45.000000  \n",
       "50%            1.000000     502.000000        95.000000  \n",
       "75%            1.000000     729.000000       232.000000  \n",
       "max            3.000000    1344.000000      1580.000000  "
      ]
     },
     "execution_count": 6,
     "metadata": {},
     "output_type": "execute_result"
    }
   ],
   "source": [
    "df.describe()"
   ]
  },
  {
   "cell_type": "code",
   "execution_count": 7,
   "metadata": {},
   "outputs": [
    {
     "data": {
      "text/plain": [
       "0"
      ]
     },
     "execution_count": 7,
     "metadata": {},
     "output_type": "execute_result"
    }
   ],
   "source": [
    "df.duplicated().sum()"
   ]
  },
  {
   "cell_type": "markdown",
   "metadata": {},
   "source": [
    "### Вывод\n",
    "\n",
    "Посмотрим на датасет и сделаем первые вводы по каждому столбцу:\n",
    "\n",
    "- total_images -- квартиры с 0 фотографий подозрительные, количество фотографий -- целочисленная величина\n",
    "- last_price -- все хорошо\n",
    "- total_area -- все хорошо\n",
    "- first_day_exposition  -- нужно изменить формат представления на datetime\n",
    "- rooms -- все хорошо\n",
    "- ceiling_height -- часть значений пропущена, есть выбросы со значениями меньще 1.5 метра и больше 50 метров\n",
    "- floors_total -- часть значений пропущена, не тот формат данных, количество этажей -- целочисленная величина\n",
    "- living_area -- часть значений пропущена, есть квартиры с жилой площадью 2 метра\n",
    "- floor -- не тот формат данных, этаж -- целочисленная величина\n",
    "- is_apartment -- часть значений пропущена\n",
    "- studio -- все хорошо\n",
    "- open_plan -- все хорошо\n",
    "- kitchen_area -- часть значений пропущена\n",
    "- balcony -- часть значений пропущена, неправильный формат, количество балконов -- целочисленная величина\n",
    "- locality_name -- часть значений пропущена, нужно проверить имена локаций на дубли (a-la Питер - Петербург - Санкт-Петербург)\n",
    "- airports_nearest -- часть значений пропущена, нет смысла хранить дальность до аэропорта с точностью до сантиметров\n",
    "- cityCenters_nearest -- часть значений пропущена нет смысла хранить дальность до центра города с точностью до сантиметров\n",
    "- parks_around3000 -- часть значений пропущена, неправильный формат, количество парков -- целочисленная величина\n",
    "- parks_nearest -- часть значений пропущена, нет смысла хранить дальность до парка с точностью до сантиметров\n",
    "- ponds_around3000 -- часть значений пропущена, неправильный формат, количество прудов -- целочисленная величина\n",
    "- ponds_nearest -- часть значений пропущена, неправильный формат, нет смысла хранить дальность до пруда с точностью до сантиметров\n",
    "- days_exposition -- нет смысла хранить количество дней которое провисело объявление с точностью до часов\n",
    "\n",
    "В дальнейшем заполним данные в тех столбцах у которых мы можем это сделать не искажая статистики, и исправим тип у тех данных, которые будем использовать.\n",
    "\n",
    "Дубликатов пока нет (но могут появиться после предобработки, держим в уме)\n"
   ]
  },
  {
   "cell_type": "markdown",
   "metadata": {},
   "source": [
    "## Предобработка данных"
   ]
  },
  {
   "cell_type": "markdown",
   "metadata": {},
   "source": [
    "### То, что мы не трогаем\n",
    "- living_area -- важный исходный параметр, заполняется пользователем вручную\n",
    "- floors_total -- важный исходный параметр, заполняется пользователем вручную\n",
    "- kitchen_area -- сходные для нашего исследования данные, у нес нет гипотез для апрокимации\n",
    "- airports_nearest --не используем в дальнейшем\n",
    "- cityCenters_nearest -- не трогаем, в чистом виде не используем"
   ]
  },
  {
   "cell_type": "markdown",
   "metadata": {},
   "source": [
    "### Количество фотографий, дата публикации и другое"
   ]
  },
  {
   "cell_type": "code",
   "execution_count": 8,
   "metadata": {},
   "outputs": [],
   "source": [
    "# Количество фотографий -- целочисленная переменная, поменяем тип\n",
    "df['total_images'] = df['total_images'].astype(int)\n",
    "\n",
    "# Поменяем тип в столбце `first_day_exposition` на `datetime64` и округлим до дней\n",
    "df['first_day_exposition'] = pd.to_datetime(df['first_day_exposition'], format='%Y-%m-%d %H:%M:%S').dt.round('1d')\n",
    "\n",
    "# этаж -- целочисленная переменная, поменяем тип\n",
    "df['floor'] = df['floor'].astype(int)"
   ]
  },
  {
   "cell_type": "markdown",
   "metadata": {},
   "source": [
    "### Апартаменты"
   ]
  },
  {
   "cell_type": "code",
   "execution_count": 9,
   "metadata": {},
   "outputs": [
    {
     "data": {
      "text/plain": [
       "False    2725\n",
       "True       50\n",
       "Name: is_apartment, dtype: int64"
      ]
     },
     "execution_count": 9,
     "metadata": {},
     "output_type": "execute_result"
    }
   ],
   "source": [
    "# посмотрим как устроены апартаменты\n",
    "df['is_apartment'].value_counts()"
   ]
  },
  {
   "cell_type": "markdown",
   "metadata": {},
   "source": [
    "Заполним пропущенные значeния как False -- предположим что владельцы апартаментов всегда старались указать\n",
    "что это апартаменты, остальные не обращали на это поле внимания."
   ]
  },
  {
   "cell_type": "code",
   "execution_count": 10,
   "metadata": {},
   "outputs": [],
   "source": [
    "df['is_apartment'].fillna(False, inplace=True)"
   ]
  },
  {
   "cell_type": "markdown",
   "metadata": {},
   "source": [
    "### Балконы"
   ]
  },
  {
   "cell_type": "code",
   "execution_count": 11,
   "metadata": {},
   "outputs": [],
   "source": [
    "# предположим, что если балкон не указан, то его нет\n",
    "df['balcony'] = df['balcony'].fillna(0).astype(int)"
   ]
  },
  {
   "cell_type": "code",
   "execution_count": 12,
   "metadata": {},
   "outputs": [
    {
     "data": {
      "text/plain": [
       "0    15277\n",
       "1     4195\n",
       "2     3659\n",
       "5      304\n",
       "4      183\n",
       "3       81\n",
       "Name: balcony, dtype: int64"
      ]
     },
     "execution_count": 12,
     "metadata": {},
     "output_type": "execute_result"
    }
   ],
   "source": [
    "# немного странно выглядит такое количество жилья с 4-5 балконами\n",
    "df['balcony'].value_counts()"
   ]
  },
  {
   "cell_type": "markdown",
   "metadata": {},
   "source": [
    "### Названия населенного пункта"
   ]
  },
  {
   "cell_type": "code",
   "execution_count": 13,
   "metadata": {
    "scrolled": false
   },
   "outputs": [
    {
     "data": {
      "text/plain": [
       "array(['санкт-петербург', 'посёлок шушары', 'городской посёлок янино-1',\n",
       "       'посёлок парголово', 'посёлок мурино', 'ломоносов', 'сертолово',\n",
       "       'петергоф', 'пушкин', 'деревня кудрово', 'коммунар', 'колпино',\n",
       "       'поселок городского типа красный бор', 'гатчина', 'поселок мурино',\n",
       "       'деревня фёдоровское', 'выборг', 'кронштадт', 'кировск',\n",
       "       'деревня новое девяткино', 'посёлок металлострой',\n",
       "       'посёлок городского типа лебяжье',\n",
       "       'посёлок городского типа сиверский', 'поселок молодцово',\n",
       "       'поселок городского типа кузьмоловский',\n",
       "       'садовое товарищество новая ропша', 'павловск',\n",
       "       'деревня пикколово', 'всеволожск', 'волхов', 'кингисепп',\n",
       "       'приозерск', 'сестрорецк', 'деревня куттузи', 'посёлок аннино',\n",
       "       'поселок городского типа ефимовский', 'посёлок плодовое',\n",
       "       'деревня заклинье', 'поселок торковичи', 'поселок первомайское',\n",
       "       'красное село', 'посёлок понтонный', 'сясьстрой', 'деревня старая',\n",
       "       'деревня лесколово', 'посёлок новый свет', 'сланцы',\n",
       "       'село путилово', 'ивангород', 'мурино', 'шлиссельбург',\n",
       "       'никольское', 'зеленогорск', 'сосновый бор', 'поселок новый свет',\n",
       "       'деревня оржицы', 'деревня кальтино', 'кудрово',\n",
       "       'поселок романовка', 'посёлок бугры', 'поселок бугры',\n",
       "       'поселок городского типа рощино', 'кириши', 'луга', 'волосово',\n",
       "       'отрадное', 'село павлово', 'поселок оредеж', 'село копорье',\n",
       "       'посёлок городского типа красный бор', 'посёлок молодёжное',\n",
       "       'тихвин', 'посёлок победа', 'деревня нурма',\n",
       "       'поселок городского типа синявино', 'тосно',\n",
       "       'посёлок городского типа кузьмоловский', 'посёлок стрельна',\n",
       "       'бокситогорск', 'посёлок александровская', 'деревня лопухинка',\n",
       "       'пикалёво', 'поселок терволово',\n",
       "       'поселок городского типа советский', 'подпорожье',\n",
       "       'посёлок петровское', 'посёлок городского типа токсово',\n",
       "       'поселок сельцо', 'посёлок городского типа вырица',\n",
       "       'деревня кипень', 'деревня келози', 'деревня вартемяги',\n",
       "       'посёлок тельмана', 'поселок севастьяново',\n",
       "       'городской поселок большая ижора', nan,\n",
       "       'городской посёлок павлово', 'деревня агалатово',\n",
       "       'посёлок новогорелово', 'городской посёлок лесогорский',\n",
       "       'деревня лаголово', 'поселок цвелодубово',\n",
       "       'поселок городского типа рахья', 'поселок городского типа вырица',\n",
       "       'деревня белогорка', 'поселок заводской',\n",
       "       'городской посёлок новоселье', 'деревня большие колпаны',\n",
       "       'деревня горбунки', 'деревня батово', 'деревня заневка',\n",
       "       'деревня иссад', 'приморск', 'городской посёлок фёдоровское',\n",
       "       'деревня мистолово', 'новая ладога', 'поселок зимитицы',\n",
       "       'поселок барышево', 'деревня разметелево',\n",
       "       'поселок городского типа имени свердлова', 'деревня пеники',\n",
       "       'поселок рябово', 'деревня пудомяги', 'поселок станции корнево',\n",
       "       'деревня низино', 'деревня бегуницы', 'посёлок поляны',\n",
       "       'городской посёлок мга', 'поселок елизаветино',\n",
       "       'посёлок городского типа кузнечное', 'деревня колтуши',\n",
       "       'поселок запорожское', 'посёлок городского типа рощино',\n",
       "       'деревня гостилицы', 'деревня малое карлино',\n",
       "       'посёлок мичуринское', 'посёлок городского типа имени морозова',\n",
       "       'посёлок песочный', 'посёлок сосново', 'деревня аро',\n",
       "       'поселок ильичёво', 'посёлок городского типа тайцы',\n",
       "       'деревня малое верево', 'деревня извара', 'поселок станции вещево',\n",
       "       'село паша', 'деревня калитино',\n",
       "       'посёлок городского типа ульяновка', 'деревня чудской бор',\n",
       "       'поселок городского типа дубровка', 'деревня мины',\n",
       "       'поселок войсковицы', 'посёлок городского типа имени свердлова',\n",
       "       'деревня коркино', 'посёлок ропша',\n",
       "       'поселок городского типа приладожский', 'посёлок щеглово',\n",
       "       'посёлок гаврилово', 'лодейное поле', 'деревня рабитицы',\n",
       "       'поселок городского типа никольский', 'деревня кузьмолово',\n",
       "       'деревня малые колпаны', 'поселок тельмана',\n",
       "       'посёлок петро-славянка', 'городской посёлок назия',\n",
       "       'посёлок репино', 'посёлок ильичёво', 'поселок углово',\n",
       "       'поселок старая малукса', 'садовое товарищество рахья',\n",
       "       'поселок аннино', 'поселок победа', 'деревня меньково',\n",
       "       'деревня старые бегуницы', 'посёлок сапёрный', 'поселок семрино',\n",
       "       'поселок гаврилово', 'поселок глажево', 'поселок кобринское',\n",
       "       'деревня гарболово', 'деревня юкки',\n",
       "       'поселок станции приветнинское', 'деревня мануйлово',\n",
       "       'деревня пчева', 'поселок поляны', 'поселок цвылёво',\n",
       "       'поселок мельниково', 'посёлок пудость', 'посёлок усть-луга',\n",
       "       'светогорск', 'любань', 'поселок селезнёво',\n",
       "       'поселок городского типа рябово', 'каменногорск', 'деревня кривко',\n",
       "       'поселок глебычево', 'деревня парицы', 'поселок жилпосёлок',\n",
       "       'посёлок городского типа мга', 'городской поселок янино-1',\n",
       "       'посёлок войскорово', 'село никольское', 'посёлок терволово',\n",
       "       'поселок стеклянный', 'посёлок городского типа важины',\n",
       "       'посёлок мыза-ивановка', 'село русско-высоцкое',\n",
       "       'поселок городского типа лебяжье',\n",
       "       'поселок городского типа форносово', 'село старая ладога',\n",
       "       'поселок житково', 'городской посёлок виллози', 'деревня лампово',\n",
       "       'деревня шпаньково', 'деревня лаврики', 'посёлок сумино',\n",
       "       'посёлок возрождение', 'деревня старосиверская',\n",
       "       'посёлок кикерино', 'поселок возрождение',\n",
       "       'деревня старое хинколово', 'посёлок пригородный',\n",
       "       'посёлок торфяное', 'городской посёлок будогощь',\n",
       "       'поселок суходолье', 'поселок красная долина', 'деревня хапо-ое',\n",
       "       'поселок городского типа дружная горка', 'поселок лисий нос',\n",
       "       'деревня яльгелево', 'посёлок стеклянный', 'село рождествено',\n",
       "       'деревня старополье', 'посёлок левашово', 'деревня сяськелево',\n",
       "       'деревня камышовка',\n",
       "       'садоводческое некоммерческое товарищество лесная поляна',\n",
       "       'деревня хязельки', 'поселок жилгородок',\n",
       "       'посёлок городского типа павлово', 'деревня ялгино',\n",
       "       'поселок новый учхоз', 'городской посёлок рощино',\n",
       "       'поселок гончарово', 'поселок почап', 'посёлок сапёрное',\n",
       "       'посёлок платформа 69-й километр', 'поселок каложицы',\n",
       "       'деревня фалилеево', 'деревня пельгора',\n",
       "       'поселок городского типа лесогорский', 'деревня торошковичи',\n",
       "       'посёлок белоостров', 'посёлок алексеевка', 'поселок серебрянский',\n",
       "       'поселок лукаши', 'поселок петровское', 'деревня щеглово',\n",
       "       'поселок мичуринское', 'деревня тарасово', 'поселок кингисеппский',\n",
       "       'посёлок при железнодорожной станции вещево', 'поселок ушаки',\n",
       "       'деревня котлы', 'деревня сижно', 'деревня торосово',\n",
       "       'посёлок форт красная горка', 'поселок городского типа токсово',\n",
       "       'деревня новолисино', 'посёлок станции громово', 'деревня глинка',\n",
       "       'посёлок мельниково', 'поселок городского типа назия',\n",
       "       'деревня старая пустошь', 'поселок коммунары', 'поселок починок',\n",
       "       'посёлок городского типа вознесенье', 'деревня разбегаево',\n",
       "       'посёлок городского типа рябово', 'поселок гладкое',\n",
       "       'посёлок при железнодорожной станции приветнинское',\n",
       "       'поселок тёсово-4', 'посёлок жилгородок', 'деревня бор',\n",
       "       'посёлок коробицыно', 'деревня большая вруда', 'деревня курковицы',\n",
       "       'посёлок лисий нос', 'городской посёлок советский',\n",
       "       'посёлок кобралово', 'деревня суоранда', 'поселок кобралово',\n",
       "       'поселок городского типа кондратьево',\n",
       "       'коттеджный поселок счастье', 'поселок любань', 'деревня реброво',\n",
       "       'деревня зимитицы', 'деревня тойворово', 'поселок семиозерье',\n",
       "       'поселок лесное', 'поселок совхозный', 'поселок усть-луга',\n",
       "       'посёлок ленинское', 'посёлок суйда',\n",
       "       'посёлок городского типа форносово', 'деревня нижние осельки',\n",
       "       'посёлок станции свирь', 'поселок перово', 'высоцк',\n",
       "       'поселок гарболово', 'село шум', 'поселок котельский',\n",
       "       'поселок станции лужайка', 'деревня большая пустомержа',\n",
       "       'поселок красносельское', 'деревня вахнова кара', 'деревня пижма',\n",
       "       'коттеджный поселок кивеннапа север', 'поселок коробицыно',\n",
       "       'поселок ромашки', 'посёлок перово', 'деревня каськово',\n",
       "       'деревня куровицы', 'посёлок плоское', 'поселок сумино',\n",
       "       'поселок городского типа большая ижора', 'поселок кирпичное',\n",
       "       'деревня ям-тесово', 'деревня раздолье', 'деревня терпилицы',\n",
       "       'посёлок шугозеро', 'деревня ваганово', 'поселок пушное',\n",
       "       'садовое товарищество садко', 'посёлок усть-ижора',\n",
       "       'деревня выскатка', 'городской посёлок свирьстрой',\n",
       "       'поселок громово', 'деревня кисельня', 'посёлок старая малукса',\n",
       "       'деревня трубников бор', 'поселок калитино',\n",
       "       'посёлок высокоключевой', 'садовое товарищество приладожский',\n",
       "       'посёлок пансионат зелёный бор', 'деревня ненимяки',\n",
       "       'поселок пансионат зелёный бор', 'деревня снегирёвка',\n",
       "       'деревня рапполово', 'деревня пустынка', 'поселок рабитицы',\n",
       "       'деревня большой сабск', 'деревня русско', 'деревня лупполово',\n",
       "       'деревня большое рейзино', 'деревня малая романовка',\n",
       "       'поселок дружноселье', 'поселок пчевжа', 'поселок володарское',\n",
       "       'деревня нижняя', 'коттеджный посёлок лесное', 'деревня тихковицы',\n",
       "       'деревня борисова грива', 'посёлок дзержинского'], dtype=object)"
      ]
     },
     "execution_count": 13,
     "metadata": {},
     "output_type": "execute_result"
    }
   ],
   "source": [
    "df['locality_name'] = df['locality_name'].str.lower()\n",
    "df['locality_name'].unique()"
   ]
  },
  {
   "cell_type": "markdown",
   "metadata": {},
   "source": [
    "Здесь можно пройтись по всем именам и убрать все административные пркфиксы a-la посёлок городского типа и село -- но это делать не будем, так как вполне может быть и поселок и село и деревня и посёлок городского типа с одним и тем же названием, но разными административными сущностями, что в свою очередь может влиять на ценообразование\n",
    "Зато можно заметить большое количество букв e и ё\n",
    "До замены:"
   ]
  },
  {
   "cell_type": "code",
   "execution_count": 14,
   "metadata": {},
   "outputs": [
    {
     "data": {
      "text/plain": [
       "365"
      ]
     },
     "execution_count": 14,
     "metadata": {},
     "output_type": "execute_result"
    }
   ],
   "source": [
    "len(df['locality_name'].unique())"
   ]
  },
  {
   "cell_type": "code",
   "execution_count": 15,
   "metadata": {},
   "outputs": [],
   "source": [
    "df['locality_name'] = df['locality_name'].str.replace('ё', 'е', regex=True)"
   ]
  },
  {
   "cell_type": "code",
   "execution_count": 16,
   "metadata": {},
   "outputs": [
    {
     "data": {
      "text/plain": [
       "331"
      ]
     },
     "execution_count": 16,
     "metadata": {},
     "output_type": "execute_result"
    }
   ],
   "source": [
    "len(df['locality_name'].unique())"
   ]
  },
  {
   "cell_type": "markdown",
   "metadata": {},
   "source": [
    "Стало лучше)"
   ]
  },
  {
   "cell_type": "markdown",
   "metadata": {},
   "source": [
    "### Парки и пруды\n",
    "Проверим на всякий случай консистентность данных о прудах – очевидные кейсы с расстоянием до отсутствующих прудов и отсутствием расстояния до пруда, если он есть"
   ]
  },
  {
   "cell_type": "code",
   "execution_count": 17,
   "metadata": {},
   "outputs": [
    {
     "name": "stdout",
     "output_type": "stream",
     "text": [
      "(0, 22)\n",
      "(0, 22)\n"
     ]
    }
   ],
   "source": [
    "print(df[((df.ponds_nearest.isna()) & (df.ponds_around3000 > 0))].shape)\n",
    "print(df[((df.ponds_nearest > 0) & (df.ponds_around3000.isna()))].shape)"
   ]
  },
  {
   "cell_type": "markdown",
   "metadata": {},
   "source": [
    "Количество прудов должно быть целочисленной величиной"
   ]
  },
  {
   "cell_type": "code",
   "execution_count": 18,
   "metadata": {},
   "outputs": [],
   "source": [
    "df['ponds_around3000'] = df['ponds_around3000'].fillna(0).astype(int)"
   ]
  },
  {
   "cell_type": "markdown",
   "metadata": {},
   "source": [
    "Проверим консистентность данных о парках аналогичным образом"
   ]
  },
  {
   "cell_type": "code",
   "execution_count": 19,
   "metadata": {},
   "outputs": [
    {
     "name": "stdout",
     "output_type": "stream",
     "text": [
      "(0, 22)\n",
      "(0, 22)\n"
     ]
    }
   ],
   "source": [
    "print(df[((df.parks_nearest.isna()) & (df.parks_around3000 > 0))].shape)\n",
    "print(df[((df.parks_nearest > 0) & (df.parks_around3000.isna()))].shape)"
   ]
  },
  {
   "cell_type": "code",
   "execution_count": 20,
   "metadata": {},
   "outputs": [],
   "source": [
    "df['parks_around3000'] = df['parks_around3000'].fillna(0).astype(int)"
   ]
  },
  {
   "cell_type": "code",
   "execution_count": 21,
   "metadata": {},
   "outputs": [
    {
     "data": {
      "text/plain": [
       "0"
      ]
     },
     "execution_count": 21,
     "metadata": {},
     "output_type": "execute_result"
    }
   ],
   "source": [
    "# проверим не появились ли дубликаты\n",
    "df.duplicated().sum()"
   ]
  },
  {
   "cell_type": "code",
   "execution_count": 22,
   "metadata": {},
   "outputs": [
    {
     "data": {
      "text/html": [
       "<div>\n",
       "<style scoped>\n",
       "    .dataframe tbody tr th:only-of-type {\n",
       "        vertical-align: middle;\n",
       "    }\n",
       "\n",
       "    .dataframe tbody tr th {\n",
       "        vertical-align: top;\n",
       "    }\n",
       "\n",
       "    .dataframe thead th {\n",
       "        text-align: right;\n",
       "    }\n",
       "</style>\n",
       "<table border=\"1\" class=\"dataframe\">\n",
       "  <thead>\n",
       "    <tr style=\"text-align: right;\">\n",
       "      <th></th>\n",
       "      <th>total_images</th>\n",
       "      <th>last_price</th>\n",
       "      <th>total_area</th>\n",
       "      <th>first_day_exposition</th>\n",
       "      <th>rooms</th>\n",
       "      <th>ceiling_height</th>\n",
       "      <th>floors_total</th>\n",
       "      <th>living_area</th>\n",
       "      <th>floor</th>\n",
       "      <th>is_apartment</th>\n",
       "      <th>...</th>\n",
       "      <th>kitchen_area</th>\n",
       "      <th>balcony</th>\n",
       "      <th>locality_name</th>\n",
       "      <th>airports_nearest</th>\n",
       "      <th>cityCenters_nearest</th>\n",
       "      <th>parks_around3000</th>\n",
       "      <th>parks_nearest</th>\n",
       "      <th>ponds_around3000</th>\n",
       "      <th>ponds_nearest</th>\n",
       "      <th>days_exposition</th>\n",
       "    </tr>\n",
       "  </thead>\n",
       "  <tbody>\n",
       "    <tr>\n",
       "      <th>9661</th>\n",
       "      <td>1</td>\n",
       "      <td>2533531.0</td>\n",
       "      <td>42.5</td>\n",
       "      <td>2016-09-08</td>\n",
       "      <td>1</td>\n",
       "      <td>2.56</td>\n",
       "      <td>18.0</td>\n",
       "      <td>19.8</td>\n",
       "      <td>7</td>\n",
       "      <td>False</td>\n",
       "      <td>...</td>\n",
       "      <td>NaN</td>\n",
       "      <td>0</td>\n",
       "      <td>никольское</td>\n",
       "      <td>NaN</td>\n",
       "      <td>NaN</td>\n",
       "      <td>0</td>\n",
       "      <td>NaN</td>\n",
       "      <td>0</td>\n",
       "      <td>NaN</td>\n",
       "      <td>627.0</td>\n",
       "    </tr>\n",
       "    <tr>\n",
       "      <th>9886</th>\n",
       "      <td>1</td>\n",
       "      <td>2533531.0</td>\n",
       "      <td>42.5</td>\n",
       "      <td>2016-11-25</td>\n",
       "      <td>1</td>\n",
       "      <td>2.56</td>\n",
       "      <td>18.0</td>\n",
       "      <td>19.8</td>\n",
       "      <td>7</td>\n",
       "      <td>False</td>\n",
       "      <td>...</td>\n",
       "      <td>NaN</td>\n",
       "      <td>0</td>\n",
       "      <td>никольское</td>\n",
       "      <td>NaN</td>\n",
       "      <td>NaN</td>\n",
       "      <td>0</td>\n",
       "      <td>NaN</td>\n",
       "      <td>0</td>\n",
       "      <td>NaN</td>\n",
       "      <td>549.0</td>\n",
       "    </tr>\n",
       "  </tbody>\n",
       "</table>\n",
       "<p>2 rows × 22 columns</p>\n",
       "</div>"
      ],
      "text/plain": [
       "      total_images  last_price  total_area first_day_exposition  rooms  \\\n",
       "9661             1   2533531.0        42.5           2016-09-08      1   \n",
       "9886             1   2533531.0        42.5           2016-11-25      1   \n",
       "\n",
       "      ceiling_height  floors_total  living_area  floor  is_apartment  ...  \\\n",
       "9661            2.56          18.0         19.8      7         False  ...   \n",
       "9886            2.56          18.0         19.8      7         False  ...   \n",
       "\n",
       "      kitchen_area  balcony  locality_name  airports_nearest  \\\n",
       "9661           NaN        0     никольское               NaN   \n",
       "9886           NaN        0     никольское               NaN   \n",
       "\n",
       "     cityCenters_nearest  parks_around3000  parks_nearest  ponds_around3000  \\\n",
       "9661                 NaN                 0            NaN                 0   \n",
       "9886                 NaN                 0            NaN                 0   \n",
       "\n",
       "      ponds_nearest  days_exposition  \n",
       "9661            NaN            627.0  \n",
       "9886            NaN            549.0  \n",
       "\n",
       "[2 rows x 22 columns]"
      ]
     },
     "execution_count": 22,
     "metadata": {},
     "output_type": "execute_result"
    }
   ],
   "source": [
    "df[df[df.columns.difference(['first_day_exposition', 'days_exposition'])].duplicated(keep=False)]"
   ]
  },
  {
   "cell_type": "markdown",
   "metadata": {},
   "source": [
    "Один такой хитрец нашелся. Удалим его"
   ]
  },
  {
   "cell_type": "code",
   "execution_count": 23,
   "metadata": {},
   "outputs": [],
   "source": [
    "df.drop_duplicates(subset=df.columns.difference(['first_day_exposition', 'days_exposition']), inplace=True)"
   ]
  },
  {
   "cell_type": "markdown",
   "metadata": {},
   "source": [
    "Еще у нас есть квартиры без указания места. Они безполезны для анализа -- так как цена напрямую завязана на местоположение, удалим их\n"
   ]
  },
  {
   "cell_type": "code",
   "execution_count": 24,
   "metadata": {},
   "outputs": [
    {
     "data": {
      "text/plain": [
       "49"
      ]
     },
     "execution_count": 24,
     "metadata": {},
     "output_type": "execute_result"
    }
   ],
   "source": [
    "df['locality_name'].isna().sum()"
   ]
  },
  {
   "cell_type": "code",
   "execution_count": 25,
   "metadata": {},
   "outputs": [],
   "source": [
    "df.dropna(subset=['locality_name'], inplace=True)"
   ]
  },
  {
   "cell_type": "code",
   "execution_count": 26,
   "metadata": {},
   "outputs": [
    {
     "data": {
      "text/plain": [
       "0"
      ]
     },
     "execution_count": 26,
     "metadata": {},
     "output_type": "execute_result"
    }
   ],
   "source": [
    "df['locality_name'].isna().sum()"
   ]
  },
  {
   "cell_type": "code",
   "execution_count": 27,
   "metadata": {},
   "outputs": [
    {
     "name": "stdout",
     "output_type": "stream",
     "text": [
      "<class 'pandas.core.frame.DataFrame'>\n",
      "Int64Index: 23649 entries, 0 to 23698\n",
      "Data columns (total 22 columns):\n",
      " #   Column                Non-Null Count  Dtype         \n",
      "---  ------                --------------  -----         \n",
      " 0   total_images          23649 non-null  int64         \n",
      " 1   last_price            23649 non-null  float64       \n",
      " 2   total_area            23649 non-null  float64       \n",
      " 3   first_day_exposition  23649 non-null  datetime64[ns]\n",
      " 4   rooms                 23649 non-null  int64         \n",
      " 5   ceiling_height        14489 non-null  float64       \n",
      " 6   floors_total          23564 non-null  float64       \n",
      " 7   living_area           21751 non-null  float64       \n",
      " 8   floor                 23649 non-null  int64         \n",
      " 9   is_apartment          23649 non-null  bool          \n",
      " 10  studio                23649 non-null  bool          \n",
      " 11  open_plan             23649 non-null  bool          \n",
      " 12  kitchen_area          21381 non-null  float64       \n",
      " 13  balcony               23649 non-null  int64         \n",
      " 14  locality_name         23649 non-null  object        \n",
      " 15  airports_nearest      18116 non-null  float64       \n",
      " 16  cityCenters_nearest   18139 non-null  float64       \n",
      " 17  parks_around3000      23649 non-null  int64         \n",
      " 18  parks_nearest         8064 non-null   float64       \n",
      " 19  ponds_around3000      23649 non-null  int64         \n",
      " 20  ponds_nearest         9085 non-null   float64       \n",
      " 21  days_exposition       20469 non-null  float64       \n",
      "dtypes: bool(3), datetime64[ns](1), float64(11), int64(6), object(1)\n",
      "memory usage: 3.7+ MB\n"
     ]
    }
   ],
   "source": [
    "df.info()"
   ]
  },
  {
   "cell_type": "code",
   "execution_count": 28,
   "metadata": {},
   "outputs": [
    {
     "data": {
      "text/html": [
       "<div>\n",
       "<style scoped>\n",
       "    .dataframe tbody tr th:only-of-type {\n",
       "        vertical-align: middle;\n",
       "    }\n",
       "\n",
       "    .dataframe tbody tr th {\n",
       "        vertical-align: top;\n",
       "    }\n",
       "\n",
       "    .dataframe thead th {\n",
       "        text-align: right;\n",
       "    }\n",
       "</style>\n",
       "<table border=\"1\" class=\"dataframe\">\n",
       "  <thead>\n",
       "    <tr style=\"text-align: right;\">\n",
       "      <th></th>\n",
       "      <th>total_images</th>\n",
       "      <th>last_price</th>\n",
       "      <th>total_area</th>\n",
       "      <th>first_day_exposition</th>\n",
       "      <th>rooms</th>\n",
       "      <th>ceiling_height</th>\n",
       "      <th>floors_total</th>\n",
       "      <th>living_area</th>\n",
       "      <th>floor</th>\n",
       "      <th>is_apartment</th>\n",
       "      <th>...</th>\n",
       "      <th>kitchen_area</th>\n",
       "      <th>balcony</th>\n",
       "      <th>locality_name</th>\n",
       "      <th>airports_nearest</th>\n",
       "      <th>cityCenters_nearest</th>\n",
       "      <th>parks_around3000</th>\n",
       "      <th>parks_nearest</th>\n",
       "      <th>ponds_around3000</th>\n",
       "      <th>ponds_nearest</th>\n",
       "      <th>days_exposition</th>\n",
       "    </tr>\n",
       "  </thead>\n",
       "  <tbody>\n",
       "    <tr>\n",
       "      <th>17785</th>\n",
       "      <td>9</td>\n",
       "      <td>3200000.0</td>\n",
       "      <td>44.60</td>\n",
       "      <td>2018-10-24</td>\n",
       "      <td>2</td>\n",
       "      <td>2.52</td>\n",
       "      <td>5.0</td>\n",
       "      <td>30.60</td>\n",
       "      <td>1</td>\n",
       "      <td>False</td>\n",
       "      <td>...</td>\n",
       "      <td>5.90</td>\n",
       "      <td>0</td>\n",
       "      <td>красное село</td>\n",
       "      <td>25533.0</td>\n",
       "      <td>28958.0</td>\n",
       "      <td>0</td>\n",
       "      <td>NaN</td>\n",
       "      <td>0</td>\n",
       "      <td>NaN</td>\n",
       "      <td>156.0</td>\n",
       "    </tr>\n",
       "    <tr>\n",
       "      <th>8894</th>\n",
       "      <td>3</td>\n",
       "      <td>2099000.0</td>\n",
       "      <td>23.00</td>\n",
       "      <td>2018-09-25</td>\n",
       "      <td>1</td>\n",
       "      <td>2.70</td>\n",
       "      <td>16.0</td>\n",
       "      <td>NaN</td>\n",
       "      <td>10</td>\n",
       "      <td>False</td>\n",
       "      <td>...</td>\n",
       "      <td>NaN</td>\n",
       "      <td>2</td>\n",
       "      <td>санкт-петербург</td>\n",
       "      <td>19212.0</td>\n",
       "      <td>22637.0</td>\n",
       "      <td>0</td>\n",
       "      <td>NaN</td>\n",
       "      <td>1</td>\n",
       "      <td>457.0</td>\n",
       "      <td>37.0</td>\n",
       "    </tr>\n",
       "    <tr>\n",
       "      <th>7139</th>\n",
       "      <td>13</td>\n",
       "      <td>5200000.0</td>\n",
       "      <td>50.00</td>\n",
       "      <td>2016-06-26</td>\n",
       "      <td>2</td>\n",
       "      <td>NaN</td>\n",
       "      <td>12.0</td>\n",
       "      <td>31.00</td>\n",
       "      <td>9</td>\n",
       "      <td>False</td>\n",
       "      <td>...</td>\n",
       "      <td>8.00</td>\n",
       "      <td>0</td>\n",
       "      <td>санкт-петербург</td>\n",
       "      <td>9112.0</td>\n",
       "      <td>11231.0</td>\n",
       "      <td>1</td>\n",
       "      <td>627.0</td>\n",
       "      <td>1</td>\n",
       "      <td>584.0</td>\n",
       "      <td>126.0</td>\n",
       "    </tr>\n",
       "    <tr>\n",
       "      <th>11029</th>\n",
       "      <td>2</td>\n",
       "      <td>3025000.0</td>\n",
       "      <td>59.30</td>\n",
       "      <td>2018-03-25</td>\n",
       "      <td>2</td>\n",
       "      <td>2.80</td>\n",
       "      <td>3.0</td>\n",
       "      <td>35.00</td>\n",
       "      <td>1</td>\n",
       "      <td>False</td>\n",
       "      <td>...</td>\n",
       "      <td>11.50</td>\n",
       "      <td>0</td>\n",
       "      <td>поселок мичуринское</td>\n",
       "      <td>NaN</td>\n",
       "      <td>NaN</td>\n",
       "      <td>0</td>\n",
       "      <td>NaN</td>\n",
       "      <td>0</td>\n",
       "      <td>NaN</td>\n",
       "      <td>386.0</td>\n",
       "    </tr>\n",
       "    <tr>\n",
       "      <th>2622</th>\n",
       "      <td>2</td>\n",
       "      <td>8380000.0</td>\n",
       "      <td>48.00</td>\n",
       "      <td>2016-09-30</td>\n",
       "      <td>1</td>\n",
       "      <td>3.10</td>\n",
       "      <td>5.0</td>\n",
       "      <td>24.40</td>\n",
       "      <td>3</td>\n",
       "      <td>False</td>\n",
       "      <td>...</td>\n",
       "      <td>17.00</td>\n",
       "      <td>0</td>\n",
       "      <td>санкт-петербург</td>\n",
       "      <td>25867.0</td>\n",
       "      <td>4442.0</td>\n",
       "      <td>2</td>\n",
       "      <td>356.0</td>\n",
       "      <td>1</td>\n",
       "      <td>816.0</td>\n",
       "      <td>715.0</td>\n",
       "    </tr>\n",
       "    <tr>\n",
       "      <th>18425</th>\n",
       "      <td>1</td>\n",
       "      <td>2533531.0</td>\n",
       "      <td>42.50</td>\n",
       "      <td>2016-09-08</td>\n",
       "      <td>1</td>\n",
       "      <td>2.56</td>\n",
       "      <td>18.0</td>\n",
       "      <td>20.00</td>\n",
       "      <td>10</td>\n",
       "      <td>False</td>\n",
       "      <td>...</td>\n",
       "      <td>NaN</td>\n",
       "      <td>0</td>\n",
       "      <td>никольское</td>\n",
       "      <td>NaN</td>\n",
       "      <td>NaN</td>\n",
       "      <td>0</td>\n",
       "      <td>NaN</td>\n",
       "      <td>0</td>\n",
       "      <td>NaN</td>\n",
       "      <td>627.0</td>\n",
       "    </tr>\n",
       "    <tr>\n",
       "      <th>12282</th>\n",
       "      <td>6</td>\n",
       "      <td>4319000.0</td>\n",
       "      <td>44.18</td>\n",
       "      <td>2017-02-27</td>\n",
       "      <td>1</td>\n",
       "      <td>NaN</td>\n",
       "      <td>4.0</td>\n",
       "      <td>17.93</td>\n",
       "      <td>2</td>\n",
       "      <td>False</td>\n",
       "      <td>...</td>\n",
       "      <td>10.71</td>\n",
       "      <td>0</td>\n",
       "      <td>поселок шушары</td>\n",
       "      <td>9847.0</td>\n",
       "      <td>24701.0</td>\n",
       "      <td>0</td>\n",
       "      <td>NaN</td>\n",
       "      <td>0</td>\n",
       "      <td>NaN</td>\n",
       "      <td>92.0</td>\n",
       "    </tr>\n",
       "    <tr>\n",
       "      <th>10915</th>\n",
       "      <td>10</td>\n",
       "      <td>3850000.0</td>\n",
       "      <td>50.00</td>\n",
       "      <td>2016-08-31</td>\n",
       "      <td>4</td>\n",
       "      <td>2.50</td>\n",
       "      <td>5.0</td>\n",
       "      <td>36.00</td>\n",
       "      <td>1</td>\n",
       "      <td>False</td>\n",
       "      <td>...</td>\n",
       "      <td>5.00</td>\n",
       "      <td>0</td>\n",
       "      <td>санкт-петербург</td>\n",
       "      <td>13984.0</td>\n",
       "      <td>15063.0</td>\n",
       "      <td>1</td>\n",
       "      <td>622.0</td>\n",
       "      <td>0</td>\n",
       "      <td>NaN</td>\n",
       "      <td>792.0</td>\n",
       "    </tr>\n",
       "    <tr>\n",
       "      <th>16290</th>\n",
       "      <td>2</td>\n",
       "      <td>13235000.0</td>\n",
       "      <td>91.30</td>\n",
       "      <td>2018-03-19</td>\n",
       "      <td>3</td>\n",
       "      <td>NaN</td>\n",
       "      <td>9.0</td>\n",
       "      <td>53.50</td>\n",
       "      <td>3</td>\n",
       "      <td>False</td>\n",
       "      <td>...</td>\n",
       "      <td>13.80</td>\n",
       "      <td>0</td>\n",
       "      <td>санкт-петербург</td>\n",
       "      <td>27796.0</td>\n",
       "      <td>6134.0</td>\n",
       "      <td>1</td>\n",
       "      <td>624.0</td>\n",
       "      <td>3</td>\n",
       "      <td>496.0</td>\n",
       "      <td>196.0</td>\n",
       "    </tr>\n",
       "    <tr>\n",
       "      <th>8889</th>\n",
       "      <td>12</td>\n",
       "      <td>2800000.0</td>\n",
       "      <td>27.00</td>\n",
       "      <td>2017-07-06</td>\n",
       "      <td>1</td>\n",
       "      <td>NaN</td>\n",
       "      <td>18.0</td>\n",
       "      <td>19.00</td>\n",
       "      <td>7</td>\n",
       "      <td>False</td>\n",
       "      <td>...</td>\n",
       "      <td>4.00</td>\n",
       "      <td>0</td>\n",
       "      <td>санкт-петербург</td>\n",
       "      <td>12549.0</td>\n",
       "      <td>12461.0</td>\n",
       "      <td>0</td>\n",
       "      <td>NaN</td>\n",
       "      <td>1</td>\n",
       "      <td>588.0</td>\n",
       "      <td>144.0</td>\n",
       "    </tr>\n",
       "  </tbody>\n",
       "</table>\n",
       "<p>10 rows × 22 columns</p>\n",
       "</div>"
      ],
      "text/plain": [
       "       total_images  last_price  total_area first_day_exposition  rooms  \\\n",
       "17785             9   3200000.0       44.60           2018-10-24      2   \n",
       "8894              3   2099000.0       23.00           2018-09-25      1   \n",
       "7139             13   5200000.0       50.00           2016-06-26      2   \n",
       "11029             2   3025000.0       59.30           2018-03-25      2   \n",
       "2622              2   8380000.0       48.00           2016-09-30      1   \n",
       "18425             1   2533531.0       42.50           2016-09-08      1   \n",
       "12282             6   4319000.0       44.18           2017-02-27      1   \n",
       "10915            10   3850000.0       50.00           2016-08-31      4   \n",
       "16290             2  13235000.0       91.30           2018-03-19      3   \n",
       "8889             12   2800000.0       27.00           2017-07-06      1   \n",
       "\n",
       "       ceiling_height  floors_total  living_area  floor  is_apartment  ...  \\\n",
       "17785            2.52           5.0        30.60      1         False  ...   \n",
       "8894             2.70          16.0          NaN     10         False  ...   \n",
       "7139              NaN          12.0        31.00      9         False  ...   \n",
       "11029            2.80           3.0        35.00      1         False  ...   \n",
       "2622             3.10           5.0        24.40      3         False  ...   \n",
       "18425            2.56          18.0        20.00     10         False  ...   \n",
       "12282             NaN           4.0        17.93      2         False  ...   \n",
       "10915            2.50           5.0        36.00      1         False  ...   \n",
       "16290             NaN           9.0        53.50      3         False  ...   \n",
       "8889              NaN          18.0        19.00      7         False  ...   \n",
       "\n",
       "       kitchen_area  balcony        locality_name  airports_nearest  \\\n",
       "17785          5.90        0         красное село           25533.0   \n",
       "8894            NaN        2      санкт-петербург           19212.0   \n",
       "7139           8.00        0      санкт-петербург            9112.0   \n",
       "11029         11.50        0  поселок мичуринское               NaN   \n",
       "2622          17.00        0      санкт-петербург           25867.0   \n",
       "18425           NaN        0           никольское               NaN   \n",
       "12282         10.71        0       поселок шушары            9847.0   \n",
       "10915          5.00        0      санкт-петербург           13984.0   \n",
       "16290         13.80        0      санкт-петербург           27796.0   \n",
       "8889           4.00        0      санкт-петербург           12549.0   \n",
       "\n",
       "      cityCenters_nearest  parks_around3000  parks_nearest  ponds_around3000  \\\n",
       "17785             28958.0                 0            NaN                 0   \n",
       "8894              22637.0                 0            NaN                 1   \n",
       "7139              11231.0                 1          627.0                 1   \n",
       "11029                 NaN                 0            NaN                 0   \n",
       "2622               4442.0                 2          356.0                 1   \n",
       "18425                 NaN                 0            NaN                 0   \n",
       "12282             24701.0                 0            NaN                 0   \n",
       "10915             15063.0                 1          622.0                 0   \n",
       "16290              6134.0                 1          624.0                 3   \n",
       "8889              12461.0                 0            NaN                 1   \n",
       "\n",
       "       ponds_nearest  days_exposition  \n",
       "17785            NaN            156.0  \n",
       "8894           457.0             37.0  \n",
       "7139           584.0            126.0  \n",
       "11029            NaN            386.0  \n",
       "2622           816.0            715.0  \n",
       "18425            NaN            627.0  \n",
       "12282            NaN             92.0  \n",
       "10915            NaN            792.0  \n",
       "16290          496.0            196.0  \n",
       "8889           588.0            144.0  \n",
       "\n",
       "[10 rows x 22 columns]"
      ]
     },
     "execution_count": 28,
     "metadata": {},
     "output_type": "execute_result"
    }
   ],
   "source": [
    "df.sample(10)"
   ]
  },
  {
   "cell_type": "code",
   "execution_count": 29,
   "metadata": {},
   "outputs": [
    {
     "data": {
      "text/html": [
       "<div>\n",
       "<style scoped>\n",
       "    .dataframe tbody tr th:only-of-type {\n",
       "        vertical-align: middle;\n",
       "    }\n",
       "\n",
       "    .dataframe tbody tr th {\n",
       "        vertical-align: top;\n",
       "    }\n",
       "\n",
       "    .dataframe thead th {\n",
       "        text-align: right;\n",
       "    }\n",
       "</style>\n",
       "<table border=\"1\" class=\"dataframe\">\n",
       "  <thead>\n",
       "    <tr style=\"text-align: right;\">\n",
       "      <th></th>\n",
       "      <th>total_images</th>\n",
       "      <th>last_price</th>\n",
       "      <th>total_area</th>\n",
       "      <th>rooms</th>\n",
       "      <th>ceiling_height</th>\n",
       "      <th>floors_total</th>\n",
       "      <th>living_area</th>\n",
       "      <th>floor</th>\n",
       "      <th>kitchen_area</th>\n",
       "      <th>balcony</th>\n",
       "      <th>airports_nearest</th>\n",
       "      <th>cityCenters_nearest</th>\n",
       "      <th>parks_around3000</th>\n",
       "      <th>parks_nearest</th>\n",
       "      <th>ponds_around3000</th>\n",
       "      <th>ponds_nearest</th>\n",
       "      <th>days_exposition</th>\n",
       "    </tr>\n",
       "  </thead>\n",
       "  <tbody>\n",
       "    <tr>\n",
       "      <th>count</th>\n",
       "      <td>23649.000000</td>\n",
       "      <td>2.364900e+04</td>\n",
       "      <td>23649.000000</td>\n",
       "      <td>23649.000000</td>\n",
       "      <td>14489.000000</td>\n",
       "      <td>23564.000000</td>\n",
       "      <td>21751.000000</td>\n",
       "      <td>23649.000000</td>\n",
       "      <td>21381.000000</td>\n",
       "      <td>23649.000000</td>\n",
       "      <td>18116.000000</td>\n",
       "      <td>18139.000000</td>\n",
       "      <td>23649.000000</td>\n",
       "      <td>8064.000000</td>\n",
       "      <td>23649.000000</td>\n",
       "      <td>9085.000000</td>\n",
       "      <td>20469.000000</td>\n",
       "    </tr>\n",
       "    <tr>\n",
       "      <th>mean</th>\n",
       "      <td>9.862700</td>\n",
       "      <td>6.541296e+06</td>\n",
       "      <td>60.329823</td>\n",
       "      <td>2.070151</td>\n",
       "      <td>2.771302</td>\n",
       "      <td>10.675564</td>\n",
       "      <td>34.449029</td>\n",
       "      <td>5.893230</td>\n",
       "      <td>10.566403</td>\n",
       "      <td>0.591737</td>\n",
       "      <td>28803.225878</td>\n",
       "      <td>14197.860742</td>\n",
       "      <td>0.469111</td>\n",
       "      <td>490.830729</td>\n",
       "      <td>0.590384</td>\n",
       "      <td>518.059879</td>\n",
       "      <td>180.735209</td>\n",
       "    </tr>\n",
       "    <tr>\n",
       "      <th>std</th>\n",
       "      <td>5.682106</td>\n",
       "      <td>1.089660e+07</td>\n",
       "      <td>35.662374</td>\n",
       "      <td>1.078621</td>\n",
       "      <td>1.261636</td>\n",
       "      <td>6.594791</td>\n",
       "      <td>22.037947</td>\n",
       "      <td>4.883415</td>\n",
       "      <td>5.901753</td>\n",
       "      <td>0.959675</td>\n",
       "      <td>12637.314144</td>\n",
       "      <td>8606.830295</td>\n",
       "      <td>0.748467</td>\n",
       "      <td>342.554386</td>\n",
       "      <td>0.883550</td>\n",
       "      <td>277.841733</td>\n",
       "      <td>219.768211</td>\n",
       "    </tr>\n",
       "    <tr>\n",
       "      <th>min</th>\n",
       "      <td>0.000000</td>\n",
       "      <td>1.219000e+04</td>\n",
       "      <td>12.000000</td>\n",
       "      <td>0.000000</td>\n",
       "      <td>1.000000</td>\n",
       "      <td>1.000000</td>\n",
       "      <td>2.000000</td>\n",
       "      <td>1.000000</td>\n",
       "      <td>1.300000</td>\n",
       "      <td>0.000000</td>\n",
       "      <td>0.000000</td>\n",
       "      <td>181.000000</td>\n",
       "      <td>0.000000</td>\n",
       "      <td>1.000000</td>\n",
       "      <td>0.000000</td>\n",
       "      <td>13.000000</td>\n",
       "      <td>1.000000</td>\n",
       "    </tr>\n",
       "    <tr>\n",
       "      <th>25%</th>\n",
       "      <td>6.000000</td>\n",
       "      <td>3.400000e+06</td>\n",
       "      <td>40.000000</td>\n",
       "      <td>1.000000</td>\n",
       "      <td>2.520000</td>\n",
       "      <td>5.000000</td>\n",
       "      <td>18.600000</td>\n",
       "      <td>2.000000</td>\n",
       "      <td>7.000000</td>\n",
       "      <td>0.000000</td>\n",
       "      <td>18575.750000</td>\n",
       "      <td>9241.000000</td>\n",
       "      <td>0.000000</td>\n",
       "      <td>288.000000</td>\n",
       "      <td>0.000000</td>\n",
       "      <td>293.000000</td>\n",
       "      <td>45.000000</td>\n",
       "    </tr>\n",
       "    <tr>\n",
       "      <th>50%</th>\n",
       "      <td>9.000000</td>\n",
       "      <td>4.650000e+06</td>\n",
       "      <td>52.000000</td>\n",
       "      <td>2.000000</td>\n",
       "      <td>2.650000</td>\n",
       "      <td>9.000000</td>\n",
       "      <td>30.000000</td>\n",
       "      <td>4.000000</td>\n",
       "      <td>9.100000</td>\n",
       "      <td>0.000000</td>\n",
       "      <td>26756.500000</td>\n",
       "      <td>13105.000000</td>\n",
       "      <td>0.000000</td>\n",
       "      <td>454.500000</td>\n",
       "      <td>0.000000</td>\n",
       "      <td>502.000000</td>\n",
       "      <td>95.000000</td>\n",
       "    </tr>\n",
       "    <tr>\n",
       "      <th>75%</th>\n",
       "      <td>14.000000</td>\n",
       "      <td>6.799000e+06</td>\n",
       "      <td>69.700000</td>\n",
       "      <td>3.000000</td>\n",
       "      <td>2.800000</td>\n",
       "      <td>16.000000</td>\n",
       "      <td>42.300000</td>\n",
       "      <td>8.000000</td>\n",
       "      <td>12.000000</td>\n",
       "      <td>1.000000</td>\n",
       "      <td>37294.000000</td>\n",
       "      <td>16293.000000</td>\n",
       "      <td>1.000000</td>\n",
       "      <td>612.000000</td>\n",
       "      <td>1.000000</td>\n",
       "      <td>730.000000</td>\n",
       "      <td>231.000000</td>\n",
       "    </tr>\n",
       "    <tr>\n",
       "      <th>max</th>\n",
       "      <td>50.000000</td>\n",
       "      <td>7.630000e+08</td>\n",
       "      <td>900.000000</td>\n",
       "      <td>19.000000</td>\n",
       "      <td>100.000000</td>\n",
       "      <td>60.000000</td>\n",
       "      <td>409.700000</td>\n",
       "      <td>33.000000</td>\n",
       "      <td>112.000000</td>\n",
       "      <td>5.000000</td>\n",
       "      <td>84869.000000</td>\n",
       "      <td>65968.000000</td>\n",
       "      <td>3.000000</td>\n",
       "      <td>3190.000000</td>\n",
       "      <td>3.000000</td>\n",
       "      <td>1344.000000</td>\n",
       "      <td>1580.000000</td>\n",
       "    </tr>\n",
       "  </tbody>\n",
       "</table>\n",
       "</div>"
      ],
      "text/plain": [
       "       total_images    last_price    total_area         rooms  ceiling_height  \\\n",
       "count  23649.000000  2.364900e+04  23649.000000  23649.000000    14489.000000   \n",
       "mean       9.862700  6.541296e+06     60.329823      2.070151        2.771302   \n",
       "std        5.682106  1.089660e+07     35.662374      1.078621        1.261636   \n",
       "min        0.000000  1.219000e+04     12.000000      0.000000        1.000000   \n",
       "25%        6.000000  3.400000e+06     40.000000      1.000000        2.520000   \n",
       "50%        9.000000  4.650000e+06     52.000000      2.000000        2.650000   \n",
       "75%       14.000000  6.799000e+06     69.700000      3.000000        2.800000   \n",
       "max       50.000000  7.630000e+08    900.000000     19.000000      100.000000   \n",
       "\n",
       "       floors_total   living_area         floor  kitchen_area       balcony  \\\n",
       "count  23564.000000  21751.000000  23649.000000  21381.000000  23649.000000   \n",
       "mean      10.675564     34.449029      5.893230     10.566403      0.591737   \n",
       "std        6.594791     22.037947      4.883415      5.901753      0.959675   \n",
       "min        1.000000      2.000000      1.000000      1.300000      0.000000   \n",
       "25%        5.000000     18.600000      2.000000      7.000000      0.000000   \n",
       "50%        9.000000     30.000000      4.000000      9.100000      0.000000   \n",
       "75%       16.000000     42.300000      8.000000     12.000000      1.000000   \n",
       "max       60.000000    409.700000     33.000000    112.000000      5.000000   \n",
       "\n",
       "       airports_nearest  cityCenters_nearest  parks_around3000  parks_nearest  \\\n",
       "count      18116.000000         18139.000000      23649.000000    8064.000000   \n",
       "mean       28803.225878         14197.860742          0.469111     490.830729   \n",
       "std        12637.314144          8606.830295          0.748467     342.554386   \n",
       "min            0.000000           181.000000          0.000000       1.000000   \n",
       "25%        18575.750000          9241.000000          0.000000     288.000000   \n",
       "50%        26756.500000         13105.000000          0.000000     454.500000   \n",
       "75%        37294.000000         16293.000000          1.000000     612.000000   \n",
       "max        84869.000000         65968.000000          3.000000    3190.000000   \n",
       "\n",
       "       ponds_around3000  ponds_nearest  days_exposition  \n",
       "count      23649.000000    9085.000000     20469.000000  \n",
       "mean           0.590384     518.059879       180.735209  \n",
       "std            0.883550     277.841733       219.768211  \n",
       "min            0.000000      13.000000         1.000000  \n",
       "25%            0.000000     293.000000        45.000000  \n",
       "50%            0.000000     502.000000        95.000000  \n",
       "75%            1.000000     730.000000       231.000000  \n",
       "max            3.000000    1344.000000      1580.000000  "
      ]
     },
     "execution_count": 29,
     "metadata": {},
     "output_type": "execute_result"
    }
   ],
   "source": [
    "df.describe()"
   ]
  },
  {
   "cell_type": "markdown",
   "metadata": {},
   "source": [
    "## Расчёты и добавление результатов в таблицу"
   ]
  },
  {
   "cell_type": "markdown",
   "metadata": {},
   "source": [
    "Нам надо добавить:\n",
    "- цену квадратного метра\n",
    "- день недели, месяц и год публикации объявления\n",
    "- этаж квартиры; варианты — первый, последний, другой\n",
    "- соотношение жилой и общей площади, а также отношение площади кухни к общей"
   ]
  },
  {
   "cell_type": "code",
   "execution_count": 30,
   "metadata": {},
   "outputs": [],
   "source": [
    "df['price_per_square_meter'] = df['last_price'] / df['total_area']"
   ]
  },
  {
   "cell_type": "code",
   "execution_count": 31,
   "metadata": {},
   "outputs": [],
   "source": [
    "df['weekday'] = df['first_day_exposition'].dt.weekday\n",
    "df['month'] = df['first_day_exposition'].dt.month\n",
    "df['year'] = df['first_day_exposition'].dt.year"
   ]
  },
  {
   "cell_type": "code",
   "execution_count": 32,
   "metadata": {},
   "outputs": [],
   "source": [
    "# def categorise_floor(row):\n",
    "#     if row['floor'] == 1:\n",
    "#         return 'первый'\n",
    "#     elif row['floor'] == row['floors_total']:\n",
    "#         return 'последний'\n",
    "#     else:\n",
    "#         return 'другой'\n",
    "    \n",
    "def categorise_floor(row):\n",
    "    if row['floor'] == 1:\n",
    "        return 0\n",
    "    elif row['floor'] == row['floors_total']:\n",
    "        return 1\n",
    "    else:\n",
    "        return 2\n",
    "\n",
    "\n",
    "df['floor_cat'] = df.apply(categorise_floor, axis=1)"
   ]
  },
  {
   "cell_type": "code",
   "execution_count": 33,
   "metadata": {},
   "outputs": [],
   "source": [
    "df['living_area_to_all_ratio'] = df['living_area'] / df['total_area']"
   ]
  },
  {
   "cell_type": "code",
   "execution_count": 34,
   "metadata": {},
   "outputs": [],
   "source": [
    "df['kitchen_area_to_all_ratio'] = df['kitchen_area'] / df['total_area']"
   ]
  },
  {
   "cell_type": "code",
   "execution_count": 35,
   "metadata": {},
   "outputs": [
    {
     "name": "stdout",
     "output_type": "stream",
     "text": [
      "<class 'pandas.core.frame.DataFrame'>\n",
      "Int64Index: 23649 entries, 0 to 23698\n",
      "Data columns (total 29 columns):\n",
      " #   Column                     Non-Null Count  Dtype         \n",
      "---  ------                     --------------  -----         \n",
      " 0   total_images               23649 non-null  int64         \n",
      " 1   last_price                 23649 non-null  float64       \n",
      " 2   total_area                 23649 non-null  float64       \n",
      " 3   first_day_exposition       23649 non-null  datetime64[ns]\n",
      " 4   rooms                      23649 non-null  int64         \n",
      " 5   ceiling_height             14489 non-null  float64       \n",
      " 6   floors_total               23564 non-null  float64       \n",
      " 7   living_area                21751 non-null  float64       \n",
      " 8   floor                      23649 non-null  int64         \n",
      " 9   is_apartment               23649 non-null  bool          \n",
      " 10  studio                     23649 non-null  bool          \n",
      " 11  open_plan                  23649 non-null  bool          \n",
      " 12  kitchen_area               21381 non-null  float64       \n",
      " 13  balcony                    23649 non-null  int64         \n",
      " 14  locality_name              23649 non-null  object        \n",
      " 15  airports_nearest           18116 non-null  float64       \n",
      " 16  cityCenters_nearest        18139 non-null  float64       \n",
      " 17  parks_around3000           23649 non-null  int64         \n",
      " 18  parks_nearest              8064 non-null   float64       \n",
      " 19  ponds_around3000           23649 non-null  int64         \n",
      " 20  ponds_nearest              9085 non-null   float64       \n",
      " 21  days_exposition            20469 non-null  float64       \n",
      " 22  price_per_square_meter     23649 non-null  float64       \n",
      " 23  weekday                    23649 non-null  int64         \n",
      " 24  month                      23649 non-null  int64         \n",
      " 25  year                       23649 non-null  int64         \n",
      " 26  floor_cat                  23649 non-null  int64         \n",
      " 27  living_area_to_all_ratio   21751 non-null  float64       \n",
      " 28  kitchen_area_to_all_ratio  21381 non-null  float64       \n",
      "dtypes: bool(3), datetime64[ns](1), float64(14), int64(10), object(1)\n",
      "memory usage: 4.9+ MB\n"
     ]
    }
   ],
   "source": [
    "df.info()"
   ]
  },
  {
   "cell_type": "code",
   "execution_count": 36,
   "metadata": {},
   "outputs": [
    {
     "data": {
      "text/html": [
       "<div>\n",
       "<style scoped>\n",
       "    .dataframe tbody tr th:only-of-type {\n",
       "        vertical-align: middle;\n",
       "    }\n",
       "\n",
       "    .dataframe tbody tr th {\n",
       "        vertical-align: top;\n",
       "    }\n",
       "\n",
       "    .dataframe thead th {\n",
       "        text-align: right;\n",
       "    }\n",
       "</style>\n",
       "<table border=\"1\" class=\"dataframe\">\n",
       "  <thead>\n",
       "    <tr style=\"text-align: right;\">\n",
       "      <th></th>\n",
       "      <th>total_images</th>\n",
       "      <th>last_price</th>\n",
       "      <th>total_area</th>\n",
       "      <th>first_day_exposition</th>\n",
       "      <th>rooms</th>\n",
       "      <th>ceiling_height</th>\n",
       "      <th>floors_total</th>\n",
       "      <th>living_area</th>\n",
       "      <th>floor</th>\n",
       "      <th>is_apartment</th>\n",
       "      <th>...</th>\n",
       "      <th>ponds_around3000</th>\n",
       "      <th>ponds_nearest</th>\n",
       "      <th>days_exposition</th>\n",
       "      <th>price_per_square_meter</th>\n",
       "      <th>weekday</th>\n",
       "      <th>month</th>\n",
       "      <th>year</th>\n",
       "      <th>floor_cat</th>\n",
       "      <th>living_area_to_all_ratio</th>\n",
       "      <th>kitchen_area_to_all_ratio</th>\n",
       "    </tr>\n",
       "  </thead>\n",
       "  <tbody>\n",
       "    <tr>\n",
       "      <th>0</th>\n",
       "      <td>20</td>\n",
       "      <td>13000000.0</td>\n",
       "      <td>108.00</td>\n",
       "      <td>2019-03-07</td>\n",
       "      <td>3</td>\n",
       "      <td>2.70</td>\n",
       "      <td>16.0</td>\n",
       "      <td>51.00</td>\n",
       "      <td>8</td>\n",
       "      <td>False</td>\n",
       "      <td>...</td>\n",
       "      <td>2</td>\n",
       "      <td>755.0</td>\n",
       "      <td>NaN</td>\n",
       "      <td>120370.370370</td>\n",
       "      <td>3</td>\n",
       "      <td>3</td>\n",
       "      <td>2019</td>\n",
       "      <td>2</td>\n",
       "      <td>0.472222</td>\n",
       "      <td>0.231481</td>\n",
       "    </tr>\n",
       "    <tr>\n",
       "      <th>1</th>\n",
       "      <td>7</td>\n",
       "      <td>3350000.0</td>\n",
       "      <td>40.40</td>\n",
       "      <td>2018-12-04</td>\n",
       "      <td>1</td>\n",
       "      <td>NaN</td>\n",
       "      <td>11.0</td>\n",
       "      <td>18.60</td>\n",
       "      <td>1</td>\n",
       "      <td>False</td>\n",
       "      <td>...</td>\n",
       "      <td>0</td>\n",
       "      <td>NaN</td>\n",
       "      <td>81.0</td>\n",
       "      <td>82920.792079</td>\n",
       "      <td>1</td>\n",
       "      <td>12</td>\n",
       "      <td>2018</td>\n",
       "      <td>0</td>\n",
       "      <td>0.460396</td>\n",
       "      <td>0.272277</td>\n",
       "    </tr>\n",
       "    <tr>\n",
       "      <th>2</th>\n",
       "      <td>10</td>\n",
       "      <td>5196000.0</td>\n",
       "      <td>56.00</td>\n",
       "      <td>2015-08-20</td>\n",
       "      <td>2</td>\n",
       "      <td>NaN</td>\n",
       "      <td>5.0</td>\n",
       "      <td>34.30</td>\n",
       "      <td>4</td>\n",
       "      <td>False</td>\n",
       "      <td>...</td>\n",
       "      <td>2</td>\n",
       "      <td>574.0</td>\n",
       "      <td>558.0</td>\n",
       "      <td>92785.714286</td>\n",
       "      <td>3</td>\n",
       "      <td>8</td>\n",
       "      <td>2015</td>\n",
       "      <td>2</td>\n",
       "      <td>0.612500</td>\n",
       "      <td>0.148214</td>\n",
       "    </tr>\n",
       "    <tr>\n",
       "      <th>3</th>\n",
       "      <td>0</td>\n",
       "      <td>64900000.0</td>\n",
       "      <td>159.00</td>\n",
       "      <td>2015-07-24</td>\n",
       "      <td>3</td>\n",
       "      <td>NaN</td>\n",
       "      <td>14.0</td>\n",
       "      <td>NaN</td>\n",
       "      <td>9</td>\n",
       "      <td>False</td>\n",
       "      <td>...</td>\n",
       "      <td>3</td>\n",
       "      <td>234.0</td>\n",
       "      <td>424.0</td>\n",
       "      <td>408176.100629</td>\n",
       "      <td>4</td>\n",
       "      <td>7</td>\n",
       "      <td>2015</td>\n",
       "      <td>2</td>\n",
       "      <td>NaN</td>\n",
       "      <td>NaN</td>\n",
       "    </tr>\n",
       "    <tr>\n",
       "      <th>4</th>\n",
       "      <td>2</td>\n",
       "      <td>10000000.0</td>\n",
       "      <td>100.00</td>\n",
       "      <td>2018-06-19</td>\n",
       "      <td>2</td>\n",
       "      <td>3.03</td>\n",
       "      <td>14.0</td>\n",
       "      <td>32.00</td>\n",
       "      <td>13</td>\n",
       "      <td>False</td>\n",
       "      <td>...</td>\n",
       "      <td>1</td>\n",
       "      <td>48.0</td>\n",
       "      <td>121.0</td>\n",
       "      <td>100000.000000</td>\n",
       "      <td>1</td>\n",
       "      <td>6</td>\n",
       "      <td>2018</td>\n",
       "      <td>2</td>\n",
       "      <td>0.320000</td>\n",
       "      <td>0.410000</td>\n",
       "    </tr>\n",
       "    <tr>\n",
       "      <th>5</th>\n",
       "      <td>10</td>\n",
       "      <td>2890000.0</td>\n",
       "      <td>30.40</td>\n",
       "      <td>2018-09-10</td>\n",
       "      <td>1</td>\n",
       "      <td>NaN</td>\n",
       "      <td>12.0</td>\n",
       "      <td>14.40</td>\n",
       "      <td>5</td>\n",
       "      <td>False</td>\n",
       "      <td>...</td>\n",
       "      <td>0</td>\n",
       "      <td>NaN</td>\n",
       "      <td>55.0</td>\n",
       "      <td>95065.789474</td>\n",
       "      <td>0</td>\n",
       "      <td>9</td>\n",
       "      <td>2018</td>\n",
       "      <td>2</td>\n",
       "      <td>0.473684</td>\n",
       "      <td>0.299342</td>\n",
       "    </tr>\n",
       "    <tr>\n",
       "      <th>6</th>\n",
       "      <td>6</td>\n",
       "      <td>3700000.0</td>\n",
       "      <td>37.30</td>\n",
       "      <td>2017-11-02</td>\n",
       "      <td>1</td>\n",
       "      <td>NaN</td>\n",
       "      <td>26.0</td>\n",
       "      <td>10.60</td>\n",
       "      <td>6</td>\n",
       "      <td>False</td>\n",
       "      <td>...</td>\n",
       "      <td>0</td>\n",
       "      <td>NaN</td>\n",
       "      <td>155.0</td>\n",
       "      <td>99195.710456</td>\n",
       "      <td>3</td>\n",
       "      <td>11</td>\n",
       "      <td>2017</td>\n",
       "      <td>2</td>\n",
       "      <td>0.284182</td>\n",
       "      <td>0.386059</td>\n",
       "    </tr>\n",
       "    <tr>\n",
       "      <th>7</th>\n",
       "      <td>5</td>\n",
       "      <td>7915000.0</td>\n",
       "      <td>71.60</td>\n",
       "      <td>2019-04-18</td>\n",
       "      <td>2</td>\n",
       "      <td>NaN</td>\n",
       "      <td>24.0</td>\n",
       "      <td>NaN</td>\n",
       "      <td>22</td>\n",
       "      <td>False</td>\n",
       "      <td>...</td>\n",
       "      <td>0</td>\n",
       "      <td>NaN</td>\n",
       "      <td>NaN</td>\n",
       "      <td>110544.692737</td>\n",
       "      <td>3</td>\n",
       "      <td>4</td>\n",
       "      <td>2019</td>\n",
       "      <td>2</td>\n",
       "      <td>NaN</td>\n",
       "      <td>0.263966</td>\n",
       "    </tr>\n",
       "    <tr>\n",
       "      <th>8</th>\n",
       "      <td>20</td>\n",
       "      <td>2900000.0</td>\n",
       "      <td>33.16</td>\n",
       "      <td>2018-05-23</td>\n",
       "      <td>1</td>\n",
       "      <td>NaN</td>\n",
       "      <td>27.0</td>\n",
       "      <td>15.43</td>\n",
       "      <td>26</td>\n",
       "      <td>False</td>\n",
       "      <td>...</td>\n",
       "      <td>0</td>\n",
       "      <td>NaN</td>\n",
       "      <td>189.0</td>\n",
       "      <td>87454.764777</td>\n",
       "      <td>2</td>\n",
       "      <td>5</td>\n",
       "      <td>2018</td>\n",
       "      <td>2</td>\n",
       "      <td>0.465320</td>\n",
       "      <td>0.265682</td>\n",
       "    </tr>\n",
       "    <tr>\n",
       "      <th>9</th>\n",
       "      <td>18</td>\n",
       "      <td>5400000.0</td>\n",
       "      <td>61.00</td>\n",
       "      <td>2017-02-26</td>\n",
       "      <td>3</td>\n",
       "      <td>2.50</td>\n",
       "      <td>9.0</td>\n",
       "      <td>43.60</td>\n",
       "      <td>7</td>\n",
       "      <td>False</td>\n",
       "      <td>...</td>\n",
       "      <td>0</td>\n",
       "      <td>NaN</td>\n",
       "      <td>289.0</td>\n",
       "      <td>88524.590164</td>\n",
       "      <td>6</td>\n",
       "      <td>2</td>\n",
       "      <td>2017</td>\n",
       "      <td>2</td>\n",
       "      <td>0.714754</td>\n",
       "      <td>0.106557</td>\n",
       "    </tr>\n",
       "  </tbody>\n",
       "</table>\n",
       "<p>10 rows × 29 columns</p>\n",
       "</div>"
      ],
      "text/plain": [
       "   total_images  last_price  total_area first_day_exposition  rooms  \\\n",
       "0            20  13000000.0      108.00           2019-03-07      3   \n",
       "1             7   3350000.0       40.40           2018-12-04      1   \n",
       "2            10   5196000.0       56.00           2015-08-20      2   \n",
       "3             0  64900000.0      159.00           2015-07-24      3   \n",
       "4             2  10000000.0      100.00           2018-06-19      2   \n",
       "5            10   2890000.0       30.40           2018-09-10      1   \n",
       "6             6   3700000.0       37.30           2017-11-02      1   \n",
       "7             5   7915000.0       71.60           2019-04-18      2   \n",
       "8            20   2900000.0       33.16           2018-05-23      1   \n",
       "9            18   5400000.0       61.00           2017-02-26      3   \n",
       "\n",
       "   ceiling_height  floors_total  living_area  floor  is_apartment  ...  \\\n",
       "0            2.70          16.0        51.00      8         False  ...   \n",
       "1             NaN          11.0        18.60      1         False  ...   \n",
       "2             NaN           5.0        34.30      4         False  ...   \n",
       "3             NaN          14.0          NaN      9         False  ...   \n",
       "4            3.03          14.0        32.00     13         False  ...   \n",
       "5             NaN          12.0        14.40      5         False  ...   \n",
       "6             NaN          26.0        10.60      6         False  ...   \n",
       "7             NaN          24.0          NaN     22         False  ...   \n",
       "8             NaN          27.0        15.43     26         False  ...   \n",
       "9            2.50           9.0        43.60      7         False  ...   \n",
       "\n",
       "   ponds_around3000  ponds_nearest  days_exposition  price_per_square_meter  \\\n",
       "0                 2          755.0              NaN           120370.370370   \n",
       "1                 0            NaN             81.0            82920.792079   \n",
       "2                 2          574.0            558.0            92785.714286   \n",
       "3                 3          234.0            424.0           408176.100629   \n",
       "4                 1           48.0            121.0           100000.000000   \n",
       "5                 0            NaN             55.0            95065.789474   \n",
       "6                 0            NaN            155.0            99195.710456   \n",
       "7                 0            NaN              NaN           110544.692737   \n",
       "8                 0            NaN            189.0            87454.764777   \n",
       "9                 0            NaN            289.0            88524.590164   \n",
       "\n",
       "  weekday  month  year  floor_cat  living_area_to_all_ratio  \\\n",
       "0       3      3  2019          2                  0.472222   \n",
       "1       1     12  2018          0                  0.460396   \n",
       "2       3      8  2015          2                  0.612500   \n",
       "3       4      7  2015          2                       NaN   \n",
       "4       1      6  2018          2                  0.320000   \n",
       "5       0      9  2018          2                  0.473684   \n",
       "6       3     11  2017          2                  0.284182   \n",
       "7       3      4  2019          2                       NaN   \n",
       "8       2      5  2018          2                  0.465320   \n",
       "9       6      2  2017          2                  0.714754   \n",
       "\n",
       "   kitchen_area_to_all_ratio  \n",
       "0                   0.231481  \n",
       "1                   0.272277  \n",
       "2                   0.148214  \n",
       "3                        NaN  \n",
       "4                   0.410000  \n",
       "5                   0.299342  \n",
       "6                   0.386059  \n",
       "7                   0.263966  \n",
       "8                   0.265682  \n",
       "9                   0.106557  \n",
       "\n",
       "[10 rows x 29 columns]"
      ]
     },
     "execution_count": 36,
     "metadata": {},
     "output_type": "execute_result"
    }
   ],
   "source": [
    "df.head(10)"
   ]
  },
  {
   "cell_type": "markdown",
   "metadata": {},
   "source": [
    "## Исследовательский анализ данных"
   ]
  },
  {
   "cell_type": "markdown",
   "metadata": {},
   "source": [
    "1. Изучите следующие параметры: площадь, цена, число комнат, высота потолков. Постройте гистограммы для каждого параметра.\n",
    "2. Изучите время продажи квартиры. Постройте гистограмму. Посчитайте среднее и медиану. Опишите, сколько обычно занимает продажа. Когда можно считать, что продажи прошли очень быстро, а когда необычно долго?\n",
    "3. Уберите редкие и выбивающиеся значения. Опишите, какие особенности обнаружили."
   ]
  },
  {
   "cell_type": "markdown",
   "metadata": {},
   "source": [
    "#### Площадь"
   ]
  },
  {
   "cell_type": "markdown",
   "metadata": {},
   "source": [
    "Если мы будем строить графики в лоб, мы не увидим ничего хорошего – пример ниже Избавимся от выбросов –"
   ]
  },
  {
   "cell_type": "code",
   "execution_count": 37,
   "metadata": {},
   "outputs": [
    {
     "data": {
      "image/png": "[encoded data removed]",
      "text/plain": [
       "<Figure size 432x288 with 1 Axes>"
      ]
     },
     "metadata": {
      "needs_background": "light"
     },
     "output_type": "display_data"
    }
   ],
   "source": [
    "df.boxplot(['total_area'])\n",
    "plt.show()"
   ]
  },
  {
   "cell_type": "markdown",
   "metadata": {},
   "source": [
    "Нам придется строить графики по разным признакам, напишем функции:"
   ]
  },
  {
   "cell_type": "code",
   "execution_count": 38,
   "metadata": {},
   "outputs": [],
   "source": [
    "def filter_iqr(data: pd.Series) -> pd.Series:\n",
    "    \"\"\"\n",
    "    Возвращает очищенный от выбросов массив\n",
    "    :param data: исходные данные\n",
    "    :return: очищенные от выбросов данные\n",
    "    \"\"\"\n",
    "\n",
    "    IQR = data.quantile(0.75) - data.quantile(0.25)\n",
    "    upper_fence = data.quantile(0.75) + 1.5 * IQR\n",
    "    lower_fence = data.quantile(0.25) - 1.5 * IQR\n",
    "\n",
    "    mask = (lower_fence <= data) & (data <= upper_fence)\n",
    "    return data[mask]"
   ]
  },
  {
   "cell_type": "code",
   "execution_count": 39,
   "metadata": {},
   "outputs": [],
   "source": [
    "def dataframe_filter_iqr(data: pd.DataFrame, column_name) -> pd.DataFrame:\n",
    "    \"\"\"\n",
    "    Возвращает очищенный от выбросов по заданному столбцу датафрейм\n",
    "    :param data: исходный датафрейм\n",
    "    :return: очищенный от выбросов датафрейм\n",
    "    \"\"\"\n",
    "\n",
    "    IQR = data[column_name].quantile(0.75) - data[column_name].quantile(0.25)\n",
    "    upper_fence = data[column_name].quantile(0.75) + 1.5 * IQR\n",
    "    lower_fence = data[column_name].quantile(0.25) - 1.5 * IQR\n",
    "\n",
    "    mask = (lower_fence <= data[column_name]) & (data[column_name] <= upper_fence)\n",
    "\n",
    "    return data[mask]"
   ]
  },
  {
   "cell_type": "code",
   "execution_count": 40,
   "metadata": {},
   "outputs": [
    {
     "data": {
      "image/png": "[encoded data removed]",
      "text/plain": [
       "<Figure size 432x288 with 1 Axes>"
      ]
     },
     "metadata": {
      "needs_background": "light"
     },
     "output_type": "display_data"
    }
   ],
   "source": [
    "# Взглянем на площадь:\n",
    "plt.boxplot(filter_iqr(df['total_area']))\n",
    "plt.title('total_area')\n",
    "plt.show()"
   ]
  },
  {
   "cell_type": "code",
   "execution_count": 41,
   "metadata": {},
   "outputs": [
    {
     "data": {
      "text/plain": [
       "count    23649.000000\n",
       "mean        60.329823\n",
       "std         35.662374\n",
       "min         12.000000\n",
       "25%         40.000000\n",
       "50%         52.000000\n",
       "75%         69.700000\n",
       "max        900.000000\n",
       "Name: total_area, dtype: float64"
      ]
     },
     "execution_count": 41,
     "metadata": {},
     "output_type": "execute_result"
    }
   ],
   "source": [
    "# Посмотрим еще на квантили и среднее:\n",
    "df['total_area'].describe()"
   ]
  },
  {
   "cell_type": "code",
   "execution_count": 42,
   "metadata": {},
   "outputs": [
    {
     "data": {
      "image/png": "[encoded data removed]",
      "text/plain": [
       "<Figure size 720x432 with 1 Axes>"
      ]
     },
     "metadata": {
      "needs_background": "light"
     },
     "output_type": "display_data"
    }
   ],
   "source": [
    "# посмотрим распределение на диаграмме на сырые данные и почищенные, заодно посмотрим какой кусок мы откусили, когда убирали выбросы\n",
    "df['total_area'].hist(bins=100, range=(0, 5 * df['total_area'].std()), grid=True, figsize=(10, 6), alpha=1)\n",
    "filter_iqr(df['total_area']).hist(bins=100, range=(0, 300), grid=True, figsize=(10, 6), alpha=0.3)\n",
    "plt.title('blue - row data, yellow - cleared from outliers')\n",
    "plt.show()"
   ]
  },
  {
   "cell_type": "markdown",
   "metadata": {},
   "source": [
    "При отбрасывании лишнего мы оставили за бортом квартиры площадью за 120 метров\n"
   ]
  },
  {
   "cell_type": "markdown",
   "metadata": {},
   "source": [
    "#### Цена"
   ]
  },
  {
   "cell_type": "code",
   "execution_count": 43,
   "metadata": {},
   "outputs": [
    {
     "data": {
      "image/png": "[encoded data removed]",
      "text/plain": [
       "<Figure size 432x288 with 1 Axes>"
      ]
     },
     "metadata": {
      "needs_background": "light"
     },
     "output_type": "display_data"
    }
   ],
   "source": [
    "plt.boxplot(filter_iqr(df['last_price']))\n",
    "plt.title('last_price')\n",
    "plt.show()"
   ]
  },
  {
   "cell_type": "code",
   "execution_count": 44,
   "metadata": {},
   "outputs": [
    {
     "data": {
      "image/png": "[encoded data removed]",
      "text/plain": [
       "<Figure size 720x432 with 1 Axes>"
      ]
     },
     "metadata": {
      "needs_background": "light"
     },
     "output_type": "display_data"
    }
   ],
   "source": [
    "df['last_price'].hist(bins=100, range=(0, 5 * df['last_price'].std()), grid=True, figsize=(10, 6))\n",
    "filter_iqr(df['last_price']).hist(bins=100, range=(0, 5 * df['last_price'].std()), grid=True, figsize=(10, 6), alpha=0.8)\n",
    "plt.title('blue - row data, yellow - cleared from outliers')\n",
    "plt.show()"
   ]
  },
  {
   "cell_type": "markdown",
   "metadata": {},
   "source": [
    "Отбрасываем данные с ценой больше 12 миллионов"
   ]
  },
  {
   "cell_type": "markdown",
   "metadata": {},
   "source": [
    "#### Число комнат"
   ]
  },
  {
   "cell_type": "code",
   "execution_count": 45,
   "metadata": {},
   "outputs": [
    {
     "data": {
      "image/png": "[encoded data removed]",
      "text/plain": [
       "<Figure size 432x288 with 1 Axes>"
      ]
     },
     "metadata": {
      "needs_background": "light"
     },
     "output_type": "display_data"
    }
   ],
   "source": [
    "plt.boxplot(filter_iqr(df['rooms']))\n",
    "plt.title('rooms')\n",
    "plt.show()"
   ]
  },
  {
   "cell_type": "code",
   "execution_count": 46,
   "metadata": {},
   "outputs": [
    {
     "data": {
      "image/png": "[encoded data removed]",
      "text/plain": [
       "<Figure size 720x432 with 1 Axes>"
      ]
     },
     "metadata": {
      "needs_background": "light"
     },
     "output_type": "display_data"
    }
   ],
   "source": [
    "df['rooms'].hist(bins=100, range=(0, 7 * df['rooms'].std()), grid=True, figsize=(10, 6))\n",
    "filter_iqr(df['rooms']).hist(bins=100, range=(0, 7 * df['rooms'].std()), grid=True, figsize=(10, 6))\n",
    "plt.title('blue - row data, yellow - cleared from outliers')\n",
    "plt.show()"
   ]
  },
  {
   "cell_type": "markdown",
   "metadata": {},
   "source": [
    "От квартир оставляем квартиры не более чем с 6 комнатами)"
   ]
  },
  {
   "cell_type": "markdown",
   "metadata": {},
   "source": [
    "#### Высота потолков"
   ]
  },
  {
   "cell_type": "code",
   "execution_count": 47,
   "metadata": {},
   "outputs": [
    {
     "data": {
      "image/png": "[encoded data removed]",
      "text/plain": [
       "<Figure size 432x288 with 1 Axes>"
      ]
     },
     "metadata": {
      "needs_background": "light"
     },
     "output_type": "display_data"
    }
   ],
   "source": [
    "plt.boxplot(filter_iqr(df['ceiling_height']))\n",
    "plt.title('ceiling_height')\n",
    "plt.show()"
   ]
  },
  {
   "cell_type": "code",
   "execution_count": 48,
   "metadata": {},
   "outputs": [
    {
     "data": {
      "image/png": "[encoded data removed]",
      "text/plain": [
       "<Figure size 720x432 with 1 Axes>"
      ]
     },
     "metadata": {
      "needs_background": "light"
     },
     "output_type": "display_data"
    }
   ],
   "source": [
    "df['ceiling_height'].hist(bins=100, range=(1, 8 * df['ceiling_height'].std()), grid=True, figsize=(10, 6))\n",
    "filter_iqr(df['ceiling_height']).hist(bins=100, range=(1, 8 * df['ceiling_height'].std()), grid=True, figsize=(10, 6), alpha=0.6)\n",
    "plt.title('blue - row data, yellow - cleared from outliers')\n",
    "plt.show()"
   ]
  },
  {
   "cell_type": "markdown",
   "metadata": {},
   "source": [
    "Отбрасываем данные с высотой потолков более ~3 метров"
   ]
  },
  {
   "cell_type": "markdown",
   "metadata": {},
   "source": [
    "Итого: для каждого параметра после отбрасывания выбросов дипазон измнения параметров лежит в разумных пределах. Посмотрим на то и другое рядом:"
   ]
  },
  {
   "cell_type": "code",
   "execution_count": 49,
   "metadata": {},
   "outputs": [
    {
     "name": "stdout",
     "output_type": "stream",
     "text": [
      "     raw values  processing_value\n",
      "0  6.032982e+01      5.432621e+01\n",
      "1  6.541296e+06      4.839049e+06\n",
      "2  2.070151e+00      2.047370e+00\n",
      "3  2.771302e+00      2.679866e+00\n"
     ]
    }
   ],
   "source": [
    "compare_df = pd.DataFrame(columns=['raw values', 'processing_value'])\n",
    "\n",
    "for i, column_name in enumerate(['total_area', 'last_price', 'rooms', 'ceiling_height']):\n",
    "    compare_df.loc[i] = [df[column_name].mean(), filter_iqr(df[column_name]).mean()]\n",
    "\n",
    "print(compare_df)"
   ]
  },
  {
   "cell_type": "markdown",
   "metadata": {},
   "source": [
    "#### Выводы\n",
    "\n",
    "Если не учитывать выбросы, средняя цена и площадь значительно сдвигаются, среднее количество комнат и высота потолка не меняются"
   ]
  },
  {
   "cell_type": "markdown",
   "metadata": {},
   "source": [
    "#### Время продажи\n",
    "Изучите время продажи квартиры. Постройте гистограмму. Посчитайте среднее и медиану. Опишите, сколько обычно занимает продажа. Когда можно считать, что продажи прошли очень быстро, а когда необычно долго?"
   ]
  },
  {
   "cell_type": "code",
   "execution_count": 50,
   "metadata": {},
   "outputs": [
    {
     "data": {
      "text/plain": [
       "<AxesSubplot:>"
      ]
     },
     "execution_count": 50,
     "metadata": {},
     "output_type": "execute_result"
    },
    {
     "data": {
      "image/png": "[encoded data removed]",
      "text/plain": [
       "<Figure size 720x432 with 1 Axes>"
      ]
     },
     "metadata": {
      "needs_background": "light"
     },
     "output_type": "display_data"
    }
   ],
   "source": [
    "df['days_exposition'].hist(bins=100, range=(0, 8 * df['days_exposition'].std()), grid=True, figsize=(10, 6))"
   ]
  },
  {
   "cell_type": "code",
   "execution_count": 51,
   "metadata": {},
   "outputs": [
    {
     "data": {
      "text/plain": [
       "count    20469.000000\n",
       "mean       180.735209\n",
       "std        219.768211\n",
       "min          1.000000\n",
       "25%         45.000000\n",
       "50%         95.000000\n",
       "75%        231.000000\n",
       "max       1580.000000\n",
       "Name: days_exposition, dtype: float64"
      ]
     },
     "execution_count": 51,
     "metadata": {},
     "output_type": "execute_result"
    }
   ],
   "source": [
    "df['days_exposition'].describe()"
   ]
  },
  {
   "cell_type": "code",
   "execution_count": 52,
   "metadata": {},
   "outputs": [
    {
     "name": "stdout",
     "output_type": "stream",
     "text": [
      "17.0 459.0\n"
     ]
    }
   ],
   "source": [
    "print(df['days_exposition'].quantile(q=0.1), df['days_exposition'].quantile(q=0.9))"
   ]
  },
  {
   "cell_type": "markdown",
   "metadata": {},
   "source": [
    "#### Выводы\n",
    "Как можно увидеть, в среднем квартира продается за 95 дней. Возьмем как определение очень быстрой и очень медленной продаж\n",
    "квантили уровня 0.1 и 0.9. Тогда можно сказать что квартира продалась очень быстро, если она продалась за менее чем 17 дней и очень медленно, если она продалась за более чем 459 дней"
   ]
  },
  {
   "cell_type": "markdown",
   "metadata": {},
   "source": [
    "##### 1\n",
    "Какие факторы больше всего влияют на стоимость квартиры? Изучите, зависит ли цена от площади, числа комнат, удалённости от центра. Изучите зависимость цены от того, на каком этаже расположена квартира: первом, последнем или другом. Также изучите зависимость от даты размещения: дня недели, месяца и года."
   ]
  },
  {
   "cell_type": "code",
   "execution_count": 53,
   "metadata": {},
   "outputs": [
    {
     "data": {
      "text/html": [
       "<style  type=\"text/css\" >\n",
       "#T_ee9ce_row0_col0{\n",
       "            background-color:  #ffffff;\n",
       "            color:  #000000;\n",
       "        }#T_ee9ce_row1_col0{\n",
       "            background-color:  #ffff1f;\n",
       "            color:  #000000;\n",
       "        }#T_ee9ce_row2_col0{\n",
       "            background-color:  #ff9800;\n",
       "            color:  #000000;\n",
       "        }#T_ee9ce_row3_col0{\n",
       "            background-color:  #0b0000;\n",
       "            color:  #f1f1f1;\n",
       "        }</style><table id=\"T_ee9ce_\" ><thead>    <tr>        <th class=\"blank level0\" ></th>        <th class=\"col_heading level0 col0\" >last_price</th>    </tr></thead><tbody>\n",
       "                <tr>\n",
       "                        <th id=\"T_ee9ce_level0_row0\" class=\"row_heading level0 row0\" >last_price</th>\n",
       "                        <td id=\"T_ee9ce_row0_col0\" class=\"data row0 col0\" >1.000000</td>\n",
       "            </tr>\n",
       "            <tr>\n",
       "                        <th id=\"T_ee9ce_level0_row1\" class=\"row_heading level0 row1\" >total_area</th>\n",
       "                        <td id=\"T_ee9ce_row1_col0\" class=\"data row1 col0\" >0.696409</td>\n",
       "            </tr>\n",
       "            <tr>\n",
       "                        <th id=\"T_ee9ce_level0_row2\" class=\"row_heading level0 row2\" >rooms</th>\n",
       "                        <td id=\"T_ee9ce_row2_col0\" class=\"data row2 col0\" >0.451642</td>\n",
       "            </tr>\n",
       "            <tr>\n",
       "                        <th id=\"T_ee9ce_level0_row3\" class=\"row_heading level0 row3\" >cityCenters_nearest</th>\n",
       "                        <td id=\"T_ee9ce_row3_col0\" class=\"data row3 col0\" >-0.345444</td>\n",
       "            </tr>\n",
       "    </tbody></table>"
      ],
      "text/plain": [
       "<pandas.io.formats.style.Styler at 0x7fb606ed8e20>"
      ]
     },
     "execution_count": 53,
     "metadata": {},
     "output_type": "execute_result"
    }
   ],
   "source": [
    "df_corr = dataframe_filter_iqr(df, 'last_price')[['last_price', 'total_area', 'rooms', 'cityCenters_nearest']]\n",
    "df_corr.corr(method='pearson').filter(items = ['last_price']).style.background_gradient(cmap='hot')"
   ]
  },
  {
   "cell_type": "markdown",
   "metadata": {},
   "source": [
    "Можно сказать что на стоимость влияет только площадь. Количество комнат и близость к центру существенного влияния не оказывают."
   ]
  },
  {
   "cell_type": "code",
   "execution_count": 54,
   "metadata": {},
   "outputs": [
    {
     "data": {
      "text/plain": [
       "(0.0, 11000000.0)"
      ]
     },
     "execution_count": 54,
     "metadata": {},
     "output_type": "execute_result"
    },
    {
     "data": {
      "image/png": "[encoded data removed]",
      "text/plain": [
       "<Figure size 720x720 with 1 Axes>"
      ]
     },
     "metadata": {
      "needs_background": "light"
     },
     "output_type": "display_data"
    }
   ],
   "source": [
    "dataframe_filter_iqr(df, 'last_price').boxplot('last_price', by='floor_cat', figsize=(10, 10)).set_ylim(0, 1.1e7)"
   ]
  },
  {
   "cell_type": "markdown",
   "metadata": {},
   "source": [
    "Квартиры на первом этаже стоят дешевле всего, квартиры на последнем этаже в среднем ценовом диапазоне на втором месте по стоимости\n"
   ]
  },
  {
   "cell_type": "markdown",
   "metadata": {},
   "source": [
    "<div class=\"alert alert-success\">\n",
    "<b>✔️ Комментарий ревьюера</b>\n",
    "\n",
    "Согласна.\n",
    "\n",
    "</div>"
   ]
  },
  {
   "cell_type": "code",
   "execution_count": 55,
   "metadata": {},
   "outputs": [
    {
     "data": {
      "text/plain": [
       "(0.0, 11000000.0)"
      ]
     },
     "execution_count": 55,
     "metadata": {},
     "output_type": "execute_result"
    },
    {
     "data": {
      "image/png": "[encoded data removed]",
      "text/plain": [
       "<Figure size 720x720 with 1 Axes>"
      ]
     },
     "metadata": {
      "needs_background": "light"
     },
     "output_type": "display_data"
    }
   ],
   "source": [
    "dataframe_filter_iqr(df, 'last_price').boxplot('last_price', by='weekday', figsize=(10, 10)).set_ylim(0, 1.1e7)"
   ]
  },
  {
   "cell_type": "markdown",
   "metadata": {},
   "source": [
    "Можно смело утверждать, что от дня недели ничего не зависит"
   ]
  },
  {
   "cell_type": "code",
   "execution_count": 56,
   "metadata": {},
   "outputs": [
    {
     "data": {
      "text/plain": [
       "(0.0, 11000000.0)"
      ]
     },
     "execution_count": 56,
     "metadata": {},
     "output_type": "execute_result"
    },
    {
     "data": {
      "image/png": "[encoded data removed]",
      "text/plain": [
       "<Figure size 720x720 with 1 Axes>"
      ]
     },
     "metadata": {
      "needs_background": "light"
     },
     "output_type": "display_data"
    }
   ],
   "source": [
    "dataframe_filter_iqr(df, 'last_price').boxplot('last_price', by='month', figsize=(10, 10)).set_ylim(0, 1.1e7)"
   ]
  },
  {
   "cell_type": "markdown",
   "metadata": {},
   "source": [
    "От месяцев тоже ничего не зависит"
   ]
  },
  {
   "cell_type": "code",
   "execution_count": 57,
   "metadata": {},
   "outputs": [
    {
     "data": {
      "text/plain": [
       "(0.0, 13000000.0)"
      ]
     },
     "execution_count": 57,
     "metadata": {},
     "output_type": "execute_result"
    },
    {
     "data": {
      "image/png": "[encoded data removed]",
      "text/plain": [
       "<Figure size 720x720 with 1 Axes>"
      ]
     },
     "metadata": {
      "needs_background": "light"
     },
     "output_type": "display_data"
    }
   ],
   "source": [
    "dataframe_filter_iqr(df, 'last_price').boxplot('last_price', by='year', figsize=(10, 10)).set_ylim(0, 1.3e7)"
   ]
  },
  {
   "cell_type": "markdown",
   "metadata": {},
   "source": [
    "##### Вывод\n",
    "Цена не зависит от дня недели и месяца, наблюдается снижение цены начиная с 2014 года и подъем в 2019, что обусловленно скорее всего глобальными экономическими причинами, а не удачным или неудачным годом"
   ]
  },
  {
   "cell_type": "markdown",
   "metadata": {},
   "source": [
    "##### 2\n",
    "Выберите 10 населённых пунктов с наибольшим числом объявлений. Посчитайте среднюю цену квадратного метра в этих населённых пунктах. Выделите населённые пункты с самой высокой и низкой стоимостью жилья. Эти данные можно найти по имени в столбце locality_name."
   ]
  },
  {
   "cell_type": "code",
   "execution_count": 58,
   "metadata": {},
   "outputs": [
    {
     "data": {
      "text/html": [
       "<div>\n",
       "<style scoped>\n",
       "    .dataframe tbody tr th:only-of-type {\n",
       "        vertical-align: middle;\n",
       "    }\n",
       "\n",
       "    .dataframe tbody tr th {\n",
       "        vertical-align: top;\n",
       "    }\n",
       "\n",
       "    .dataframe thead th {\n",
       "        text-align: right;\n",
       "    }\n",
       "</style>\n",
       "<table border=\"1\" class=\"dataframe\">\n",
       "  <thead>\n",
       "    <tr style=\"text-align: right;\">\n",
       "      <th></th>\n",
       "      <th>count</th>\n",
       "      <th>price_m2</th>\n",
       "    </tr>\n",
       "    <tr>\n",
       "      <th>locality_name</th>\n",
       "      <th></th>\n",
       "      <th></th>\n",
       "    </tr>\n",
       "  </thead>\n",
       "  <tbody>\n",
       "    <tr>\n",
       "      <th>санкт-петербург</th>\n",
       "      <td>14808</td>\n",
       "      <td>106353.163098</td>\n",
       "    </tr>\n",
       "    <tr>\n",
       "      <th>поселок мурино</th>\n",
       "      <td>556</td>\n",
       "      <td>85681.762601</td>\n",
       "    </tr>\n",
       "    <tr>\n",
       "      <th>поселок шушары</th>\n",
       "      <td>440</td>\n",
       "      <td>78677.364217</td>\n",
       "    </tr>\n",
       "    <tr>\n",
       "      <th>всеволожск</th>\n",
       "      <td>397</td>\n",
       "      <td>67214.252635</td>\n",
       "    </tr>\n",
       "    <tr>\n",
       "      <th>пушкин</th>\n",
       "      <td>366</td>\n",
       "      <td>102148.206600</td>\n",
       "    </tr>\n",
       "    <tr>\n",
       "      <th>колпино</th>\n",
       "      <td>338</td>\n",
       "      <td>75424.579098</td>\n",
       "    </tr>\n",
       "    <tr>\n",
       "      <th>поселок парголово</th>\n",
       "      <td>327</td>\n",
       "      <td>90175.913458</td>\n",
       "    </tr>\n",
       "    <tr>\n",
       "      <th>гатчина</th>\n",
       "      <td>304</td>\n",
       "      <td>69294.601730</td>\n",
       "    </tr>\n",
       "    <tr>\n",
       "      <th>деревня кудрово</th>\n",
       "      <td>299</td>\n",
       "      <td>92473.547576</td>\n",
       "    </tr>\n",
       "    <tr>\n",
       "      <th>выборг</th>\n",
       "      <td>236</td>\n",
       "      <td>58308.824023</td>\n",
       "    </tr>\n",
       "  </tbody>\n",
       "</table>\n",
       "</div>"
      ],
      "text/plain": [
       "                   count       price_m2\n",
       "locality_name                          \n",
       "санкт-петербург    14808  106353.163098\n",
       "поселок мурино       556   85681.762601\n",
       "поселок шушары       440   78677.364217\n",
       "всеволожск           397   67214.252635\n",
       "пушкин               366  102148.206600\n",
       "колпино              338   75424.579098\n",
       "поселок парголово    327   90175.913458\n",
       "гатчина              304   69294.601730\n",
       "деревня кудрово      299   92473.547576\n",
       "выборг               236   58308.824023"
      ]
     },
     "execution_count": 58,
     "metadata": {},
     "output_type": "execute_result"
    }
   ],
   "source": [
    "stat_grouped = dataframe_filter_iqr(df, 'price_per_square_meter').pivot_table(\n",
    "    index='locality_name', values='price_per_square_meter', aggfunc=['count', 'mean'])\n",
    "\n",
    "stat_grouped.columns = ['count', 'price_m2']\n",
    "stat_grouped.sort_values(by='count', ascending=False, inplace=True)\n",
    "stat_grouped.head(10)"
   ]
  },
  {
   "cell_type": "markdown",
   "metadata": {},
   "source": [
    "##### Вывод\n",
    "Самый дорогой квадратный метр в Питере, самый дешевый -- Выборг"
   ]
  },
  {
   "cell_type": "markdown",
   "metadata": {},
   "source": [
    "<div class=\"alert alert-success\">\n",
    "<b>✔️ Комментарий ревьюера</b>\n",
    "\n",
    "Всё именно так.\n",
    "\n",
    "</div>"
   ]
  },
  {
   "cell_type": "markdown",
   "metadata": {},
   "source": [
    "##### 3\n",
    "Изучите предложения квартир: для каждой квартиры есть информация о расстоянии до центра. Выделите квартиры в Санкт-Петербурге (locality_name). Ваша задача — выяснить, какая область входит в центр. Создайте столбец с расстоянием до центра в километрах: округлите до целых значений. После этого посчитайте среднюю цену для каждого километра. Постройте график: он должен показывать, как цена зависит от удалённости от центра. Определите границу, где график сильно меняется, — это и будет центральная зона."
   ]
  },
  {
   "cell_type": "code",
   "execution_count": 59,
   "metadata": {},
   "outputs": [],
   "source": [
    "df['cityCenters_nearest_km'] = df['cityCenters_nearest'] / 1000.0\n",
    "df['cityCenters_nearest_km'] = df['cityCenters_nearest_km'].fillna(-1).astype('int')"
   ]
  },
  {
   "cell_type": "code",
   "execution_count": 60,
   "metadata": {},
   "outputs": [
    {
     "data": {
      "text/html": [
       "<div>\n",
       "<style scoped>\n",
       "    .dataframe tbody tr th:only-of-type {\n",
       "        vertical-align: middle;\n",
       "    }\n",
       "\n",
       "    .dataframe tbody tr th {\n",
       "        vertical-align: top;\n",
       "    }\n",
       "\n",
       "    .dataframe thead th {\n",
       "        text-align: right;\n",
       "    }\n",
       "</style>\n",
       "<table border=\"1\" class=\"dataframe\">\n",
       "  <thead>\n",
       "    <tr style=\"text-align: right;\">\n",
       "      <th></th>\n",
       "      <th>total_images</th>\n",
       "      <th>last_price</th>\n",
       "      <th>total_area</th>\n",
       "      <th>first_day_exposition</th>\n",
       "      <th>rooms</th>\n",
       "      <th>ceiling_height</th>\n",
       "      <th>floors_total</th>\n",
       "      <th>living_area</th>\n",
       "      <th>floor</th>\n",
       "      <th>is_apartment</th>\n",
       "      <th>...</th>\n",
       "      <th>ponds_nearest</th>\n",
       "      <th>days_exposition</th>\n",
       "      <th>price_per_square_meter</th>\n",
       "      <th>weekday</th>\n",
       "      <th>month</th>\n",
       "      <th>year</th>\n",
       "      <th>floor_cat</th>\n",
       "      <th>living_area_to_all_ratio</th>\n",
       "      <th>kitchen_area_to_all_ratio</th>\n",
       "      <th>cityCenters_nearest_km</th>\n",
       "    </tr>\n",
       "  </thead>\n",
       "  <tbody>\n",
       "    <tr>\n",
       "      <th>2</th>\n",
       "      <td>10</td>\n",
       "      <td>5196000.0</td>\n",
       "      <td>56.0</td>\n",
       "      <td>2015-08-20</td>\n",
       "      <td>2</td>\n",
       "      <td>NaN</td>\n",
       "      <td>5.0</td>\n",
       "      <td>34.3</td>\n",
       "      <td>4</td>\n",
       "      <td>False</td>\n",
       "      <td>...</td>\n",
       "      <td>574.0</td>\n",
       "      <td>558.0</td>\n",
       "      <td>92785.714286</td>\n",
       "      <td>3</td>\n",
       "      <td>8</td>\n",
       "      <td>2015</td>\n",
       "      <td>2</td>\n",
       "      <td>0.612500</td>\n",
       "      <td>0.148214</td>\n",
       "      <td>13</td>\n",
       "    </tr>\n",
       "    <tr>\n",
       "      <th>4</th>\n",
       "      <td>2</td>\n",
       "      <td>10000000.0</td>\n",
       "      <td>100.0</td>\n",
       "      <td>2018-06-19</td>\n",
       "      <td>2</td>\n",
       "      <td>3.03</td>\n",
       "      <td>14.0</td>\n",
       "      <td>32.0</td>\n",
       "      <td>13</td>\n",
       "      <td>False</td>\n",
       "      <td>...</td>\n",
       "      <td>48.0</td>\n",
       "      <td>121.0</td>\n",
       "      <td>100000.000000</td>\n",
       "      <td>1</td>\n",
       "      <td>6</td>\n",
       "      <td>2018</td>\n",
       "      <td>2</td>\n",
       "      <td>0.320000</td>\n",
       "      <td>0.410000</td>\n",
       "      <td>8</td>\n",
       "    </tr>\n",
       "    <tr>\n",
       "      <th>7</th>\n",
       "      <td>5</td>\n",
       "      <td>7915000.0</td>\n",
       "      <td>71.6</td>\n",
       "      <td>2019-04-18</td>\n",
       "      <td>2</td>\n",
       "      <td>NaN</td>\n",
       "      <td>24.0</td>\n",
       "      <td>NaN</td>\n",
       "      <td>22</td>\n",
       "      <td>False</td>\n",
       "      <td>...</td>\n",
       "      <td>NaN</td>\n",
       "      <td>NaN</td>\n",
       "      <td>110544.692737</td>\n",
       "      <td>3</td>\n",
       "      <td>4</td>\n",
       "      <td>2019</td>\n",
       "      <td>2</td>\n",
       "      <td>NaN</td>\n",
       "      <td>0.263966</td>\n",
       "      <td>11</td>\n",
       "    </tr>\n",
       "    <tr>\n",
       "      <th>9</th>\n",
       "      <td>18</td>\n",
       "      <td>5400000.0</td>\n",
       "      <td>61.0</td>\n",
       "      <td>2017-02-26</td>\n",
       "      <td>3</td>\n",
       "      <td>2.50</td>\n",
       "      <td>9.0</td>\n",
       "      <td>43.6</td>\n",
       "      <td>7</td>\n",
       "      <td>False</td>\n",
       "      <td>...</td>\n",
       "      <td>NaN</td>\n",
       "      <td>289.0</td>\n",
       "      <td>88524.590164</td>\n",
       "      <td>6</td>\n",
       "      <td>2</td>\n",
       "      <td>2017</td>\n",
       "      <td>2</td>\n",
       "      <td>0.714754</td>\n",
       "      <td>0.106557</td>\n",
       "      <td>15</td>\n",
       "    </tr>\n",
       "    <tr>\n",
       "      <th>10</th>\n",
       "      <td>5</td>\n",
       "      <td>5050000.0</td>\n",
       "      <td>39.6</td>\n",
       "      <td>2017-11-16</td>\n",
       "      <td>1</td>\n",
       "      <td>2.67</td>\n",
       "      <td>12.0</td>\n",
       "      <td>20.3</td>\n",
       "      <td>3</td>\n",
       "      <td>False</td>\n",
       "      <td>...</td>\n",
       "      <td>553.0</td>\n",
       "      <td>137.0</td>\n",
       "      <td>127525.252525</td>\n",
       "      <td>3</td>\n",
       "      <td>11</td>\n",
       "      <td>2017</td>\n",
       "      <td>2</td>\n",
       "      <td>0.512626</td>\n",
       "      <td>0.214646</td>\n",
       "      <td>13</td>\n",
       "    </tr>\n",
       "  </tbody>\n",
       "</table>\n",
       "<p>5 rows × 30 columns</p>\n",
       "</div>"
      ],
      "text/plain": [
       "    total_images  last_price  total_area first_day_exposition  rooms  \\\n",
       "2             10   5196000.0        56.0           2015-08-20      2   \n",
       "4              2  10000000.0       100.0           2018-06-19      2   \n",
       "7              5   7915000.0        71.6           2019-04-18      2   \n",
       "9             18   5400000.0        61.0           2017-02-26      3   \n",
       "10             5   5050000.0        39.6           2017-11-16      1   \n",
       "\n",
       "    ceiling_height  floors_total  living_area  floor  is_apartment  ...  \\\n",
       "2              NaN           5.0         34.3      4         False  ...   \n",
       "4             3.03          14.0         32.0     13         False  ...   \n",
       "7              NaN          24.0          NaN     22         False  ...   \n",
       "9             2.50           9.0         43.6      7         False  ...   \n",
       "10            2.67          12.0         20.3      3         False  ...   \n",
       "\n",
       "    ponds_nearest  days_exposition  price_per_square_meter  weekday month  \\\n",
       "2           574.0            558.0            92785.714286        3     8   \n",
       "4            48.0            121.0           100000.000000        1     6   \n",
       "7             NaN              NaN           110544.692737        3     4   \n",
       "9             NaN            289.0            88524.590164        6     2   \n",
       "10          553.0            137.0           127525.252525        3    11   \n",
       "\n",
       "    year  floor_cat  living_area_to_all_ratio  kitchen_area_to_all_ratio  \\\n",
       "2   2015          2                  0.612500                   0.148214   \n",
       "4   2018          2                  0.320000                   0.410000   \n",
       "7   2019          2                       NaN                   0.263966   \n",
       "9   2017          2                  0.714754                   0.106557   \n",
       "10  2017          2                  0.512626                   0.214646   \n",
       "\n",
       "    cityCenters_nearest_km  \n",
       "2                       13  \n",
       "4                        8  \n",
       "7                       11  \n",
       "9                       15  \n",
       "10                      13  \n",
       "\n",
       "[5 rows x 30 columns]"
      ]
     },
     "execution_count": 60,
     "metadata": {},
     "output_type": "execute_result"
    }
   ],
   "source": [
    "df_piter = dataframe_filter_iqr(df, 'last_price').query('locality_name == \"санкт-петербург\"')\n",
    "df_piter.head()"
   ]
  },
  {
   "cell_type": "code",
   "execution_count": 61,
   "metadata": {},
   "outputs": [
    {
     "data": {
      "text/plain": [
       "(0.0, 29.0)"
      ]
     },
     "execution_count": 61,
     "metadata": {},
     "output_type": "execute_result"
    },
    {
     "data": {
      "image/png": "[encoded data removed]",
      "text/plain": [
       "<Figure size 720x720 with 1 Axes>"
      ]
     },
     "metadata": {
      "needs_background": "light"
     },
     "output_type": "display_data"
    }
   ],
   "source": [
    "df_piter.pivot_table(\n",
    "    index='cityCenters_nearest_km',\n",
    "    values='last_price',\n",
    "    aggfunc='mean'\n",
    ").plot(figsize=(10, 10), grid=True).set_xlim(0, df_piter['cityCenters_nearest_km'].max())"
   ]
  },
  {
   "cell_type": "markdown",
   "metadata": {},
   "source": [
    "##### Вывод\n",
    "По графику можно сказать что центральная зона города находится в радиусе 7 километров"
   ]
  },
  {
   "cell_type": "markdown",
   "metadata": {},
   "source": [
    "<div class=\"alert alert-success\">\n",
    "<b>✔️ Комментарий ревьюера</b>\n",
    "\n",
    "Верно, центр города заканчивается где-то там.\n",
    "\n",
    "</div>"
   ]
  },
  {
   "cell_type": "markdown",
   "metadata": {},
   "source": [
    "##### 4\n",
    "Выделите сегмент квартир в центре. Проанализируйте эту территорию и изучите следующие параметры: площадь, цена, число комнат, высота потолков. Также выделите факторы, которые влияют на стоимость квартиры (число комнат, этаж, удалённость от центра, дата размещения объявления). Сделайте выводы. Отличаются ли они от общих выводов по всей базе?"
   ]
  },
  {
   "cell_type": "markdown",
   "metadata": {},
   "source": [
    "Проведем анализ отдельно для категориальных и для количественных признаков"
   ]
  },
  {
   "cell_type": "code",
   "execution_count": null,
   "metadata": {},
   "outputs": [],
   "source": []
  },
  {
   "cell_type": "code",
   "execution_count": 62,
   "metadata": {},
   "outputs": [],
   "source": [
    "# количественные признаки\n",
    "quantitative_features = [\n",
    "    'last_price', \n",
    "    'total_area', \n",
    "    'living_area', \n",
    "    'kitchen_area', \n",
    "    'days_exposition', \n",
    "    'price_per_square_meter', \n",
    "    'ceiling_height', \n",
    "    'total_images', \n",
    "    'living_area_to_all_ratio', \n",
    "    'floors_total', \n",
    "    'parks_around3000', \n",
    "    'ponds_nearest', \n",
    "    'parks_nearest', \n",
    "    'ponds_around3000', \n",
    "    'airports_nearest', \n",
    "    'cityCenters_nearest_km', \n",
    "    'cityCenters_nearest', \n",
    "    'kitchen_area_to_all_ratio', ]\n",
    "\n",
    "# категориальные признаки\n",
    "quality_features = ['rooms', \n",
    "                    'floor', \n",
    "                    'balcony',\n",
    "                    'weekday',\n",
    "                    'open_plan', \n",
    "                    'is_apartment', \n",
    "                    'studio',   \n",
    "                   ]\n"
   ]
  },
  {
   "cell_type": "markdown",
   "metadata": {},
   "source": [
    "\n",
    "\n",
    "Признаки `'weekday'`, `'month'`, `'year' я включать сюда не стал - мы уже проанализировали их раньше"
   ]
  },
  {
   "cell_type": "markdown",
   "metadata": {},
   "source": [
    "Посмотрим на количественные признаки:"
   ]
  },
  {
   "cell_type": "code",
   "execution_count": 63,
   "metadata": {
    "scrolled": false
   },
   "outputs": [
    {
     "data": {
      "text/html": [
       "<style  type=\"text/css\" >\n",
       "#T_dc564_row0_col1,#T_dc564_row0_col2{\n",
       "            background-color:  #ffffff;\n",
       "            color:  #000000;\n",
       "        }#T_dc564_row1_col1{\n",
       "            background-color:  #fff100;\n",
       "            color:  #000000;\n",
       "        }#T_dc564_row1_col2{\n",
       "            background-color:  #ffe900;\n",
       "            color:  #000000;\n",
       "        }#T_dc564_row2_col1{\n",
       "            background-color:  #ffb700;\n",
       "            color:  #000000;\n",
       "        }#T_dc564_row2_col2{\n",
       "            background-color:  #ffba00;\n",
       "            color:  #000000;\n",
       "        }#T_dc564_row3_col1{\n",
       "            background-color:  #ff4f00;\n",
       "            color:  #000000;\n",
       "        }#T_dc564_row3_col2{\n",
       "            background-color:  #ffa000;\n",
       "            color:  #000000;\n",
       "        }#T_dc564_row4_col1{\n",
       "            background-color:  #cd0000;\n",
       "            color:  #f1f1f1;\n",
       "        }#T_dc564_row4_col2,#T_dc564_row6_col2{\n",
       "            background-color:  #ab0000;\n",
       "            color:  #f1f1f1;\n",
       "        }#T_dc564_row5_col1{\n",
       "            background-color:  #c20000;\n",
       "            color:  #f1f1f1;\n",
       "        }#T_dc564_row5_col2{\n",
       "            background-color:  #ffff26;\n",
       "            color:  #000000;\n",
       "        }#T_dc564_row6_col1{\n",
       "            background-color:  #a00000;\n",
       "            color:  #f1f1f1;\n",
       "        }#T_dc564_row7_col1{\n",
       "            background-color:  #980000;\n",
       "            color:  #f1f1f1;\n",
       "        }#T_dc564_row7_col2{\n",
       "            background-color:  #b80000;\n",
       "            color:  #f1f1f1;\n",
       "        }#T_dc564_row8_col1{\n",
       "            background-color:  #8b0000;\n",
       "            color:  #f1f1f1;\n",
       "        }#T_dc564_row8_col2,#T_dc564_row11_col1{\n",
       "            background-color:  #7e0000;\n",
       "            color:  #f1f1f1;\n",
       "        }#T_dc564_row9_col1{\n",
       "            background-color:  #860000;\n",
       "            color:  #f1f1f1;\n",
       "        }#T_dc564_row9_col2{\n",
       "            background-color:  #790000;\n",
       "            color:  #f1f1f1;\n",
       "        }#T_dc564_row10_col1{\n",
       "            background-color:  #810000;\n",
       "            color:  #f1f1f1;\n",
       "        }#T_dc564_row10_col2{\n",
       "            background-color:  #ea0000;\n",
       "            color:  #f1f1f1;\n",
       "        }#T_dc564_row11_col2{\n",
       "            background-color:  #4c0000;\n",
       "            color:  #f1f1f1;\n",
       "        }#T_dc564_row12_col1{\n",
       "            background-color:  #7b0000;\n",
       "            color:  #f1f1f1;\n",
       "        }#T_dc564_row12_col2{\n",
       "            background-color:  #740000;\n",
       "            color:  #f1f1f1;\n",
       "        }#T_dc564_row13_col1,#T_dc564_row14_col1{\n",
       "            background-color:  #640000;\n",
       "            color:  #f1f1f1;\n",
       "        }#T_dc564_row13_col2{\n",
       "            background-color:  #f20000;\n",
       "            color:  #f1f1f1;\n",
       "        }#T_dc564_row14_col2{\n",
       "            background-color:  #6e0000;\n",
       "            color:  #f1f1f1;\n",
       "        }#T_dc564_row15_col1{\n",
       "            background-color:  #2d0000;\n",
       "            color:  #f1f1f1;\n",
       "        }#T_dc564_row15_col2{\n",
       "            background-color:  #610000;\n",
       "            color:  #f1f1f1;\n",
       "        }#T_dc564_row16_col1{\n",
       "            background-color:  #150000;\n",
       "            color:  #f1f1f1;\n",
       "        }#T_dc564_row16_col2,#T_dc564_row17_col1{\n",
       "            background-color:  #0b0000;\n",
       "            color:  #f1f1f1;\n",
       "        }#T_dc564_row17_col2{\n",
       "            background-color:  #4a0000;\n",
       "            color:  #f1f1f1;\n",
       "        }</style><table id=\"T_dc564_\" ><thead>    <tr>        <th class=\"blank level0\" ></th>        <th class=\"col_heading level0 col0\" >index</th>        <th class=\"col_heading level0 col1\" >stats for center</th>        <th class=\"col_heading level0 col2\" >stats for all</th>    </tr></thead><tbody>\n",
       "                <tr>\n",
       "                        <th id=\"T_dc564_level0_row0\" class=\"row_heading level0 row0\" >0</th>\n",
       "                        <td id=\"T_dc564_row0_col0\" class=\"data row0 col0\" >last_price</td>\n",
       "                        <td id=\"T_dc564_row0_col1\" class=\"data row0 col1\" >1.000000</td>\n",
       "                        <td id=\"T_dc564_row0_col2\" class=\"data row0 col2\" >1.000000</td>\n",
       "            </tr>\n",
       "            <tr>\n",
       "                        <th id=\"T_dc564_level0_row1\" class=\"row_heading level0 row1\" >1</th>\n",
       "                        <td id=\"T_dc564_row1_col0\" class=\"data row1 col0\" >total_area</td>\n",
       "                        <td id=\"T_dc564_row1_col1\" class=\"data row1 col1\" >0.678539</td>\n",
       "                        <td id=\"T_dc564_row1_col2\" class=\"data row1 col2\" >0.653740</td>\n",
       "            </tr>\n",
       "            <tr>\n",
       "                        <th id=\"T_dc564_level0_row2\" class=\"row_heading level0 row2\" >2</th>\n",
       "                        <td id=\"T_dc564_row2_col0\" class=\"data row2 col0\" >living_area</td>\n",
       "                        <td id=\"T_dc564_row2_col1\" class=\"data row2 col1\" >0.581415</td>\n",
       "                        <td id=\"T_dc564_row2_col2\" class=\"data row2 col2\" >0.566513</td>\n",
       "            </tr>\n",
       "            <tr>\n",
       "                        <th id=\"T_dc564_level0_row3\" class=\"row_heading level0 row3\" >3</th>\n",
       "                        <td id=\"T_dc564_row3_col0\" class=\"data row3 col0\" >kitchen_area</td>\n",
       "                        <td id=\"T_dc564_row3_col1\" class=\"data row3 col1\" >0.397938</td>\n",
       "                        <td id=\"T_dc564_row3_col2\" class=\"data row3 col2\" >0.520233</td>\n",
       "            </tr>\n",
       "            <tr>\n",
       "                        <th id=\"T_dc564_level0_row4\" class=\"row_heading level0 row4\" >4</th>\n",
       "                        <td id=\"T_dc564_row4_col0\" class=\"data row4 col0\" >days_exposition</td>\n",
       "                        <td id=\"T_dc564_row4_col1\" class=\"data row4 col1\" >0.178531</td>\n",
       "                        <td id=\"T_dc564_row4_col2\" class=\"data row4 col2\" >0.080971</td>\n",
       "            </tr>\n",
       "            <tr>\n",
       "                        <th id=\"T_dc564_level0_row5\" class=\"row_heading level0 row5\" >5</th>\n",
       "                        <td id=\"T_dc564_row5_col0\" class=\"data row5 col0\" >price_per_square_meter</td>\n",
       "                        <td id=\"T_dc564_row5_col1\" class=\"data row5 col1\" >0.157142</td>\n",
       "                        <td id=\"T_dc564_row5_col2\" class=\"data row5 col2\" >0.736561</td>\n",
       "            </tr>\n",
       "            <tr>\n",
       "                        <th id=\"T_dc564_level0_row6\" class=\"row_heading level0 row6\" >6</th>\n",
       "                        <td id=\"T_dc564_row6_col0\" class=\"data row6 col0\" >ceiling_height</td>\n",
       "                        <td id=\"T_dc564_row6_col1\" class=\"data row6 col1\" >0.097915</td>\n",
       "                        <td id=\"T_dc564_row6_col2\" class=\"data row6 col2\" >0.085392</td>\n",
       "            </tr>\n",
       "            <tr>\n",
       "                        <th id=\"T_dc564_level0_row7\" class=\"row_heading level0 row7\" >7</th>\n",
       "                        <td id=\"T_dc564_row7_col0\" class=\"data row7 col0\" >total_images</td>\n",
       "                        <td id=\"T_dc564_row7_col1\" class=\"data row7 col1\" >0.085281</td>\n",
       "                        <td id=\"T_dc564_row7_col2\" class=\"data row7 col2\" >0.104540</td>\n",
       "            </tr>\n",
       "            <tr>\n",
       "                        <th id=\"T_dc564_level0_row8\" class=\"row_heading level0 row8\" >8</th>\n",
       "                        <td id=\"T_dc564_row8_col0\" class=\"data row8 col0\" >living_area_to_all_ratio</td>\n",
       "                        <td id=\"T_dc564_row8_col1\" class=\"data row8 col1\" >0.064968</td>\n",
       "                        <td id=\"T_dc564_row8_col2\" class=\"data row8 col2\" >0.002441</td>\n",
       "            </tr>\n",
       "            <tr>\n",
       "                        <th id=\"T_dc564_level0_row9\" class=\"row_heading level0 row9\" >9</th>\n",
       "                        <td id=\"T_dc564_row9_col0\" class=\"data row9 col0\" >floors_total</td>\n",
       "                        <td id=\"T_dc564_row9_col1\" class=\"data row9 col1\" >0.052959</td>\n",
       "                        <td id=\"T_dc564_row9_col2\" class=\"data row9 col2\" >-0.006728</td>\n",
       "            </tr>\n",
       "            <tr>\n",
       "                        <th id=\"T_dc564_level0_row10\" class=\"row_heading level0 row10\" >10</th>\n",
       "                        <td id=\"T_dc564_row10_col0\" class=\"data row10 col0\" >parks_around3000</td>\n",
       "                        <td id=\"T_dc564_row10_col1\" class=\"data row10 col1\" >0.046841</td>\n",
       "                        <td id=\"T_dc564_row10_col2\" class=\"data row10 col2\" >0.197697</td>\n",
       "            </tr>\n",
       "            <tr>\n",
       "                        <th id=\"T_dc564_level0_row11\" class=\"row_heading level0 row11\" >11</th>\n",
       "                        <td id=\"T_dc564_row11_col0\" class=\"data row11 col0\" >ponds_nearest</td>\n",
       "                        <td id=\"T_dc564_row11_col1\" class=\"data row11 col1\" >0.040871</td>\n",
       "                        <td id=\"T_dc564_row11_col2\" class=\"data row11 col2\" >-0.085193</td>\n",
       "            </tr>\n",
       "            <tr>\n",
       "                        <th id=\"T_dc564_level0_row12\" class=\"row_heading level0 row12\" >12</th>\n",
       "                        <td id=\"T_dc564_row12_col0\" class=\"data row12 col0\" >parks_nearest</td>\n",
       "                        <td id=\"T_dc564_row12_col1\" class=\"data row12 col1\" >0.036490</td>\n",
       "                        <td id=\"T_dc564_row12_col2\" class=\"data row12 col2\" >-0.016310</td>\n",
       "            </tr>\n",
       "            <tr>\n",
       "                        <th id=\"T_dc564_level0_row13\" class=\"row_heading level0 row13\" >13</th>\n",
       "                        <td id=\"T_dc564_row13_col0\" class=\"data row13 col0\" >ponds_around3000</td>\n",
       "                        <td id=\"T_dc564_row13_col1\" class=\"data row13 col1\" >-0.005854</td>\n",
       "                        <td id=\"T_dc564_row13_col2\" class=\"data row13 col2\" >0.208835</td>\n",
       "            </tr>\n",
       "            <tr>\n",
       "                        <th id=\"T_dc564_level0_row14\" class=\"row_heading level0 row14\" >14</th>\n",
       "                        <td id=\"T_dc564_row14_col0\" class=\"data row14 col0\" >airports_nearest</td>\n",
       "                        <td id=\"T_dc564_row14_col1\" class=\"data row14 col1\" >-0.006800</td>\n",
       "                        <td id=\"T_dc564_row14_col2\" class=\"data row14 col2\" >-0.026366</td>\n",
       "            </tr>\n",
       "            <tr>\n",
       "                        <th id=\"T_dc564_level0_row15\" class=\"row_heading level0 row15\" >15</th>\n",
       "                        <td id=\"T_dc564_row15_col0\" class=\"data row15 col0\" >cityCenters_nearest_km</td>\n",
       "                        <td id=\"T_dc564_row15_col1\" class=\"data row15 col1\" >-0.100285</td>\n",
       "                        <td id=\"T_dc564_row15_col2\" class=\"data row15 col2\" >-0.046618</td>\n",
       "            </tr>\n",
       "            <tr>\n",
       "                        <th id=\"T_dc564_level0_row16\" class=\"row_heading level0 row16\" >16</th>\n",
       "                        <td id=\"T_dc564_row16_col0\" class=\"data row16 col0\" >cityCenters_nearest</td>\n",
       "                        <td id=\"T_dc564_row16_col1\" class=\"data row16 col1\" >-0.140087</td>\n",
       "                        <td id=\"T_dc564_row16_col2\" class=\"data row16 col2\" >-0.206887</td>\n",
       "            </tr>\n",
       "            <tr>\n",
       "                        <th id=\"T_dc564_level0_row17\" class=\"row_heading level0 row17\" >17</th>\n",
       "                        <td id=\"T_dc564_row17_col0\" class=\"data row17 col0\" >kitchen_area_to_all_ratio</td>\n",
       "                        <td id=\"T_dc564_row17_col1\" class=\"data row17 col1\" >-0.161340</td>\n",
       "                        <td id=\"T_dc564_row17_col2\" class=\"data row17 col2\" >-0.089215</td>\n",
       "            </tr>\n",
       "    </tbody></table>"
      ],
      "text/plain": [
       "<pandas.io.formats.style.Styler at 0x7fb606436490>"
      ]
     },
     "execution_count": 63,
     "metadata": {},
     "output_type": "execute_result"
    }
   ],
   "source": [
    "center_distance = 7\n",
    "\n",
    "\n",
    "df_piter_center_quantitative = df_piter.query('cityCenters_nearest_km < @center_distance')[quantitative_features]\n",
    "\n",
    "\n",
    "# считаем корреляции для центра\n",
    "cor_for_center = df_piter_center_quantitative.corr().sort_values('last_price', ascending=False).filter(\n",
    "    items=['last_price']).reset_index()\n",
    "\n",
    "# считаем корреляции для всего остального\n",
    "cor_for_all = df.corr().sort_values('last_price', ascending=False).filter(items=['last_price']).reset_index()\n",
    "\n",
    "# cклеиваем:\n",
    "result_corr = cor_for_center.merge(cor_for_all, on='index')\n",
    "result_corr = result_corr.rename(columns={'last_price_x': 'stats for center', 'last_price_y': 'stats for all'})\n",
    "result_corr.style.background_gradient('hot')"
   ]
  },
  {
   "cell_type": "markdown",
   "metadata": {},
   "source": [
    "Посмотрим на качественные признаки визуально:"
   ]
  },
  {
   "cell_type": "code",
   "execution_count": 64,
   "metadata": {},
   "outputs": [],
   "source": [
    "center_distance = 7\n",
    "\n",
    "df_piter_center_quality = df_piter.query('cityCenters_nearest_km < @center_distance')[quality_features+ ['last_price']]"
   ]
  },
  {
   "cell_type": "markdown",
   "metadata": {},
   "source": [
    "Во-первых посмотрим на графики:"
   ]
  },
  {
   "cell_type": "code",
   "execution_count": 65,
   "metadata": {
    "scrolled": true
   },
   "outputs": [
    {
     "data": {
      "image/png": "[encoded data removed]",
      "text/plain": [
       "<Figure size 2520x360 with 7 Axes>"
      ]
     },
     "metadata": {
      "needs_background": "light"
     },
     "output_type": "display_data"
    },
    {
     "data": {
      "image/png": "[encoded data removed]",
      "text/plain": [
       "<Figure size 2520x360 with 7 Axes>"
      ]
     },
     "metadata": {
      "needs_background": "light"
     },
     "output_type": "display_data"
    }
   ],
   "source": [
    "sns.pairplot(df_piter_center_quality, x_vars=quality_features, y_vars=['last_price'],   height=5, )\n",
    "sns.pairplot(df_piter, x_vars=quality_features, y_vars=['last_price'],   height=5,)\n",
    "plt.show()"
   ]
  },
  {
   "cell_type": "markdown",
   "metadata": {},
   "source": [
    "У категориальных признаков `'open_plan'`, `'is_apartment'`, `'studio'` наблюдается существенное превалирование одного значения над другим, отбросим эти данные из рассмотрения.\n",
    "\n",
    "Посмотрим на  интересные переменные `'rooms'`, `'floor'`, `'balcony'` отдельно:"
   ]
  },
  {
   "cell_type": "code",
   "execution_count": 66,
   "metadata": {},
   "outputs": [
    {
     "data": {
      "image/png": "[encoded data removed]",
      "text/plain": [
       "<Figure size 1080x360 with 3 Axes>"
      ]
     },
     "metadata": {
      "needs_background": "light"
     },
     "output_type": "display_data"
    },
    {
     "data": {
      "image/png": "[encoded data removed]",
      "text/plain": [
       "<Figure size 1080x360 with 3 Axes>"
      ]
     },
     "metadata": {
      "needs_background": "light"
     },
     "output_type": "display_data"
    }
   ],
   "source": [
    "sns.pairplot(df_piter_center_quality, x_vars=['rooms', 'floor', 'balcony',], y_vars=['last_price'],   height=5, )\n",
    "sns.pairplot(df_piter, x_vars=['rooms', 'floor', 'balcony',], y_vars=['last_price'],   height=5,)\n",
    "plt.show()"
   ]
  },
  {
   "cell_type": "markdown",
   "metadata": {},
   "source": [
    "По графикам сказать что видимой зависимости от цены у признаков `balcony` и `floor` нет, проглядывается тенденция к увеличению средней цены при росте количества комнат для квартир в центре - что логично, \n",
    "Возможно существует более хитрая зависимость, для того что бы обнаружить ее можно использовать multinomial logistic regression, например."
   ]
  },
  {
   "cell_type": "markdown",
   "metadata": {},
   "source": [
    "##### Вывод:\n",
    "в общем данные не сильно отличаются - в центре чуть важнее количество комнат, в общем по всему городу важнее площадь кухни, стоимость квартиры в центре не зависит от наличия парков и прудов, но существенных отличий нет.\n",
    "\n",
    "Из существенных отличий -- цена за квартиру гораздо сильнее зависит от цены за квадратный метр, те от площади, что логично -- в центре вы платите не только и не столько за площадь, сколько за расположение"
   ]
  },
  {
   "cell_type": "markdown",
   "metadata": {},
   "source": [
    "## Общий вывод"
   ]
  },
  {
   "cell_type": "markdown",
   "metadata": {},
   "source": [
    "В Санкт-Петербурге жилье дороже чем в области)\n",
    "В центре города жилье дороже чем в общем по городу)\n",
    "Во всех случаях стоимость зависит от жилой площади и от площади квартиры в общем\n",
    "Выбросы влияют на формирование средней цены и среднее количество комнат и высота потолка не меняются\n",
    "При выставлении квартиры на торги не важно в какой день и месяц ее выставлять -- цена от этого не зависит. Цена дрейфует всесто с экономической ситуацией в стране.\n",
    "\n",
    "Из рекомендаций можно отметить необходимость большего количества обязательных полей -- будет полезно в явном виде указывать наличие балкона, высоту потолка, требовать загрузки хотя-бы 5-6 фотографий, etc.\n",
    "Название населенных пунктов должно выдаваться пользователю в виде списка, информация в котором будет подтянута с картографических сервисов -- это существенно уменьшит путаницу с названиями, и не даст пользователю выставлять на торги квартиру без указания ее реального положения"
   ]
  },
  {
   "cell_type": "markdown",
   "metadata": {},
   "source": [
    "## Чек-лист готовности проекта\n",
    "\n",
    "Поставьте 'x' в выполненных пунктах. Далее нажмите Shift+Enter."
   ]
  },
  {
   "cell_type": "markdown",
   "metadata": {},
   "source": [
    "- [x]  открыт файл\n",
    "- [x]  файлы изучены (выведены первые строки, метод `info()`)\n",
    "- [x]  определены пропущенные значения\n",
    "- [x]  заполнены пропущенные значения\n",
    "- [x]  есть пояснение, какие пропущенные значения обнаружены\n",
    "- [x]  изменены типы данных\n",
    "- [x]  есть пояснение, в каких столбцах изменены типы и почему\n",
    "- [x]  посчитано и добавлено в таблицу: цена квадратного метра\n",
    "- [x]  посчитано и добавлено в таблицу: день недели, месяц и год публикации объявления\n",
    "- [x]  посчитано и добавлено в таблицу: этаж квартиры; варианты — первый, последний, другой\n",
    "- [x]  посчитано и добавлено в таблицу: соотношение жилой и общей площади, а также отношение площади кухни к общей\n",
    "- [x]  изучены следующие параметры: площадь, цена, число комнат, высота потолков\n",
    "- [x]  построены гистограммы для каждого параметра\n",
    "- [x]  выполнено задание: «Изучите время продажи квартиры. Постройте гистограмму. Посчитайте среднее и медиану. Опишите, сколько обычно занимает продажа. Когда можно считать, что продажи прошли очень быстро, а когда необычно долго?»\n",
    "- [x]  выполнено задание: «Уберите редкие и выбивающиеся значения. Опишите, какие особенности обнаружили».\n",
    "- [x]  выполнено задание: «Какие факторы больше всего влияют на стоимость квартиры? Изучите, зависит ли цена от квадратного метра, числа комнат, этажа (первого или последнего), удалённости от центра. Также изучите зависимость от даты размещения: дня недели, месяца и года».\n",
    "- [x]  выполнено задание: «Выберите 10 населённых пунктов с наибольшим числом объявлений. Посчитайте среднюю цену квадратного метра в этих населённых пунктах. Выделите населённые пункты с самой высокой и низкой стоимостью жилья. Эти данные можно найти по имени в столбце `locality_name`».\n",
    "- [x]  выполнено задание: «Изучите предложения квартир: для каждой квартиры есть информация о расстоянии до центра. Выделите квартиры в Санкт-Петербурге (`locality_name`). Ваша задача — выяснить, какая область входит в центр. Создайте столбец с расстоянием до центра в километрах: округлите до целых значений. После этого посчитайте среднюю цену для каждого километра. Постройте график: он должен показывать, как цена зависит от удалённости от центра. Определите границу, где график сильно меняется — это и будет центральная зона».\n",
    "- [x]  выполнено задание: «Выделите сегмент квартир в центре. Проанализируйте эту территорию и изучите следующие параметры: площадь, цена, число комнат, высота потолков. Также выделите факторы, которые влияют на стоимость квартиры (число комнат, этаж, удалённость от центра, дата размещения объявления). Сделайте выводы. Отличаются ли они от общих выводов по всей базе?»\n",
    "- [x]  в каждом этапе есть выводы\n",
    "- [x]  есть общий вывод"
   ]
  },
  {
   "cell_type": "code",
   "execution_count": null,
   "metadata": {},
   "outputs": [],
   "source": []
  }
 ],
 "metadata": {
  "ExecuteTimeLog": [
   {
    "duration": 151,
    "start_time": "2022-04-06T23:11:50.775Z"
   },
   {
    "duration": 823,
    "start_time": "2022-04-06T23:27:29.046Z"
   },
   {
    "duration": 91,
    "start_time": "2022-04-06T23:27:29.871Z"
   },
   {
    "duration": 51,
    "start_time": "2022-04-06T23:27:29.964Z"
   },
   {
    "duration": 18,
    "start_time": "2022-04-06T23:27:30.018Z"
   },
   {
    "duration": 18,
    "start_time": "2022-04-06T23:27:30.038Z"
   },
   {
    "duration": 91,
    "start_time": "2022-04-06T23:27:30.058Z"
   },
   {
    "duration": 26,
    "start_time": "2022-04-06T23:27:30.151Z"
   },
   {
    "duration": 26,
    "start_time": "2022-04-06T23:27:30.179Z"
   },
   {
    "duration": 20,
    "start_time": "2022-04-06T23:27:30.207Z"
   },
   {
    "duration": 20,
    "start_time": "2022-04-06T23:27:30.230Z"
   },
   {
    "duration": 27,
    "start_time": "2022-04-06T23:27:30.252Z"
   },
   {
    "duration": 11,
    "start_time": "2022-04-06T23:27:30.281Z"
   },
   {
    "duration": 25,
    "start_time": "2022-04-06T23:27:30.294Z"
   },
   {
    "duration": 6,
    "start_time": "2022-04-06T23:27:30.322Z"
   },
   {
    "duration": 21,
    "start_time": "2022-04-06T23:27:30.330Z"
   },
   {
    "duration": 15,
    "start_time": "2022-04-06T23:27:30.353Z"
   },
   {
    "duration": 17,
    "start_time": "2022-04-06T23:27:30.370Z"
   },
   {
    "duration": 15,
    "start_time": "2022-04-06T23:27:30.389Z"
   },
   {
    "duration": 14,
    "start_time": "2022-04-06T23:27:30.406Z"
   },
   {
    "duration": 5,
    "start_time": "2022-04-06T23:27:30.422Z"
   },
   {
    "duration": 34,
    "start_time": "2022-04-06T23:27:30.428Z"
   },
   {
    "duration": 63,
    "start_time": "2022-04-06T23:27:30.464Z"
   },
   {
    "duration": 24,
    "start_time": "2022-04-06T23:27:30.529Z"
   },
   {
    "duration": 6,
    "start_time": "2022-04-06T23:27:30.556Z"
   },
   {
    "duration": 16,
    "start_time": "2022-04-06T23:27:30.564Z"
   },
   {
    "duration": 7,
    "start_time": "2022-04-06T23:27:30.601Z"
   },
   {
    "duration": 18,
    "start_time": "2022-04-06T23:27:30.610Z"
   },
   {
    "duration": 48,
    "start_time": "2022-04-06T23:27:30.633Z"
   },
   {
    "duration": 73,
    "start_time": "2022-04-06T23:27:30.683Z"
   },
   {
    "duration": 4,
    "start_time": "2022-04-06T23:27:30.758Z"
   },
   {
    "duration": 19,
    "start_time": "2022-04-06T23:27:30.764Z"
   },
   {
    "duration": 357,
    "start_time": "2022-04-06T23:27:30.786Z"
   },
   {
    "duration": 5,
    "start_time": "2022-04-06T23:27:31.145Z"
   },
   {
    "duration": 9,
    "start_time": "2022-04-06T23:27:31.151Z"
   },
   {
    "duration": 20,
    "start_time": "2022-04-06T23:27:31.162Z"
   },
   {
    "duration": 44,
    "start_time": "2022-04-06T23:27:31.184Z"
   },
   {
    "duration": 134,
    "start_time": "2022-04-06T23:27:31.230Z"
   },
   {
    "duration": 5,
    "start_time": "2022-04-06T23:27:31.366Z"
   },
   {
    "duration": 18,
    "start_time": "2022-04-06T23:27:31.373Z"
   },
   {
    "duration": 149,
    "start_time": "2022-04-06T23:27:31.393Z"
   },
   {
    "duration": 9,
    "start_time": "2022-04-06T23:27:31.545Z"
   },
   {
    "duration": 368,
    "start_time": "2022-04-06T23:27:31.556Z"
   },
   {
    "duration": 102,
    "start_time": "2022-04-06T23:27:31.926Z"
   },
   {
    "duration": 359,
    "start_time": "2022-04-06T23:27:32.031Z"
   },
   {
    "duration": 109,
    "start_time": "2022-04-06T23:27:32.392Z"
   },
   {
    "duration": 461,
    "start_time": "2022-04-06T23:27:32.503Z"
   },
   {
    "duration": 106,
    "start_time": "2022-04-06T23:27:32.966Z"
   },
   {
    "duration": 359,
    "start_time": "2022-04-06T23:27:33.074Z"
   },
   {
    "duration": 35,
    "start_time": "2022-04-06T23:27:33.435Z"
   },
   {
    "duration": 250,
    "start_time": "2022-04-06T23:27:33.472Z"
   },
   {
    "duration": 10,
    "start_time": "2022-04-06T23:27:33.724Z"
   },
   {
    "duration": 7,
    "start_time": "2022-04-06T23:27:33.736Z"
   },
   {
    "duration": 152,
    "start_time": "2022-04-06T23:27:33.745Z"
   },
   {
    "duration": 0,
    "start_time": "2022-04-06T23:27:33.901Z"
   },
   {
    "duration": 0,
    "start_time": "2022-04-06T23:27:33.903Z"
   },
   {
    "duration": 0,
    "start_time": "2022-04-06T23:27:33.904Z"
   },
   {
    "duration": 0,
    "start_time": "2022-04-06T23:27:33.906Z"
   },
   {
    "duration": 0,
    "start_time": "2022-04-06T23:27:33.907Z"
   },
   {
    "duration": 0,
    "start_time": "2022-04-06T23:27:33.908Z"
   },
   {
    "duration": 0,
    "start_time": "2022-04-06T23:27:33.909Z"
   },
   {
    "duration": 0,
    "start_time": "2022-04-06T23:27:33.910Z"
   },
   {
    "duration": 0,
    "start_time": "2022-04-06T23:27:33.911Z"
   },
   {
    "duration": 0,
    "start_time": "2022-04-06T23:27:33.913Z"
   },
   {
    "duration": 23,
    "start_time": "2022-04-06T23:29:44.681Z"
   },
   {
    "duration": 22,
    "start_time": "2022-04-06T23:29:59.894Z"
   },
   {
    "duration": 21,
    "start_time": "2022-04-06T23:30:58.391Z"
   },
   {
    "duration": 21,
    "start_time": "2022-04-06T23:31:09.369Z"
   },
   {
    "duration": 190,
    "start_time": "2022-04-06T23:31:09.393Z"
   },
   {
    "duration": 226,
    "start_time": "2022-04-06T23:31:09.585Z"
   },
   {
    "duration": 382,
    "start_time": "2022-04-06T23:31:09.813Z"
   },
   {
    "duration": 222,
    "start_time": "2022-04-06T23:31:10.202Z"
   },
   {
    "duration": 144,
    "start_time": "2022-04-06T23:31:10.426Z"
   },
   {
    "duration": 0,
    "start_time": "2022-04-06T23:31:10.572Z"
   },
   {
    "duration": 0,
    "start_time": "2022-04-06T23:31:10.573Z"
   },
   {
    "duration": 0,
    "start_time": "2022-04-06T23:31:10.574Z"
   },
   {
    "duration": 0,
    "start_time": "2022-04-06T23:31:10.576Z"
   },
   {
    "duration": 0,
    "start_time": "2022-04-06T23:31:10.577Z"
   },
   {
    "duration": 37,
    "start_time": "2022-04-06T23:31:26.896Z"
   },
   {
    "duration": 6,
    "start_time": "2022-04-06T23:31:54.887Z"
   },
   {
    "duration": 39,
    "start_time": "2022-04-06T23:31:56.501Z"
   },
   {
    "duration": 172,
    "start_time": "2022-04-06T23:31:59.139Z"
   },
   {
    "duration": 79,
    "start_time": "2022-04-06T23:32:25.952Z"
   },
   {
    "duration": 675,
    "start_time": "2022-04-06T23:32:56.116Z"
   },
   {
    "duration": 89,
    "start_time": "2022-04-06T23:32:56.793Z"
   },
   {
    "duration": 40,
    "start_time": "2022-04-06T23:32:56.884Z"
   },
   {
    "duration": 18,
    "start_time": "2022-04-06T23:32:56.926Z"
   },
   {
    "duration": 10,
    "start_time": "2022-04-06T23:32:56.946Z"
   },
   {
    "duration": 99,
    "start_time": "2022-04-06T23:32:56.958Z"
   },
   {
    "duration": 26,
    "start_time": "2022-04-06T23:32:57.059Z"
   },
   {
    "duration": 24,
    "start_time": "2022-04-06T23:32:57.086Z"
   },
   {
    "duration": 10,
    "start_time": "2022-04-06T23:32:57.112Z"
   },
   {
    "duration": 9,
    "start_time": "2022-04-06T23:32:57.124Z"
   },
   {
    "duration": 8,
    "start_time": "2022-04-06T23:32:57.135Z"
   },
   {
    "duration": 7,
    "start_time": "2022-04-06T23:32:57.145Z"
   },
   {
    "duration": 49,
    "start_time": "2022-04-06T23:32:57.153Z"
   },
   {
    "duration": 6,
    "start_time": "2022-04-06T23:32:57.206Z"
   },
   {
    "duration": 15,
    "start_time": "2022-04-06T23:32:57.214Z"
   },
   {
    "duration": 14,
    "start_time": "2022-04-06T23:32:57.231Z"
   },
   {
    "duration": 12,
    "start_time": "2022-04-06T23:32:57.246Z"
   },
   {
    "duration": 6,
    "start_time": "2022-04-06T23:32:57.260Z"
   },
   {
    "duration": 37,
    "start_time": "2022-04-06T23:32:57.267Z"
   },
   {
    "duration": 4,
    "start_time": "2022-04-06T23:32:57.306Z"
   },
   {
    "duration": 27,
    "start_time": "2022-04-06T23:32:57.312Z"
   },
   {
    "duration": 67,
    "start_time": "2022-04-06T23:32:57.340Z"
   },
   {
    "duration": 24,
    "start_time": "2022-04-06T23:32:57.409Z"
   },
   {
    "duration": 6,
    "start_time": "2022-04-06T23:32:57.435Z"
   },
   {
    "duration": 16,
    "start_time": "2022-04-06T23:32:57.443Z"
   },
   {
    "duration": 8,
    "start_time": "2022-04-06T23:32:57.461Z"
   },
   {
    "duration": 41,
    "start_time": "2022-04-06T23:32:57.471Z"
   },
   {
    "duration": 30,
    "start_time": "2022-04-06T23:32:57.514Z"
   },
   {
    "duration": 86,
    "start_time": "2022-04-06T23:32:57.546Z"
   },
   {
    "duration": 3,
    "start_time": "2022-04-06T23:32:57.634Z"
   },
   {
    "duration": 17,
    "start_time": "2022-04-06T23:32:57.639Z"
   },
   {
    "duration": 348,
    "start_time": "2022-04-06T23:32:57.657Z"
   },
   {
    "duration": 5,
    "start_time": "2022-04-06T23:32:58.007Z"
   },
   {
    "duration": 7,
    "start_time": "2022-04-06T23:32:58.013Z"
   },
   {
    "duration": 18,
    "start_time": "2022-04-06T23:32:58.022Z"
   },
   {
    "duration": 28,
    "start_time": "2022-04-06T23:32:58.042Z"
   },
   {
    "duration": 156,
    "start_time": "2022-04-06T23:32:58.072Z"
   },
   {
    "duration": 5,
    "start_time": "2022-04-06T23:32:58.229Z"
   },
   {
    "duration": 6,
    "start_time": "2022-04-06T23:32:58.236Z"
   },
   {
    "duration": 153,
    "start_time": "2022-04-06T23:32:58.243Z"
   },
   {
    "duration": 9,
    "start_time": "2022-04-06T23:32:58.403Z"
   },
   {
    "duration": 364,
    "start_time": "2022-04-06T23:32:58.414Z"
   },
   {
    "duration": 98,
    "start_time": "2022-04-06T23:32:58.780Z"
   },
   {
    "duration": 350,
    "start_time": "2022-04-06T23:32:58.880Z"
   },
   {
    "duration": 101,
    "start_time": "2022-04-06T23:32:59.232Z"
   },
   {
    "duration": 446,
    "start_time": "2022-04-06T23:32:59.335Z"
   },
   {
    "duration": 95,
    "start_time": "2022-04-06T23:32:59.783Z"
   },
   {
    "duration": 355,
    "start_time": "2022-04-06T23:32:59.880Z"
   },
   {
    "duration": 34,
    "start_time": "2022-04-06T23:33:00.237Z"
   },
   {
    "duration": 245,
    "start_time": "2022-04-06T23:33:00.273Z"
   },
   {
    "duration": 10,
    "start_time": "2022-04-06T23:33:00.520Z"
   },
   {
    "duration": 7,
    "start_time": "2022-04-06T23:33:00.532Z"
   },
   {
    "duration": 83,
    "start_time": "2022-04-06T23:33:00.541Z"
   },
   {
    "duration": 194,
    "start_time": "2022-04-06T23:33:00.625Z"
   },
   {
    "duration": 232,
    "start_time": "2022-04-06T23:33:00.821Z"
   },
   {
    "duration": 380,
    "start_time": "2022-04-06T23:33:01.055Z"
   },
   {
    "duration": 225,
    "start_time": "2022-04-06T23:33:01.437Z"
   },
   {
    "duration": 51,
    "start_time": "2022-04-06T23:33:01.664Z"
   },
   {
    "duration": 6,
    "start_time": "2022-04-06T23:33:01.717Z"
   },
   {
    "duration": 60,
    "start_time": "2022-04-06T23:33:01.725Z"
   },
   {
    "duration": 187,
    "start_time": "2022-04-06T23:33:01.787Z"
   },
   {
    "duration": 95,
    "start_time": "2022-04-06T23:33:01.976Z"
   },
   {
    "duration": 698,
    "start_time": "2022-04-17T13:36:57.771Z"
   },
   {
    "duration": 79,
    "start_time": "2022-04-17T13:36:58.471Z"
   },
   {
    "duration": 31,
    "start_time": "2022-04-17T13:36:58.552Z"
   },
   {
    "duration": 19,
    "start_time": "2022-04-17T13:36:58.585Z"
   },
   {
    "duration": 8,
    "start_time": "2022-04-17T13:36:58.605Z"
   },
   {
    "duration": 60,
    "start_time": "2022-04-17T13:36:58.614Z"
   },
   {
    "duration": 42,
    "start_time": "2022-04-17T13:36:58.675Z"
   },
   {
    "duration": 9,
    "start_time": "2022-04-17T13:36:58.718Z"
   },
   {
    "duration": 7,
    "start_time": "2022-04-17T13:36:58.729Z"
   },
   {
    "duration": 6,
    "start_time": "2022-04-17T13:36:58.739Z"
   },
   {
    "duration": 12,
    "start_time": "2022-04-17T13:36:58.747Z"
   },
   {
    "duration": 4,
    "start_time": "2022-04-17T13:36:58.760Z"
   },
   {
    "duration": 36,
    "start_time": "2022-04-17T13:36:58.766Z"
   },
   {
    "duration": 5,
    "start_time": "2022-04-17T13:36:58.803Z"
   },
   {
    "duration": 11,
    "start_time": "2022-04-17T13:36:58.809Z"
   },
   {
    "duration": 5,
    "start_time": "2022-04-17T13:36:58.822Z"
   },
   {
    "duration": 9,
    "start_time": "2022-04-17T13:36:58.828Z"
   },
   {
    "duration": 5,
    "start_time": "2022-04-17T13:36:58.838Z"
   },
   {
    "duration": 7,
    "start_time": "2022-04-17T13:36:58.844Z"
   },
   {
    "duration": 4,
    "start_time": "2022-04-17T13:36:58.852Z"
   },
   {
    "duration": 53,
    "start_time": "2022-04-17T13:36:58.858Z"
   },
   {
    "duration": 36,
    "start_time": "2022-04-17T13:36:58.913Z"
   },
   {
    "duration": 22,
    "start_time": "2022-04-17T13:36:58.951Z"
   },
   {
    "duration": 30,
    "start_time": "2022-04-17T13:36:58.974Z"
   },
   {
    "duration": 8,
    "start_time": "2022-04-17T13:36:59.006Z"
   },
   {
    "duration": 5,
    "start_time": "2022-04-17T13:36:59.016Z"
   },
   {
    "duration": 13,
    "start_time": "2022-04-17T13:36:59.023Z"
   },
   {
    "duration": 25,
    "start_time": "2022-04-17T13:36:59.041Z"
   },
   {
    "duration": 87,
    "start_time": "2022-04-17T13:36:59.068Z"
   },
   {
    "duration": 4,
    "start_time": "2022-04-17T13:36:59.157Z"
   },
   {
    "duration": 13,
    "start_time": "2022-04-17T13:36:59.162Z"
   },
   {
    "duration": 317,
    "start_time": "2022-04-17T13:36:59.176Z"
   },
   {
    "duration": 8,
    "start_time": "2022-04-17T13:36:59.494Z"
   },
   {
    "duration": 5,
    "start_time": "2022-04-17T13:36:59.504Z"
   },
   {
    "duration": 16,
    "start_time": "2022-04-17T13:36:59.511Z"
   },
   {
    "duration": 24,
    "start_time": "2022-04-17T13:36:59.529Z"
   },
   {
    "duration": 124,
    "start_time": "2022-04-17T13:36:59.554Z"
   },
   {
    "duration": 4,
    "start_time": "2022-04-17T13:36:59.679Z"
   },
   {
    "duration": 8,
    "start_time": "2022-04-17T13:36:59.685Z"
   },
   {
    "duration": 113,
    "start_time": "2022-04-17T13:36:59.699Z"
   },
   {
    "duration": 7,
    "start_time": "2022-04-17T13:36:59.814Z"
   },
   {
    "duration": 323,
    "start_time": "2022-04-17T13:36:59.822Z"
   },
   {
    "duration": 90,
    "start_time": "2022-04-17T13:37:00.147Z"
   },
   {
    "duration": 322,
    "start_time": "2022-04-17T13:37:00.238Z"
   },
   {
    "duration": 87,
    "start_time": "2022-04-17T13:37:00.561Z"
   },
   {
    "duration": 407,
    "start_time": "2022-04-17T13:37:00.649Z"
   },
   {
    "duration": 82,
    "start_time": "2022-04-17T13:37:01.058Z"
   },
   {
    "duration": 311,
    "start_time": "2022-04-17T13:37:01.141Z"
   },
   {
    "duration": 29,
    "start_time": "2022-04-17T13:37:01.453Z"
   },
   {
    "duration": 218,
    "start_time": "2022-04-17T13:37:01.484Z"
   },
   {
    "duration": 9,
    "start_time": "2022-04-17T13:37:01.704Z"
   },
   {
    "duration": 6,
    "start_time": "2022-04-17T13:37:01.714Z"
   },
   {
    "duration": 58,
    "start_time": "2022-04-17T13:37:01.722Z"
   },
   {
    "duration": 171,
    "start_time": "2022-04-17T13:37:01.800Z"
   },
   {
    "duration": 201,
    "start_time": "2022-04-17T13:37:01.972Z"
   },
   {
    "duration": 316,
    "start_time": "2022-04-17T13:37:02.175Z"
   },
   {
    "duration": 191,
    "start_time": "2022-04-17T13:37:02.492Z"
   },
   {
    "duration": 39,
    "start_time": "2022-04-17T13:37:02.684Z"
   },
   {
    "duration": 4,
    "start_time": "2022-04-17T13:37:02.725Z"
   },
   {
    "duration": 35,
    "start_time": "2022-04-17T13:37:02.730Z"
   },
   {
    "duration": 162,
    "start_time": "2022-04-17T13:37:02.766Z"
   },
   {
    "duration": 82,
    "start_time": "2022-04-17T13:37:02.930Z"
   },
   {
    "duration": 639,
    "start_time": "2022-04-17T14:14:28.901Z"
   },
   {
    "duration": 87,
    "start_time": "2022-04-17T14:14:29.541Z"
   },
   {
    "duration": 30,
    "start_time": "2022-04-17T14:14:29.629Z"
   },
   {
    "duration": 13,
    "start_time": "2022-04-17T14:14:29.661Z"
   },
   {
    "duration": 7,
    "start_time": "2022-04-17T14:14:29.676Z"
   },
   {
    "duration": 69,
    "start_time": "2022-04-17T14:14:29.685Z"
   },
   {
    "duration": 20,
    "start_time": "2022-04-17T14:14:29.756Z"
   },
   {
    "duration": 25,
    "start_time": "2022-04-17T14:14:29.778Z"
   },
   {
    "duration": 6,
    "start_time": "2022-04-17T14:14:29.805Z"
   },
   {
    "duration": 4,
    "start_time": "2022-04-17T14:14:29.813Z"
   },
   {
    "duration": 5,
    "start_time": "2022-04-17T14:14:29.819Z"
   },
   {
    "duration": 5,
    "start_time": "2022-04-17T14:14:29.825Z"
   },
   {
    "duration": 31,
    "start_time": "2022-04-17T14:14:29.831Z"
   },
   {
    "duration": 5,
    "start_time": "2022-04-17T14:14:29.864Z"
   },
   {
    "duration": 34,
    "start_time": "2022-04-17T14:14:29.870Z"
   },
   {
    "duration": 6,
    "start_time": "2022-04-17T14:14:29.905Z"
   },
   {
    "duration": 11,
    "start_time": "2022-04-17T14:14:29.955Z"
   },
   {
    "duration": 5,
    "start_time": "2022-04-17T14:14:29.967Z"
   },
   {
    "duration": 7,
    "start_time": "2022-04-17T14:14:29.973Z"
   },
   {
    "duration": 3,
    "start_time": "2022-04-17T14:14:29.982Z"
   },
   {
    "duration": 22,
    "start_time": "2022-04-17T14:14:29.986Z"
   },
   {
    "duration": 37,
    "start_time": "2022-04-17T14:14:30.009Z"
   },
   {
    "duration": 19,
    "start_time": "2022-04-17T14:14:30.047Z"
   },
   {
    "duration": 5,
    "start_time": "2022-04-17T14:14:30.067Z"
   },
   {
    "duration": 32,
    "start_time": "2022-04-17T14:14:30.073Z"
   },
   {
    "duration": 5,
    "start_time": "2022-04-17T14:14:30.107Z"
   },
   {
    "duration": 14,
    "start_time": "2022-04-17T14:14:30.114Z"
   },
   {
    "duration": 24,
    "start_time": "2022-04-17T14:14:30.130Z"
   },
   {
    "duration": 74,
    "start_time": "2022-04-17T14:14:30.155Z"
   },
   {
    "duration": 3,
    "start_time": "2022-04-17T14:14:30.231Z"
   },
   {
    "duration": 12,
    "start_time": "2022-04-17T14:14:30.256Z"
   },
   {
    "duration": 298,
    "start_time": "2022-04-17T14:14:30.393Z"
   },
   {
    "duration": 4,
    "start_time": "2022-04-17T14:14:30.693Z"
   },
   {
    "duration": 9,
    "start_time": "2022-04-17T14:14:30.700Z"
   },
   {
    "duration": 19,
    "start_time": "2022-04-17T14:14:30.710Z"
   },
   {
    "duration": 23,
    "start_time": "2022-04-17T14:14:30.730Z"
   },
   {
    "duration": 119,
    "start_time": "2022-04-17T14:14:30.755Z"
   },
   {
    "duration": 4,
    "start_time": "2022-04-17T14:14:30.875Z"
   },
   {
    "duration": 10,
    "start_time": "2022-04-17T14:14:30.880Z"
   },
   {
    "duration": 125,
    "start_time": "2022-04-17T14:14:30.891Z"
   },
   {
    "duration": 7,
    "start_time": "2022-04-17T14:14:31.018Z"
   },
   {
    "duration": 331,
    "start_time": "2022-04-17T14:14:31.026Z"
   },
   {
    "duration": 93,
    "start_time": "2022-04-17T14:14:31.360Z"
   },
   {
    "duration": 314,
    "start_time": "2022-04-17T14:14:31.454Z"
   },
   {
    "duration": 92,
    "start_time": "2022-04-17T14:14:31.769Z"
   },
   {
    "duration": 399,
    "start_time": "2022-04-17T14:14:31.862Z"
   },
   {
    "duration": 86,
    "start_time": "2022-04-17T14:14:32.263Z"
   },
   {
    "duration": 314,
    "start_time": "2022-04-17T14:14:32.350Z"
   },
   {
    "duration": 34,
    "start_time": "2022-04-17T14:14:32.666Z"
   },
   {
    "duration": 204,
    "start_time": "2022-04-17T14:14:32.702Z"
   },
   {
    "duration": 8,
    "start_time": "2022-04-17T14:14:32.907Z"
   },
   {
    "duration": 5,
    "start_time": "2022-04-17T14:14:32.917Z"
   },
   {
    "duration": 56,
    "start_time": "2022-04-17T14:14:32.924Z"
   },
   {
    "duration": 163,
    "start_time": "2022-04-17T14:14:32.999Z"
   },
   {
    "duration": 207,
    "start_time": "2022-04-17T14:14:33.163Z"
   },
   {
    "duration": 320,
    "start_time": "2022-04-17T14:14:33.371Z"
   },
   {
    "duration": 197,
    "start_time": "2022-04-17T14:14:33.693Z"
   },
   {
    "duration": 34,
    "start_time": "2022-04-17T14:14:33.892Z"
   },
   {
    "duration": 5,
    "start_time": "2022-04-17T14:14:33.927Z"
   },
   {
    "duration": 35,
    "start_time": "2022-04-17T14:14:33.933Z"
   },
   {
    "duration": 170,
    "start_time": "2022-04-17T14:14:33.969Z"
   },
   {
    "duration": 82,
    "start_time": "2022-04-17T14:14:34.140Z"
   },
   {
    "duration": 156,
    "start_time": "2022-04-18T16:46:15.149Z"
   },
   {
    "duration": 137,
    "start_time": "2022-04-18T16:51:51.284Z"
   },
   {
    "duration": 791,
    "start_time": "2022-04-18T16:54:13.637Z"
   },
   {
    "duration": 74,
    "start_time": "2022-04-18T16:54:14.430Z"
   },
   {
    "duration": 31,
    "start_time": "2022-04-18T16:54:14.506Z"
   },
   {
    "duration": 27,
    "start_time": "2022-04-18T16:54:14.539Z"
   },
   {
    "duration": 9,
    "start_time": "2022-04-18T16:54:14.567Z"
   },
   {
    "duration": 65,
    "start_time": "2022-04-18T16:54:14.577Z"
   },
   {
    "duration": 40,
    "start_time": "2022-04-18T16:54:14.643Z"
   },
   {
    "duration": 13,
    "start_time": "2022-04-18T16:54:14.685Z"
   },
   {
    "duration": 16,
    "start_time": "2022-04-18T16:54:14.700Z"
   },
   {
    "duration": 10,
    "start_time": "2022-04-18T16:54:14.719Z"
   },
   {
    "duration": 9,
    "start_time": "2022-04-18T16:54:14.730Z"
   },
   {
    "duration": 5,
    "start_time": "2022-04-18T16:54:14.754Z"
   },
   {
    "duration": 27,
    "start_time": "2022-04-18T16:54:14.761Z"
   },
   {
    "duration": 6,
    "start_time": "2022-04-18T16:54:14.789Z"
   },
   {
    "duration": 14,
    "start_time": "2022-04-18T16:54:14.797Z"
   },
   {
    "duration": 7,
    "start_time": "2022-04-18T16:54:14.813Z"
   },
   {
    "duration": 34,
    "start_time": "2022-04-18T16:54:14.821Z"
   },
   {
    "duration": 5,
    "start_time": "2022-04-18T16:54:14.857Z"
   },
   {
    "duration": 8,
    "start_time": "2022-04-18T16:54:14.864Z"
   },
   {
    "duration": 5,
    "start_time": "2022-04-18T16:54:14.873Z"
   },
   {
    "duration": 27,
    "start_time": "2022-04-18T16:54:14.879Z"
   },
   {
    "duration": 59,
    "start_time": "2022-04-18T16:54:14.908Z"
   },
   {
    "duration": 24,
    "start_time": "2022-04-18T16:54:14.969Z"
   },
   {
    "duration": 6,
    "start_time": "2022-04-18T16:54:14.995Z"
   },
   {
    "duration": 25,
    "start_time": "2022-04-18T16:54:15.004Z"
   },
   {
    "duration": 65,
    "start_time": "2022-04-18T16:54:15.031Z"
   },
   {
    "duration": 16,
    "start_time": "2022-04-18T16:54:15.098Z"
   },
   {
    "duration": 26,
    "start_time": "2022-04-18T16:54:15.118Z"
   },
   {
    "duration": 67,
    "start_time": "2022-04-18T16:54:15.146Z"
   },
   {
    "duration": 4,
    "start_time": "2022-04-18T16:54:15.215Z"
   },
   {
    "duration": 14,
    "start_time": "2022-04-18T16:54:15.221Z"
   },
   {
    "duration": 321,
    "start_time": "2022-04-18T16:54:15.236Z"
   },
   {
    "duration": 4,
    "start_time": "2022-04-18T16:54:15.558Z"
   },
   {
    "duration": 6,
    "start_time": "2022-04-18T16:54:15.564Z"
   },
   {
    "duration": 16,
    "start_time": "2022-04-18T16:54:15.571Z"
   },
   {
    "duration": 25,
    "start_time": "2022-04-18T16:54:15.588Z"
   },
   {
    "duration": 126,
    "start_time": "2022-04-18T16:54:15.615Z"
   },
   {
    "duration": 4,
    "start_time": "2022-04-18T16:54:15.743Z"
   },
   {
    "duration": 4,
    "start_time": "2022-04-18T16:54:15.754Z"
   },
   {
    "duration": 123,
    "start_time": "2022-04-18T16:54:15.759Z"
   },
   {
    "duration": 8,
    "start_time": "2022-04-18T16:54:15.884Z"
   },
   {
    "duration": 321,
    "start_time": "2022-04-18T16:54:19.765Z"
   },
   {
    "duration": 334,
    "start_time": "2022-04-18T16:54:29.640Z"
   },
   {
    "duration": 330,
    "start_time": "2022-04-18T16:54:36.172Z"
   },
   {
    "duration": 144,
    "start_time": "2022-04-18T16:55:00.601Z"
   },
   {
    "duration": 426,
    "start_time": "2022-04-18T16:55:52.869Z"
   },
   {
    "duration": 346,
    "start_time": "2022-04-18T16:56:02.684Z"
   },
   {
    "duration": 356,
    "start_time": "2022-04-18T16:56:20.596Z"
   },
   {
    "duration": 143,
    "start_time": "2022-04-18T16:59:35.135Z"
   },
   {
    "duration": 2,
    "start_time": "2022-04-18T18:57:18.881Z"
   },
   {
    "duration": 77,
    "start_time": "2022-04-18T18:57:18.885Z"
   },
   {
    "duration": 26,
    "start_time": "2022-04-18T18:57:18.964Z"
   },
   {
    "duration": 14,
    "start_time": "2022-04-18T18:57:18.992Z"
   },
   {
    "duration": 8,
    "start_time": "2022-04-18T18:57:19.008Z"
   },
   {
    "duration": 94,
    "start_time": "2022-04-18T18:57:19.017Z"
   },
   {
    "duration": 20,
    "start_time": "2022-04-18T18:57:19.112Z"
   },
   {
    "duration": 27,
    "start_time": "2022-04-18T18:57:19.134Z"
   },
   {
    "duration": 9,
    "start_time": "2022-04-18T18:57:19.164Z"
   },
   {
    "duration": 8,
    "start_time": "2022-04-18T18:57:19.174Z"
   },
   {
    "duration": 7,
    "start_time": "2022-04-18T18:57:19.184Z"
   },
   {
    "duration": 8,
    "start_time": "2022-04-18T18:57:19.193Z"
   },
   {
    "duration": 58,
    "start_time": "2022-04-18T18:57:19.202Z"
   },
   {
    "duration": 6,
    "start_time": "2022-04-18T18:57:19.261Z"
   },
   {
    "duration": 14,
    "start_time": "2022-04-18T18:57:19.269Z"
   },
   {
    "duration": 7,
    "start_time": "2022-04-18T18:57:19.285Z"
   },
   {
    "duration": 8,
    "start_time": "2022-04-18T18:57:19.294Z"
   },
   {
    "duration": 6,
    "start_time": "2022-04-18T18:57:19.303Z"
   },
   {
    "duration": 7,
    "start_time": "2022-04-18T18:57:19.311Z"
   },
   {
    "duration": 35,
    "start_time": "2022-04-18T18:57:19.320Z"
   },
   {
    "duration": 20,
    "start_time": "2022-04-18T18:57:19.356Z"
   },
   {
    "duration": 36,
    "start_time": "2022-04-18T18:57:19.378Z"
   },
   {
    "duration": 45,
    "start_time": "2022-04-18T18:57:19.416Z"
   },
   {
    "duration": 6,
    "start_time": "2022-04-18T18:57:19.465Z"
   },
   {
    "duration": 13,
    "start_time": "2022-04-18T18:57:19.472Z"
   },
   {
    "duration": 9,
    "start_time": "2022-04-18T18:57:19.486Z"
   },
   {
    "duration": 14,
    "start_time": "2022-04-18T18:57:19.496Z"
   },
   {
    "duration": 46,
    "start_time": "2022-04-18T18:57:19.511Z"
   },
   {
    "duration": 58,
    "start_time": "2022-04-18T18:57:19.559Z"
   },
   {
    "duration": 3,
    "start_time": "2022-04-18T18:57:19.619Z"
   },
   {
    "duration": 14,
    "start_time": "2022-04-18T18:57:19.624Z"
   },
   {
    "duration": 374,
    "start_time": "2022-04-18T18:57:19.655Z"
   },
   {
    "duration": 4,
    "start_time": "2022-04-18T18:57:20.031Z"
   },
   {
    "duration": 17,
    "start_time": "2022-04-18T18:57:20.037Z"
   },
   {
    "duration": 15,
    "start_time": "2022-04-18T18:57:20.056Z"
   },
   {
    "duration": 23,
    "start_time": "2022-04-18T18:57:20.073Z"
   },
   {
    "duration": 106,
    "start_time": "2022-04-18T18:57:20.097Z"
   },
   {
    "duration": 4,
    "start_time": "2022-04-18T18:57:20.204Z"
   },
   {
    "duration": 10,
    "start_time": "2022-04-18T18:57:20.209Z"
   },
   {
    "duration": 82,
    "start_time": "2022-04-18T18:57:20.221Z"
   },
   {
    "duration": 9,
    "start_time": "2022-04-18T18:57:20.305Z"
   },
   {
    "duration": 346,
    "start_time": "2022-04-18T18:57:20.316Z"
   },
   {
    "duration": 94,
    "start_time": "2022-04-18T18:57:20.664Z"
   },
   {
    "duration": 323,
    "start_time": "2022-04-18T18:57:20.760Z"
   },
   {
    "duration": 91,
    "start_time": "2022-04-18T18:57:21.085Z"
   },
   {
    "duration": 402,
    "start_time": "2022-04-18T18:57:21.178Z"
   },
   {
    "duration": 92,
    "start_time": "2022-04-18T18:57:21.582Z"
   },
   {
    "duration": 315,
    "start_time": "2022-04-18T18:57:21.676Z"
   },
   {
    "duration": 33,
    "start_time": "2022-04-18T18:57:21.993Z"
   },
   {
    "duration": 317,
    "start_time": "2022-04-18T18:57:22.028Z"
   },
   {
    "duration": 14,
    "start_time": "2022-04-18T18:57:22.347Z"
   },
   {
    "duration": 5,
    "start_time": "2022-04-18T18:57:22.363Z"
   },
   {
    "duration": 55,
    "start_time": "2022-04-18T18:57:22.370Z"
   },
   {
    "duration": 189,
    "start_time": "2022-04-18T18:57:22.427Z"
   },
   {
    "duration": 196,
    "start_time": "2022-04-18T18:57:22.618Z"
   },
   {
    "duration": 332,
    "start_time": "2022-04-18T18:57:22.816Z"
   },
   {
    "duration": 198,
    "start_time": "2022-04-18T18:57:23.150Z"
   },
   {
    "duration": 36,
    "start_time": "2022-04-18T18:57:23.350Z"
   },
   {
    "duration": 4,
    "start_time": "2022-04-18T18:57:23.388Z"
   },
   {
    "duration": 50,
    "start_time": "2022-04-18T18:57:23.393Z"
   },
   {
    "duration": 158,
    "start_time": "2022-04-18T18:57:23.444Z"
   },
   {
    "duration": 3,
    "start_time": "2022-04-18T18:57:23.603Z"
   },
   {
    "duration": 77,
    "start_time": "2022-04-18T18:57:26.914Z"
   },
   {
    "duration": 107,
    "start_time": "2022-04-18T18:57:32.770Z"
   },
   {
    "duration": 2149,
    "start_time": "2022-04-18T18:57:45.783Z"
   },
   {
    "duration": 4,
    "start_time": "2022-04-18T18:57:57.666Z"
   },
   {
    "duration": 4,
    "start_time": "2022-04-18T18:58:14.348Z"
   },
   {
    "duration": 5,
    "start_time": "2022-04-18T18:58:20.276Z"
   },
   {
    "duration": 4,
    "start_time": "2022-04-18T18:58:31.598Z"
   },
   {
    "duration": 6,
    "start_time": "2022-04-18T18:59:08.673Z"
   },
   {
    "duration": 6,
    "start_time": "2022-04-18T18:59:32.289Z"
   },
   {
    "duration": 6,
    "start_time": "2022-04-18T18:59:36.893Z"
   },
   {
    "duration": 1008,
    "start_time": "2022-04-19T09:32:53.596Z"
   },
   {
    "duration": 80,
    "start_time": "2022-04-19T09:32:54.607Z"
   },
   {
    "duration": 46,
    "start_time": "2022-04-19T09:32:54.689Z"
   },
   {
    "duration": 15,
    "start_time": "2022-04-19T09:32:54.737Z"
   },
   {
    "duration": 9,
    "start_time": "2022-04-19T09:32:54.754Z"
   },
   {
    "duration": 97,
    "start_time": "2022-04-19T09:32:54.766Z"
   },
   {
    "duration": 30,
    "start_time": "2022-04-19T09:32:54.865Z"
   },
   {
    "duration": 29,
    "start_time": "2022-04-19T09:32:54.897Z"
   },
   {
    "duration": 8,
    "start_time": "2022-04-19T09:32:54.927Z"
   },
   {
    "duration": 6,
    "start_time": "2022-04-19T09:32:54.937Z"
   },
   {
    "duration": 6,
    "start_time": "2022-04-19T09:32:54.944Z"
   },
   {
    "duration": 5,
    "start_time": "2022-04-19T09:32:54.951Z"
   },
   {
    "duration": 18,
    "start_time": "2022-04-19T09:32:54.958Z"
   },
   {
    "duration": 5,
    "start_time": "2022-04-19T09:32:54.978Z"
   },
   {
    "duration": 13,
    "start_time": "2022-04-19T09:32:55.023Z"
   },
   {
    "duration": 9,
    "start_time": "2022-04-19T09:32:55.038Z"
   },
   {
    "duration": 15,
    "start_time": "2022-04-19T09:32:55.049Z"
   },
   {
    "duration": 6,
    "start_time": "2022-04-19T09:32:55.066Z"
   },
   {
    "duration": 10,
    "start_time": "2022-04-19T09:32:55.073Z"
   },
   {
    "duration": 4,
    "start_time": "2022-04-19T09:32:55.085Z"
   },
   {
    "duration": 54,
    "start_time": "2022-04-19T09:32:55.091Z"
   },
   {
    "duration": 52,
    "start_time": "2022-04-19T09:32:55.147Z"
   },
   {
    "duration": 46,
    "start_time": "2022-04-19T09:32:55.201Z"
   },
   {
    "duration": 6,
    "start_time": "2022-04-19T09:32:55.250Z"
   },
   {
    "duration": 10,
    "start_time": "2022-04-19T09:32:55.257Z"
   },
   {
    "duration": 6,
    "start_time": "2022-04-19T09:32:55.268Z"
   },
   {
    "duration": 47,
    "start_time": "2022-04-19T09:32:55.275Z"
   },
   {
    "duration": 41,
    "start_time": "2022-04-19T09:32:55.325Z"
   },
   {
    "duration": 106,
    "start_time": "2022-04-19T09:32:55.368Z"
   },
   {
    "duration": 5,
    "start_time": "2022-04-19T09:32:55.475Z"
   },
   {
    "duration": 16,
    "start_time": "2022-04-19T09:32:55.482Z"
   },
   {
    "duration": 379,
    "start_time": "2022-04-19T09:32:55.499Z"
   },
   {
    "duration": 4,
    "start_time": "2022-04-19T09:32:55.880Z"
   },
   {
    "duration": 6,
    "start_time": "2022-04-19T09:32:55.886Z"
   },
   {
    "duration": 30,
    "start_time": "2022-04-19T09:32:55.894Z"
   },
   {
    "duration": 34,
    "start_time": "2022-04-19T09:32:55.926Z"
   },
   {
    "duration": 187,
    "start_time": "2022-04-19T09:32:55.963Z"
   },
   {
    "duration": 4,
    "start_time": "2022-04-19T09:32:56.152Z"
   },
   {
    "duration": 6,
    "start_time": "2022-04-19T09:32:56.158Z"
   },
   {
    "duration": 144,
    "start_time": "2022-04-19T09:32:56.166Z"
   },
   {
    "duration": 15,
    "start_time": "2022-04-19T09:32:56.314Z"
   },
   {
    "duration": 497,
    "start_time": "2022-04-19T09:32:56.331Z"
   },
   {
    "duration": 112,
    "start_time": "2022-04-19T09:32:56.830Z"
   },
   {
    "duration": 534,
    "start_time": "2022-04-19T09:32:56.944Z"
   },
   {
    "duration": 113,
    "start_time": "2022-04-19T09:32:57.480Z"
   },
   {
    "duration": 448,
    "start_time": "2022-04-19T09:32:57.594Z"
   },
   {
    "duration": 130,
    "start_time": "2022-04-19T09:32:58.044Z"
   },
   {
    "duration": 503,
    "start_time": "2022-04-19T09:32:58.176Z"
   },
   {
    "duration": 51,
    "start_time": "2022-04-19T09:32:58.681Z"
   },
   {
    "duration": 399,
    "start_time": "2022-04-19T09:32:58.734Z"
   },
   {
    "duration": 9,
    "start_time": "2022-04-19T09:32:59.135Z"
   },
   {
    "duration": 13,
    "start_time": "2022-04-19T09:32:59.145Z"
   },
   {
    "duration": 170,
    "start_time": "2022-04-19T09:32:59.160Z"
   },
   {
    "duration": 283,
    "start_time": "2022-04-19T09:32:59.332Z"
   },
   {
    "duration": 348,
    "start_time": "2022-04-19T09:32:59.617Z"
   },
   {
    "duration": 511,
    "start_time": "2022-04-19T09:32:59.967Z"
   },
   {
    "duration": 252,
    "start_time": "2022-04-19T09:33:00.483Z"
   },
   {
    "duration": 48,
    "start_time": "2022-04-19T09:33:00.738Z"
   },
   {
    "duration": 9,
    "start_time": "2022-04-19T09:33:00.788Z"
   },
   {
    "duration": 83,
    "start_time": "2022-04-19T09:33:00.798Z"
   },
   {
    "duration": 244,
    "start_time": "2022-04-19T09:33:00.883Z"
   },
   {
    "duration": 4,
    "start_time": "2022-04-19T09:33:01.128Z"
   },
   {
    "duration": 73,
    "start_time": "2022-04-19T09:33:43.708Z"
   },
   {
    "duration": 71,
    "start_time": "2022-04-19T10:03:10.830Z"
   },
   {
    "duration": 7,
    "start_time": "2022-04-19T10:03:56.274Z"
   },
   {
    "duration": 82,
    "start_time": "2022-04-19T10:04:13.269Z"
   },
   {
    "duration": 68,
    "start_time": "2022-04-19T10:04:53.426Z"
   },
   {
    "duration": 557,
    "start_time": "2022-04-19T10:22:38.446Z"
   },
   {
    "duration": 32,
    "start_time": "2022-04-19T10:24:40.758Z"
   },
   {
    "duration": 10,
    "start_time": "2022-04-19T10:24:55.354Z"
   },
   {
    "duration": 10,
    "start_time": "2022-04-19T10:25:15.241Z"
   },
   {
    "duration": 223,
    "start_time": "2022-04-19T10:25:29.954Z"
   },
   {
    "duration": 243,
    "start_time": "2022-04-19T10:25:52.552Z"
   },
   {
    "duration": 4,
    "start_time": "2022-04-19T10:26:04.223Z"
   },
   {
    "duration": 4,
    "start_time": "2022-04-19T10:26:11.843Z"
   },
   {
    "duration": 5,
    "start_time": "2022-04-19T10:26:57.877Z"
   },
   {
    "duration": 5,
    "start_time": "2022-04-19T10:27:04.071Z"
   },
   {
    "duration": 5,
    "start_time": "2022-04-19T10:27:15.307Z"
   },
   {
    "duration": 6,
    "start_time": "2022-04-19T10:27:21.781Z"
   },
   {
    "duration": 7,
    "start_time": "2022-04-19T10:27:29.204Z"
   },
   {
    "duration": 18,
    "start_time": "2022-04-19T10:29:40.573Z"
   },
   {
    "duration": 6,
    "start_time": "2022-04-19T10:30:32.238Z"
   },
   {
    "duration": 10,
    "start_time": "2022-04-19T10:30:43.379Z"
   },
   {
    "duration": 9,
    "start_time": "2022-04-19T10:31:42.241Z"
   },
   {
    "duration": 6,
    "start_time": "2022-04-19T10:31:58.405Z"
   },
   {
    "duration": 7,
    "start_time": "2022-04-19T10:32:03.378Z"
   },
   {
    "duration": 6,
    "start_time": "2022-04-19T10:32:24.813Z"
   },
   {
    "duration": 61,
    "start_time": "2022-04-19T10:40:41.327Z"
   },
   {
    "duration": 14218,
    "start_time": "2022-04-19T10:41:11.545Z"
   },
   {
    "duration": 10,
    "start_time": "2022-04-19T11:02:20.450Z"
   },
   {
    "duration": 9,
    "start_time": "2022-04-19T11:02:43.924Z"
   },
   {
    "duration": 11,
    "start_time": "2022-04-19T11:04:59.996Z"
   },
   {
    "duration": 21294,
    "start_time": "2022-04-19T11:10:19.150Z"
   },
   {
    "duration": 20,
    "start_time": "2022-04-19T11:12:12.472Z"
   },
   {
    "duration": 2487,
    "start_time": "2022-04-19T11:12:29.872Z"
   },
   {
    "duration": 1838,
    "start_time": "2022-04-19T11:13:18.275Z"
   },
   {
    "duration": 2839,
    "start_time": "2022-04-19T11:14:10.700Z"
   },
   {
    "duration": 1433,
    "start_time": "2022-04-19T11:14:25.217Z"
   },
   {
    "duration": 4,
    "start_time": "2022-04-19T11:21:20.844Z"
   },
   {
    "duration": 102,
    "start_time": "2022-04-19T11:21:24.336Z"
   },
   {
    "duration": 10,
    "start_time": "2022-04-19T11:21:29.002Z"
   },
   {
    "duration": 995,
    "start_time": "2022-04-19T11:21:32.836Z"
   },
   {
    "duration": 981,
    "start_time": "2022-04-19T11:25:20.766Z"
   },
   {
    "duration": 4,
    "start_time": "2022-04-19T11:32:30.928Z"
   },
   {
    "duration": 8,
    "start_time": "2022-04-19T11:33:31.241Z"
   },
   {
    "duration": 9,
    "start_time": "2022-04-19T11:35:01.020Z"
   },
   {
    "duration": 12,
    "start_time": "2022-04-19T11:35:26.942Z"
   },
   {
    "duration": 8,
    "start_time": "2022-04-19T11:43:38.361Z"
   },
   {
    "duration": 9,
    "start_time": "2022-04-19T11:43:45.734Z"
   },
   {
    "duration": 10231,
    "start_time": "2022-04-19T11:53:33.849Z"
   },
   {
    "duration": 3,
    "start_time": "2022-04-19T11:57:22.075Z"
   },
   {
    "duration": 10312,
    "start_time": "2022-04-19T11:57:28.693Z"
   },
   {
    "duration": 18,
    "start_time": "2022-04-19T11:57:57.618Z"
   },
   {
    "duration": 12629,
    "start_time": "2022-04-19T11:58:10.931Z"
   },
   {
    "duration": 5,
    "start_time": "2022-04-19T11:58:33.807Z"
   },
   {
    "duration": 115,
    "start_time": "2022-04-19T11:59:41.802Z"
   },
   {
    "duration": 17,
    "start_time": "2022-04-19T12:00:00.986Z"
   },
   {
    "duration": 81,
    "start_time": "2022-04-19T12:00:17.259Z"
   },
   {
    "duration": 633,
    "start_time": "2022-04-19T12:01:31.942Z"
   },
   {
    "duration": 81,
    "start_time": "2022-04-19T12:01:39.179Z"
   },
   {
    "duration": 4,
    "start_time": "2022-04-19T12:01:45.871Z"
   },
   {
    "duration": 113,
    "start_time": "2022-04-19T12:01:57.289Z"
   },
   {
    "duration": 4,
    "start_time": "2022-04-19T12:02:13.006Z"
   },
   {
    "duration": 12,
    "start_time": "2022-04-19T12:02:23.254Z"
   },
   {
    "duration": 9,
    "start_time": "2022-04-19T12:02:30.449Z"
   },
   {
    "duration": 7,
    "start_time": "2022-04-19T12:02:38.297Z"
   },
   {
    "duration": 17,
    "start_time": "2022-04-19T12:02:47.982Z"
   },
   {
    "duration": 3,
    "start_time": "2022-04-19T12:03:05.691Z"
   },
   {
    "duration": 141,
    "start_time": "2022-04-19T12:03:05.696Z"
   },
   {
    "duration": 29,
    "start_time": "2022-04-19T12:03:05.840Z"
   },
   {
    "duration": 15,
    "start_time": "2022-04-19T12:03:05.871Z"
   },
   {
    "duration": 38,
    "start_time": "2022-04-19T12:03:05.888Z"
   },
   {
    "duration": 102,
    "start_time": "2022-04-19T12:03:05.928Z"
   },
   {
    "duration": 32,
    "start_time": "2022-04-19T12:03:06.033Z"
   },
   {
    "duration": 14,
    "start_time": "2022-04-19T12:03:06.068Z"
   },
   {
    "duration": 8,
    "start_time": "2022-04-19T12:03:06.085Z"
   },
   {
    "duration": 32,
    "start_time": "2022-04-19T12:03:06.095Z"
   },
   {
    "duration": 8,
    "start_time": "2022-04-19T12:03:06.131Z"
   },
   {
    "duration": 7,
    "start_time": "2022-04-19T12:03:06.141Z"
   },
   {
    "duration": 31,
    "start_time": "2022-04-19T12:03:06.151Z"
   },
   {
    "duration": 40,
    "start_time": "2022-04-19T12:03:06.184Z"
   },
   {
    "duration": 21,
    "start_time": "2022-04-19T12:03:06.227Z"
   },
   {
    "duration": 7,
    "start_time": "2022-04-19T12:03:06.249Z"
   },
   {
    "duration": 15,
    "start_time": "2022-04-19T12:03:06.258Z"
   },
   {
    "duration": 5,
    "start_time": "2022-04-19T12:03:06.275Z"
   },
   {
    "duration": 9,
    "start_time": "2022-04-19T12:03:06.282Z"
   },
   {
    "duration": 6,
    "start_time": "2022-04-19T12:03:06.330Z"
   },
   {
    "duration": 29,
    "start_time": "2022-04-19T12:03:06.340Z"
   },
   {
    "duration": 39,
    "start_time": "2022-04-19T12:03:06.371Z"
   },
   {
    "duration": 36,
    "start_time": "2022-04-19T12:03:06.412Z"
   },
   {
    "duration": 7,
    "start_time": "2022-04-19T12:03:06.450Z"
   },
   {
    "duration": 10,
    "start_time": "2022-04-19T12:03:06.459Z"
   },
   {
    "duration": 7,
    "start_time": "2022-04-19T12:03:06.471Z"
   },
   {
    "duration": 56,
    "start_time": "2022-04-19T12:03:06.480Z"
   },
   {
    "duration": 31,
    "start_time": "2022-04-19T12:03:06.538Z"
   },
   {
    "duration": 102,
    "start_time": "2022-04-19T12:03:06.574Z"
   },
   {
    "duration": 4,
    "start_time": "2022-04-19T12:03:06.679Z"
   },
   {
    "duration": 21,
    "start_time": "2022-04-19T12:03:06.685Z"
   },
   {
    "duration": 525,
    "start_time": "2022-04-19T12:03:06.708Z"
   },
   {
    "duration": 5,
    "start_time": "2022-04-19T12:03:07.236Z"
   },
   {
    "duration": 10,
    "start_time": "2022-04-19T12:03:07.243Z"
   },
   {
    "duration": 19,
    "start_time": "2022-04-19T12:03:07.255Z"
   },
   {
    "duration": 27,
    "start_time": "2022-04-19T12:03:07.276Z"
   },
   {
    "duration": 130,
    "start_time": "2022-04-19T12:03:07.305Z"
   },
   {
    "duration": 4,
    "start_time": "2022-04-19T12:03:07.441Z"
   },
   {
    "duration": 9,
    "start_time": "2022-04-19T12:03:07.447Z"
   },
   {
    "duration": 119,
    "start_time": "2022-04-19T12:03:07.458Z"
   },
   {
    "duration": 8,
    "start_time": "2022-04-19T12:03:07.579Z"
   },
   {
    "duration": 387,
    "start_time": "2022-04-19T12:03:07.589Z"
   },
   {
    "duration": 106,
    "start_time": "2022-04-19T12:03:07.978Z"
   },
   {
    "duration": 370,
    "start_time": "2022-04-19T12:03:08.085Z"
   },
   {
    "duration": 98,
    "start_time": "2022-04-19T12:03:08.456Z"
   },
   {
    "duration": 367,
    "start_time": "2022-04-19T12:03:08.555Z"
   },
   {
    "duration": 307,
    "start_time": "2022-04-19T12:03:08.924Z"
   },
   {
    "duration": 381,
    "start_time": "2022-04-19T12:03:09.232Z"
   },
   {
    "duration": 38,
    "start_time": "2022-04-19T12:03:09.623Z"
   },
   {
    "duration": 280,
    "start_time": "2022-04-19T12:03:09.663Z"
   },
   {
    "duration": 8,
    "start_time": "2022-04-19T12:03:09.945Z"
   },
   {
    "duration": 6,
    "start_time": "2022-04-19T12:03:09.955Z"
   },
   {
    "duration": 23,
    "start_time": "2022-04-19T12:03:09.963Z"
   },
   {
    "duration": 307,
    "start_time": "2022-04-19T12:03:09.988Z"
   },
   {
    "duration": 267,
    "start_time": "2022-04-19T12:03:10.297Z"
   },
   {
    "duration": 290,
    "start_time": "2022-04-19T12:03:10.565Z"
   },
   {
    "duration": 230,
    "start_time": "2022-04-19T12:03:10.857Z"
   },
   {
    "duration": 43,
    "start_time": "2022-04-19T12:03:11.090Z"
   },
   {
    "duration": 6,
    "start_time": "2022-04-19T12:03:11.137Z"
   },
   {
    "duration": 57,
    "start_time": "2022-04-19T12:03:11.145Z"
   },
   {
    "duration": 198,
    "start_time": "2022-04-19T12:03:11.204Z"
   },
   {
    "duration": 4,
    "start_time": "2022-04-19T12:03:11.404Z"
   },
   {
    "duration": 89,
    "start_time": "2022-04-19T12:03:11.410Z"
   },
   {
    "duration": 87,
    "start_time": "2022-04-19T12:03:22.459Z"
   },
   {
    "duration": 10,
    "start_time": "2022-04-19T12:03:29.265Z"
   },
   {
    "duration": 5576,
    "start_time": "2022-04-19T12:03:34.562Z"
   },
   {
    "duration": 7,
    "start_time": "2022-04-19T12:04:03.225Z"
   },
   {
    "duration": 3,
    "start_time": "2022-04-19T12:04:10.870Z"
   },
   {
    "duration": 83,
    "start_time": "2022-04-19T12:04:14.205Z"
   },
   {
    "duration": 8,
    "start_time": "2022-04-19T12:04:52.653Z"
   },
   {
    "duration": 19,
    "start_time": "2022-04-19T12:04:54.944Z"
   },
   {
    "duration": 4,
    "start_time": "2022-04-19T12:21:32.802Z"
   },
   {
    "duration": 4,
    "start_time": "2022-04-19T12:21:39.418Z"
   },
   {
    "duration": 4,
    "start_time": "2022-04-19T12:22:01.539Z"
   },
   {
    "duration": 79,
    "start_time": "2022-04-19T12:22:04.890Z"
   },
   {
    "duration": 8,
    "start_time": "2022-04-19T12:22:35.309Z"
   },
   {
    "duration": 2745,
    "start_time": "2022-04-19T12:22:39.169Z"
   },
   {
    "duration": 189,
    "start_time": "2022-04-19T12:24:25.705Z"
   },
   {
    "duration": 11,
    "start_time": "2022-04-19T12:24:30.631Z"
   },
   {
    "duration": 856,
    "start_time": "2022-04-19T12:24:56.763Z"
   },
   {
    "duration": 946,
    "start_time": "2022-04-19T12:25:13.107Z"
   },
   {
    "duration": 1276,
    "start_time": "2022-04-19T12:25:53.533Z"
   },
   {
    "duration": 1425,
    "start_time": "2022-04-19T12:37:18.847Z"
   },
   {
    "duration": 1353,
    "start_time": "2022-04-19T12:37:44.633Z"
   },
   {
    "duration": 1328,
    "start_time": "2022-04-19T12:38:16.382Z"
   },
   {
    "duration": 3,
    "start_time": "2022-04-19T12:40:46.996Z"
   },
   {
    "duration": 1361,
    "start_time": "2022-04-19T12:41:07.281Z"
   },
   {
    "duration": 86,
    "start_time": "2022-04-19T12:41:08.646Z"
   },
   {
    "duration": 35,
    "start_time": "2022-04-19T12:41:08.734Z"
   },
   {
    "duration": 15,
    "start_time": "2022-04-19T12:41:08.771Z"
   },
   {
    "duration": 9,
    "start_time": "2022-04-19T12:41:08.787Z"
   },
   {
    "duration": 94,
    "start_time": "2022-04-19T12:41:08.798Z"
   },
   {
    "duration": 32,
    "start_time": "2022-04-19T12:41:08.894Z"
   },
   {
    "duration": 14,
    "start_time": "2022-04-19T12:41:08.928Z"
   },
   {
    "duration": 14,
    "start_time": "2022-04-19T12:41:08.944Z"
   },
   {
    "duration": 13,
    "start_time": "2022-04-19T12:41:08.961Z"
   },
   {
    "duration": 15,
    "start_time": "2022-04-19T12:41:08.976Z"
   },
   {
    "duration": 28,
    "start_time": "2022-04-19T12:41:08.992Z"
   },
   {
    "duration": 38,
    "start_time": "2022-04-19T12:41:09.026Z"
   },
   {
    "duration": 5,
    "start_time": "2022-04-19T12:41:09.066Z"
   },
   {
    "duration": 26,
    "start_time": "2022-04-19T12:41:09.073Z"
   },
   {
    "duration": 13,
    "start_time": "2022-04-19T12:41:09.101Z"
   },
   {
    "duration": 35,
    "start_time": "2022-04-19T12:41:09.115Z"
   },
   {
    "duration": 5,
    "start_time": "2022-04-19T12:41:09.154Z"
   },
   {
    "duration": 14,
    "start_time": "2022-04-19T12:41:09.161Z"
   },
   {
    "duration": 30,
    "start_time": "2022-04-19T12:41:09.177Z"
   },
   {
    "duration": 40,
    "start_time": "2022-04-19T12:41:09.209Z"
   },
   {
    "duration": 45,
    "start_time": "2022-04-19T12:41:09.250Z"
   },
   {
    "duration": 45,
    "start_time": "2022-04-19T12:41:09.298Z"
   },
   {
    "duration": 8,
    "start_time": "2022-04-19T12:41:09.345Z"
   },
   {
    "duration": 11,
    "start_time": "2022-04-19T12:41:09.354Z"
   },
   {
    "duration": 5,
    "start_time": "2022-04-19T12:41:09.367Z"
   },
   {
    "duration": 17,
    "start_time": "2022-04-19T12:41:09.374Z"
   },
   {
    "duration": 61,
    "start_time": "2022-04-19T12:41:09.396Z"
   },
   {
    "duration": 65,
    "start_time": "2022-04-19T12:41:09.459Z"
   },
   {
    "duration": 9,
    "start_time": "2022-04-19T12:41:09.525Z"
   },
   {
    "duration": 14,
    "start_time": "2022-04-19T12:41:09.538Z"
   },
   {
    "duration": 360,
    "start_time": "2022-04-19T12:41:09.554Z"
   },
   {
    "duration": 9,
    "start_time": "2022-04-19T12:41:09.916Z"
   },
   {
    "duration": 5,
    "start_time": "2022-04-19T12:41:09.935Z"
   },
   {
    "duration": 19,
    "start_time": "2022-04-19T12:41:09.942Z"
   },
   {
    "duration": 27,
    "start_time": "2022-04-19T12:41:09.963Z"
   },
   {
    "duration": 133,
    "start_time": "2022-04-19T12:41:09.991Z"
   },
   {
    "duration": 13,
    "start_time": "2022-04-19T12:41:10.125Z"
   },
   {
    "duration": 5,
    "start_time": "2022-04-19T12:41:10.140Z"
   },
   {
    "duration": 114,
    "start_time": "2022-04-19T12:41:10.147Z"
   },
   {
    "duration": 9,
    "start_time": "2022-04-19T12:41:10.263Z"
   },
   {
    "duration": 417,
    "start_time": "2022-04-19T12:41:10.274Z"
   },
   {
    "duration": 189,
    "start_time": "2022-04-19T12:41:10.692Z"
   },
   {
    "duration": 389,
    "start_time": "2022-04-19T12:41:10.883Z"
   },
   {
    "duration": 104,
    "start_time": "2022-04-19T12:41:11.274Z"
   },
   {
    "duration": 383,
    "start_time": "2022-04-19T12:41:11.380Z"
   },
   {
    "duration": 142,
    "start_time": "2022-04-19T12:41:11.766Z"
   },
   {
    "duration": 649,
    "start_time": "2022-04-19T12:41:11.911Z"
   },
   {
    "duration": 43,
    "start_time": "2022-04-19T12:41:12.562Z"
   },
   {
    "duration": 361,
    "start_time": "2022-04-19T12:41:12.607Z"
   },
   {
    "duration": 12,
    "start_time": "2022-04-19T12:41:12.970Z"
   },
   {
    "duration": 7,
    "start_time": "2022-04-19T12:41:12.984Z"
   },
   {
    "duration": 108,
    "start_time": "2022-04-19T12:41:12.993Z"
   },
   {
    "duration": 263,
    "start_time": "2022-04-19T12:41:13.103Z"
   },
   {
    "duration": 241,
    "start_time": "2022-04-19T12:41:13.368Z"
   },
   {
    "duration": 301,
    "start_time": "2022-04-19T12:41:13.611Z"
   },
   {
    "duration": 244,
    "start_time": "2022-04-19T12:41:13.914Z"
   },
   {
    "duration": 35,
    "start_time": "2022-04-19T12:41:14.160Z"
   },
   {
    "duration": 6,
    "start_time": "2022-04-19T12:41:14.196Z"
   },
   {
    "duration": 60,
    "start_time": "2022-04-19T12:41:14.203Z"
   },
   {
    "duration": 202,
    "start_time": "2022-04-19T12:41:14.265Z"
   },
   {
    "duration": 4,
    "start_time": "2022-04-19T12:41:14.470Z"
   },
   {
    "duration": 98,
    "start_time": "2022-04-19T12:41:14.476Z"
   },
   {
    "duration": 8,
    "start_time": "2022-04-19T12:41:14.576Z"
   },
   {
    "duration": 1313,
    "start_time": "2022-04-19T12:41:14.586Z"
   },
   {
    "duration": 4,
    "start_time": "2022-04-19T12:44:26.969Z"
   },
   {
    "duration": 75,
    "start_time": "2022-04-19T12:44:29.840Z"
   },
   {
    "duration": 7,
    "start_time": "2022-04-19T12:44:32.698Z"
   },
   {
    "duration": 2231,
    "start_time": "2022-04-19T12:44:34.303Z"
   },
   {
    "duration": 3112,
    "start_time": "2022-04-19T12:44:43.006Z"
   },
   {
    "duration": 3052,
    "start_time": "2022-04-19T12:45:17.643Z"
   },
   {
    "duration": 1920,
    "start_time": "2022-04-19T12:45:26.756Z"
   },
   {
    "duration": 2311,
    "start_time": "2022-04-19T12:45:36.298Z"
   },
   {
    "duration": 1206,
    "start_time": "2022-04-19T12:46:45.166Z"
   },
   {
    "duration": 1341,
    "start_time": "2022-04-19T12:50:15.900Z"
   },
   {
    "duration": 111,
    "start_time": "2022-04-19T12:50:17.246Z"
   },
   {
    "duration": 34,
    "start_time": "2022-04-19T12:50:17.359Z"
   },
   {
    "duration": 43,
    "start_time": "2022-04-19T12:50:17.396Z"
   },
   {
    "duration": 15,
    "start_time": "2022-04-19T12:50:17.441Z"
   },
   {
    "duration": 82,
    "start_time": "2022-04-19T12:50:17.458Z"
   },
   {
    "duration": 34,
    "start_time": "2022-04-19T12:50:17.542Z"
   },
   {
    "duration": 15,
    "start_time": "2022-04-19T12:50:17.579Z"
   },
   {
    "duration": 7,
    "start_time": "2022-04-19T12:50:17.597Z"
   },
   {
    "duration": 16,
    "start_time": "2022-04-19T12:50:17.624Z"
   },
   {
    "duration": 11,
    "start_time": "2022-04-19T12:50:17.642Z"
   },
   {
    "duration": 6,
    "start_time": "2022-04-19T12:50:17.656Z"
   },
   {
    "duration": 22,
    "start_time": "2022-04-19T12:50:17.664Z"
   },
   {
    "duration": 7,
    "start_time": "2022-04-19T12:50:17.688Z"
   },
   {
    "duration": 57,
    "start_time": "2022-04-19T12:50:17.696Z"
   },
   {
    "duration": 6,
    "start_time": "2022-04-19T12:50:17.755Z"
   },
   {
    "duration": 10,
    "start_time": "2022-04-19T12:50:17.763Z"
   },
   {
    "duration": 5,
    "start_time": "2022-04-19T12:50:17.774Z"
   },
   {
    "duration": 7,
    "start_time": "2022-04-19T12:50:17.781Z"
   },
   {
    "duration": 6,
    "start_time": "2022-04-19T12:50:17.790Z"
   },
   {
    "duration": 59,
    "start_time": "2022-04-19T12:50:17.798Z"
   },
   {
    "duration": 44,
    "start_time": "2022-04-19T12:50:17.858Z"
   },
   {
    "duration": 29,
    "start_time": "2022-04-19T12:50:17.904Z"
   },
   {
    "duration": 8,
    "start_time": "2022-04-19T12:50:17.937Z"
   },
   {
    "duration": 12,
    "start_time": "2022-04-19T12:50:17.947Z"
   },
   {
    "duration": 8,
    "start_time": "2022-04-19T12:50:17.961Z"
   },
   {
    "duration": 17,
    "start_time": "2022-04-19T12:50:17.971Z"
   },
   {
    "duration": 67,
    "start_time": "2022-04-19T12:50:17.993Z"
   },
   {
    "duration": 84,
    "start_time": "2022-04-19T12:50:18.061Z"
   },
   {
    "duration": 8,
    "start_time": "2022-04-19T12:50:18.147Z"
   },
   {
    "duration": 18,
    "start_time": "2022-04-19T12:50:18.156Z"
   },
   {
    "duration": 385,
    "start_time": "2022-04-19T12:50:18.176Z"
   },
   {
    "duration": 5,
    "start_time": "2022-04-19T12:50:18.562Z"
   },
   {
    "duration": 8,
    "start_time": "2022-04-19T12:50:18.568Z"
   },
   {
    "duration": 15,
    "start_time": "2022-04-19T12:50:18.578Z"
   },
   {
    "duration": 65,
    "start_time": "2022-04-19T12:50:18.595Z"
   },
   {
    "duration": 125,
    "start_time": "2022-04-19T12:50:18.662Z"
   },
   {
    "duration": 4,
    "start_time": "2022-04-19T12:50:18.789Z"
   },
   {
    "duration": 7,
    "start_time": "2022-04-19T12:50:18.794Z"
   },
   {
    "duration": 109,
    "start_time": "2022-04-19T12:50:18.803Z"
   },
   {
    "duration": 18,
    "start_time": "2022-04-19T12:50:18.914Z"
   },
   {
    "duration": 478,
    "start_time": "2022-04-19T12:50:18.934Z"
   },
   {
    "duration": 199,
    "start_time": "2022-04-19T12:50:19.414Z"
   },
   {
    "duration": 415,
    "start_time": "2022-04-19T12:50:19.616Z"
   },
   {
    "duration": 115,
    "start_time": "2022-04-19T12:50:20.033Z"
   },
   {
    "duration": 397,
    "start_time": "2022-04-19T12:50:20.152Z"
   },
   {
    "duration": 107,
    "start_time": "2022-04-19T12:50:20.551Z"
   },
   {
    "duration": 637,
    "start_time": "2022-04-19T12:50:20.661Z"
   },
   {
    "duration": 52,
    "start_time": "2022-04-19T12:50:21.300Z"
   },
   {
    "duration": 344,
    "start_time": "2022-04-19T12:50:21.358Z"
   },
   {
    "duration": 26,
    "start_time": "2022-04-19T12:50:21.704Z"
   },
   {
    "duration": 17,
    "start_time": "2022-04-19T12:50:21.732Z"
   },
   {
    "duration": 69,
    "start_time": "2022-04-19T12:50:21.753Z"
   },
   {
    "duration": 218,
    "start_time": "2022-04-19T12:50:21.824Z"
   },
   {
    "duration": 243,
    "start_time": "2022-04-19T12:50:22.046Z"
   },
   {
    "duration": 306,
    "start_time": "2022-04-19T12:50:22.291Z"
   },
   {
    "duration": 245,
    "start_time": "2022-04-19T12:50:22.600Z"
   },
   {
    "duration": 36,
    "start_time": "2022-04-19T12:50:22.847Z"
   },
   {
    "duration": 6,
    "start_time": "2022-04-19T12:50:22.885Z"
   },
   {
    "duration": 73,
    "start_time": "2022-04-19T12:50:22.893Z"
   },
   {
    "duration": 200,
    "start_time": "2022-04-19T12:50:22.968Z"
   },
   {
    "duration": 4,
    "start_time": "2022-04-19T12:50:23.170Z"
   },
   {
    "duration": 108,
    "start_time": "2022-04-19T12:50:23.176Z"
   },
   {
    "duration": 7,
    "start_time": "2022-04-19T12:50:23.286Z"
   },
   {
    "duration": 2809,
    "start_time": "2022-04-19T12:50:23.294Z"
   },
   {
    "duration": 1401,
    "start_time": "2022-04-19T12:50:26.105Z"
   },
   {
    "duration": 1251,
    "start_time": "2022-04-19T19:17:38.537Z"
   },
   {
    "duration": 67,
    "start_time": "2022-04-19T19:17:39.790Z"
   },
   {
    "duration": 33,
    "start_time": "2022-04-19T19:17:39.859Z"
   },
   {
    "duration": 15,
    "start_time": "2022-04-19T19:17:39.894Z"
   },
   {
    "duration": 9,
    "start_time": "2022-04-19T19:17:39.924Z"
   },
   {
    "duration": 61,
    "start_time": "2022-04-19T19:17:39.934Z"
   },
   {
    "duration": 42,
    "start_time": "2022-04-19T19:17:39.996Z"
   },
   {
    "duration": 9,
    "start_time": "2022-04-19T19:17:40.040Z"
   },
   {
    "duration": 17,
    "start_time": "2022-04-19T19:17:40.050Z"
   },
   {
    "duration": 8,
    "start_time": "2022-04-19T19:17:40.069Z"
   },
   {
    "duration": 11,
    "start_time": "2022-04-19T19:17:40.078Z"
   },
   {
    "duration": 14,
    "start_time": "2022-04-19T19:17:40.091Z"
   },
   {
    "duration": 29,
    "start_time": "2022-04-19T19:17:40.107Z"
   },
   {
    "duration": 5,
    "start_time": "2022-04-19T19:17:40.138Z"
   },
   {
    "duration": 19,
    "start_time": "2022-04-19T19:17:40.144Z"
   },
   {
    "duration": 17,
    "start_time": "2022-04-19T19:17:40.165Z"
   },
   {
    "duration": 11,
    "start_time": "2022-04-19T19:17:40.183Z"
   },
   {
    "duration": 6,
    "start_time": "2022-04-19T19:17:40.196Z"
   },
   {
    "duration": 23,
    "start_time": "2022-04-19T19:17:40.203Z"
   },
   {
    "duration": 4,
    "start_time": "2022-04-19T19:17:40.227Z"
   },
   {
    "duration": 26,
    "start_time": "2022-04-19T19:17:40.233Z"
   },
   {
    "duration": 38,
    "start_time": "2022-04-19T19:17:40.260Z"
   },
   {
    "duration": 37,
    "start_time": "2022-04-19T19:17:40.299Z"
   },
   {
    "duration": 6,
    "start_time": "2022-04-19T19:17:40.337Z"
   },
   {
    "duration": 12,
    "start_time": "2022-04-19T19:17:40.345Z"
   },
   {
    "duration": 14,
    "start_time": "2022-04-19T19:17:40.358Z"
   },
   {
    "duration": 12,
    "start_time": "2022-04-19T19:17:40.374Z"
   },
   {
    "duration": 47,
    "start_time": "2022-04-19T19:17:40.390Z"
   },
   {
    "duration": 58,
    "start_time": "2022-04-19T19:17:40.438Z"
   },
   {
    "duration": 4,
    "start_time": "2022-04-19T19:17:40.497Z"
   },
   {
    "duration": 26,
    "start_time": "2022-04-19T19:17:40.502Z"
   },
   {
    "duration": 302,
    "start_time": "2022-04-19T19:17:40.530Z"
   },
   {
    "duration": 4,
    "start_time": "2022-04-19T19:17:40.834Z"
   },
   {
    "duration": 6,
    "start_time": "2022-04-19T19:17:40.839Z"
   },
   {
    "duration": 14,
    "start_time": "2022-04-19T19:17:40.846Z"
   },
   {
    "duration": 25,
    "start_time": "2022-04-19T19:17:40.861Z"
   },
   {
    "duration": 124,
    "start_time": "2022-04-19T19:17:40.888Z"
   },
   {
    "duration": 4,
    "start_time": "2022-04-19T19:17:41.013Z"
   },
   {
    "duration": 4,
    "start_time": "2022-04-19T19:17:41.023Z"
   },
   {
    "duration": 79,
    "start_time": "2022-04-19T19:17:41.029Z"
   },
   {
    "duration": 19,
    "start_time": "2022-04-19T19:17:41.110Z"
   },
   {
    "duration": 346,
    "start_time": "2022-04-19T19:17:41.131Z"
   },
   {
    "duration": 158,
    "start_time": "2022-04-19T19:17:41.479Z"
   },
   {
    "duration": 326,
    "start_time": "2022-04-19T19:17:41.639Z"
   },
   {
    "duration": 86,
    "start_time": "2022-04-19T19:17:41.966Z"
   },
   {
    "duration": 344,
    "start_time": "2022-04-19T19:17:42.054Z"
   },
   {
    "duration": 90,
    "start_time": "2022-04-19T19:17:42.399Z"
   },
   {
    "duration": 410,
    "start_time": "2022-04-19T19:17:42.490Z"
   },
   {
    "duration": 40,
    "start_time": "2022-04-19T19:17:42.902Z"
   },
   {
    "duration": 217,
    "start_time": "2022-04-19T19:17:42.944Z"
   },
   {
    "duration": 10,
    "start_time": "2022-04-19T19:17:43.163Z"
   },
   {
    "duration": 7,
    "start_time": "2022-04-19T19:17:43.174Z"
   },
   {
    "duration": 79,
    "start_time": "2022-04-19T19:17:43.182Z"
   },
   {
    "duration": 164,
    "start_time": "2022-04-19T19:17:43.262Z"
   },
   {
    "duration": 200,
    "start_time": "2022-04-19T19:17:43.428Z"
   },
   {
    "duration": 289,
    "start_time": "2022-04-19T19:17:43.644Z"
   },
   {
    "duration": 199,
    "start_time": "2022-04-19T19:17:43.935Z"
   },
   {
    "duration": 31,
    "start_time": "2022-04-19T19:17:44.136Z"
   },
   {
    "duration": 5,
    "start_time": "2022-04-19T19:17:44.169Z"
   },
   {
    "duration": 55,
    "start_time": "2022-04-19T19:17:44.175Z"
   },
   {
    "duration": 163,
    "start_time": "2022-04-19T19:17:44.232Z"
   },
   {
    "duration": 4,
    "start_time": "2022-04-19T19:17:44.396Z"
   },
   {
    "duration": 87,
    "start_time": "2022-04-19T19:17:44.401Z"
   },
   {
    "duration": 6,
    "start_time": "2022-04-19T19:17:44.490Z"
   },
   {
    "duration": 2249,
    "start_time": "2022-04-19T19:17:44.498Z"
   },
   {
    "duration": 1642,
    "start_time": "2022-04-19T19:17:46.750Z"
   },
   {
    "duration": 1171,
    "start_time": "2022-04-19T19:29:24.017Z"
   },
   {
    "duration": 70,
    "start_time": "2022-04-19T19:29:25.190Z"
   },
   {
    "duration": 29,
    "start_time": "2022-04-19T19:29:25.262Z"
   },
   {
    "duration": 13,
    "start_time": "2022-04-19T19:29:25.293Z"
   },
   {
    "duration": 9,
    "start_time": "2022-04-19T19:29:25.323Z"
   },
   {
    "duration": 78,
    "start_time": "2022-04-19T19:29:25.334Z"
   },
   {
    "duration": 30,
    "start_time": "2022-04-19T19:29:25.414Z"
   },
   {
    "duration": 15,
    "start_time": "2022-04-19T19:29:25.445Z"
   },
   {
    "duration": 17,
    "start_time": "2022-04-19T19:29:25.462Z"
   },
   {
    "duration": 24,
    "start_time": "2022-04-19T19:29:25.481Z"
   },
   {
    "duration": 12,
    "start_time": "2022-04-19T19:29:25.507Z"
   },
   {
    "duration": 14,
    "start_time": "2022-04-19T19:29:25.521Z"
   },
   {
    "duration": 24,
    "start_time": "2022-04-19T19:29:25.537Z"
   },
   {
    "duration": 5,
    "start_time": "2022-04-19T19:29:25.563Z"
   },
   {
    "duration": 19,
    "start_time": "2022-04-19T19:29:25.570Z"
   },
   {
    "duration": 7,
    "start_time": "2022-04-19T19:29:25.590Z"
   },
   {
    "duration": 15,
    "start_time": "2022-04-19T19:29:25.599Z"
   },
   {
    "duration": 7,
    "start_time": "2022-04-19T19:29:25.616Z"
   },
   {
    "duration": 20,
    "start_time": "2022-04-19T19:29:25.625Z"
   },
   {
    "duration": 9,
    "start_time": "2022-04-19T19:29:25.647Z"
   },
   {
    "duration": 37,
    "start_time": "2022-04-19T19:29:25.657Z"
   },
   {
    "duration": 43,
    "start_time": "2022-04-19T19:29:25.695Z"
   },
   {
    "duration": 27,
    "start_time": "2022-04-19T19:29:25.740Z"
   },
   {
    "duration": 6,
    "start_time": "2022-04-19T19:29:25.769Z"
   },
   {
    "duration": 29,
    "start_time": "2022-04-19T19:29:25.777Z"
   },
   {
    "duration": 13,
    "start_time": "2022-04-19T19:29:25.808Z"
   },
   {
    "duration": 29,
    "start_time": "2022-04-19T19:29:25.822Z"
   },
   {
    "duration": 24,
    "start_time": "2022-04-19T19:29:25.855Z"
   },
   {
    "duration": 64,
    "start_time": "2022-04-19T19:29:25.881Z"
   },
   {
    "duration": 4,
    "start_time": "2022-04-19T19:29:25.947Z"
   },
   {
    "duration": 30,
    "start_time": "2022-04-19T19:29:25.953Z"
   },
   {
    "duration": 312,
    "start_time": "2022-04-19T19:29:25.984Z"
   },
   {
    "duration": 4,
    "start_time": "2022-04-19T19:29:26.298Z"
   },
   {
    "duration": 15,
    "start_time": "2022-04-19T19:29:26.304Z"
   },
   {
    "duration": 28,
    "start_time": "2022-04-19T19:29:26.320Z"
   },
   {
    "duration": 41,
    "start_time": "2022-04-19T19:29:26.350Z"
   },
   {
    "duration": 113,
    "start_time": "2022-04-19T19:29:26.393Z"
   },
   {
    "duration": 4,
    "start_time": "2022-04-19T19:29:26.507Z"
   },
   {
    "duration": 9,
    "start_time": "2022-04-19T19:29:26.512Z"
   },
   {
    "duration": 92,
    "start_time": "2022-04-19T19:29:26.523Z"
   },
   {
    "duration": 10,
    "start_time": "2022-04-19T19:29:26.617Z"
   },
   {
    "duration": 370,
    "start_time": "2022-04-19T19:29:26.629Z"
   },
   {
    "duration": 165,
    "start_time": "2022-04-19T19:29:27.001Z"
   },
   {
    "duration": 332,
    "start_time": "2022-04-19T19:29:27.167Z"
   },
   {
    "duration": 86,
    "start_time": "2022-04-19T19:29:27.500Z"
   },
   {
    "duration": 357,
    "start_time": "2022-04-19T19:29:27.588Z"
   },
   {
    "duration": 94,
    "start_time": "2022-04-19T19:29:27.948Z"
   },
   {
    "duration": 431,
    "start_time": "2022-04-19T19:29:28.044Z"
   },
   {
    "duration": 32,
    "start_time": "2022-04-19T19:29:28.477Z"
   },
   {
    "duration": 233,
    "start_time": "2022-04-19T19:29:28.524Z"
   },
   {
    "duration": 8,
    "start_time": "2022-04-19T19:29:28.759Z"
   },
   {
    "duration": 15,
    "start_time": "2022-04-19T19:29:28.768Z"
   },
   {
    "duration": 72,
    "start_time": "2022-04-19T19:29:28.784Z"
   },
   {
    "duration": 169,
    "start_time": "2022-04-19T19:29:28.858Z"
   },
   {
    "duration": 220,
    "start_time": "2022-04-19T19:29:29.029Z"
   },
   {
    "duration": 252,
    "start_time": "2022-04-19T19:29:29.250Z"
   },
   {
    "duration": 204,
    "start_time": "2022-04-19T19:29:29.504Z"
   },
   {
    "duration": 44,
    "start_time": "2022-04-19T19:29:29.709Z"
   },
   {
    "duration": 4,
    "start_time": "2022-04-19T19:29:29.755Z"
   },
   {
    "duration": 40,
    "start_time": "2022-04-19T19:29:29.761Z"
   },
   {
    "duration": 177,
    "start_time": "2022-04-19T19:29:29.802Z"
   },
   {
    "duration": 3,
    "start_time": "2022-04-19T19:29:29.981Z"
   },
   {
    "duration": 90,
    "start_time": "2022-04-19T19:29:29.986Z"
   },
   {
    "duration": 6,
    "start_time": "2022-04-19T19:29:30.078Z"
   },
   {
    "duration": 2498,
    "start_time": "2022-04-19T19:29:30.085Z"
   },
   {
    "duration": 1145,
    "start_time": "2022-04-19T19:29:32.585Z"
   }
  ],
  "kernelspec": {
   "display_name": "Python 3 (ipykernel)",
   "language": "python",
   "name": "python3"
  },
  "language_info": {
   "codemirror_mode": {
    "name": "ipython",
    "version": 3
   },
   "file_extension": ".py",
   "mimetype": "text/x-python",
   "name": "python",
   "nbconvert_exporter": "python",
   "pygments_lexer": "ipython3",
   "version": "3.10.4"
  },
  "toc": {
   "base_numbering": 1,
   "nav_menu": {},
   "number_sections": true,
   "sideBar": true,
   "skip_h1_title": true,
   "title_cell": "Содержание",
   "title_sidebar": "Contents",
   "toc_cell": true,
   "toc_position": {},
   "toc_section_display": true,
   "toc_window_display": true
  }
 },
 "nbformat": 4,
 "nbformat_minor": 4
}
