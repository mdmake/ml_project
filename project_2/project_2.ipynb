{
 "cells": [
  {
   "cell_type": "markdown",
   "id": "0b097fb8",
   "metadata": {},
   "source": [
    " # Исследование надёжности заёмщиков — анализ банковских данных\n",
    " \n",
    " На основе статистики о платёжеспособности клиентов исследовать влияет ли семейное положение и количество детей клиента на факт возврата кредита в срок\n"
   ]
  },
  {
   "cell_type": "markdown",
   "id": "e2996981",
   "metadata": {
    "pycharm": {
     "name": "#%% md\n"
    }
   },
   "source": [
    "## Описание проекта\n",
    "\n",
    "Заказчик — кредитный отдел банка. Нужно разобраться, влияет ли семейное положение и количество детей клиента на факт погашения кредита в срок. Входные данные от банка — статистика о платёжеспособности клиентов. Результаты исследования будут учтены при построении модели кредитного скоринга — специальной системы, которая оценивает способность потенциального заёмщика вернуть кредит банку."
   ]
  },
  {
   "cell_type": "markdown",
   "id": "50bb4550",
   "metadata": {},
   "source": [
    "# Исследование надежности заемщиков"
   ]
  },
  {
   "cell_type": "markdown",
   "id": "e4a1b3d7",
   "metadata": {},
   "source": [
    "1. [Обзор данных](#overwiev_id)\n",
    "2. [Предобработка данных](#preprocessing_id)\n",
    "    \n",
    "    * [Обработка пропущенных значений](#preprocessing_lost_values_id)\n",
    "    * [Проверка данных на аномалии и исправления](#chesk_anomaly_id)\n",
    "        * [Удаление дубликатов](#remove_dublicates_id)\n",
    "        * [Категоризация целей кредита](#target_cat_id)\n",
    "        * [Категоризация дохода](#income_cat_id)\n",
    "\n",
    "        * [Формирование дополнительных датафреймов словарей, декомпозиция исходного датафрейма.\n",
    "](#additional_dataframe_id)\n",
    "3. [Ответы на вопросы](#answer_id)\n",
    "4. [Общий вывод](#common_answer_id)\n"
   ]
  },
  {
   "cell_type": "code",
   "execution_count": 1,
   "id": "4bd280c3",
   "metadata": {
    "pycharm": {
     "name": "#%%\n"
    }
   },
   "outputs": [],
   "source": [
    "import pandas as pd"
   ]
  },
  {
   "cell_type": "markdown",
   "id": "3438d294",
   "metadata": {},
   "source": [
    "<a id=\"overwiev_id\"></a>\n",
    "## Шаг 1. Обзор данных "
   ]
  },
  {
   "cell_type": "code",
   "execution_count": 2,
   "id": "c22c3454",
   "metadata": {},
   "outputs": [],
   "source": [
    "data = pd.read_csv('/datasets/data.csv')"
   ]
  },
  {
   "cell_type": "markdown",
   "id": "221ede83",
   "metadata": {},
   "source": [
    "**Описание данных:**\n",
    "\n",
    "- `children` — количество детей в семье\n",
    "- `days_employed` — общий трудовой стаж в днях\n",
    "- `dob_years` — возраст клиента в годах\n",
    "- `education` — уровень образования клиента\n",
    "- `education_id` — идентификатор уровня образования\n",
    "- `family_status` — семейное положение\n",
    "- `family_status_id` — идентификатор семейного положения\n",
    "- `gender` — пол клиента\n",
    "- `income_type` — тип занятости\n",
    "- `debt` — имел ли задолженность по возврату кредитов\n",
    "- `total_income` — ежемесячный доход\n",
    "- `purpose` — цель получения кредита"
   ]
  },
  {
   "cell_type": "markdown",
   "id": "ec251c43",
   "metadata": {},
   "source": [
    "Посмотрим на датасет для начала:"
   ]
  },
  {
   "cell_type": "code",
   "execution_count": 3,
   "id": "60d02be1",
   "metadata": {},
   "outputs": [
    {
     "data": {
      "text/html": [
       "<div>\n",
       "<style scoped>\n",
       "    .dataframe tbody tr th:only-of-type {\n",
       "        vertical-align: middle;\n",
       "    }\n",
       "\n",
       "    .dataframe tbody tr th {\n",
       "        vertical-align: top;\n",
       "    }\n",
       "\n",
       "    .dataframe thead th {\n",
       "        text-align: right;\n",
       "    }\n",
       "</style>\n",
       "<table border=\"1\" class=\"dataframe\">\n",
       "  <thead>\n",
       "    <tr style=\"text-align: right;\">\n",
       "      <th></th>\n",
       "      <th>children</th>\n",
       "      <th>days_employed</th>\n",
       "      <th>dob_years</th>\n",
       "      <th>education</th>\n",
       "      <th>education_id</th>\n",
       "      <th>family_status</th>\n",
       "      <th>family_status_id</th>\n",
       "      <th>gender</th>\n",
       "      <th>income_type</th>\n",
       "      <th>debt</th>\n",
       "      <th>total_income</th>\n",
       "      <th>purpose</th>\n",
       "    </tr>\n",
       "  </thead>\n",
       "  <tbody>\n",
       "    <tr>\n",
       "      <th>0</th>\n",
       "      <td>1</td>\n",
       "      <td>-8437.673028</td>\n",
       "      <td>42</td>\n",
       "      <td>высшее</td>\n",
       "      <td>0</td>\n",
       "      <td>женат / замужем</td>\n",
       "      <td>0</td>\n",
       "      <td>F</td>\n",
       "      <td>сотрудник</td>\n",
       "      <td>0</td>\n",
       "      <td>253875.639453</td>\n",
       "      <td>покупка жилья</td>\n",
       "    </tr>\n",
       "    <tr>\n",
       "      <th>1</th>\n",
       "      <td>1</td>\n",
       "      <td>-4024.803754</td>\n",
       "      <td>36</td>\n",
       "      <td>среднее</td>\n",
       "      <td>1</td>\n",
       "      <td>женат / замужем</td>\n",
       "      <td>0</td>\n",
       "      <td>F</td>\n",
       "      <td>сотрудник</td>\n",
       "      <td>0</td>\n",
       "      <td>112080.014102</td>\n",
       "      <td>приобретение автомобиля</td>\n",
       "    </tr>\n",
       "    <tr>\n",
       "      <th>2</th>\n",
       "      <td>0</td>\n",
       "      <td>-5623.422610</td>\n",
       "      <td>33</td>\n",
       "      <td>Среднее</td>\n",
       "      <td>1</td>\n",
       "      <td>женат / замужем</td>\n",
       "      <td>0</td>\n",
       "      <td>M</td>\n",
       "      <td>сотрудник</td>\n",
       "      <td>0</td>\n",
       "      <td>145885.952297</td>\n",
       "      <td>покупка жилья</td>\n",
       "    </tr>\n",
       "    <tr>\n",
       "      <th>3</th>\n",
       "      <td>3</td>\n",
       "      <td>-4124.747207</td>\n",
       "      <td>32</td>\n",
       "      <td>среднее</td>\n",
       "      <td>1</td>\n",
       "      <td>женат / замужем</td>\n",
       "      <td>0</td>\n",
       "      <td>M</td>\n",
       "      <td>сотрудник</td>\n",
       "      <td>0</td>\n",
       "      <td>267628.550329</td>\n",
       "      <td>дополнительное образование</td>\n",
       "    </tr>\n",
       "    <tr>\n",
       "      <th>4</th>\n",
       "      <td>0</td>\n",
       "      <td>340266.072047</td>\n",
       "      <td>53</td>\n",
       "      <td>среднее</td>\n",
       "      <td>1</td>\n",
       "      <td>гражданский брак</td>\n",
       "      <td>1</td>\n",
       "      <td>F</td>\n",
       "      <td>пенсионер</td>\n",
       "      <td>0</td>\n",
       "      <td>158616.077870</td>\n",
       "      <td>сыграть свадьбу</td>\n",
       "    </tr>\n",
       "  </tbody>\n",
       "</table>\n",
       "</div>"
      ],
      "text/plain": [
       "   children  days_employed  dob_years education  education_id  \\\n",
       "0         1   -8437.673028         42    высшее             0   \n",
       "1         1   -4024.803754         36   среднее             1   \n",
       "2         0   -5623.422610         33   Среднее             1   \n",
       "3         3   -4124.747207         32   среднее             1   \n",
       "4         0  340266.072047         53   среднее             1   \n",
       "\n",
       "      family_status  family_status_id gender income_type  debt   total_income  \\\n",
       "0   женат / замужем                 0      F   сотрудник     0  253875.639453   \n",
       "1   женат / замужем                 0      F   сотрудник     0  112080.014102   \n",
       "2   женат / замужем                 0      M   сотрудник     0  145885.952297   \n",
       "3   женат / замужем                 0      M   сотрудник     0  267628.550329   \n",
       "4  гражданский брак                 1      F   пенсионер     0  158616.077870   \n",
       "\n",
       "                      purpose  \n",
       "0               покупка жилья  \n",
       "1     приобретение автомобиля  \n",
       "2               покупка жилья  \n",
       "3  дополнительное образование  \n",
       "4             сыграть свадьбу  "
      ]
     },
     "execution_count": 3,
     "metadata": {},
     "output_type": "execute_result"
    }
   ],
   "source": [
    "data.head()"
   ]
  },
  {
   "cell_type": "code",
   "execution_count": 4,
   "id": "7e7b2db4",
   "metadata": {
    "scrolled": true
   },
   "outputs": [
    {
     "data": {
      "text/html": [
       "<div>\n",
       "<style scoped>\n",
       "    .dataframe tbody tr th:only-of-type {\n",
       "        vertical-align: middle;\n",
       "    }\n",
       "\n",
       "    .dataframe tbody tr th {\n",
       "        vertical-align: top;\n",
       "    }\n",
       "\n",
       "    .dataframe thead th {\n",
       "        text-align: right;\n",
       "    }\n",
       "</style>\n",
       "<table border=\"1\" class=\"dataframe\">\n",
       "  <thead>\n",
       "    <tr style=\"text-align: right;\">\n",
       "      <th></th>\n",
       "      <th>children</th>\n",
       "      <th>days_employed</th>\n",
       "      <th>dob_years</th>\n",
       "      <th>education</th>\n",
       "      <th>education_id</th>\n",
       "      <th>family_status</th>\n",
       "      <th>family_status_id</th>\n",
       "      <th>gender</th>\n",
       "      <th>income_type</th>\n",
       "      <th>debt</th>\n",
       "      <th>total_income</th>\n",
       "      <th>purpose</th>\n",
       "    </tr>\n",
       "  </thead>\n",
       "  <tbody>\n",
       "    <tr>\n",
       "      <th>21520</th>\n",
       "      <td>1</td>\n",
       "      <td>-4529.316663</td>\n",
       "      <td>43</td>\n",
       "      <td>среднее</td>\n",
       "      <td>1</td>\n",
       "      <td>гражданский брак</td>\n",
       "      <td>1</td>\n",
       "      <td>F</td>\n",
       "      <td>компаньон</td>\n",
       "      <td>0</td>\n",
       "      <td>224791.862382</td>\n",
       "      <td>операции с жильем</td>\n",
       "    </tr>\n",
       "    <tr>\n",
       "      <th>21521</th>\n",
       "      <td>0</td>\n",
       "      <td>343937.404131</td>\n",
       "      <td>67</td>\n",
       "      <td>среднее</td>\n",
       "      <td>1</td>\n",
       "      <td>женат / замужем</td>\n",
       "      <td>0</td>\n",
       "      <td>F</td>\n",
       "      <td>пенсионер</td>\n",
       "      <td>0</td>\n",
       "      <td>155999.806512</td>\n",
       "      <td>сделка с автомобилем</td>\n",
       "    </tr>\n",
       "    <tr>\n",
       "      <th>21522</th>\n",
       "      <td>1</td>\n",
       "      <td>-2113.346888</td>\n",
       "      <td>38</td>\n",
       "      <td>среднее</td>\n",
       "      <td>1</td>\n",
       "      <td>гражданский брак</td>\n",
       "      <td>1</td>\n",
       "      <td>M</td>\n",
       "      <td>сотрудник</td>\n",
       "      <td>1</td>\n",
       "      <td>89672.561153</td>\n",
       "      <td>недвижимость</td>\n",
       "    </tr>\n",
       "    <tr>\n",
       "      <th>21523</th>\n",
       "      <td>3</td>\n",
       "      <td>-3112.481705</td>\n",
       "      <td>38</td>\n",
       "      <td>среднее</td>\n",
       "      <td>1</td>\n",
       "      <td>женат / замужем</td>\n",
       "      <td>0</td>\n",
       "      <td>M</td>\n",
       "      <td>сотрудник</td>\n",
       "      <td>1</td>\n",
       "      <td>244093.050500</td>\n",
       "      <td>на покупку своего автомобиля</td>\n",
       "    </tr>\n",
       "    <tr>\n",
       "      <th>21524</th>\n",
       "      <td>2</td>\n",
       "      <td>-1984.507589</td>\n",
       "      <td>40</td>\n",
       "      <td>среднее</td>\n",
       "      <td>1</td>\n",
       "      <td>женат / замужем</td>\n",
       "      <td>0</td>\n",
       "      <td>F</td>\n",
       "      <td>сотрудник</td>\n",
       "      <td>0</td>\n",
       "      <td>82047.418899</td>\n",
       "      <td>на покупку автомобиля</td>\n",
       "    </tr>\n",
       "  </tbody>\n",
       "</table>\n",
       "</div>"
      ],
      "text/plain": [
       "       children  days_employed  dob_years education  education_id  \\\n",
       "21520         1   -4529.316663         43   среднее             1   \n",
       "21521         0  343937.404131         67   среднее             1   \n",
       "21522         1   -2113.346888         38   среднее             1   \n",
       "21523         3   -3112.481705         38   среднее             1   \n",
       "21524         2   -1984.507589         40   среднее             1   \n",
       "\n",
       "          family_status  family_status_id gender income_type  debt  \\\n",
       "21520  гражданский брак                 1      F   компаньон     0   \n",
       "21521   женат / замужем                 0      F   пенсионер     0   \n",
       "21522  гражданский брак                 1      M   сотрудник     1   \n",
       "21523   женат / замужем                 0      M   сотрудник     1   \n",
       "21524   женат / замужем                 0      F   сотрудник     0   \n",
       "\n",
       "        total_income                       purpose  \n",
       "21520  224791.862382             операции с жильем  \n",
       "21521  155999.806512          сделка с автомобилем  \n",
       "21522   89672.561153                  недвижимость  \n",
       "21523  244093.050500  на покупку своего автомобиля  \n",
       "21524   82047.418899         на покупку автомобиля  "
      ]
     },
     "execution_count": 4,
     "metadata": {},
     "output_type": "execute_result"
    }
   ],
   "source": [
    "data.tail()"
   ]
  },
  {
   "cell_type": "code",
   "execution_count": 5,
   "id": "fde7c586",
   "metadata": {
    "scrolled": true
   },
   "outputs": [
    {
     "name": "stdout",
     "output_type": "stream",
     "text": [
      "<class 'pandas.core.frame.DataFrame'>\n",
      "RangeIndex: 21525 entries, 0 to 21524\n",
      "Data columns (total 12 columns):\n",
      " #   Column            Non-Null Count  Dtype  \n",
      "---  ------            --------------  -----  \n",
      " 0   children          21525 non-null  int64  \n",
      " 1   days_employed     19351 non-null  float64\n",
      " 2   dob_years         21525 non-null  int64  \n",
      " 3   education         21525 non-null  object \n",
      " 4   education_id      21525 non-null  int64  \n",
      " 5   family_status     21525 non-null  object \n",
      " 6   family_status_id  21525 non-null  int64  \n",
      " 7   gender            21525 non-null  object \n",
      " 8   income_type       21525 non-null  object \n",
      " 9   debt              21525 non-null  int64  \n",
      " 10  total_income      19351 non-null  float64\n",
      " 11  purpose           21525 non-null  object \n",
      "dtypes: float64(2), int64(5), object(5)\n",
      "memory usage: 2.0+ MB\n"
     ]
    }
   ],
   "source": [
    "data.info()"
   ]
  },
  {
   "cell_type": "markdown",
   "id": "99c2c1e4",
   "metadata": {
    "pycharm": {
     "name": "#%% md\n"
    }
   },
   "source": [
    "При первичном анализе можно увидеть что столбцы days_employed и total_income имеют пропущенные значения, позже с этим надо разобраться"
   ]
  },
  {
   "cell_type": "markdown",
   "id": "54ebb22e",
   "metadata": {},
   "source": [
    "<a id=\"preprocessing_id\"></a>\n",
    "## Шаг 2. Предобработка данных  "
   ]
  },
  {
   "cell_type": "markdown",
   "id": "b910c65c",
   "metadata": {},
   "source": [
    "<a id=\"preprocessing_lost_values_id\"></a>\n",
    "### Обработка пропущенных значений  "
   ]
  },
  {
   "cell_type": "markdown",
   "id": "03d14f4c",
   "metadata": {},
   "source": [
    "В столбцах `days_employed` и `total_income` пропущены значения. Разберемся с этим!\n",
    "#### Обработка пропущенных значений в столбце `days_employed`"
   ]
  },
  {
   "cell_type": "markdown",
   "id": "6994813c",
   "metadata": {},
   "source": [
    "Рабочий стаж в дняx:"
   ]
  },
  {
   "cell_type": "code",
   "execution_count": 6,
   "id": "93054d2a",
   "metadata": {},
   "outputs": [
    {
     "data": {
      "text/plain": [
       "count     19351.000000\n",
       "mean      63046.497661\n",
       "std      140827.311974\n",
       "min      -18388.949901\n",
       "25%       -2747.423625\n",
       "50%       -1203.369529\n",
       "75%        -291.095954\n",
       "max      401755.400475\n",
       "Name: days_employed, dtype: float64"
      ]
     },
     "execution_count": 6,
     "metadata": {},
     "output_type": "execute_result"
    }
   ],
   "source": [
    "data['days_employed'].describe()"
   ]
  },
  {
   "cell_type": "code",
   "execution_count": 7,
   "id": "22c8501d",
   "metadata": {},
   "outputs": [],
   "source": [
    "data['days_employed'] = abs(data['days_employed'])"
   ]
  },
  {
   "cell_type": "code",
   "execution_count": 8,
   "id": "f651ce95",
   "metadata": {},
   "outputs": [
    {
     "data": {
      "text/plain": [
       "income_type\n",
       "безработный       2\n",
       "пенсионер      3443\n",
       "Name: total_income, dtype: int64"
      ]
     },
     "execution_count": 8,
     "metadata": {},
     "output_type": "execute_result"
    }
   ],
   "source": [
    "data[data['days_employed'] > 100*365].groupby(by='income_type')[\"total_income\"].count()"
   ]
  },
  {
   "cell_type": "code",
   "execution_count": 9,
   "id": "baa7f6ab",
   "metadata": {},
   "outputs": [
    {
     "name": "stdout",
     "output_type": "stream",
     "text": [
      "Всего пенсионеров: 2\n",
      "Всего пенсионеров: 3443\n"
     ]
    }
   ],
   "source": [
    "print(f\"Всего пенсионеров: {data[data['income_type'] == 'безработный']['days_employed'].count()}\")\n",
    "print(f\"Всего пенсионеров: {data[data['income_type'] == 'пенсионер']['days_employed'].count()}\")"
   ]
  },
  {
   "cell_type": "markdown",
   "id": "494b0d75",
   "metadata": {},
   "source": [
    "Данные по рабочему стажу не очень адекватны. \n",
    "\n",
    "Отрицательные значения легко объяснить объясняются ошибкой ввода данных и так же легко исправляются\n",
    "\n",
    "У части записей рабочий стаж превышает 100 лет. Проведя некоторые изыскания, можно увидеть, что все *плохие* записи относятся к категориям столбца `income_type` `безработный` и  `пенсионер`. \n",
    "\n",
    "Еще один странный момент - испорчены **ВСЕ** данные по пенсионерам и безработным.\n",
    "\n",
    "Если продолжить изыскания, можно увидеть, что все данные по этим категориям испорчены аддитивной ошибкой в диапазоне 900-1000 лет. \n",
    "\n",
    "*Можно предположить, что данные собирались после 2000 года и произошла путанница связанная с переходом от формата 19ХХ к 20ХХ. Но с другой стороны тогда должны были бы быть испорчены данные у людей схожего возраста, a-la сотрудник, но в их категории все хорошо.*\n",
    "\n",
    "Идеальным вариантом было бы связаться с источником данных и узнать как собирались данные, как вглядит анкета для заполнения, например, etc.\n",
    "\n",
    "В отсутствие идеального варианта, я заполню данные `income_type` с типом `безработный` и  `пенсионер` их средним значением, остальные же - средним значением по всему датасету, исключая `безработный` и  `пенсионер`"
   ]
  },
  {
   "cell_type": "code",
   "execution_count": 10,
   "id": "2361fa1e",
   "metadata": {},
   "outputs": [
    {
     "name": "stdout",
     "output_type": "stream",
     "text": [
      "\n",
      "\n",
      "безработный + пенсионер\n",
      "\n",
      " count      3445.000000\n",
      "mean     365004.309916\n",
      "std       21075.016396\n",
      "min      328728.720605\n",
      "25%      346639.413916\n",
      "50%      365213.306266\n",
      "75%      383246.444219\n",
      "max      401755.400475\n",
      "Name: days_employed, dtype: float64 \n",
      "\n",
      "все остальные\n",
      "\n",
      " count    15906.000000\n",
      "mean      2353.015932\n",
      "std       2304.243851\n",
      "min         24.141633\n",
      "25%        756.371964\n",
      "50%       1630.019381\n",
      "75%       3157.480084\n",
      "max      18388.949901\n",
      "Name: days_employed, dtype: float64\n"
     ]
    }
   ],
   "source": [
    "rule = (data['income_type'] != 'безработный')&(data['income_type'] != 'пенсионер')\n",
    "stats_normal = data[rule]['days_employed'].describe()\n",
    "stats_corrupt = data[~rule]['days_employed'].describe()\n",
    "\n",
    "print('\\n\\nбезработный + пенсионер\\n\\n', stats_corrupt,  '\\n\\nвсе остальные\\n\\n', stats_normal, )\n"
   ]
  },
  {
   "cell_type": "code",
   "execution_count": 11,
   "id": "bffa0c35",
   "metadata": {},
   "outputs": [],
   "source": [
    "data.loc[rule, 'days_employed'] = data.loc[rule, 'days_employed'].fillna(stats_normal['mean'])\n",
    "data.loc[~rule, 'days_employed'] = data.loc[~rule, 'days_employed'].fillna(stats_corrupt['mean'])"
   ]
  },
  {
   "cell_type": "markdown",
   "id": "4f779d3a",
   "metadata": {},
   "source": [
    "#### Обработка пропущенных значений в столбце `total_income`\n",
    "\n",
    "Данные в столбце выглядит адекватно, но у нас наблюдаются нулевые значения дохода.\n",
    "\n",
    "Строго говоря, в данном случае данные выглядят недостаточными. \n",
    "Сами по себе нулевые значения дохода не выглядят чем-то плохим - возможно отсутствие ежемесячного дохода, но наличие счета, акций, etc.\n",
    "\n",
    "Поэтому логично заполнять пропуски нулем а не средним значением."
   ]
  },
  {
   "cell_type": "code",
   "execution_count": 12,
   "id": "d864b666",
   "metadata": {},
   "outputs": [],
   "source": [
    "data['total_income'] = data['total_income'].fillna(0)\n",
    "data['total_income'] = data['total_income'].astype(int)"
   ]
  },
  {
   "cell_type": "code",
   "execution_count": 13,
   "id": "91cc8b3c",
   "metadata": {
    "scrolled": true
   },
   "outputs": [
    {
     "name": "stdout",
     "output_type": "stream",
     "text": [
      "<class 'pandas.core.frame.DataFrame'>\n",
      "RangeIndex: 21525 entries, 0 to 21524\n",
      "Data columns (total 12 columns):\n",
      " #   Column            Non-Null Count  Dtype  \n",
      "---  ------            --------------  -----  \n",
      " 0   children          21525 non-null  int64  \n",
      " 1   days_employed     21525 non-null  float64\n",
      " 2   dob_years         21525 non-null  int64  \n",
      " 3   education         21525 non-null  object \n",
      " 4   education_id      21525 non-null  int64  \n",
      " 5   family_status     21525 non-null  object \n",
      " 6   family_status_id  21525 non-null  int64  \n",
      " 7   gender            21525 non-null  object \n",
      " 8   income_type       21525 non-null  object \n",
      " 9   debt              21525 non-null  int64  \n",
      " 10  total_income      21525 non-null  int64  \n",
      " 11  purpose           21525 non-null  object \n",
      "dtypes: float64(1), int64(6), object(5)\n",
      "memory usage: 2.0+ MB\n"
     ]
    }
   ],
   "source": [
    "data.info()"
   ]
  },
  {
   "cell_type": "markdown",
   "id": "c2f091d5",
   "metadata": {},
   "source": [
    "<a id=\"chesk_anomaly_id\"></a>\n",
    "### Проверка данных на аномалии и исправления"
   ]
  },
  {
   "cell_type": "markdown",
   "id": "3d7839d5",
   "metadata": {},
   "source": [
    "#### Количество детей\n",
    "\n",
    "Количество детей 20, без наличия промежуточных значений от 5 до 20 выглядит недостоверным, количество детей -1, скорее всего просто является ошибкой ввода. Поправим:"
   ]
  },
  {
   "cell_type": "code",
   "execution_count": 14,
   "id": "63cb1c49",
   "metadata": {},
   "outputs": [
    {
     "data": {
      "text/plain": [
       "array([ 1,  0,  3,  2, -1,  4, 20,  5])"
      ]
     },
     "execution_count": 14,
     "metadata": {},
     "output_type": "execute_result"
    }
   ],
   "source": [
    "data['children'].unique()"
   ]
  },
  {
   "cell_type": "code",
   "execution_count": 15,
   "id": "ed3973f1",
   "metadata": {},
   "outputs": [
    {
     "data": {
      "text/plain": [
       "children\n",
       "-1        47\n",
       " 0     14149\n",
       " 1      4818\n",
       " 2      2055\n",
       " 3       330\n",
       " 4        41\n",
       " 5         9\n",
       " 20       76\n",
       "Name: children, dtype: int64"
      ]
     },
     "execution_count": 15,
     "metadata": {},
     "output_type": "execute_result"
    }
   ],
   "source": [
    "data.groupby('children')['children'].count()"
   ]
  },
  {
   "cell_type": "code",
   "execution_count": 16,
   "id": "5ac2aaea",
   "metadata": {},
   "outputs": [],
   "source": [
    "data['children'].replace(-1, 1, inplace=True)\n",
    "data['children'].replace(20, 2, inplace=True)"
   ]
  },
  {
   "cell_type": "code",
   "execution_count": 17,
   "id": "206907f2",
   "metadata": {},
   "outputs": [
    {
     "data": {
      "text/plain": [
       "array([1, 0, 3, 2, 4, 5])"
      ]
     },
     "execution_count": 17,
     "metadata": {},
     "output_type": "execute_result"
    }
   ],
   "source": [
    "data['children'].unique()"
   ]
  },
  {
   "cell_type": "markdown",
   "id": "97fe11bd",
   "metadata": {},
   "source": [
    "#### Образование\n",
    "\n",
    "В столбце образование - путанница с регистром, причина - ошибки ввода. Приведем все к нижнему регистру"
   ]
  },
  {
   "cell_type": "code",
   "execution_count": 18,
   "id": "6f9f794c",
   "metadata": {},
   "outputs": [
    {
     "data": {
      "text/plain": [
       "array(['высшее', 'среднее', 'Среднее', 'СРЕДНЕЕ', 'ВЫСШЕЕ',\n",
       "       'неоконченное высшее', 'начальное', 'Высшее',\n",
       "       'НЕОКОНЧЕННОЕ ВЫСШЕЕ', 'Неоконченное высшее', 'НАЧАЛЬНОЕ',\n",
       "       'Начальное', 'Ученая степень', 'УЧЕНАЯ СТЕПЕНЬ', 'ученая степень'],\n",
       "      dtype=object)"
      ]
     },
     "execution_count": 18,
     "metadata": {},
     "output_type": "execute_result"
    }
   ],
   "source": [
    "data['education'].unique()"
   ]
  },
  {
   "cell_type": "code",
   "execution_count": 19,
   "id": "69da66be",
   "metadata": {},
   "outputs": [],
   "source": [
    "data['education'] = data['education'].str.lower()"
   ]
  },
  {
   "cell_type": "code",
   "execution_count": 20,
   "id": "d75a834d",
   "metadata": {},
   "outputs": [
    {
     "data": {
      "text/plain": [
       "array(['высшее', 'среднее', 'неоконченное высшее', 'начальное',\n",
       "       'ученая степень'], dtype=object)"
      ]
     },
     "execution_count": 20,
     "metadata": {},
     "output_type": "execute_result"
    }
   ],
   "source": [
    "data['education'].unique()"
   ]
  },
  {
   "cell_type": "markdown",
   "id": "dd3c7b5a",
   "metadata": {},
   "source": [
    "#### Семейный статус\n",
    "Приведем все к нижнему регистру"
   ]
  },
  {
   "cell_type": "code",
   "execution_count": 21,
   "id": "0851d265",
   "metadata": {},
   "outputs": [
    {
     "data": {
      "text/plain": [
       "array(['женат / замужем', 'гражданский брак', 'вдовец / вдова',\n",
       "       'в разводе', 'Не женат / не замужем'], dtype=object)"
      ]
     },
     "execution_count": 21,
     "metadata": {},
     "output_type": "execute_result"
    }
   ],
   "source": [
    "data['family_status'].unique()"
   ]
  },
  {
   "cell_type": "code",
   "execution_count": 22,
   "id": "4d475e2a",
   "metadata": {
    "scrolled": true
   },
   "outputs": [
    {
     "data": {
      "text/plain": [
       "array(['женат / замужем', 'гражданский брак', 'вдовец / вдова',\n",
       "       'в разводе', 'не женат / не замужем'], dtype=object)"
      ]
     },
     "execution_count": 22,
     "metadata": {},
     "output_type": "execute_result"
    }
   ],
   "source": [
    "data['family_status'] = data['family_status'].str.lower()\n",
    "data['family_status'].unique()"
   ]
  },
  {
   "cell_type": "markdown",
   "id": "45f85ee2",
   "metadata": {},
   "source": [
    "#### Прочие\n",
    "\n",
    "Посмотрим на данные, убедимся что статистики соответствуют нашим представлениям."
   ]
  },
  {
   "cell_type": "code",
   "execution_count": 23,
   "id": "7f6ca71c",
   "metadata": {},
   "outputs": [
    {
     "data": {
      "text/html": [
       "<div>\n",
       "<style scoped>\n",
       "    .dataframe tbody tr th:only-of-type {\n",
       "        vertical-align: middle;\n",
       "    }\n",
       "\n",
       "    .dataframe tbody tr th {\n",
       "        vertical-align: top;\n",
       "    }\n",
       "\n",
       "    .dataframe thead th {\n",
       "        text-align: right;\n",
       "    }\n",
       "</style>\n",
       "<table border=\"1\" class=\"dataframe\">\n",
       "  <thead>\n",
       "    <tr style=\"text-align: right;\">\n",
       "      <th></th>\n",
       "      <th>dob_years</th>\n",
       "      <th>education_id</th>\n",
       "      <th>family_status_id</th>\n",
       "      <th>debt</th>\n",
       "    </tr>\n",
       "  </thead>\n",
       "  <tbody>\n",
       "    <tr>\n",
       "      <th>count</th>\n",
       "      <td>21525.000000</td>\n",
       "      <td>21525.000000</td>\n",
       "      <td>21525.000000</td>\n",
       "      <td>21525.000000</td>\n",
       "    </tr>\n",
       "    <tr>\n",
       "      <th>mean</th>\n",
       "      <td>43.293380</td>\n",
       "      <td>0.817236</td>\n",
       "      <td>0.972544</td>\n",
       "      <td>0.080883</td>\n",
       "    </tr>\n",
       "    <tr>\n",
       "      <th>std</th>\n",
       "      <td>12.574584</td>\n",
       "      <td>0.548138</td>\n",
       "      <td>1.420324</td>\n",
       "      <td>0.272661</td>\n",
       "    </tr>\n",
       "    <tr>\n",
       "      <th>min</th>\n",
       "      <td>0.000000</td>\n",
       "      <td>0.000000</td>\n",
       "      <td>0.000000</td>\n",
       "      <td>0.000000</td>\n",
       "    </tr>\n",
       "    <tr>\n",
       "      <th>25%</th>\n",
       "      <td>33.000000</td>\n",
       "      <td>1.000000</td>\n",
       "      <td>0.000000</td>\n",
       "      <td>0.000000</td>\n",
       "    </tr>\n",
       "    <tr>\n",
       "      <th>50%</th>\n",
       "      <td>42.000000</td>\n",
       "      <td>1.000000</td>\n",
       "      <td>0.000000</td>\n",
       "      <td>0.000000</td>\n",
       "    </tr>\n",
       "    <tr>\n",
       "      <th>75%</th>\n",
       "      <td>53.000000</td>\n",
       "      <td>1.000000</td>\n",
       "      <td>1.000000</td>\n",
       "      <td>0.000000</td>\n",
       "    </tr>\n",
       "    <tr>\n",
       "      <th>max</th>\n",
       "      <td>75.000000</td>\n",
       "      <td>4.000000</td>\n",
       "      <td>4.000000</td>\n",
       "      <td>1.000000</td>\n",
       "    </tr>\n",
       "  </tbody>\n",
       "</table>\n",
       "</div>"
      ],
      "text/plain": [
       "          dob_years  education_id  family_status_id          debt\n",
       "count  21525.000000  21525.000000      21525.000000  21525.000000\n",
       "mean      43.293380      0.817236          0.972544      0.080883\n",
       "std       12.574584      0.548138          1.420324      0.272661\n",
       "min        0.000000      0.000000          0.000000      0.000000\n",
       "25%       33.000000      1.000000          0.000000      0.000000\n",
       "50%       42.000000      1.000000          0.000000      0.000000\n",
       "75%       53.000000      1.000000          1.000000      0.000000\n",
       "max       75.000000      4.000000          4.000000      1.000000"
      ]
     },
     "execution_count": 23,
     "metadata": {},
     "output_type": "execute_result"
    }
   ],
   "source": [
    "# OK\n",
    "data[['dob_years','education_id', 'family_status_id', 'gender', 'debt']].describe() "
   ]
  },
  {
   "cell_type": "code",
   "execution_count": 24,
   "id": "bd330d4c",
   "metadata": {},
   "outputs": [
    {
     "data": {
      "text/plain": [
       "F      14236\n",
       "M       7288\n",
       "XNA        1\n",
       "Name: gender, dtype: int64"
      ]
     },
     "execution_count": 24,
     "metadata": {},
     "output_type": "execute_result"
    }
   ],
   "source": [
    "data['gender'].value_counts() # OK"
   ]
  },
  {
   "cell_type": "code",
   "execution_count": 25,
   "id": "385c4864",
   "metadata": {},
   "outputs": [
    {
     "data": {
      "text/plain": [
       "array(['сотрудник', 'пенсионер', 'компаньон', 'госслужащий',\n",
       "       'безработный', 'предприниматель', 'студент', 'в декрете'],\n",
       "      dtype=object)"
      ]
     },
     "execution_count": 25,
     "metadata": {},
     "output_type": "execute_result"
    }
   ],
   "source": [
    "data['income_type'].unique() #OK"
   ]
  },
  {
   "cell_type": "code",
   "execution_count": 26,
   "id": "084c1fef",
   "metadata": {
    "scrolled": true
   },
   "outputs": [
    {
     "data": {
      "text/html": [
       "<div>\n",
       "<style scoped>\n",
       "    .dataframe tbody tr th:only-of-type {\n",
       "        vertical-align: middle;\n",
       "    }\n",
       "\n",
       "    .dataframe tbody tr th {\n",
       "        vertical-align: top;\n",
       "    }\n",
       "\n",
       "    .dataframe thead th {\n",
       "        text-align: right;\n",
       "    }\n",
       "</style>\n",
       "<table border=\"1\" class=\"dataframe\">\n",
       "  <thead>\n",
       "    <tr style=\"text-align: right;\">\n",
       "      <th></th>\n",
       "      <th>children</th>\n",
       "      <th>days_employed</th>\n",
       "      <th>dob_years</th>\n",
       "      <th>education</th>\n",
       "      <th>education_id</th>\n",
       "      <th>family_status</th>\n",
       "      <th>family_status_id</th>\n",
       "      <th>gender</th>\n",
       "      <th>income_type</th>\n",
       "      <th>debt</th>\n",
       "      <th>total_income</th>\n",
       "      <th>purpose</th>\n",
       "    </tr>\n",
       "  </thead>\n",
       "  <tbody>\n",
       "    <tr>\n",
       "      <th>0</th>\n",
       "      <td>1</td>\n",
       "      <td>8437.673028</td>\n",
       "      <td>42</td>\n",
       "      <td>высшее</td>\n",
       "      <td>0</td>\n",
       "      <td>женат / замужем</td>\n",
       "      <td>0</td>\n",
       "      <td>F</td>\n",
       "      <td>сотрудник</td>\n",
       "      <td>0</td>\n",
       "      <td>253875</td>\n",
       "      <td>покупка жилья</td>\n",
       "    </tr>\n",
       "    <tr>\n",
       "      <th>1</th>\n",
       "      <td>1</td>\n",
       "      <td>4024.803754</td>\n",
       "      <td>36</td>\n",
       "      <td>среднее</td>\n",
       "      <td>1</td>\n",
       "      <td>женат / замужем</td>\n",
       "      <td>0</td>\n",
       "      <td>F</td>\n",
       "      <td>сотрудник</td>\n",
       "      <td>0</td>\n",
       "      <td>112080</td>\n",
       "      <td>приобретение автомобиля</td>\n",
       "    </tr>\n",
       "    <tr>\n",
       "      <th>2</th>\n",
       "      <td>0</td>\n",
       "      <td>5623.422610</td>\n",
       "      <td>33</td>\n",
       "      <td>среднее</td>\n",
       "      <td>1</td>\n",
       "      <td>женат / замужем</td>\n",
       "      <td>0</td>\n",
       "      <td>M</td>\n",
       "      <td>сотрудник</td>\n",
       "      <td>0</td>\n",
       "      <td>145885</td>\n",
       "      <td>покупка жилья</td>\n",
       "    </tr>\n",
       "    <tr>\n",
       "      <th>3</th>\n",
       "      <td>3</td>\n",
       "      <td>4124.747207</td>\n",
       "      <td>32</td>\n",
       "      <td>среднее</td>\n",
       "      <td>1</td>\n",
       "      <td>женат / замужем</td>\n",
       "      <td>0</td>\n",
       "      <td>M</td>\n",
       "      <td>сотрудник</td>\n",
       "      <td>0</td>\n",
       "      <td>267628</td>\n",
       "      <td>дополнительное образование</td>\n",
       "    </tr>\n",
       "    <tr>\n",
       "      <th>4</th>\n",
       "      <td>0</td>\n",
       "      <td>340266.072047</td>\n",
       "      <td>53</td>\n",
       "      <td>среднее</td>\n",
       "      <td>1</td>\n",
       "      <td>гражданский брак</td>\n",
       "      <td>1</td>\n",
       "      <td>F</td>\n",
       "      <td>пенсионер</td>\n",
       "      <td>0</td>\n",
       "      <td>158616</td>\n",
       "      <td>сыграть свадьбу</td>\n",
       "    </tr>\n",
       "  </tbody>\n",
       "</table>\n",
       "</div>"
      ],
      "text/plain": [
       "   children  days_employed  dob_years education  education_id  \\\n",
       "0         1    8437.673028         42    высшее             0   \n",
       "1         1    4024.803754         36   среднее             1   \n",
       "2         0    5623.422610         33   среднее             1   \n",
       "3         3    4124.747207         32   среднее             1   \n",
       "4         0  340266.072047         53   среднее             1   \n",
       "\n",
       "      family_status  family_status_id gender income_type  debt  total_income  \\\n",
       "0   женат / замужем                 0      F   сотрудник     0        253875   \n",
       "1   женат / замужем                 0      F   сотрудник     0        112080   \n",
       "2   женат / замужем                 0      M   сотрудник     0        145885   \n",
       "3   женат / замужем                 0      M   сотрудник     0        267628   \n",
       "4  гражданский брак                 1      F   пенсионер     0        158616   \n",
       "\n",
       "                      purpose  \n",
       "0               покупка жилья  \n",
       "1     приобретение автомобиля  \n",
       "2               покупка жилья  \n",
       "3  дополнительное образование  \n",
       "4             сыграть свадьбу  "
      ]
     },
     "execution_count": 26,
     "metadata": {},
     "output_type": "execute_result"
    }
   ],
   "source": [
    "data.head()"
   ]
  },
  {
   "cell_type": "markdown",
   "id": "1830d228",
   "metadata": {},
   "source": [
    "<a id=\"remove_dublicates_id\"></a>\n",
    "### Удаление дубликатов  \n",
    "\n",
    "Данные изучены, нормализованы, удалим дубликаты"
   ]
  },
  {
   "cell_type": "code",
   "execution_count": 27,
   "id": "265670e7",
   "metadata": {},
   "outputs": [
    {
     "data": {
      "text/plain": [
       "71"
      ]
     },
     "execution_count": 27,
     "metadata": {},
     "output_type": "execute_result"
    }
   ],
   "source": [
    "data.duplicated().sum()"
   ]
  },
  {
   "cell_type": "code",
   "execution_count": 28,
   "id": "b43db65d",
   "metadata": {},
   "outputs": [
    {
     "data": {
      "text/plain": [
       "0"
      ]
     },
     "execution_count": 28,
     "metadata": {},
     "output_type": "execute_result"
    }
   ],
   "source": [
    "data = data.drop_duplicates().reset_index(drop=True)\n",
    "data.duplicated().sum()"
   ]
  },
  {
   "cell_type": "code",
   "execution_count": 29,
   "id": "811a7b3d",
   "metadata": {},
   "outputs": [
    {
     "data": {
      "text/plain": [
       "0"
      ]
     },
     "execution_count": 29,
     "metadata": {},
     "output_type": "execute_result"
    }
   ],
   "source": [
    "data.duplicated().sum()"
   ]
  },
  {
   "cell_type": "markdown",
   "id": "19e7e53b",
   "metadata": {},
   "source": [
    "<a id=\"target_cat_id\"></a>\n",
    "### Категоризация целей кредита\n",
    "\n",
    "В целях кредита наблюдается большое количество вариантов одного и того же значения. Поправим это. \n",
    "\n",
    "Согласно требованию учебного проекта, я не буду править это in-place, а заведу новые столбцы)"
   ]
  },
  {
   "cell_type": "code",
   "execution_count": 30,
   "id": "ebb116cb",
   "metadata": {},
   "outputs": [
    {
     "data": {
      "text/plain": [
       "array(['покупка жилья', 'приобретение автомобиля',\n",
       "       'дополнительное образование', 'сыграть свадьбу',\n",
       "       'операции с жильем', 'образование', 'на проведение свадьбы',\n",
       "       'покупка жилья для семьи', 'покупка недвижимости',\n",
       "       'покупка коммерческой недвижимости', 'покупка жилой недвижимости',\n",
       "       'строительство собственной недвижимости', 'недвижимость',\n",
       "       'строительство недвижимости', 'на покупку подержанного автомобиля',\n",
       "       'на покупку своего автомобиля',\n",
       "       'операции с коммерческой недвижимостью',\n",
       "       'строительство жилой недвижимости', 'жилье',\n",
       "       'операции со своей недвижимостью', 'автомобили',\n",
       "       'заняться образованием', 'сделка с подержанным автомобилем',\n",
       "       'получение образования', 'автомобиль', 'свадьба',\n",
       "       'получение дополнительного образования', 'покупка своего жилья',\n",
       "       'операции с недвижимостью', 'получение высшего образования',\n",
       "       'свой автомобиль', 'сделка с автомобилем',\n",
       "       'профильное образование', 'высшее образование',\n",
       "       'покупка жилья для сдачи', 'на покупку автомобиля', 'ремонт жилью',\n",
       "       'заняться высшим образованием'], dtype=object)"
      ]
     },
     "execution_count": 30,
     "metadata": {},
     "output_type": "execute_result"
    }
   ],
   "source": [
    "data['purpose'].unique()"
   ]
  },
  {
   "cell_type": "code",
   "execution_count": 31,
   "id": "b702cb7a",
   "metadata": {},
   "outputs": [],
   "source": [
    "def credit_target_categorization(target):\n",
    "    if 'авто' in target:\n",
    "        return 'операции с автомобилем'\n",
    "    \n",
    "    if 'жил' in target or 'недвиж' in target:\n",
    "        return 'операции с недвижимостью'\n",
    "    \n",
    "    if 'обра' in target:\n",
    "        return 'получение образования'\n",
    "    \n",
    "    if 'свад' in target:\n",
    "        return 'проведение свадьбы'\n",
    "    \n",
    "    \n",
    "data['purpose_category'] = data['purpose'].apply(credit_target_categorization)"
   ]
  },
  {
   "cell_type": "code",
   "execution_count": 32,
   "id": "367bf25d",
   "metadata": {},
   "outputs": [
    {
     "data": {
      "text/plain": [
       "array(['операции с недвижимостью', 'операции с автомобилем',\n",
       "       'получение образования', 'проведение свадьбы'], dtype=object)"
      ]
     },
     "execution_count": 32,
     "metadata": {},
     "output_type": "execute_result"
    }
   ],
   "source": [
    "data['purpose_category'].unique()"
   ]
  },
  {
   "cell_type": "markdown",
   "id": "a4f93c27",
   "metadata": {},
   "source": [
    "<a id=\"income_cat_id\"></a>\n",
    "### Категоризация дохода"
   ]
  },
  {
   "cell_type": "markdown",
   "id": "4442a9df",
   "metadata": {},
   "source": [
    "Дескретизуем доход и категоризуем его буквенными обозначениями:"
   ]
  },
  {
   "cell_type": "code",
   "execution_count": 33,
   "id": "e63d1d5c",
   "metadata": {},
   "outputs": [
    {
     "data": {
      "text/plain": [
       "array(['B', 'C', 'E', 'D', 'A'], dtype=object)"
      ]
     },
     "execution_count": 33,
     "metadata": {},
     "output_type": "execute_result"
    }
   ],
   "source": [
    "def income_categorization(income):\n",
    "    if 0 <= income <= 30000:\n",
    "        return 'E'\n",
    "    \n",
    "    if 30001 <= income <= 50000:\n",
    "        return 'D'\n",
    "    \n",
    "    if 50001 <= income <= 200000:\n",
    "        return 'C'\n",
    "    \n",
    "    if 200001 <= income <=  1000000:\n",
    "        return 'B'\n",
    "    \n",
    "    if 1000001 <= income:\n",
    "        return 'A'\n",
    "    \n",
    "    return 'Uncknown'\n",
    "\n",
    "data['total_income_category'] = data['total_income'].apply(income_categorization)\n",
    "data['total_income_category'].unique()"
   ]
  },
  {
   "cell_type": "markdown",
   "id": "27e74759",
   "metadata": {},
   "source": [
    "<a id=\"additional_dataframe_id\"></a>\n",
    "### Формирование дополнительных датафреймов словарей, декомпозиция исходного датафрейма.\n",
    "\n",
    "Создаем два новых датафрейма, в которых:\n",
    "\n",
    "- каждому уникальному значению из `education` соответствует уникальное значение `education_id` в первом;\n",
    "\n",
    "- каждому уникальному значению из `family_status` соответствует уникальное значение `family_status_id` — во втором.\n",
    "\n",
    "\n",
    "Потом удаляем из исходного датафрейма столбцы `education` и f`amily_status`, оставив только их идентификаторы: `education_id` и `family_status_id`. "
   ]
  },
  {
   "cell_type": "code",
   "execution_count": 34,
   "id": "b62953e3",
   "metadata": {},
   "outputs": [
    {
     "data": {
      "text/html": [
       "<div>\n",
       "<style scoped>\n",
       "    .dataframe tbody tr th:only-of-type {\n",
       "        vertical-align: middle;\n",
       "    }\n",
       "\n",
       "    .dataframe tbody tr th {\n",
       "        vertical-align: top;\n",
       "    }\n",
       "\n",
       "    .dataframe thead th {\n",
       "        text-align: right;\n",
       "    }\n",
       "</style>\n",
       "<table border=\"1\" class=\"dataframe\">\n",
       "  <thead>\n",
       "    <tr style=\"text-align: right;\">\n",
       "      <th></th>\n",
       "      <th>education_id</th>\n",
       "      <th>education</th>\n",
       "    </tr>\n",
       "  </thead>\n",
       "  <tbody>\n",
       "    <tr>\n",
       "      <th>0</th>\n",
       "      <td>0</td>\n",
       "      <td>высшее</td>\n",
       "    </tr>\n",
       "    <tr>\n",
       "      <th>1</th>\n",
       "      <td>1</td>\n",
       "      <td>среднее</td>\n",
       "    </tr>\n",
       "    <tr>\n",
       "      <th>2</th>\n",
       "      <td>2</td>\n",
       "      <td>неоконченное высшее</td>\n",
       "    </tr>\n",
       "    <tr>\n",
       "      <th>3</th>\n",
       "      <td>3</td>\n",
       "      <td>начальное</td>\n",
       "    </tr>\n",
       "    <tr>\n",
       "      <th>4</th>\n",
       "      <td>4</td>\n",
       "      <td>ученая степень</td>\n",
       "    </tr>\n",
       "  </tbody>\n",
       "</table>\n",
       "</div>"
      ],
      "text/plain": [
       "   education_id            education\n",
       "0             0               высшее\n",
       "1             1              среднее\n",
       "2             2  неоконченное высшее\n",
       "3             3            начальное\n",
       "4             4       ученая степень"
      ]
     },
     "execution_count": 34,
     "metadata": {},
     "output_type": "execute_result"
    }
   ],
   "source": [
    "education_data = data[['education_id','education']].drop_duplicates().reset_index(drop=True)\n",
    "education_data"
   ]
  },
  {
   "cell_type": "code",
   "execution_count": 35,
   "id": "29300396",
   "metadata": {},
   "outputs": [
    {
     "data": {
      "text/html": [
       "<div>\n",
       "<style scoped>\n",
       "    .dataframe tbody tr th:only-of-type {\n",
       "        vertical-align: middle;\n",
       "    }\n",
       "\n",
       "    .dataframe tbody tr th {\n",
       "        vertical-align: top;\n",
       "    }\n",
       "\n",
       "    .dataframe thead th {\n",
       "        text-align: right;\n",
       "    }\n",
       "</style>\n",
       "<table border=\"1\" class=\"dataframe\">\n",
       "  <thead>\n",
       "    <tr style=\"text-align: right;\">\n",
       "      <th></th>\n",
       "      <th>family_status_id</th>\n",
       "      <th>family_status</th>\n",
       "    </tr>\n",
       "  </thead>\n",
       "  <tbody>\n",
       "    <tr>\n",
       "      <th>0</th>\n",
       "      <td>0</td>\n",
       "      <td>женат / замужем</td>\n",
       "    </tr>\n",
       "    <tr>\n",
       "      <th>1</th>\n",
       "      <td>1</td>\n",
       "      <td>гражданский брак</td>\n",
       "    </tr>\n",
       "    <tr>\n",
       "      <th>2</th>\n",
       "      <td>2</td>\n",
       "      <td>вдовец / вдова</td>\n",
       "    </tr>\n",
       "    <tr>\n",
       "      <th>3</th>\n",
       "      <td>3</td>\n",
       "      <td>в разводе</td>\n",
       "    </tr>\n",
       "    <tr>\n",
       "      <th>4</th>\n",
       "      <td>4</td>\n",
       "      <td>не женат / не замужем</td>\n",
       "    </tr>\n",
       "  </tbody>\n",
       "</table>\n",
       "</div>"
      ],
      "text/plain": [
       "   family_status_id          family_status\n",
       "0                 0        женат / замужем\n",
       "1                 1       гражданский брак\n",
       "2                 2         вдовец / вдова\n",
       "3                 3              в разводе\n",
       "4                 4  не женат / не замужем"
      ]
     },
     "execution_count": 35,
     "metadata": {},
     "output_type": "execute_result"
    }
   ],
   "source": [
    "family_data = data[['family_status_id','family_status']].drop_duplicates().reset_index(drop=True)\n",
    "family_data"
   ]
  },
  {
   "cell_type": "code",
   "execution_count": 36,
   "id": "3c189bef",
   "metadata": {},
   "outputs": [],
   "source": [
    "data.drop(['family_status', 'education'], axis=1, inplace=True)"
   ]
  },
  {
   "cell_type": "code",
   "execution_count": 37,
   "id": "bb2c126e",
   "metadata": {
    "scrolled": false
   },
   "outputs": [
    {
     "data": {
      "text/html": [
       "<div>\n",
       "<style scoped>\n",
       "    .dataframe tbody tr th:only-of-type {\n",
       "        vertical-align: middle;\n",
       "    }\n",
       "\n",
       "    .dataframe tbody tr th {\n",
       "        vertical-align: top;\n",
       "    }\n",
       "\n",
       "    .dataframe thead th {\n",
       "        text-align: right;\n",
       "    }\n",
       "</style>\n",
       "<table border=\"1\" class=\"dataframe\">\n",
       "  <thead>\n",
       "    <tr style=\"text-align: right;\">\n",
       "      <th></th>\n",
       "      <th>children</th>\n",
       "      <th>days_employed</th>\n",
       "      <th>dob_years</th>\n",
       "      <th>education_id</th>\n",
       "      <th>family_status_id</th>\n",
       "      <th>gender</th>\n",
       "      <th>income_type</th>\n",
       "      <th>debt</th>\n",
       "      <th>total_income</th>\n",
       "      <th>purpose</th>\n",
       "      <th>purpose_category</th>\n",
       "      <th>total_income_category</th>\n",
       "    </tr>\n",
       "  </thead>\n",
       "  <tbody>\n",
       "    <tr>\n",
       "      <th>0</th>\n",
       "      <td>1</td>\n",
       "      <td>8437.673028</td>\n",
       "      <td>42</td>\n",
       "      <td>0</td>\n",
       "      <td>0</td>\n",
       "      <td>F</td>\n",
       "      <td>сотрудник</td>\n",
       "      <td>0</td>\n",
       "      <td>253875</td>\n",
       "      <td>покупка жилья</td>\n",
       "      <td>операции с недвижимостью</td>\n",
       "      <td>B</td>\n",
       "    </tr>\n",
       "    <tr>\n",
       "      <th>1</th>\n",
       "      <td>1</td>\n",
       "      <td>4024.803754</td>\n",
       "      <td>36</td>\n",
       "      <td>1</td>\n",
       "      <td>0</td>\n",
       "      <td>F</td>\n",
       "      <td>сотрудник</td>\n",
       "      <td>0</td>\n",
       "      <td>112080</td>\n",
       "      <td>приобретение автомобиля</td>\n",
       "      <td>операции с автомобилем</td>\n",
       "      <td>C</td>\n",
       "    </tr>\n",
       "    <tr>\n",
       "      <th>2</th>\n",
       "      <td>0</td>\n",
       "      <td>5623.422610</td>\n",
       "      <td>33</td>\n",
       "      <td>1</td>\n",
       "      <td>0</td>\n",
       "      <td>M</td>\n",
       "      <td>сотрудник</td>\n",
       "      <td>0</td>\n",
       "      <td>145885</td>\n",
       "      <td>покупка жилья</td>\n",
       "      <td>операции с недвижимостью</td>\n",
       "      <td>C</td>\n",
       "    </tr>\n",
       "    <tr>\n",
       "      <th>3</th>\n",
       "      <td>3</td>\n",
       "      <td>4124.747207</td>\n",
       "      <td>32</td>\n",
       "      <td>1</td>\n",
       "      <td>0</td>\n",
       "      <td>M</td>\n",
       "      <td>сотрудник</td>\n",
       "      <td>0</td>\n",
       "      <td>267628</td>\n",
       "      <td>дополнительное образование</td>\n",
       "      <td>получение образования</td>\n",
       "      <td>B</td>\n",
       "    </tr>\n",
       "    <tr>\n",
       "      <th>4</th>\n",
       "      <td>0</td>\n",
       "      <td>340266.072047</td>\n",
       "      <td>53</td>\n",
       "      <td>1</td>\n",
       "      <td>1</td>\n",
       "      <td>F</td>\n",
       "      <td>пенсионер</td>\n",
       "      <td>0</td>\n",
       "      <td>158616</td>\n",
       "      <td>сыграть свадьбу</td>\n",
       "      <td>проведение свадьбы</td>\n",
       "      <td>C</td>\n",
       "    </tr>\n",
       "  </tbody>\n",
       "</table>\n",
       "</div>"
      ],
      "text/plain": [
       "   children  days_employed  dob_years  education_id  family_status_id gender  \\\n",
       "0         1    8437.673028         42             0                 0      F   \n",
       "1         1    4024.803754         36             1                 0      F   \n",
       "2         0    5623.422610         33             1                 0      M   \n",
       "3         3    4124.747207         32             1                 0      M   \n",
       "4         0  340266.072047         53             1                 1      F   \n",
       "\n",
       "  income_type  debt  total_income                     purpose  \\\n",
       "0   сотрудник     0        253875               покупка жилья   \n",
       "1   сотрудник     0        112080     приобретение автомобиля   \n",
       "2   сотрудник     0        145885               покупка жилья   \n",
       "3   сотрудник     0        267628  дополнительное образование   \n",
       "4   пенсионер     0        158616             сыграть свадьбу   \n",
       "\n",
       "           purpose_category total_income_category  \n",
       "0  операции с недвижимостью                     B  \n",
       "1    операции с автомобилем                     C  \n",
       "2  операции с недвижимостью                     C  \n",
       "3     получение образования                     B  \n",
       "4        проведение свадьбы                     C  "
      ]
     },
     "execution_count": 37,
     "metadata": {},
     "output_type": "execute_result"
    }
   ],
   "source": [
    "data.head()"
   ]
  },
  {
   "cell_type": "markdown",
   "id": "018c4c13",
   "metadata": {},
   "source": [
    "<a id=\"answer_id\"></a>\n",
    "## Ответы на вопросы\n",
    "\n",
    "- Есть ли зависимость между количеством детей и возвратом кредита в срок?\n",
    "- Есть ли зависимость между семейным положением и возвратом кредита в срок?\n",
    "- Есть ли зависимость между уровнем дохода и возвратом кредита в срок?\n",
    "- Как разные цели кредита влияют на его возврат в срок?"
   ]
  },
  {
   "cell_type": "markdown",
   "id": "87bde708",
   "metadata": {},
   "source": [
    "### Есть ли зависимость между количеством детей и возвратом кредита в срок?"
   ]
  },
  {
   "cell_type": "code",
   "execution_count": null,
   "id": "e4aa3ec6",
   "metadata": {},
   "outputs": [],
   "source": []
  },
  {
   "cell_type": "code",
   "execution_count": 38,
   "id": "dc383165",
   "metadata": {},
   "outputs": [
    {
     "data": {
      "text/html": [
       "<div>\n",
       "<style scoped>\n",
       "    .dataframe tbody tr th:only-of-type {\n",
       "        vertical-align: middle;\n",
       "    }\n",
       "\n",
       "    .dataframe tbody tr th {\n",
       "        vertical-align: top;\n",
       "    }\n",
       "\n",
       "    .dataframe thead th {\n",
       "        text-align: right;\n",
       "    }\n",
       "</style>\n",
       "<table border=\"1\" class=\"dataframe\">\n",
       "  <thead>\n",
       "    <tr style=\"text-align: right;\">\n",
       "      <th>debt</th>\n",
       "      <th>0</th>\n",
       "      <th>1</th>\n",
       "      <th>ratio</th>\n",
       "    </tr>\n",
       "    <tr>\n",
       "      <th>children</th>\n",
       "      <th></th>\n",
       "      <th></th>\n",
       "      <th></th>\n",
       "    </tr>\n",
       "  </thead>\n",
       "  <tbody>\n",
       "    <tr>\n",
       "      <th>0</th>\n",
       "      <td>13028.0</td>\n",
       "      <td>1063.0</td>\n",
       "      <td>8.159349</td>\n",
       "    </tr>\n",
       "    <tr>\n",
       "      <th>1</th>\n",
       "      <td>4410.0</td>\n",
       "      <td>445.0</td>\n",
       "      <td>10.090703</td>\n",
       "    </tr>\n",
       "    <tr>\n",
       "      <th>2</th>\n",
       "      <td>1926.0</td>\n",
       "      <td>202.0</td>\n",
       "      <td>10.488058</td>\n",
       "    </tr>\n",
       "    <tr>\n",
       "      <th>3</th>\n",
       "      <td>303.0</td>\n",
       "      <td>27.0</td>\n",
       "      <td>8.910891</td>\n",
       "    </tr>\n",
       "    <tr>\n",
       "      <th>4</th>\n",
       "      <td>37.0</td>\n",
       "      <td>4.0</td>\n",
       "      <td>10.810811</td>\n",
       "    </tr>\n",
       "    <tr>\n",
       "      <th>5</th>\n",
       "      <td>9.0</td>\n",
       "      <td>NaN</td>\n",
       "      <td>NaN</td>\n",
       "    </tr>\n",
       "  </tbody>\n",
       "</table>\n",
       "</div>"
      ],
      "text/plain": [
       "debt            0       1      ratio\n",
       "children                            \n",
       "0         13028.0  1063.0   8.159349\n",
       "1          4410.0   445.0  10.090703\n",
       "2          1926.0   202.0  10.488058\n",
       "3           303.0    27.0   8.910891\n",
       "4            37.0     4.0  10.810811\n",
       "5             9.0     NaN        NaN"
      ]
     },
     "execution_count": 38,
     "metadata": {},
     "output_type": "execute_result"
    }
   ],
   "source": [
    "children_data1 = data.pivot_table(index='children', columns='debt', values='purpose_category', aggfunc='count')\n",
    "\n",
    "children_data1['ratio'] = children_data1[1] / children_data1[0] * 100\n",
    "children_data1"
   ]
  },
  {
   "cell_type": "code",
   "execution_count": 39,
   "id": "ae64d0d2",
   "metadata": {},
   "outputs": [
    {
     "data": {
      "text/html": [
       "<div>\n",
       "<style scoped>\n",
       "    .dataframe tbody tr th:only-of-type {\n",
       "        vertical-align: middle;\n",
       "    }\n",
       "\n",
       "    .dataframe tbody tr th {\n",
       "        vertical-align: top;\n",
       "    }\n",
       "\n",
       "    .dataframe thead tr th {\n",
       "        text-align: left;\n",
       "    }\n",
       "\n",
       "    .dataframe thead tr:last-of-type th {\n",
       "        text-align: right;\n",
       "    }\n",
       "</style>\n",
       "<table border=\"1\" class=\"dataframe\">\n",
       "  <thead>\n",
       "    <tr>\n",
       "      <th></th>\n",
       "      <th>sum</th>\n",
       "      <th>count</th>\n",
       "      <th>mean</th>\n",
       "    </tr>\n",
       "    <tr>\n",
       "      <th></th>\n",
       "      <th>debt</th>\n",
       "      <th>debt</th>\n",
       "      <th>debt</th>\n",
       "    </tr>\n",
       "    <tr>\n",
       "      <th>children</th>\n",
       "      <th></th>\n",
       "      <th></th>\n",
       "      <th></th>\n",
       "    </tr>\n",
       "  </thead>\n",
       "  <tbody>\n",
       "    <tr>\n",
       "      <th>0</th>\n",
       "      <td>1063</td>\n",
       "      <td>14091</td>\n",
       "      <td>7.543822</td>\n",
       "    </tr>\n",
       "    <tr>\n",
       "      <th>1</th>\n",
       "      <td>445</td>\n",
       "      <td>4855</td>\n",
       "      <td>9.165808</td>\n",
       "    </tr>\n",
       "    <tr>\n",
       "      <th>2</th>\n",
       "      <td>202</td>\n",
       "      <td>2128</td>\n",
       "      <td>9.492481</td>\n",
       "    </tr>\n",
       "    <tr>\n",
       "      <th>3</th>\n",
       "      <td>27</td>\n",
       "      <td>330</td>\n",
       "      <td>8.181818</td>\n",
       "    </tr>\n",
       "    <tr>\n",
       "      <th>4</th>\n",
       "      <td>4</td>\n",
       "      <td>41</td>\n",
       "      <td>9.756098</td>\n",
       "    </tr>\n",
       "    <tr>\n",
       "      <th>5</th>\n",
       "      <td>0</td>\n",
       "      <td>9</td>\n",
       "      <td>0.000000</td>\n",
       "    </tr>\n",
       "  </tbody>\n",
       "</table>\n",
       "</div>"
      ],
      "text/plain": [
       "           sum  count      mean\n",
       "          debt   debt      debt\n",
       "children                       \n",
       "0         1063  14091  7.543822\n",
       "1          445   4855  9.165808\n",
       "2          202   2128  9.492481\n",
       "3           27    330  8.181818\n",
       "4            4     41  9.756098\n",
       "5            0      9  0.000000"
      ]
     },
     "execution_count": 39,
     "metadata": {},
     "output_type": "execute_result"
    }
   ],
   "source": [
    "children_data = data.pivot_table(index='children',values='debt',aggfunc=['sum', 'count','mean'])\n",
    "children_data['mean'] = children_data['mean']*100\n",
    "children_data"
   ]
  },
  {
   "cell_type": "markdown",
   "id": "8b6de7da",
   "metadata": {},
   "source": [
    "~~В среднем процент людей, имеющих долги по кредиту в каждой категории, колеблется около 9-10%. \n",
    "У людей без детей, вероятность ниже на ~0.9 процентных пункта~~\n",
    "\n",
    "~~**Нет существенной зависимости между количеством детей и возвратом кредита в срок**~~\n",
    "\n",
    "Доля должников без детей существенно ниже. Возмножно это связанно с трудностью финансового планирования в услових неопределенности объема потребностей детей)\n",
    "\n",
    "**Есть зависимость между количеством детей и возвратом кредита в срок**"
   ]
  },
  {
   "cell_type": "markdown",
   "id": "514bb149",
   "metadata": {},
   "source": [
    "### Есть ли зависимость между семейным положением и возвратом кредита в срок?"
   ]
  },
  {
   "cell_type": "code",
   "execution_count": 40,
   "id": "a92b638c",
   "metadata": {},
   "outputs": [
    {
     "data": {
      "text/html": [
       "<div>\n",
       "<style scoped>\n",
       "    .dataframe tbody tr th:only-of-type {\n",
       "        vertical-align: middle;\n",
       "    }\n",
       "\n",
       "    .dataframe tbody tr th {\n",
       "        vertical-align: top;\n",
       "    }\n",
       "\n",
       "    .dataframe thead tr th {\n",
       "        text-align: left;\n",
       "    }\n",
       "\n",
       "    .dataframe thead tr:last-of-type th {\n",
       "        text-align: right;\n",
       "    }\n",
       "</style>\n",
       "<table border=\"1\" class=\"dataframe\">\n",
       "  <thead>\n",
       "    <tr>\n",
       "      <th></th>\n",
       "      <th>sum</th>\n",
       "      <th>count</th>\n",
       "      <th>mean</th>\n",
       "    </tr>\n",
       "    <tr>\n",
       "      <th></th>\n",
       "      <th>debt</th>\n",
       "      <th>debt</th>\n",
       "      <th>debt</th>\n",
       "    </tr>\n",
       "    <tr>\n",
       "      <th>family_status_id</th>\n",
       "      <th></th>\n",
       "      <th></th>\n",
       "      <th></th>\n",
       "    </tr>\n",
       "  </thead>\n",
       "  <tbody>\n",
       "    <tr>\n",
       "      <th>0</th>\n",
       "      <td>931</td>\n",
       "      <td>12339</td>\n",
       "      <td>7.545182</td>\n",
       "    </tr>\n",
       "    <tr>\n",
       "      <th>1</th>\n",
       "      <td>388</td>\n",
       "      <td>4151</td>\n",
       "      <td>9.347145</td>\n",
       "    </tr>\n",
       "    <tr>\n",
       "      <th>2</th>\n",
       "      <td>63</td>\n",
       "      <td>959</td>\n",
       "      <td>6.569343</td>\n",
       "    </tr>\n",
       "    <tr>\n",
       "      <th>3</th>\n",
       "      <td>85</td>\n",
       "      <td>1195</td>\n",
       "      <td>7.112971</td>\n",
       "    </tr>\n",
       "    <tr>\n",
       "      <th>4</th>\n",
       "      <td>274</td>\n",
       "      <td>2810</td>\n",
       "      <td>9.750890</td>\n",
       "    </tr>\n",
       "  </tbody>\n",
       "</table>\n",
       "</div>"
      ],
      "text/plain": [
       "                  sum  count      mean\n",
       "                 debt   debt      debt\n",
       "family_status_id                      \n",
       "0                 931  12339  7.545182\n",
       "1                 388   4151  9.347145\n",
       "2                  63    959  6.569343\n",
       "3                  85   1195  7.112971\n",
       "4                 274   2810  9.750890"
      ]
     },
     "execution_count": 40,
     "metadata": {},
     "output_type": "execute_result"
    }
   ],
   "source": [
    "family_status_data = data.pivot_table(index='family_status_id',values='debt',aggfunc=['sum', 'count','mean'])\n",
    "family_status_data['mean'] = family_status_data['mean']*100\n",
    "\n",
    "family_status_data"
   ]
  },
  {
   "cell_type": "markdown",
   "id": "a2b9d93e",
   "metadata": {},
   "source": [
    "Вдовы/вдовцы и люди в разводе реже имеют задолжностьпо кредиту - возможно они расчитывают только на себя и лучше оценивают свое финансовое положение\n",
    "\n",
    "Следующимим идут люди в браке\n",
    "\n",
    "В зоне риска находятся неженатые и живущие гражданским браком.\n",
    "\n",
    "Разница между категориями до 2 проценных пунктов, \n",
    "**можно сказать,что есть зависимость между семейным положением и возвратом кредита в срок**\n"
   ]
  },
  {
   "cell_type": "code",
   "execution_count": 41,
   "id": "8d5b127b",
   "metadata": {
    "scrolled": true
   },
   "outputs": [
    {
     "data": {
      "text/html": [
       "<div>\n",
       "<style scoped>\n",
       "    .dataframe tbody tr th:only-of-type {\n",
       "        vertical-align: middle;\n",
       "    }\n",
       "\n",
       "    .dataframe tbody tr th {\n",
       "        vertical-align: top;\n",
       "    }\n",
       "\n",
       "    .dataframe thead th {\n",
       "        text-align: right;\n",
       "    }\n",
       "</style>\n",
       "<table border=\"1\" class=\"dataframe\">\n",
       "  <thead>\n",
       "    <tr style=\"text-align: right;\">\n",
       "      <th></th>\n",
       "      <th>family_status_id</th>\n",
       "      <th>family_status</th>\n",
       "    </tr>\n",
       "  </thead>\n",
       "  <tbody>\n",
       "    <tr>\n",
       "      <th>0</th>\n",
       "      <td>0</td>\n",
       "      <td>женат / замужем</td>\n",
       "    </tr>\n",
       "    <tr>\n",
       "      <th>1</th>\n",
       "      <td>1</td>\n",
       "      <td>гражданский брак</td>\n",
       "    </tr>\n",
       "    <tr>\n",
       "      <th>2</th>\n",
       "      <td>2</td>\n",
       "      <td>вдовец / вдова</td>\n",
       "    </tr>\n",
       "    <tr>\n",
       "      <th>3</th>\n",
       "      <td>3</td>\n",
       "      <td>в разводе</td>\n",
       "    </tr>\n",
       "    <tr>\n",
       "      <th>4</th>\n",
       "      <td>4</td>\n",
       "      <td>не женат / не замужем</td>\n",
       "    </tr>\n",
       "  </tbody>\n",
       "</table>\n",
       "</div>"
      ],
      "text/plain": [
       "   family_status_id          family_status\n",
       "0                 0        женат / замужем\n",
       "1                 1       гражданский брак\n",
       "2                 2         вдовец / вдова\n",
       "3                 3              в разводе\n",
       "4                 4  не женат / не замужем"
      ]
     },
     "execution_count": 41,
     "metadata": {},
     "output_type": "execute_result"
    }
   ],
   "source": [
    "family_data"
   ]
  },
  {
   "cell_type": "markdown",
   "id": "05159c58",
   "metadata": {},
   "source": [
    "### Есть ли зависимость между уровнем дохода и возвратом кредита в срок?"
   ]
  },
  {
   "cell_type": "code",
   "execution_count": 42,
   "id": "208095a3",
   "metadata": {},
   "outputs": [
    {
     "data": {
      "text/html": [
       "<div>\n",
       "<style scoped>\n",
       "    .dataframe tbody tr th:only-of-type {\n",
       "        vertical-align: middle;\n",
       "    }\n",
       "\n",
       "    .dataframe tbody tr th {\n",
       "        vertical-align: top;\n",
       "    }\n",
       "\n",
       "    .dataframe thead th {\n",
       "        text-align: right;\n",
       "    }\n",
       "</style>\n",
       "<table border=\"1\" class=\"dataframe\">\n",
       "  <thead>\n",
       "    <tr style=\"text-align: right;\">\n",
       "      <th>debt</th>\n",
       "      <th>0</th>\n",
       "      <th>1</th>\n",
       "      <th>ratio</th>\n",
       "    </tr>\n",
       "    <tr>\n",
       "      <th>total_income_category</th>\n",
       "      <th></th>\n",
       "      <th></th>\n",
       "      <th></th>\n",
       "    </tr>\n",
       "  </thead>\n",
       "  <tbody>\n",
       "    <tr>\n",
       "      <th>A</th>\n",
       "      <td>23</td>\n",
       "      <td>2</td>\n",
       "      <td>8.695652</td>\n",
       "    </tr>\n",
       "    <tr>\n",
       "      <th>B</th>\n",
       "      <td>4685</td>\n",
       "      <td>356</td>\n",
       "      <td>7.598719</td>\n",
       "    </tr>\n",
       "    <tr>\n",
       "      <th>C</th>\n",
       "      <td>12723</td>\n",
       "      <td>1190</td>\n",
       "      <td>9.353140</td>\n",
       "    </tr>\n",
       "    <tr>\n",
       "      <th>D</th>\n",
       "      <td>329</td>\n",
       "      <td>21</td>\n",
       "      <td>6.382979</td>\n",
       "    </tr>\n",
       "    <tr>\n",
       "      <th>E</th>\n",
       "      <td>1953</td>\n",
       "      <td>172</td>\n",
       "      <td>8.806964</td>\n",
       "    </tr>\n",
       "  </tbody>\n",
       "</table>\n",
       "</div>"
      ],
      "text/plain": [
       "debt                       0     1     ratio\n",
       "total_income_category                       \n",
       "A                         23     2  8.695652\n",
       "B                       4685   356  7.598719\n",
       "C                      12723  1190  9.353140\n",
       "D                        329    21  6.382979\n",
       "E                       1953   172  8.806964"
      ]
     },
     "execution_count": 42,
     "metadata": {},
     "output_type": "execute_result"
    }
   ],
   "source": [
    "total_income_data = data.pivot_table(index='total_income_category', columns='debt', values='purpose_category', aggfunc='count')\n",
    "\n",
    "total_income_data['ratio'] = total_income_data[1] / total_income_data[0] * 100\n",
    "total_income_data"
   ]
  },
  {
   "cell_type": "markdown",
   "id": "08bcf1a9",
   "metadata": {},
   "source": [
    "Можно увидеть что лучше всех возвращают кредиты люди со средним уровнем дохода (категория D)\n",
    "и люди с высоким уровнем дохода (категория B)\n",
    "\n",
    "\n",
    "Люди с супервысоким, супернизким и средними доходами (A С и D)возвращают кредиты приблизительно одинаково.\n",
    "\n",
    "Можно утвержать что **есть зависимость между уровнем дохода и возвратом кредита в срок**\n",
    "но характер заисимости интересный)"
   ]
  },
  {
   "cell_type": "markdown",
   "id": "97b58701",
   "metadata": {},
   "source": [
    "### Как разные цели кредита влияют на его возврат в срок?"
   ]
  },
  {
   "cell_type": "code",
   "execution_count": 43,
   "id": "ba25e8d9",
   "metadata": {},
   "outputs": [
    {
     "data": {
      "text/html": [
       "<div>\n",
       "<style scoped>\n",
       "    .dataframe tbody tr th:only-of-type {\n",
       "        vertical-align: middle;\n",
       "    }\n",
       "\n",
       "    .dataframe tbody tr th {\n",
       "        vertical-align: top;\n",
       "    }\n",
       "\n",
       "    .dataframe thead th {\n",
       "        text-align: right;\n",
       "    }\n",
       "</style>\n",
       "<table border=\"1\" class=\"dataframe\">\n",
       "  <thead>\n",
       "    <tr style=\"text-align: right;\">\n",
       "      <th>debt</th>\n",
       "      <th>0</th>\n",
       "      <th>1</th>\n",
       "      <th>ratio</th>\n",
       "    </tr>\n",
       "    <tr>\n",
       "      <th>purpose_category</th>\n",
       "      <th></th>\n",
       "      <th></th>\n",
       "      <th></th>\n",
       "    </tr>\n",
       "  </thead>\n",
       "  <tbody>\n",
       "    <tr>\n",
       "      <th>операции с автомобилем</th>\n",
       "      <td>3903</td>\n",
       "      <td>403</td>\n",
       "      <td>10.325391</td>\n",
       "    </tr>\n",
       "    <tr>\n",
       "      <th>операции с недвижимостью</th>\n",
       "      <td>10029</td>\n",
       "      <td>782</td>\n",
       "      <td>7.797388</td>\n",
       "    </tr>\n",
       "    <tr>\n",
       "      <th>получение образования</th>\n",
       "      <td>3643</td>\n",
       "      <td>370</td>\n",
       "      <td>10.156464</td>\n",
       "    </tr>\n",
       "    <tr>\n",
       "      <th>проведение свадьбы</th>\n",
       "      <td>2138</td>\n",
       "      <td>186</td>\n",
       "      <td>8.699719</td>\n",
       "    </tr>\n",
       "  </tbody>\n",
       "</table>\n",
       "</div>"
      ],
      "text/plain": [
       "debt                          0    1      ratio\n",
       "purpose_category                               \n",
       "операции с автомобилем     3903  403  10.325391\n",
       "операции с недвижимостью  10029  782   7.797388\n",
       "получение образования      3643  370  10.156464\n",
       "проведение свадьбы         2138  186   8.699719"
      ]
     },
     "execution_count": 43,
     "metadata": {},
     "output_type": "execute_result"
    }
   ],
   "source": [
    "purpose_category_data = data.pivot_table(index='purpose_category', columns='debt', values='purpose', aggfunc='count')\n",
    "\n",
    "purpose_category_data['ratio'] = purpose_category_data[1] / purpose_category_data[0] * 100\n",
    "purpose_category_data"
   ]
  },
  {
   "cell_type": "markdown",
   "id": "10ece1f6",
   "metadata": {},
   "source": [
    "Лучше всего отдают кредиты за свадьбу и недвижимость, в случае покупки автомобиля и получение образования проблем возникает больше. Можно предположить, что это связанно с размером кредита в случае свадьбы и его продуманностью, в случае покупки недвижимости\n",
    "\n",
    "Можно уттверждать, что есть зависимость между возвратом кредита и целями, на который он взят.\n"
   ]
  },
  {
   "cell_type": "markdown",
   "id": "576ea107",
   "metadata": {},
   "source": [
    "<a id=\"common_answer_id\"></a>\n",
    "## Общий вывод:"
   ]
  },
  {
   "cell_type": "markdown",
   "id": "ddd1ffc0",
   "metadata": {},
   "source": [
    "~~При выдаче кредита банку стоит обращать внимние на семейное положение и цели, на которые берется кредит. Также следует учитывать уровень дохода клиента.\n",
    "Наличие или отсутствие детей в семье детей не влияет на надежность клиента.~~\n",
    "\n",
    "\n",
    "При выдаче кредита банку стоит обращать внимние на семейное положение и цели, на которые берется кредит. Также следует учитывать уровень дохода клиента. Отсутствие детей в семье детей повышает надежность клиента."
   ]
  }
 ],
 "metadata": {
  "ExecuteTimeLog": [
   {
    "duration": 657,
    "start_time": "2022-03-10T16:15:01.530Z"
   },
   {
    "duration": 99,
    "start_time": "2022-03-10T16:15:03.906Z"
   },
   {
    "duration": 56,
    "start_time": "2022-03-10T16:15:11.661Z"
   },
   {
    "duration": 12,
    "start_time": "2022-03-10T16:15:17.815Z"
   },
   {
    "duration": 11,
    "start_time": "2022-03-10T16:15:34.838Z"
   },
   {
    "duration": 4,
    "start_time": "2022-03-10T16:16:05.480Z"
   },
   {
    "duration": 5,
    "start_time": "2022-03-10T16:17:11.010Z"
   },
   {
    "duration": 5,
    "start_time": "2022-03-10T16:21:57.176Z"
   },
   {
    "duration": 7,
    "start_time": "2022-03-10T16:22:09.572Z"
   },
   {
    "duration": 5,
    "start_time": "2022-03-10T16:22:13.393Z"
   },
   {
    "duration": 58,
    "start_time": "2022-03-10T16:28:29.357Z"
   },
   {
    "duration": 12,
    "start_time": "2022-03-10T16:28:32.249Z"
   },
   {
    "duration": 12,
    "start_time": "2022-03-10T16:28:40.470Z"
   },
   {
    "duration": 8,
    "start_time": "2022-03-10T16:28:50.486Z"
   },
   {
    "duration": 24,
    "start_time": "2022-03-10T16:29:02.304Z"
   },
   {
    "duration": 9,
    "start_time": "2022-03-10T16:30:10.622Z"
   },
   {
    "duration": 15,
    "start_time": "2022-03-10T16:30:18.472Z"
   },
   {
    "duration": 18,
    "start_time": "2022-03-10T16:31:07.090Z"
   },
   {
    "duration": 8,
    "start_time": "2022-03-10T16:31:23.078Z"
   },
   {
    "duration": 50,
    "start_time": "2022-03-10T16:31:34.605Z"
   },
   {
    "duration": 7,
    "start_time": "2022-03-10T16:31:38.940Z"
   },
   {
    "duration": 51,
    "start_time": "2022-03-10T16:32:38.565Z"
   },
   {
    "duration": 11,
    "start_time": "2022-03-10T16:32:40.204Z"
   },
   {
    "duration": 5,
    "start_time": "2022-03-10T16:32:45.635Z"
   },
   {
    "duration": 5,
    "start_time": "2022-03-10T16:32:47.518Z"
   },
   {
    "duration": 11,
    "start_time": "2022-03-10T16:32:56.300Z"
   },
   {
    "duration": 5,
    "start_time": "2022-03-10T16:52:47.641Z"
   },
   {
    "duration": 61,
    "start_time": "2022-03-10T16:53:19.060Z"
   },
   {
    "duration": 12,
    "start_time": "2022-03-10T16:53:20.910Z"
   },
   {
    "duration": 5,
    "start_time": "2022-03-10T16:53:23.992Z"
   },
   {
    "duration": 5,
    "start_time": "2022-03-10T16:53:39.591Z"
   },
   {
    "duration": 5,
    "start_time": "2022-03-10T16:54:01.514Z"
   },
   {
    "duration": 4,
    "start_time": "2022-03-10T16:54:05.280Z"
   },
   {
    "duration": 4,
    "start_time": "2022-03-10T16:54:50.036Z"
   },
   {
    "duration": 5,
    "start_time": "2022-03-10T16:55:02.945Z"
   },
   {
    "duration": 4,
    "start_time": "2022-03-10T16:55:09.910Z"
   },
   {
    "duration": 7,
    "start_time": "2022-03-10T16:55:27.226Z"
   },
   {
    "duration": 8,
    "start_time": "2022-03-10T16:57:56.251Z"
   },
   {
    "duration": 8,
    "start_time": "2022-03-10T16:58:05.076Z"
   },
   {
    "duration": 318,
    "start_time": "2022-03-10T17:00:28.275Z"
   },
   {
    "duration": 78,
    "start_time": "2022-03-10T17:00:32.738Z"
   },
   {
    "duration": 604,
    "start_time": "2022-03-10T17:00:41.017Z"
   },
   {
    "duration": 4,
    "start_time": "2022-03-10T17:01:12.095Z"
   },
   {
    "duration": 13,
    "start_time": "2022-03-10T17:02:02.323Z"
   },
   {
    "duration": 23,
    "start_time": "2022-03-10T17:02:39.250Z"
   },
   {
    "duration": 7,
    "start_time": "2022-03-10T17:03:23.479Z"
   },
   {
    "duration": 14,
    "start_time": "2022-03-10T17:03:32.954Z"
   },
   {
    "duration": 20,
    "start_time": "2022-03-10T17:04:36.370Z"
   },
   {
    "duration": 4,
    "start_time": "2022-03-10T17:12:02.335Z"
   },
   {
    "duration": 14,
    "start_time": "2022-03-10T17:12:07.335Z"
   },
   {
    "duration": 11,
    "start_time": "2022-03-10T17:12:10.966Z"
   },
   {
    "duration": 15,
    "start_time": "2022-03-10T17:12:26.440Z"
   },
   {
    "duration": 15,
    "start_time": "2022-03-10T17:12:29.382Z"
   },
   {
    "duration": 14,
    "start_time": "2022-03-10T17:12:32.288Z"
   },
   {
    "duration": 15,
    "start_time": "2022-03-10T17:12:36.516Z"
   },
   {
    "duration": 4,
    "start_time": "2022-03-10T17:17:37.275Z"
   },
   {
    "duration": 11,
    "start_time": "2022-03-10T17:17:50.760Z"
   },
   {
    "duration": 287,
    "start_time": "2022-03-10T17:18:21.504Z"
   },
   {
    "duration": 4,
    "start_time": "2022-03-10T17:18:27.180Z"
   },
   {
    "duration": 12,
    "start_time": "2022-03-10T17:18:29.730Z"
   },
   {
    "duration": 6,
    "start_time": "2022-03-10T17:19:09.980Z"
   },
   {
    "duration": 12,
    "start_time": "2022-03-10T17:19:31.425Z"
   },
   {
    "duration": 7,
    "start_time": "2022-03-10T17:19:38.892Z"
   },
   {
    "duration": 648,
    "start_time": "2022-03-10T17:20:08.741Z"
   },
   {
    "duration": 18,
    "start_time": "2022-03-10T17:20:25.460Z"
   },
   {
    "duration": 16,
    "start_time": "2022-03-10T17:20:33.924Z"
   },
   {
    "duration": 16,
    "start_time": "2022-03-10T17:20:47.915Z"
   },
   {
    "duration": 31,
    "start_time": "2022-03-10T17:22:13.685Z"
   },
   {
    "duration": 8,
    "start_time": "2022-03-10T17:23:17.027Z"
   },
   {
    "duration": 87,
    "start_time": "2022-03-10T17:26:23.808Z"
   },
   {
    "duration": 22,
    "start_time": "2022-03-10T17:26:35.515Z"
   },
   {
    "duration": 6,
    "start_time": "2022-03-10T17:30:28.764Z"
   },
   {
    "duration": 5,
    "start_time": "2022-03-10T17:30:55.807Z"
   },
   {
    "duration": 6,
    "start_time": "2022-03-10T17:31:10.247Z"
   },
   {
    "duration": 6,
    "start_time": "2022-03-10T17:32:12.657Z"
   },
   {
    "duration": 6,
    "start_time": "2022-03-10T17:33:28.490Z"
   },
   {
    "duration": 6,
    "start_time": "2022-03-10T17:34:53.132Z"
   },
   {
    "duration": 7,
    "start_time": "2022-03-10T17:34:59.396Z"
   },
   {
    "duration": 8,
    "start_time": "2022-03-10T17:36:00.826Z"
   },
   {
    "duration": 7,
    "start_time": "2022-03-10T17:37:07.122Z"
   },
   {
    "duration": 5,
    "start_time": "2022-03-10T17:37:21.797Z"
   },
   {
    "duration": 7,
    "start_time": "2022-03-10T17:37:37.051Z"
   },
   {
    "duration": 6,
    "start_time": "2022-03-10T17:37:47.193Z"
   },
   {
    "duration": 6,
    "start_time": "2022-03-10T17:37:56.658Z"
   },
   {
    "duration": 6,
    "start_time": "2022-03-10T17:38:07.748Z"
   },
   {
    "duration": 6,
    "start_time": "2022-03-10T17:38:14.951Z"
   },
   {
    "duration": 5,
    "start_time": "2022-03-10T17:38:19.420Z"
   },
   {
    "duration": 5,
    "start_time": "2022-03-10T17:38:37.116Z"
   },
   {
    "duration": 6,
    "start_time": "2022-03-10T17:39:03.980Z"
   },
   {
    "duration": 79,
    "start_time": "2022-03-10T17:45:47.775Z"
   },
   {
    "duration": 8,
    "start_time": "2022-03-10T17:46:09.108Z"
   },
   {
    "duration": 12,
    "start_time": "2022-03-10T17:46:23.415Z"
   },
   {
    "duration": 283,
    "start_time": "2022-03-10T17:46:39.508Z"
   },
   {
    "duration": 79,
    "start_time": "2022-03-10T17:46:44.561Z"
   },
   {
    "duration": 283,
    "start_time": "2022-03-10T17:46:52.417Z"
   },
   {
    "duration": 264,
    "start_time": "2022-03-10T17:46:57.128Z"
   },
   {
    "duration": 14,
    "start_time": "2022-03-10T17:47:00.800Z"
   },
   {
    "duration": 11,
    "start_time": "2022-03-10T17:47:37.096Z"
   },
   {
    "duration": 7,
    "start_time": "2022-03-10T17:47:42.541Z"
   },
   {
    "duration": 282,
    "start_time": "2022-03-10T17:48:03.664Z"
   },
   {
    "duration": 10,
    "start_time": "2022-03-10T17:48:11.880Z"
   },
   {
    "duration": 11,
    "start_time": "2022-03-10T17:48:16.016Z"
   },
   {
    "duration": 10,
    "start_time": "2022-03-10T17:48:53.417Z"
   },
   {
    "duration": 270,
    "start_time": "2022-03-10T17:49:08.160Z"
   },
   {
    "duration": 9,
    "start_time": "2022-03-10T17:49:10.316Z"
   },
   {
    "duration": 6,
    "start_time": "2022-03-10T17:49:11.545Z"
   },
   {
    "duration": 10,
    "start_time": "2022-03-10T17:49:14.319Z"
   },
   {
    "duration": 7,
    "start_time": "2022-03-10T17:49:15.632Z"
   },
   {
    "duration": 6638,
    "start_time": "2022-03-10T17:49:30.208Z"
   },
   {
    "duration": 4,
    "start_time": "2022-03-10T17:49:46.210Z"
   },
   {
    "duration": 6,
    "start_time": "2022-03-10T17:49:50.695Z"
   },
   {
    "duration": 6589,
    "start_time": "2022-03-10T17:50:20.274Z"
   },
   {
    "duration": 278,
    "start_time": "2022-03-10T17:57:55.402Z"
   },
   {
    "duration": 87,
    "start_time": "2022-03-10T17:58:00.582Z"
   },
   {
    "duration": 4,
    "start_time": "2022-03-10T17:58:05.334Z"
   },
   {
    "duration": 13,
    "start_time": "2022-03-10T17:58:06.956Z"
   },
   {
    "duration": 5,
    "start_time": "2022-03-10T17:58:14.679Z"
   },
   {
    "duration": 5,
    "start_time": "2022-03-10T17:58:23.232Z"
   },
   {
    "duration": 4,
    "start_time": "2022-03-10T18:02:00.047Z"
   },
   {
    "duration": 10,
    "start_time": "2022-03-10T18:02:33.875Z"
   },
   {
    "duration": 7,
    "start_time": "2022-03-10T18:02:42.746Z"
   },
   {
    "duration": 16,
    "start_time": "2022-03-10T18:16:13.946Z"
   },
   {
    "duration": 14,
    "start_time": "2022-03-10T18:18:09.618Z"
   },
   {
    "duration": 15,
    "start_time": "2022-03-10T18:18:14.626Z"
   },
   {
    "duration": 14,
    "start_time": "2022-03-10T18:18:22.892Z"
   },
   {
    "duration": 265,
    "start_time": "2022-03-10T18:19:17.757Z"
   },
   {
    "duration": 277,
    "start_time": "2022-03-10T18:19:25.933Z"
   },
   {
    "duration": 279,
    "start_time": "2022-03-10T18:21:43.597Z"
   },
   {
    "duration": 262,
    "start_time": "2022-03-10T18:21:47.771Z"
   },
   {
    "duration": 254,
    "start_time": "2022-03-10T18:22:55.736Z"
   },
   {
    "duration": 318,
    "start_time": "2022-03-10T18:23:19.240Z"
   },
   {
    "duration": 40,
    "start_time": "2022-03-10T18:24:10.697Z"
   },
   {
    "duration": 21,
    "start_time": "2022-03-10T18:24:37.751Z"
   },
   {
    "duration": 21,
    "start_time": "2022-03-10T18:24:59.195Z"
   },
   {
    "duration": 20,
    "start_time": "2022-03-10T18:25:58.705Z"
   },
   {
    "duration": 22,
    "start_time": "2022-03-10T18:26:20.316Z"
   },
   {
    "duration": 6,
    "start_time": "2022-03-10T18:27:16.210Z"
   },
   {
    "duration": 6,
    "start_time": "2022-03-10T18:27:21.260Z"
   },
   {
    "duration": 6,
    "start_time": "2022-03-10T18:27:24.424Z"
   },
   {
    "duration": 24,
    "start_time": "2022-03-10T18:27:38.587Z"
   },
   {
    "duration": 16,
    "start_time": "2022-03-10T18:29:14.680Z"
   },
   {
    "duration": 7,
    "start_time": "2022-03-10T18:29:23.921Z"
   },
   {
    "duration": 4850,
    "start_time": "2022-03-10T18:29:36.145Z"
   },
   {
    "duration": 5,
    "start_time": "2022-03-10T18:29:57.808Z"
   },
   {
    "duration": 3,
    "start_time": "2022-03-10T18:30:39.329Z"
   },
   {
    "duration": 8,
    "start_time": "2022-03-10T18:30:42.583Z"
   },
   {
    "duration": 5196,
    "start_time": "2022-03-10T18:30:50.908Z"
   },
   {
    "duration": 4910,
    "start_time": "2022-03-10T18:30:58.796Z"
   },
   {
    "duration": 262,
    "start_time": "2022-03-10T18:31:10.519Z"
   },
   {
    "duration": 312,
    "start_time": "2022-03-10T18:31:12.826Z"
   },
   {
    "duration": 4,
    "start_time": "2022-03-10T18:31:57.307Z"
   },
   {
    "duration": 81,
    "start_time": "2022-03-10T18:32:06.383Z"
   },
   {
    "duration": 4,
    "start_time": "2022-03-10T18:32:11.127Z"
   },
   {
    "duration": 5,
    "start_time": "2022-03-10T18:32:23.669Z"
   },
   {
    "duration": 5,
    "start_time": "2022-03-10T18:32:53.152Z"
   },
   {
    "duration": 10,
    "start_time": "2022-03-10T18:33:00.217Z"
   },
   {
    "duration": 531,
    "start_time": "2022-03-15T06:20:54.810Z"
   },
   {
    "duration": 59,
    "start_time": "2022-03-15T06:20:57.861Z"
   },
   {
    "duration": 11,
    "start_time": "2022-03-15T06:20:59.876Z"
   },
   {
    "duration": 12,
    "start_time": "2022-03-15T06:22:59.586Z"
   },
   {
    "duration": 3,
    "start_time": "2022-03-15T06:25:20.121Z"
   },
   {
    "duration": 3,
    "start_time": "2022-03-15T06:28:03.074Z"
   },
   {
    "duration": 3,
    "start_time": "2022-03-15T06:28:35.667Z"
   },
   {
    "duration": 4,
    "start_time": "2022-03-15T06:28:44.159Z"
   },
   {
    "duration": 3,
    "start_time": "2022-03-15T06:28:53.605Z"
   },
   {
    "duration": 3,
    "start_time": "2022-03-15T06:35:22.806Z"
   },
   {
    "duration": 7,
    "start_time": "2022-03-15T06:35:27.887Z"
   },
   {
    "duration": 14,
    "start_time": "2022-03-15T06:36:18.751Z"
   },
   {
    "duration": 13,
    "start_time": "2022-03-15T06:36:22.689Z"
   },
   {
    "duration": 12,
    "start_time": "2022-03-15T06:36:28.009Z"
   },
   {
    "duration": 13,
    "start_time": "2022-03-15T06:36:31.075Z"
   },
   {
    "duration": 13,
    "start_time": "2022-03-15T06:36:34.450Z"
   },
   {
    "duration": 12,
    "start_time": "2022-03-15T06:36:37.909Z"
   },
   {
    "duration": 12,
    "start_time": "2022-03-15T06:38:25.003Z"
   },
   {
    "duration": 12,
    "start_time": "2022-03-15T06:38:29.555Z"
   },
   {
    "duration": 13,
    "start_time": "2022-03-15T06:38:33.798Z"
   },
   {
    "duration": 350,
    "start_time": "2022-03-15T06:39:01.896Z"
   },
   {
    "duration": 96,
    "start_time": "2022-03-15T06:39:04.172Z"
   },
   {
    "duration": 8,
    "start_time": "2022-03-15T06:39:10.235Z"
   },
   {
    "duration": 8,
    "start_time": "2022-03-15T06:39:17.640Z"
   },
   {
    "duration": 7,
    "start_time": "2022-03-15T06:39:20.881Z"
   },
   {
    "duration": 6,
    "start_time": "2022-03-15T06:39:23.527Z"
   },
   {
    "duration": 7,
    "start_time": "2022-03-15T06:39:27.196Z"
   },
   {
    "duration": 7,
    "start_time": "2022-03-15T06:39:32.169Z"
   },
   {
    "duration": 10,
    "start_time": "2022-03-15T06:39:52.391Z"
   },
   {
    "duration": 25,
    "start_time": "2022-03-15T06:41:31.495Z"
   },
   {
    "duration": 8,
    "start_time": "2022-03-15T06:41:45.197Z"
   },
   {
    "duration": 6,
    "start_time": "2022-03-15T06:42:37.935Z"
   },
   {
    "duration": 7,
    "start_time": "2022-03-15T06:42:40.290Z"
   },
   {
    "duration": 6,
    "start_time": "2022-03-15T06:42:45.923Z"
   },
   {
    "duration": 100,
    "start_time": "2022-03-15T06:43:52.349Z"
   },
   {
    "duration": 7,
    "start_time": "2022-03-15T06:44:37.145Z"
   },
   {
    "duration": 7,
    "start_time": "2022-03-15T06:47:24.276Z"
   },
   {
    "duration": 4,
    "start_time": "2022-03-15T06:47:52.789Z"
   },
   {
    "duration": 7,
    "start_time": "2022-03-15T06:47:54.322Z"
   },
   {
    "duration": 3,
    "start_time": "2022-03-15T06:48:05.551Z"
   },
   {
    "duration": 4,
    "start_time": "2022-03-15T06:48:12.141Z"
   },
   {
    "duration": 9,
    "start_time": "2022-03-15T07:09:41.512Z"
   },
   {
    "duration": 4,
    "start_time": "2022-03-15T07:10:16.126Z"
   },
   {
    "duration": 4,
    "start_time": "2022-03-15T07:10:21.287Z"
   },
   {
    "duration": 9,
    "start_time": "2022-03-15T07:10:32.042Z"
   },
   {
    "duration": 9,
    "start_time": "2022-03-15T07:10:35.835Z"
   },
   {
    "duration": 4,
    "start_time": "2022-03-15T07:10:37.877Z"
   },
   {
    "duration": 8,
    "start_time": "2022-03-15T07:11:10.249Z"
   },
   {
    "duration": 4,
    "start_time": "2022-03-15T07:11:12.435Z"
   },
   {
    "duration": 5,
    "start_time": "2022-03-15T07:11:33.878Z"
   },
   {
    "duration": 8,
    "start_time": "2022-03-15T07:11:41.445Z"
   },
   {
    "duration": 9,
    "start_time": "2022-03-15T07:11:47.913Z"
   },
   {
    "duration": 8,
    "start_time": "2022-03-15T07:16:34.669Z"
   },
   {
    "duration": 121,
    "start_time": "2022-03-15T07:20:27.415Z"
   },
   {
    "duration": 121,
    "start_time": "2022-03-15T07:20:37.435Z"
   },
   {
    "duration": 397,
    "start_time": "2022-03-15T07:20:39.526Z"
   },
   {
    "duration": 7,
    "start_time": "2022-03-15T07:20:50.142Z"
   },
   {
    "duration": 9,
    "start_time": "2022-03-15T07:20:57.405Z"
   },
   {
    "duration": 1162,
    "start_time": "2022-03-15T07:21:46.050Z"
   },
   {
    "duration": 85,
    "start_time": "2022-03-15T07:21:56.835Z"
   },
   {
    "duration": 11,
    "start_time": "2022-03-15T07:22:06.895Z"
   },
   {
    "duration": 10,
    "start_time": "2022-03-15T07:22:31.640Z"
   },
   {
    "duration": 89,
    "start_time": "2022-03-15T07:24:27.340Z"
   },
   {
    "duration": 12,
    "start_time": "2022-03-15T07:24:47.583Z"
   },
   {
    "duration": 9,
    "start_time": "2022-03-15T07:25:09.090Z"
   },
   {
    "duration": 8,
    "start_time": "2022-03-15T07:25:26.135Z"
   },
   {
    "duration": 10,
    "start_time": "2022-03-15T07:25:30.847Z"
   },
   {
    "duration": 8,
    "start_time": "2022-03-15T07:30:08.615Z"
   },
   {
    "duration": 14,
    "start_time": "2022-03-15T07:31:14.681Z"
   },
   {
    "duration": 4,
    "start_time": "2022-03-15T07:31:26.077Z"
   },
   {
    "duration": 100,
    "start_time": "2022-03-15T07:32:51.282Z"
   },
   {
    "duration": 90,
    "start_time": "2022-03-15T07:32:58.453Z"
   },
   {
    "duration": 10,
    "start_time": "2022-03-15T07:50:45.577Z"
   },
   {
    "duration": 12,
    "start_time": "2022-03-15T07:50:56.529Z"
   },
   {
    "duration": 4,
    "start_time": "2022-03-15T07:51:05.073Z"
   },
   {
    "duration": 4,
    "start_time": "2022-03-15T07:51:09.612Z"
   },
   {
    "duration": 4,
    "start_time": "2022-03-15T07:51:22.686Z"
   },
   {
    "duration": 12,
    "start_time": "2022-03-15T07:52:51.946Z"
   },
   {
    "duration": 7,
    "start_time": "2022-03-15T07:53:38.945Z"
   },
   {
    "duration": 17,
    "start_time": "2022-03-15T07:53:57.266Z"
   },
   {
    "duration": 5,
    "start_time": "2022-03-15T07:56:10.354Z"
   },
   {
    "duration": 9,
    "start_time": "2022-03-15T07:56:25.690Z"
   },
   {
    "duration": 5,
    "start_time": "2022-03-15T07:58:07.028Z"
   },
   {
    "duration": 293,
    "start_time": "2022-03-15T07:58:12.832Z"
   },
   {
    "duration": 583,
    "start_time": "2022-03-15T07:58:17.266Z"
   },
   {
    "duration": 135,
    "start_time": "2022-03-15T07:58:22.498Z"
   },
   {
    "duration": 283,
    "start_time": "2022-03-15T07:58:27.318Z"
   },
   {
    "duration": 6,
    "start_time": "2022-03-15T07:58:38.750Z"
   },
   {
    "duration": 5,
    "start_time": "2022-03-15T07:59:20.114Z"
   },
   {
    "duration": 4,
    "start_time": "2022-03-15T07:59:24.168Z"
   },
   {
    "duration": 46,
    "start_time": "2022-03-15T11:53:17.117Z"
   },
   {
    "duration": 2,
    "start_time": "2022-03-15T11:53:49.856Z"
   },
   {
    "duration": 3,
    "start_time": "2022-03-15T11:54:08.887Z"
   },
   {
    "duration": 16,
    "start_time": "2022-03-15T11:55:04.267Z"
   },
   {
    "duration": 15,
    "start_time": "2022-03-15T11:55:14.917Z"
   },
   {
    "duration": 16,
    "start_time": "2022-03-15T11:55:30.269Z"
   },
   {
    "duration": 589,
    "start_time": "2022-03-15T11:59:41.209Z"
   },
   {
    "duration": 47,
    "start_time": "2022-03-15T11:59:51.697Z"
   },
   {
    "duration": 16,
    "start_time": "2022-03-15T11:59:53.895Z"
   },
   {
    "duration": 10,
    "start_time": "2022-03-15T11:59:56.389Z"
   },
   {
    "duration": 16,
    "start_time": "2022-03-15T12:00:09.796Z"
   },
   {
    "duration": 2,
    "start_time": "2022-03-15T12:07:09.714Z"
   },
   {
    "duration": 3,
    "start_time": "2022-03-15T12:10:48.368Z"
   },
   {
    "duration": 138,
    "start_time": "2022-03-15T12:12:21.726Z"
   },
   {
    "duration": 9,
    "start_time": "2022-03-15T12:16:26.353Z"
   },
   {
    "duration": 9,
    "start_time": "2022-03-15T12:16:53.986Z"
   },
   {
    "duration": 111,
    "start_time": "2022-03-15T12:18:38.675Z"
   },
   {
    "duration": 8,
    "start_time": "2022-03-15T12:25:02.492Z"
   },
   {
    "duration": 7,
    "start_time": "2022-03-15T12:25:27.049Z"
   },
   {
    "duration": 6,
    "start_time": "2022-03-15T12:25:41.760Z"
   },
   {
    "duration": 6,
    "start_time": "2022-03-15T12:29:33.440Z"
   },
   {
    "duration": 12,
    "start_time": "2022-03-15T12:32:09.093Z"
   },
   {
    "duration": 106,
    "start_time": "2022-03-15T12:33:07.310Z"
   },
   {
    "duration": 5,
    "start_time": "2022-03-15T12:33:47.650Z"
   },
   {
    "duration": 3,
    "start_time": "2022-03-15T12:35:05.544Z"
   },
   {
    "duration": 8,
    "start_time": "2022-03-15T12:35:07.061Z"
   },
   {
    "duration": 853,
    "start_time": "2022-03-15T12:35:37.780Z"
   },
   {
    "duration": 8,
    "start_time": "2022-03-15T12:35:48.109Z"
   },
   {
    "duration": 15,
    "start_time": "2022-03-15T12:39:05.818Z"
   },
   {
    "duration": 18,
    "start_time": "2022-03-15T12:39:27.278Z"
   },
   {
    "duration": 113,
    "start_time": "2022-03-15T12:39:44.079Z"
   },
   {
    "duration": 15,
    "start_time": "2022-03-15T12:39:46.819Z"
   },
   {
    "duration": 16,
    "start_time": "2022-03-15T12:39:50.957Z"
   },
   {
    "duration": 14,
    "start_time": "2022-03-15T12:39:55.621Z"
   },
   {
    "duration": 15,
    "start_time": "2022-03-15T12:39:59.961Z"
   },
   {
    "duration": 18,
    "start_time": "2022-03-15T12:40:39.420Z"
   },
   {
    "duration": 18,
    "start_time": "2022-03-15T12:41:00.209Z"
   },
   {
    "duration": 14,
    "start_time": "2022-03-15T12:41:59.459Z"
   },
   {
    "duration": 15,
    "start_time": "2022-03-15T12:42:27.884Z"
   },
   {
    "duration": 8,
    "start_time": "2022-03-15T13:08:11.126Z"
   },
   {
    "duration": 399,
    "start_time": "2022-03-15T13:12:18.255Z"
   },
   {
    "duration": 7,
    "start_time": "2022-03-15T13:14:10.646Z"
   },
   {
    "duration": 4,
    "start_time": "2022-03-15T13:14:26.343Z"
   },
   {
    "duration": 300,
    "start_time": "2022-03-15T13:15:25.842Z"
   },
   {
    "duration": 7,
    "start_time": "2022-03-15T13:15:37.724Z"
   },
   {
    "duration": 322,
    "start_time": "2022-03-15T13:40:07.372Z"
   },
   {
    "duration": 5,
    "start_time": "2022-03-15T13:40:23.563Z"
   },
   {
    "duration": 315,
    "start_time": "2022-03-15T13:40:40.581Z"
   },
   {
    "duration": 7,
    "start_time": "2022-03-15T13:40:51.203Z"
   },
   {
    "duration": 12,
    "start_time": "2022-03-15T13:40:58.469Z"
   },
   {
    "duration": 10,
    "start_time": "2022-03-15T13:41:29.942Z"
   },
   {
    "duration": 8,
    "start_time": "2022-03-15T13:48:27.364Z"
   },
   {
    "duration": 304,
    "start_time": "2022-03-15T13:51:51.556Z"
   },
   {
    "duration": 13,
    "start_time": "2022-03-15T13:52:23.434Z"
   },
   {
    "duration": 1110,
    "start_time": "2022-03-15T13:52:41.273Z"
   },
   {
    "duration": 8,
    "start_time": "2022-03-15T13:52:43.918Z"
   },
   {
    "duration": 289,
    "start_time": "2022-03-15T13:55:39.456Z"
   },
   {
    "duration": 4,
    "start_time": "2022-03-15T13:55:47.405Z"
   },
   {
    "duration": 9,
    "start_time": "2022-03-15T13:56:14.110Z"
   },
   {
    "duration": 5,
    "start_time": "2022-03-15T13:57:58.016Z"
   },
   {
    "duration": 16,
    "start_time": "2022-03-15T13:58:21.290Z"
   },
   {
    "duration": 16,
    "start_time": "2022-03-15T14:01:40.371Z"
   },
   {
    "duration": 16,
    "start_time": "2022-03-15T14:01:53.930Z"
   },
   {
    "duration": 27,
    "start_time": "2022-03-15T14:01:59.576Z"
   },
   {
    "duration": 2,
    "start_time": "2022-03-15T14:02:12.696Z"
   },
   {
    "duration": 7137,
    "start_time": "2022-03-15T14:04:51.864Z"
   },
   {
    "duration": 5,
    "start_time": "2022-03-15T14:05:52.917Z"
   },
   {
    "duration": 303,
    "start_time": "2022-03-15T14:07:37.738Z"
   },
   {
    "duration": 287,
    "start_time": "2022-03-15T14:07:41.327Z"
   },
   {
    "duration": 284,
    "start_time": "2022-03-15T14:07:48.603Z"
   },
   {
    "duration": 4,
    "start_time": "2022-03-15T14:08:15.399Z"
   },
   {
    "duration": 289,
    "start_time": "2022-03-15T14:08:19.549Z"
   },
   {
    "duration": 334,
    "start_time": "2022-03-15T14:08:32.514Z"
   },
   {
    "duration": 274,
    "start_time": "2022-03-15T14:08:50.092Z"
   },
   {
    "duration": 5,
    "start_time": "2022-03-15T14:09:02.358Z"
   },
   {
    "duration": 287,
    "start_time": "2022-03-15T14:09:06.736Z"
   },
   {
    "duration": 6,
    "start_time": "2022-03-15T14:09:08.913Z"
   },
   {
    "duration": 4,
    "start_time": "2022-03-15T14:10:30.836Z"
   },
   {
    "duration": 5,
    "start_time": "2022-03-15T14:10:40.371Z"
   },
   {
    "duration": 5,
    "start_time": "2022-03-15T14:10:46.500Z"
   },
   {
    "duration": 8,
    "start_time": "2022-03-15T14:28:22.090Z"
   },
   {
    "duration": 7300,
    "start_time": "2022-03-15T14:28:46.974Z"
   },
   {
    "duration": 16,
    "start_time": "2022-03-15T14:28:59.716Z"
   },
   {
    "duration": 18,
    "start_time": "2022-03-15T14:29:22.719Z"
   },
   {
    "duration": 19,
    "start_time": "2022-03-15T14:29:33.870Z"
   },
   {
    "duration": 24,
    "start_time": "2022-03-15T14:29:50.571Z"
   },
   {
    "duration": 22,
    "start_time": "2022-03-15T14:30:09.928Z"
   },
   {
    "duration": 6,
    "start_time": "2022-03-15T14:31:38.356Z"
   },
   {
    "duration": 5,
    "start_time": "2022-03-15T14:33:09.215Z"
   },
   {
    "duration": 15,
    "start_time": "2022-03-15T14:37:20.819Z"
   },
   {
    "duration": 5,
    "start_time": "2022-03-15T14:37:35.243Z"
   },
   {
    "duration": 6,
    "start_time": "2022-03-15T14:39:26.014Z"
   },
   {
    "duration": 16,
    "start_time": "2022-03-15T14:39:43.833Z"
   },
   {
    "duration": 9,
    "start_time": "2022-03-15T14:39:49.384Z"
   },
   {
    "duration": 2,
    "start_time": "2022-03-15T14:42:50.769Z"
   },
   {
    "duration": 2,
    "start_time": "2022-03-15T14:45:14.628Z"
   },
   {
    "duration": 5,
    "start_time": "2022-03-15T14:45:22.161Z"
   },
   {
    "duration": 16,
    "start_time": "2022-03-15T14:45:51.707Z"
   },
   {
    "duration": 308,
    "start_time": "2022-03-15T14:46:30.668Z"
   },
   {
    "duration": 5,
    "start_time": "2022-03-15T14:46:36.252Z"
   },
   {
    "duration": 7,
    "start_time": "2022-03-15T14:46:47.775Z"
   },
   {
    "duration": 7314,
    "start_time": "2022-03-15T14:47:26.606Z"
   },
   {
    "duration": 5,
    "start_time": "2022-03-15T14:47:55.382Z"
   },
   {
    "duration": 23,
    "start_time": "2022-03-15T14:48:15.367Z"
   },
   {
    "duration": 7,
    "start_time": "2022-03-15T14:48:18.189Z"
   },
   {
    "duration": 5,
    "start_time": "2022-03-15T14:48:22.021Z"
   },
   {
    "duration": 288,
    "start_time": "2022-03-15T14:48:51.937Z"
   },
   {
    "duration": 11,
    "start_time": "2022-03-15T14:48:56.068Z"
   },
   {
    "duration": 2,
    "start_time": "2022-03-15T14:51:25.480Z"
   },
   {
    "duration": 13,
    "start_time": "2022-03-15T14:52:04.045Z"
   },
   {
    "duration": 12,
    "start_time": "2022-03-15T14:55:59.892Z"
   },
   {
    "duration": 12,
    "start_time": "2022-03-15T14:56:03.721Z"
   },
   {
    "duration": 337,
    "start_time": "2022-03-15T14:56:11.529Z"
   },
   {
    "duration": 12,
    "start_time": "2022-03-15T14:56:15.264Z"
   },
   {
    "duration": 65,
    "start_time": "2022-03-15T14:56:25.218Z"
   },
   {
    "duration": 12,
    "start_time": "2022-03-15T14:56:30.590Z"
   },
   {
    "duration": 14,
    "start_time": "2022-03-15T14:56:37.242Z"
   },
   {
    "duration": 21,
    "start_time": "2022-03-15T15:02:05.722Z"
   },
   {
    "duration": 20,
    "start_time": "2022-03-15T15:02:15.156Z"
   },
   {
    "duration": 5,
    "start_time": "2022-03-15T15:02:35.233Z"
   },
   {
    "duration": 11,
    "start_time": "2022-03-15T15:02:41.327Z"
   },
   {
    "duration": 19,
    "start_time": "2022-03-15T15:11:23.422Z"
   },
   {
    "duration": 19,
    "start_time": "2022-03-15T15:11:49.022Z"
   },
   {
    "duration": 20,
    "start_time": "2022-03-15T15:11:51.846Z"
   },
   {
    "duration": 8,
    "start_time": "2022-03-15T15:12:00.300Z"
   },
   {
    "duration": 321,
    "start_time": "2022-03-15T15:12:44.507Z"
   },
   {
    "duration": 18,
    "start_time": "2022-03-15T15:12:56.797Z"
   },
   {
    "duration": 9,
    "start_time": "2022-03-15T15:12:58.808Z"
   },
   {
    "duration": 95,
    "start_time": "2022-03-15T15:14:55.494Z"
   },
   {
    "duration": 286,
    "start_time": "2022-03-15T15:16:57.519Z"
   },
   {
    "duration": 14,
    "start_time": "2022-03-15T15:17:24.640Z"
   },
   {
    "duration": 17,
    "start_time": "2022-03-15T15:17:32.238Z"
   },
   {
    "duration": 16,
    "start_time": "2022-03-15T15:19:39.808Z"
   },
   {
    "duration": 549,
    "start_time": "2022-03-15T15:19:56.310Z"
   },
   {
    "duration": 48,
    "start_time": "2022-03-15T15:19:56.860Z"
   },
   {
    "duration": 15,
    "start_time": "2022-03-15T15:19:56.910Z"
   },
   {
    "duration": 10,
    "start_time": "2022-03-15T15:19:56.927Z"
   },
   {
    "duration": 17,
    "start_time": "2022-03-15T15:19:56.938Z"
   },
   {
    "duration": 30,
    "start_time": "2022-03-15T15:19:56.957Z"
   },
   {
    "duration": 39,
    "start_time": "2022-03-15T15:19:56.989Z"
   },
   {
    "duration": 7,
    "start_time": "2022-03-15T15:19:57.031Z"
   },
   {
    "duration": 3,
    "start_time": "2022-03-15T15:19:57.040Z"
   },
   {
    "duration": 8,
    "start_time": "2022-03-15T15:19:57.045Z"
   },
   {
    "duration": 31,
    "start_time": "2022-03-15T15:19:57.054Z"
   },
   {
    "duration": 15,
    "start_time": "2022-03-15T15:19:57.087Z"
   },
   {
    "duration": 7,
    "start_time": "2022-03-15T15:19:57.104Z"
   },
   {
    "duration": 4,
    "start_time": "2022-03-15T15:19:57.112Z"
   },
   {
    "duration": 12,
    "start_time": "2022-03-15T15:19:57.117Z"
   },
   {
    "duration": 4,
    "start_time": "2022-03-15T15:19:57.130Z"
   },
   {
    "duration": 6,
    "start_time": "2022-03-15T15:19:57.135Z"
   },
   {
    "duration": 39,
    "start_time": "2022-03-15T15:19:57.143Z"
   },
   {
    "duration": 12,
    "start_time": "2022-03-15T15:19:57.183Z"
   },
   {
    "duration": 16,
    "start_time": "2022-03-15T15:19:57.196Z"
   },
   {
    "duration": 12,
    "start_time": "2022-03-15T15:19:57.214Z"
   },
   {
    "duration": 10,
    "start_time": "2022-03-15T15:19:57.228Z"
   },
   {
    "duration": 5,
    "start_time": "2022-03-15T15:19:57.240Z"
   },
   {
    "duration": 12,
    "start_time": "2022-03-15T15:19:57.247Z"
   },
   {
    "duration": 7,
    "start_time": "2022-03-15T15:19:57.261Z"
   },
   {
    "duration": 13,
    "start_time": "2022-03-15T15:19:57.270Z"
   },
   {
    "duration": 15,
    "start_time": "2022-03-15T15:19:57.284Z"
   },
   {
    "duration": 22,
    "start_time": "2022-03-15T15:19:57.301Z"
   },
   {
    "duration": 5,
    "start_time": "2022-03-15T15:19:57.325Z"
   },
   {
    "duration": 7,
    "start_time": "2022-03-15T15:19:57.332Z"
   },
   {
    "duration": 12,
    "start_time": "2022-03-15T15:19:57.340Z"
   },
   {
    "duration": 36,
    "start_time": "2022-03-15T15:19:57.354Z"
   },
   {
    "duration": 11,
    "start_time": "2022-03-15T15:19:57.391Z"
   },
   {
    "duration": 3,
    "start_time": "2022-03-15T15:19:57.404Z"
   },
   {
    "duration": 11,
    "start_time": "2022-03-15T15:19:57.409Z"
   },
   {
    "duration": 14,
    "start_time": "2022-03-15T15:19:57.422Z"
   },
   {
    "duration": 52,
    "start_time": "2022-03-15T15:19:57.437Z"
   },
   {
    "duration": 8,
    "start_time": "2022-03-15T15:19:57.490Z"
   },
   {
    "duration": 16,
    "start_time": "2022-03-15T15:19:57.500Z"
   },
   {
    "duration": 6,
    "start_time": "2022-03-15T15:19:57.517Z"
   },
   {
    "duration": 17,
    "start_time": "2022-03-15T15:20:14.492Z"
   },
   {
    "duration": 18,
    "start_time": "2022-03-15T15:20:34.316Z"
   },
   {
    "duration": 18,
    "start_time": "2022-03-15T15:32:21.752Z"
   },
   {
    "duration": 397,
    "start_time": "2022-03-15T15:44:37.652Z"
   },
   {
    "duration": 21,
    "start_time": "2022-03-15T15:44:58.560Z"
   },
   {
    "duration": 844,
    "start_time": "2022-03-16T05:29:28.683Z"
   },
   {
    "duration": 67,
    "start_time": "2022-03-16T05:29:29.530Z"
   },
   {
    "duration": 27,
    "start_time": "2022-03-16T05:29:29.600Z"
   },
   {
    "duration": 16,
    "start_time": "2022-03-16T05:29:29.642Z"
   },
   {
    "duration": 15,
    "start_time": "2022-03-16T05:29:29.661Z"
   },
   {
    "duration": 22,
    "start_time": "2022-03-16T05:29:29.678Z"
   },
   {
    "duration": 71,
    "start_time": "2022-03-16T05:29:29.702Z"
   },
   {
    "duration": 11,
    "start_time": "2022-03-16T05:29:29.776Z"
   },
   {
    "duration": 4,
    "start_time": "2022-03-16T05:29:29.790Z"
   },
   {
    "duration": 10,
    "start_time": "2022-03-16T05:29:29.797Z"
   },
   {
    "duration": 11,
    "start_time": "2022-03-16T05:29:29.844Z"
   },
   {
    "duration": 24,
    "start_time": "2022-03-16T05:29:29.858Z"
   },
   {
    "duration": 12,
    "start_time": "2022-03-16T05:29:29.885Z"
   },
   {
    "duration": 5,
    "start_time": "2022-03-16T05:29:29.900Z"
   },
   {
    "duration": 15,
    "start_time": "2022-03-16T05:29:29.944Z"
   },
   {
    "duration": 6,
    "start_time": "2022-03-16T05:29:29.961Z"
   },
   {
    "duration": 9,
    "start_time": "2022-03-16T05:29:29.969Z"
   },
   {
    "duration": 5,
    "start_time": "2022-03-16T05:29:29.980Z"
   },
   {
    "duration": 58,
    "start_time": "2022-03-16T05:29:29.987Z"
   },
   {
    "duration": 10,
    "start_time": "2022-03-16T05:29:30.047Z"
   },
   {
    "duration": 15,
    "start_time": "2022-03-16T05:29:30.059Z"
   },
   {
    "duration": 24,
    "start_time": "2022-03-16T05:29:30.076Z"
   },
   {
    "duration": 8,
    "start_time": "2022-03-16T05:29:30.103Z"
   },
   {
    "duration": 44,
    "start_time": "2022-03-16T05:29:30.113Z"
   },
   {
    "duration": 15,
    "start_time": "2022-03-16T05:29:30.160Z"
   },
   {
    "duration": 10,
    "start_time": "2022-03-16T05:29:30.177Z"
   },
   {
    "duration": 56,
    "start_time": "2022-03-16T05:29:30.192Z"
   },
   {
    "duration": 35,
    "start_time": "2022-03-16T05:29:30.250Z"
   },
   {
    "duration": 10,
    "start_time": "2022-03-16T05:29:30.287Z"
   },
   {
    "duration": 46,
    "start_time": "2022-03-16T05:29:30.299Z"
   },
   {
    "duration": 18,
    "start_time": "2022-03-16T05:29:30.348Z"
   },
   {
    "duration": 24,
    "start_time": "2022-03-16T05:29:30.369Z"
   },
   {
    "duration": 48,
    "start_time": "2022-03-16T05:29:30.395Z"
   },
   {
    "duration": 7,
    "start_time": "2022-03-16T05:29:30.445Z"
   },
   {
    "duration": 27,
    "start_time": "2022-03-16T05:29:30.454Z"
   },
   {
    "duration": 25,
    "start_time": "2022-03-16T05:29:30.484Z"
   },
   {
    "duration": 49,
    "start_time": "2022-03-16T05:29:30.512Z"
   },
   {
    "duration": 10,
    "start_time": "2022-03-16T05:29:30.564Z"
   },
   {
    "duration": 40,
    "start_time": "2022-03-16T05:29:30.577Z"
   },
   {
    "duration": 8,
    "start_time": "2022-03-16T05:29:30.620Z"
   },
   {
    "duration": 29,
    "start_time": "2022-03-16T05:29:30.644Z"
   },
   {
    "duration": 30,
    "start_time": "2022-03-16T05:29:30.675Z"
   },
   {
    "duration": 433,
    "start_time": "2022-03-26T19:02:33.556Z"
   },
   {
    "duration": 58,
    "start_time": "2022-03-26T19:02:33.991Z"
   },
   {
    "duration": 19,
    "start_time": "2022-03-26T19:02:34.051Z"
   },
   {
    "duration": 12,
    "start_time": "2022-03-26T19:02:34.073Z"
   },
   {
    "duration": 18,
    "start_time": "2022-03-26T19:02:34.101Z"
   },
   {
    "duration": 19,
    "start_time": "2022-03-26T19:02:34.121Z"
   },
   {
    "duration": 61,
    "start_time": "2022-03-26T19:02:34.141Z"
   },
   {
    "duration": 10,
    "start_time": "2022-03-26T19:02:34.204Z"
   },
   {
    "duration": 4,
    "start_time": "2022-03-26T19:02:34.216Z"
   },
   {
    "duration": 13,
    "start_time": "2022-03-26T19:02:34.222Z"
   },
   {
    "duration": 9,
    "start_time": "2022-03-26T19:02:34.237Z"
   },
   {
    "duration": 53,
    "start_time": "2022-03-26T19:02:34.248Z"
   },
   {
    "duration": 7,
    "start_time": "2022-03-26T19:02:34.303Z"
   },
   {
    "duration": 5,
    "start_time": "2022-03-26T19:02:34.312Z"
   },
   {
    "duration": 18,
    "start_time": "2022-03-26T19:02:34.319Z"
   },
   {
    "duration": 7,
    "start_time": "2022-03-26T19:02:34.339Z"
   },
   {
    "duration": 18,
    "start_time": "2022-03-26T19:02:34.348Z"
   },
   {
    "duration": 6,
    "start_time": "2022-03-26T19:02:34.368Z"
   },
   {
    "duration": 27,
    "start_time": "2022-03-26T19:02:34.375Z"
   },
   {
    "duration": 9,
    "start_time": "2022-03-26T19:02:34.404Z"
   },
   {
    "duration": 20,
    "start_time": "2022-03-26T19:02:34.414Z"
   },
   {
    "duration": 17,
    "start_time": "2022-03-26T19:02:34.436Z"
   },
   {
    "duration": 16,
    "start_time": "2022-03-26T19:02:34.455Z"
   },
   {
    "duration": 30,
    "start_time": "2022-03-26T19:02:34.473Z"
   },
   {
    "duration": 26,
    "start_time": "2022-03-26T19:02:34.506Z"
   },
   {
    "duration": 11,
    "start_time": "2022-03-26T19:02:34.534Z"
   },
   {
    "duration": 24,
    "start_time": "2022-03-26T19:02:34.547Z"
   },
   {
    "duration": 46,
    "start_time": "2022-03-26T19:02:34.576Z"
   },
   {
    "duration": 8,
    "start_time": "2022-03-26T19:02:34.625Z"
   },
   {
    "duration": 9,
    "start_time": "2022-03-26T19:02:34.635Z"
   },
   {
    "duration": 16,
    "start_time": "2022-03-26T19:02:34.645Z"
   },
   {
    "duration": 39,
    "start_time": "2022-03-26T19:02:34.663Z"
   },
   {
    "duration": 24,
    "start_time": "2022-03-26T19:02:34.704Z"
   },
   {
    "duration": 6,
    "start_time": "2022-03-26T19:02:34.730Z"
   },
   {
    "duration": 22,
    "start_time": "2022-03-26T19:02:34.738Z"
   },
   {
    "duration": 21,
    "start_time": "2022-03-26T19:02:34.762Z"
   },
   {
    "duration": 37,
    "start_time": "2022-03-26T19:02:34.786Z"
   },
   {
    "duration": 9,
    "start_time": "2022-03-26T19:02:34.825Z"
   },
   {
    "duration": 22,
    "start_time": "2022-03-26T19:02:34.836Z"
   },
   {
    "duration": 8,
    "start_time": "2022-03-26T19:02:34.860Z"
   },
   {
    "duration": 59,
    "start_time": "2022-03-26T19:02:34.869Z"
   },
   {
    "duration": 23,
    "start_time": "2022-03-26T19:02:34.930Z"
   },
   {
    "duration": 20,
    "start_time": "2022-03-26T19:07:11.279Z"
   },
   {
    "duration": 428,
    "start_time": "2022-03-28T17:56:20.820Z"
   },
   {
    "duration": 424,
    "start_time": "2022-03-28T17:56:25.822Z"
   },
   {
    "duration": 62,
    "start_time": "2022-03-28T17:56:26.248Z"
   },
   {
    "duration": 18,
    "start_time": "2022-03-28T17:56:26.311Z"
   },
   {
    "duration": 17,
    "start_time": "2022-03-28T17:56:26.331Z"
   },
   {
    "duration": 16,
    "start_time": "2022-03-28T17:56:26.350Z"
   },
   {
    "duration": 12,
    "start_time": "2022-03-28T17:56:26.368Z"
   },
   {
    "duration": 10,
    "start_time": "2022-03-28T17:56:26.382Z"
   },
   {
    "duration": 13,
    "start_time": "2022-03-28T17:56:26.394Z"
   },
   {
    "duration": 18,
    "start_time": "2022-03-28T17:56:26.408Z"
   },
   {
    "duration": 40,
    "start_time": "2022-03-28T17:56:26.427Z"
   },
   {
    "duration": 12,
    "start_time": "2022-03-28T17:56:26.469Z"
   },
   {
    "duration": 17,
    "start_time": "2022-03-28T17:56:26.483Z"
   },
   {
    "duration": 20,
    "start_time": "2022-03-28T17:56:26.503Z"
   },
   {
    "duration": 19,
    "start_time": "2022-03-28T17:56:26.526Z"
   },
   {
    "duration": 14,
    "start_time": "2022-03-28T17:56:26.547Z"
   },
   {
    "duration": 29,
    "start_time": "2022-03-28T17:56:26.563Z"
   },
   {
    "duration": 25,
    "start_time": "2022-03-28T17:56:26.594Z"
   },
   {
    "duration": 18,
    "start_time": "2022-03-28T17:56:26.621Z"
   },
   {
    "duration": 36,
    "start_time": "2022-03-28T17:56:26.641Z"
   },
   {
    "duration": 18,
    "start_time": "2022-03-28T17:56:26.679Z"
   },
   {
    "duration": 33,
    "start_time": "2022-03-28T17:56:26.698Z"
   },
   {
    "duration": 18,
    "start_time": "2022-03-28T17:56:26.732Z"
   },
   {
    "duration": 30,
    "start_time": "2022-03-28T17:56:26.752Z"
   },
   {
    "duration": 7,
    "start_time": "2022-03-28T17:56:26.783Z"
   },
   {
    "duration": 10,
    "start_time": "2022-03-28T17:56:26.792Z"
   },
   {
    "duration": 18,
    "start_time": "2022-03-28T17:56:26.804Z"
   },
   {
    "duration": 31,
    "start_time": "2022-03-28T17:56:26.824Z"
   },
   {
    "duration": 36,
    "start_time": "2022-03-28T17:56:26.858Z"
   },
   {
    "duration": 18,
    "start_time": "2022-03-28T17:56:26.896Z"
   },
   {
    "duration": 26,
    "start_time": "2022-03-28T17:56:26.915Z"
   },
   {
    "duration": 21,
    "start_time": "2022-03-28T17:56:26.942Z"
   },
   {
    "duration": 9,
    "start_time": "2022-03-28T17:56:26.965Z"
   },
   {
    "duration": 15,
    "start_time": "2022-03-28T17:56:26.976Z"
   },
   {
    "duration": 25,
    "start_time": "2022-03-28T17:56:26.993Z"
   },
   {
    "duration": 17,
    "start_time": "2022-03-28T17:56:27.020Z"
   },
   {
    "duration": 6,
    "start_time": "2022-03-28T17:56:27.039Z"
   },
   {
    "duration": 18,
    "start_time": "2022-03-28T17:56:27.047Z"
   },
   {
    "duration": 29,
    "start_time": "2022-03-28T17:56:27.067Z"
   },
   {
    "duration": 40,
    "start_time": "2022-03-28T17:56:27.098Z"
   },
   {
    "duration": 29,
    "start_time": "2022-03-28T17:56:27.140Z"
   },
   {
    "duration": 8,
    "start_time": "2022-03-28T17:56:27.174Z"
   },
   {
    "duration": 35,
    "start_time": "2022-03-28T17:56:27.184Z"
   },
   {
    "duration": 34,
    "start_time": "2022-03-28T17:56:27.221Z"
   }
  ],
  "kernelspec": {
   "display_name": "Python 3 (ipykernel)",
   "language": "python",
   "name": "python3"
  },
  "language_info": {
   "codemirror_mode": {
    "name": "ipython",
    "version": 3
   },
   "file_extension": ".py",
   "mimetype": "text/x-python",
   "name": "python",
   "nbconvert_exporter": "python",
   "pygments_lexer": "ipython3",
   "version": "3.10.4"
  },
  "toc": {
   "base_numbering": 1,
   "nav_menu": {},
   "number_sections": true,
   "sideBar": true,
   "skip_h1_title": true,
   "title_cell": "Table of Contents",
   "title_sidebar": "Contents",
   "toc_cell": false,
   "toc_position": {},
   "toc_section_display": true,
   "toc_window_display": false
  }
 },
 "nbformat": 4,
 "nbformat_minor": 5
}
